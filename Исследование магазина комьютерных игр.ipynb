{
 "cells": [
  {
   "cell_type": "markdown",
   "metadata": {},
   "source": [
    "# Исследование магазина комьютерных игр"
   ]
  },
  {
   "cell_type": "markdown",
   "metadata": {},
   "source": [
    "### Описание проекта"
   ]
  },
  {
   "cell_type": "markdown",
   "metadata": {},
   "source": [
    "#### Краткое описание\n",
    "\n",
    "Вы работаете в интернет-магазине «Стримчик», который продаёт по всему миру компьютерные игры. Из открытых источников доступны исторические данные о продажах игр, оценки пользователей и экспертов, жанры и платформы (например, Xbox или PlayStation). \n",
    "Перед вами данные до 2016 года. Представим, что сейчас декабрь 2016 г., и вы планируете кампанию на 2017-й. Нужно отработать принцип работы с данными. Неважно, прогнозируете ли вы продажи на 2017 год по данным 2016-го или же 2027-й — по данным 2026 года.\n",
    "\n",
    "\n",
    "В наборе данных попадается аббревиатура ESRB (Entertainment Software Rating Board) — это ассоциация, определяющая возрастной рейтинг компьютерных игр. ESRB оценивает игровой контент и присваивает ему подходящую возрастную категорию, например, «Для взрослых», «Для детей младшего возраста» или «Для подростков».\n",
    "\n",
    "***Цель проекта:*** Нужно выявить определяющие успешность игры закономерности. Это позволит сделать ставку на потенциально популярный продукт и спланировать рекламные кампании.\n"
   ]
  },
  {
   "cell_type": "markdown",
   "metadata": {},
   "source": [
    "#### Описание данных\n",
    "\n",
    "* `Name` — название игры\n",
    "\n",
    "* `Platform` — платформа\n",
    "\n",
    "* `Year_of_Release` — год выпуска\n",
    "\n",
    "* `Genre` — жанр игры\n",
    "\n",
    "* `NA_sales` — продажи в Северной Америке (миллионы проданных копий)\n",
    "\n",
    "* `EU_sales` — продажи в Европе (миллионы проданных копий)\n",
    "\n",
    "* `JP_sales` — продажи в Японии (миллионы проданных копий)\n",
    "\n",
    "* `Other_sales` — продажи в других странах (миллионы проданных копий)\n",
    "\n",
    "* `Critic_Score` — оценка критиков (максимум 100)\n",
    "\n",
    "* `User_Score` — оценка пользователей (максимум 10)\n",
    "\n",
    "* `Rating` — рейтинг от организации ESRB (англ. Entertainment Software Rating Board). Эта ассоциация определяет рейтинг компьютерных игр и присваивает им подходящую возрастную категорию.\n",
    "\n",
    "\n",
    "Данные за 2016 год могут быть неполными."
   ]
  },
  {
   "cell_type": "markdown",
   "metadata": {},
   "source": [
    "#### План работы\n",
    "\n",
    "1. Открываем датасет, изучаем общую информацию. Ищем проблемные места.\n",
    "\n",
    "2. Предобработка данных. Убираем пропуски, дубликаты, аномалии где это возможно, меняем тип данных и добавляем новые столбцы где необходимо.\n",
    "\n",
    "3. Исследовательский анализ. Описываем и визуализируем информацию о продажах по платформам, регионам, жанрам. Составим портрет пользователя каждого региона. \n",
    "\n",
    "4. Проверка гипотез.\n",
    "\n",
    "5. Общий вывод."
   ]
  },
  {
   "cell_type": "markdown",
   "metadata": {},
   "source": [
    "### Проект"
   ]
  },
  {
   "cell_type": "markdown",
   "metadata": {},
   "source": [
    "#### Шаг 1. Загрузка данных"
   ]
  },
  {
   "cell_type": "code",
   "execution_count": 1,
   "metadata": {},
   "outputs": [],
   "source": [
    "# Импортируем необходимые для работы библиотеки.\n",
    "\n",
    "import pandas as pd\n",
    "import matplotlib.pyplot as plt\n",
    "from scipy import stats as st\n",
    "from math import isnan\n",
    "import os"
   ]
  },
  {
   "cell_type": "code",
   "execution_count": 2,
   "metadata": {},
   "outputs": [],
   "source": [
    "# Сохраняем исходный датафрейм в переменной games.\n",
    "\n",
    "pth1 = 'C:\\\\Users\\\\mpeat\\\\Desktop\\\\Practicum_Data_Science\\\\compilation_project\\\\games.csv'\n",
    "pth2 = 'https://code.s3.yandex.net/datasets/games.csv'\n",
    "    \n",
    "if os.path.exists(pth1):\n",
    "    games = pd.read_csv(pth1)\n",
    "else:\n",
    "    games = pd.read_csv(pth2)"
   ]
  },
  {
   "cell_type": "markdown",
   "metadata": {},
   "source": [
    "Выведем датафрейм и общую информацию."
   ]
  },
  {
   "cell_type": "code",
   "execution_count": 3,
   "metadata": {},
   "outputs": [
    {
     "data": {
      "text/html": [
       "<div>\n",
       "<style scoped>\n",
       "    .dataframe tbody tr th:only-of-type {\n",
       "        vertical-align: middle;\n",
       "    }\n",
       "\n",
       "    .dataframe tbody tr th {\n",
       "        vertical-align: top;\n",
       "    }\n",
       "\n",
       "    .dataframe thead th {\n",
       "        text-align: right;\n",
       "    }\n",
       "</style>\n",
       "<table border=\"1\" class=\"dataframe\">\n",
       "  <thead>\n",
       "    <tr style=\"text-align: right;\">\n",
       "      <th></th>\n",
       "      <th>Name</th>\n",
       "      <th>Platform</th>\n",
       "      <th>Year_of_Release</th>\n",
       "      <th>Genre</th>\n",
       "      <th>NA_sales</th>\n",
       "      <th>EU_sales</th>\n",
       "      <th>JP_sales</th>\n",
       "      <th>Other_sales</th>\n",
       "      <th>Critic_Score</th>\n",
       "      <th>User_Score</th>\n",
       "      <th>Rating</th>\n",
       "    </tr>\n",
       "  </thead>\n",
       "  <tbody>\n",
       "    <tr>\n",
       "      <th>0</th>\n",
       "      <td>Wii Sports</td>\n",
       "      <td>Wii</td>\n",
       "      <td>2006.0</td>\n",
       "      <td>Sports</td>\n",
       "      <td>41.36</td>\n",
       "      <td>28.96</td>\n",
       "      <td>3.77</td>\n",
       "      <td>8.45</td>\n",
       "      <td>76.0</td>\n",
       "      <td>8</td>\n",
       "      <td>E</td>\n",
       "    </tr>\n",
       "    <tr>\n",
       "      <th>1</th>\n",
       "      <td>Super Mario Bros.</td>\n",
       "      <td>NES</td>\n",
       "      <td>1985.0</td>\n",
       "      <td>Platform</td>\n",
       "      <td>29.08</td>\n",
       "      <td>3.58</td>\n",
       "      <td>6.81</td>\n",
       "      <td>0.77</td>\n",
       "      <td>NaN</td>\n",
       "      <td>NaN</td>\n",
       "      <td>NaN</td>\n",
       "    </tr>\n",
       "    <tr>\n",
       "      <th>2</th>\n",
       "      <td>Mario Kart Wii</td>\n",
       "      <td>Wii</td>\n",
       "      <td>2008.0</td>\n",
       "      <td>Racing</td>\n",
       "      <td>15.68</td>\n",
       "      <td>12.76</td>\n",
       "      <td>3.79</td>\n",
       "      <td>3.29</td>\n",
       "      <td>82.0</td>\n",
       "      <td>8.3</td>\n",
       "      <td>E</td>\n",
       "    </tr>\n",
       "    <tr>\n",
       "      <th>3</th>\n",
       "      <td>Wii Sports Resort</td>\n",
       "      <td>Wii</td>\n",
       "      <td>2009.0</td>\n",
       "      <td>Sports</td>\n",
       "      <td>15.61</td>\n",
       "      <td>10.93</td>\n",
       "      <td>3.28</td>\n",
       "      <td>2.95</td>\n",
       "      <td>80.0</td>\n",
       "      <td>8</td>\n",
       "      <td>E</td>\n",
       "    </tr>\n",
       "    <tr>\n",
       "      <th>4</th>\n",
       "      <td>Pokemon Red/Pokemon Blue</td>\n",
       "      <td>GB</td>\n",
       "      <td>1996.0</td>\n",
       "      <td>Role-Playing</td>\n",
       "      <td>11.27</td>\n",
       "      <td>8.89</td>\n",
       "      <td>10.22</td>\n",
       "      <td>1.00</td>\n",
       "      <td>NaN</td>\n",
       "      <td>NaN</td>\n",
       "      <td>NaN</td>\n",
       "    </tr>\n",
       "  </tbody>\n",
       "</table>\n",
       "</div>"
      ],
      "text/plain": [
       "                       Name Platform  Year_of_Release         Genre  NA_sales  \\\n",
       "0                Wii Sports      Wii           2006.0        Sports     41.36   \n",
       "1         Super Mario Bros.      NES           1985.0      Platform     29.08   \n",
       "2            Mario Kart Wii      Wii           2008.0        Racing     15.68   \n",
       "3         Wii Sports Resort      Wii           2009.0        Sports     15.61   \n",
       "4  Pokemon Red/Pokemon Blue       GB           1996.0  Role-Playing     11.27   \n",
       "\n",
       "   EU_sales  JP_sales  Other_sales  Critic_Score User_Score Rating  \n",
       "0     28.96      3.77         8.45          76.0          8      E  \n",
       "1      3.58      6.81         0.77           NaN        NaN    NaN  \n",
       "2     12.76      3.79         3.29          82.0        8.3      E  \n",
       "3     10.93      3.28         2.95          80.0          8      E  \n",
       "4      8.89     10.22         1.00           NaN        NaN    NaN  "
      ]
     },
     "execution_count": 3,
     "metadata": {},
     "output_type": "execute_result"
    }
   ],
   "source": [
    "games.head()"
   ]
  },
  {
   "cell_type": "code",
   "execution_count": 4,
   "metadata": {},
   "outputs": [
    {
     "name": "stdout",
     "output_type": "stream",
     "text": [
      "<class 'pandas.core.frame.DataFrame'>\n",
      "RangeIndex: 16715 entries, 0 to 16714\n",
      "Data columns (total 11 columns):\n",
      " #   Column           Non-Null Count  Dtype  \n",
      "---  ------           --------------  -----  \n",
      " 0   Name             16713 non-null  object \n",
      " 1   Platform         16715 non-null  object \n",
      " 2   Year_of_Release  16446 non-null  float64\n",
      " 3   Genre            16713 non-null  object \n",
      " 4   NA_sales         16715 non-null  float64\n",
      " 5   EU_sales         16715 non-null  float64\n",
      " 6   JP_sales         16715 non-null  float64\n",
      " 7   Other_sales      16715 non-null  float64\n",
      " 8   Critic_Score     8137 non-null   float64\n",
      " 9   User_Score       10014 non-null  object \n",
      " 10  Rating           9949 non-null   object \n",
      "dtypes: float64(6), object(5)\n",
      "memory usage: 1.4+ MB\n"
     ]
    }
   ],
   "source": [
    "games.info()"
   ]
  },
  {
   "cell_type": "markdown",
   "metadata": {},
   "source": [
    "**Вывод:** Предварительно изучив датафрейм обнаружены следующие проблемы:\n",
    "* название колонок имеет неудобный формат, лучше привести к \"змеиному\" регистру для удобства работы;\n",
    "* много пропусков в столбцах с оценками и возрастным рейтингом;\n",
    "* есть небольшое количество пропусков в столбцах с названием игры, жанром;\n",
    "* формат данных в колонке с годом релиза имеет вид `float`, лучше поменять на `int`;\n",
    "* формат данных с столбце `User_Score` имеет строковый вид."
   ]
  },
  {
   "cell_type": "markdown",
   "metadata": {},
   "source": [
    "#### Шаг 2. Предобработка данных"
   ]
  },
  {
   "cell_type": "code",
   "execution_count": 5,
   "metadata": {
    "scrolled": true
   },
   "outputs": [
    {
     "data": {
      "text/html": [
       "<div>\n",
       "<style scoped>\n",
       "    .dataframe tbody tr th:only-of-type {\n",
       "        vertical-align: middle;\n",
       "    }\n",
       "\n",
       "    .dataframe tbody tr th {\n",
       "        vertical-align: top;\n",
       "    }\n",
       "\n",
       "    .dataframe thead th {\n",
       "        text-align: right;\n",
       "    }\n",
       "</style>\n",
       "<table border=\"1\" class=\"dataframe\">\n",
       "  <thead>\n",
       "    <tr style=\"text-align: right;\">\n",
       "      <th></th>\n",
       "      <th>Name</th>\n",
       "      <th>Platform</th>\n",
       "      <th>Year_of_Release</th>\n",
       "      <th>Genre</th>\n",
       "      <th>NA_sales</th>\n",
       "      <th>EU_sales</th>\n",
       "      <th>JP_sales</th>\n",
       "      <th>Other_sales</th>\n",
       "      <th>Critic_Score</th>\n",
       "      <th>User_Score</th>\n",
       "      <th>Rating</th>\n",
       "    </tr>\n",
       "  </thead>\n",
       "  <tbody>\n",
       "    <tr>\n",
       "      <th>13548</th>\n",
       "      <td>Shaun the Sheep</td>\n",
       "      <td>DS</td>\n",
       "      <td>2008.0</td>\n",
       "      <td>Adventure</td>\n",
       "      <td>0.04</td>\n",
       "      <td>0.00</td>\n",
       "      <td>0.0</td>\n",
       "      <td>0.00</td>\n",
       "      <td>58.0</td>\n",
       "      <td>tbd</td>\n",
       "      <td>E</td>\n",
       "    </tr>\n",
       "    <tr>\n",
       "      <th>14931</th>\n",
       "      <td>The King of Fighters: Maximum Impact - Maniax</td>\n",
       "      <td>XB</td>\n",
       "      <td>NaN</td>\n",
       "      <td>Fighting</td>\n",
       "      <td>0.02</td>\n",
       "      <td>0.01</td>\n",
       "      <td>0.0</td>\n",
       "      <td>0.00</td>\n",
       "      <td>NaN</td>\n",
       "      <td>NaN</td>\n",
       "      <td>NaN</td>\n",
       "    </tr>\n",
       "    <tr>\n",
       "      <th>5782</th>\n",
       "      <td>Jonah Lomu Rugby Challenge</td>\n",
       "      <td>X360</td>\n",
       "      <td>2011.0</td>\n",
       "      <td>Sports</td>\n",
       "      <td>0.09</td>\n",
       "      <td>0.19</td>\n",
       "      <td>0.0</td>\n",
       "      <td>0.03</td>\n",
       "      <td>73.0</td>\n",
       "      <td>6</td>\n",
       "      <td>E</td>\n",
       "    </tr>\n",
       "  </tbody>\n",
       "</table>\n",
       "</div>"
      ],
      "text/plain": [
       "                                                Name Platform  \\\n",
       "13548                                Shaun the Sheep       DS   \n",
       "14931  The King of Fighters: Maximum Impact - Maniax       XB   \n",
       "5782                      Jonah Lomu Rugby Challenge     X360   \n",
       "\n",
       "       Year_of_Release      Genre  NA_sales  EU_sales  JP_sales  Other_sales  \\\n",
       "13548           2008.0  Adventure      0.04      0.00       0.0         0.00   \n",
       "14931              NaN   Fighting      0.02      0.01       0.0         0.00   \n",
       "5782            2011.0     Sports      0.09      0.19       0.0         0.03   \n",
       "\n",
       "       Critic_Score User_Score Rating  \n",
       "13548          58.0        tbd      E  \n",
       "14931           NaN        NaN    NaN  \n",
       "5782           73.0          6      E  "
      ]
     },
     "execution_count": 5,
     "metadata": {},
     "output_type": "execute_result"
    }
   ],
   "source": [
    "games.sample(3)"
   ]
  },
  {
   "cell_type": "code",
   "execution_count": 6,
   "metadata": {},
   "outputs": [],
   "source": [
    "games.columns = games.columns.str.lower() # приведем названия колонок к нижнему регистру"
   ]
  },
  {
   "cell_type": "code",
   "execution_count": 7,
   "metadata": {},
   "outputs": [
    {
     "data": {
      "text/html": [
       "<div>\n",
       "<style scoped>\n",
       "    .dataframe tbody tr th:only-of-type {\n",
       "        vertical-align: middle;\n",
       "    }\n",
       "\n",
       "    .dataframe tbody tr th {\n",
       "        vertical-align: top;\n",
       "    }\n",
       "\n",
       "    .dataframe thead th {\n",
       "        text-align: right;\n",
       "    }\n",
       "</style>\n",
       "<table border=\"1\" class=\"dataframe\">\n",
       "  <thead>\n",
       "    <tr style=\"text-align: right;\">\n",
       "      <th></th>\n",
       "      <th>name</th>\n",
       "      <th>platform</th>\n",
       "      <th>year_of_release</th>\n",
       "      <th>genre</th>\n",
       "      <th>na_sales</th>\n",
       "      <th>eu_sales</th>\n",
       "      <th>jp_sales</th>\n",
       "      <th>other_sales</th>\n",
       "      <th>critic_score</th>\n",
       "      <th>user_score</th>\n",
       "      <th>rating</th>\n",
       "    </tr>\n",
       "  </thead>\n",
       "  <tbody>\n",
       "    <tr>\n",
       "      <th>183</th>\n",
       "      <td>Madden NFL 2004</td>\n",
       "      <td>PS2</td>\n",
       "      <td>NaN</td>\n",
       "      <td>Sports</td>\n",
       "      <td>4.26</td>\n",
       "      <td>0.26</td>\n",
       "      <td>0.01</td>\n",
       "      <td>0.71</td>\n",
       "      <td>94.0</td>\n",
       "      <td>8.5</td>\n",
       "      <td>E</td>\n",
       "    </tr>\n",
       "    <tr>\n",
       "      <th>377</th>\n",
       "      <td>FIFA Soccer 2004</td>\n",
       "      <td>PS2</td>\n",
       "      <td>NaN</td>\n",
       "      <td>Sports</td>\n",
       "      <td>0.59</td>\n",
       "      <td>2.36</td>\n",
       "      <td>0.04</td>\n",
       "      <td>0.51</td>\n",
       "      <td>84.0</td>\n",
       "      <td>6.4</td>\n",
       "      <td>E</td>\n",
       "    </tr>\n",
       "    <tr>\n",
       "      <th>456</th>\n",
       "      <td>LEGO Batman: The Videogame</td>\n",
       "      <td>Wii</td>\n",
       "      <td>NaN</td>\n",
       "      <td>Action</td>\n",
       "      <td>1.80</td>\n",
       "      <td>0.97</td>\n",
       "      <td>0.00</td>\n",
       "      <td>0.29</td>\n",
       "      <td>74.0</td>\n",
       "      <td>7.9</td>\n",
       "      <td>E10+</td>\n",
       "    </tr>\n",
       "    <tr>\n",
       "      <th>475</th>\n",
       "      <td>wwe Smackdown vs. Raw 2006</td>\n",
       "      <td>PS2</td>\n",
       "      <td>NaN</td>\n",
       "      <td>Fighting</td>\n",
       "      <td>1.57</td>\n",
       "      <td>1.02</td>\n",
       "      <td>0.00</td>\n",
       "      <td>0.41</td>\n",
       "      <td>NaN</td>\n",
       "      <td>NaN</td>\n",
       "      <td>NaN</td>\n",
       "    </tr>\n",
       "    <tr>\n",
       "      <th>609</th>\n",
       "      <td>Space Invaders</td>\n",
       "      <td>2600</td>\n",
       "      <td>NaN</td>\n",
       "      <td>Shooter</td>\n",
       "      <td>2.36</td>\n",
       "      <td>0.14</td>\n",
       "      <td>0.00</td>\n",
       "      <td>0.03</td>\n",
       "      <td>NaN</td>\n",
       "      <td>NaN</td>\n",
       "      <td>NaN</td>\n",
       "    </tr>\n",
       "    <tr>\n",
       "      <th>...</th>\n",
       "      <td>...</td>\n",
       "      <td>...</td>\n",
       "      <td>...</td>\n",
       "      <td>...</td>\n",
       "      <td>...</td>\n",
       "      <td>...</td>\n",
       "      <td>...</td>\n",
       "      <td>...</td>\n",
       "      <td>...</td>\n",
       "      <td>...</td>\n",
       "      <td>...</td>\n",
       "    </tr>\n",
       "    <tr>\n",
       "      <th>16373</th>\n",
       "      <td>PDC World Championship Darts 2008</td>\n",
       "      <td>PSP</td>\n",
       "      <td>NaN</td>\n",
       "      <td>Sports</td>\n",
       "      <td>0.01</td>\n",
       "      <td>0.00</td>\n",
       "      <td>0.00</td>\n",
       "      <td>0.00</td>\n",
       "      <td>43.0</td>\n",
       "      <td>tbd</td>\n",
       "      <td>E10+</td>\n",
       "    </tr>\n",
       "    <tr>\n",
       "      <th>16405</th>\n",
       "      <td>Freaky Flyers</td>\n",
       "      <td>GC</td>\n",
       "      <td>NaN</td>\n",
       "      <td>Racing</td>\n",
       "      <td>0.01</td>\n",
       "      <td>0.00</td>\n",
       "      <td>0.00</td>\n",
       "      <td>0.00</td>\n",
       "      <td>69.0</td>\n",
       "      <td>6.5</td>\n",
       "      <td>T</td>\n",
       "    </tr>\n",
       "    <tr>\n",
       "      <th>16448</th>\n",
       "      <td>Inversion</td>\n",
       "      <td>PC</td>\n",
       "      <td>NaN</td>\n",
       "      <td>Shooter</td>\n",
       "      <td>0.01</td>\n",
       "      <td>0.00</td>\n",
       "      <td>0.00</td>\n",
       "      <td>0.00</td>\n",
       "      <td>59.0</td>\n",
       "      <td>6.7</td>\n",
       "      <td>M</td>\n",
       "    </tr>\n",
       "    <tr>\n",
       "      <th>16458</th>\n",
       "      <td>Hakuouki: Shinsengumi Kitan</td>\n",
       "      <td>PS3</td>\n",
       "      <td>NaN</td>\n",
       "      <td>Adventure</td>\n",
       "      <td>0.01</td>\n",
       "      <td>0.00</td>\n",
       "      <td>0.00</td>\n",
       "      <td>0.00</td>\n",
       "      <td>NaN</td>\n",
       "      <td>NaN</td>\n",
       "      <td>NaN</td>\n",
       "    </tr>\n",
       "    <tr>\n",
       "      <th>16522</th>\n",
       "      <td>Virtua Quest</td>\n",
       "      <td>GC</td>\n",
       "      <td>NaN</td>\n",
       "      <td>Role-Playing</td>\n",
       "      <td>0.01</td>\n",
       "      <td>0.00</td>\n",
       "      <td>0.00</td>\n",
       "      <td>0.00</td>\n",
       "      <td>55.0</td>\n",
       "      <td>5.5</td>\n",
       "      <td>T</td>\n",
       "    </tr>\n",
       "  </tbody>\n",
       "</table>\n",
       "<p>269 rows × 11 columns</p>\n",
       "</div>"
      ],
      "text/plain": [
       "                                    name platform  year_of_release  \\\n",
       "183                      Madden NFL 2004      PS2              NaN   \n",
       "377                     FIFA Soccer 2004      PS2              NaN   \n",
       "456           LEGO Batman: The Videogame      Wii              NaN   \n",
       "475           wwe Smackdown vs. Raw 2006      PS2              NaN   \n",
       "609                       Space Invaders     2600              NaN   \n",
       "...                                  ...      ...              ...   \n",
       "16373  PDC World Championship Darts 2008      PSP              NaN   \n",
       "16405                      Freaky Flyers       GC              NaN   \n",
       "16448                          Inversion       PC              NaN   \n",
       "16458        Hakuouki: Shinsengumi Kitan      PS3              NaN   \n",
       "16522                       Virtua Quest       GC              NaN   \n",
       "\n",
       "              genre  na_sales  eu_sales  jp_sales  other_sales  critic_score  \\\n",
       "183          Sports      4.26      0.26      0.01         0.71          94.0   \n",
       "377          Sports      0.59      2.36      0.04         0.51          84.0   \n",
       "456          Action      1.80      0.97      0.00         0.29          74.0   \n",
       "475        Fighting      1.57      1.02      0.00         0.41           NaN   \n",
       "609         Shooter      2.36      0.14      0.00         0.03           NaN   \n",
       "...             ...       ...       ...       ...          ...           ...   \n",
       "16373        Sports      0.01      0.00      0.00         0.00          43.0   \n",
       "16405        Racing      0.01      0.00      0.00         0.00          69.0   \n",
       "16448       Shooter      0.01      0.00      0.00         0.00          59.0   \n",
       "16458     Adventure      0.01      0.00      0.00         0.00           NaN   \n",
       "16522  Role-Playing      0.01      0.00      0.00         0.00          55.0   \n",
       "\n",
       "      user_score rating  \n",
       "183          8.5      E  \n",
       "377          6.4      E  \n",
       "456          7.9   E10+  \n",
       "475          NaN    NaN  \n",
       "609          NaN    NaN  \n",
       "...          ...    ...  \n",
       "16373        tbd   E10+  \n",
       "16405        6.5      T  \n",
       "16448        6.7      M  \n",
       "16458        NaN    NaN  \n",
       "16522        5.5      T  \n",
       "\n",
       "[269 rows x 11 columns]"
      ]
     },
     "execution_count": 7,
     "metadata": {},
     "output_type": "execute_result"
    }
   ],
   "source": [
    "games[games['year_of_release'].isna()] # смотрим пропуски в столбцах с годом релиза"
   ]
  },
  {
   "cell_type": "markdown",
   "metadata": {},
   "source": [
    "Имеем **269** пропусков. Довольно часто одна и та же игра может выходить на разных платформах. Посмотрим, есть ли такие случаи."
   ]
  },
  {
   "cell_type": "code",
   "execution_count": 8,
   "metadata": {},
   "outputs": [
    {
     "data": {
      "text/html": [
       "<div>\n",
       "<style scoped>\n",
       "    .dataframe tbody tr th:only-of-type {\n",
       "        vertical-align: middle;\n",
       "    }\n",
       "\n",
       "    .dataframe tbody tr th {\n",
       "        vertical-align: top;\n",
       "    }\n",
       "\n",
       "    .dataframe thead th {\n",
       "        text-align: right;\n",
       "    }\n",
       "</style>\n",
       "<table border=\"1\" class=\"dataframe\">\n",
       "  <thead>\n",
       "    <tr style=\"text-align: right;\">\n",
       "      <th></th>\n",
       "      <th>name</th>\n",
       "      <th>platform</th>\n",
       "      <th>year_of_release</th>\n",
       "      <th>genre</th>\n",
       "      <th>na_sales</th>\n",
       "      <th>eu_sales</th>\n",
       "      <th>jp_sales</th>\n",
       "      <th>other_sales</th>\n",
       "      <th>critic_score</th>\n",
       "      <th>user_score</th>\n",
       "      <th>rating</th>\n",
       "    </tr>\n",
       "  </thead>\n",
       "  <tbody>\n",
       "    <tr>\n",
       "      <th>183</th>\n",
       "      <td>Madden NFL 2004</td>\n",
       "      <td>PS2</td>\n",
       "      <td>NaN</td>\n",
       "      <td>Sports</td>\n",
       "      <td>4.26</td>\n",
       "      <td>0.26</td>\n",
       "      <td>0.01</td>\n",
       "      <td>0.71</td>\n",
       "      <td>94.0</td>\n",
       "      <td>8.5</td>\n",
       "      <td>E</td>\n",
       "    </tr>\n",
       "    <tr>\n",
       "      <th>1881</th>\n",
       "      <td>Madden NFL 2004</td>\n",
       "      <td>XB</td>\n",
       "      <td>2003.0</td>\n",
       "      <td>Sports</td>\n",
       "      <td>1.02</td>\n",
       "      <td>0.02</td>\n",
       "      <td>0.00</td>\n",
       "      <td>0.05</td>\n",
       "      <td>92.0</td>\n",
       "      <td>8.3</td>\n",
       "      <td>E</td>\n",
       "    </tr>\n",
       "    <tr>\n",
       "      <th>3889</th>\n",
       "      <td>Madden NFL 2004</td>\n",
       "      <td>GC</td>\n",
       "      <td>2003.0</td>\n",
       "      <td>Sports</td>\n",
       "      <td>0.40</td>\n",
       "      <td>0.10</td>\n",
       "      <td>0.00</td>\n",
       "      <td>0.01</td>\n",
       "      <td>94.0</td>\n",
       "      <td>7.7</td>\n",
       "      <td>E</td>\n",
       "    </tr>\n",
       "    <tr>\n",
       "      <th>5708</th>\n",
       "      <td>Madden NFL 2004</td>\n",
       "      <td>GBA</td>\n",
       "      <td>2003.0</td>\n",
       "      <td>Sports</td>\n",
       "      <td>0.22</td>\n",
       "      <td>0.08</td>\n",
       "      <td>0.00</td>\n",
       "      <td>0.01</td>\n",
       "      <td>70.0</td>\n",
       "      <td>6.6</td>\n",
       "      <td>E</td>\n",
       "    </tr>\n",
       "  </tbody>\n",
       "</table>\n",
       "</div>"
      ],
      "text/plain": [
       "                 name platform  year_of_release   genre  na_sales  eu_sales  \\\n",
       "183   Madden NFL 2004      PS2              NaN  Sports      4.26      0.26   \n",
       "1881  Madden NFL 2004       XB           2003.0  Sports      1.02      0.02   \n",
       "3889  Madden NFL 2004       GC           2003.0  Sports      0.40      0.10   \n",
       "5708  Madden NFL 2004      GBA           2003.0  Sports      0.22      0.08   \n",
       "\n",
       "      jp_sales  other_sales  critic_score user_score rating  \n",
       "183       0.01         0.71          94.0        8.5      E  \n",
       "1881      0.00         0.05          92.0        8.3      E  \n",
       "3889      0.00         0.01          94.0        7.7      E  \n",
       "5708      0.00         0.01          70.0        6.6      E  "
      ]
     },
     "execution_count": 8,
     "metadata": {},
     "output_type": "execute_result"
    }
   ],
   "source": [
    "games.query(f'name == \"Madden NFL 2004\"')"
   ]
  },
  {
   "cell_type": "markdown",
   "metadata": {},
   "source": [
    "Вбив в запрос первую же игру, видим что *Madden NFL 2004* выходила на 4 платформах. И на всех указан 2003 год, кроме платформы PS2.\n",
    "\n",
    "Попробуем заполнить пустые значения, взяв значения года выпуска из других платформ."
   ]
  },
  {
   "cell_type": "code",
   "execution_count": 9,
   "metadata": {},
   "outputs": [],
   "source": [
    "# функция заполнения пропусков года релиза\n",
    "\n",
    "games['year_of_release'] = (games[['name', 'year_of_release']]\n",
    "                            .apply(lambda x: x['year_of_release'] if not isnan(x['year_of_release'])\n",
    "                                          else games.query(f'name == \"{x[\"name\"]}\"')['year_of_release'].min(), axis=1))\n"
   ]
  },
  {
   "cell_type": "code",
   "execution_count": 10,
   "metadata": {},
   "outputs": [
    {
     "data": {
      "text/plain": [
       "146"
      ]
     },
     "execution_count": 10,
     "metadata": {},
     "output_type": "execute_result"
    }
   ],
   "source": [
    "games['year_of_release'].isna().sum() # смотрим количество пропусков"
   ]
  },
  {
   "cell_type": "markdown",
   "metadata": {},
   "source": [
    "Количество пустых строк с годом релиза снизилось с **269** до **146**. Удалось заполнить **123** строки. "
   ]
  },
  {
   "cell_type": "code",
   "execution_count": 11,
   "metadata": {},
   "outputs": [
    {
     "name": "stdout",
     "output_type": "stream",
     "text": [
      "<class 'pandas.core.frame.DataFrame'>\n",
      "RangeIndex: 16715 entries, 0 to 16714\n",
      "Data columns (total 11 columns):\n",
      " #   Column           Non-Null Count  Dtype  \n",
      "---  ------           --------------  -----  \n",
      " 0   name             16713 non-null  object \n",
      " 1   platform         16715 non-null  object \n",
      " 2   year_of_release  16569 non-null  float64\n",
      " 3   genre            16713 non-null  object \n",
      " 4   na_sales         16715 non-null  float64\n",
      " 5   eu_sales         16715 non-null  float64\n",
      " 6   jp_sales         16715 non-null  float64\n",
      " 7   other_sales      16715 non-null  float64\n",
      " 8   critic_score     8137 non-null   float64\n",
      " 9   user_score       10014 non-null  object \n",
      " 10  rating           9949 non-null   object \n",
      "dtypes: float64(6), object(5)\n",
      "memory usage: 1.4+ MB\n"
     ]
    }
   ],
   "source": [
    "games.info()"
   ]
  },
  {
   "cell_type": "markdown",
   "metadata": {},
   "source": [
    "Оставшиеся 146 строк с пропусками года релиза можно удалить. Это менее 1% данных. Также удалим по 2 строки с пропусками в названии игры и ее жанре."
   ]
  },
  {
   "cell_type": "code",
   "execution_count": 12,
   "metadata": {},
   "outputs": [],
   "source": [
    "games = games.dropna(subset=['year_of_release', 'name', 'genre']) # удаляем строки с пропусками"
   ]
  },
  {
   "cell_type": "code",
   "execution_count": 13,
   "metadata": {},
   "outputs": [],
   "source": [
    "games = games.reset_index(drop=True) # сбрасываем индексы"
   ]
  },
  {
   "cell_type": "code",
   "execution_count": 14,
   "metadata": {},
   "outputs": [],
   "source": [
    "games['year_of_release'] = games['year_of_release'].astype('int') # преобразуем год выпуска в целочисленный тип"
   ]
  },
  {
   "cell_type": "markdown",
   "metadata": {},
   "source": [
    "Столбец `user_score` имеет формат данных **`object`**. Посмотрим на этот столбец поподробнее."
   ]
  },
  {
   "cell_type": "code",
   "execution_count": 15,
   "metadata": {},
   "outputs": [
    {
     "data": {
      "text/plain": [
       "tbd    2394\n",
       "7.8     324\n",
       "8       288\n",
       "8.2     279\n",
       "8.3     253\n",
       "       ... \n",
       "0.2       2\n",
       "0.5       2\n",
       "0.7       2\n",
       "9.7       1\n",
       "0         1\n",
       "Name: user_score, Length: 96, dtype: int64"
      ]
     },
     "execution_count": 15,
     "metadata": {},
     "output_type": "execute_result"
    }
   ],
   "source": [
    "games['user_score'].value_counts()"
   ]
  },
  {
   "cell_type": "markdown",
   "metadata": {},
   "source": [
    "Самое распространенное значение *tbd* (от англ. \"to be determined\" - будет определено). Будет определено, значит не определено, что равносильно NaN."
   ]
  },
  {
   "cell_type": "code",
   "execution_count": 16,
   "metadata": {},
   "outputs": [],
   "source": [
    "games['user_score'] = games['user_score'].replace('tbd', float('nan')) # меняем tbd на NaN"
   ]
  },
  {
   "cell_type": "code",
   "execution_count": 17,
   "metadata": {},
   "outputs": [],
   "source": [
    "games['user_score'] = games['user_score'].astype('float') # выставляем формат float в оценках пользователей"
   ]
  },
  {
   "cell_type": "markdown",
   "metadata": {},
   "source": [
    "По аналогии с годом релиза, пропуски с колонках с возрастным рейтингом можно заполнить значениями этих же игр из других платформ."
   ]
  },
  {
   "cell_type": "code",
   "execution_count": 18,
   "metadata": {},
   "outputs": [
    {
     "data": {
      "text/plain": [
       "6699"
      ]
     },
     "execution_count": 18,
     "metadata": {},
     "output_type": "execute_result"
    }
   ],
   "source": [
    "games['rating'].isna().sum() # пропусков до заполнения"
   ]
  },
  {
   "cell_type": "code",
   "execution_count": 19,
   "metadata": {},
   "outputs": [
    {
     "data": {
      "text/plain": [
       "6262"
      ]
     },
     "execution_count": 19,
     "metadata": {},
     "output_type": "execute_result"
    }
   ],
   "source": [
    "# функция заполнения пропусков возрастного рейтинга 'rating'\n",
    "\n",
    "games['rating'] = (games[['name', 'rating']]\n",
    "                            .apply(lambda x: x['rating'] if type(x['rating']) == str\n",
    "                                          else games.query(f'name == \"{x[\"name\"]}\"')['rating'].asof(games['rating'].index[-1]), axis=1))\n",
    "games['rating'].isna().sum()"
   ]
  },
  {
   "cell_type": "markdown",
   "metadata": {},
   "source": [
    "Еще **437** пропусков заполнили.\n",
    "\n",
    "Оставшиеся пропуски никак заполнить не получится, поэтому оставим их как есть."
   ]
  },
  {
   "cell_type": "code",
   "execution_count": 20,
   "metadata": {},
   "outputs": [
    {
     "data": {
      "text/plain": [
       "0"
      ]
     },
     "execution_count": 20,
     "metadata": {},
     "output_type": "execute_result"
    }
   ],
   "source": [
    "games.duplicated().sum() # смотрим количество дубликатов"
   ]
  },
  {
   "cell_type": "code",
   "execution_count": 21,
   "metadata": {},
   "outputs": [],
   "source": [
    "# Добавим суммарные продажи total_sales\n",
    "\n",
    "games['total_sales'] = games['na_sales'] + games['eu_sales'] + games['jp_sales'] + games['other_sales']"
   ]
  },
  {
   "cell_type": "code",
   "execution_count": 22,
   "metadata": {},
   "outputs": [
    {
     "name": "stdout",
     "output_type": "stream",
     "text": [
      "<class 'pandas.core.frame.DataFrame'>\n",
      "RangeIndex: 16567 entries, 0 to 16566\n",
      "Data columns (total 12 columns):\n",
      " #   Column           Non-Null Count  Dtype  \n",
      "---  ------           --------------  -----  \n",
      " 0   name             16567 non-null  object \n",
      " 1   platform         16567 non-null  object \n",
      " 2   year_of_release  16567 non-null  int64  \n",
      " 3   genre            16567 non-null  object \n",
      " 4   na_sales         16567 non-null  float64\n",
      " 5   eu_sales         16567 non-null  float64\n",
      " 6   jp_sales         16567 non-null  float64\n",
      " 7   other_sales      16567 non-null  float64\n",
      " 8   critic_score     8075 non-null   float64\n",
      " 9   user_score       7540 non-null   float64\n",
      " 10  rating           10305 non-null  object \n",
      " 11  total_sales      16567 non-null  float64\n",
      "dtypes: float64(7), int64(1), object(4)\n",
      "memory usage: 1.5+ MB\n"
     ]
    },
    {
     "data": {
      "text/html": [
       "<div>\n",
       "<style scoped>\n",
       "    .dataframe tbody tr th:only-of-type {\n",
       "        vertical-align: middle;\n",
       "    }\n",
       "\n",
       "    .dataframe tbody tr th {\n",
       "        vertical-align: top;\n",
       "    }\n",
       "\n",
       "    .dataframe thead th {\n",
       "        text-align: right;\n",
       "    }\n",
       "</style>\n",
       "<table border=\"1\" class=\"dataframe\">\n",
       "  <thead>\n",
       "    <tr style=\"text-align: right;\">\n",
       "      <th></th>\n",
       "      <th>name</th>\n",
       "      <th>platform</th>\n",
       "      <th>year_of_release</th>\n",
       "      <th>genre</th>\n",
       "      <th>na_sales</th>\n",
       "      <th>eu_sales</th>\n",
       "      <th>jp_sales</th>\n",
       "      <th>other_sales</th>\n",
       "      <th>critic_score</th>\n",
       "      <th>user_score</th>\n",
       "      <th>rating</th>\n",
       "      <th>total_sales</th>\n",
       "    </tr>\n",
       "  </thead>\n",
       "  <tbody>\n",
       "    <tr>\n",
       "      <th>5032</th>\n",
       "      <td>Super Dragon Ball Z</td>\n",
       "      <td>PS2</td>\n",
       "      <td>2006</td>\n",
       "      <td>Fighting</td>\n",
       "      <td>0.09</td>\n",
       "      <td>0.07</td>\n",
       "      <td>0.19</td>\n",
       "      <td>0.02</td>\n",
       "      <td>72.0</td>\n",
       "      <td>5.8</td>\n",
       "      <td>T</td>\n",
       "      <td>0.37</td>\n",
       "    </tr>\n",
       "    <tr>\n",
       "      <th>3130</th>\n",
       "      <td>Rayman 2: The Great Escape</td>\n",
       "      <td>N64</td>\n",
       "      <td>1999</td>\n",
       "      <td>Platform</td>\n",
       "      <td>0.40</td>\n",
       "      <td>0.22</td>\n",
       "      <td>0.00</td>\n",
       "      <td>0.02</td>\n",
       "      <td>NaN</td>\n",
       "      <td>NaN</td>\n",
       "      <td>NaN</td>\n",
       "      <td>0.64</td>\n",
       "    </tr>\n",
       "    <tr>\n",
       "      <th>12456</th>\n",
       "      <td>Olympic Hockey 98</td>\n",
       "      <td>N64</td>\n",
       "      <td>1998</td>\n",
       "      <td>Sports</td>\n",
       "      <td>0.05</td>\n",
       "      <td>0.01</td>\n",
       "      <td>0.00</td>\n",
       "      <td>0.00</td>\n",
       "      <td>NaN</td>\n",
       "      <td>NaN</td>\n",
       "      <td>NaN</td>\n",
       "      <td>0.06</td>\n",
       "    </tr>\n",
       "    <tr>\n",
       "      <th>4793</th>\n",
       "      <td>The Urbz: Sims in the City</td>\n",
       "      <td>GC</td>\n",
       "      <td>2004</td>\n",
       "      <td>Simulation</td>\n",
       "      <td>0.24</td>\n",
       "      <td>0.14</td>\n",
       "      <td>0.00</td>\n",
       "      <td>0.02</td>\n",
       "      <td>73.0</td>\n",
       "      <td>8.4</td>\n",
       "      <td>T</td>\n",
       "      <td>0.40</td>\n",
       "    </tr>\n",
       "    <tr>\n",
       "      <th>13473</th>\n",
       "      <td>B's-LOG Party♪</td>\n",
       "      <td>PSP</td>\n",
       "      <td>2010</td>\n",
       "      <td>Adventure</td>\n",
       "      <td>0.00</td>\n",
       "      <td>0.00</td>\n",
       "      <td>0.04</td>\n",
       "      <td>0.00</td>\n",
       "      <td>NaN</td>\n",
       "      <td>NaN</td>\n",
       "      <td>NaN</td>\n",
       "      <td>0.04</td>\n",
       "    </tr>\n",
       "  </tbody>\n",
       "</table>\n",
       "</div>"
      ],
      "text/plain": [
       "                             name platform  year_of_release       genre  \\\n",
       "5032          Super Dragon Ball Z      PS2             2006    Fighting   \n",
       "3130   Rayman 2: The Great Escape      N64             1999    Platform   \n",
       "12456           Olympic Hockey 98      N64             1998      Sports   \n",
       "4793   The Urbz: Sims in the City       GC             2004  Simulation   \n",
       "13473              B's-LOG Party♪      PSP             2010   Adventure   \n",
       "\n",
       "       na_sales  eu_sales  jp_sales  other_sales  critic_score  user_score  \\\n",
       "5032       0.09      0.07      0.19         0.02          72.0         5.8   \n",
       "3130       0.40      0.22      0.00         0.02           NaN         NaN   \n",
       "12456      0.05      0.01      0.00         0.00           NaN         NaN   \n",
       "4793       0.24      0.14      0.00         0.02          73.0         8.4   \n",
       "13473      0.00      0.00      0.04         0.00           NaN         NaN   \n",
       "\n",
       "      rating  total_sales  \n",
       "5032       T         0.37  \n",
       "3130     NaN         0.64  \n",
       "12456    NaN         0.06  \n",
       "4793       T         0.40  \n",
       "13473    NaN         0.04  "
      ]
     },
     "execution_count": 22,
     "metadata": {},
     "output_type": "execute_result"
    }
   ],
   "source": [
    "# Смотрим итоговый результат\n",
    "\n",
    "games.info()\n",
    "games.sample(5)"
   ]
  },
  {
   "cell_type": "markdown",
   "metadata": {},
   "source": [
    "**Вывод:** В ходе предобработки данных были проведены следующие мероприятия:\n",
    "* названия столбцов приведены к \"змеиному_регистру\";\n",
    "* столбец `year_of_release` привели в целочисленный тип **`int`**, заполнили примерно половину пропусков, оставшиеся 146 пустых строк удалили;\n",
    "* было удалено еще 2 строки с попусками в столбцах `name` и `genre`;\n",
    "* избавились от аббревиатуры *tbd*(\"будет определено\") в столбце `user_score`, заменив на NaN, привели столбец к числовому формату **`float`**;\n",
    "* заполнили примерно 400 пропусков в столбце `rating` аналогичным образом, как в столбце `year_of_release`;\n",
    "* добавили столбец с суммарными продажами `total_sales`, сложив все столбцы `*_sales`.\n",
    "\n",
    "В конечном результате из **16715** строк осталось **16567** что составляет **99.1%** от общего числа. Также осталось очень много пропусков(порядка половины) в столбцах с оценками, и возрастным рейтингом. Их оставили как есть."
   ]
  },
  {
   "cell_type": "markdown",
   "metadata": {},
   "source": [
    "#### Шаг 3. Исследовательский анализ данных"
   ]
  },
  {
   "cell_type": "markdown",
   "metadata": {},
   "source": [
    "##### Количество игр по годам"
   ]
  },
  {
   "cell_type": "code",
   "execution_count": 23,
   "metadata": {},
   "outputs": [
    {
     "data": {
      "image/png": "[encoded data removed]",
      "text/plain": [
       "<Figure size 432x288 with 1 Axes>"
      ]
     },
     "metadata": {
      "needs_background": "light"
     },
     "output_type": "display_data"
    }
   ],
   "source": [
    "# Посмотрим сколько игр выпускалось в разные годы\n",
    "\n",
    "games['year_of_release'].hist(bins=37)\n",
    "plt.title('Количество игр в разные годы')\n",
    "plt.xlabel('year_of_release')\n",
    "plt.ylabel('count')\n",
    "None"
   ]
  },
  {
   "cell_type": "markdown",
   "metadata": {},
   "source": [
    "До 1990 года выпускалось мало игр, далее видим рост индустрии."
   ]
  },
  {
   "cell_type": "markdown",
   "metadata": {},
   "source": [
    "##### Продажи по платформам"
   ]
  },
  {
   "cell_type": "code",
   "execution_count": 24,
   "metadata": {},
   "outputs": [
    {
     "data": {
      "image/png": "[encoded data removed]",
      "text/plain": [
       "<Figure size 432x288 with 1 Axes>"
      ]
     },
     "metadata": {
      "needs_background": "light"
     },
     "output_type": "display_data"
    }
   ],
   "source": [
    "# Объем продаж по платформам за все время\n",
    "\n",
    "total_sales_platform = (\n",
    "    games\n",
    "    .pivot_table(index='platform', values='total_sales', aggfunc='sum')\n",
    "    .sort_values(by='total_sales')\n",
    ")\n",
    "\n",
    "total_sales_platform.plot.barh(title = 'Объем продаж по платформам за все время')\n",
    "None"
   ]
  },
  {
   "cell_type": "markdown",
   "metadata": {},
   "source": [
    "PS2 самая популярная платформа с большим отрывом.\n",
    "\n",
    "Посмотрим объем продаж за каждый год в первом десятке."
   ]
  },
  {
   "cell_type": "code",
   "execution_count": 25,
   "metadata": {},
   "outputs": [
    {
     "data": {
      "text/plain": [
       "Index(['PC', 'PSP', 'GBA', 'PS4', 'PS', 'DS', 'Wii', 'PS3', 'X360', 'PS2'], dtype='object', name='platform')"
      ]
     },
     "execution_count": 25,
     "metadata": {},
     "output_type": "execute_result"
    }
   ],
   "source": [
    "total_sales_platform.tail(10).index # первая десятка"
   ]
  },
  {
   "cell_type": "code",
   "execution_count": 26,
   "metadata": {},
   "outputs": [
    {
     "name": "stdout",
     "output_type": "stream",
     "text": [
      "время жизни каждой платформы [3, 7, 9, 10, 11, 11, 14, 25, 28, 31]\n"
     ]
    },
    {
     "data": {
      "image/png": "[encoded data removed]",
      "text/plain": [
       "<Figure size 432x144 with 1 Axes>"
      ]
     },
     "metadata": {
      "needs_background": "light"
     },
     "output_type": "display_data"
    },
    {
     "data": {
      "image/png": "[encoded data removed]",
      "text/plain": [
       "<Figure size 432x144 with 1 Axes>"
      ]
     },
     "metadata": {
      "needs_background": "light"
     },
     "output_type": "display_data"
    },
    {
     "data": {
      "image/png": "[encoded data removed]",
      "text/plain": [
       "<Figure size 432x144 with 1 Axes>"
      ]
     },
     "metadata": {
      "needs_background": "light"
     },
     "output_type": "display_data"
    },
    {
     "data": {
      "image/png": "[encoded data removed]",
      "text/plain": [
       "<Figure size 432x144 with 1 Axes>"
      ]
     },
     "metadata": {
      "needs_background": "light"
     },
     "output_type": "display_data"
    },
    {
     "data": {
      "image/png": "[encoded data removed]",
      "text/plain": [
       "<Figure size 432x144 with 1 Axes>"
      ]
     },
     "metadata": {
      "needs_background": "light"
     },
     "output_type": "display_data"
    },
    {
     "data": {
      "image/png": "[encoded data removed]",
      "text/plain": [
       "<Figure size 432x144 with 1 Axes>"
      ]
     },
     "metadata": {
      "needs_background": "light"
     },
     "output_type": "display_data"
    },
    {
     "data": {
      "image/png": "[encoded data removed]",
      "text/plain": [
       "<Figure size 432x144 with 1 Axes>"
      ]
     },
     "metadata": {
      "needs_background": "light"
     },
     "output_type": "display_data"
    },
    {
     "data": {
      "image/png": "[encoded data removed]",
      "text/plain": [
       "<Figure size 432x144 with 1 Axes>"
      ]
     },
     "metadata": {
      "needs_background": "light"
     },
     "output_type": "display_data"
    },
    {
     "data": {
      "image/png": "[encoded data removed]",
      "text/plain": [
       "<Figure size 432x144 with 1 Axes>"
      ]
     },
     "metadata": {
      "needs_background": "light"
     },
     "output_type": "display_data"
    },
    {
     "data": {
      "image/png": "[encoded data removed]",
      "text/plain": [
       "<Figure size 432x144 with 1 Axes>"
      ]
     },
     "metadata": {
      "needs_background": "light"
     },
     "output_type": "display_data"
    }
   ],
   "source": [
    "# Строим распределение продаж\n",
    "\n",
    "lifetime=[]\n",
    "for p in total_sales_platform.tail(10).index:\n",
    "    platform = (\n",
    "        games\n",
    "        .query(f'platform == \"{p}\"')\n",
    "        .pivot_table(index='year_of_release', values='total_sales', aggfunc='sum')\n",
    "    )\n",
    "    lifetime.append(platform.index.max() - platform.index.min())\n",
    "    platform.plot.bar(figsize=(6, 2), title=p)\n",
    "    None\n",
    "print('время жизни каждой платформы', sorted(lifetime))"
   ]
  },
  {
   "cell_type": "markdown",
   "metadata": {},
   "source": [
    "Можем сделать вывод, что в среднем игры на платформу выходят примерно 10 лет. Сначала идет рост продаж, через 3-5 лет наступает пик продаж, далее спад. \n",
    "\n",
    "Исходя из вышесказанного, актуальный период составляет <span style=\"color:blue\">3 года</span>, значит игры, которые вышли больше <span style=\"color:blue\">3 лет</span> назад смотреть смысла нет, а следовательно далее будем смотреть период после <span style=\"color:blue\">2013 года</span>."
   ]
  },
  {
   "cell_type": "code",
   "execution_count": 57,
   "metadata": {},
   "outputs": [],
   "source": [
    "games_actual = games.query('year_of_release > 2013') # срез игр в последние 3 года"
   ]
  },
  {
   "cell_type": "markdown",
   "metadata": {},
   "source": [
    "##### Топ платформ"
   ]
  },
  {
   "cell_type": "code",
   "execution_count": 58,
   "metadata": {},
   "outputs": [
    {
     "data": {
      "image/png": "[encoded data removed]",
      "text/plain": [
       "<Figure size 432x288 with 1 Axes>"
      ]
     },
     "metadata": {
      "needs_background": "light"
     },
     "output_type": "display_data"
    }
   ],
   "source": [
    "# Объем продаж по платформам за актуальный период\n",
    "\n",
    "total_sales_platform = (games_actual\n",
    "                        .pivot_table(index='platform', values='total_sales', aggfunc='sum')\n",
    "                        .sort_values(by='total_sales')\n",
    "                       )\n",
    "\n",
    "total_sales_platform.plot.barh(title = 'Объем продаж по платформам за последние 10 лет')\n",
    "None"
   ]
  },
  {
   "cell_type": "markdown",
   "metadata": {},
   "source": [
    "За последние 10 лет, в лидеры продаж вышли PS3 и X360, но это консоли предпоследнего поколения.\n",
    "\n",
    "Для выбора самых перспективных платформ еще нужно посмотреть объем продаж за каждый год."
   ]
  },
  {
   "cell_type": "code",
   "execution_count": 59,
   "metadata": {},
   "outputs": [
    {
     "data": {
      "image/png": "[encoded data removed]",
      "text/plain": [
       "<Figure size 432x144 with 1 Axes>"
      ]
     },
     "metadata": {
      "needs_background": "light"
     },
     "output_type": "display_data"
    },
    {
     "data": {
      "image/png": "[encoded data removed]",
      "text/plain": [
       "<Figure size 432x144 with 1 Axes>"
      ]
     },
     "metadata": {
      "needs_background": "light"
     },
     "output_type": "display_data"
    },
    {
     "data": {
      "image/png": "[encoded data removed]",
      "text/plain": [
       "<Figure size 432x144 with 1 Axes>"
      ]
     },
     "metadata": {
      "needs_background": "light"
     },
     "output_type": "display_data"
    },
    {
     "data": {
      "image/png": "[encoded data removed]",
      "text/plain": [
       "<Figure size 432x144 with 1 Axes>"
      ]
     },
     "metadata": {
      "needs_background": "light"
     },
     "output_type": "display_data"
    },
    {
     "data": {
      "image/png": "[encoded data removed]",
      "text/plain": [
       "<Figure size 432x144 with 1 Axes>"
      ]
     },
     "metadata": {
      "needs_background": "light"
     },
     "output_type": "display_data"
    },
    {
     "data": {
      "image/png": "[encoded data removed]",
      "text/plain": [
       "<Figure size 432x144 with 1 Axes>"
      ]
     },
     "metadata": {
      "needs_background": "light"
     },
     "output_type": "display_data"
    },
    {
     "data": {
      "image/png": "[encoded data removed]",
      "text/plain": [
       "<Figure size 432x144 with 1 Axes>"
      ]
     },
     "metadata": {
      "needs_background": "light"
     },
     "output_type": "display_data"
    },
    {
     "data": {
      "image/png": "[encoded data removed]",
      "text/plain": [
       "<Figure size 432x144 with 1 Axes>"
      ]
     },
     "metadata": {
      "needs_background": "light"
     },
     "output_type": "display_data"
    },
    {
     "data": {
      "image/png": "[encoded data removed]",
      "text/plain": [
       "<Figure size 432x144 with 1 Axes>"
      ]
     },
     "metadata": {
      "needs_background": "light"
     },
     "output_type": "display_data"
    },
    {
     "data": {
      "image/png": "[encoded data removed]",
      "text/plain": [
       "<Figure size 432x144 with 1 Axes>"
      ]
     },
     "metadata": {
      "needs_background": "light"
     },
     "output_type": "display_data"
    }
   ],
   "source": [
    "# Для каждой платформы построим распределение продаж по годам\n",
    "\n",
    "for p in total_sales_platform.sort_values(by='total_sales', ascending=False).index:\n",
    "    platform = (\n",
    "        games_actual\n",
    "        .query(f'platform == \"{p}\"')\n",
    "        .pivot_table(index='year_of_release', values='total_sales', aggfunc='sum')\n",
    "    )\n",
    "    platform.plot.bar(figsize=(6, 2), title=p)    \n",
    "    None"
   ]
  },
  {
   "cell_type": "markdown",
   "metadata": {},
   "source": [
    "Из самых перспективных платформ, можно выделить **PS4 и XOne** и **3DS**. С каждым годом они показывают рост продаж(в 2016 меньше, т.к. данные за 2016 неполные). Также не стоит сбрасывать со счетов **WiiU, PS3 и X360**. Несмотря на снижение продаж, к 2016 году данные платформы еще не потеряли актуальность и на них все еще выходит довольно много игр. Что касается PC то по моему мнению на компьютер игры будут выходить всегда, а значит его точно стоит рассмотреть как топ платформу.\n",
    "\n",
    "Самые персперктивные платформы: **PS4, XOne, 3DS, PS3, X360, WiiU**"
   ]
  },
  {
   "cell_type": "code",
   "execution_count": 32,
   "metadata": {},
   "outputs": [],
   "source": [
    "top_platformes=['PS4', 'XOne', '3DS', 'PC', 'WiiU', 'PSV'] # список самых перспективных платформ"
   ]
  },
  {
   "cell_type": "code",
   "execution_count": 33,
   "metadata": {},
   "outputs": [
    {
     "data": {
      "image/png": "[encoded data removed]",
      "text/plain": [
       "<Figure size 432x288 with 1 Axes>"
      ]
     },
     "metadata": {
      "needs_background": "light"
     },
     "output_type": "display_data"
    }
   ],
   "source": [
    "# Построим ящик с усами\n",
    "\n",
    "(\n",
    "    games_actual\n",
    "    .query(f'platform in {top_platformes}')\n",
    "    .boxplot(column='total_sales', by='platform', showmeans=True,\n",
    "             meanline=True)\n",
    ")\n",
    "None"
   ]
  },
  {
   "cell_type": "markdown",
   "metadata": {},
   "source": [
    "Из-за выбросов очень сложно интерпретировать рисунок. Уберем самые выбивающиеся значения."
   ]
  },
  {
   "cell_type": "code",
   "execution_count": 34,
   "metadata": {},
   "outputs": [
    {
     "data": {
      "image/png": "[encoded data removed]",
      "text/plain": [
       "<Figure size 432x288 with 1 Axes>"
      ]
     },
     "metadata": {
      "needs_background": "light"
     },
     "output_type": "display_data"
    }
   ],
   "source": [
    "# Уберем все что больше 1\n",
    "\n",
    "games_actual_not_outlier = (games_actual\n",
    "                            .query(f'platform in {top_platformes} and total_sales < 1'))\n",
    "                            \n",
    "games_actual_not_outlier.boxplot(column='total_sales', by='platform',\n",
    "                                 showmeans=True, meanline=True)\n",
    "None"
   ]
  },
  {
   "cell_type": "code",
   "execution_count": 35,
   "metadata": {},
   "outputs": [
    {
     "data": {
      "text/html": [
       "<div>\n",
       "<style scoped>\n",
       "    .dataframe tbody tr th:only-of-type {\n",
       "        vertical-align: middle;\n",
       "    }\n",
       "\n",
       "    .dataframe tbody tr th {\n",
       "        vertical-align: top;\n",
       "    }\n",
       "\n",
       "    .dataframe thead th {\n",
       "        text-align: right;\n",
       "    }\n",
       "</style>\n",
       "<table border=\"1\" class=\"dataframe\">\n",
       "  <thead>\n",
       "    <tr style=\"text-align: right;\">\n",
       "      <th></th>\n",
       "      <th>count</th>\n",
       "      <th>mean</th>\n",
       "      <th>std</th>\n",
       "      <th>min</th>\n",
       "      <th>25%</th>\n",
       "      <th>50%</th>\n",
       "      <th>75%</th>\n",
       "      <th>max</th>\n",
       "    </tr>\n",
       "    <tr>\n",
       "      <th>platform</th>\n",
       "      <th></th>\n",
       "      <th></th>\n",
       "      <th></th>\n",
       "      <th></th>\n",
       "      <th></th>\n",
       "      <th></th>\n",
       "      <th></th>\n",
       "      <th></th>\n",
       "    </tr>\n",
       "  </thead>\n",
       "  <tbody>\n",
       "    <tr>\n",
       "      <th>3DS</th>\n",
       "      <td>196.0</td>\n",
       "      <td>0.157602</td>\n",
       "      <td>0.195104</td>\n",
       "      <td>0.01</td>\n",
       "      <td>0.030</td>\n",
       "      <td>0.070</td>\n",
       "      <td>0.2025</td>\n",
       "      <td>0.93</td>\n",
       "    </tr>\n",
       "    <tr>\n",
       "      <th>PC</th>\n",
       "      <td>147.0</td>\n",
       "      <td>0.138503</td>\n",
       "      <td>0.176950</td>\n",
       "      <td>0.01</td>\n",
       "      <td>0.020</td>\n",
       "      <td>0.050</td>\n",
       "      <td>0.1900</td>\n",
       "      <td>0.90</td>\n",
       "    </tr>\n",
       "    <tr>\n",
       "      <th>PS4</th>\n",
       "      <td>307.0</td>\n",
       "      <td>0.219153</td>\n",
       "      <td>0.242533</td>\n",
       "      <td>0.01</td>\n",
       "      <td>0.050</td>\n",
       "      <td>0.110</td>\n",
       "      <td>0.3250</td>\n",
       "      <td>0.98</td>\n",
       "    </tr>\n",
       "    <tr>\n",
       "      <th>PSV</th>\n",
       "      <td>294.0</td>\n",
       "      <td>0.069524</td>\n",
       "      <td>0.089220</td>\n",
       "      <td>0.01</td>\n",
       "      <td>0.020</td>\n",
       "      <td>0.035</td>\n",
       "      <td>0.0900</td>\n",
       "      <td>0.65</td>\n",
       "    </tr>\n",
       "    <tr>\n",
       "      <th>WiiU</th>\n",
       "      <td>62.0</td>\n",
       "      <td>0.233871</td>\n",
       "      <td>0.239620</td>\n",
       "      <td>0.01</td>\n",
       "      <td>0.035</td>\n",
       "      <td>0.110</td>\n",
       "      <td>0.4200</td>\n",
       "      <td>0.84</td>\n",
       "    </tr>\n",
       "    <tr>\n",
       "      <th>XOne</th>\n",
       "      <td>185.0</td>\n",
       "      <td>0.216270</td>\n",
       "      <td>0.226389</td>\n",
       "      <td>0.01</td>\n",
       "      <td>0.040</td>\n",
       "      <td>0.130</td>\n",
       "      <td>0.3400</td>\n",
       "      <td>0.93</td>\n",
       "    </tr>\n",
       "  </tbody>\n",
       "</table>\n",
       "</div>"
      ],
      "text/plain": [
       "          count      mean       std   min    25%    50%     75%   max\n",
       "platform                                                             \n",
       "3DS       196.0  0.157602  0.195104  0.01  0.030  0.070  0.2025  0.93\n",
       "PC        147.0  0.138503  0.176950  0.01  0.020  0.050  0.1900  0.90\n",
       "PS4       307.0  0.219153  0.242533  0.01  0.050  0.110  0.3250  0.98\n",
       "PSV       294.0  0.069524  0.089220  0.01  0.020  0.035  0.0900  0.65\n",
       "WiiU       62.0  0.233871  0.239620  0.01  0.035  0.110  0.4200  0.84\n",
       "XOne      185.0  0.216270  0.226389  0.01  0.040  0.130  0.3400  0.93"
      ]
     },
     "execution_count": 35,
     "metadata": {},
     "output_type": "execute_result"
    }
   ],
   "source": [
    "# метрики\n",
    "\n",
    "(\n",
    "    games_actual_not_outlier\n",
    "    .groupby('platform')['total_sales']\n",
    "    .describe()\n",
    ")"
   ]
  },
  {
   "cell_type": "markdown",
   "metadata": {},
   "source": [
    "Средний и медианный объем продаж отличается для всех платформ в 1,5-3 раза, что говорит о большом количестве выбросов. Объяснить это можно тем, что большое количество игр проваливаются в прокате и имеют нулевые продажи, и есть не очень большая группа игр которые \"выстреливают\" т.н. \"хиты\".\n",
    "\n",
    "Можно разбить платформы на 2 группы по среднему и медианному объему продаж. В 1 группе  **XOne, WiiU, PS4, 3DS**, соответственно во второй **PC и  PSV**. Можно сказать, что платформы 1 группы чуть более популярны."
   ]
  },
  {
   "cell_type": "markdown",
   "metadata": {},
   "source": [
    "##### Влияние отзывов на продажи"
   ]
  },
  {
   "cell_type": "markdown",
   "metadata": {},
   "source": [
    "Построим графики зависимости объема продаж от оценки пользователей и критиков для каждой платформы."
   ]
  },
  {
   "cell_type": "code",
   "execution_count": 36,
   "metadata": {},
   "outputs": [],
   "source": [
    "# Напишем функцию\n",
    "\n",
    "def sales_cor_score(*platforms):\n",
    "    for col in platforms:\n",
    "        pl_games = games_actual.query(f'platform == \"{col}\"')\n",
    "        f, axs = plt.subplots(1, 2, figsize=(12, 4))\n",
    "        f.suptitle('продажи на ' + col)\n",
    "        score = ['critic_score', 'user_score']\n",
    "        for i in range(len(score)):\n",
    "            axs[i].scatter(pl_games[score[i]], pl_games['total_sales'], marker='.', alpha=0.8)\n",
    "            axs[i].set_xlabel(score[i])\n",
    "            axs[i].set_ylabel('Объем продаж')\n",
    "            axs[i].text(0.5*pl_games[score[i]].max(), 0.6*pl_games['total_sales'].max(), \n",
    "                        f'correlation = {pl_games[\"total_sales\"].corr(pl_games[score[i]]).round(2)}')"
   ]
  },
  {
   "cell_type": "code",
   "execution_count": 37,
   "metadata": {},
   "outputs": [
    {
     "data": {
      "image/png": "[encoded data removed]",
      "text/plain": [
       "<Figure size 864x288 with 2 Axes>"
      ]
     },
     "metadata": {
      "needs_background": "light"
     },
     "output_type": "display_data"
    },
    {
     "data": {
      "image/png": "[encoded data removed]",
      "text/plain": [
       "<Figure size 864x288 with 2 Axes>"
      ]
     },
     "metadata": {
      "needs_background": "light"
     },
     "output_type": "display_data"
    },
    {
     "data": {
      "image/png": "[encoded data removed]",
      "text/plain": [
       "<Figure size 864x288 with 2 Axes>"
      ]
     },
     "metadata": {
      "needs_background": "light"
     },
     "output_type": "display_data"
    },
    {
     "data": {
      "image/png": "[encoded data removed]",
      "text/plain": [
       "<Figure size 864x288 with 2 Axes>"
      ]
     },
     "metadata": {
      "needs_background": "light"
     },
     "output_type": "display_data"
    },
    {
     "data": {
      "image/png": "[encoded data removed]",
      "text/plain": [
       "<Figure size 864x288 with 2 Axes>"
      ]
     },
     "metadata": {
      "needs_background": "light"
     },
     "output_type": "display_data"
    },
    {
     "data": {
      "image/png": "[encoded data removed]",
      "text/plain": [
       "<Figure size 864x288 with 2 Axes>"
      ]
     },
     "metadata": {
      "needs_background": "light"
     },
     "output_type": "display_data"
    }
   ],
   "source": [
    "sales_cor_score(*top_platformes) # рисуем графики для топ платформ"
   ]
  },
  {
   "cell_type": "markdown",
   "metadata": {},
   "source": [
    "Корреляция между продажами и пользовательскими оценками отсутствует.\n",
    "\n",
    "Между оценками критиков и объемом продаж корреляция есть, но слабая(не более 0.4)\n",
    "\n",
    "Исключением является платформа **WiiU**. Здесь тоже слабая корреляция между оценками критиков и продажами (0,35), но корреляция между оценками пользователей и продажами есть и даже больше(0,4)."
   ]
  },
  {
   "cell_type": "markdown",
   "metadata": {},
   "source": [
    "##### Распределение объема продаж по жанрам"
   ]
  },
  {
   "cell_type": "code",
   "execution_count": 38,
   "metadata": {},
   "outputs": [
    {
     "data": {
      "image/png": "[encoded data removed]",
      "text/plain": [
       "<Figure size 432x288 with 1 Axes>"
      ]
     },
     "metadata": {
      "needs_background": "light"
     },
     "output_type": "display_data"
    }
   ],
   "source": [
    "# построим столбчатую диаграмму\n",
    "\n",
    "(\n",
    "    games_actual\n",
    "    .pivot_table(index='genre', values='total_sales', aggfunc='sum')\n",
    "    .sort_values(by='total_sales', ascending=False)\n",
    "    .plot.bar(title='Общий объем продаж по жанрам')\n",
    "\n",
    ")\n",
    "None"
   ]
  },
  {
   "cell_type": "markdown",
   "metadata": {},
   "source": [
    "Больше всего продаж в жанре Action, меньше всего в жанре Strategy, но здесь не учитывается количество игр. Возможно, игр в жанре Action просто больше, поэтому построим распределение медианного объема продаж по жанрам."
   ]
  },
  {
   "cell_type": "code",
   "execution_count": 39,
   "metadata": {},
   "outputs": [
    {
     "data": {
      "image/png": "[encoded data removed]",
      "text/plain": [
       "<Figure size 432x288 with 1 Axes>"
      ]
     },
     "metadata": {
      "needs_background": "light"
     },
     "output_type": "display_data"
    }
   ],
   "source": [
    "(\n",
    "    games_actual\n",
    "    .pivot_table(index='genre', values='total_sales', aggfunc='median')\n",
    "    .sort_values(by='total_sales', ascending=False)\n",
    "    .plot.bar(title='Медианный объем продаж по жанрам')\n",
    "\n",
    ")\n",
    "None"
   ]
  },
  {
   "cell_type": "markdown",
   "metadata": {},
   "source": [
    "Данная метрика лучше отображает прибыльность жанра. "
   ]
  },
  {
   "cell_type": "markdown",
   "metadata": {},
   "source": [
    "Топ 5 самых прибыльных жанров:\n",
    "1. Shooter.\n",
    "2. Platform.\n",
    "3. Sports.\n",
    "4. Action.\n",
    "5. Racing."
   ]
  },
  {
   "cell_type": "markdown",
   "metadata": {},
   "source": [
    "Наименее прибыльные жанры:\n",
    "1. Adventure.\n",
    "2. Strategy.\n",
    "3. Puzzle.\n",
    "4. Simulation.\n",
    "5. Misc."
   ]
  },
  {
   "cell_type": "markdown",
   "metadata": {},
   "source": [
    "**Общий вывод по исследовательскому анализу.** \n",
    "\n",
    "Итак, проведенный исследовательский анализ позволяет сделать несколько промежуточных выводов.\n",
    "\n",
    "1. Индустрия видеоигр начала активно развиваться после 1990 года, а среднее время жизни платформы - 10 лет.  Таким образом, **актуальным периодом** для анализа можно считать **последние 10 лет**, с 2006 года.\n",
    "\n",
    "\n",
    "2. Много игр проваливается в прокате и имеет низкие продажи, а некоторые наоборот выстреливают. Об этом говорит разница между средним и медианным объемом продаж. Платформы  **XOne, WiiU, PS4 и 3DS, PSV, PC** можно назвать **наиболее популярными и перспективными**.\n",
    "\n",
    "\n",
    "3. Нет корреляции между объемом продаж и пользовательскими оценками. Однако, есть слабая корреляция между оценками критиков и объемом продаж. В случае платформы WiiU есть слабая корреляция между оценками пользователей и объемом продаж. Она примерно такая же как корреляция между оценками критиков и объемом продаж.\n",
    "\n",
    "\n",
    "4. И, наконец, основываясь на данных о прибыльности разных жанров игр, можно сделать вывод, что **наиболее прибыльными** жанрами являются **`shooter`, `platform`, `sports`, `action`, `racing`**. Наименее прибыльные жанры: adventure, strategy, puzzle, simulation, misc."
   ]
  },
  {
   "cell_type": "markdown",
   "metadata": {},
   "source": [
    "#### Шаг 4. Портрет пользователя региона"
   ]
  },
  {
   "cell_type": "markdown",
   "metadata": {},
   "source": [
    "Напишем функцию, которая будет для каждого региона за данный период выводить диаграммы продаж:\n",
    "* топ 5 платформ;\n",
    "* топ 5 жанров;\n",
    "* зависимости уровня продаж от возрастного рейтинга."
   ]
  },
  {
   "cell_type": "code",
   "execution_count": 40,
   "metadata": {},
   "outputs": [],
   "source": [
    "def portrait(reg, period):    \n",
    "    games_for_the_period = games.query(f'year_of_release > {2016 - period}')\n",
    "    features = ['platform', 'genre', 'rating']\n",
    "    features_d = {'platform': 'Платформы', 'genre': 'Жанры', 'rating': 'Рейтинги'}\n",
    "    regions = {'na': 'Америке', 'eu': 'Европе', 'jp': 'Японии'}\n",
    "    \n",
    "    def piv_tab(feature):\n",
    "        region_top5_feature = (\n",
    "            games_for_the_period\n",
    "            .pivot_table(index=feature, values=reg+'_sales', aggfunc='sum')\n",
    "            .sort_values(by=reg+'_sales', ascending=False).head()\n",
    "        )\n",
    "        return region_top5_feature\n",
    "    \n",
    "    f, axs = plt.subplots(1, 3, figsize=(17, 5), sharey=True)\n",
    "    f.suptitle(f'Топ-5 по уровню продаж в {regions[reg]} за последние {period} лет', fontsize=16)\n",
    "    for i in range(3):\n",
    "        axs[i].bar(piv_tab(features[i]).index.tolist(),\n",
    "                   piv_tab(features[i]).values.flatten().tolist()\n",
    "                  )\n",
    "        axs[i].set_title(features_d[features[i]])\n",
    "        axs[i].set_ylabel('Объем продаж')"
   ]
  },
  {
   "cell_type": "markdown",
   "metadata": {},
   "source": [
    "Для составления портрета пользователя нужны самые актуальные данные. Период в 10 лет может не отражать нынешние тренды. Проверим данное утверждение."
   ]
  },
  {
   "cell_type": "code",
   "execution_count": 41,
   "metadata": {},
   "outputs": [
    {
     "data": {
      "image/png": "[encoded data removed]",
      "text/plain": [
       "<Figure size 1224x360 with 3 Axes>"
      ]
     },
     "metadata": {
      "needs_background": "light"
     },
     "output_type": "display_data"
    },
    {
     "data": {
      "image/png": "[encoded data removed]",
      "text/plain": [
       "<Figure size 1224x360 with 3 Axes>"
      ]
     },
     "metadata": {
      "needs_background": "light"
     },
     "output_type": "display_data"
    },
    {
     "data": {
      "image/png": "[encoded data removed]",
      "text/plain": [
       "<Figure size 1224x360 with 3 Axes>"
      ]
     },
     "metadata": {
      "needs_background": "light"
     },
     "output_type": "display_data"
    }
   ],
   "source": [
    "for regg in ['na', 'eu', 'jp']: # посмотрим продажи за период 10 лет\n",
    "    portrait(regg, 10)"
   ]
  },
  {
   "cell_type": "markdown",
   "metadata": {},
   "source": [
    "Среди самых популярных платформ нет ни PS4 ни Xbox One, так как данные платформы вышли недавно и существуют менее 10 лет и не успели накопить продажи как PS3 или Xbox 360. Поэтому правильнее строить портрет пользователя за более короткий период."
   ]
  },
  {
   "cell_type": "code",
   "execution_count": 42,
   "metadata": {},
   "outputs": [
    {
     "data": {
      "image/png": "[encoded data removed]",
      "text/plain": [
       "<Figure size 1224x360 with 3 Axes>"
      ]
     },
     "metadata": {
      "needs_background": "light"
     },
     "output_type": "display_data"
    },
    {
     "data": {
      "image/png": "[encoded data removed]",
      "text/plain": [
       "<Figure size 1224x360 with 3 Axes>"
      ]
     },
     "metadata": {
      "needs_background": "light"
     },
     "output_type": "display_data"
    },
    {
     "data": {
      "image/png": "[encoded data removed]",
      "text/plain": [
       "<Figure size 1224x360 with 3 Axes>"
      ]
     },
     "metadata": {
      "needs_background": "light"
     },
     "output_type": "display_data"
    }
   ],
   "source": [
    "for regg in ['na', 'eu', 'jp']: # посмотрим продажи за период 3 года\n",
    "    portrait(regg, 3)"
   ]
  },
  {
   "cell_type": "markdown",
   "metadata": {},
   "source": [
    "**Вывод:** Итак исходя из вышенарисованных диаграмм можем составить портрет пользователя ждя каждого региона.\n",
    "1. Американские пользователи:\n",
    "    * Предпочитаемая платформа: PS4, XOne.\n",
    "    * Предпочитаемый жанр: Shooter, Action.\n",
    "    * Возрастной рейтинг: M(взрослый).\n",
    "\n",
    "\n",
    "2. Европейские пользователи:\n",
    "    * Предпочитаемая платформа: PS4.\n",
    "    * Предпочитаемый жанр: Action, Shooter.\n",
    "    * Возрастной рейтинг: M(взрослый).\n",
    "\n",
    "\n",
    "3. Пользователи из Японии:\n",
    "    * Предпочитаемая платформа: 3DS.\n",
    "    * Предпочитаемый жанр: Role-Playing, Action.\n",
    "    * Возрастной рейтинг: T(взрослый).\n",
    "    \n",
    "По Европе и Америке имеем почти одинаковые портреты пользователей. У японцев явно иные предпочтения."
   ]
  },
  {
   "cell_type": "markdown",
   "metadata": {},
   "source": [
    "#### Шаг 5. Проверка гипотез"
   ]
  },
  {
   "cell_type": "markdown",
   "metadata": {},
   "source": [
    "##### Средние пользовательские рейтинги платформ Xbox One и PC одинаковые"
   ]
  },
  {
   "cell_type": "markdown",
   "metadata": {},
   "source": [
    "Сформулируем гипотезы:\n",
    "\n",
    "* H0: Средние пользовательские рейтинги платформ Xbox One и PC не отличаются.\n",
    "* H1: Средние пользовательские рейтинги платформ Xbox One и PC отличаются."
   ]
  },
  {
   "cell_type": "code",
   "execution_count": 43,
   "metadata": {},
   "outputs": [
    {
     "data": {
      "image/png": "[encoded data removed]",
      "text/plain": [
       "<Figure size 504x288 with 1 Axes>"
      ]
     },
     "metadata": {
      "needs_background": "light"
     },
     "output_type": "display_data"
    }
   ],
   "source": [
    "# Построим распределения для наглядности\n",
    "\n",
    "plt.figure(figsize=(7, 4))\n",
    "plt.hist(games_actual.query('platform == \"PC\"')['user_score'], label='PC', bins=30, alpha=0.4, density=True)\n",
    "plt.hist(games_actual.query('platform == \"XOne\"')['user_score'], label='Xbox One', bins=30, alpha=0.4, density=True)\n",
    "plt.title('Относительное распределение оценок пользователей по платформам')\n",
    "plt.legend()\n",
    "None"
   ]
  },
  {
   "cell_type": "code",
   "execution_count": 44,
   "metadata": {},
   "outputs": [
    {
     "data": {
      "text/html": [
       "<div>\n",
       "<style scoped>\n",
       "    .dataframe tbody tr th:only-of-type {\n",
       "        vertical-align: middle;\n",
       "    }\n",
       "\n",
       "    .dataframe tbody tr th {\n",
       "        vertical-align: top;\n",
       "    }\n",
       "\n",
       "    .dataframe thead th {\n",
       "        text-align: right;\n",
       "    }\n",
       "</style>\n",
       "<table border=\"1\" class=\"dataframe\">\n",
       "  <thead>\n",
       "    <tr style=\"text-align: right;\">\n",
       "      <th></th>\n",
       "      <th>count</th>\n",
       "      <th>mean</th>\n",
       "      <th>std</th>\n",
       "      <th>min</th>\n",
       "      <th>25%</th>\n",
       "      <th>50%</th>\n",
       "      <th>75%</th>\n",
       "      <th>max</th>\n",
       "    </tr>\n",
       "    <tr>\n",
       "      <th>platform</th>\n",
       "      <th></th>\n",
       "      <th></th>\n",
       "      <th></th>\n",
       "      <th></th>\n",
       "      <th></th>\n",
       "      <th></th>\n",
       "      <th></th>\n",
       "      <th></th>\n",
       "    </tr>\n",
       "  </thead>\n",
       "  <tbody>\n",
       "    <tr>\n",
       "      <th>PC</th>\n",
       "      <td>122.0</td>\n",
       "      <td>6.298361</td>\n",
       "      <td>1.703278</td>\n",
       "      <td>1.4</td>\n",
       "      <td>5.325</td>\n",
       "      <td>6.8</td>\n",
       "      <td>7.6</td>\n",
       "      <td>9.3</td>\n",
       "    </tr>\n",
       "    <tr>\n",
       "      <th>XOne</th>\n",
       "      <td>165.0</td>\n",
       "      <td>6.594545</td>\n",
       "      <td>1.375139</td>\n",
       "      <td>1.6</td>\n",
       "      <td>5.800</td>\n",
       "      <td>6.8</td>\n",
       "      <td>7.6</td>\n",
       "      <td>9.2</td>\n",
       "    </tr>\n",
       "  </tbody>\n",
       "</table>\n",
       "</div>"
      ],
      "text/plain": [
       "          count      mean       std  min    25%  50%  75%  max\n",
       "platform                                                      \n",
       "PC        122.0  6.298361  1.703278  1.4  5.325  6.8  7.6  9.3\n",
       "XOne      165.0  6.594545  1.375139  1.6  5.800  6.8  7.6  9.2"
      ]
     },
     "execution_count": 44,
     "metadata": {},
     "output_type": "execute_result"
    }
   ],
   "source": [
    "games_actual.query('platform in [\"PC\", \"XOne\"]').groupby(by='platform')['user_score'].describe() # добавим метрики"
   ]
  },
  {
   "cell_type": "markdown",
   "metadata": {},
   "source": [
    "Для проверки гипотезы используем ttest равенства 2 средних независимых выборок."
   ]
  },
  {
   "cell_type": "code",
   "execution_count": 45,
   "metadata": {},
   "outputs": [
    {
     "name": "stdout",
     "output_type": "stream",
     "text": [
      "0.11601398086668832\n",
      "Не получилось отвергнуть нулевую гипотезу\n"
     ]
    }
   ],
   "source": [
    "# Проведем ttest\n",
    "\n",
    "alpha = 0.01 # уровень значимости\n",
    "\n",
    "res = st.ttest_ind(games_actual.query('platform == \"PC\"')['user_score'].dropna(), # тест\n",
    "             games_actual.query('platform == \"XOne\"')['user_score'].dropna(), \n",
    "                  equal_var=False)\n",
    "print(res.pvalue)\n",
    "\n",
    "if res.pvalue < alpha:\n",
    "    print('Можем отвергнуть нулевую гипотезу')\n",
    "else:\n",
    "    print('Не получилось отвергнуть нулевую гипотезу')"
   ]
  },
  {
   "cell_type": "markdown",
   "metadata": {},
   "source": [
    "Не получилось отвергнуть нулевую гипотезу, а значит можно считать с высокой вероятностью, что средние пользовательские рейтинги платформ Xbox One и PC не отличаются. \n",
    "\n",
    "Кстати при уровне значимости 0.05 различия в пользовательских рейтингах можно было бы считать статистически значимыми. "
   ]
  },
  {
   "cell_type": "markdown",
   "metadata": {},
   "source": [
    "##### Средние пользовательские рейтинги жанров Action и Sports разные."
   ]
  },
  {
   "cell_type": "markdown",
   "metadata": {},
   "source": [
    "Сформулируем гипотезы:\n",
    "\n",
    "* H0: Средние пользовательские рейтинги жанров Action и Sports не отличаются.\n",
    "* Н1: Средние пользовательские рейтинги жанров Action и Sports имеют отличия."
   ]
  },
  {
   "cell_type": "code",
   "execution_count": 46,
   "metadata": {},
   "outputs": [
    {
     "data": {
      "image/png": "[encoded data removed]",
      "text/plain": [
       "<Figure size 504x288 with 1 Axes>"
      ]
     },
     "metadata": {
      "needs_background": "light"
     },
     "output_type": "display_data"
    }
   ],
   "source": [
    "# Построим распределения по жанрам\n",
    "\n",
    "plt.figure(figsize=(7, 4))\n",
    "plt.hist(games_actual.query('genre == \"Action\"')['user_score'], label='Action', bins=30, alpha=0.5, density=True)\n",
    "plt.hist(games_actual.query('genre == \"Sports\"')['user_score'], label='Sports', bins=30, alpha=0.5, density=True)\n",
    "plt.title('Относительное распределение оценок пользователей по жанрам')\n",
    "plt.legend()\n",
    "None"
   ]
  },
  {
   "cell_type": "code",
   "execution_count": 47,
   "metadata": {},
   "outputs": [
    {
     "data": {
      "text/html": [
       "<div>\n",
       "<style scoped>\n",
       "    .dataframe tbody tr th:only-of-type {\n",
       "        vertical-align: middle;\n",
       "    }\n",
       "\n",
       "    .dataframe tbody tr th {\n",
       "        vertical-align: top;\n",
       "    }\n",
       "\n",
       "    .dataframe thead th {\n",
       "        text-align: right;\n",
       "    }\n",
       "</style>\n",
       "<table border=\"1\" class=\"dataframe\">\n",
       "  <thead>\n",
       "    <tr style=\"text-align: right;\">\n",
       "      <th></th>\n",
       "      <th>count</th>\n",
       "      <th>mean</th>\n",
       "      <th>std</th>\n",
       "      <th>min</th>\n",
       "      <th>25%</th>\n",
       "      <th>50%</th>\n",
       "      <th>75%</th>\n",
       "      <th>max</th>\n",
       "    </tr>\n",
       "    <tr>\n",
       "      <th>genre</th>\n",
       "      <th></th>\n",
       "      <th></th>\n",
       "      <th></th>\n",
       "      <th></th>\n",
       "      <th></th>\n",
       "      <th></th>\n",
       "      <th></th>\n",
       "      <th></th>\n",
       "    </tr>\n",
       "  </thead>\n",
       "  <tbody>\n",
       "    <tr>\n",
       "      <th>Action</th>\n",
       "      <td>297.0</td>\n",
       "      <td>6.760606</td>\n",
       "      <td>1.377852</td>\n",
       "      <td>2.0</td>\n",
       "      <td>6.1</td>\n",
       "      <td>7.1</td>\n",
       "      <td>7.70</td>\n",
       "      <td>9.0</td>\n",
       "    </tr>\n",
       "    <tr>\n",
       "      <th>Sports</th>\n",
       "      <td>127.0</td>\n",
       "      <td>5.225197</td>\n",
       "      <td>1.856604</td>\n",
       "      <td>0.2</td>\n",
       "      <td>4.0</td>\n",
       "      <td>5.5</td>\n",
       "      <td>6.65</td>\n",
       "      <td>8.8</td>\n",
       "    </tr>\n",
       "  </tbody>\n",
       "</table>\n",
       "</div>"
      ],
      "text/plain": [
       "        count      mean       std  min  25%  50%   75%  max\n",
       "genre                                                      \n",
       "Action  297.0  6.760606  1.377852  2.0  6.1  7.1  7.70  9.0\n",
       "Sports  127.0  5.225197  1.856604  0.2  4.0  5.5  6.65  8.8"
      ]
     },
     "execution_count": 47,
     "metadata": {},
     "output_type": "execute_result"
    }
   ],
   "source": [
    "games_actual.query('genre in [\"Action\", \"Sports\"]').groupby(by='genre')['user_score'].describe() # метрики"
   ]
  },
  {
   "cell_type": "markdown",
   "metadata": {},
   "source": [
    "Для проверки гипотезы используем ttest равенства 2 средних независимых выборок."
   ]
  },
  {
   "cell_type": "code",
   "execution_count": 48,
   "metadata": {},
   "outputs": [
    {
     "name": "stdout",
     "output_type": "stream",
     "text": [
      "1.1825550382644557e-14\n",
      "Можем отвергнуть нулевую гипотезу\n"
     ]
    }
   ],
   "source": [
    "# ttest\n",
    "\n",
    "alpha = 0.01 # уровень значимости\n",
    "\n",
    "res = st.ttest_ind(games_actual.query('genre == \"Action\"')['user_score'].dropna(), # тест\n",
    "              games_actual.query('genre == \"Sports\"')['user_score'].dropna(),\n",
    "                  equal_var=False)\n",
    "print(res.pvalue)\n",
    "\n",
    "if res.pvalue < alpha:\n",
    "    print('Можем отвергнуть нулевую гипотезу')\n",
    "else:\n",
    "    print('Не получилось отвергнуть нулевую гипотезу')"
   ]
  },
  {
   "cell_type": "markdown",
   "metadata": {},
   "source": [
    "T-критерий показал что мы можем отвергнуть нулевую гипотезу в пользу альтернативной, а значит средние пользовательские рейтинги жанров Action и Sports имеют статистически значимые различия."
   ]
  },
  {
   "cell_type": "markdown",
   "metadata": {},
   "source": [
    "**Вывод:** В ходе проверки гипотез, была отвергнута только последняя гипотеза, а значит можем с высокой вероятностью констатировать следующие утверждения: \n",
    " * Средние пользовательские рейтинги платформ Xbox One и PC не имеют статистически значимых различий.\n",
    " * Средние пользовательские рейтинги жанров Action и Sports имеют статистически значимые различия."
   ]
  },
  {
   "cell_type": "markdown",
   "metadata": {},
   "source": [
    "### Вывод"
   ]
  },
  {
   "cell_type": "markdown",
   "metadata": {},
   "source": [
    "В результате проведенного исследования были получены следующие результаты и выводы:\n",
    "\n",
    "**Загрузка данных**\n",
    "\n",
    "Были выявлены следующие проблемы:\n",
    "\n",
    "- Название колонок имеет неудобный формат, лучше привести к \"змеиному\" регистру для удобства работы;\n",
    "- Много пропусков в столбцах с оценками и возрастным рейтингом;\n",
    "- Есть небольшое количество пропусков в столбцах с названием игры и жанром;\n",
    "- Формат данных в колонке с годом релиза имеет вид `float`, лучше поменять на `int`;\n",
    "- Формат данных с столбце `User_Score` имеет строковый вид.\n",
    "\n",
    "**Предобработка данных.**\n",
    "\n",
    "Для удобства работы с данными были проведены следующие действия:\n",
    "\n",
    "- Названия столбцов были приведены к \"змеиному_регистру\";\n",
    "- Столбец `year_of_release` был приведен в целочисленный тип `int`, заполнены были примерно половина пропусков, оставшиеся **146** пустых строк были удалены;\n",
    "- Было удалено еще **2 строки** с пропусками в столбцах `name` и `genre`;\n",
    "- Избавились от аббревиатуры *tbd (\"будет определено\")* в столбце `user_score`, заменив на NaN, привели столбец к числовому формату `float`;\n",
    "- Заполнены были примерно **400** пропусков в столбце `rating` аналогичным образом, как в столбце `year_of_release`;\n",
    "- Добавлен столбец с суммарными продажами `total_sales`, сложив все столбцы `*_sales`.\n",
    "\n",
    "В результате предобработки данных из **16715 строк осталось 16567**, что составляет **99.1%** от общего числа. Однако, осталось много пропусков (порядка половины) в столбцах с оценками и возрастным рейтингом, которые были оставлены как есть.\n",
    "\n",
    "**Исследовательский анализ.**\n",
    "\n",
    "В ходе исследовательского анализа были получены следующие результаты:\n",
    "\n",
    "- Индустрия видеоигр начала активно развиваться после 1990 года, а среднее время жизни платформы - 10 лет. Таким образом, **актуальным периодом для анализа можно считать последние 10 лет**, с 2006 года.\n",
    "- Много игр проваливается в прокате и имеет низкие продажи, а некоторые наоборот выстреливают. Об этом говорит разница между средним и медианным объемом продаж. Платформы `XOne`, `WiiU`, `PS4` и `3DS`, `PSV`, `PC` можно назвать наиболее популярными и перспективными.\n",
    "- Нет корреляции между объемом продаж и пользовательскими оценками. Однако, есть слабая корреляция между оценками критиков и объемом продаж. В случае платформы WiiU есть слабая корреляция между оценками пользователей и объемом продаж. Она примерно такая же как корреляция между оценками критиков и объемом продаж.\n",
    "- И, наконец, основываясь на данных о прибыльности разных жанров игр, можно сделать вывод, что наиболее прибыльными жанрами являются `shooter`, `platform`, `sports`, `action` и `racing`.\n",
    "\n",
    "**Анализ пользователей.**\n",
    "\n",
    "На последующем этапе были составлены портреты пользователей для каждого региона в зависимости от предпочитаемых платформ и жанров игр. Были выявлены следующие результаты:\n",
    "\n",
    "- В Северной Америке и Европе предпочтения пользователей схожи, наиболее популярными платформами являются **PS4, XOne и PC**. Пользователи в Северной Америке предпочитают играть в жанр `shooter`, в то время как в Европе наиболее популярен жанр `action`.\n",
    "- В Японии популярность платформ распределена иначе: наиболее популярными являются **3DS, PSV и PS4**. Жанры, популярные в Японии, отличаются от Северной Америки и Европы: здесь наиболее популярны `RPG`, `action` и `platform`.\n",
    "- Наиболее популярным возрастным рейтингом в Северной Америке и Европе является **M \"для взрослых\"**, в Японии самый популярный возрастной рерйтинг **T \"для всех\"**\n",
    "\n",
    "**Проверка гипотез.**\n",
    "\n",
    "Были проверены две гипотезы:\n",
    "\n",
    "- Средние пользовательские рейтинги платформ Xbox One и PC равны.\n",
    "- Средние пользовательские рейтинги жанров Action и Sports разные.\n",
    "\n",
    "В результате проверки гипотез были получены следующие результаты:\n",
    "\n",
    "- Средние пользовательские рейтинги платформ Xbox One и PC не имеют статистически значимых различий.\n",
    "- Средние пользовательские рейтинги жанров Action и Sports имеют статистически значимые различия.\n",
    "\n",
    "На основе проведенного анализа можно рекомендовать разработчикам игр делать упор на платформы **PS4, XOne, WiiU, PSV и PC**, а также на жанры `shooter`, `platform`, `sports`, `action` и `racing`. Также предпочтительны игры с рейтингом ESRB \"для взрослых\" в Америке и Европе и \"для подростков\" в Японии. При этом стоит учитывать, что мнение пользователей не оказывает прямого влияния на объем продаж, но может влиять на репутацию игры и, в конечном итоге, на успех проекта."
   ]
  }
 ],
 "metadata": {
  "ExecuteTimeLog": [
   {
    "duration": 1220,
    "start_time": "2023-07-07T21:34:13.039Z"
   },
   {
    "duration": 3,
    "start_time": "2023-07-07T21:34:15.104Z"
   },
   {
    "duration": 258,
    "start_time": "2023-07-07T21:34:15.320Z"
   },
   {
    "duration": 17,
    "start_time": "2023-07-07T21:34:16.160Z"
   },
   {
    "duration": 14,
    "start_time": "2023-07-07T21:34:16.401Z"
   },
   {
    "duration": 3,
    "start_time": "2023-07-07T21:35:48.488Z"
   },
   {
    "duration": 148,
    "start_time": "2023-07-07T21:35:48.493Z"
   },
   {
    "duration": 13,
    "start_time": "2023-07-07T21:35:48.643Z"
   },
   {
    "duration": 22,
    "start_time": "2023-07-07T21:35:48.658Z"
   },
   {
    "duration": 13,
    "start_time": "2023-07-07T21:35:48.681Z"
   },
   {
    "duration": 4,
    "start_time": "2023-07-07T21:35:48.695Z"
   },
   {
    "duration": 40,
    "start_time": "2023-07-07T21:35:48.701Z"
   },
   {
    "duration": 16,
    "start_time": "2023-07-07T21:35:48.742Z"
   },
   {
    "duration": 614,
    "start_time": "2023-07-07T21:35:48.760Z"
   },
   {
    "duration": 4,
    "start_time": "2023-07-07T21:35:49.377Z"
   },
   {
    "duration": 19,
    "start_time": "2023-07-07T21:35:49.382Z"
   },
   {
    "duration": 11,
    "start_time": "2023-07-07T21:35:49.402Z"
   },
   {
    "duration": 7,
    "start_time": "2023-07-07T21:35:49.414Z"
   },
   {
    "duration": 20,
    "start_time": "2023-07-07T21:35:49.422Z"
   },
   {
    "duration": 8,
    "start_time": "2023-07-07T21:35:49.443Z"
   },
   {
    "duration": 10,
    "start_time": "2023-07-07T21:35:49.452Z"
   },
   {
    "duration": 10,
    "start_time": "2023-07-07T21:35:49.463Z"
   },
   {
    "duration": 17,
    "start_time": "2023-07-07T21:35:49.474Z"
   },
   {
    "duration": 11136,
    "start_time": "2023-07-07T21:35:49.492Z"
   },
   {
    "duration": 15,
    "start_time": "2023-07-07T21:36:00.632Z"
   },
   {
    "duration": 139,
    "start_time": "2023-07-07T21:36:00.649Z"
   },
   {
    "duration": 67,
    "start_time": "2023-07-07T21:36:00.790Z"
   },
   {
    "duration": 244,
    "start_time": "2023-07-07T21:36:00.859Z"
   },
   {
    "duration": 319,
    "start_time": "2023-07-07T21:36:01.104Z"
   },
   {
    "duration": 9,
    "start_time": "2023-07-07T21:36:01.425Z"
   },
   {
    "duration": 1622,
    "start_time": "2023-07-07T21:36:01.436Z"
   },
   {
    "duration": 5,
    "start_time": "2023-07-07T21:36:03.060Z"
   },
   {
    "duration": 204,
    "start_time": "2023-07-07T21:36:03.069Z"
   },
   {
    "duration": 1824,
    "start_time": "2023-07-07T21:36:03.275Z"
   },
   {
    "duration": 3,
    "start_time": "2023-07-07T21:36:05.101Z"
   },
   {
    "duration": 275,
    "start_time": "2023-07-07T21:36:05.105Z"
   },
   {
    "duration": 165,
    "start_time": "2023-07-07T21:36:05.382Z"
   },
   {
    "duration": 24,
    "start_time": "2023-07-07T21:36:05.548Z"
   },
   {
    "duration": 4,
    "start_time": "2023-07-07T21:36:05.573Z"
   },
   {
    "duration": 1393,
    "start_time": "2023-07-07T21:36:05.578Z"
   },
   {
    "duration": 165,
    "start_time": "2023-07-07T21:36:06.972Z"
   },
   {
    "duration": 167,
    "start_time": "2023-07-07T21:36:07.138Z"
   },
   {
    "duration": 6,
    "start_time": "2023-07-07T21:36:07.306Z"
   },
   {
    "duration": 968,
    "start_time": "2023-07-07T21:36:07.313Z"
   },
   {
    "duration": 795,
    "start_time": "2023-07-07T21:36:08.282Z"
   },
   {
    "duration": 206,
    "start_time": "2023-07-07T21:36:09.078Z"
   },
   {
    "duration": 18,
    "start_time": "2023-07-07T21:36:09.285Z"
   },
   {
    "duration": 8,
    "start_time": "2023-07-07T21:36:09.304Z"
   },
   {
    "duration": 205,
    "start_time": "2023-07-07T21:36:09.314Z"
   },
   {
    "duration": 22,
    "start_time": "2023-07-07T21:36:09.520Z"
   },
   {
    "duration": 8,
    "start_time": "2023-07-07T21:36:09.544Z"
   },
   {
    "duration": 4,
    "start_time": "2023-07-08T05:14:47.798Z"
   },
   {
    "duration": 1339,
    "start_time": "2023-07-08T05:22:45.082Z"
   },
   {
    "duration": 156,
    "start_time": "2023-07-08T05:22:46.423Z"
   },
   {
    "duration": 24,
    "start_time": "2023-07-08T05:22:46.580Z"
   },
   {
    "duration": 19,
    "start_time": "2023-07-08T05:22:46.606Z"
   },
   {
    "duration": 13,
    "start_time": "2023-07-08T05:22:46.627Z"
   },
   {
    "duration": 10,
    "start_time": "2023-07-08T05:22:46.642Z"
   },
   {
    "duration": 21,
    "start_time": "2023-07-08T05:22:46.670Z"
   },
   {
    "duration": 18,
    "start_time": "2023-07-08T05:22:46.693Z"
   },
   {
    "duration": 679,
    "start_time": "2023-07-08T05:22:46.713Z"
   },
   {
    "duration": 5,
    "start_time": "2023-07-08T05:22:47.393Z"
   },
   {
    "duration": 22,
    "start_time": "2023-07-08T05:22:47.399Z"
   },
   {
    "duration": 18,
    "start_time": "2023-07-08T05:22:47.423Z"
   },
   {
    "duration": 5,
    "start_time": "2023-07-08T05:22:47.443Z"
   },
   {
    "duration": 3,
    "start_time": "2023-07-08T05:22:47.451Z"
   },
   {
    "duration": 14,
    "start_time": "2023-07-08T05:22:47.455Z"
   },
   {
    "duration": 6,
    "start_time": "2023-07-08T05:22:47.470Z"
   },
   {
    "duration": 6,
    "start_time": "2023-07-08T05:22:47.478Z"
   },
   {
    "duration": 21,
    "start_time": "2023-07-08T05:22:47.485Z"
   },
   {
    "duration": 11656,
    "start_time": "2023-07-08T05:22:47.508Z"
   },
   {
    "duration": 13,
    "start_time": "2023-07-08T05:22:59.167Z"
   },
   {
    "duration": 3,
    "start_time": "2023-07-08T05:22:59.182Z"
   },
   {
    "duration": 24,
    "start_time": "2023-07-08T05:22:59.187Z"
   },
   {
    "duration": 203,
    "start_time": "2023-07-08T05:22:59.212Z"
   },
   {
    "duration": 256,
    "start_time": "2023-07-08T05:22:59.416Z"
   },
   {
    "duration": 4,
    "start_time": "2023-07-08T05:22:59.673Z"
   },
   {
    "duration": 1563,
    "start_time": "2023-07-08T05:22:59.679Z"
   },
   {
    "duration": 2,
    "start_time": "2023-07-08T05:23:01.244Z"
   },
   {
    "duration": 34,
    "start_time": "2023-07-08T05:23:01.247Z"
   },
   {
    "duration": 48,
    "start_time": "2023-07-08T05:23:01.282Z"
   },
   {
    "duration": 179,
    "start_time": "2023-07-08T05:23:01.332Z"
   },
   {
    "duration": 1024,
    "start_time": "2023-07-08T05:23:01.512Z"
   },
   {
    "duration": 3,
    "start_time": "2023-07-08T05:23:02.537Z"
   },
   {
    "duration": 179,
    "start_time": "2023-07-08T05:23:02.541Z"
   },
   {
    "duration": 172,
    "start_time": "2023-07-08T05:23:02.721Z"
   },
   {
    "duration": 24,
    "start_time": "2023-07-08T05:23:02.895Z"
   },
   {
    "duration": 4,
    "start_time": "2023-07-08T05:23:02.921Z"
   },
   {
    "duration": 1614,
    "start_time": "2023-07-08T05:23:02.926Z"
   },
   {
    "duration": 182,
    "start_time": "2023-07-08T05:23:04.541Z"
   },
   {
    "duration": 183,
    "start_time": "2023-07-08T05:23:04.724Z"
   },
   {
    "duration": 6,
    "start_time": "2023-07-08T05:23:04.909Z"
   },
   {
    "duration": 910,
    "start_time": "2023-07-08T05:23:04.918Z"
   },
   {
    "duration": 957,
    "start_time": "2023-07-08T05:23:05.830Z"
   },
   {
    "duration": 229,
    "start_time": "2023-07-08T05:23:06.788Z"
   },
   {
    "duration": 20,
    "start_time": "2023-07-08T05:23:07.019Z"
   },
   {
    "duration": 9,
    "start_time": "2023-07-08T05:23:07.040Z"
   },
   {
    "duration": 260,
    "start_time": "2023-07-08T05:23:07.069Z"
   },
   {
    "duration": 22,
    "start_time": "2023-07-08T05:23:07.331Z"
   },
   {
    "duration": 20,
    "start_time": "2023-07-08T05:23:07.354Z"
   },
   {
    "duration": 153,
    "start_time": "2023-07-08T05:23:39.656Z"
   },
   {
    "duration": 4,
    "start_time": "2023-07-08T05:25:13.169Z"
   },
   {
    "duration": 3,
    "start_time": "2023-07-08T05:25:29.041Z"
   },
   {
    "duration": 3,
    "start_time": "2023-07-08T05:25:41.965Z"
   },
   {
    "duration": 271,
    "start_time": "2023-07-08T05:29:18.499Z"
   },
   {
    "duration": 7,
    "start_time": "2023-07-08T05:30:39.245Z"
   },
   {
    "duration": 170,
    "start_time": "2023-07-08T05:30:44.395Z"
   },
   {
    "duration": 1206,
    "start_time": "2023-07-08T05:32:04.157Z"
   },
   {
    "duration": 7,
    "start_time": "2023-07-08T05:33:32.880Z"
   },
   {
    "duration": 152,
    "start_time": "2023-07-08T05:33:44.525Z"
   },
   {
    "duration": 1010,
    "start_time": "2023-07-08T05:35:07.876Z"
   }
  ],
  "kernelspec": {
   "display_name": "Python 3 (ipykernel)",
   "language": "python",
   "name": "python3"
  },
  "language_info": {
   "codemirror_mode": {
    "name": "ipython",
    "version": 3
   },
   "file_extension": ".py",
   "mimetype": "text/x-python",
   "name": "python",
   "nbconvert_exporter": "python",
   "pygments_lexer": "ipython3",
   "version": "3.10.9"
  },
  "toc": {
   "base_numbering": 1,
   "nav_menu": {},
   "number_sections": true,
   "sideBar": true,
   "skip_h1_title": true,
   "title_cell": "Table of Contents",
   "title_sidebar": "Contents",
   "toc_cell": false,
   "toc_position": {
    "height": "calc(100% - 180px)",
    "left": "10px",
    "top": "150px",
    "width": "290px"
   },
   "toc_section_display": true,
   "toc_window_display": false
  }
 },
 "nbformat": 4,
 "nbformat_minor": 2
}
