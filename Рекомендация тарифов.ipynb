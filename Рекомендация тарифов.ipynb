{
 "cells": [
  {
   "cell_type": "markdown",
   "metadata": {},
   "source": [
    "# Рекомендация тарифов"
   ]
  },
  {
   "cell_type": "markdown",
   "metadata": {},
   "source": [
    "## Описание проекта"
   ]
  },
  {
   "cell_type": "markdown",
   "metadata": {},
   "source": [
    "### Краткое описание"
   ]
  },
  {
   "cell_type": "markdown",
   "metadata": {},
   "source": [
    "В вашем распоряжении данные о поведении клиентов, которые уже перешли на эти тарифы (из проекта курса «Статистический анализ данных»). Нужно построить модель для задачи классификации, которая выберет подходящий тариф. Предобработка данных не понадобится — вы её уже сделали.\n",
    "\n",
    "Постройте модель с максимально большим значением *accuracy*. Чтобы сдать проект успешно, нужно довести долю правильных ответов по крайней мере до 0.75. Проверьте *accuracy* на тестовой выборке самостоятельно."
   ]
  },
  {
   "cell_type": "markdown",
   "metadata": {},
   "source": [
    "### Описание данных"
   ]
  },
  {
   "cell_type": "markdown",
   "metadata": {},
   "source": [
    "Каждый объект в наборе данных — это информация о поведении одного пользователя за месяц.\n",
    "* `сalls` — количество звонков,\n",
    "\n",
    "* `minutes` — суммарная длительность звонков в минутах,\n",
    "\n",
    "* `messages` — количество sms-сообщений,\n",
    "\n",
    "* `mb_used` — израсходованный интернет-трафик в Мб,\n",
    "\n",
    "* `is_ultra` — каким тарифом пользовался в течение месяца («Ультра» — 1, «Смарт» — 0)."
   ]
  },
  {
   "cell_type": "markdown",
   "metadata": {},
   "source": [
    "### План работы"
   ]
  },
  {
   "cell_type": "markdown",
   "metadata": {},
   "source": [
    "1. Открываем датасет, изучаем общую информацию.\n",
    "\n",
    "2. Разделяем данные на тренировочную, валидационную и тестовую выборки.\n",
    "\n",
    "3. Исследуем разные модели, меняем гиперпараметры, выбираем самые эффективные.\n",
    "\n",
    "4. Проверяем наши модели на тестовой выборке.\n",
    "\n",
    "5. Общий вывод."
   ]
  },
  {
   "cell_type": "markdown",
   "metadata": {},
   "source": [
    "## Проект"
   ]
  },
  {
   "cell_type": "markdown",
   "metadata": {},
   "source": [
    "### Откройте и изучите файл"
   ]
  },
  {
   "cell_type": "code",
   "execution_count": 1,
   "metadata": {},
   "outputs": [],
   "source": [
    "# Импортируем необходимые библиотеки\n",
    "\n",
    "import os\n",
    "import pandas as pd\n",
    "from sklearn.model_selection import train_test_split\n",
    "from sklearn.tree import DecisionTreeClassifier\n",
    "from sklearn.ensemble import RandomForestClassifier\n",
    "from sklearn.linear_model import LogisticRegression\n",
    "from sklearn.metrics import accuracy_score\n",
    "import numpy as np\n",
    "import time"
   ]
  },
  {
   "cell_type": "code",
   "execution_count": 2,
   "metadata": {},
   "outputs": [],
   "source": [
    "# Сохраняем исходный датафрейм в переменной users.\n",
    "\n",
    "pth1 = 'C:\\\\Users\\\\mpeat\\\\Desktop\\\\Practicum_Data_Science\\\\2 Modul\\\\project\\\\users_behavior.csv'\n",
    "pth2 = 'https://code.s3.yandex.net/datasets/users_behavior.csv'\n",
    "    \n",
    "if os.path.exists(pth1):\n",
    "    users = pd.read_csv(pth1)\n",
    "else:\n",
    "    users = pd.read_csv(pth2)"
   ]
  },
  {
   "cell_type": "code",
   "execution_count": 3,
   "metadata": {},
   "outputs": [
    {
     "data": {
      "text/html": [
       "<div>\n",
       "<style scoped>\n",
       "    .dataframe tbody tr th:only-of-type {\n",
       "        vertical-align: middle;\n",
       "    }\n",
       "\n",
       "    .dataframe tbody tr th {\n",
       "        vertical-align: top;\n",
       "    }\n",
       "\n",
       "    .dataframe thead th {\n",
       "        text-align: right;\n",
       "    }\n",
       "</style>\n",
       "<table border=\"1\" class=\"dataframe\">\n",
       "  <thead>\n",
       "    <tr style=\"text-align: right;\">\n",
       "      <th></th>\n",
       "      <th>calls</th>\n",
       "      <th>minutes</th>\n",
       "      <th>messages</th>\n",
       "      <th>mb_used</th>\n",
       "      <th>is_ultra</th>\n",
       "    </tr>\n",
       "  </thead>\n",
       "  <tbody>\n",
       "    <tr>\n",
       "      <th>0</th>\n",
       "      <td>40.0</td>\n",
       "      <td>311.90</td>\n",
       "      <td>83.0</td>\n",
       "      <td>19915.42</td>\n",
       "      <td>0</td>\n",
       "    </tr>\n",
       "    <tr>\n",
       "      <th>1</th>\n",
       "      <td>85.0</td>\n",
       "      <td>516.75</td>\n",
       "      <td>56.0</td>\n",
       "      <td>22696.96</td>\n",
       "      <td>0</td>\n",
       "    </tr>\n",
       "    <tr>\n",
       "      <th>2</th>\n",
       "      <td>77.0</td>\n",
       "      <td>467.66</td>\n",
       "      <td>86.0</td>\n",
       "      <td>21060.45</td>\n",
       "      <td>0</td>\n",
       "    </tr>\n",
       "    <tr>\n",
       "      <th>3</th>\n",
       "      <td>106.0</td>\n",
       "      <td>745.53</td>\n",
       "      <td>81.0</td>\n",
       "      <td>8437.39</td>\n",
       "      <td>1</td>\n",
       "    </tr>\n",
       "    <tr>\n",
       "      <th>4</th>\n",
       "      <td>66.0</td>\n",
       "      <td>418.74</td>\n",
       "      <td>1.0</td>\n",
       "      <td>14502.75</td>\n",
       "      <td>0</td>\n",
       "    </tr>\n",
       "    <tr>\n",
       "      <th>5</th>\n",
       "      <td>58.0</td>\n",
       "      <td>344.56</td>\n",
       "      <td>21.0</td>\n",
       "      <td>15823.37</td>\n",
       "      <td>0</td>\n",
       "    </tr>\n",
       "    <tr>\n",
       "      <th>6</th>\n",
       "      <td>57.0</td>\n",
       "      <td>431.64</td>\n",
       "      <td>20.0</td>\n",
       "      <td>3738.90</td>\n",
       "      <td>1</td>\n",
       "    </tr>\n",
       "    <tr>\n",
       "      <th>7</th>\n",
       "      <td>15.0</td>\n",
       "      <td>132.40</td>\n",
       "      <td>6.0</td>\n",
       "      <td>21911.60</td>\n",
       "      <td>0</td>\n",
       "    </tr>\n",
       "    <tr>\n",
       "      <th>8</th>\n",
       "      <td>7.0</td>\n",
       "      <td>43.39</td>\n",
       "      <td>3.0</td>\n",
       "      <td>2538.67</td>\n",
       "      <td>1</td>\n",
       "    </tr>\n",
       "    <tr>\n",
       "      <th>9</th>\n",
       "      <td>90.0</td>\n",
       "      <td>665.41</td>\n",
       "      <td>38.0</td>\n",
       "      <td>17358.61</td>\n",
       "      <td>0</td>\n",
       "    </tr>\n",
       "  </tbody>\n",
       "</table>\n",
       "</div>"
      ],
      "text/plain": [
       "   calls  minutes  messages   mb_used  is_ultra\n",
       "0   40.0   311.90      83.0  19915.42         0\n",
       "1   85.0   516.75      56.0  22696.96         0\n",
       "2   77.0   467.66      86.0  21060.45         0\n",
       "3  106.0   745.53      81.0   8437.39         1\n",
       "4   66.0   418.74       1.0  14502.75         0\n",
       "5   58.0   344.56      21.0  15823.37         0\n",
       "6   57.0   431.64      20.0   3738.90         1\n",
       "7   15.0   132.40       6.0  21911.60         0\n",
       "8    7.0    43.39       3.0   2538.67         1\n",
       "9   90.0   665.41      38.0  17358.61         0"
      ]
     },
     "execution_count": 3,
     "metadata": {},
     "output_type": "execute_result"
    }
   ],
   "source": [
    "# Ознакомимся с данными\n",
    "users.head(10)"
   ]
  },
  {
   "cell_type": "code",
   "execution_count": 4,
   "metadata": {},
   "outputs": [
    {
     "name": "stdout",
     "output_type": "stream",
     "text": [
      "<class 'pandas.core.frame.DataFrame'>\n",
      "RangeIndex: 3214 entries, 0 to 3213\n",
      "Data columns (total 5 columns):\n",
      " #   Column    Non-Null Count  Dtype  \n",
      "---  ------    --------------  -----  \n",
      " 0   calls     3214 non-null   float64\n",
      " 1   minutes   3214 non-null   float64\n",
      " 2   messages  3214 non-null   float64\n",
      " 3   mb_used   3214 non-null   float64\n",
      " 4   is_ultra  3214 non-null   int64  \n",
      "dtypes: float64(4), int64(1)\n",
      "memory usage: 125.7 KB\n"
     ]
    }
   ],
   "source": [
    "users.info()"
   ]
  },
  {
   "cell_type": "markdown",
   "metadata": {},
   "source": [
    "Имеем датафрейм длинной 3214 строк. Пропуски отсутствуют, т.к. была ранее сделана предобработка."
   ]
  },
  {
   "cell_type": "markdown",
   "metadata": {},
   "source": [
    "Так как предобработка данных не требуется, то данный этап пропускаем."
   ]
  },
  {
   "cell_type": "markdown",
   "metadata": {},
   "source": [
    "**Вывод:** В исходном датафрейме имеем 3214 объектов(строк). Ключевым признаком является столбец `is_ultra`. 1 означает, что подключен тариф *ultra*, 0 - *smart*. Данный признак занесем в отдельную переменную *`target`*, все остальные - в *`features`*."
   ]
  },
  {
   "cell_type": "markdown",
   "metadata": {},
   "source": [
    "### Разбейте данные на выборки"
   ]
  },
  {
   "cell_type": "markdown",
   "metadata": {},
   "source": [
    "Для проведения исследования необходимо разбит данные на 3 выборки: ***тренировочная, валидационная, тестовая***. Разобьем данные в пропорции ***3:1:1***."
   ]
  },
  {
   "cell_type": "code",
   "execution_count": 5,
   "metadata": {},
   "outputs": [],
   "source": [
    "# Выделяем признаки в отдельные переменные\n",
    "target = users['is_ultra'] # ключевой признак\n",
    "features = users.drop(['is_ultra'], axis=1) # остальные признаки\n",
    "\n",
    "# Разбиваем данные на 3 выборки\n",
    "features_train, features_notrain, target_train, target_notrain = train_test_split(features, target, test_size=0.4, random_state=1)\n",
    "features_valid, features_test, target_valid, target_test = train_test_split(features_notrain, target_notrain, test_size=0.5, random_state=1)"
   ]
  },
  {
   "cell_type": "code",
   "execution_count": 6,
   "metadata": {},
   "outputs": [
    {
     "name": "stdout",
     "output_type": "stream",
     "text": [
      "(1928, 4) (1928,) \n",
      " (643, 4) (643,) \n",
      " (643, 4) (643,)\n"
     ]
    }
   ],
   "source": [
    "# Проверим выборки\n",
    "print(features_train.shape, target_train.shape,'\\n',\n",
    "      features_valid.shape, target_valid.shape,'\\n',\n",
    "      features_test.shape, target_test.shape)"
   ]
  },
  {
   "cell_type": "markdown",
   "metadata": {},
   "source": [
    "Выборки получились правильных размеров."
   ]
  },
  {
   "cell_type": "markdown",
   "metadata": {},
   "source": [
    "Вывод: В данном пункте методом **`train_test_split`** разделили данные на 3 выборки. В итоге имеем две одинаковые ***тестовую и валидациюнную*** выборки размером по 643 строк, и ***тренировочную выборку*** в 3 раза больше размером 1928 строк."
   ]
  },
  {
   "cell_type": "markdown",
   "metadata": {},
   "source": [
    "### Исследуйте модели"
   ]
  },
  {
   "cell_type": "markdown",
   "metadata": {},
   "source": [
    "Для решения задачи, используем 3 модели машинного обучения: ***решающее дерево, случайный лес, логистическая регрессия***.\n",
    "\n",
    "Для каждой модели подберем оптимальные гиперпараметры, и в замерим метрики качества и скорости."
   ]
  },
  {
   "cell_type": "code",
   "execution_count": 7,
   "metadata": {},
   "outputs": [
    {
     "name": "stdout",
     "output_type": "stream",
     "text": [
      "Accuracy лучшей модели на валидационной выборке: 0.796 \n",
      "Максимальная глубина: 9 \n",
      "Потраченное время 0.202 c\n"
     ]
    }
   ],
   "source": [
    "# Решающее дерево\n",
    "\n",
    "best_result_dt = 0\n",
    "best_model_dt = None\n",
    "best_depth_dt = 0\n",
    "start_time = time.time()\n",
    "\n",
    "for depth in range(1, 15):    \n",
    "    model_dt = DecisionTreeClassifier(max_depth=depth, random_state=1)\n",
    "    model_dt.fit(features_train, target_train)\n",
    "    result = model_dt.score(features_valid, target_valid)\n",
    "    \n",
    "    if result > best_result_dt:\n",
    "        best_result_dt = result\n",
    "        best_model_dt = model_dt\n",
    "        best_depth_dt = depth\n",
    "        \n",
    "print('Accuracy лучшей модели на валидационной выборке:', best_result_dt.round(3),\n",
    "      '\\nМаксимальная глубина:', best_depth_dt,\n",
    "      '\\nПотраченное время', round(time.time() - start_time, 3), 'c')"
   ]
  },
  {
   "cell_type": "markdown",
   "metadata": {},
   "source": [
    "Итоговые результаты, видим перед своими глазами. Можно отметить неплохую точность и довольно высокую скорость инициализации."
   ]
  },
  {
   "cell_type": "code",
   "execution_count": 8,
   "metadata": {},
   "outputs": [
    {
     "name": "stdout",
     "output_type": "stream",
     "text": [
      "Accuracy лучшей модели на валидационной выборке: 0.804 \n",
      "Количество деревьев 40 \n",
      "Максимальная глубина: 11 \n",
      "Потраченное время 15.578 с\n"
     ]
    }
   ],
   "source": [
    "# Случайный лес\n",
    "\n",
    "best_result_rf = 0\n",
    "best_model_rf = None\n",
    "best_depth_rf = 0\n",
    "best_est = 0\n",
    "start_time = time.time()\n",
    "\n",
    "\n",
    "for est in range(10, 51, 10):\n",
    "    for depth in range(1, 15):    \n",
    "        model_rf = RandomForestClassifier(n_estimators=est, max_depth=depth, random_state=1)\n",
    "        model_rf.fit(features_train, target_train)\n",
    "        result = model_rf.score(features_valid, target_valid)\n",
    "\n",
    "        if result > best_result_rf:\n",
    "            best_result_rf = result\n",
    "            best_model_rf = model_rf\n",
    "            best_depth_rf = depth\n",
    "            best_est_rf = est\n",
    "\n",
    "print('Accuracy лучшей модели на валидационной выборке:', best_result_rf.round(3),\n",
    "      '\\nКоличество деревьев', best_est_rf,\n",
    "      '\\nМаксимальная глубина:', best_depth_rf,\n",
    "      '\\nПотраченное время', round(time.time() - start_time, 3), 'с')"
   ]
  },
  {
   "cell_type": "markdown",
   "metadata": {},
   "source": [
    "В данном случае затратили большое количество времени на подбор оптимальной модели, больше 10 секунд.\n",
    "\n",
    "\n",
    "Сократим диапазон количества деревьев с 50 до 20."
   ]
  },
  {
   "cell_type": "code",
   "execution_count": 9,
   "metadata": {},
   "outputs": [
    {
     "name": "stdout",
     "output_type": "stream",
     "text": [
      "Accuracy лучшей модели на валидационной выборке: 0.801 \n",
      "Количество деревьев 10 \n",
      "Максимальная глубина: 10 \n",
      "Потраченное время 3.235 с\n"
     ]
    }
   ],
   "source": [
    "# Случайный лес 2\n",
    "\n",
    "best_result_rf = 0\n",
    "best_model_rf = None\n",
    "best_depth_rf = 0\n",
    "best_est = 0\n",
    "start_time = time.time()\n",
    "\n",
    "\n",
    "for est in range(10, 21, 10):\n",
    "    for depth in range(1, 15):    \n",
    "        model_rf = RandomForestClassifier(n_estimators=est, max_depth=depth, random_state=1)\n",
    "        model_rf.fit(features_train, target_train)\n",
    "        result = model_rf.score(features_valid, target_valid)\n",
    "\n",
    "        if result > best_result_rf:\n",
    "            best_result_rf = result\n",
    "            best_model_rf = model_rf\n",
    "            best_depth_rf = depth\n",
    "            best_est_rf = est\n",
    "\n",
    "print('Accuracy лучшей модели на валидационной выборке:', best_result_rf.round(3),\n",
    "      '\\nКоличество деревьев', best_est_rf,\n",
    "      '\\nМаксимальная глубина:', best_depth_rf,\n",
    "      '\\nПотраченное время', round(time.time() - start_time, 3), 'с')"
   ]
  },
  {
   "cell_type": "markdown",
   "metadata": {},
   "source": [
    "Сократили время инициализации оптимальной модели в 5 раз почти не потеряв в точности. Оставим данный результат как конечный."
   ]
  },
  {
   "cell_type": "code",
   "execution_count": 10,
   "metadata": {},
   "outputs": [
    {
     "name": "stdout",
     "output_type": "stream",
     "text": [
      "Accuracy модели логистической регрессии на валидационной выборке: 0.788 \n",
      "Потраченное время 0.118 c\n"
     ]
    }
   ],
   "source": [
    "# Логистическая регрессия\n",
    "\n",
    "start_time = time.time()\n",
    "model_lr = LogisticRegression(solver='lbfgs', max_iter=1000, random_state=1)\n",
    "model_lr.fit(features_train, target_train)\n",
    "result = model_rf.score(features_valid, target_valid)\n",
    "\n",
    "print('Accuracy модели логистической регрессии на валидационной выборке:', result.round(3),\n",
    "     '\\nПотраченное время', round(time.time() - start_time, 3), 'c')"
   ]
  },
  {
   "cell_type": "markdown",
   "metadata": {},
   "source": [
    "Модель логистической регрессии самая быстрая, так как в ней меньше всего гиперпараметров, но не самая точная."
   ]
  },
  {
   "cell_type": "markdown",
   "metadata": {},
   "source": [
    "**Вывод:** В ходе перебора гиперпаратметров, получили 3 оптимальные модели:\n",
    "* Модель решающего дерева: качество - 79,6%, время на подбор - 0,176c;\n",
    "* Модель случайного леса: качество - 80,1%, время на подбор - 2,227с;\n",
    "* Модель логистической регрессии: качество - 79,8%, время на создание - 0,081с;\n",
    "\n",
    "Модель случаного леса является самой точной, но одновременно самой медленной, напротив модель логистической регрессии самая быстрая и вторая по точности примерно такую же точность показала модель решающего дерева."
   ]
  },
  {
   "cell_type": "markdown",
   "metadata": {},
   "source": [
    "### Проверьте модель на тестовой выборке"
   ]
  },
  {
   "cell_type": "markdown",
   "metadata": {},
   "source": [
    "Для тестирования выберем модель *`случайного леса`*, т.к. она показала лучший результат на валидации."
   ]
  },
  {
   "cell_type": "code",
   "execution_count": 11,
   "metadata": {},
   "outputs": [
    {
     "name": "stdout",
     "output_type": "stream",
     "text": [
      "Точность на тестовой выборке: 0.81 \n",
      "Продолжительность работы: 0.01099 c\n"
     ]
    }
   ],
   "source": [
    "# Проверка лучшей модели на тестовой выборке\n",
    "\n",
    "start_time = time.time()\n",
    "res2 = best_model_rf.score(features_test, target_test)\n",
    "duration2 = time.time() - start_time\n",
    "\n",
    "print('Точность на тестовой выборке:', res2.round(3), '\\nПродолжительность работы:', round(duration2, 5), 'c')"
   ]
  },
  {
   "cell_type": "markdown",
   "metadata": {},
   "source": [
    "**Вывод:** Для тестирования была выбрана модель *`случаного леса`*, которая показала лучший результат на валидации - **80,1%**. На тестовой выборке точность модели осталась примерно на том же уровне - **81%** (надо сделать ремарку, что в реальных задачах мы так проверить точность модели на тесте не сможем, но так как у нас известны правильные ответы, то мы проверим), что говорит о том что наша модель не переобучена и пригодна для дальнейшей работы."
   ]
  },
  {
   "cell_type": "markdown",
   "metadata": {},
   "source": [
    "### (бонус) Проверьте модели на адекватность"
   ]
  },
  {
   "cell_type": "markdown",
   "metadata": {},
   "source": [
    "Для проверки моделей на адекватность, необходимо их точность сравнить с точностью, при случайном выборе значения ключевого признака. В теории у в ключевом признаке есть только 2 значения, 0 и 1, а значит вероятность получить то или иное значение при случайном выборе будет 0,5, следовательно точность угадывания тоже будет случайной на уровне 0,5. Чтобы не быть голословным, смоделируем модель, которая случайно выбирает значения."
   ]
  },
  {
   "cell_type": "code",
   "execution_count": 12,
   "metadata": {},
   "outputs": [
    {
     "name": "stdout",
     "output_type": "stream",
     "text": [
      "Медианное значение: 0.49922239502332816\n",
      "Максимальное значение: 0.5614307931570762\n",
      "p-value для значения 0.55 и выше: 0.3 %\n"
     ]
    },
    {
     "data": {
      "image/png": "[encoded data removed]",
      "text/plain": [
       "<Figure size 640x480 with 1 Axes>"
      ]
     },
     "metadata": {},
     "output_type": "display_data"
    }
   ],
   "source": [
    "res = [] # сюда будем заносить значения точности модели в n-ой итерации\n",
    "\n",
    "# Смоделируем эксперимент 1000 раз\n",
    "for i in range(1000):\n",
    "    target_test_random = pd.Series(np.random.randint(0, 2, target_test.shape[0]), index=target_test.index)    \n",
    "    accuracy = accuracy_score(target_test_random, target_test)\n",
    "    res.append(accuracy)\n",
    "    \n",
    "res_data = pd.Series(res) # превращаем список в Series\n",
    "res_data.hist() # строим гистограмму\n",
    "None\n",
    "\n",
    "print('Медианное значение:', res_data.median()) # выводим медианное значение\n",
    "print('Максимальное значение:', res_data.max()) # максимальное значение точности\n",
    "print('p-value для значения 0.55 и выше:', res_data[res_data > 0.55].count() / 10, \"%\") "
   ]
  },
  {
   "cell_type": "code",
   "execution_count": 13,
   "metadata": {},
   "outputs": [
    {
     "data": {
      "text/plain": [
       "3"
      ]
     },
     "execution_count": 13,
     "metadata": {},
     "output_type": "execute_result"
    }
   ],
   "source": [
    "res_data[res_data > 0.55].count() # отдельно выведем количество случаев с высокой точности из 1000"
   ]
  },
  {
   "cell_type": "markdown",
   "metadata": {},
   "source": [
    "**Вывод:** Как видим, в среднем, при случаном случайная модель будет показывать точность около 0.50, максимальная точность будет в районе 0.55, и вероятность получить такое значение менее 1 процента или около него.\n",
    "\n",
    "Минимальная точность, которую показали наши модели, в районе 0.75, что в полтора раза выше точности случайного выбора. Вероятность получить такую точность при случайном выборе настолько мала, что ей можно пренебречь, а значит, все получившиеся модели прошли тест на адекватность."
   ]
  },
  {
   "cell_type": "markdown",
   "metadata": {},
   "source": [
    "## Общий вывод"
   ]
  },
  {
   "cell_type": "markdown",
   "metadata": {},
   "source": [
    "В ходе исследования, получили следующие выводы:\n",
    "\n",
    "1. ***Загрузка данных.*** \n",
    "    \n",
    "    В данных представлена информация о поведении клиентов и их тарифах. Ключевой признак - тариф находится в столбце `is_ultra`. Исходный размер - **3214 строк**. Предобработка данных не потребовалась так как была выполнена ранее, следовательно пропусков, дубликатов и других артефактов не обнаружено.\n",
    "\n",
    "\n",
    "2. ***Разделение данных.***\n",
    "\n",
    "    Данные были разделены на ***тренировочную, валидационную и тестовую*** выборки в пропорции **3:1:1**.\n",
    "\n",
    "\n",
    "3. ***Исследование моделей.***\n",
    "\n",
    "    Изучены разные модели, проведена настройка гиперпараметров. Самая точная модель - *`случайный лес`*, с точностью **80,1%**, но также самая медленная. Второй по точности оказалась модель *`решающего дерева`* с точностью **79,6%**. Модель *`логистической регрессии`* оказалась самой быстрой, но с точностью **79,8%**.\n",
    "    \n",
    "    \n",
    "4. ***Проверка моделей.***\n",
    "\n",
    "    На этапе тестирования *`модель случайного леса`* показала точность тот же уровень точности что и на валидации, что свидетельствует о ее непереобученности и пригодности для дальнейшей работы.\n",
    "    \n",
    "5. ***Проверка моделей на адекватность.***\n",
    "\n",
    "    Все модели прошли проверку на адекватность, так как их точность значительно выше случайного выбора (0,5).\n",
    "    \n",
    "    \n",
    "Анализ результатов позволяет сделать вывод, что лучшей моделью для рекомендации тарифов является случайный лес, обеспечивающий точность 81%.\n",
    "\n",
    "\n",
    "\n",
    "\n",
    "\n"
   ]
  },
  {
   "cell_type": "markdown",
   "metadata": {},
   "source": [
    "## Чек-лист готовности проекта"
   ]
  },
  {
   "cell_type": "markdown",
   "metadata": {},
   "source": [
    "Поставьте 'x' в выполненных пунктах. Далее нажмите Shift+Enter."
   ]
  },
  {
   "cell_type": "markdown",
   "metadata": {},
   "source": [
    "- [x] Jupyter Notebook открыт\n",
    "- [x] Весь код исполняется без ошибок\n",
    "- [x] Ячейки с кодом расположены в порядке исполнения\n",
    "- [x] Выполнено задание 1: данные загружены и изучены\n",
    "- [x] Выполнено задание 2: данные разбиты на три выборки\n",
    "- [x] Выполнено задание 3: проведено исследование моделей\n",
    "    - [x] Рассмотрено больше одной модели\n",
    "    - [x] Рассмотрено хотя бы 3 значения гипепараметров для какой-нибудь модели\n",
    "    - [x] Написаны выводы по результатам исследования\n",
    "- [x] Выполнено задание 3: Проведено тестирование\n",
    "- [x] Удалось достичь accuracy не меньше 0.75\n"
   ]
  }
 ],
 "metadata": {
  "ExecuteTimeLog": [
   {
    "duration": 1342,
    "start_time": "2023-07-12T07:58:29.987Z"
   },
   {
    "duration": 127,
    "start_time": "2023-07-12T07:58:31.331Z"
   },
   {
    "duration": 24,
    "start_time": "2023-07-12T07:58:31.460Z"
   },
   {
    "duration": 37,
    "start_time": "2023-07-12T07:58:31.486Z"
   },
   {
    "duration": 71,
    "start_time": "2023-07-12T07:58:31.526Z"
   },
   {
    "duration": 47,
    "start_time": "2023-07-12T07:58:31.599Z"
   },
   {
    "duration": 170,
    "start_time": "2023-07-12T07:58:31.648Z"
   },
   {
    "duration": 6725,
    "start_time": "2023-07-12T07:58:31.819Z"
   },
   {
    "duration": 1414,
    "start_time": "2023-07-12T07:58:38.546Z"
   },
   {
    "duration": 55,
    "start_time": "2023-07-12T07:58:39.962Z"
   },
   {
    "duration": 17,
    "start_time": "2023-07-12T07:58:40.019Z"
   },
   {
    "duration": 1002,
    "start_time": "2023-07-12T07:58:40.038Z"
   },
   {
    "duration": 6,
    "start_time": "2023-07-12T07:58:41.043Z"
   },
   {
    "duration": 4,
    "start_time": "2023-07-12T10:13:37.317Z"
   },
   {
    "duration": 50,
    "start_time": "2023-07-12T10:18:15.403Z"
   },
   {
    "duration": 1267,
    "start_time": "2023-07-12T10:18:45.005Z"
   },
   {
    "duration": 292,
    "start_time": "2023-07-12T10:18:46.274Z"
   },
   {
    "duration": 22,
    "start_time": "2023-07-12T10:18:46.568Z"
   },
   {
    "duration": 27,
    "start_time": "2023-07-12T10:18:46.591Z"
   },
   {
    "duration": 7,
    "start_time": "2023-07-12T10:18:46.620Z"
   },
   {
    "duration": 7,
    "start_time": "2023-07-12T10:18:46.629Z"
   },
   {
    "duration": 118,
    "start_time": "2023-07-12T10:18:46.637Z"
   },
   {
    "duration": 6188,
    "start_time": "2023-07-12T10:18:46.757Z"
   },
   {
    "duration": 1345,
    "start_time": "2023-07-12T10:18:52.947Z"
   },
   {
    "duration": 45,
    "start_time": "2023-07-12T10:18:54.294Z"
   },
   {
    "duration": 3,
    "start_time": "2023-07-12T10:18:54.341Z"
   },
   {
    "duration": 14,
    "start_time": "2023-07-12T10:19:12.755Z"
   },
   {
    "duration": 10,
    "start_time": "2023-07-12T10:19:24.468Z"
   },
   {
    "duration": 10,
    "start_time": "2023-07-12T10:20:06.703Z"
   },
   {
    "duration": 11,
    "start_time": "2023-07-12T10:20:19.645Z"
   },
   {
    "duration": 100,
    "start_time": "2023-07-12T10:24:39.381Z"
   },
   {
    "duration": 1447,
    "start_time": "2023-07-12T10:42:17.735Z"
   },
   {
    "duration": 95,
    "start_time": "2023-07-12T10:42:19.184Z"
   },
   {
    "duration": 19,
    "start_time": "2023-07-12T10:42:19.281Z"
   },
   {
    "duration": 17,
    "start_time": "2023-07-12T10:42:19.303Z"
   },
   {
    "duration": 10,
    "start_time": "2023-07-12T10:42:19.322Z"
   },
   {
    "duration": 8,
    "start_time": "2023-07-12T10:42:19.334Z"
   },
   {
    "duration": 180,
    "start_time": "2023-07-12T10:42:19.344Z"
   },
   {
    "duration": 6237,
    "start_time": "2023-07-12T10:42:19.526Z"
   },
   {
    "duration": 1280,
    "start_time": "2023-07-12T10:42:25.765Z"
   },
   {
    "duration": 39,
    "start_time": "2023-07-12T10:42:27.048Z"
   },
   {
    "duration": 3,
    "start_time": "2023-07-12T10:42:27.101Z"
   },
   {
    "duration": 29,
    "start_time": "2023-07-12T10:42:27.106Z"
   },
   {
    "duration": 977,
    "start_time": "2023-07-12T10:42:27.136Z"
   },
   {
    "duration": 6,
    "start_time": "2023-07-12T10:42:28.116Z"
   },
   {
    "duration": 1264,
    "start_time": "2023-07-12T13:21:58.462Z"
   },
   {
    "duration": 142,
    "start_time": "2023-07-12T13:21:59.728Z"
   },
   {
    "duration": 18,
    "start_time": "2023-07-12T13:21:59.872Z"
   },
   {
    "duration": 12,
    "start_time": "2023-07-12T13:21:59.892Z"
   },
   {
    "duration": 7,
    "start_time": "2023-07-12T13:21:59.905Z"
   },
   {
    "duration": 4,
    "start_time": "2023-07-12T13:21:59.914Z"
   },
   {
    "duration": 146,
    "start_time": "2023-07-12T13:21:59.919Z"
   },
   {
    "duration": 6475,
    "start_time": "2023-07-12T13:22:00.067Z"
   },
   {
    "duration": 1441,
    "start_time": "2023-07-12T13:22:06.544Z"
   },
   {
    "duration": 42,
    "start_time": "2023-07-12T13:22:07.988Z"
   },
   {
    "duration": 3,
    "start_time": "2023-07-12T13:22:08.031Z"
   },
   {
    "duration": 10,
    "start_time": "2023-07-12T13:22:08.054Z"
   },
   {
    "duration": 988,
    "start_time": "2023-07-12T13:22:08.066Z"
   },
   {
    "duration": 5,
    "start_time": "2023-07-12T13:22:09.056Z"
   }
  ],
  "kernelspec": {
   "display_name": "Python 3 (ipykernel)",
   "language": "python",
   "name": "python3"
  },
  "language_info": {
   "codemirror_mode": {
    "name": "ipython",
    "version": 3
   },
   "file_extension": ".py",
   "mimetype": "text/x-python",
   "name": "python",
   "nbconvert_exporter": "python",
   "pygments_lexer": "ipython3",
   "version": "3.10.9"
  },
  "toc": {
   "base_numbering": 1,
   "nav_menu": {},
   "number_sections": true,
   "sideBar": true,
   "skip_h1_title": true,
   "title_cell": "Table of Contents",
   "title_sidebar": "Contents",
   "toc_cell": false,
   "toc_position": {
    "height": "calc(100% - 180px)",
    "left": "10px",
    "top": "150px",
    "width": "165px"
   },
   "toc_section_display": true,
   "toc_window_display": false
  }
 },
 "nbformat": 4,
 "nbformat_minor": 2
}
