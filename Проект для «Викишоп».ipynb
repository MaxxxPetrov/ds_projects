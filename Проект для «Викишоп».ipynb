{
 "cells": [
  {
   "cell_type": "markdown",
   "metadata": {
    "id": "jV-s9dlgjCjQ",
    "toc": true
   },
   "source": [
    "<h1>Содержание<span class=\"tocSkip\"></span></h1>\n",
    "<div class=\"toc\"><ul class=\"toc-item\"><li><span><a href=\"#Подготовка\" data-toc-modified-id=\"Подготовка-1\"><span class=\"toc-item-num\">1&nbsp;&nbsp;</span>Подготовка</a></span></li><li><span><a href=\"#Обучение-моделей\" data-toc-modified-id=\"Обучение-моделей-2\"><span class=\"toc-item-num\">2&nbsp;&nbsp;</span>Обучение моделей</a></span></li><li><span><a href=\"#Финальная-проверка-модели\" data-toc-modified-id=\"Финальная-проверка-модели-3\"><span class=\"toc-item-num\">3&nbsp;&nbsp;</span>Финальная проверка модели</a></span></li><li><span><a href=\"#Выводы\" data-toc-modified-id=\"Выводы-4\"><span class=\"toc-item-num\">4&nbsp;&nbsp;</span>Выводы</a></span></li><li><span><a href=\"#Чек-лист-проверки\" data-toc-modified-id=\"Чек-лист-проверки-5\"><span class=\"toc-item-num\">5&nbsp;&nbsp;</span>Чек-лист проверки</a></span></li></ul></div>"
   ]
  },
  {
   "cell_type": "markdown",
   "metadata": {
    "id": "Qpe06-cIjCjY"
   },
   "source": [
    "# Проект для «Викишоп»"
   ]
  },
  {
   "cell_type": "markdown",
   "metadata": {
    "id": "UYdQux8LjCjZ"
   },
   "source": [
    "Интернет-магазин «Викишоп» запускает новый сервис. Теперь пользователи могут редактировать и дополнять описания товаров, как в вики-сообществах. То есть клиенты предлагают свои правки и комментируют изменения других. Магазину нужен инструмент, который будет искать токсичные комментарии и отправлять их на модерацию.\n",
    "\n",
    "Обучите модель классифицировать комментарии на позитивные и негативные. В вашем распоряжении набор данных с разметкой о токсичности правок.\n",
    "\n",
    "Постройте модель со значением метрики качества *F1* не меньше 0.75.\n",
    "\n",
    "**Инструкция по выполнению проекта**\n",
    "\n",
    "1. Загрузите и подготовьте данные.\n",
    "2. Обучите разные модели.\n",
    "3. Сделайте выводы.\n",
    "\n",
    "**Описание данных**\n",
    "\n",
    "Данные находятся в файле `toxic_comments.csv`. Столбец *text* в нём содержит текст комментария, а *toxic* — целевой признак."
   ]
  },
  {
   "cell_type": "markdown",
   "metadata": {
    "id": "7BvMhYRAjCjb"
   },
   "source": [
    "## Подготовка"
   ]
  },
  {
   "cell_type": "code",
   "execution_count": null,
   "metadata": {
    "colab": {
     "base_uri": "https://localhost:8080/"
    },
    "id": "H0swncnVjCjc",
    "outputId": "1bba7344-73a4-4da0-ba2c-5a2508be6dd0"
   },
   "outputs": [],
   "source": [
    "# import libraries\n",
    "!pip install optuna --quiet --disable-pip-version-check\n",
    "import optuna\n",
    "import warnings\n",
    "warnings.filterwarnings('ignore')\n",
    "import numpy as np\n",
    "import pandas as pd\n",
    "from tqdm import tqdm\n",
    "import re\n",
    "import nltk\n",
    "from nltk.corpus import stopwords\n",
    "from sklearn.feature_extraction.text import TfidfVectorizer\n",
    "from sklearn.model_selection import train_test_split, cross_val_score\n",
    "from sklearn.metrics import f1_score, accuracy_score, roc_auc_score, precision_score, recall_score\n",
    "from sklearn.linear_model import LogisticRegression, PassiveAggressiveClassifier\n",
    "from sklearn.svm import LinearSVC\n",
    "from sklearn.dummy import DummyClassifier"
   ]
  },
  {
   "cell_type": "code",
   "execution_count": null,
   "metadata": {
    "colab": {
     "base_uri": "https://localhost:8080/"
    },
    "id": "H0swncnVjCjc",
    "outputId": "1bba7344-73a4-4da0-ba2c-5a2508be6dd0"
   },
   "outputs": [],
   "source": [
    "# technical aspects\n",
    "tqdm.pandas()\n",
    "lemmatizer = nltk.stem.WordNetLemmatizer()\n",
    "nltk.download('wordnet')\n",
    "nltk.download('stopwords')\n",
    "stop_words = list(stopwords.words('english'))"
   ]
  },
  {
   "cell_type": "markdown",
   "metadata": {},
   "source": [
    "\n",
    "\n",
    "<div class=\"alert alert-block alert-success\">\n",
    "<b>Успех:</b> Импорты и настройки на месте\n",
    "</div>\n"
   ]
  },
  {
   "cell_type": "code",
   "execution_count": null,
   "metadata": {
    "colab": {
     "base_uri": "https://localhost:8080/"
    },
    "id": "ibY2F9ry-X9k",
    "outputId": "edd5ef8e-5e0e-48f6-ff8f-b47bf90499a3"
   },
   "outputs": [],
   "source": [
    "# load dataset\n",
    "try:\n",
    "    df = df.read_csv('toxic_comments.csv', index_col=[0])\n",
    "except:\n",
    "    df = pd.read_csv('https://code.s3.yandex.net/datasets/toxic_comments.csv', index_col=[0])"
   ]
  },
  {
   "cell_type": "code",
   "execution_count": null,
   "metadata": {
    "colab": {
     "base_uri": "https://localhost:8080/",
     "height": 424
    },
    "id": "DPVHhT9jjCjg",
    "outputId": "5bdf2560-3187-4c0a-b3b3-b05cf25dae4b"
   },
   "outputs": [],
   "source": [
    "df # show data"
   ]
  },
  {
   "cell_type": "markdown",
   "metadata": {},
   "source": [
    "кривые индексы"
   ]
  },
  {
   "cell_type": "code",
   "execution_count": null,
   "metadata": {
    "id": "0aDpBfuojCjh"
   },
   "outputs": [],
   "source": [
    "# reset index & 'toxic' distribution\n",
    "df = df.reset_index(drop=True)\n",
    "df['toxic'].value_counts()"
   ]
  },
  {
   "cell_type": "markdown",
   "metadata": {},
   "source": [
    "Видим дисбаланс классов"
   ]
  },
  {
   "cell_type": "code",
   "execution_count": null,
   "metadata": {
    "id": "zG3frj1VjCji"
   },
   "outputs": [],
   "source": [
    "# preprocessing function for text\n",
    "\n",
    "def text_preprocessing(text):\n",
    "    text = text.lower() # low case\n",
    "    text = re.sub(r\"[^a-z ]\", ' ', text) # cleaning from signs\n",
    "    text = text.split() # tokenization\n",
    "    text = [lemmatizer.lemmatize(word) for word in text] # lemmatize\n",
    "    text = [word for word in text if word not in stop_words] # cleaning from stopwords\n",
    "    text = \" \".join(text) # join tokens to text\n",
    "    return text"
   ]
  },
  {
   "cell_type": "code",
   "execution_count": null,
   "metadata": {
    "colab": {
     "base_uri": "https://localhost:8080/"
    },
    "id": "yWK7sxDMjCjj",
    "outputId": "8c0aa1e2-6cd7-4d0b-a6c8-333e7e955861"
   },
   "outputs": [],
   "source": [
    "# apply func\n",
    "tweets = df['text'].progress_apply(text_preprocessing)\n",
    "tweets"
   ]
  },
  {
   "cell_type": "code",
   "execution_count": null,
   "metadata": {
    "id": "BkY0dRvsjCjj"
   },
   "outputs": [],
   "source": [
    "# split of samples\n",
    "\n",
    "X_train, X_test, y_train, y_test = train_test_split(tweets, df.toxic, test_size=0.2, random_state=1234, shuffle=True)\n",
    "# X_train, X_val, y_train, y_val = train_test_split(X_train, y_train, test_size=0.25, random_state=1234, shuffle=True)"
   ]
  },
  {
   "cell_type": "code",
   "execution_count": null,
   "metadata": {
    "id": "b7EKhMCbjCjj"
   },
   "outputs": [],
   "source": [
    "# tf-idf vectors\n",
    "\n",
    "count_tf_idf = TfidfVectorizer() # init tfidf\n",
    "tf_idf_train = count_tf_idf.fit_transform(X_train) # fit on TRAIN data and transform to tf_idf\n",
    "tf_idf_test = count_tf_idf.transform(X_test) # test data transform to tf_idf\n",
    "# tf_idf_val = count_tf_idf.transform(X_val)"
   ]
  },
  {
   "cell_type": "markdown",
   "metadata": {},
   "source": [
    "**Вывод:** В ходе подготовки было сделано:\n",
    "* загружен датасет;\n",
    "* предобработка текста:\n",
    "   * приведение к нижнему регистру;\n",
    "   * очистка от лишних символов, чисел;\n",
    "   * токенизация;\n",
    "   * лемматизация;\n",
    "   * очистка от стоп слов.\n",
    "* разделение данных на тренировочную и тестовую выборки;   \n",
    "* преобразования текстов в вектора TF_IDF."
   ]
  },
  {
   "cell_type": "markdown",
   "metadata": {
    "id": "00JNhhcVjCjl"
   },
   "source": [
    "## Обучение моделей"
   ]
  },
  {
   "cell_type": "markdown",
   "metadata": {},
   "source": [
    "Весь процесс обучения будет заложен происходить одновременно с подбором гиперпараметров на optuna. В финальный тест пойдет лучшая модель с лучшими гиперпараметрами.\n",
    "\n",
    "В качестве моделей был сделан выбор в пользу линейных моделей(Логистическая регрессия, линейный метод опорных векторов и \"пассивно агрессивный\" классификатор), т.к. они работают с разреженными матрицами быстрее чем деревья и ансамбли.\n",
    "\n",
    "В качестве гиперпараметра был выбран параметр \"С\" - величина обратная величине регуляризации. Больше никаких гиперпараметров не рассматривалось в пользу ускорения обучения.\n",
    "\n",
    "Т.к классы не сбалансированы, то они взвешиваются при инициализации моделей.\n",
    "\n",
    "Для проверки качества используется кросс-валидация. Берется среднее значение после каждого испытания.\n",
    "\n",
    "Целевой функцией является F1-мера, нам нужно максимизировать ее значение, также необходимо получить значение F1 не менее 0.75"
   ]
  },
  {
   "cell_type": "code",
   "execution_count": null,
   "metadata": {
    "id": "19a5UT86Cu_1"
   },
   "outputs": [],
   "source": [
    "# Define an objective function\n",
    "\n",
    "def objective(trial):\n",
    "\n",
    "    # choise hyperparameters(model, c-value)\n",
    "    clf_name = trial.suggest_categorical('classifier', ['LogReg', 'LinearSVC', 'PassAgrClassifier'])\n",
    "    if clf_name == 'LogReg':\n",
    "        c_reg = trial.suggest_float('c_reg', 0.01, 10, log=True)\n",
    "        clf_obj = LogisticRegression(C=c_reg, class_weight='balanced', max_iter=300, random_state=312, n_jobs=-1)\n",
    "    elif clf_name == 'LinearSVC':\n",
    "        c_svc = trial.suggest_float('c_svc', 0.01, 1, log=True)\n",
    "        clf_obj = LinearSVC(C=c_svc, class_weight='balanced', random_state=312)\n",
    "    else:\n",
    "        c_pac = trial.suggest_float('c_pac', 0.01, 1, log=True)\n",
    "        clf_obj = PassiveAggressiveClassifier(C=c_pac, class_weight='balanced', random_state=312, n_jobs=-1)\n",
    "\n",
    "    # calculate obj_val\n",
    "    f1 = cross_val_score(clf_obj, tf_idf_train, y_train, scoring='f1', cv=4, n_jobs=-1).mean()\n",
    "\n",
    "    return f1 # objective value"
   ]
  },
  {
   "cell_type": "code",
   "execution_count": null,
   "metadata": {
    "id": "5yfYl0f1QX7W"
   },
   "outputs": [],
   "source": [
    "study = optuna.create_study(direction='maximize')  # create a new study\n",
    "study.optimize(objective, n_trials=20, n_jobs=-1)  # invoke optimization of the objective function"
   ]
  },
  {
   "cell_type": "code",
   "execution_count": null,
   "metadata": {
    "colab": {
     "base_uri": "https://localhost:8080/",
     "height": 542
    },
    "id": "TzkYOe7_5Agp",
    "outputId": "e9fb1952-0075-4519-e077-bac968d82d57"
   },
   "outputs": [],
   "source": [
    "# plot results\n",
    "fig = optuna.visualization.plot_optimization_history(study)\n",
    "fig.show()"
   ]
  },
  {
   "cell_type": "markdown",
   "metadata": {},
   "source": [
    "F1 метрика выше 0.75 а значит цель достигнута, осталось протестировать модель."
   ]
  },
  {
   "cell_type": "code",
   "execution_count": null,
   "metadata": {
    "colab": {
     "base_uri": "https://localhost:8080/"
    },
    "id": "Rwk9uJId6wed",
    "outputId": "ddb448d6-29b5-465a-b132-79433cd87502"
   },
   "outputs": [],
   "source": [
    "study.best_params # get best params"
   ]
  },
  {
   "cell_type": "markdown",
   "metadata": {
    "id": "qS9E67EP7Brn"
   },
   "source": [
    "{'classifier': 'LogReg', 'c_reg': 7.5308061074557795}\n",
    "\n",
    "*p.s. Данные результаты были получены в результате прогона через 100 испытаний что заняло больше часа. Если нет времени ждать, то можно использовать их*"
   ]
  },
  {
   "cell_type": "markdown",
   "metadata": {},
   "source": [
    "**Вывод:** \n",
    "* На этапе обучения моделей было сделан упор на линейные модели('LogReg', 'LinearSVC', 'PassAgrClassifier'). \n",
    "* С помощью фреймворка optuna былы подобраны гиперпараметры: модель, с-значение.\n",
    "* Результаты испытаний визуализированы на графике\n",
    "* Лучший результат показала логистическая регрессия с f1 показателем 0.762."
   ]
  },
  {
   "cell_type": "markdown",
   "metadata": {
    "id": "fgSmRUmGJeGI"
   },
   "source": [
    "## Финальная проверка модели"
   ]
  },
  {
   "cell_type": "code",
   "execution_count": null,
   "metadata": {
    "id": "646FKYZlJnjb"
   },
   "outputs": [],
   "source": [
    "# best params to var\n",
    "try:\n",
    "    best_c = study.best_params['c_reg']\n",
    "    best_model = study.best_params['classifier']\n",
    "except:\n",
    "    best_c = 7.5308061074557795\n",
    "    best_model = 'LogReg'"
   ]
  },
  {
   "cell_type": "code",
   "execution_count": null,
   "metadata": {
    "id": "5MVYgbstLNaC"
   },
   "outputs": [],
   "source": [
    "# init final model\n",
    "\n",
    "if best_model == 'LogReg':\n",
    "    final_model = LogisticRegression(max_iter=300, random_state=312, class_weight='balanced', C=best_c)\n",
    "\n",
    "elif best_model == 'LinearSVC':\n",
    "    final_model = LinearSVC(class_weight='balanced', random_state=312, C=best_c)\n",
    "\n",
    "else:\n",
    "    final_model = PassiveAggressiveClassifier(class_weight='balanced', random_state=312, C=best_c)"
   ]
  },
  {
   "cell_type": "code",
   "execution_count": null,
   "metadata": {
    "colab": {
     "base_uri": "https://localhost:8080/"
    },
    "id": "aOeQkIF9jCjl",
    "outputId": "7eb78cd2-5113-427a-9dfe-b3ae6af872c8"
   },
   "outputs": [],
   "source": [
    "# final test\n",
    "\n",
    "final_model.fit(tf_idf_train, y_train)\n",
    "preds = final_model.predict(tf_idf_test)\n",
    "\n",
    "print('f1 = ', f1_score(y_test, preds),\n",
    "      '\\naccuracy = ', accuracy_score(y_test, preds),\n",
    "      '\\nprecision = ', precision_score(y_test, preds),\n",
    "      '\\nrecall = ', recall_score(y_test, preds),\n",
    "      '\\nroc_auc = ', roc_auc_score(y_test, preds))"
   ]
  },
  {
   "cell_type": "markdown",
   "metadata": {},
   "source": [
    "На этапе тестирования f1 показало 0.767, что больше требуемого значения 0.75 а значит тестирование прошло успешно.\n",
    "\n",
    "Также для наглядности вывел другие метрики качества, их значения подтверждают хорошее качество модели."
   ]
  },
  {
   "cell_type": "code",
   "execution_count": null,
   "metadata": {
    "colab": {
     "base_uri": "https://localhost:8080/"
    },
    "id": "auStF2Ac8xpe",
    "outputId": "944a928b-51ca-4d15-e64e-9828bc5befc7"
   },
   "outputs": [],
   "source": [
    "# 'dummy' check\n",
    "\n",
    "dummy_model = DummyClassifier(strategy='stratified')\n",
    "dummy_model.fit(tf_idf_train, y_train)\n",
    "preds = dummy_model.predict(tf_idf_test)\n",
    "\n",
    "print('f1 = ', f1_score(y_test, preds),\n",
    "      '\\naccuracy = ', accuracy_score(y_test, preds),\n",
    "      '\\nprecision = ', precision_score(y_test, preds),\n",
    "      '\\nrecall = ', recall_score(y_test, preds),\n",
    "      '\\nroc_auc = ', roc_auc_score(y_test, preds))"
   ]
  },
  {
   "cell_type": "markdown",
   "metadata": {},
   "source": [
    "Также модель прошла проверку на адекватность, показатели Dummy предиктора значительно ниже."
   ]
  },
  {
   "cell_type": "markdown",
   "metadata": {},
   "source": [
    "**Вывод:** \n",
    "* Финальная модель на тестировании показала f1=0.767 что соответствует целевому значению.\n",
    "* Модель прошла проверку на адекватность. Метрики качества на порядок выше чем у бейзлайна."
   ]
  },
  {
   "cell_type": "markdown",
   "metadata": {
    "id": "hWc4Hb3_jCjl"
   },
   "source": [
    "## Выводы"
   ]
  },
  {
   "cell_type": "markdown",
   "metadata": {
    "id": "TCVJcJeTjCjm"
   },
   "source": [
    "**Цель:** построить модель для классификации токсичных комментариев с метрикой F1 не меньше 0.75.\n",
    "\n",
    "Задачи:\n",
    "* Загрузка и предобработка данных:\n",
    "  * Загружен датасет toxic_comments.csv\n",
    "  * Приведение текста к нижнему регистру\n",
    "  * Очистка от лишних символов и чисел\n",
    "  * Токенизация\n",
    "  * Лемматизация\n",
    "  * Удаление стоп-слов\n",
    "  * Разделение выборки на обучающую и тестовую\n",
    "  * Преобразование текстов в вектора TF-IDF\n",
    "* Обучение и подбор гиперпараметров:\n",
    "  * Использованы линейные модели: логистическая регрессия, LinearSVC, Passive Aggressive\n",
    "  * С помощью Optuna подобраны гиперпараметры: модель и С-значение\n",
    "  * Для оценки качества использована кросс-валидация\n",
    "  * Целевая метрика - F1 (максимизация)\n",
    "* Тестирование финальной модели:\n",
    "  * Лучшая модель - логистическая регрессия\n",
    "  * На тестовой выборке получено значение F1=0.767\n",
    "  * Проведена проверка на адекватность с помощью бейзлайна\n",
    "\n",
    "**Вывод:** цель и задачи проекта выполнены. Построена модель классификации токсичных комментариев с заданным качеством F1>0.75."
   ]
  },
  {
   "cell_type": "markdown",
   "metadata": {
    "id": "kI1BFsCXjCjm"
   },
   "source": [
    "## Чек-лист проверки"
   ]
  },
  {
   "cell_type": "markdown",
   "metadata": {
    "id": "NqC5-KtRjCjm"
   },
   "source": [
    "- [x]  Jupyter Notebook открыт\n",
    "- [x]  Весь код выполняется без ошибок\n",
    "- [x]  Ячейки с кодом расположены в порядке исполнения\n",
    "- [x]  Данные загружены и подготовлены\n",
    "- [x]  Модели обучены\n",
    "- [x]  Значение метрики *F1* не меньше 0.75\n",
    "- [x]  Выводы написаны"
   ]
  }
 ],
 "metadata": {
  "accelerator": "GPU",
  "colab": {
   "gpuType": "T4",
   "provenance": []
  },
  "kernelspec": {
   "display_name": "Python 3 (ipykernel)",
   "language": "python",
   "name": "python3"
  },
  "language_info": {
   "codemirror_mode": {
    "name": "ipython",
    "version": 3
   },
   "file_extension": ".py",
   "mimetype": "text/x-python",
   "name": "python",
   "nbconvert_exporter": "python",
   "pygments_lexer": "ipython3",
   "version": "3.10.9"
  },
  "toc": {
   "base_numbering": 1,
   "nav_menu": {},
   "number_sections": true,
   "sideBar": true,
   "skip_h1_title": true,
   "title_cell": "Содержание",
   "title_sidebar": "Contents",
   "toc_cell": true,
   "toc_position": {
    "height": "calc(100% - 180px)",
    "left": "10px",
    "top": "150px",
    "width": "302.391px"
   },
   "toc_section_display": true,
   "toc_window_display": false
  }
 },
 "nbformat": 4,
 "nbformat_minor": 1
}
