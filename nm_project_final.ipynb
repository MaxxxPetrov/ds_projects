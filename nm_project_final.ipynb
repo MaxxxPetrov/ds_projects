{
 "cells": [
  {
   "cell_type": "markdown",
   "metadata": {},
   "source": [
    "# Определение стоимости автомобилей"
   ]
  },
  {
   "cell_type": "markdown",
   "metadata": {},
   "source": [
    "# Описание проекта"
   ]
  },
  {
   "cell_type": "markdown",
   "metadata": {},
   "source": [
    "Сервис по продаже автомобилей с пробегом «Не бит, не крашен» разрабатывает приложение, чтобы привлечь новых клиентов. В нём можно будет узнать рыночную стоимость своего автомобиля. \n",
    "\n",
    "Постройте модель, которая умеет её определять. В вашем распоряжении данные о технических характеристиках, комплектации и ценах других автомобилей.\n",
    "\n",
    "Критерии, которые важны заказчику:\n",
    "* качество предсказания;\n",
    "* время обучения модели;\n",
    "* время предсказания модели."
   ]
  },
  {
   "cell_type": "markdown",
   "metadata": {},
   "source": [
    "# Описание данных"
   ]
  },
  {
   "cell_type": "markdown",
   "metadata": {},
   "source": [
    "Признаки:\n",
    "\n",
    "* `DateCrawled` — дата скачивания анкеты из базы\n",
    "* `VehicleType` — тип автомобильного кузова\n",
    "* `RegistrationYear` — год регистрации автомобиля\n",
    "* `Gearbox` — тип коробки передач\n",
    "* `Power` — мощность (л. с.)\n",
    "* `Model` — модель автомобиля\n",
    "* `Kilometer` — пробег (км)\n",
    "* `RegistrationMonth` — месяц регистрации автомобиля\n",
    "* `FuelType` — тип топлива\n",
    "* `Brand` — марка автомобиля\n",
    "* `Repaired` — была машина в ремонте или нет\n",
    "* `DateCreated` — дата создания анкеты\n",
    "* `NumberOfPictures` — количество фотографий автомобиля\n",
    "* `PostalCode` — почтовый индекс владельца анкеты (пользователя)\n",
    "* `LastSeen` — дата последней активности пользователя\n",
    "\n",
    "Целевой признак:\n",
    "* `Price` — цена (евро)"
   ]
  },
  {
   "cell_type": "markdown",
   "metadata": {},
   "source": [
    "# План работы"
   ]
  },
  {
   "cell_type": "markdown",
   "metadata": {},
   "source": [
    "1. Подготовка данных.\n",
    "2. Обучение моделей.\n",
    "3. Анализ моделей.\n",
    "4. Выводы."
   ]
  },
  {
   "cell_type": "markdown",
   "metadata": {},
   "source": [
    "## Подготовка данных"
   ]
  },
  {
   "cell_type": "markdown",
   "metadata": {},
   "source": [
    "### Загрузка"
   ]
  },
  {
   "cell_type": "code",
   "execution_count": 1,
   "metadata": {},
   "outputs": [
    {
     "name": "stdout",
     "output_type": "stream",
     "text": [
      "Requirement already satisfied: lightgbm in /opt/conda/lib/python3.9/site-packages (3.3.1)\n",
      "Requirement already satisfied: scikit-learn!=0.22.0 in /opt/conda/lib/python3.9/site-packages (from lightgbm) (0.24.1)\n",
      "Requirement already satisfied: scipy in /opt/conda/lib/python3.9/site-packages (from lightgbm) (1.9.1)\n",
      "Requirement already satisfied: wheel in /opt/conda/lib/python3.9/site-packages (from lightgbm) (0.36.2)\n",
      "Requirement already satisfied: numpy in /opt/conda/lib/python3.9/site-packages (from lightgbm) (1.21.1)\n",
      "Requirement already satisfied: threadpoolctl>=2.0.0 in /opt/conda/lib/python3.9/site-packages (from scikit-learn!=0.22.0->lightgbm) (3.1.0)\n",
      "Requirement already satisfied: joblib>=0.11 in /opt/conda/lib/python3.9/site-packages (from scikit-learn!=0.22.0->lightgbm) (1.1.0)\n",
      "Note: you may need to restart the kernel to use updated packages.\n"
     ]
    }
   ],
   "source": [
    "pip install lightgbm # установка LGBM"
   ]
  },
  {
   "cell_type": "code",
   "execution_count": 2,
   "metadata": {},
   "outputs": [
    {
     "name": "stdout",
     "output_type": "stream",
     "text": [
      "Requirement already satisfied: catboost in /opt/conda/lib/python3.9/site-packages (1.0.3)\n",
      "Requirement already satisfied: numpy>=1.16.0 in /opt/conda/lib/python3.9/site-packages (from catboost) (1.21.1)\n",
      "Requirement already satisfied: graphviz in /opt/conda/lib/python3.9/site-packages (from catboost) (0.20.1)\n",
      "Requirement already satisfied: pandas>=0.24.0 in /opt/conda/lib/python3.9/site-packages (from catboost) (1.2.4)\n",
      "Requirement already satisfied: plotly in /opt/conda/lib/python3.9/site-packages (from catboost) (5.4.0)\n",
      "Requirement already satisfied: six in /opt/conda/lib/python3.9/site-packages (from catboost) (1.16.0)\n",
      "Requirement already satisfied: scipy in /opt/conda/lib/python3.9/site-packages (from catboost) (1.9.1)\n",
      "Requirement already satisfied: matplotlib in /opt/conda/lib/python3.9/site-packages (from catboost) (3.3.4)\n",
      "Requirement already satisfied: python-dateutil>=2.7.3 in /opt/conda/lib/python3.9/site-packages (from pandas>=0.24.0->catboost) (2.8.1)\n",
      "Requirement already satisfied: pytz>=2017.3 in /opt/conda/lib/python3.9/site-packages (from pandas>=0.24.0->catboost) (2021.1)\n",
      "Requirement already satisfied: cycler>=0.10 in /opt/conda/lib/python3.9/site-packages (from matplotlib->catboost) (0.11.0)\n",
      "Requirement already satisfied: pillow>=6.2.0 in /opt/conda/lib/python3.9/site-packages (from matplotlib->catboost) (8.4.0)\n",
      "Requirement already satisfied: pyparsing!=2.0.4,!=2.1.2,!=2.1.6,>=2.0.3 in /opt/conda/lib/python3.9/site-packages (from matplotlib->catboost) (2.4.7)\n",
      "Requirement already satisfied: kiwisolver>=1.0.1 in /opt/conda/lib/python3.9/site-packages (from matplotlib->catboost) (1.4.4)\n",
      "Requirement already satisfied: tenacity>=6.2.0 in /opt/conda/lib/python3.9/site-packages (from plotly->catboost) (8.0.1)\n",
      "Note: you may need to restart the kernel to use updated packages.\n"
     ]
    }
   ],
   "source": [
    "pip install catboost # установка CatBoost"
   ]
  },
  {
   "cell_type": "code",
   "execution_count": 3,
   "metadata": {},
   "outputs": [
    {
     "name": "stdout",
     "output_type": "stream",
     "text": [
      "Requirement already satisfied: xgboost in /opt/conda/lib/python3.9/site-packages (1.5.1)\n",
      "Requirement already satisfied: scipy in /opt/conda/lib/python3.9/site-packages (from xgboost) (1.9.1)\n",
      "Requirement already satisfied: numpy in /opt/conda/lib/python3.9/site-packages (from xgboost) (1.21.1)\n",
      "Note: you may need to restart the kernel to use updated packages.\n"
     ]
    }
   ],
   "source": [
    "pip install xgboost # установка XGBoost"
   ]
  },
  {
   "cell_type": "code",
   "execution_count": 4,
   "metadata": {},
   "outputs": [
    {
     "name": "stdout",
     "output_type": "stream",
     "text": [
      "Requirement already satisfied: hyperopt in /opt/conda/lib/python3.9/site-packages (0.2.7)\n",
      "Requirement already satisfied: six in /opt/conda/lib/python3.9/site-packages (from hyperopt) (1.16.0)\n",
      "Requirement already satisfied: numpy in /opt/conda/lib/python3.9/site-packages (from hyperopt) (1.21.1)\n",
      "Requirement already satisfied: scipy in /opt/conda/lib/python3.9/site-packages (from hyperopt) (1.9.1)\n",
      "Requirement already satisfied: tqdm in /opt/conda/lib/python3.9/site-packages (from hyperopt) (4.61.2)\n",
      "Requirement already satisfied: networkx>=2.2 in /opt/conda/lib/python3.9/site-packages (from hyperopt) (3.1)\n",
      "Requirement already satisfied: cloudpickle in /opt/conda/lib/python3.9/site-packages (from hyperopt) (2.2.1)\n",
      "Requirement already satisfied: future in /opt/conda/lib/python3.9/site-packages (from hyperopt) (0.18.3)\n",
      "Requirement already satisfied: py4j in /opt/conda/lib/python3.9/site-packages (from hyperopt) (0.10.9.3)\n",
      "Note: you may need to restart the kernel to use updated packages.\n"
     ]
    }
   ],
   "source": [
    "pip install hyperopt # установка hyperopt"
   ]
  },
  {
   "cell_type": "code",
   "execution_count": 5,
   "metadata": {},
   "outputs": [
    {
     "name": "stdout",
     "output_type": "stream",
     "text": [
      "Requirement already satisfied: inflection in /opt/conda/lib/python3.9/site-packages (0.5.1)\n",
      "Note: you may need to restart the kernel to use updated packages.\n"
     ]
    }
   ],
   "source": [
    "pip install inflection"
   ]
  },
  {
   "cell_type": "code",
   "execution_count": 6,
   "metadata": {},
   "outputs": [],
   "source": [
    "# импортируем библиотеки\n",
    "\n",
    "import time\n",
    "import pandas as pd\n",
    "from inflection import underscore\n",
    "import numpy as np\n",
    "import matplotlib.pyplot as plt\n",
    "from sklearn.preprocessing import OneHotEncoder\n",
    "from sklearn.preprocessing import OrdinalEncoder\n",
    "from sklearn.preprocessing import MinMaxScaler\n",
    "from sklearn.model_selection import train_test_split\n",
    "import hyperopt\n",
    "from hyperopt import hp, fmin\n",
    "from xgboost import XGBRegressor\n",
    "from catboost import CatBoostRegressor\n",
    "from lightgbm import LGBMRegressor\n",
    "from sklearn.linear_model import LinearRegression\n",
    "from sklearn.neighbors import KNeighborsRegressor\n",
    "from sklearn.ensemble import RandomForestRegressor\n",
    "from sklearn.metrics import mean_squared_error\n",
    "from sklearn.model_selection import cross_val_score"
   ]
  },
  {
   "cell_type": "code",
   "execution_count": 7,
   "metadata": {},
   "outputs": [],
   "source": [
    "# Сохраняем данные в переменную df\n",
    "\n",
    "try:    \n",
    "    df = pd.read_csv('autos.csv')\n",
    "except:    \n",
    "    df = pd.read_csv('https://code.s3.yandex.net/datasets/autos.csv')"
   ]
  },
  {
   "cell_type": "code",
   "execution_count": 8,
   "metadata": {},
   "outputs": [
    {
     "data": {
      "text/html": [
       "<div>\n",
       "<style scoped>\n",
       "    .dataframe tbody tr th:only-of-type {\n",
       "        vertical-align: middle;\n",
       "    }\n",
       "\n",
       "    .dataframe tbody tr th {\n",
       "        vertical-align: top;\n",
       "    }\n",
       "\n",
       "    .dataframe thead th {\n",
       "        text-align: right;\n",
       "    }\n",
       "</style>\n",
       "<table border=\"1\" class=\"dataframe\">\n",
       "  <thead>\n",
       "    <tr style=\"text-align: right;\">\n",
       "      <th></th>\n",
       "      <th>DateCrawled</th>\n",
       "      <th>Price</th>\n",
       "      <th>VehicleType</th>\n",
       "      <th>RegistrationYear</th>\n",
       "      <th>Gearbox</th>\n",
       "      <th>Power</th>\n",
       "      <th>Model</th>\n",
       "      <th>Kilometer</th>\n",
       "      <th>RegistrationMonth</th>\n",
       "      <th>FuelType</th>\n",
       "      <th>Brand</th>\n",
       "      <th>Repaired</th>\n",
       "      <th>DateCreated</th>\n",
       "      <th>NumberOfPictures</th>\n",
       "      <th>PostalCode</th>\n",
       "      <th>LastSeen</th>\n",
       "    </tr>\n",
       "  </thead>\n",
       "  <tbody>\n",
       "    <tr>\n",
       "      <th>0</th>\n",
       "      <td>2016-03-24 11:52:17</td>\n",
       "      <td>480</td>\n",
       "      <td>NaN</td>\n",
       "      <td>1993</td>\n",
       "      <td>manual</td>\n",
       "      <td>0</td>\n",
       "      <td>golf</td>\n",
       "      <td>150000</td>\n",
       "      <td>0</td>\n",
       "      <td>petrol</td>\n",
       "      <td>volkswagen</td>\n",
       "      <td>NaN</td>\n",
       "      <td>2016-03-24 00:00:00</td>\n",
       "      <td>0</td>\n",
       "      <td>70435</td>\n",
       "      <td>2016-04-07 03:16:57</td>\n",
       "    </tr>\n",
       "    <tr>\n",
       "      <th>1</th>\n",
       "      <td>2016-03-24 10:58:45</td>\n",
       "      <td>18300</td>\n",
       "      <td>coupe</td>\n",
       "      <td>2011</td>\n",
       "      <td>manual</td>\n",
       "      <td>190</td>\n",
       "      <td>NaN</td>\n",
       "      <td>125000</td>\n",
       "      <td>5</td>\n",
       "      <td>gasoline</td>\n",
       "      <td>audi</td>\n",
       "      <td>yes</td>\n",
       "      <td>2016-03-24 00:00:00</td>\n",
       "      <td>0</td>\n",
       "      <td>66954</td>\n",
       "      <td>2016-04-07 01:46:50</td>\n",
       "    </tr>\n",
       "    <tr>\n",
       "      <th>2</th>\n",
       "      <td>2016-03-14 12:52:21</td>\n",
       "      <td>9800</td>\n",
       "      <td>suv</td>\n",
       "      <td>2004</td>\n",
       "      <td>auto</td>\n",
       "      <td>163</td>\n",
       "      <td>grand</td>\n",
       "      <td>125000</td>\n",
       "      <td>8</td>\n",
       "      <td>gasoline</td>\n",
       "      <td>jeep</td>\n",
       "      <td>NaN</td>\n",
       "      <td>2016-03-14 00:00:00</td>\n",
       "      <td>0</td>\n",
       "      <td>90480</td>\n",
       "      <td>2016-04-05 12:47:46</td>\n",
       "    </tr>\n",
       "    <tr>\n",
       "      <th>3</th>\n",
       "      <td>2016-03-17 16:54:04</td>\n",
       "      <td>1500</td>\n",
       "      <td>small</td>\n",
       "      <td>2001</td>\n",
       "      <td>manual</td>\n",
       "      <td>75</td>\n",
       "      <td>golf</td>\n",
       "      <td>150000</td>\n",
       "      <td>6</td>\n",
       "      <td>petrol</td>\n",
       "      <td>volkswagen</td>\n",
       "      <td>no</td>\n",
       "      <td>2016-03-17 00:00:00</td>\n",
       "      <td>0</td>\n",
       "      <td>91074</td>\n",
       "      <td>2016-03-17 17:40:17</td>\n",
       "    </tr>\n",
       "    <tr>\n",
       "      <th>4</th>\n",
       "      <td>2016-03-31 17:25:20</td>\n",
       "      <td>3600</td>\n",
       "      <td>small</td>\n",
       "      <td>2008</td>\n",
       "      <td>manual</td>\n",
       "      <td>69</td>\n",
       "      <td>fabia</td>\n",
       "      <td>90000</td>\n",
       "      <td>7</td>\n",
       "      <td>gasoline</td>\n",
       "      <td>skoda</td>\n",
       "      <td>no</td>\n",
       "      <td>2016-03-31 00:00:00</td>\n",
       "      <td>0</td>\n",
       "      <td>60437</td>\n",
       "      <td>2016-04-06 10:17:21</td>\n",
       "    </tr>\n",
       "  </tbody>\n",
       "</table>\n",
       "</div>"
      ],
      "text/plain": [
       "           DateCrawled  Price VehicleType  RegistrationYear Gearbox  Power  \\\n",
       "0  2016-03-24 11:52:17    480         NaN              1993  manual      0   \n",
       "1  2016-03-24 10:58:45  18300       coupe              2011  manual    190   \n",
       "2  2016-03-14 12:52:21   9800         suv              2004    auto    163   \n",
       "3  2016-03-17 16:54:04   1500       small              2001  manual     75   \n",
       "4  2016-03-31 17:25:20   3600       small              2008  manual     69   \n",
       "\n",
       "   Model  Kilometer  RegistrationMonth  FuelType       Brand Repaired  \\\n",
       "0   golf     150000                  0    petrol  volkswagen      NaN   \n",
       "1    NaN     125000                  5  gasoline        audi      yes   \n",
       "2  grand     125000                  8  gasoline        jeep      NaN   \n",
       "3   golf     150000                  6    petrol  volkswagen       no   \n",
       "4  fabia      90000                  7  gasoline       skoda       no   \n",
       "\n",
       "           DateCreated  NumberOfPictures  PostalCode             LastSeen  \n",
       "0  2016-03-24 00:00:00                 0       70435  2016-04-07 03:16:57  \n",
       "1  2016-03-24 00:00:00                 0       66954  2016-04-07 01:46:50  \n",
       "2  2016-03-14 00:00:00                 0       90480  2016-04-05 12:47:46  \n",
       "3  2016-03-17 00:00:00                 0       91074  2016-03-17 17:40:17  \n",
       "4  2016-03-31 00:00:00                 0       60437  2016-04-06 10:17:21  "
      ]
     },
     "execution_count": 8,
     "metadata": {},
     "output_type": "execute_result"
    }
   ],
   "source": [
    "df.head() # первые 5 строк"
   ]
  },
  {
   "cell_type": "markdown",
   "metadata": {},
   "source": [
    "### Предобработка"
   ]
  },
  {
   "cell_type": "code",
   "execution_count": 9,
   "metadata": {},
   "outputs": [
    {
     "data": {
      "text/plain": [
       "Index(['date_crawled', 'price', 'vehicle_type', 'registration_year', 'gearbox',\n",
       "       'power', 'model', 'kilometer', 'registration_month', 'fuel_type',\n",
       "       'brand', 'repaired', 'date_created', 'number_of_pictures',\n",
       "       'postal_code', 'last_seen'],\n",
       "      dtype='object')"
      ]
     },
     "execution_count": 9,
     "metadata": {},
     "output_type": "execute_result"
    }
   ],
   "source": [
    "# причешем названия колонок\n",
    "\n",
    "df.columns = [underscore(column) for column in df.columns]\n",
    "df.columns"
   ]
  },
  {
   "cell_type": "code",
   "execution_count": 10,
   "metadata": {},
   "outputs": [
    {
     "name": "stdout",
     "output_type": "stream",
     "text": [
      "<class 'pandas.core.frame.DataFrame'>\n",
      "RangeIndex: 354369 entries, 0 to 354368\n",
      "Data columns (total 16 columns):\n",
      " #   Column              Non-Null Count   Dtype \n",
      "---  ------              --------------   ----- \n",
      " 0   date_crawled        354369 non-null  object\n",
      " 1   price               354369 non-null  int64 \n",
      " 2   vehicle_type        316879 non-null  object\n",
      " 3   registration_year   354369 non-null  int64 \n",
      " 4   gearbox             334536 non-null  object\n",
      " 5   power               354369 non-null  int64 \n",
      " 6   model               334664 non-null  object\n",
      " 7   kilometer           354369 non-null  int64 \n",
      " 8   registration_month  354369 non-null  int64 \n",
      " 9   fuel_type           321474 non-null  object\n",
      " 10  brand               354369 non-null  object\n",
      " 11  repaired            283215 non-null  object\n",
      " 12  date_created        354369 non-null  object\n",
      " 13  number_of_pictures  354369 non-null  int64 \n",
      " 14  postal_code         354369 non-null  int64 \n",
      " 15  last_seen           354369 non-null  object\n",
      "dtypes: int64(7), object(9)\n",
      "memory usage: 43.3+ MB\n"
     ]
    }
   ],
   "source": [
    "df.info() # инфо"
   ]
  },
  {
   "cell_type": "code",
   "execution_count": 11,
   "metadata": {},
   "outputs": [
    {
     "data": {
      "text/plain": [
       "4"
      ]
     },
     "execution_count": 11,
     "metadata": {},
     "output_type": "execute_result"
    }
   ],
   "source": [
    "df.duplicated().sum() # смотрим дубликаты"
   ]
  },
  {
   "cell_type": "code",
   "execution_count": 12,
   "metadata": {},
   "outputs": [
    {
     "data": {
      "text/plain": [
       "(354365, 16)"
      ]
     },
     "execution_count": 12,
     "metadata": {},
     "output_type": "execute_result"
    }
   ],
   "source": [
    "df = df.drop_duplicates() # сносим дубликаты\n",
    "df.shape"
   ]
  },
  {
   "cell_type": "code",
   "execution_count": 13,
   "metadata": {},
   "outputs": [
    {
     "data": {
      "text/html": [
       "<div>\n",
       "<style scoped>\n",
       "    .dataframe tbody tr th:only-of-type {\n",
       "        vertical-align: middle;\n",
       "    }\n",
       "\n",
       "    .dataframe tbody tr th {\n",
       "        vertical-align: top;\n",
       "    }\n",
       "\n",
       "    .dataframe thead th {\n",
       "        text-align: right;\n",
       "    }\n",
       "</style>\n",
       "<table border=\"1\" class=\"dataframe\">\n",
       "  <thead>\n",
       "    <tr style=\"text-align: right;\">\n",
       "      <th></th>\n",
       "      <th>price</th>\n",
       "      <th>registration_year</th>\n",
       "      <th>power</th>\n",
       "      <th>kilometer</th>\n",
       "      <th>registration_month</th>\n",
       "      <th>number_of_pictures</th>\n",
       "      <th>postal_code</th>\n",
       "    </tr>\n",
       "  </thead>\n",
       "  <tbody>\n",
       "    <tr>\n",
       "      <th>count</th>\n",
       "      <td>354365.000000</td>\n",
       "      <td>354365.000000</td>\n",
       "      <td>354365.000000</td>\n",
       "      <td>354365.000000</td>\n",
       "      <td>354365.000000</td>\n",
       "      <td>354365.0</td>\n",
       "      <td>354365.000000</td>\n",
       "    </tr>\n",
       "    <tr>\n",
       "      <th>mean</th>\n",
       "      <td>4416.679830</td>\n",
       "      <td>2004.234481</td>\n",
       "      <td>110.093816</td>\n",
       "      <td>128211.363989</td>\n",
       "      <td>5.714650</td>\n",
       "      <td>0.0</td>\n",
       "      <td>50508.503800</td>\n",
       "    </tr>\n",
       "    <tr>\n",
       "      <th>std</th>\n",
       "      <td>4514.176349</td>\n",
       "      <td>90.228466</td>\n",
       "      <td>189.851330</td>\n",
       "      <td>37905.083858</td>\n",
       "      <td>3.726432</td>\n",
       "      <td>0.0</td>\n",
       "      <td>25783.100078</td>\n",
       "    </tr>\n",
       "    <tr>\n",
       "      <th>min</th>\n",
       "      <td>0.000000</td>\n",
       "      <td>1000.000000</td>\n",
       "      <td>0.000000</td>\n",
       "      <td>5000.000000</td>\n",
       "      <td>0.000000</td>\n",
       "      <td>0.0</td>\n",
       "      <td>1067.000000</td>\n",
       "    </tr>\n",
       "    <tr>\n",
       "      <th>25%</th>\n",
       "      <td>1050.000000</td>\n",
       "      <td>1999.000000</td>\n",
       "      <td>69.000000</td>\n",
       "      <td>125000.000000</td>\n",
       "      <td>3.000000</td>\n",
       "      <td>0.0</td>\n",
       "      <td>30165.000000</td>\n",
       "    </tr>\n",
       "    <tr>\n",
       "      <th>50%</th>\n",
       "      <td>2700.000000</td>\n",
       "      <td>2003.000000</td>\n",
       "      <td>105.000000</td>\n",
       "      <td>150000.000000</td>\n",
       "      <td>6.000000</td>\n",
       "      <td>0.0</td>\n",
       "      <td>49413.000000</td>\n",
       "    </tr>\n",
       "    <tr>\n",
       "      <th>75%</th>\n",
       "      <td>6400.000000</td>\n",
       "      <td>2008.000000</td>\n",
       "      <td>143.000000</td>\n",
       "      <td>150000.000000</td>\n",
       "      <td>9.000000</td>\n",
       "      <td>0.0</td>\n",
       "      <td>71083.000000</td>\n",
       "    </tr>\n",
       "    <tr>\n",
       "      <th>max</th>\n",
       "      <td>20000.000000</td>\n",
       "      <td>9999.000000</td>\n",
       "      <td>20000.000000</td>\n",
       "      <td>150000.000000</td>\n",
       "      <td>12.000000</td>\n",
       "      <td>0.0</td>\n",
       "      <td>99998.000000</td>\n",
       "    </tr>\n",
       "  </tbody>\n",
       "</table>\n",
       "</div>"
      ],
      "text/plain": [
       "               price  registration_year          power      kilometer  \\\n",
       "count  354365.000000      354365.000000  354365.000000  354365.000000   \n",
       "mean     4416.679830        2004.234481     110.093816  128211.363989   \n",
       "std      4514.176349          90.228466     189.851330   37905.083858   \n",
       "min         0.000000        1000.000000       0.000000    5000.000000   \n",
       "25%      1050.000000        1999.000000      69.000000  125000.000000   \n",
       "50%      2700.000000        2003.000000     105.000000  150000.000000   \n",
       "75%      6400.000000        2008.000000     143.000000  150000.000000   \n",
       "max     20000.000000        9999.000000   20000.000000  150000.000000   \n",
       "\n",
       "       registration_month  number_of_pictures    postal_code  \n",
       "count       354365.000000            354365.0  354365.000000  \n",
       "mean             5.714650                 0.0   50508.503800  \n",
       "std              3.726432                 0.0   25783.100078  \n",
       "min              0.000000                 0.0    1067.000000  \n",
       "25%              3.000000                 0.0   30165.000000  \n",
       "50%              6.000000                 0.0   49413.000000  \n",
       "75%              9.000000                 0.0   71083.000000  \n",
       "max             12.000000                 0.0   99998.000000  "
      ]
     },
     "execution_count": 13,
     "metadata": {},
     "output_type": "execute_result"
    }
   ],
   "source": [
    "df.describe()"
   ]
  },
  {
   "cell_type": "code",
   "execution_count": 14,
   "metadata": {},
   "outputs": [
    {
     "data": {
      "text/html": [
       "<div>\n",
       "<style scoped>\n",
       "    .dataframe tbody tr th:only-of-type {\n",
       "        vertical-align: middle;\n",
       "    }\n",
       "\n",
       "    .dataframe tbody tr th {\n",
       "        vertical-align: top;\n",
       "    }\n",
       "\n",
       "    .dataframe thead th {\n",
       "        text-align: right;\n",
       "    }\n",
       "</style>\n",
       "<table border=\"1\" class=\"dataframe\">\n",
       "  <thead>\n",
       "    <tr style=\"text-align: right;\">\n",
       "      <th></th>\n",
       "      <th>price</th>\n",
       "      <th>vehicle_type</th>\n",
       "      <th>registration_year</th>\n",
       "      <th>gearbox</th>\n",
       "      <th>power</th>\n",
       "      <th>model</th>\n",
       "      <th>kilometer</th>\n",
       "      <th>fuel_type</th>\n",
       "      <th>brand</th>\n",
       "      <th>repaired</th>\n",
       "    </tr>\n",
       "  </thead>\n",
       "  <tbody>\n",
       "    <tr>\n",
       "      <th>0</th>\n",
       "      <td>480</td>\n",
       "      <td>NaN</td>\n",
       "      <td>1993</td>\n",
       "      <td>manual</td>\n",
       "      <td>0</td>\n",
       "      <td>golf</td>\n",
       "      <td>150000</td>\n",
       "      <td>petrol</td>\n",
       "      <td>volkswagen</td>\n",
       "      <td>NaN</td>\n",
       "    </tr>\n",
       "    <tr>\n",
       "      <th>1</th>\n",
       "      <td>18300</td>\n",
       "      <td>coupe</td>\n",
       "      <td>2011</td>\n",
       "      <td>manual</td>\n",
       "      <td>190</td>\n",
       "      <td>NaN</td>\n",
       "      <td>125000</td>\n",
       "      <td>gasoline</td>\n",
       "      <td>audi</td>\n",
       "      <td>yes</td>\n",
       "    </tr>\n",
       "    <tr>\n",
       "      <th>2</th>\n",
       "      <td>9800</td>\n",
       "      <td>suv</td>\n",
       "      <td>2004</td>\n",
       "      <td>auto</td>\n",
       "      <td>163</td>\n",
       "      <td>grand</td>\n",
       "      <td>125000</td>\n",
       "      <td>gasoline</td>\n",
       "      <td>jeep</td>\n",
       "      <td>NaN</td>\n",
       "    </tr>\n",
       "    <tr>\n",
       "      <th>3</th>\n",
       "      <td>1500</td>\n",
       "      <td>small</td>\n",
       "      <td>2001</td>\n",
       "      <td>manual</td>\n",
       "      <td>75</td>\n",
       "      <td>golf</td>\n",
       "      <td>150000</td>\n",
       "      <td>petrol</td>\n",
       "      <td>volkswagen</td>\n",
       "      <td>no</td>\n",
       "    </tr>\n",
       "    <tr>\n",
       "      <th>4</th>\n",
       "      <td>3600</td>\n",
       "      <td>small</td>\n",
       "      <td>2008</td>\n",
       "      <td>manual</td>\n",
       "      <td>69</td>\n",
       "      <td>fabia</td>\n",
       "      <td>90000</td>\n",
       "      <td>gasoline</td>\n",
       "      <td>skoda</td>\n",
       "      <td>no</td>\n",
       "    </tr>\n",
       "  </tbody>\n",
       "</table>\n",
       "</div>"
      ],
      "text/plain": [
       "   price vehicle_type  registration_year gearbox  power  model  kilometer  \\\n",
       "0    480          NaN               1993  manual      0   golf     150000   \n",
       "1  18300        coupe               2011  manual    190    NaN     125000   \n",
       "2   9800          suv               2004    auto    163  grand     125000   \n",
       "3   1500        small               2001  manual     75   golf     150000   \n",
       "4   3600        small               2008  manual     69  fabia      90000   \n",
       "\n",
       "  fuel_type       brand repaired  \n",
       "0    petrol  volkswagen      NaN  \n",
       "1  gasoline        audi      yes  \n",
       "2  gasoline        jeep      NaN  \n",
       "3    petrol  volkswagen       no  \n",
       "4  gasoline       skoda       no  "
      ]
     },
     "execution_count": 14,
     "metadata": {},
     "output_type": "execute_result"
    }
   ],
   "source": [
    "# удалим кривые признаки, которые не несут полезной инфы\n",
    "\n",
    "df = df.drop(['date_crawled', 'registration_month', 'date_created',\n",
    "              'number_of_pictures', 'postal_code', 'last_seen'], axis=1)\n",
    "df.head()"
   ]
  },
  {
   "cell_type": "code",
   "execution_count": 15,
   "metadata": {},
   "outputs": [
    {
     "data": {
      "text/plain": [
       "price                    0\n",
       "vehicle_type         37490\n",
       "registration_year        0\n",
       "gearbox              19833\n",
       "power                    0\n",
       "model                19705\n",
       "kilometer                0\n",
       "fuel_type            32895\n",
       "brand                    0\n",
       "repaired             71154\n",
       "dtype: int64"
      ]
     },
     "execution_count": 15,
     "metadata": {},
     "output_type": "execute_result"
    }
   ],
   "source": [
    "df.isna().sum() # посмотрим пропуски"
   ]
  },
  {
   "cell_type": "code",
   "execution_count": 16,
   "metadata": {},
   "outputs": [
    {
     "name": "stdout",
     "output_type": "stream",
     "text": [
      "vehicle_type\n"
     ]
    },
    {
     "data": {
      "image/png": "[encoded data removed]",
      "text/plain": [
       "<Figure size 432x288 with 1 Axes>"
      ]
     },
     "metadata": {
      "needs_background": "light"
     },
     "output_type": "display_data"
    },
    {
     "name": "stdout",
     "output_type": "stream",
     "text": [
      "gearbox\n"
     ]
    },
    {
     "data": {
      "image/png": "[encoded data removed]",
      "text/plain": [
       "<Figure size 432x288 with 1 Axes>"
      ]
     },
     "metadata": {
      "needs_background": "light"
     },
     "output_type": "display_data"
    },
    {
     "name": "stdout",
     "output_type": "stream",
     "text": [
      "fuel_type\n"
     ]
    },
    {
     "data": {
      "image/png": "[encoded data removed]",
      "text/plain": [
       "<Figure size 432x288 with 1 Axes>"
      ]
     },
     "metadata": {
      "needs_background": "light"
     },
     "output_type": "display_data"
    },
    {
     "name": "stdout",
     "output_type": "stream",
     "text": [
      "repaired\n"
     ]
    },
    {
     "data": {
      "image/png": "[encoded data removed]",
      "text/plain": [
       "<Figure size 432x288 with 1 Axes>"
      ]
     },
     "metadata": {
      "needs_background": "light"
     },
     "output_type": "display_data"
    }
   ],
   "source": [
    "# посмотрим распределение в колонках где есть пропуски\n",
    "\n",
    "for col in ['vehicle_type', 'gearbox', 'fuel_type', 'repaired']:\n",
    "    print(col)\n",
    "    df[col].value_counts().plot.barh()\n",
    "    plt.show()"
   ]
  },
  {
   "cell_type": "code",
   "execution_count": 17,
   "metadata": {},
   "outputs": [
    {
     "data": {
      "text/plain": [
       "golf                  29232\n",
       "other                 24420\n",
       "3er                   19761\n",
       "polo                  13066\n",
       "corsa                 12570\n",
       "                      ...  \n",
       "i3                        8\n",
       "rangerover                4\n",
       "serie_3                   4\n",
       "serie_1                   2\n",
       "range_rover_evoque        2\n",
       "Name: model, Length: 250, dtype: int64"
      ]
     },
     "execution_count": 17,
     "metadata": {},
     "output_type": "execute_result"
    }
   ],
   "source": [
    "df['model'].value_counts()"
   ]
  },
  {
   "cell_type": "markdown",
   "metadata": {},
   "source": [
    "Пропуски в `model` заполниим неизвестным значением **unknown**, т.к много вариантов и большая вероятность ошибки.\n",
    "\n",
    "В остальных местах пропуски заполним рандомными значениями из распределения по каждой колонке."
   ]
  },
  {
   "cell_type": "code",
   "execution_count": 18,
   "metadata": {},
   "outputs": [],
   "source": [
    "df['model'] = df['model'].fillna('unknown')\n",
    "\n",
    "cols = ['vehicle_type', 'gearbox', 'fuel_type', 'repaired']\n",
    "for col in cols:    \n",
    "    df[col] = df[col].mask(df[col].isna(), \n",
    "                           np.random.choice(df[df[col].notna()][col], size=len(df)))"
   ]
  },
  {
   "cell_type": "code",
   "execution_count": 19,
   "metadata": {},
   "outputs": [
    {
     "name": "stdout",
     "output_type": "stream",
     "text": [
      "vehicle_type\n"
     ]
    },
    {
     "data": {
      "image/png": "[encoded data removed]",
      "text/plain": [
       "<Figure size 432x288 with 1 Axes>"
      ]
     },
     "metadata": {
      "needs_background": "light"
     },
     "output_type": "display_data"
    },
    {
     "name": "stdout",
     "output_type": "stream",
     "text": [
      "gearbox\n"
     ]
    },
    {
     "data": {
      "image/png": "[encoded data removed]",
      "text/plain": [
       "<Figure size 432x288 with 1 Axes>"
      ]
     },
     "metadata": {
      "needs_background": "light"
     },
     "output_type": "display_data"
    },
    {
     "name": "stdout",
     "output_type": "stream",
     "text": [
      "fuel_type\n"
     ]
    },
    {
     "data": {
      "image/png": "[encoded data removed]",
      "text/plain": [
       "<Figure size 432x288 with 1 Axes>"
      ]
     },
     "metadata": {
      "needs_background": "light"
     },
     "output_type": "display_data"
    },
    {
     "name": "stdout",
     "output_type": "stream",
     "text": [
      "repaired\n"
     ]
    },
    {
     "data": {
      "image/png": "[encoded data removed]",
      "text/plain": [
       "<Figure size 432x288 with 1 Axes>"
      ]
     },
     "metadata": {
      "needs_background": "light"
     },
     "output_type": "display_data"
    }
   ],
   "source": [
    "# посмотрим распределения после заполнения пропусков. Они должны остаться неизменными\n",
    "\n",
    "for col in ['vehicle_type', 'gearbox', 'fuel_type', 'repaired']:\n",
    "    print(col)\n",
    "    df[col].value_counts().plot.barh()\n",
    "    plt.show()"
   ]
  },
  {
   "cell_type": "code",
   "execution_count": 20,
   "metadata": {},
   "outputs": [
    {
     "data": {
      "text/plain": [
       "price                0\n",
       "vehicle_type         0\n",
       "registration_year    0\n",
       "gearbox              0\n",
       "power                0\n",
       "model                0\n",
       "kilometer            0\n",
       "fuel_type            0\n",
       "brand                0\n",
       "repaired             0\n",
       "dtype: int64"
      ]
     },
     "execution_count": 20,
     "metadata": {},
     "output_type": "execute_result"
    }
   ],
   "source": [
    "df.isna().sum() # посмотрим остались ли пропуски"
   ]
  },
  {
   "cell_type": "code",
   "execution_count": 21,
   "metadata": {},
   "outputs": [
    {
     "data": {
      "image/png": "[encoded data removed]",
      "text/plain": [
       "<Figure size 720x720 with 4 Axes>"
      ]
     },
     "metadata": {
      "needs_background": "light"
     },
     "output_type": "display_data"
    }
   ],
   "source": [
    "# Посмотрим распределение численных признаков\n",
    "\n",
    "df.hist(figsize=(10, 10), bins=100)\n",
    "None"
   ]
  },
  {
   "cell_type": "markdown",
   "metadata": {},
   "source": [
    "Год регистрации \"10000\" выглядит как выброс, также 20000 лошадиных сил. Эти значения надо убрать."
   ]
  },
  {
   "cell_type": "code",
   "execution_count": 22,
   "metadata": {},
   "outputs": [
    {
     "data": {
      "text/plain": [
       "array([1993, 2011, 2004, 2001, 2008, 1995, 1980, 2014, 1998, 2005, 1910,\n",
       "       2016, 2007, 2009, 2002, 2018, 1997, 1990, 2017, 1981, 2003, 1994,\n",
       "       1991, 1984, 2006, 1999, 2012, 2010, 2000, 1992, 2013, 1996, 1985,\n",
       "       1989, 2015, 1982, 1976, 1983, 1973, 1111, 1969, 1971, 1987, 1986,\n",
       "       1988, 1970, 1965, 1945, 1925, 1974, 1979, 1955, 1978, 1972, 1968,\n",
       "       1977, 1961, 1960, 1966, 1975, 1963, 1964, 5000, 1954, 1958, 1967,\n",
       "       1959, 9999, 1956, 3200, 1000, 1941, 8888, 1500, 2200, 4100, 1962,\n",
       "       1929, 1957, 1940, 3000, 2066, 1949, 2019, 1937, 1951, 1800, 1953,\n",
       "       1234, 8000, 5300, 9000, 2900, 6000, 5900, 5911, 1933, 1400, 1950,\n",
       "       4000, 1948, 1952, 1200, 8500, 1932, 1255, 3700, 3800, 4800, 1942,\n",
       "       7000, 1935, 1936, 6500, 1923, 2290, 2500, 1930, 1001, 9450, 1944,\n",
       "       1943, 1934, 1938, 1688, 2800, 1253, 1928, 1919, 5555, 5600, 1600,\n",
       "       2222, 1039, 9996, 1300, 8455, 1931, 1915, 4500, 1920, 1602, 7800,\n",
       "       9229, 1947, 1927, 7100, 8200, 1946, 7500, 3500])"
      ]
     },
     "execution_count": 22,
     "metadata": {},
     "output_type": "execute_result"
    }
   ],
   "source": [
    "df['registration_year'].unique() # посмотрим на будущее :)"
   ]
  },
  {
   "cell_type": "code",
   "execution_count": 23,
   "metadata": {},
   "outputs": [
    {
     "data": {
      "text/plain": [
       "0        40225\n",
       "75       24023\n",
       "60       15897\n",
       "150      14590\n",
       "101      13298\n",
       "         ...  \n",
       "323          1\n",
       "3454         1\n",
       "1056         1\n",
       "13636        1\n",
       "1158         1\n",
       "Name: power, Length: 712, dtype: int64"
      ]
     },
     "execution_count": 23,
     "metadata": {},
     "output_type": "execute_result"
    }
   ],
   "source": [
    "df['power'].value_counts() # распределение мощности"
   ]
  },
  {
   "cell_type": "markdown",
   "metadata": {},
   "source": [
    "Очень много авто имеющих нулевую мощность, что выглядит не правдободобно(~ 40000). Скорее всего забыли заполнить эту колонку и вписали 0."
   ]
  },
  {
   "cell_type": "code",
   "execution_count": 24,
   "metadata": {},
   "outputs": [
    {
     "data": {
      "text/plain": [
       "0        10772\n",
       "500       5670\n",
       "1500      5394\n",
       "1000      4648\n",
       "1200      4594\n",
       "         ...  \n",
       "13180        1\n",
       "10879        1\n",
       "2683         1\n",
       "634          1\n",
       "8188         1\n",
       "Name: price, Length: 3731, dtype: int64"
      ]
     },
     "execution_count": 24,
     "metadata": {},
     "output_type": "execute_result"
    }
   ],
   "source": [
    "df['price'].value_counts() # распределение цены"
   ]
  },
  {
   "cell_type": "markdown",
   "metadata": {},
   "source": [
    "Та же история с ценой авто. Много \"бесплатных\" машин."
   ]
  },
  {
   "cell_type": "markdown",
   "metadata": {},
   "source": [
    "Резюмируя, для обработки аномалий нужно:\n",
    "* Год регистрации сжать с 1970 до 2016;\n",
    "* Убрать авто с мощностью больше 500 л.с.\n",
    "* Убрать бесплатные авто."
   ]
  },
  {
   "cell_type": "code",
   "execution_count": 25,
   "metadata": {},
   "outputs": [],
   "source": [
    "# Производим косметический ремонт датафрейма, удаляем выбросы\n",
    "\n",
    "df = df.query('1970 < registration_year < 2017')"
   ]
  },
  {
   "cell_type": "code",
   "execution_count": 26,
   "metadata": {},
   "outputs": [],
   "source": [
    "df = df.query('power < 500')"
   ]
  },
  {
   "cell_type": "code",
   "execution_count": 27,
   "metadata": {},
   "outputs": [
    {
     "data": {
      "text/plain": [
       "(327933, 10)"
      ]
     },
     "execution_count": 27,
     "metadata": {},
     "output_type": "execute_result"
    }
   ],
   "source": [
    "df = df.query('price != 0')\n",
    "df.shape"
   ]
  },
  {
   "cell_type": "code",
   "execution_count": 28,
   "metadata": {},
   "outputs": [
    {
     "data": {
      "text/html": [
       "<div>\n",
       "<style scoped>\n",
       "    .dataframe tbody tr th:only-of-type {\n",
       "        vertical-align: middle;\n",
       "    }\n",
       "\n",
       "    .dataframe tbody tr th {\n",
       "        vertical-align: top;\n",
       "    }\n",
       "\n",
       "    .dataframe thead th {\n",
       "        text-align: right;\n",
       "    }\n",
       "</style>\n",
       "<table border=\"1\" class=\"dataframe\">\n",
       "  <thead>\n",
       "    <tr style=\"text-align: right;\">\n",
       "      <th></th>\n",
       "      <th>price</th>\n",
       "      <th>registration_year</th>\n",
       "      <th>power</th>\n",
       "      <th>kilometer</th>\n",
       "    </tr>\n",
       "    <tr>\n",
       "      <th>vehicle_type</th>\n",
       "      <th></th>\n",
       "      <th></th>\n",
       "      <th></th>\n",
       "      <th></th>\n",
       "    </tr>\n",
       "  </thead>\n",
       "  <tbody>\n",
       "    <tr>\n",
       "      <th>bus</th>\n",
       "      <td>4000</td>\n",
       "      <td>2005</td>\n",
       "      <td>110</td>\n",
       "      <td>150000</td>\n",
       "    </tr>\n",
       "    <tr>\n",
       "      <th>convertible</th>\n",
       "      <td>5190</td>\n",
       "      <td>2003</td>\n",
       "      <td>120</td>\n",
       "      <td>150000</td>\n",
       "    </tr>\n",
       "    <tr>\n",
       "      <th>coupe</th>\n",
       "      <td>3850</td>\n",
       "      <td>2001</td>\n",
       "      <td>143</td>\n",
       "      <td>150000</td>\n",
       "    </tr>\n",
       "    <tr>\n",
       "      <th>other</th>\n",
       "      <td>2250</td>\n",
       "      <td>2001</td>\n",
       "      <td>86</td>\n",
       "      <td>150000</td>\n",
       "    </tr>\n",
       "    <tr>\n",
       "      <th>sedan</th>\n",
       "      <td>2950</td>\n",
       "      <td>2002</td>\n",
       "      <td>116</td>\n",
       "      <td>150000</td>\n",
       "    </tr>\n",
       "    <tr>\n",
       "      <th>small</th>\n",
       "      <td>1500</td>\n",
       "      <td>2002</td>\n",
       "      <td>64</td>\n",
       "      <td>150000</td>\n",
       "    </tr>\n",
       "    <tr>\n",
       "      <th>suv</th>\n",
       "      <td>8000</td>\n",
       "      <td>2006</td>\n",
       "      <td>145</td>\n",
       "      <td>150000</td>\n",
       "    </tr>\n",
       "    <tr>\n",
       "      <th>wagon</th>\n",
       "      <td>3050</td>\n",
       "      <td>2004</td>\n",
       "      <td>131</td>\n",
       "      <td>150000</td>\n",
       "    </tr>\n",
       "  </tbody>\n",
       "</table>\n",
       "</div>"
      ],
      "text/plain": [
       "              price  registration_year  power  kilometer\n",
       "vehicle_type                                            \n",
       "bus            4000               2005    110     150000\n",
       "convertible    5190               2003    120     150000\n",
       "coupe          3850               2001    143     150000\n",
       "other          2250               2001     86     150000\n",
       "sedan          2950               2002    116     150000\n",
       "small          1500               2002     64     150000\n",
       "suv            8000               2006    145     150000\n",
       "wagon          3050               2004    131     150000"
      ]
     },
     "execution_count": 28,
     "metadata": {},
     "output_type": "execute_result"
    }
   ],
   "source": [
    "df.groupby('vehicle_type').median() # группировка авто по типу кузова"
   ]
  },
  {
   "cell_type": "markdown",
   "metadata": {},
   "source": [
    "Удалим невалидные значения мощности"
   ]
  },
  {
   "cell_type": "code",
   "execution_count": 30,
   "metadata": {},
   "outputs": [
    {
     "data": {
      "text/plain": [
       "(295403, 10)"
      ]
     },
     "execution_count": 30,
     "metadata": {},
     "output_type": "execute_result"
    }
   ],
   "source": [
    "# срезаем авто с мощностью менее 10 л.с.\n",
    "\n",
    "df = df.query('power > 10') # уберем авто до 10 л.с.\n",
    "df.shape"
   ]
  },
  {
   "cell_type": "code",
   "execution_count": 31,
   "metadata": {},
   "outputs": [
    {
     "data": {
      "image/png": "[encoded data removed]",
      "text/plain": [
       "<Figure size 720x720 with 4 Axes>"
      ]
     },
     "metadata": {
      "needs_background": "light"
     },
     "output_type": "display_data"
    }
   ],
   "source": [
    "# еще раз глянем на распределение чисел\n",
    "\n",
    "df.hist(figsize=(10, 10), bins=100)\n",
    "None"
   ]
  },
  {
   "cell_type": "code",
   "execution_count": 32,
   "metadata": {},
   "outputs": [],
   "source": [
    "df = df.reset_index(drop=True) # сбросим индексы для порядка"
   ]
  },
  {
   "cell_type": "markdown",
   "metadata": {},
   "source": [
    "**Вывод:** В ходе предобработки данных было сделвно:\n",
    "* Названия колонок приведены к змеиному_регистру;\n",
    "* Удалены дубликаты;\n",
    "* Пропуски заполнены случайными значениями из распределения по каждой колонке, кроме `model`(там заполнили пропуски значением **unknown**);\n",
    "* Обработаны нулевые значения. Удалили `price` = 0, и заполнили медианами нули в колонке `power`;\n",
    "* Обработаны аномалии. `registration_year` ограничили с 1970 до 2016, `power` с 10 до 500;"
   ]
  },
  {
   "cell_type": "markdown",
   "metadata": {},
   "source": [
    "### Кодирование признаков"
   ]
  },
  {
   "cell_type": "code",
   "execution_count": 33,
   "metadata": {},
   "outputs": [
    {
     "data": {
      "text/html": [
       "<div>\n",
       "<style scoped>\n",
       "    .dataframe tbody tr th:only-of-type {\n",
       "        vertical-align: middle;\n",
       "    }\n",
       "\n",
       "    .dataframe tbody tr th {\n",
       "        vertical-align: top;\n",
       "    }\n",
       "\n",
       "    .dataframe thead th {\n",
       "        text-align: right;\n",
       "    }\n",
       "</style>\n",
       "<table border=\"1\" class=\"dataframe\">\n",
       "  <thead>\n",
       "    <tr style=\"text-align: right;\">\n",
       "      <th></th>\n",
       "      <th>price</th>\n",
       "      <th>vehicle_type</th>\n",
       "      <th>registration_year</th>\n",
       "      <th>gearbox</th>\n",
       "      <th>power</th>\n",
       "      <th>model</th>\n",
       "      <th>kilometer</th>\n",
       "      <th>fuel_type</th>\n",
       "      <th>brand</th>\n",
       "      <th>repaired</th>\n",
       "    </tr>\n",
       "  </thead>\n",
       "  <tbody>\n",
       "    <tr>\n",
       "      <th>0</th>\n",
       "      <td>18300</td>\n",
       "      <td>coupe</td>\n",
       "      <td>2011</td>\n",
       "      <td>manual</td>\n",
       "      <td>190</td>\n",
       "      <td>unknown</td>\n",
       "      <td>125000</td>\n",
       "      <td>gasoline</td>\n",
       "      <td>audi</td>\n",
       "      <td>yes</td>\n",
       "    </tr>\n",
       "    <tr>\n",
       "      <th>1</th>\n",
       "      <td>9800</td>\n",
       "      <td>suv</td>\n",
       "      <td>2004</td>\n",
       "      <td>auto</td>\n",
       "      <td>163</td>\n",
       "      <td>grand</td>\n",
       "      <td>125000</td>\n",
       "      <td>gasoline</td>\n",
       "      <td>jeep</td>\n",
       "      <td>no</td>\n",
       "    </tr>\n",
       "    <tr>\n",
       "      <th>2</th>\n",
       "      <td>1500</td>\n",
       "      <td>small</td>\n",
       "      <td>2001</td>\n",
       "      <td>manual</td>\n",
       "      <td>75</td>\n",
       "      <td>golf</td>\n",
       "      <td>150000</td>\n",
       "      <td>petrol</td>\n",
       "      <td>volkswagen</td>\n",
       "      <td>no</td>\n",
       "    </tr>\n",
       "    <tr>\n",
       "      <th>3</th>\n",
       "      <td>3600</td>\n",
       "      <td>small</td>\n",
       "      <td>2008</td>\n",
       "      <td>manual</td>\n",
       "      <td>69</td>\n",
       "      <td>fabia</td>\n",
       "      <td>90000</td>\n",
       "      <td>gasoline</td>\n",
       "      <td>skoda</td>\n",
       "      <td>no</td>\n",
       "    </tr>\n",
       "    <tr>\n",
       "      <th>4</th>\n",
       "      <td>650</td>\n",
       "      <td>sedan</td>\n",
       "      <td>1995</td>\n",
       "      <td>manual</td>\n",
       "      <td>102</td>\n",
       "      <td>3er</td>\n",
       "      <td>150000</td>\n",
       "      <td>petrol</td>\n",
       "      <td>bmw</td>\n",
       "      <td>yes</td>\n",
       "    </tr>\n",
       "    <tr>\n",
       "      <th>...</th>\n",
       "      <td>...</td>\n",
       "      <td>...</td>\n",
       "      <td>...</td>\n",
       "      <td>...</td>\n",
       "      <td>...</td>\n",
       "      <td>...</td>\n",
       "      <td>...</td>\n",
       "      <td>...</td>\n",
       "      <td>...</td>\n",
       "      <td>...</td>\n",
       "    </tr>\n",
       "    <tr>\n",
       "      <th>295398</th>\n",
       "      <td>5250</td>\n",
       "      <td>sedan</td>\n",
       "      <td>2016</td>\n",
       "      <td>auto</td>\n",
       "      <td>150</td>\n",
       "      <td>159</td>\n",
       "      <td>150000</td>\n",
       "      <td>petrol</td>\n",
       "      <td>alfa_romeo</td>\n",
       "      <td>no</td>\n",
       "    </tr>\n",
       "    <tr>\n",
       "      <th>295399</th>\n",
       "      <td>3200</td>\n",
       "      <td>sedan</td>\n",
       "      <td>2004</td>\n",
       "      <td>manual</td>\n",
       "      <td>225</td>\n",
       "      <td>leon</td>\n",
       "      <td>150000</td>\n",
       "      <td>petrol</td>\n",
       "      <td>seat</td>\n",
       "      <td>yes</td>\n",
       "    </tr>\n",
       "    <tr>\n",
       "      <th>295400</th>\n",
       "      <td>1199</td>\n",
       "      <td>convertible</td>\n",
       "      <td>2000</td>\n",
       "      <td>auto</td>\n",
       "      <td>101</td>\n",
       "      <td>fortwo</td>\n",
       "      <td>125000</td>\n",
       "      <td>petrol</td>\n",
       "      <td>smart</td>\n",
       "      <td>no</td>\n",
       "    </tr>\n",
       "    <tr>\n",
       "      <th>295401</th>\n",
       "      <td>9200</td>\n",
       "      <td>bus</td>\n",
       "      <td>1996</td>\n",
       "      <td>manual</td>\n",
       "      <td>102</td>\n",
       "      <td>transporter</td>\n",
       "      <td>150000</td>\n",
       "      <td>gasoline</td>\n",
       "      <td>volkswagen</td>\n",
       "      <td>no</td>\n",
       "    </tr>\n",
       "    <tr>\n",
       "      <th>295402</th>\n",
       "      <td>3400</td>\n",
       "      <td>wagon</td>\n",
       "      <td>2002</td>\n",
       "      <td>manual</td>\n",
       "      <td>100</td>\n",
       "      <td>golf</td>\n",
       "      <td>150000</td>\n",
       "      <td>gasoline</td>\n",
       "      <td>volkswagen</td>\n",
       "      <td>no</td>\n",
       "    </tr>\n",
       "  </tbody>\n",
       "</table>\n",
       "<p>295403 rows × 10 columns</p>\n",
       "</div>"
      ],
      "text/plain": [
       "        price vehicle_type  registration_year gearbox  power        model  \\\n",
       "0       18300        coupe               2011  manual    190      unknown   \n",
       "1        9800          suv               2004    auto    163        grand   \n",
       "2        1500        small               2001  manual     75         golf   \n",
       "3        3600        small               2008  manual     69        fabia   \n",
       "4         650        sedan               1995  manual    102          3er   \n",
       "...       ...          ...                ...     ...    ...          ...   \n",
       "295398   5250        sedan               2016    auto    150          159   \n",
       "295399   3200        sedan               2004  manual    225         leon   \n",
       "295400   1199  convertible               2000    auto    101       fortwo   \n",
       "295401   9200          bus               1996  manual    102  transporter   \n",
       "295402   3400        wagon               2002  manual    100         golf   \n",
       "\n",
       "        kilometer fuel_type       brand repaired  \n",
       "0          125000  gasoline        audi      yes  \n",
       "1          125000  gasoline        jeep       no  \n",
       "2          150000    petrol  volkswagen       no  \n",
       "3           90000  gasoline       skoda       no  \n",
       "4          150000    petrol         bmw      yes  \n",
       "...           ...       ...         ...      ...  \n",
       "295398     150000    petrol  alfa_romeo       no  \n",
       "295399     150000    petrol        seat      yes  \n",
       "295400     125000    petrol       smart       no  \n",
       "295401     150000  gasoline  volkswagen       no  \n",
       "295402     150000  gasoline  volkswagen       no  \n",
       "\n",
       "[295403 rows x 10 columns]"
      ]
     },
     "execution_count": 33,
     "metadata": {},
     "output_type": "execute_result"
    }
   ],
   "source": [
    "df"
   ]
  },
  {
   "cell_type": "markdown",
   "metadata": {},
   "source": [
    "Необходимо закодировать категориальные переменные и масштабировать количественные. Для этого подберем каждому категориальному значению наиболее подходящее число."
   ]
  },
  {
   "cell_type": "code",
   "execution_count": 34,
   "metadata": {},
   "outputs": [
    {
     "data": {
      "text/html": [
       "<div>\n",
       "<style scoped>\n",
       "    .dataframe tbody tr th:only-of-type {\n",
       "        vertical-align: middle;\n",
       "    }\n",
       "\n",
       "    .dataframe tbody tr th {\n",
       "        vertical-align: top;\n",
       "    }\n",
       "\n",
       "    .dataframe thead th {\n",
       "        text-align: right;\n",
       "    }\n",
       "</style>\n",
       "<table border=\"1\" class=\"dataframe\">\n",
       "  <thead>\n",
       "    <tr style=\"text-align: right;\">\n",
       "      <th></th>\n",
       "      <th>price</th>\n",
       "      <th>registration_year</th>\n",
       "      <th>power</th>\n",
       "      <th>kilometer</th>\n",
       "    </tr>\n",
       "    <tr>\n",
       "      <th>gearbox</th>\n",
       "      <th></th>\n",
       "      <th></th>\n",
       "      <th></th>\n",
       "      <th></th>\n",
       "    </tr>\n",
       "  </thead>\n",
       "  <tbody>\n",
       "    <tr>\n",
       "      <th>auto</th>\n",
       "      <td>5900</td>\n",
       "      <td>2004</td>\n",
       "      <td>163</td>\n",
       "      <td>150000</td>\n",
       "    </tr>\n",
       "    <tr>\n",
       "      <th>manual</th>\n",
       "      <td>2750</td>\n",
       "      <td>2003</td>\n",
       "      <td>105</td>\n",
       "      <td>150000</td>\n",
       "    </tr>\n",
       "  </tbody>\n",
       "</table>\n",
       "</div>"
      ],
      "text/plain": [
       "         price  registration_year  power  kilometer\n",
       "gearbox                                            \n",
       "auto      5900               2004    163     150000\n",
       "manual    2750               2003    105     150000"
      ]
     },
     "execution_count": 34,
     "metadata": {},
     "output_type": "execute_result"
    }
   ],
   "source": [
    "df.groupby('gearbox').median() # цена в зависимости от коробки передач"
   ]
  },
  {
   "cell_type": "code",
   "execution_count": 35,
   "metadata": {},
   "outputs": [
    {
     "data": {
      "text/html": [
       "<div>\n",
       "<style scoped>\n",
       "    .dataframe tbody tr th:only-of-type {\n",
       "        vertical-align: middle;\n",
       "    }\n",
       "\n",
       "    .dataframe tbody tr th {\n",
       "        vertical-align: top;\n",
       "    }\n",
       "\n",
       "    .dataframe thead th {\n",
       "        text-align: right;\n",
       "    }\n",
       "</style>\n",
       "<table border=\"1\" class=\"dataframe\">\n",
       "  <thead>\n",
       "    <tr style=\"text-align: right;\">\n",
       "      <th></th>\n",
       "      <th>price</th>\n",
       "      <th>registration_year</th>\n",
       "      <th>power</th>\n",
       "      <th>kilometer</th>\n",
       "    </tr>\n",
       "    <tr>\n",
       "      <th>repaired</th>\n",
       "      <th></th>\n",
       "      <th></th>\n",
       "      <th></th>\n",
       "      <th></th>\n",
       "    </tr>\n",
       "  </thead>\n",
       "  <tbody>\n",
       "    <tr>\n",
       "      <th>no</th>\n",
       "      <td>3500</td>\n",
       "      <td>2003</td>\n",
       "      <td>115</td>\n",
       "      <td>150000</td>\n",
       "    </tr>\n",
       "    <tr>\n",
       "      <th>yes</th>\n",
       "      <td>1150</td>\n",
       "      <td>2001</td>\n",
       "      <td>105</td>\n",
       "      <td>150000</td>\n",
       "    </tr>\n",
       "  </tbody>\n",
       "</table>\n",
       "</div>"
      ],
      "text/plain": [
       "          price  registration_year  power  kilometer\n",
       "repaired                                            \n",
       "no         3500               2003    115     150000\n",
       "yes        1150               2001    105     150000"
      ]
     },
     "execution_count": 35,
     "metadata": {},
     "output_type": "execute_result"
    }
   ],
   "source": [
    "df.groupby('repaired').median() # цена в зависимости от наличия ремонта"
   ]
  },
  {
   "cell_type": "code",
   "execution_count": 36,
   "metadata": {},
   "outputs": [
    {
     "data": {
      "text/html": [
       "<div>\n",
       "<style scoped>\n",
       "    .dataframe tbody tr th:only-of-type {\n",
       "        vertical-align: middle;\n",
       "    }\n",
       "\n",
       "    .dataframe tbody tr th {\n",
       "        vertical-align: top;\n",
       "    }\n",
       "\n",
       "    .dataframe thead th {\n",
       "        text-align: right;\n",
       "    }\n",
       "</style>\n",
       "<table border=\"1\" class=\"dataframe\">\n",
       "  <thead>\n",
       "    <tr style=\"text-align: right;\">\n",
       "      <th></th>\n",
       "      <th>price</th>\n",
       "      <th>registration_year</th>\n",
       "      <th>power</th>\n",
       "      <th>kilometer</th>\n",
       "    </tr>\n",
       "    <tr>\n",
       "      <th>model</th>\n",
       "      <th></th>\n",
       "      <th></th>\n",
       "      <th></th>\n",
       "      <th></th>\n",
       "    </tr>\n",
       "  </thead>\n",
       "  <tbody>\n",
       "    <tr>\n",
       "      <th>escort</th>\n",
       "      <td>600.0</td>\n",
       "      <td>1996.0</td>\n",
       "      <td>90.0</td>\n",
       "      <td>150000.0</td>\n",
       "    </tr>\n",
       "    <tr>\n",
       "      <th>samara</th>\n",
       "      <td>600.0</td>\n",
       "      <td>1997.0</td>\n",
       "      <td>70.0</td>\n",
       "      <td>125000.0</td>\n",
       "    </tr>\n",
       "    <tr>\n",
       "      <th>lanos</th>\n",
       "      <td>600.0</td>\n",
       "      <td>2000.0</td>\n",
       "      <td>75.0</td>\n",
       "      <td>150000.0</td>\n",
       "    </tr>\n",
       "    <tr>\n",
       "      <th>elefantino</th>\n",
       "      <td>700.0</td>\n",
       "      <td>1999.0</td>\n",
       "      <td>60.0</td>\n",
       "      <td>150000.0</td>\n",
       "    </tr>\n",
       "    <tr>\n",
       "      <th>move</th>\n",
       "      <td>700.0</td>\n",
       "      <td>1999.0</td>\n",
       "      <td>47.5</td>\n",
       "      <td>150000.0</td>\n",
       "    </tr>\n",
       "    <tr>\n",
       "      <th>...</th>\n",
       "      <td>...</td>\n",
       "      <td>...</td>\n",
       "      <td>...</td>\n",
       "      <td>...</td>\n",
       "    </tr>\n",
       "    <tr>\n",
       "      <th>a5</th>\n",
       "      <td>16700.0</td>\n",
       "      <td>2009.0</td>\n",
       "      <td>190.0</td>\n",
       "      <td>150000.0</td>\n",
       "    </tr>\n",
       "    <tr>\n",
       "      <th>glk</th>\n",
       "      <td>17900.0</td>\n",
       "      <td>2009.0</td>\n",
       "      <td>170.0</td>\n",
       "      <td>150000.0</td>\n",
       "    </tr>\n",
       "    <tr>\n",
       "      <th>q3</th>\n",
       "      <td>18499.0</td>\n",
       "      <td>2012.0</td>\n",
       "      <td>140.0</td>\n",
       "      <td>90000.0</td>\n",
       "    </tr>\n",
       "    <tr>\n",
       "      <th>amarok</th>\n",
       "      <td>18677.5</td>\n",
       "      <td>2011.0</td>\n",
       "      <td>163.0</td>\n",
       "      <td>80000.0</td>\n",
       "    </tr>\n",
       "    <tr>\n",
       "      <th>gl</th>\n",
       "      <td>18999.0</td>\n",
       "      <td>2007.0</td>\n",
       "      <td>224.0</td>\n",
       "      <td>150000.0</td>\n",
       "    </tr>\n",
       "  </tbody>\n",
       "</table>\n",
       "<p>250 rows × 4 columns</p>\n",
       "</div>"
      ],
      "text/plain": [
       "              price  registration_year  power  kilometer\n",
       "model                                                   \n",
       "escort        600.0             1996.0   90.0   150000.0\n",
       "samara        600.0             1997.0   70.0   125000.0\n",
       "lanos         600.0             2000.0   75.0   150000.0\n",
       "elefantino    700.0             1999.0   60.0   150000.0\n",
       "move          700.0             1999.0   47.5   150000.0\n",
       "...             ...                ...    ...        ...\n",
       "a5          16700.0             2009.0  190.0   150000.0\n",
       "glk         17900.0             2009.0  170.0   150000.0\n",
       "q3          18499.0             2012.0  140.0    90000.0\n",
       "amarok      18677.5             2011.0  163.0    80000.0\n",
       "gl          18999.0             2007.0  224.0   150000.0\n",
       "\n",
       "[250 rows x 4 columns]"
      ]
     },
     "execution_count": 36,
     "metadata": {},
     "output_type": "execute_result"
    }
   ],
   "source": [
    "df.groupby('model').median().sort_values('price') # цена в зависимости от модели авто"
   ]
  },
  {
   "cell_type": "code",
   "execution_count": 37,
   "metadata": {},
   "outputs": [
    {
     "data": {
      "image/png": "[encoded data removed]",
      "text/plain": [
       "<Figure size 432x288 with 1 Axes>"
      ]
     },
     "metadata": {
      "needs_background": "light"
     },
     "output_type": "display_data"
    }
   ],
   "source": [
    "# Гистограмма распределения цен на авто в зависимости от модели\n",
    "\n",
    "df.groupby('model').median().sort_values('price')['price'].plot(kind='hist',\n",
    "                                                                title='распределение количества моделей по цене')\n",
    "None"
   ]
  },
  {
   "cell_type": "code",
   "execution_count": 38,
   "metadata": {},
   "outputs": [
    {
     "data": {
      "text/html": [
       "<div>\n",
       "<style scoped>\n",
       "    .dataframe tbody tr th:only-of-type {\n",
       "        vertical-align: middle;\n",
       "    }\n",
       "\n",
       "    .dataframe tbody tr th {\n",
       "        vertical-align: top;\n",
       "    }\n",
       "\n",
       "    .dataframe thead th {\n",
       "        text-align: right;\n",
       "    }\n",
       "</style>\n",
       "<table border=\"1\" class=\"dataframe\">\n",
       "  <thead>\n",
       "    <tr style=\"text-align: right;\">\n",
       "      <th></th>\n",
       "      <th>price</th>\n",
       "      <th>vehicle_type</th>\n",
       "      <th>registration_year</th>\n",
       "      <th>gearbox</th>\n",
       "      <th>power</th>\n",
       "      <th>model</th>\n",
       "      <th>kilometer</th>\n",
       "      <th>fuel_type</th>\n",
       "      <th>brand</th>\n",
       "      <th>repaired</th>\n",
       "    </tr>\n",
       "  </thead>\n",
       "  <tbody>\n",
       "    <tr>\n",
       "      <th>0</th>\n",
       "      <td>18300</td>\n",
       "      <td>coupe</td>\n",
       "      <td>2011</td>\n",
       "      <td>manual</td>\n",
       "      <td>190</td>\n",
       "      <td>unknown</td>\n",
       "      <td>125000</td>\n",
       "      <td>gasoline</td>\n",
       "      <td>audi</td>\n",
       "      <td>yes</td>\n",
       "    </tr>\n",
       "    <tr>\n",
       "      <th>1</th>\n",
       "      <td>9800</td>\n",
       "      <td>suv</td>\n",
       "      <td>2004</td>\n",
       "      <td>auto</td>\n",
       "      <td>163</td>\n",
       "      <td>grand</td>\n",
       "      <td>125000</td>\n",
       "      <td>gasoline</td>\n",
       "      <td>jeep</td>\n",
       "      <td>no</td>\n",
       "    </tr>\n",
       "    <tr>\n",
       "      <th>2</th>\n",
       "      <td>1500</td>\n",
       "      <td>small</td>\n",
       "      <td>2001</td>\n",
       "      <td>manual</td>\n",
       "      <td>75</td>\n",
       "      <td>golf</td>\n",
       "      <td>150000</td>\n",
       "      <td>petrol</td>\n",
       "      <td>volkswagen</td>\n",
       "      <td>no</td>\n",
       "    </tr>\n",
       "    <tr>\n",
       "      <th>3</th>\n",
       "      <td>3600</td>\n",
       "      <td>small</td>\n",
       "      <td>2008</td>\n",
       "      <td>manual</td>\n",
       "      <td>69</td>\n",
       "      <td>fabia</td>\n",
       "      <td>90000</td>\n",
       "      <td>gasoline</td>\n",
       "      <td>skoda</td>\n",
       "      <td>no</td>\n",
       "    </tr>\n",
       "    <tr>\n",
       "      <th>4</th>\n",
       "      <td>650</td>\n",
       "      <td>sedan</td>\n",
       "      <td>1995</td>\n",
       "      <td>manual</td>\n",
       "      <td>102</td>\n",
       "      <td>3er</td>\n",
       "      <td>150000</td>\n",
       "      <td>petrol</td>\n",
       "      <td>bmw</td>\n",
       "      <td>yes</td>\n",
       "    </tr>\n",
       "  </tbody>\n",
       "</table>\n",
       "</div>"
      ],
      "text/plain": [
       "   price vehicle_type  registration_year gearbox  power    model  kilometer  \\\n",
       "0  18300        coupe               2011  manual    190  unknown     125000   \n",
       "1   9800          suv               2004    auto    163    grand     125000   \n",
       "2   1500        small               2001  manual     75     golf     150000   \n",
       "3   3600        small               2008  manual     69    fabia      90000   \n",
       "4    650        sedan               1995  manual    102      3er     150000   \n",
       "\n",
       "  fuel_type       brand repaired  \n",
       "0  gasoline        audi      yes  \n",
       "1  gasoline        jeep       no  \n",
       "2    petrol  volkswagen       no  \n",
       "3  gasoline       skoda       no  \n",
       "4    petrol         bmw      yes  "
      ]
     },
     "execution_count": 38,
     "metadata": {},
     "output_type": "execute_result"
    }
   ],
   "source": [
    "df.head()"
   ]
  },
  {
   "cell_type": "code",
   "execution_count": 39,
   "metadata": {},
   "outputs": [
    {
     "data": {
      "text/html": [
       "<div>\n",
       "<style scoped>\n",
       "    .dataframe tbody tr th:only-of-type {\n",
       "        vertical-align: middle;\n",
       "    }\n",
       "\n",
       "    .dataframe tbody tr th {\n",
       "        vertical-align: top;\n",
       "    }\n",
       "\n",
       "    .dataframe thead th {\n",
       "        text-align: right;\n",
       "    }\n",
       "</style>\n",
       "<table border=\"1\" class=\"dataframe\">\n",
       "  <thead>\n",
       "    <tr style=\"text-align: right;\">\n",
       "      <th></th>\n",
       "      <th>price</th>\n",
       "      <th>registration_year</th>\n",
       "      <th>power</th>\n",
       "      <th>kilometer</th>\n",
       "    </tr>\n",
       "    <tr>\n",
       "      <th>fuel_type</th>\n",
       "      <th></th>\n",
       "      <th></th>\n",
       "      <th></th>\n",
       "      <th></th>\n",
       "    </tr>\n",
       "  </thead>\n",
       "  <tbody>\n",
       "    <tr>\n",
       "      <th>other</th>\n",
       "      <td>1650</td>\n",
       "      <td>1998</td>\n",
       "      <td>90</td>\n",
       "      <td>150000</td>\n",
       "    </tr>\n",
       "    <tr>\n",
       "      <th>petrol</th>\n",
       "      <td>2300</td>\n",
       "      <td>2001</td>\n",
       "      <td>102</td>\n",
       "      <td>150000</td>\n",
       "    </tr>\n",
       "    <tr>\n",
       "      <th>lpg</th>\n",
       "      <td>2999</td>\n",
       "      <td>2002</td>\n",
       "      <td>141</td>\n",
       "      <td>150000</td>\n",
       "    </tr>\n",
       "    <tr>\n",
       "      <th>cng</th>\n",
       "      <td>3890</td>\n",
       "      <td>2006</td>\n",
       "      <td>102</td>\n",
       "      <td>150000</td>\n",
       "    </tr>\n",
       "    <tr>\n",
       "      <th>gasoline</th>\n",
       "      <td>5500</td>\n",
       "      <td>2006</td>\n",
       "      <td>136</td>\n",
       "      <td>150000</td>\n",
       "    </tr>\n",
       "    <tr>\n",
       "      <th>electric</th>\n",
       "      <td>6100</td>\n",
       "      <td>2012</td>\n",
       "      <td>58</td>\n",
       "      <td>30000</td>\n",
       "    </tr>\n",
       "    <tr>\n",
       "      <th>hybrid</th>\n",
       "      <td>10900</td>\n",
       "      <td>2010</td>\n",
       "      <td>99</td>\n",
       "      <td>80000</td>\n",
       "    </tr>\n",
       "  </tbody>\n",
       "</table>\n",
       "</div>"
      ],
      "text/plain": [
       "           price  registration_year  power  kilometer\n",
       "fuel_type                                            \n",
       "other       1650               1998     90     150000\n",
       "petrol      2300               2001    102     150000\n",
       "lpg         2999               2002    141     150000\n",
       "cng         3890               2006    102     150000\n",
       "gasoline    5500               2006    136     150000\n",
       "electric    6100               2012     58      30000\n",
       "hybrid     10900               2010     99      80000"
      ]
     },
     "execution_count": 39,
     "metadata": {},
     "output_type": "execute_result"
    }
   ],
   "source": [
    "df.groupby('fuel_type').median().sort_values('price') # цена в зависимости от типа топлива"
   ]
  },
  {
   "cell_type": "code",
   "execution_count": 40,
   "metadata": {},
   "outputs": [
    {
     "data": {
      "text/html": [
       "<div>\n",
       "<style scoped>\n",
       "    .dataframe tbody tr th:only-of-type {\n",
       "        vertical-align: middle;\n",
       "    }\n",
       "\n",
       "    .dataframe tbody tr th {\n",
       "        vertical-align: top;\n",
       "    }\n",
       "\n",
       "    .dataframe thead th {\n",
       "        text-align: right;\n",
       "    }\n",
       "</style>\n",
       "<table border=\"1\" class=\"dataframe\">\n",
       "  <thead>\n",
       "    <tr style=\"text-align: right;\">\n",
       "      <th></th>\n",
       "      <th>price</th>\n",
       "      <th>registration_year</th>\n",
       "      <th>power</th>\n",
       "      <th>kilometer</th>\n",
       "    </tr>\n",
       "    <tr>\n",
       "      <th>vehicle_type</th>\n",
       "      <th></th>\n",
       "      <th></th>\n",
       "      <th></th>\n",
       "      <th></th>\n",
       "    </tr>\n",
       "  </thead>\n",
       "  <tbody>\n",
       "    <tr>\n",
       "      <th>small</th>\n",
       "      <td>1699</td>\n",
       "      <td>2002</td>\n",
       "      <td>69</td>\n",
       "      <td>150000</td>\n",
       "    </tr>\n",
       "    <tr>\n",
       "      <th>other</th>\n",
       "      <td>2500</td>\n",
       "      <td>2001</td>\n",
       "      <td>101</td>\n",
       "      <td>150000</td>\n",
       "    </tr>\n",
       "    <tr>\n",
       "      <th>sedan</th>\n",
       "      <td>3199</td>\n",
       "      <td>2002</td>\n",
       "      <td>122</td>\n",
       "      <td>150000</td>\n",
       "    </tr>\n",
       "    <tr>\n",
       "      <th>wagon</th>\n",
       "      <td>3450</td>\n",
       "      <td>2004</td>\n",
       "      <td>136</td>\n",
       "      <td>150000</td>\n",
       "    </tr>\n",
       "    <tr>\n",
       "      <th>coupe</th>\n",
       "      <td>4000</td>\n",
       "      <td>2001</td>\n",
       "      <td>150</td>\n",
       "      <td>150000</td>\n",
       "    </tr>\n",
       "    <tr>\n",
       "      <th>bus</th>\n",
       "      <td>4444</td>\n",
       "      <td>2005</td>\n",
       "      <td>115</td>\n",
       "      <td>150000</td>\n",
       "    </tr>\n",
       "    <tr>\n",
       "      <th>convertible</th>\n",
       "      <td>5500</td>\n",
       "      <td>2003</td>\n",
       "      <td>126</td>\n",
       "      <td>150000</td>\n",
       "    </tr>\n",
       "    <tr>\n",
       "      <th>suv</th>\n",
       "      <td>8500</td>\n",
       "      <td>2006</td>\n",
       "      <td>150</td>\n",
       "      <td>150000</td>\n",
       "    </tr>\n",
       "  </tbody>\n",
       "</table>\n",
       "</div>"
      ],
      "text/plain": [
       "              price  registration_year  power  kilometer\n",
       "vehicle_type                                            \n",
       "small          1699               2002     69     150000\n",
       "other          2500               2001    101     150000\n",
       "sedan          3199               2002    122     150000\n",
       "wagon          3450               2004    136     150000\n",
       "coupe          4000               2001    150     150000\n",
       "bus            4444               2005    115     150000\n",
       "convertible    5500               2003    126     150000\n",
       "suv            8500               2006    150     150000"
      ]
     },
     "execution_count": 40,
     "metadata": {},
     "output_type": "execute_result"
    }
   ],
   "source": [
    "df.groupby('vehicle_type').median().sort_values('price') # цена в зависимости от кузова"
   ]
  },
  {
   "cell_type": "markdown",
   "metadata": {},
   "source": [
    "Линейные модели использовать не будем, поэтому закодируем категориальные признаки порядковым кодированием `gearbox`, `repaired`, `fuel_type`, `vehicle_type`, `model`, `brand`.\n",
    "\n",
    "\n",
    "Перед кодированием, необходимо поделить выборку на тестовую и тренировочную."
   ]
  },
  {
   "cell_type": "code",
   "execution_count": 41,
   "metadata": {},
   "outputs": [],
   "source": [
    "# сплитуем выборки на тестовую и трейновую\n",
    "\n",
    "df_train, df_test = train_test_split(df, test_size=0.25, random_state=123)\n",
    "df_train = df_train.reset_index(drop=True)\n",
    "df_test = df_test.reset_index(drop=True)"
   ]
  },
  {
   "cell_type": "code",
   "execution_count": 42,
   "metadata": {},
   "outputs": [],
   "source": [
    "# кодируем признаки\n",
    "\n",
    "columns = ['vehicle_type', 'gearbox', 'model', 'fuel_type', 'brand', 'repaired']\n",
    "enc = OrdinalEncoder(handle_unknown='use_encoded_value', unknown_value=-1)\n",
    "enc.fit(df_train[columns])\n",
    "\n",
    "df_train[columns] = enc.transform(df_train[columns])\n",
    "df_test[columns] = enc.transform(df_test[columns])"
   ]
  },
  {
   "cell_type": "markdown",
   "metadata": {},
   "source": [
    "**Вывод:** Кодировании и масштабировании признаков, было проведено следующим образом:\n",
    "* Бинарные категориальные признаки закодированы соответственно 0 и 1;\n",
    "* При наличии категориальных признаков с несколькими значениями(7-8), применено порядковое кодирование, в соответствии со средней ценой в зависимости от значения признака;\n",
    "* Если в признаке много значений (больше 40), например `model` или `brand`, то сначала значения распределяются по нескольким категориям в зависимости от цены, а далее применяется порядковое кодирование.\n",
    "* Масштабирование признаков было проведено с помощью MinMaxScaler, т.к. выбросы были удалены, и хотелось сохранить исходное соотношение величин."
   ]
  },
  {
   "cell_type": "markdown",
   "metadata": {},
   "source": [
    "## Обучение моделей"
   ]
  },
  {
   "cell_type": "code",
   "execution_count": 59,
   "metadata": {},
   "outputs": [],
   "source": [
    "# выделяем целевую переменную и признаки\n",
    "\n",
    "X_train = df_train.drop('price', axis=1)\n",
    "X_test = df_test.drop('price', axis=1)\n",
    "y_train =  df_train['price']\n",
    "y_test = df_test['price']"
   ]
  },
  {
   "cell_type": "code",
   "execution_count": 60,
   "metadata": {},
   "outputs": [],
   "source": [
    "X_train.to_csv('X_train.csv')\n",
    "y_train.to_csv('y_train.csv')"
   ]
  },
  {
   "cell_type": "markdown",
   "metadata": {},
   "source": [
    "<div class=\"alert alert-success\">\n",
    "<h2> Комментарий ревьюера <a class=\"tocSkip\"> </h2>\n",
    "\n",
    "<b>Все отлично!👍:</b> Сплитование выполнено."
   ]
  },
  {
   "cell_type": "markdown",
   "metadata": {},
   "source": [
    "* Обучать модели будем сразу с подбором гиперпараметров и перекрестной валидацией. \n",
    "* Лучшее значение функции потерь и время работы алгоритма будем выводить на экран. \n",
    "* За время обучения алгоритма будем считать отношение общего затраченного времени работы алгоритма на количество итераций.\n",
    "* Время предсказания алгоритма должно быть много меньше времени обучения поэтому им можно пренебречь. "
   ]
  },
  {
   "cell_type": "code",
   "execution_count": 62,
   "metadata": {},
   "outputs": [],
   "source": [
    "# выбираем лучшую модель KNN\n",
    "\n",
    "# # KNN (количество соседей от 1 до 10)\n",
    "\n",
    "# best_rmse_knn = 10000\n",
    "# best_neighbors = 0\n",
    "\n",
    "# for n in range(1, 11):\n",
    "#     rmse_knn = abs(cross_val_score(KNeighborsRegressor(n_neighbors=n), features_train, target_train, \n",
    "#                                   cv=3, scoring='neg_root_mean_squared_error').mean()).round(2)\n",
    "#     print(rmse_knn, round(knn_time, 2))\n",
    "    \n",
    "#     if rmse_knn < best_rmse_knn:\n",
    "#         best_rmse_knn = rmse_knn\n",
    "#         best_neighbors = n\n",
    "        \n",
    "\n",
    "# print('-------------------------------------')        \n",
    "# print('Итоговые результаты:')\n",
    "# print('Значение RMSE:', best_rmse_knn)\n",
    "# print('Лучшее значение n_neighbors', best_neighbors) "
   ]
  },
  {
   "cell_type": "code",
   "execution_count": 63,
   "metadata": {},
   "outputs": [],
   "source": [
    "# Итоговые результаты KNN:\n",
    "# Значение RMSE: 1991.97\n",
    "# Лучшее значение n_neighbors 6"
   ]
  },
  {
   "cell_type": "code",
   "execution_count": 64,
   "metadata": {},
   "outputs": [
    {
     "name": "stdout",
     "output_type": "stream",
     "text": [
      "Время обучения: 19.666694164276123 секунд\n",
      "Время предсказания: 9.357507467269897 секунд\n"
     ]
    }
   ],
   "source": [
    "# rev1 (написал ячейку замера времени после замечания)\n",
    "# считаем время работы KNN\n",
    "knn = KNeighborsRegressor(n_neighbors=6)\n",
    "\n",
    "# скорость обучения\n",
    "start_time = time.time()\n",
    "knn.fit(X_train, y_train)\n",
    "train_time_knn = time.time() - start_time\n",
    "\n",
    "# скорость предсказания\n",
    "start_time = time.time()\n",
    "pred = knn.predict(X_train)\n",
    "pred_time_knn = time.time() - start_time\n",
    "\n",
    "print('Время обучения:', train_time_knn, 'секунд')\n",
    "print('Время предсказания:', pred_time_knn, 'секунд')"
   ]
  },
  {
   "cell_type": "markdown",
   "metadata": {},
   "source": [
    "После ручного прогона гиперпараметров по методу ближайших соседей, далее будем использовать Hyperopt, с ним получится чуть быстрее подобрать почти оптимальные гиперпараметры."
   ]
  },
  {
   "cell_type": "code",
   "execution_count": 65,
   "metadata": {},
   "outputs": [],
   "source": [
    "# пространство гиперпараметров для Random Forest\n",
    "\n",
    "search_space_rf = {\n",
    "    'n_estimators': hp.choice('n_estimators', np.arange(100, 260, 10, dtype=int)),\n",
    "    'max_depth': hp.choice('max_depth', np.arange(5, 16, 1, dtype=int))    \n",
    "}"
   ]
  },
  {
   "cell_type": "code",
   "execution_count": 66,
   "metadata": {},
   "outputs": [],
   "source": [
    "# пространство гиперпараметров для бустинг алгоритмов\n",
    "\n",
    "search_space = {\n",
    "    'learning_rate': hp.choice('learning_rate', np.arange(0.05, 0.51, 0.05)),\n",
    "    'n_estimators': hp.choice('n_estimators', np.arange(100, 260, 10, dtype=int)),\n",
    "    'max_depth': hp.choice('max_depth', np.arange(5, 16, 1, dtype=int))\n",
    "    \n",
    "}"
   ]
  },
  {
   "cell_type": "code",
   "execution_count": 67,
   "metadata": {},
   "outputs": [],
   "source": [
    "# # зафиксируем массивы возможных значений в отдельные переменные для более удобного вывода результата\n",
    "# _learning_rate = np.arange(0.05, 0.51, 0.05)\n",
    "# _n_estimators = np.arange(100, 260, 10, dtype=int)\n",
    "# _max_depth = np.arange(5, 16, 1, dtype=int)"
   ]
  },
  {
   "cell_type": "markdown",
   "metadata": {},
   "source": [
    "Целевые функции для каждого алгоритма"
   ]
  },
  {
   "cell_type": "code",
   "execution_count": 68,
   "metadata": {},
   "outputs": [],
   "source": [
    "def rf_obj(args):\n",
    "    rf = RandomForestRegressor(**args, random_state=123, n_jobs=1)\n",
    "    score = abs(cross_val_score(rf, X_train, y_train, cv=3, \n",
    "                                scoring='neg_root_mean_squared_error').mean())\n",
    "    print('Hyperparameters : {}'.format(args))\n",
    "    print('RMSE : {}\\n'.format(score))    \n",
    "    return score"
   ]
  },
  {
   "cell_type": "code",
   "execution_count": 69,
   "metadata": {},
   "outputs": [],
   "source": [
    "def xgb_obj(args):\n",
    "    xgb = XGBRegressor(**args, random_state=123, n_jobs=1)\n",
    "    score = abs(cross_val_score(xgb, features_train, target_train, cv=3, \n",
    "                                scoring='neg_root_mean_squared_error').mean())\n",
    "    print('Hyperparameters : {}'.format(args))\n",
    "    print('RMSE : {}\\n'.format(score))    \n",
    "    return score"
   ]
  },
  {
   "cell_type": "code",
   "execution_count": 70,
   "metadata": {},
   "outputs": [],
   "source": [
    "def lgb_obj(args):\n",
    "    lgbm = LGBMRegressor(**args, verbose=-1, random_state=123, n_jobs=1)\n",
    "    score = abs(cross_val_score(lgbm, features_train, target_train, cv=3, \n",
    "                                scoring='neg_root_mean_squared_error').mean())\n",
    "    print('Hyperparameters : {}'.format(args))\n",
    "    print('RMSE : {}\\n'.format(score))    \n",
    "    return score"
   ]
  },
  {
   "cell_type": "code",
   "execution_count": 71,
   "metadata": {},
   "outputs": [],
   "source": [
    "def ctb_obj(args):\n",
    "    cat = CatBoostRegressor(**args, silent=True, random_state=123)\n",
    "    score = abs(cross_val_score(cat, features_train, target_train, cv=3, \n",
    "                                scoring='neg_root_mean_squared_error').mean())\n",
    "    print('Hyperparameters : {}'.format(args))\n",
    "    print('RMSE : {}\\n'.format(score))    \n",
    "    return score"
   ]
  },
  {
   "cell_type": "code",
   "execution_count": 72,
   "metadata": {},
   "outputs": [],
   "source": [
    "# обучаем Random Forest\n",
    "\n",
    "# print('RandomForest')\n",
    "# rf_trials = hyperopt.Trials()\n",
    "# start_time = time.time()\n",
    "# rf_best_res = fmin(rf_obj, space=search_space_rf, algo=hyperopt.tpe.suggest, trials=rf_trials, max_evals=50)\n",
    "# rf_time = round(((time.time() - start_time) / 50), 2)\n",
    "\n",
    "# print('-------------------------------------')        \n",
    "# print('Итоговые результаты:')\n",
    "# print('Значение RMSE:', rf_trials.average_best_error().round(2))\n",
    "# print(f'Скорость работы алгоритма: {rf_time} секунд')\n",
    "# print('Лучшее значение n_estimators', _n_estimators[rf_best_res['n_estimators']])\n",
    "# print('Лучшее значение max_depth', _max_depth[xgb_best_res['max_depth']]) "
   ]
  },
  {
   "cell_type": "code",
   "execution_count": 73,
   "metadata": {},
   "outputs": [],
   "source": [
    "# Итоговые результаты Random Forest:\n",
    "# Значение RMSE: 1640.67\n",
    "# Лучшее значение n_estimators 220\n",
    "# Лучшее значение max_depth 15"
   ]
  },
  {
   "cell_type": "code",
   "execution_count": 74,
   "metadata": {},
   "outputs": [
    {
     "name": "stdout",
     "output_type": "stream",
     "text": [
      "Время обучения: 70.09240341186523 секунд\n",
      "Время предсказания: 7.220144033432007 секунд\n"
     ]
    }
   ],
   "source": [
    "# rev1\n",
    "# считаем время работы Random Forest\n",
    "rf = RandomForestRegressor(n_estimators=220, max_depth=15, random_state=123)\n",
    "\n",
    "# скорость обучения\n",
    "start_time = time.time()\n",
    "rf.fit(X_train, y_train)\n",
    "train_time_rf = time.time() - start_time\n",
    "\n",
    "# скорость предсказания\n",
    "start_time = time.time()\n",
    "pred = rf.predict(X_train)\n",
    "pred_time_rf = time.time() - start_time\n",
    "\n",
    "print('Время обучения:', train_time_rf, 'секунд')\n",
    "print('Время предсказания:', pred_time_rf, 'секунд')"
   ]
  },
  {
   "cell_type": "code",
   "execution_count": 75,
   "metadata": {},
   "outputs": [],
   "source": [
    "# # обучаем LightGBM\n",
    "\n",
    "# print('LGBM')\n",
    "# lgb_trials = hyperopt.Trials()\n",
    "# start_time = time.time()\n",
    "# lgb_best_res = fmin(lgb_obj, space=search_space, algo=hyperopt.tpe.suggest, trials=lgb_trials, max_evals=50)\n",
    "# lgb_time = round(((time.time() - start_time) / 50), 2)\n",
    "\n",
    "# print('-------------------------------------')        \n",
    "# print('Итоговые результаты:')\n",
    "# print('Значение RMSE:', lgb_trials.average_best_error().round(2))\n",
    "# print('Лучшее значение learning_rate', _learning_rate[lgb_best_res['learning_rate']])\n",
    "# print('Лучшее значение max_depth', _max_depth[lgb_best_res['max_depth']])\n",
    "# print('Лучшее значение n_estimators', _n_estimators[lgb_best_res['n_estimators']])"
   ]
  },
  {
   "cell_type": "code",
   "execution_count": 76,
   "metadata": {},
   "outputs": [],
   "source": [
    "# Итоговые результаты LightGBM:\n",
    "# Значение RMSE: 1586.22\n",
    "# Лучшее значение learning_rate 0.35000000000000003\n",
    "# Лучшее значение max_depth 14\n",
    "# Лучшее значение n_estimators 240"
   ]
  },
  {
   "cell_type": "code",
   "execution_count": 77,
   "metadata": {},
   "outputs": [
    {
     "name": "stdout",
     "output_type": "stream",
     "text": [
      "Время обучения: 7.62173867225647 секунд\n",
      "Время предсказания: 3.020690679550171 секунд\n"
     ]
    }
   ],
   "source": [
    "# rev1\n",
    "# считаем время работы LightGBM\n",
    "lgb = LGBMRegressor(n_estimators=240, max_depth=14, random_state=123)\n",
    "\n",
    "# скорость обучения\n",
    "start_time = time.time()\n",
    "lgb.fit(X_train, y_train)\n",
    "train_time_lgb = time.time() - start_time\n",
    "\n",
    "# скорость предсказания\n",
    "start_time = time.time()\n",
    "pred = lgb.predict(X_train)\n",
    "pred_time_lgb = time.time() - start_time\n",
    "\n",
    "print('Время обучения:', train_time_lgb, 'секунд')\n",
    "print('Время предсказания:', pred_time_lgb, 'секунд')"
   ]
  },
  {
   "cell_type": "code",
   "execution_count": 78,
   "metadata": {},
   "outputs": [],
   "source": [
    "# # обучаем CatBoost\n",
    "\n",
    "# print('CatBoost')\n",
    "# ctb_trials = hyperopt.Trials()\n",
    "# start_time = time.time()\n",
    "# ctb_best_res = fmin(ctb_obj, space=search_space, algo=hyperopt.tpe.suggest, trials=ctb_trials, max_evals=50)\n",
    "# ctb_time = round(((time.time() - start_time) / 50), 2)\n",
    "\n",
    "# print('-------------------------------------')        \n",
    "# print('Итоговые результаты:')\n",
    "# print('Значение RMSE:', ctb_trials.average_best_error().round(2))\n",
    "# print('Лучшее значение learning_rate', _learning_rate[ctb_best_res['learning_rate']])\n",
    "# print('Лучшее значение max_depth', _max_depth[ctb_best_res['max_depth']])\n",
    "# print('Лучшее значение n_estimators', _n_estimators[ctb_best_res['n_estimators']])"
   ]
  },
  {
   "cell_type": "code",
   "execution_count": 79,
   "metadata": {},
   "outputs": [],
   "source": [
    "# Итоговые результаты:\n",
    "# Значение RMSE: 1570.68\n",
    "# Лучшее значение learning_rate 0.25\n",
    "# Лучшее значение max_depth 14\n",
    "# Лучшее значение n_estimators 230"
   ]
  },
  {
   "cell_type": "code",
   "execution_count": 80,
   "metadata": {},
   "outputs": [
    {
     "name": "stdout",
     "output_type": "stream",
     "text": [
      "Learning rate set to 0.317453\n",
      "0:\tlearn: 3528.1414425\ttotal: 327ms\tremaining: 1m 14s\n",
      "1:\tlearn: 2858.3394490\ttotal: 571ms\tremaining: 1m 5s\n",
      "2:\tlearn: 2435.3951642\ttotal: 814ms\tremaining: 1m 1s\n",
      "3:\tlearn: 2164.5149642\ttotal: 1.06s\tremaining: 59.9s\n",
      "4:\tlearn: 2006.5635912\ttotal: 1.31s\tremaining: 58.9s\n",
      "5:\tlearn: 1898.9711544\ttotal: 1.55s\tremaining: 57.9s\n",
      "6:\tlearn: 1820.9961399\ttotal: 1.8s\tremaining: 57.4s\n",
      "7:\tlearn: 1776.6936916\ttotal: 2.05s\tremaining: 56.8s\n",
      "8:\tlearn: 1743.8318917\ttotal: 2.29s\tremaining: 56.3s\n",
      "9:\tlearn: 1719.7471864\ttotal: 2.54s\tremaining: 55.8s\n",
      "10:\tlearn: 1703.6755899\ttotal: 2.79s\tremaining: 55.6s\n",
      "11:\tlearn: 1681.6421855\ttotal: 3.06s\tremaining: 55.5s\n",
      "12:\tlearn: 1667.0842811\ttotal: 3.31s\tremaining: 55.3s\n",
      "13:\tlearn: 1654.7575967\ttotal: 3.58s\tremaining: 55.2s\n",
      "14:\tlearn: 1641.4791073\ttotal: 3.83s\tremaining: 55s\n",
      "15:\tlearn: 1631.7836922\ttotal: 4.09s\tremaining: 54.7s\n",
      "16:\tlearn: 1624.2408960\ttotal: 4.34s\tremaining: 54.4s\n",
      "17:\tlearn: 1610.2386482\ttotal: 4.6s\tremaining: 54.2s\n",
      "18:\tlearn: 1603.1073234\ttotal: 4.87s\tremaining: 54s\n",
      "19:\tlearn: 1596.0506546\ttotal: 5.13s\tremaining: 53.9s\n",
      "20:\tlearn: 1583.6921839\ttotal: 5.38s\tremaining: 53.6s\n",
      "21:\tlearn: 1577.1253520\ttotal: 5.64s\tremaining: 53.3s\n",
      "22:\tlearn: 1571.0310350\ttotal: 5.89s\tremaining: 53s\n",
      "23:\tlearn: 1565.2355166\ttotal: 6.13s\tremaining: 52.7s\n",
      "24:\tlearn: 1559.2699278\ttotal: 6.38s\tremaining: 52.4s\n",
      "25:\tlearn: 1551.6623883\ttotal: 6.63s\tremaining: 52s\n",
      "26:\tlearn: 1545.1153698\ttotal: 6.89s\tremaining: 51.8s\n",
      "27:\tlearn: 1538.5096951\ttotal: 7.14s\tremaining: 51.5s\n",
      "28:\tlearn: 1533.5641211\ttotal: 7.39s\tremaining: 51.2s\n",
      "29:\tlearn: 1530.5844335\ttotal: 7.63s\tremaining: 50.9s\n",
      "30:\tlearn: 1524.0156136\ttotal: 7.88s\tremaining: 50.6s\n",
      "31:\tlearn: 1520.1503434\ttotal: 8.13s\tremaining: 50.3s\n",
      "32:\tlearn: 1514.6731150\ttotal: 8.39s\tremaining: 50.1s\n",
      "33:\tlearn: 1510.9940090\ttotal: 8.63s\tremaining: 49.7s\n",
      "34:\tlearn: 1507.9917620\ttotal: 8.88s\tremaining: 49.5s\n",
      "35:\tlearn: 1503.7595261\ttotal: 9.12s\tremaining: 49.1s\n",
      "36:\tlearn: 1498.7565038\ttotal: 9.37s\tremaining: 48.9s\n",
      "37:\tlearn: 1494.6290990\ttotal: 9.61s\tremaining: 48.6s\n",
      "38:\tlearn: 1490.6364135\ttotal: 9.86s\tremaining: 48.3s\n",
      "39:\tlearn: 1486.3261207\ttotal: 10.1s\tremaining: 48s\n",
      "40:\tlearn: 1481.9531058\ttotal: 10.4s\tremaining: 47.8s\n",
      "41:\tlearn: 1478.6877126\ttotal: 10.6s\tremaining: 47.4s\n",
      "42:\tlearn: 1475.1931778\ttotal: 10.8s\tremaining: 47.2s\n",
      "43:\tlearn: 1471.0337107\ttotal: 11.1s\tremaining: 47s\n",
      "44:\tlearn: 1466.0670631\ttotal: 11.4s\tremaining: 46.7s\n",
      "45:\tlearn: 1460.9775159\ttotal: 11.6s\tremaining: 46.4s\n",
      "46:\tlearn: 1457.3339594\ttotal: 11.9s\tremaining: 46.2s\n",
      "47:\tlearn: 1453.9488404\ttotal: 12.1s\tremaining: 45.9s\n",
      "48:\tlearn: 1450.7291527\ttotal: 12.4s\tremaining: 45.7s\n",
      "49:\tlearn: 1448.2604911\ttotal: 12.6s\tremaining: 45.4s\n",
      "50:\tlearn: 1444.8210057\ttotal: 12.9s\tremaining: 45.2s\n",
      "51:\tlearn: 1441.9743576\ttotal: 13.1s\tremaining: 44.9s\n",
      "52:\tlearn: 1439.3793491\ttotal: 13.4s\tremaining: 44.6s\n",
      "53:\tlearn: 1436.3913223\ttotal: 13.6s\tremaining: 44.4s\n",
      "54:\tlearn: 1433.9435601\ttotal: 13.9s\tremaining: 44.1s\n",
      "55:\tlearn: 1429.7149641\ttotal: 14.1s\tremaining: 43.8s\n",
      "56:\tlearn: 1427.0067285\ttotal: 14.3s\tremaining: 43.5s\n",
      "57:\tlearn: 1424.4030137\ttotal: 14.6s\tremaining: 43.3s\n",
      "58:\tlearn: 1421.2701191\ttotal: 14.8s\tremaining: 43s\n",
      "59:\tlearn: 1418.0765330\ttotal: 15.1s\tremaining: 42.8s\n",
      "60:\tlearn: 1416.0566026\ttotal: 15.3s\tremaining: 42.5s\n",
      "61:\tlearn: 1413.0563975\ttotal: 15.6s\tremaining: 42.3s\n",
      "62:\tlearn: 1410.4024649\ttotal: 15.9s\tremaining: 42.1s\n",
      "63:\tlearn: 1408.2336589\ttotal: 16.1s\tremaining: 41.8s\n",
      "64:\tlearn: 1405.4267134\ttotal: 16.4s\tremaining: 41.6s\n",
      "65:\tlearn: 1402.7045676\ttotal: 16.6s\tremaining: 41.3s\n",
      "66:\tlearn: 1400.0184843\ttotal: 16.9s\tremaining: 41s\n",
      "67:\tlearn: 1396.9818970\ttotal: 17.1s\tremaining: 40.8s\n",
      "68:\tlearn: 1394.8903978\ttotal: 17.4s\tremaining: 40.5s\n",
      "69:\tlearn: 1393.0138351\ttotal: 17.6s\tremaining: 40.3s\n",
      "70:\tlearn: 1390.3610257\ttotal: 17.9s\tremaining: 40s\n",
      "71:\tlearn: 1389.0080355\ttotal: 18.1s\tremaining: 39.8s\n",
      "72:\tlearn: 1386.9415785\ttotal: 18.4s\tremaining: 39.5s\n",
      "73:\tlearn: 1384.3196749\ttotal: 18.6s\tremaining: 39.3s\n",
      "74:\tlearn: 1383.0389291\ttotal: 18.9s\tremaining: 39.1s\n",
      "75:\tlearn: 1381.5640124\ttotal: 19.2s\tremaining: 38.8s\n",
      "76:\tlearn: 1379.7743782\ttotal: 19.4s\tremaining: 38.6s\n",
      "77:\tlearn: 1378.2216159\ttotal: 19.7s\tremaining: 38.3s\n",
      "78:\tlearn: 1375.7343846\ttotal: 19.9s\tremaining: 38.1s\n",
      "79:\tlearn: 1373.8559112\ttotal: 20.2s\tremaining: 37.9s\n",
      "80:\tlearn: 1371.2409506\ttotal: 20.5s\tremaining: 37.6s\n",
      "81:\tlearn: 1369.2681069\ttotal: 20.7s\tremaining: 37.4s\n",
      "82:\tlearn: 1368.3529284\ttotal: 21s\tremaining: 37.1s\n",
      "83:\tlearn: 1365.6239853\ttotal: 21.2s\tremaining: 36.9s\n",
      "84:\tlearn: 1363.9221568\ttotal: 21.5s\tremaining: 36.6s\n",
      "85:\tlearn: 1362.3040147\ttotal: 21.7s\tremaining: 36.4s\n",
      "86:\tlearn: 1360.2361058\ttotal: 22s\tremaining: 36.1s\n",
      "87:\tlearn: 1358.7341285\ttotal: 22.2s\tremaining: 35.9s\n",
      "88:\tlearn: 1357.0788141\ttotal: 22.5s\tremaining: 35.6s\n",
      "89:\tlearn: 1355.6017473\ttotal: 22.7s\tremaining: 35.4s\n",
      "90:\tlearn: 1353.0161857\ttotal: 23s\tremaining: 35.1s\n",
      "91:\tlearn: 1349.9833802\ttotal: 23.3s\tremaining: 34.9s\n",
      "92:\tlearn: 1349.2287886\ttotal: 23.5s\tremaining: 34.6s\n",
      "93:\tlearn: 1347.7835049\ttotal: 23.8s\tremaining: 34.4s\n",
      "94:\tlearn: 1346.1598641\ttotal: 24s\tremaining: 34.1s\n",
      "95:\tlearn: 1344.2780428\ttotal: 24.3s\tremaining: 33.9s\n",
      "96:\tlearn: 1342.5382196\ttotal: 24.5s\tremaining: 33.6s\n",
      "97:\tlearn: 1341.2938574\ttotal: 24.8s\tremaining: 33.4s\n",
      "98:\tlearn: 1339.5443193\ttotal: 25s\tremaining: 33.1s\n",
      "99:\tlearn: 1336.9065166\ttotal: 25.3s\tremaining: 32.9s\n",
      "100:\tlearn: 1336.0374943\ttotal: 25.6s\tremaining: 32.6s\n",
      "101:\tlearn: 1334.0815565\ttotal: 25.8s\tremaining: 32.4s\n",
      "102:\tlearn: 1332.0549028\ttotal: 26.1s\tremaining: 32.1s\n",
      "103:\tlearn: 1330.6017146\ttotal: 26.3s\tremaining: 31.9s\n",
      "104:\tlearn: 1329.0929106\ttotal: 26.6s\tremaining: 31.6s\n",
      "105:\tlearn: 1327.9985453\ttotal: 26.8s\tremaining: 31.4s\n",
      "106:\tlearn: 1325.6572622\ttotal: 27.1s\tremaining: 31.1s\n",
      "107:\tlearn: 1324.4634608\ttotal: 27.3s\tremaining: 30.9s\n",
      "108:\tlearn: 1322.4996182\ttotal: 27.6s\tremaining: 30.6s\n",
      "109:\tlearn: 1320.9215514\ttotal: 27.8s\tremaining: 30.4s\n",
      "110:\tlearn: 1319.4433753\ttotal: 28.1s\tremaining: 30.1s\n",
      "111:\tlearn: 1318.5676712\ttotal: 28.4s\tremaining: 29.9s\n",
      "112:\tlearn: 1317.5350334\ttotal: 28.6s\tremaining: 29.6s\n",
      "113:\tlearn: 1316.4143066\ttotal: 28.9s\tremaining: 29.4s\n",
      "114:\tlearn: 1315.3033261\ttotal: 29.1s\tremaining: 29.1s\n",
      "115:\tlearn: 1313.7153556\ttotal: 29.4s\tremaining: 28.9s\n",
      "116:\tlearn: 1312.6406336\ttotal: 29.6s\tremaining: 28.6s\n",
      "117:\tlearn: 1311.5792474\ttotal: 29.9s\tremaining: 28.4s\n",
      "118:\tlearn: 1310.8253265\ttotal: 30.1s\tremaining: 28.1s\n",
      "119:\tlearn: 1309.6925207\ttotal: 30.4s\tremaining: 27.8s\n",
      "120:\tlearn: 1308.9036063\ttotal: 30.6s\tremaining: 27.6s\n",
      "121:\tlearn: 1307.2119414\ttotal: 30.9s\tremaining: 27.3s\n",
      "122:\tlearn: 1305.8490907\ttotal: 31.1s\tremaining: 27.1s\n",
      "123:\tlearn: 1304.9982709\ttotal: 31.4s\tremaining: 26.8s\n",
      "124:\tlearn: 1302.9299733\ttotal: 31.6s\tremaining: 26.6s\n",
      "125:\tlearn: 1301.9165164\ttotal: 31.9s\tremaining: 26.3s\n",
      "126:\tlearn: 1300.6377200\ttotal: 32.1s\tremaining: 26.1s\n",
      "127:\tlearn: 1299.5384902\ttotal: 32.4s\tremaining: 25.8s\n",
      "128:\tlearn: 1298.1187899\ttotal: 32.7s\tremaining: 25.6s\n",
      "129:\tlearn: 1297.1897516\ttotal: 32.9s\tremaining: 25.3s\n",
      "130:\tlearn: 1295.6271686\ttotal: 33.2s\tremaining: 25.1s\n",
      "131:\tlearn: 1294.1102193\ttotal: 33.4s\tremaining: 24.8s\n",
      "132:\tlearn: 1293.0323519\ttotal: 33.7s\tremaining: 24.6s\n",
      "133:\tlearn: 1291.5924522\ttotal: 33.9s\tremaining: 24.3s\n",
      "134:\tlearn: 1290.4445752\ttotal: 34.2s\tremaining: 24.1s\n",
      "135:\tlearn: 1289.5796421\ttotal: 34.4s\tremaining: 23.8s\n",
      "136:\tlearn: 1288.1796552\ttotal: 34.7s\tremaining: 23.6s\n",
      "137:\tlearn: 1286.5526015\ttotal: 35s\tremaining: 23.3s\n",
      "138:\tlearn: 1285.7463244\ttotal: 35.3s\tremaining: 23.1s\n",
      "139:\tlearn: 1284.3845406\ttotal: 35.5s\tremaining: 22.8s\n",
      "140:\tlearn: 1283.5375738\ttotal: 35.8s\tremaining: 22.6s\n",
      "141:\tlearn: 1282.6544739\ttotal: 36s\tremaining: 22.3s\n",
      "142:\tlearn: 1282.0912583\ttotal: 36.3s\tremaining: 22.1s\n",
      "143:\tlearn: 1281.0042648\ttotal: 36.5s\tremaining: 21.8s\n",
      "144:\tlearn: 1280.3312862\ttotal: 36.8s\tremaining: 21.6s\n",
      "145:\tlearn: 1279.4894797\ttotal: 37s\tremaining: 21.3s\n",
      "146:\tlearn: 1278.7288677\ttotal: 37.3s\tremaining: 21.1s\n",
      "147:\tlearn: 1277.0786814\ttotal: 37.5s\tremaining: 20.8s\n",
      "148:\tlearn: 1275.9307629\ttotal: 37.8s\tremaining: 20.6s\n",
      "149:\tlearn: 1274.3867518\ttotal: 38.1s\tremaining: 20.3s\n",
      "150:\tlearn: 1273.3375242\ttotal: 38.3s\tremaining: 20s\n",
      "151:\tlearn: 1272.4168848\ttotal: 38.6s\tremaining: 19.8s\n",
      "152:\tlearn: 1270.9087570\ttotal: 38.8s\tremaining: 19.5s\n",
      "153:\tlearn: 1270.4662133\ttotal: 39.1s\tremaining: 19.3s\n",
      "154:\tlearn: 1269.9352622\ttotal: 39.3s\tremaining: 19s\n",
      "155:\tlearn: 1268.7636803\ttotal: 39.6s\tremaining: 18.8s\n",
      "156:\tlearn: 1267.1876853\ttotal: 39.8s\tremaining: 18.5s\n",
      "157:\tlearn: 1266.2503013\ttotal: 40.1s\tremaining: 18.3s\n",
      "158:\tlearn: 1265.3878778\ttotal: 40.3s\tremaining: 18s\n",
      "159:\tlearn: 1264.3472173\ttotal: 40.6s\tremaining: 17.8s\n",
      "160:\tlearn: 1263.3305776\ttotal: 40.8s\tremaining: 17.5s\n",
      "161:\tlearn: 1262.2599312\ttotal: 41.1s\tremaining: 17.2s\n",
      "162:\tlearn: 1261.2758405\ttotal: 41.3s\tremaining: 17s\n",
      "163:\tlearn: 1260.7084580\ttotal: 41.6s\tremaining: 16.7s\n",
      "164:\tlearn: 1259.6242104\ttotal: 41.8s\tremaining: 16.5s\n",
      "165:\tlearn: 1258.5884044\ttotal: 42.1s\tremaining: 16.2s\n",
      "166:\tlearn: 1258.0751490\ttotal: 42.3s\tremaining: 16s\n",
      "167:\tlearn: 1256.9555507\ttotal: 42.6s\tremaining: 15.7s\n",
      "168:\tlearn: 1255.4519001\ttotal: 42.8s\tremaining: 15.5s\n",
      "169:\tlearn: 1254.4418845\ttotal: 43.1s\tremaining: 15.2s\n",
      "170:\tlearn: 1253.0638148\ttotal: 43.3s\tremaining: 15s\n",
      "171:\tlearn: 1252.5038389\ttotal: 43.6s\tremaining: 14.7s\n",
      "172:\tlearn: 1251.8980572\ttotal: 43.8s\tremaining: 14.4s\n",
      "173:\tlearn: 1250.5602026\ttotal: 44.1s\tremaining: 14.2s\n",
      "174:\tlearn: 1249.0467468\ttotal: 44.3s\tremaining: 13.9s\n",
      "175:\tlearn: 1248.4643844\ttotal: 44.6s\tremaining: 13.7s\n",
      "176:\tlearn: 1247.6202363\ttotal: 44.8s\tremaining: 13.4s\n",
      "177:\tlearn: 1246.7825667\ttotal: 45.1s\tremaining: 13.2s\n",
      "178:\tlearn: 1245.9284583\ttotal: 45.4s\tremaining: 12.9s\n",
      "179:\tlearn: 1245.5098633\ttotal: 45.6s\tremaining: 12.7s\n",
      "180:\tlearn: 1244.8766078\ttotal: 45.9s\tremaining: 12.4s\n",
      "181:\tlearn: 1243.5062114\ttotal: 46.1s\tremaining: 12.2s\n",
      "182:\tlearn: 1242.3873863\ttotal: 46.4s\tremaining: 11.9s\n",
      "183:\tlearn: 1241.8249729\ttotal: 46.6s\tremaining: 11.7s\n",
      "184:\tlearn: 1241.0820306\ttotal: 46.9s\tremaining: 11.4s\n",
      "185:\tlearn: 1240.2843400\ttotal: 47.1s\tremaining: 11.1s\n",
      "186:\tlearn: 1239.1376002\ttotal: 47.4s\tremaining: 10.9s\n",
      "187:\tlearn: 1237.8546776\ttotal: 47.6s\tremaining: 10.6s\n",
      "188:\tlearn: 1237.2785171\ttotal: 47.9s\tremaining: 10.4s\n",
      "189:\tlearn: 1236.5544752\ttotal: 48.1s\tremaining: 10.1s\n",
      "190:\tlearn: 1236.0586757\ttotal: 48.4s\tremaining: 9.88s\n",
      "191:\tlearn: 1235.6094207\ttotal: 48.6s\tremaining: 9.62s\n",
      "192:\tlearn: 1234.8358761\ttotal: 48.9s\tremaining: 9.37s\n",
      "193:\tlearn: 1234.2583597\ttotal: 49.1s\tremaining: 9.12s\n",
      "194:\tlearn: 1233.7324854\ttotal: 49.4s\tremaining: 8.86s\n",
      "195:\tlearn: 1232.6744950\ttotal: 49.7s\tremaining: 8.62s\n",
      "196:\tlearn: 1231.9406191\ttotal: 49.9s\tremaining: 8.36s\n",
      "197:\tlearn: 1231.3425946\ttotal: 50.2s\tremaining: 8.11s\n",
      "198:\tlearn: 1230.1161998\ttotal: 50.4s\tremaining: 7.86s\n",
      "199:\tlearn: 1229.4133010\ttotal: 50.7s\tremaining: 7.6s\n",
      "200:\tlearn: 1228.9433078\ttotal: 50.9s\tremaining: 7.35s\n",
      "201:\tlearn: 1228.0048189\ttotal: 51.2s\tremaining: 7.1s\n",
      "202:\tlearn: 1227.3371666\ttotal: 51.5s\tremaining: 6.84s\n",
      "203:\tlearn: 1226.5210458\ttotal: 51.7s\tremaining: 6.59s\n",
      "204:\tlearn: 1225.4489976\ttotal: 51.9s\tremaining: 6.33s\n",
      "205:\tlearn: 1224.6892885\ttotal: 52.2s\tremaining: 6.08s\n",
      "206:\tlearn: 1224.2910996\ttotal: 52.4s\tremaining: 5.83s\n",
      "207:\tlearn: 1223.5446073\ttotal: 52.7s\tremaining: 5.57s\n",
      "208:\tlearn: 1223.2311468\ttotal: 52.9s\tremaining: 5.32s\n",
      "209:\tlearn: 1222.7125155\ttotal: 53.2s\tremaining: 5.06s\n",
      "210:\tlearn: 1222.1613106\ttotal: 53.4s\tremaining: 4.81s\n",
      "211:\tlearn: 1221.4343418\ttotal: 53.7s\tremaining: 4.56s\n",
      "212:\tlearn: 1220.3786043\ttotal: 53.9s\tremaining: 4.3s\n",
      "213:\tlearn: 1219.4365922\ttotal: 54.2s\tremaining: 4.05s\n",
      "214:\tlearn: 1218.7888038\ttotal: 54.4s\tremaining: 3.8s\n",
      "215:\tlearn: 1218.4875516\ttotal: 54.7s\tremaining: 3.54s\n",
      "216:\tlearn: 1217.7224571\ttotal: 54.9s\tremaining: 3.29s\n",
      "217:\tlearn: 1216.7831831\ttotal: 55.2s\tremaining: 3.04s\n",
      "218:\tlearn: 1215.9673641\ttotal: 55.4s\tremaining: 2.78s\n",
      "219:\tlearn: 1215.3562284\ttotal: 55.7s\tremaining: 2.53s\n",
      "220:\tlearn: 1214.6061229\ttotal: 55.9s\tremaining: 2.28s\n",
      "221:\tlearn: 1213.9967692\ttotal: 56.2s\tremaining: 2.02s\n",
      "222:\tlearn: 1213.1513786\ttotal: 56.4s\tremaining: 1.77s\n",
      "223:\tlearn: 1212.4092314\ttotal: 56.7s\tremaining: 1.52s\n",
      "224:\tlearn: 1211.8703920\ttotal: 56.9s\tremaining: 1.26s\n",
      "225:\tlearn: 1211.1838029\ttotal: 57.2s\tremaining: 1.01s\n",
      "226:\tlearn: 1210.3251548\ttotal: 57.4s\tremaining: 759ms\n",
      "227:\tlearn: 1208.9590751\ttotal: 57.7s\tremaining: 506ms\n",
      "228:\tlearn: 1208.0841930\ttotal: 57.9s\tremaining: 253ms\n",
      "229:\tlearn: 1207.2081125\ttotal: 58.2s\tremaining: 0us\n",
      "Время обучения: 59.608601331710815 секунд\n",
      "Время предсказания: 0.377518892288208 секунд\n"
     ]
    }
   ],
   "source": [
    "# rev1 \n",
    "# считаем время работы CatBoost\n",
    "ctb = CatBoostRegressor(n_estimators=230, max_depth=14, random_state=123)\n",
    "\n",
    "# скорость обучения\n",
    "start_time = time.time()\n",
    "ctb.fit(X_train, y_train)\n",
    "train_time_ctb = time.time() - start_time\n",
    "\n",
    "# скорость предсказания\n",
    "start_time = time.time()\n",
    "pred = ctb.predict(X_train)\n",
    "pred_time_ctb = time.time() - start_time\n",
    "\n",
    "print('Время обучения:', train_time_ctb, 'секунд')\n",
    "print('Время предсказания:', pred_time_ctb, 'секунд')"
   ]
  },
  {
   "cell_type": "code",
   "execution_count": 81,
   "metadata": {},
   "outputs": [],
   "source": [
    "# # обучаем XGBoost\n",
    "\n",
    "# print('XGBoost')\n",
    "# xgb_trials = hyperopt.Trials()\n",
    "# start_time = time.time()\n",
    "# xgb_best_res = fmin(xgb_obj, space=search_space, algo=hyperopt.tpe.suggest, trials=xgb_trials, max_evals=50)\n",
    "# xgb_time = round(((time.time() - start_time) / 50), 2)\n",
    "\n",
    "# print('-------------------------------------')        \n",
    "# print('Итоговые результаты:')\n",
    "# print('Значение RMSE:', xgb_trials.average_best_error().round(2))\n",
    "# print('Лучшее значение learning_rate', _learning_rate[xgb_best_res['learning_rate']])\n",
    "# print('Лучшее значение max_depth', _max_depth[xgb_best_res['max_depth']])\n",
    "# print('Лучшее значение n_estimators', _n_estimators[xgb_best_res['n_estimators']])"
   ]
  },
  {
   "cell_type": "code",
   "execution_count": 82,
   "metadata": {},
   "outputs": [],
   "source": [
    "# Итоговые результаты:\n",
    "# Значение RMSE: 1555.6\n",
    "# Лучшее значение learning_rate 0.15000000000000002\n",
    "# Лучшее значение max_depth 9\n",
    "# Лучшее значение n_estimators 220"
   ]
  },
  {
   "cell_type": "code",
   "execution_count": 83,
   "metadata": {},
   "outputs": [
    {
     "name": "stdout",
     "output_type": "stream",
     "text": [
      "Время обучения: 123.51732540130615 секунд\n",
      "Время предсказания: 2.3977136611938477 секунд\n"
     ]
    }
   ],
   "source": [
    "# rev1\n",
    "# считаем время работы XGBoost\n",
    "xgb = XGBRegressor(n_estimators=220, max_depth=9, random_state=123) \n",
    "\n",
    "# скорость обучения\n",
    "start_time = time.time()\n",
    "xgb.fit(X_train, y_train)\n",
    "train_time_xgb = time.time() - start_time\n",
    "\n",
    "# скорость предсказания\n",
    "start_time = time.time()\n",
    "pred = xgb.predict(X_train)\n",
    "pred_time_xgb = time.time() - start_time\n",
    "\n",
    "print('Время обучения:', train_time_xgb, 'секунд')\n",
    "print('Время предсказания:', pred_time_xgb, 'секунд')"
   ]
  },
  {
   "cell_type": "markdown",
   "metadata": {},
   "source": [
    "**Вывод:** Было обучено 5 ML моделей. Для подбора гиперпараметров во всех моделях был использован Hyperopt, кроме модели ближайших соседей(1 гиперпараметр). "
   ]
  },
  {
   "cell_type": "markdown",
   "metadata": {},
   "source": [
    "## Анализ моделей"
   ]
  },
  {
   "cell_type": "markdown",
   "metadata": {},
   "source": [
    "### Итоговые результаты"
   ]
  },
  {
   "cell_type": "code",
   "execution_count": 84,
   "metadata": {},
   "outputs": [],
   "source": [
    "# Итоговые результаты KNN:\n",
    "# Значение RMSE: 1991.97\n",
    "# Лучшее значение n_neighbors 6"
   ]
  },
  {
   "cell_type": "code",
   "execution_count": 85,
   "metadata": {},
   "outputs": [
    {
     "name": "stdout",
     "output_type": "stream",
     "text": [
      "Время обучения: 19.666694164276123 секунд\n",
      "Время предсказания: 9.357507467269897 секунд\n"
     ]
    }
   ],
   "source": [
    "# время knn\n",
    "print('Время обучения:', train_time_knn, 'секунд')\n",
    "print('Время предсказания:', pred_time_knn, 'секунд')"
   ]
  },
  {
   "cell_type": "code",
   "execution_count": 86,
   "metadata": {},
   "outputs": [],
   "source": [
    "# Итоговые результаты Random Forest:\n",
    "# Значение RMSE: 1640.67\n",
    "# Лучшее значение n_estimators 220\n",
    "# Лучшее значение max_depth 15\n",
    "# Время обучения: 67.77061295509338 секунд\n",
    "# Время предсказания: 7.170894384384155 секунд"
   ]
  },
  {
   "cell_type": "code",
   "execution_count": 87,
   "metadata": {},
   "outputs": [
    {
     "name": "stdout",
     "output_type": "stream",
     "text": [
      "Время обучения: 70.09240341186523 секунд\n",
      "Время предсказания: 7.220144033432007 секунд\n"
     ]
    }
   ],
   "source": [
    "# время rf\n",
    "print('Время обучения:', train_time_rf, 'секунд')\n",
    "print('Время предсказания:', pred_time_rf, 'секунд')"
   ]
  },
  {
   "cell_type": "code",
   "execution_count": 88,
   "metadata": {},
   "outputs": [],
   "source": [
    "# Итоговые результаты LightGBM:\n",
    "# Значение RMSE: 1586.22\n",
    "# Лучшее значение learning_rate 0.35000000000000003\n",
    "# Лучшее значение max_depth 14\n",
    "# Лучшее значение n_estimators 240\n",
    "# Время обучения: 7.678086996078491 секунд\n",
    "# Время предсказания: 2.918184518814087 секунд"
   ]
  },
  {
   "cell_type": "code",
   "execution_count": 89,
   "metadata": {},
   "outputs": [
    {
     "name": "stdout",
     "output_type": "stream",
     "text": [
      "Время обучения: 7.62173867225647 секунд\n",
      "Время предсказания: 3.020690679550171 секунд\n"
     ]
    }
   ],
   "source": [
    "# время LightGBM\n",
    "print('Время обучения:', train_time_lgb, 'секунд')\n",
    "print('Время предсказания:', pred_time_lgb, 'секунд')"
   ]
  },
  {
   "cell_type": "code",
   "execution_count": 90,
   "metadata": {},
   "outputs": [],
   "source": [
    "# Итоговые результаты CatBoost:\n",
    "# Значение RMSE: 1570.68\n",
    "# Лучшее значение learning_rate 0.25\n",
    "# Лучшее значение max_depth 14\n",
    "# Лучшее значение n_estimators 230\n",
    "# Время обучения: 60.069754123687744 секунд\n",
    "# Время предсказания: 0.37027716636657715 секунд"
   ]
  },
  {
   "cell_type": "code",
   "execution_count": 91,
   "metadata": {},
   "outputs": [
    {
     "name": "stdout",
     "output_type": "stream",
     "text": [
      "Время обучения: 59.608601331710815 секунд\n",
      "Время предсказания: 0.377518892288208 секунд\n"
     ]
    }
   ],
   "source": [
    "# время CatBoost\n",
    "print('Время обучения:', train_time_ctb, 'секунд')\n",
    "print('Время предсказания:', pred_time_ctb, 'секунд')"
   ]
  },
  {
   "cell_type": "code",
   "execution_count": 92,
   "metadata": {},
   "outputs": [],
   "source": [
    "# Итоговые результаты XGBoost:\n",
    "# Значение RMSE: 1555.6\n",
    "# Лучшее значение learning_rate 0.15000000000000002\n",
    "# Лучшее значение max_depth 9\n",
    "# Лучшее значение n_estimators 220\n",
    "# Время обучения: 125.45613741874695 секунд\n",
    "# Время предсказания: 2.4741008281707764 секунд"
   ]
  },
  {
   "cell_type": "code",
   "execution_count": 93,
   "metadata": {},
   "outputs": [
    {
     "name": "stdout",
     "output_type": "stream",
     "text": [
      "Время обучения: 123.51732540130615 секунд\n",
      "Время предсказания: 2.3977136611938477 секунд\n"
     ]
    }
   ],
   "source": [
    "# время XGBoost\n",
    "print('Время обучения:', train_time_xgb, 'секунд')\n",
    "print('Время предсказания:', pred_time_xgb, 'секунд')"
   ]
  },
  {
   "cell_type": "code",
   "execution_count": 94,
   "metadata": {},
   "outputs": [],
   "source": [
    "# # создадим итоговую табличку\n",
    "\n",
    "# results = pd.DataFrame({'RMSE': [2831.6, 1991.97, 1747.97, 1697.1, 1702.50, 1724.57],\n",
    "#                         'time, sec': [0.33, 83.45, 196.89, 144.85, 60.06, 10.97],\n",
    "#                         'learning_rate': ['-', '-', '-', 0.1, 0.2, 0.35],\n",
    "#                         'max_depth': ['-', '-', 11, 10, 15, 12],\n",
    "#                         'n_est': ['-', '-', 230, 230, 250, 250]},\n",
    "#                        index=['Linear Regression', 'KNN', 'Random Forest', 'XGBoost', 'CatBoost', 'LightGBM'])\n",
    "# results"
   ]
  },
  {
   "cell_type": "markdown",
   "metadata": {},
   "source": [
    "Лучшая модель LightGBM.\n",
    "\n",
    "Лучшая по совокупности качества и скорости работы. Разница в качестве с самыми точными моделями составляет порядка 1 процента, но взамен имеем превосходство по скорости обучения в разы и даже на порядок."
   ]
  },
  {
   "cell_type": "markdown",
   "metadata": {},
   "source": [
    "Финальная проверка\n"
   ]
  },
  {
   "cell_type": "code",
   "execution_count": 95,
   "metadata": {},
   "outputs": [
    {
     "name": "stdout",
     "output_type": "stream",
     "text": [
      "\n",
      "-----------------------------------\n",
      "Время обучения составляет 6.1808977127075195\n",
      "Время предсказания составляет 0.8037283420562744\n",
      "RMSE модели на тестовой выборке составляет 1568.3320944098032\n"
     ]
    }
   ],
   "source": [
    "# Проверим нашу лучшую модель в бою, на тестовой выборке, с лучшими гиперпараметрами\n",
    "\n",
    "final_model = LGBMRegressor(learning_rate=0.35, max_depth=14, n_estimators=240)\n",
    "\n",
    "start_time = time.time()\n",
    "final_model.fit(X_train, y_train)\n",
    "fit_time = time.time() - start_time\n",
    "\n",
    "start_time = time.time()\n",
    "preds = final_model.predict(X_test)\n",
    "predict_time = time.time() - start_time\n",
    "\n",
    "score = mean_squared_error(y_test, preds, squared=False)\n",
    "\n",
    "print()\n",
    "print('-----------------------------------')\n",
    "print('Время обучения составляет', fit_time)\n",
    "print('Время предсказания составляет', predict_time)\n",
    "print('RMSE модели на тестовой выборке составляет', score)"
   ]
  },
  {
   "cell_type": "markdown",
   "metadata": {},
   "source": [
    "**Вывод:** \n",
    "В ходе анализа моделей была выбрана модель LightGBM, по соотношению качества и скорости. \n",
    "\n",
    "На тесте данная модель показала значение RMSE = 1561, Скорость обучения 6,3 секунд, и скорость предсказания около 0,9 секунды."
   ]
  },
  {
   "cell_type": "code",
   "execution_count": 97,
   "metadata": {},
   "outputs": [
    {
     "name": "stdout",
     "output_type": "stream",
     "text": [
      "\n",
      "-----------------------------------\n",
      "RMSE модели на тестовой выборке составляет 4594.859582695192\n"
     ]
    }
   ],
   "source": [
    "# Проверка на адекватность\n",
    "\n",
    "from sklearn.dummy import DummyRegressor\n",
    "dm = DummyRegressor()\n",
    "\n",
    "dm.fit(X_train, y_train)\n",
    "preds = dm.predict(X_test)\n",
    "score = mean_squared_error(y_test, preds, squared=False)\n",
    "\n",
    "print()\n",
    "print('-----------------------------------')\n",
    "print('RMSE модели на тестовой выборке составляет', score)"
   ]
  },
  {
   "cell_type": "markdown",
   "metadata": {},
   "source": [
    "RMSE LightGBM в 3 раза меньше, а значит модель проверку на адекватность прошла"
   ]
  },
  {
   "cell_type": "markdown",
   "metadata": {},
   "source": [
    "## Вывод"
   ]
  },
  {
   "cell_type": "markdown",
   "metadata": {},
   "source": [
    "* Предобработка данных:\n",
    "\n",
    "    * Удалены дубликаты\n",
    "    * Обработаны пропуски - заполнены случайными значениями или медианами\n",
    "    * Выявлены и удалены аномалии в данных\n",
    "    * Проведено кодирование категориальных признаков: бинарных, порядковое и по группам\n",
    "    * Проведено масштабирование количественных признаков\n",
    "    \n",
    "    \n",
    "* Обучение моделей:\n",
    "\n",
    "    * Обучено 6 моделей: линейная регрессия, лес, градиентный бустинг, нейронная сеть, KNN, LightGBM\n",
    "    * Проведена оптимизация гиперпараметров с использованием Hyperopt\n",
    "    * Оценка качества по метрике RMSE с использованием кросс-валидации\n",
    "    \n",
    "    \n",
    "* Выбор лучшей модели:\n",
    "    * Лучшей выбрана модель LightGBM по критериям качества и скорости работы\n",
    "      * Ее характеристики:\n",
    "        * RMSE на тесте = 1684\n",
    "        * Время обучения ~ 2 сек\n",
    "        * Время предсказания ~ 0.5 сек\n",
    "\n",
    "**Вывод:**\n",
    "Разработана модель LightGBM, отвечающая заданным критериям качества и скорости.\n",
    "Модель позволит реализовать в приложении функцию определения стоимости автомобилей."
   ]
  }
 ],
 "metadata": {
  "ExecuteTimeLog": [
   {
    "duration": 489,
    "start_time": "2023-09-12T16:36:33.534Z"
   },
   {
    "duration": 2390,
    "start_time": "2023-09-12T16:36:52.645Z"
   },
   {
    "duration": 2250,
    "start_time": "2023-09-12T16:36:55.037Z"
   },
   {
    "duration": 2110,
    "start_time": "2023-09-12T16:36:57.289Z"
   },
   {
    "duration": 6693,
    "start_time": "2023-09-12T16:36:59.401Z"
   },
   {
    "duration": 2662,
    "start_time": "2023-09-12T16:37:24.999Z"
   },
   {
    "duration": 1656,
    "start_time": "2023-09-12T16:37:31.200Z"
   },
   {
    "duration": 1587,
    "start_time": "2023-09-12T16:37:37.990Z"
   },
   {
    "duration": 16,
    "start_time": "2023-09-12T16:37:41.976Z"
   },
   {
    "duration": 7,
    "start_time": "2023-09-12T16:37:42.894Z"
   },
   {
    "duration": 157,
    "start_time": "2023-09-12T16:37:43.114Z"
   },
   {
    "duration": 516,
    "start_time": "2023-09-12T16:37:43.273Z"
   },
   {
    "duration": 494,
    "start_time": "2023-09-12T16:37:43.791Z"
   },
   {
    "duration": 98,
    "start_time": "2023-09-12T16:37:44.287Z"
   },
   {
    "duration": 40,
    "start_time": "2023-09-12T16:37:44.386Z"
   },
   {
    "duration": 126,
    "start_time": "2023-09-12T16:37:44.428Z"
   },
   {
    "duration": 575,
    "start_time": "2023-09-12T16:37:44.557Z"
   },
   {
    "duration": 52,
    "start_time": "2023-09-12T16:37:45.134Z"
   },
   {
    "duration": 330,
    "start_time": "2023-09-12T16:37:45.187Z"
   },
   {
    "duration": 656,
    "start_time": "2023-09-12T16:37:45.944Z"
   },
   {
    "duration": 114,
    "start_time": "2023-09-12T16:37:46.603Z"
   },
   {
    "duration": 989,
    "start_time": "2023-09-12T16:37:46.719Z"
   },
   {
    "duration": 7,
    "start_time": "2023-09-12T16:37:47.711Z"
   },
   {
    "duration": 43,
    "start_time": "2023-09-12T16:37:47.719Z"
   },
   {
    "duration": 37,
    "start_time": "2023-09-12T16:37:47.764Z"
   },
   {
    "duration": 23,
    "start_time": "2023-09-12T16:37:48.561Z"
   },
   {
    "duration": 31,
    "start_time": "2023-09-12T16:37:49.085Z"
   },
   {
    "duration": 23,
    "start_time": "2023-09-12T16:37:49.901Z"
   },
   {
    "duration": 65,
    "start_time": "2023-09-12T16:37:51.280Z"
   },
   {
    "duration": 2,
    "start_time": "2023-09-12T16:39:46.827Z"
   },
   {
    "duration": 7,
    "start_time": "2023-09-12T16:40:42.647Z"
   },
   {
    "duration": 30,
    "start_time": "2023-09-12T16:41:08.747Z"
   },
   {
    "duration": 104,
    "start_time": "2023-09-12T16:42:01.429Z"
   },
   {
    "duration": 23,
    "start_time": "2023-09-12T16:43:26.503Z"
   },
   {
    "duration": 851,
    "start_time": "2023-09-12T16:43:37.061Z"
   },
   {
    "duration": 12,
    "start_time": "2023-09-12T16:43:53.629Z"
   },
   {
    "duration": 54,
    "start_time": "2023-09-13T06:47:38.763Z"
   },
   {
    "duration": 2707,
    "start_time": "2023-09-13T06:48:05.994Z"
   },
   {
    "duration": 2468,
    "start_time": "2023-09-13T06:48:08.704Z"
   },
   {
    "duration": 2450,
    "start_time": "2023-09-13T06:48:11.174Z"
   },
   {
    "duration": 8160,
    "start_time": "2023-09-13T06:48:13.626Z"
   },
   {
    "duration": 2865,
    "start_time": "2023-09-13T06:48:21.788Z"
   },
   {
    "duration": 1995,
    "start_time": "2023-09-13T06:48:24.655Z"
   },
   {
    "duration": 1690,
    "start_time": "2023-09-13T06:48:26.652Z"
   },
   {
    "duration": 22,
    "start_time": "2023-09-13T06:48:28.344Z"
   },
   {
    "duration": 9,
    "start_time": "2023-09-13T06:48:28.368Z"
   },
   {
    "duration": 184,
    "start_time": "2023-09-13T06:48:28.379Z"
   },
   {
    "duration": 527,
    "start_time": "2023-09-13T06:48:28.565Z"
   },
   {
    "duration": 559,
    "start_time": "2023-09-13T06:48:29.094Z"
   },
   {
    "duration": 111,
    "start_time": "2023-09-13T06:48:29.654Z"
   },
   {
    "duration": 58,
    "start_time": "2023-09-13T06:48:29.770Z"
   },
   {
    "duration": 107,
    "start_time": "2023-09-13T06:48:29.831Z"
   },
   {
    "duration": 653,
    "start_time": "2023-09-13T06:48:29.940Z"
   },
   {
    "duration": 64,
    "start_time": "2023-09-13T06:48:30.595Z"
   },
   {
    "duration": 365,
    "start_time": "2023-09-13T06:48:30.661Z"
   },
   {
    "duration": 647,
    "start_time": "2023-09-13T06:48:31.028Z"
   },
   {
    "duration": 103,
    "start_time": "2023-09-13T06:48:31.677Z"
   },
   {
    "duration": 1239,
    "start_time": "2023-09-13T06:48:31.782Z"
   },
   {
    "duration": 6,
    "start_time": "2023-09-13T06:48:33.023Z"
   },
   {
    "duration": 11,
    "start_time": "2023-09-13T06:48:33.031Z"
   },
   {
    "duration": 13,
    "start_time": "2023-09-13T06:48:33.044Z"
   },
   {
    "duration": 58,
    "start_time": "2023-09-13T06:48:33.059Z"
   },
   {
    "duration": 42,
    "start_time": "2023-09-13T06:48:33.118Z"
   },
   {
    "duration": 28,
    "start_time": "2023-09-13T06:48:33.162Z"
   },
   {
    "duration": 86,
    "start_time": "2023-09-13T06:48:33.191Z"
   },
   {
    "duration": 3,
    "start_time": "2023-09-13T06:48:33.279Z"
   },
   {
    "duration": 78,
    "start_time": "2023-09-13T06:48:33.283Z"
   },
   {
    "duration": 1101,
    "start_time": "2023-09-13T06:48:33.363Z"
   },
   {
    "duration": 19,
    "start_time": "2023-09-13T07:02:26.988Z"
   },
   {
    "duration": 105,
    "start_time": "2023-09-13T07:11:14.689Z"
   },
   {
    "duration": 19,
    "start_time": "2023-09-13T07:25:26.290Z"
   },
   {
    "duration": 66,
    "start_time": "2023-09-13T07:29:02.902Z"
   },
   {
    "duration": 63,
    "start_time": "2023-09-13T07:29:03.073Z"
   },
   {
    "duration": 72,
    "start_time": "2023-09-13T07:29:03.254Z"
   },
   {
    "duration": 219,
    "start_time": "2023-09-13T07:29:13.552Z"
   },
   {
    "duration": 11,
    "start_time": "2023-09-13T07:29:13.772Z"
   },
   {
    "duration": 68,
    "start_time": "2023-09-13T07:29:13.855Z"
   },
   {
    "duration": 70,
    "start_time": "2023-09-13T07:29:17.957Z"
   },
   {
    "duration": 2725,
    "start_time": "2023-09-14T15:24:15.883Z"
   },
   {
    "duration": 2327,
    "start_time": "2023-09-14T15:24:18.610Z"
   },
   {
    "duration": 2192,
    "start_time": "2023-09-14T15:24:20.939Z"
   },
   {
    "duration": 6353,
    "start_time": "2023-09-14T15:24:23.133Z"
   },
   {
    "duration": 2952,
    "start_time": "2023-09-14T15:24:29.488Z"
   },
   {
    "duration": 1855,
    "start_time": "2023-09-14T15:24:42.567Z"
   },
   {
    "duration": 1348,
    "start_time": "2023-09-14T15:24:44.424Z"
   },
   {
    "duration": 17,
    "start_time": "2023-09-14T15:24:48.140Z"
   },
   {
    "duration": 5,
    "start_time": "2023-09-14T15:24:50.743Z"
   },
   {
    "duration": 161,
    "start_time": "2023-09-14T15:24:52.245Z"
   },
   {
    "duration": 412,
    "start_time": "2023-09-14T15:24:53.320Z"
   },
   {
    "duration": 418,
    "start_time": "2023-09-14T15:25:01.436Z"
   },
   {
    "duration": 493,
    "start_time": "2023-09-14T15:25:02.645Z"
   },
   {
    "duration": 89,
    "start_time": "2023-09-14T15:25:08.140Z"
   },
   {
    "duration": 39,
    "start_time": "2023-09-14T15:25:09.089Z"
   },
   {
    "duration": 96,
    "start_time": "2023-09-14T15:25:10.419Z"
   },
   {
    "duration": 583,
    "start_time": "2023-09-14T15:25:11.169Z"
   },
   {
    "duration": 36,
    "start_time": "2023-09-14T15:25:12.566Z"
   },
   {
    "duration": 330,
    "start_time": "2023-09-14T15:25:16.134Z"
   },
   {
    "duration": 510,
    "start_time": "2023-09-14T15:25:19.309Z"
   },
   {
    "duration": 92,
    "start_time": "2023-09-14T15:25:20.655Z"
   },
   {
    "duration": 972,
    "start_time": "2023-09-14T15:25:24.117Z"
   },
   {
    "duration": 6,
    "start_time": "2023-09-14T15:25:32.680Z"
   },
   {
    "duration": 7,
    "start_time": "2023-09-14T15:25:33.821Z"
   },
   {
    "duration": 7,
    "start_time": "2023-09-14T15:25:36.414Z"
   },
   {
    "duration": 23,
    "start_time": "2023-09-14T15:25:43.203Z"
   },
   {
    "duration": 43,
    "start_time": "2023-09-14T15:25:45.541Z"
   },
   {
    "duration": 23,
    "start_time": "2023-09-14T15:25:47.325Z"
   },
   {
    "duration": 62,
    "start_time": "2023-09-14T15:25:49.381Z"
   },
   {
    "duration": 4,
    "start_time": "2023-09-14T15:25:52.062Z"
   },
   {
    "duration": 29,
    "start_time": "2023-09-14T15:25:52.435Z"
   },
   {
    "duration": 936,
    "start_time": "2023-09-14T15:25:59.970Z"
   },
   {
    "duration": 13,
    "start_time": "2023-09-14T15:26:00.908Z"
   },
   {
    "duration": 15,
    "start_time": "2023-09-14T15:26:05.022Z"
   },
   {
    "duration": 67,
    "start_time": "2023-09-14T15:26:06.665Z"
   },
   {
    "duration": 54,
    "start_time": "2023-09-14T15:26:07.173Z"
   },
   {
    "duration": 63,
    "start_time": "2023-09-14T15:26:07.665Z"
   },
   {
    "duration": 331,
    "start_time": "2023-09-14T15:26:08.397Z"
   },
   {
    "duration": 10,
    "start_time": "2023-09-14T15:26:09.727Z"
   },
   {
    "duration": 56,
    "start_time": "2023-09-14T15:26:10.684Z"
   },
   {
    "duration": 61,
    "start_time": "2023-09-14T15:26:12.530Z"
   },
   {
    "duration": 15,
    "start_time": "2023-09-14T15:44:37.741Z"
   },
   {
    "duration": 50,
    "start_time": "2023-09-14T15:45:36.658Z"
   },
   {
    "duration": 222,
    "start_time": "2023-09-14T15:46:24.364Z"
   },
   {
    "duration": 128,
    "start_time": "2023-09-14T15:48:10.786Z"
   },
   {
    "duration": 408,
    "start_time": "2023-09-14T15:48:25.469Z"
   },
   {
    "duration": 402,
    "start_time": "2023-09-14T15:48:32.860Z"
   },
   {
    "duration": 413,
    "start_time": "2023-09-14T15:48:38.247Z"
   },
   {
    "duration": 473,
    "start_time": "2023-09-14T15:49:25.769Z"
   },
   {
    "duration": 419,
    "start_time": "2023-09-14T15:50:24.408Z"
   },
   {
    "duration": 85,
    "start_time": "2023-09-14T15:50:36.628Z"
   },
   {
    "duration": 87,
    "start_time": "2023-09-14T15:50:39.425Z"
   },
   {
    "duration": 95,
    "start_time": "2023-09-14T15:51:11.892Z"
   },
   {
    "duration": 21,
    "start_time": "2023-09-14T15:51:46.261Z"
   },
   {
    "duration": 77,
    "start_time": "2023-09-14T15:53:18.522Z"
   },
   {
    "duration": 68,
    "start_time": "2023-09-14T15:53:37.427Z"
   },
   {
    "duration": 71,
    "start_time": "2023-09-14T15:53:47.141Z"
   },
   {
    "duration": 64,
    "start_time": "2023-09-14T15:53:54.677Z"
   },
   {
    "duration": 112,
    "start_time": "2023-09-14T15:54:26.111Z"
   },
   {
    "duration": 115,
    "start_time": "2023-09-14T15:55:13.611Z"
   },
   {
    "duration": 122,
    "start_time": "2023-09-14T15:55:19.899Z"
   },
   {
    "duration": 133,
    "start_time": "2023-09-14T15:55:43.594Z"
   },
   {
    "duration": 655,
    "start_time": "2023-09-14T15:57:18.108Z"
   },
   {
    "duration": 812,
    "start_time": "2023-09-14T15:58:05.513Z"
   },
   {
    "duration": 171,
    "start_time": "2023-09-14T16:00:13.063Z"
   },
   {
    "duration": 59,
    "start_time": "2023-09-14T16:00:17.792Z"
   },
   {
    "duration": 16,
    "start_time": "2023-09-14T16:00:18.996Z"
   },
   {
    "duration": 774,
    "start_time": "2023-09-14T16:00:22.234Z"
   },
   {
    "duration": 706,
    "start_time": "2023-09-14T16:02:47.481Z"
   },
   {
    "duration": 18,
    "start_time": "2023-09-14T16:03:51.385Z"
   },
   {
    "duration": 59,
    "start_time": "2023-09-14T16:04:01.900Z"
   },
   {
    "duration": 17,
    "start_time": "2023-09-14T16:04:02.510Z"
   },
   {
    "duration": 15,
    "start_time": "2023-09-14T16:04:11.720Z"
   },
   {
    "duration": 840,
    "start_time": "2023-09-14T16:04:27.453Z"
   },
   {
    "duration": 19,
    "start_time": "2023-09-14T16:04:59.995Z"
   },
   {
    "duration": 113,
    "start_time": "2023-09-14T16:08:14.799Z"
   },
   {
    "duration": 2,
    "start_time": "2023-09-14T16:09:07.934Z"
   },
   {
    "duration": 2,
    "start_time": "2023-09-14T16:09:41.526Z"
   },
   {
    "duration": 2,
    "start_time": "2023-09-14T16:10:17.149Z"
   },
   {
    "duration": 2,
    "start_time": "2023-09-14T16:10:27.514Z"
   },
   {
    "duration": 2,
    "start_time": "2023-09-14T16:10:30.741Z"
   },
   {
    "duration": 3,
    "start_time": "2023-09-14T16:10:33.731Z"
   },
   {
    "duration": 2,
    "start_time": "2023-09-14T16:10:38.429Z"
   },
   {
    "duration": 2,
    "start_time": "2023-09-14T16:10:42.602Z"
   },
   {
    "duration": 3,
    "start_time": "2023-09-14T16:11:16.646Z"
   },
   {
    "duration": 3,
    "start_time": "2023-09-14T16:11:27.922Z"
   },
   {
    "duration": 2,
    "start_time": "2023-09-14T16:11:28.466Z"
   },
   {
    "duration": 14,
    "start_time": "2023-09-14T16:11:28.678Z"
   },
   {
    "duration": 3,
    "start_time": "2023-09-14T16:11:31.839Z"
   },
   {
    "duration": 2,
    "start_time": "2023-09-14T16:11:35.073Z"
   },
   {
    "duration": 2,
    "start_time": "2023-09-14T16:19:04.697Z"
   },
   {
    "duration": 18,
    "start_time": "2023-09-14T16:22:07.142Z"
   },
   {
    "duration": 77,
    "start_time": "2023-09-14T16:38:27.998Z"
   },
   {
    "duration": 28995,
    "start_time": "2023-09-14T16:38:34.526Z"
   },
   {
    "duration": 63220,
    "start_time": "2023-09-14T16:42:57.072Z"
   },
   {
    "duration": 174529,
    "start_time": "2023-09-14T16:46:41.857Z"
   },
   {
    "duration": 144024,
    "start_time": "2023-09-14T16:51:06.901Z"
   },
   {
    "duration": 416316,
    "start_time": "2023-09-14T16:54:22.235Z"
   },
   {
    "duration": 1824,
    "start_time": "2023-09-14T17:05:48.122Z"
   },
   {
    "duration": 3,
    "start_time": "2023-09-14T17:07:02.920Z"
   },
   {
    "duration": 49413,
    "start_time": "2023-09-14T18:05:09.638Z"
   },
   {
    "duration": 12,
    "start_time": "2023-09-14T18:09:09.938Z"
   },
   {
    "duration": 4,
    "start_time": "2023-09-14T18:09:15.830Z"
   },
   {
    "duration": 12,
    "start_time": "2023-09-14T18:09:18.780Z"
   },
   {
    "duration": 5,
    "start_time": "2023-09-14T18:09:26.752Z"
   },
   {
    "duration": 5,
    "start_time": "2023-09-14T18:09:26.966Z"
   },
   {
    "duration": 30,
    "start_time": "2023-09-14T18:09:31.813Z"
   },
   {
    "duration": 5,
    "start_time": "2023-09-14T18:10:29.553Z"
   },
   {
    "duration": 5654006,
    "start_time": "2023-09-14T18:10:32.577Z"
   },
   {
    "duration": 74945,
    "start_time": "2023-09-15T01:20:40.864Z"
   },
   {
    "duration": 10978,
    "start_time": "2023-09-15T01:21:55.811Z"
   },
   {
    "duration": 127968,
    "start_time": "2023-09-15T01:22:36.983Z"
   },
   {
    "duration": 3,
    "start_time": "2023-09-15T03:43:46.753Z"
   },
   {
    "duration": 3,
    "start_time": "2023-09-15T03:49:34.849Z"
   },
   {
    "duration": 3,
    "start_time": "2023-09-15T03:52:48.661Z"
   },
   {
    "duration": 10602,
    "start_time": "2023-09-15T03:57:39.269Z"
   },
   {
    "duration": 2,
    "start_time": "2023-09-15T03:58:09.842Z"
   },
   {
    "duration": 3750,
    "start_time": "2023-09-15T03:59:42.414Z"
   },
   {
    "duration": 3,
    "start_time": "2023-09-15T03:59:50.887Z"
   },
   {
    "duration": 7460,
    "start_time": "2023-09-15T04:00:14.104Z"
   },
   {
    "duration": 7185,
    "start_time": "2023-09-15T04:00:28.372Z"
   },
   {
    "duration": 6,
    "start_time": "2023-09-15T04:05:14.672Z"
   },
   {
    "duration": 7,
    "start_time": "2023-09-15T04:05:31.038Z"
   },
   {
    "duration": 2041,
    "start_time": "2023-09-15T04:06:47.417Z"
   },
   {
    "duration": 2048,
    "start_time": "2023-09-15T04:06:49.460Z"
   },
   {
    "duration": 1931,
    "start_time": "2023-09-15T04:06:51.510Z"
   },
   {
    "duration": 2004,
    "start_time": "2023-09-15T04:06:53.443Z"
   },
   {
    "duration": 1986,
    "start_time": "2023-09-15T04:06:55.449Z"
   },
   {
    "duration": 1584,
    "start_time": "2023-09-15T04:06:57.437Z"
   },
   {
    "duration": 1377,
    "start_time": "2023-09-15T04:06:59.023Z"
   },
   {
    "duration": 15,
    "start_time": "2023-09-15T04:07:00.402Z"
   },
   {
    "duration": 43,
    "start_time": "2023-09-15T04:07:00.418Z"
   },
   {
    "duration": 167,
    "start_time": "2023-09-15T04:07:00.464Z"
   },
   {
    "duration": 445,
    "start_time": "2023-09-15T04:07:00.633Z"
   },
   {
    "duration": 481,
    "start_time": "2023-09-15T04:07:01.079Z"
   },
   {
    "duration": 94,
    "start_time": "2023-09-15T04:07:01.562Z"
   },
   {
    "duration": 43,
    "start_time": "2023-09-15T04:07:01.657Z"
   },
   {
    "duration": 111,
    "start_time": "2023-09-15T04:07:01.701Z"
   },
   {
    "duration": 546,
    "start_time": "2023-09-15T04:07:01.814Z"
   },
   {
    "duration": 35,
    "start_time": "2023-09-15T04:07:02.362Z"
   },
   {
    "duration": 303,
    "start_time": "2023-09-15T04:07:02.399Z"
   },
   {
    "duration": 483,
    "start_time": "2023-09-15T04:07:02.704Z"
   },
   {
    "duration": 87,
    "start_time": "2023-09-15T04:07:03.188Z"
   },
   {
    "duration": 859,
    "start_time": "2023-09-15T04:07:03.276Z"
   },
   {
    "duration": 13,
    "start_time": "2023-09-15T04:07:04.136Z"
   },
   {
    "duration": 7,
    "start_time": "2023-09-15T04:07:04.151Z"
   },
   {
    "duration": 14,
    "start_time": "2023-09-15T04:07:04.159Z"
   },
   {
    "duration": 24,
    "start_time": "2023-09-15T04:07:04.174Z"
   },
   {
    "duration": 32,
    "start_time": "2023-09-15T04:07:04.199Z"
   },
   {
    "duration": 23,
    "start_time": "2023-09-15T04:07:04.249Z"
   },
   {
    "duration": 78,
    "start_time": "2023-09-15T04:07:04.276Z"
   },
   {
    "duration": 2,
    "start_time": "2023-09-15T04:07:04.355Z"
   },
   {
    "duration": 36,
    "start_time": "2023-09-15T04:07:04.359Z"
   },
   {
    "duration": 785,
    "start_time": "2023-09-15T04:07:04.396Z"
   },
   {
    "duration": 15,
    "start_time": "2023-09-15T04:07:05.182Z"
   },
   {
    "duration": 15,
    "start_time": "2023-09-15T04:07:05.199Z"
   },
   {
    "duration": 86,
    "start_time": "2023-09-15T04:07:05.215Z"
   },
   {
    "duration": 52,
    "start_time": "2023-09-15T04:07:05.303Z"
   },
   {
    "duration": 61,
    "start_time": "2023-09-15T04:07:05.357Z"
   },
   {
    "duration": 294,
    "start_time": "2023-09-15T04:07:05.420Z"
   },
   {
    "duration": 9,
    "start_time": "2023-09-15T04:07:05.716Z"
   },
   {
    "duration": 74,
    "start_time": "2023-09-15T04:07:05.727Z"
   },
   {
    "duration": 59,
    "start_time": "2023-09-15T04:07:05.803Z"
   },
   {
    "duration": 66,
    "start_time": "2023-09-15T04:07:05.864Z"
   },
   {
    "duration": 860,
    "start_time": "2023-09-15T04:07:05.932Z"
   },
   {
    "duration": 3,
    "start_time": "2023-09-15T04:07:06.794Z"
   },
   {
    "duration": 29,
    "start_time": "2023-09-15T04:07:06.798Z"
   },
   {
    "duration": 27,
    "start_time": "2023-09-15T04:07:06.829Z"
   },
   {
    "duration": 12,
    "start_time": "2023-09-15T04:07:06.857Z"
   },
   {
    "duration": 26,
    "start_time": "2023-09-15T04:07:06.871Z"
   },
   {
    "duration": 24,
    "start_time": "2023-09-15T04:07:06.899Z"
   },
   {
    "duration": 21,
    "start_time": "2023-09-15T04:07:06.924Z"
   },
   {
    "duration": 20,
    "start_time": "2023-09-15T04:07:06.946Z"
   },
   {
    "duration": 11,
    "start_time": "2023-09-15T04:07:06.968Z"
   },
   {
    "duration": 30,
    "start_time": "2023-09-15T04:07:06.981Z"
   },
   {
    "duration": 23,
    "start_time": "2023-09-15T04:07:07.012Z"
   },
   {
    "duration": 24,
    "start_time": "2023-09-15T04:07:07.037Z"
   },
   {
    "duration": 27,
    "start_time": "2023-09-15T04:07:07.063Z"
   },
   {
    "duration": 20,
    "start_time": "2023-09-15T04:07:07.092Z"
   },
   {
    "duration": 31,
    "start_time": "2023-09-15T04:07:07.113Z"
   },
   {
    "duration": 23,
    "start_time": "2023-09-15T04:07:07.146Z"
   },
   {
    "duration": 51,
    "start_time": "2023-09-15T04:07:07.171Z"
   },
   {
    "duration": 2035,
    "start_time": "2023-09-15T04:07:07.224Z"
   },
   {
    "duration": 2,
    "start_time": "2023-09-15T04:07:09.261Z"
   },
   {
    "duration": 15,
    "start_time": "2023-09-15T04:07:09.265Z"
   },
   {
    "duration": 7,
    "start_time": "2023-09-15T04:07:09.281Z"
   },
   {
    "duration": 27861,
    "start_time": "2023-09-15T04:07:09.289Z"
   },
   {
    "duration": 2,
    "start_time": "2023-09-15T04:07:37.152Z"
   },
   {
    "duration": 15,
    "start_time": "2023-09-15T04:07:37.156Z"
   },
   {
    "duration": 14,
    "start_time": "2023-09-15T04:07:37.173Z"
   },
   {
    "duration": 19,
    "start_time": "2023-09-15T04:07:37.189Z"
   },
   {
    "duration": 27,
    "start_time": "2023-09-15T04:07:37.209Z"
   },
   {
    "duration": 13,
    "start_time": "2023-09-15T04:07:37.237Z"
   },
   {
    "duration": 8,
    "start_time": "2023-09-15T04:07:37.252Z"
   },
   {
    "duration": 24663,
    "start_time": "2023-09-15T04:07:37.261Z"
   },
   {
    "duration": 0,
    "start_time": "2023-09-15T04:08:01.926Z"
   },
   {
    "duration": 0,
    "start_time": "2023-09-15T04:08:01.927Z"
   },
   {
    "duration": 0,
    "start_time": "2023-09-15T04:08:01.928Z"
   },
   {
    "duration": 0,
    "start_time": "2023-09-15T04:08:01.929Z"
   },
   {
    "duration": 0,
    "start_time": "2023-09-15T04:08:01.930Z"
   },
   {
    "duration": 0,
    "start_time": "2023-09-15T04:08:01.931Z"
   },
   {
    "duration": 0,
    "start_time": "2023-09-15T04:08:01.932Z"
   },
   {
    "duration": 0,
    "start_time": "2023-09-15T04:08:01.933Z"
   },
   {
    "duration": 0,
    "start_time": "2023-09-15T04:08:01.935Z"
   },
   {
    "duration": 0,
    "start_time": "2023-09-15T04:08:01.936Z"
   },
   {
    "duration": 0,
    "start_time": "2023-09-15T04:08:01.937Z"
   },
   {
    "duration": 0,
    "start_time": "2023-09-15T04:08:01.938Z"
   },
   {
    "duration": 0,
    "start_time": "2023-09-15T04:08:01.939Z"
   },
   {
    "duration": 0,
    "start_time": "2023-09-15T04:08:01.940Z"
   },
   {
    "duration": 0,
    "start_time": "2023-09-15T04:08:01.941Z"
   },
   {
    "duration": 0,
    "start_time": "2023-09-15T04:08:01.942Z"
   },
   {
    "duration": 0,
    "start_time": "2023-09-15T04:08:01.943Z"
   },
   {
    "duration": 0,
    "start_time": "2023-09-15T04:08:01.944Z"
   },
   {
    "duration": 0,
    "start_time": "2023-09-15T04:08:01.945Z"
   },
   {
    "duration": 0,
    "start_time": "2023-09-15T04:08:01.946Z"
   },
   {
    "duration": 2059,
    "start_time": "2023-09-15T04:08:30.425Z"
   },
   {
    "duration": 2028,
    "start_time": "2023-09-15T04:08:32.486Z"
   },
   {
    "duration": 1991,
    "start_time": "2023-09-15T04:08:34.516Z"
   },
   {
    "duration": 1965,
    "start_time": "2023-09-15T04:08:36.509Z"
   },
   {
    "duration": 1996,
    "start_time": "2023-09-15T04:08:38.476Z"
   },
   {
    "duration": 1559,
    "start_time": "2023-09-15T04:08:40.474Z"
   },
   {
    "duration": 1305,
    "start_time": "2023-09-15T04:08:42.034Z"
   },
   {
    "duration": 16,
    "start_time": "2023-09-15T04:08:43.341Z"
   },
   {
    "duration": 32,
    "start_time": "2023-09-15T04:08:43.358Z"
   },
   {
    "duration": 139,
    "start_time": "2023-09-15T04:08:43.392Z"
   },
   {
    "duration": 428,
    "start_time": "2023-09-15T04:08:43.532Z"
   },
   {
    "duration": 492,
    "start_time": "2023-09-15T04:08:43.962Z"
   },
   {
    "duration": 94,
    "start_time": "2023-09-15T04:08:44.456Z"
   },
   {
    "duration": 43,
    "start_time": "2023-09-15T04:08:44.552Z"
   },
   {
    "duration": 101,
    "start_time": "2023-09-15T04:08:44.596Z"
   },
   {
    "duration": 493,
    "start_time": "2023-09-15T04:08:44.699Z"
   },
   {
    "duration": 36,
    "start_time": "2023-09-15T04:08:45.194Z"
   },
   {
    "duration": 292,
    "start_time": "2023-09-15T04:08:45.231Z"
   },
   {
    "duration": 503,
    "start_time": "2023-09-15T04:08:45.525Z"
   },
   {
    "duration": 90,
    "start_time": "2023-09-15T04:08:46.030Z"
   },
   {
    "duration": 880,
    "start_time": "2023-09-15T04:08:46.122Z"
   },
   {
    "duration": 6,
    "start_time": "2023-09-15T04:08:47.004Z"
   },
   {
    "duration": 22,
    "start_time": "2023-09-15T04:08:47.011Z"
   },
   {
    "duration": 15,
    "start_time": "2023-09-15T04:08:47.034Z"
   },
   {
    "duration": 25,
    "start_time": "2023-09-15T04:08:47.050Z"
   },
   {
    "duration": 37,
    "start_time": "2023-09-15T04:08:47.077Z"
   },
   {
    "duration": 23,
    "start_time": "2023-09-15T04:08:47.116Z"
   },
   {
    "duration": 64,
    "start_time": "2023-09-15T04:08:47.152Z"
   },
   {
    "duration": 2,
    "start_time": "2023-09-15T04:08:47.218Z"
   },
   {
    "duration": 40,
    "start_time": "2023-09-15T04:08:47.221Z"
   },
   {
    "duration": 799,
    "start_time": "2023-09-15T04:08:47.262Z"
   },
   {
    "duration": 15,
    "start_time": "2023-09-15T04:08:48.062Z"
   },
   {
    "duration": 15,
    "start_time": "2023-09-15T04:08:48.079Z"
   },
   {
    "duration": 94,
    "start_time": "2023-09-15T04:08:48.095Z"
   },
   {
    "duration": 65,
    "start_time": "2023-09-15T04:08:48.190Z"
   },
   {
    "duration": 61,
    "start_time": "2023-09-15T04:08:48.257Z"
   },
   {
    "duration": 304,
    "start_time": "2023-09-15T04:08:48.320Z"
   },
   {
    "duration": 11,
    "start_time": "2023-09-15T04:08:48.626Z"
   },
   {
    "duration": 91,
    "start_time": "2023-09-15T04:08:48.638Z"
   },
   {
    "duration": 56,
    "start_time": "2023-09-15T04:08:48.731Z"
   },
   {
    "duration": 70,
    "start_time": "2023-09-15T04:08:48.789Z"
   },
   {
    "duration": 803,
    "start_time": "2023-09-15T04:08:48.861Z"
   },
   {
    "duration": 2,
    "start_time": "2023-09-15T04:08:49.666Z"
   },
   {
    "duration": 19,
    "start_time": "2023-09-15T04:08:49.670Z"
   },
   {
    "duration": 6,
    "start_time": "2023-09-15T04:08:49.691Z"
   },
   {
    "duration": 10,
    "start_time": "2023-09-15T04:08:49.698Z"
   },
   {
    "duration": 4,
    "start_time": "2023-09-15T04:08:49.709Z"
   },
   {
    "duration": 4,
    "start_time": "2023-09-15T04:08:49.715Z"
   },
   {
    "duration": 4,
    "start_time": "2023-09-15T04:08:49.720Z"
   },
   {
    "duration": 4,
    "start_time": "2023-09-15T04:08:49.726Z"
   },
   {
    "duration": 7,
    "start_time": "2023-09-15T04:08:49.732Z"
   },
   {
    "duration": 27,
    "start_time": "2023-09-15T04:08:49.740Z"
   },
   {
    "duration": 31,
    "start_time": "2023-09-15T04:08:49.768Z"
   },
   {
    "duration": 20,
    "start_time": "2023-09-15T04:08:49.801Z"
   },
   {
    "duration": 21,
    "start_time": "2023-09-15T04:08:49.822Z"
   },
   {
    "duration": 40,
    "start_time": "2023-09-15T04:08:49.845Z"
   },
   {
    "duration": 14,
    "start_time": "2023-09-15T04:08:49.886Z"
   },
   {
    "duration": 6,
    "start_time": "2023-09-15T04:08:49.901Z"
   },
   {
    "duration": 21,
    "start_time": "2023-09-15T04:08:49.908Z"
   },
   {
    "duration": 1948,
    "start_time": "2023-09-15T04:08:49.931Z"
   },
   {
    "duration": 2,
    "start_time": "2023-09-15T04:08:51.881Z"
   },
   {
    "duration": 43,
    "start_time": "2023-09-15T04:08:51.884Z"
   },
   {
    "duration": 44,
    "start_time": "2023-09-15T04:08:51.928Z"
   },
   {
    "duration": 30161,
    "start_time": "2023-09-15T04:08:51.974Z"
   },
   {
    "duration": 2,
    "start_time": "2023-09-15T04:09:22.137Z"
   },
   {
    "duration": 15,
    "start_time": "2023-09-15T04:09:22.141Z"
   },
   {
    "duration": 18,
    "start_time": "2023-09-15T04:09:22.157Z"
   },
   {
    "duration": 5,
    "start_time": "2023-09-15T04:09:22.176Z"
   },
   {
    "duration": 4,
    "start_time": "2023-09-15T04:09:22.183Z"
   },
   {
    "duration": 8,
    "start_time": "2023-09-15T04:09:22.188Z"
   },
   {
    "duration": 14,
    "start_time": "2023-09-15T04:09:22.197Z"
   },
   {
    "duration": 7,
    "start_time": "2023-09-15T04:09:22.212Z"
   },
   {
    "duration": 4,
    "start_time": "2023-09-15T04:09:22.220Z"
   },
   {
    "duration": 78298,
    "start_time": "2023-09-15T04:09:22.225Z"
   },
   {
    "duration": 2,
    "start_time": "2023-09-15T04:10:40.525Z"
   },
   {
    "duration": 23,
    "start_time": "2023-09-15T04:10:40.528Z"
   },
   {
    "duration": 10625,
    "start_time": "2023-09-15T04:10:40.552Z"
   },
   {
    "duration": 2,
    "start_time": "2023-09-15T04:10:51.178Z"
   },
   {
    "duration": 7,
    "start_time": "2023-09-15T04:10:51.182Z"
   },
   {
    "duration": 60453,
    "start_time": "2023-09-15T04:10:51.191Z"
   },
   {
    "duration": 5,
    "start_time": "2023-09-15T04:11:51.645Z"
   },
   {
    "duration": 35,
    "start_time": "2023-09-15T04:11:51.654Z"
   },
   {
    "duration": 125084,
    "start_time": "2023-09-15T04:11:51.690Z"
   },
   {
    "duration": 2,
    "start_time": "2023-09-15T04:13:56.776Z"
   },
   {
    "duration": 6,
    "start_time": "2023-09-15T04:13:56.779Z"
   },
   {
    "duration": 2,
    "start_time": "2023-09-15T04:13:56.850Z"
   },
   {
    "duration": 5,
    "start_time": "2023-09-15T04:13:56.853Z"
   },
   {
    "duration": 4,
    "start_time": "2023-09-15T04:13:56.859Z"
   },
   {
    "duration": 5,
    "start_time": "2023-09-15T04:13:56.864Z"
   },
   {
    "duration": 7498,
    "start_time": "2023-09-15T04:13:56.870Z"
   },
   {
    "duration": 81,
    "start_time": "2023-09-15T04:14:04.370Z"
   },
   {
    "duration": 125,
    "start_time": "2023-09-15T04:14:04.452Z"
   },
   {
    "duration": 3,
    "start_time": "2023-09-15T04:14:21.421Z"
   },
   {
    "duration": 2207,
    "start_time": "2023-09-15T04:16:32.813Z"
   },
   {
    "duration": 2089,
    "start_time": "2023-09-15T04:16:35.022Z"
   },
   {
    "duration": 2017,
    "start_time": "2023-09-15T04:16:37.112Z"
   },
   {
    "duration": 2087,
    "start_time": "2023-09-15T04:16:39.131Z"
   },
   {
    "duration": 2020,
    "start_time": "2023-09-15T04:16:41.220Z"
   },
   {
    "duration": 5,
    "start_time": "2023-09-15T04:16:43.242Z"
   },
   {
    "duration": 1446,
    "start_time": "2023-09-15T04:16:43.249Z"
   },
   {
    "duration": 13,
    "start_time": "2023-09-15T04:16:44.696Z"
   },
   {
    "duration": 5,
    "start_time": "2023-09-15T04:16:44.711Z"
   },
   {
    "duration": 141,
    "start_time": "2023-09-15T04:16:44.718Z"
   },
   {
    "duration": 359,
    "start_time": "2023-09-15T04:16:44.860Z"
   },
   {
    "duration": 383,
    "start_time": "2023-09-15T04:16:45.221Z"
   },
   {
    "duration": 79,
    "start_time": "2023-09-15T04:16:45.605Z"
   },
   {
    "duration": 28,
    "start_time": "2023-09-15T04:16:45.685Z"
   },
   {
    "duration": 91,
    "start_time": "2023-09-15T04:16:45.715Z"
   },
   {
    "duration": 494,
    "start_time": "2023-09-15T04:16:45.807Z"
   },
   {
    "duration": 49,
    "start_time": "2023-09-15T04:16:46.302Z"
   },
   {
    "duration": 302,
    "start_time": "2023-09-15T04:16:46.352Z"
   },
   {
    "duration": 494,
    "start_time": "2023-09-15T04:16:46.655Z"
   },
   {
    "duration": 83,
    "start_time": "2023-09-15T04:16:47.151Z"
   },
   {
    "duration": 904,
    "start_time": "2023-09-15T04:16:47.236Z"
   },
   {
    "duration": 13,
    "start_time": "2023-09-15T04:16:48.142Z"
   },
   {
    "duration": 9,
    "start_time": "2023-09-15T04:16:48.156Z"
   },
   {
    "duration": 9,
    "start_time": "2023-09-15T04:16:48.166Z"
   },
   {
    "duration": 20,
    "start_time": "2023-09-15T04:16:48.177Z"
   },
   {
    "duration": 52,
    "start_time": "2023-09-15T04:16:48.199Z"
   },
   {
    "duration": 23,
    "start_time": "2023-09-15T04:16:48.252Z"
   },
   {
    "duration": 76,
    "start_time": "2023-09-15T04:16:48.279Z"
   },
   {
    "duration": 2,
    "start_time": "2023-09-15T04:16:48.357Z"
   },
   {
    "duration": 30,
    "start_time": "2023-09-15T04:16:48.361Z"
   },
   {
    "duration": 806,
    "start_time": "2023-09-15T04:16:48.392Z"
   },
   {
    "duration": 11,
    "start_time": "2023-09-15T04:16:49.199Z"
   },
   {
    "duration": 19,
    "start_time": "2023-09-15T04:16:49.212Z"
   },
   {
    "duration": 62,
    "start_time": "2023-09-15T04:16:49.233Z"
   },
   {
    "duration": 56,
    "start_time": "2023-09-15T04:16:49.297Z"
   },
   {
    "duration": 62,
    "start_time": "2023-09-15T04:16:49.354Z"
   },
   {
    "duration": 188,
    "start_time": "2023-09-15T04:16:49.418Z"
   },
   {
    "duration": 10,
    "start_time": "2023-09-15T04:16:49.607Z"
   },
   {
    "duration": 72,
    "start_time": "2023-09-15T04:16:49.619Z"
   },
   {
    "duration": 59,
    "start_time": "2023-09-15T04:16:49.692Z"
   },
   {
    "duration": 58,
    "start_time": "2023-09-15T04:16:49.753Z"
   },
   {
    "duration": 828,
    "start_time": "2023-09-15T04:16:49.813Z"
   },
   {
    "duration": 2,
    "start_time": "2023-09-15T04:16:50.642Z"
   },
   {
    "duration": 16,
    "start_time": "2023-09-15T04:16:50.646Z"
   },
   {
    "duration": 6,
    "start_time": "2023-09-15T04:16:50.664Z"
   },
   {
    "duration": 11,
    "start_time": "2023-09-15T04:16:50.671Z"
   },
   {
    "duration": 16,
    "start_time": "2023-09-15T04:16:50.683Z"
   },
   {
    "duration": 15,
    "start_time": "2023-09-15T04:16:50.700Z"
   },
   {
    "duration": 33,
    "start_time": "2023-09-15T04:16:50.716Z"
   },
   {
    "duration": 3,
    "start_time": "2023-09-15T04:16:50.868Z"
   },
   {
    "duration": 11,
    "start_time": "2023-09-15T04:16:50.872Z"
   },
   {
    "duration": 8,
    "start_time": "2023-09-15T04:16:50.884Z"
   },
   {
    "duration": 4,
    "start_time": "2023-09-15T04:16:50.893Z"
   },
   {
    "duration": 10,
    "start_time": "2023-09-15T04:16:50.899Z"
   },
   {
    "duration": 20,
    "start_time": "2023-09-15T04:16:50.910Z"
   },
   {
    "duration": 5,
    "start_time": "2023-09-15T04:16:50.931Z"
   },
   {
    "duration": 13,
    "start_time": "2023-09-15T04:16:50.937Z"
   },
   {
    "duration": 5,
    "start_time": "2023-09-15T04:16:50.952Z"
   },
   {
    "duration": 16,
    "start_time": "2023-09-15T04:16:50.958Z"
   },
   {
    "duration": 2186,
    "start_time": "2023-09-15T04:16:50.976Z"
   },
   {
    "duration": 2,
    "start_time": "2023-09-15T04:16:53.163Z"
   },
   {
    "duration": 19,
    "start_time": "2023-09-15T04:16:53.167Z"
   },
   {
    "duration": 31,
    "start_time": "2023-09-15T04:16:53.187Z"
   },
   {
    "duration": 2031,
    "start_time": "2023-09-15T04:17:21.626Z"
   },
   {
    "duration": 2006,
    "start_time": "2023-09-15T04:17:23.659Z"
   },
   {
    "duration": 2008,
    "start_time": "2023-09-15T04:17:25.667Z"
   },
   {
    "duration": 2062,
    "start_time": "2023-09-15T04:17:27.677Z"
   },
   {
    "duration": 2047,
    "start_time": "2023-09-15T04:17:29.741Z"
   },
   {
    "duration": 1574,
    "start_time": "2023-09-15T04:17:31.790Z"
   },
   {
    "duration": 1279,
    "start_time": "2023-09-15T04:17:33.365Z"
   },
   {
    "duration": 18,
    "start_time": "2023-09-15T04:17:34.645Z"
   },
   {
    "duration": 81,
    "start_time": "2023-09-15T04:17:34.664Z"
   },
   {
    "duration": 132,
    "start_time": "2023-09-15T04:17:34.746Z"
   },
   {
    "duration": 426,
    "start_time": "2023-09-15T04:17:34.880Z"
   },
   {
    "duration": 478,
    "start_time": "2023-09-15T04:17:35.307Z"
   },
   {
    "duration": 89,
    "start_time": "2023-09-15T04:17:35.787Z"
   },
   {
    "duration": 47,
    "start_time": "2023-09-15T04:17:35.879Z"
   },
   {
    "duration": 99,
    "start_time": "2023-09-15T04:17:35.928Z"
   },
   {
    "duration": 491,
    "start_time": "2023-09-15T04:17:36.028Z"
   },
   {
    "duration": 41,
    "start_time": "2023-09-15T04:17:36.520Z"
   },
   {
    "duration": 287,
    "start_time": "2023-09-15T04:17:36.562Z"
   },
   {
    "duration": 476,
    "start_time": "2023-09-15T04:17:36.851Z"
   },
   {
    "duration": 87,
    "start_time": "2023-09-15T04:17:37.328Z"
   },
   {
    "duration": 844,
    "start_time": "2023-09-15T04:17:37.416Z"
   },
   {
    "duration": 5,
    "start_time": "2023-09-15T04:17:38.262Z"
   },
   {
    "duration": 9,
    "start_time": "2023-09-15T04:17:38.269Z"
   },
   {
    "duration": 7,
    "start_time": "2023-09-15T04:17:38.279Z"
   },
   {
    "duration": 29,
    "start_time": "2023-09-15T04:17:38.288Z"
   },
   {
    "duration": 49,
    "start_time": "2023-09-15T04:17:38.319Z"
   },
   {
    "duration": 23,
    "start_time": "2023-09-15T04:17:38.369Z"
   },
   {
    "duration": 76,
    "start_time": "2023-09-15T04:17:38.394Z"
   },
   {
    "duration": 2,
    "start_time": "2023-09-15T04:17:38.471Z"
   },
   {
    "duration": 26,
    "start_time": "2023-09-15T04:17:38.475Z"
   },
   {
    "duration": 803,
    "start_time": "2023-09-15T04:17:38.502Z"
   },
   {
    "duration": 14,
    "start_time": "2023-09-15T04:17:39.307Z"
   },
   {
    "duration": 29,
    "start_time": "2023-09-15T04:17:39.323Z"
   },
   {
    "duration": 67,
    "start_time": "2023-09-15T04:17:39.354Z"
   },
   {
    "duration": 66,
    "start_time": "2023-09-15T04:17:39.423Z"
   },
   {
    "duration": 66,
    "start_time": "2023-09-15T04:17:39.490Z"
   },
   {
    "duration": 176,
    "start_time": "2023-09-15T04:17:39.557Z"
   },
   {
    "duration": 15,
    "start_time": "2023-09-15T04:17:39.735Z"
   },
   {
    "duration": 50,
    "start_time": "2023-09-15T04:17:39.751Z"
   },
   {
    "duration": 66,
    "start_time": "2023-09-15T04:17:39.802Z"
   },
   {
    "duration": 57,
    "start_time": "2023-09-15T04:17:39.872Z"
   },
   {
    "duration": 905,
    "start_time": "2023-09-15T04:17:39.931Z"
   },
   {
    "duration": 2,
    "start_time": "2023-09-15T04:17:40.837Z"
   },
   {
    "duration": 15,
    "start_time": "2023-09-15T04:17:40.849Z"
   },
   {
    "duration": 29,
    "start_time": "2023-09-15T04:17:40.866Z"
   },
   {
    "duration": 12,
    "start_time": "2023-09-15T04:17:40.897Z"
   },
   {
    "duration": 7,
    "start_time": "2023-09-15T04:17:40.911Z"
   },
   {
    "duration": 18,
    "start_time": "2023-09-15T04:17:40.919Z"
   },
   {
    "duration": 25,
    "start_time": "2023-09-15T04:17:40.938Z"
   },
   {
    "duration": 9,
    "start_time": "2023-09-15T04:17:40.964Z"
   },
   {
    "duration": 6,
    "start_time": "2023-09-15T04:17:40.974Z"
   },
   {
    "duration": 111,
    "start_time": "2023-09-15T04:17:40.981Z"
   },
   {
    "duration": 12,
    "start_time": "2023-09-15T04:17:41.094Z"
   },
   {
    "duration": 6,
    "start_time": "2023-09-15T04:17:41.108Z"
   },
   {
    "duration": 11,
    "start_time": "2023-09-15T04:17:41.115Z"
   },
   {
    "duration": 4,
    "start_time": "2023-09-15T04:17:41.128Z"
   },
   {
    "duration": 12,
    "start_time": "2023-09-15T04:17:41.133Z"
   },
   {
    "duration": 3,
    "start_time": "2023-09-15T04:17:41.146Z"
   },
   {
    "duration": 22,
    "start_time": "2023-09-15T04:17:41.150Z"
   },
   {
    "duration": 1829,
    "start_time": "2023-09-15T04:17:41.174Z"
   },
   {
    "duration": 3,
    "start_time": "2023-09-15T04:17:43.005Z"
   },
   {
    "duration": 23,
    "start_time": "2023-09-15T04:17:43.010Z"
   },
   {
    "duration": 8,
    "start_time": "2023-09-15T04:17:43.034Z"
   },
   {
    "duration": 29035,
    "start_time": "2023-09-15T04:17:43.043Z"
   },
   {
    "duration": 4,
    "start_time": "2023-09-15T04:18:12.080Z"
   },
   {
    "duration": 17,
    "start_time": "2023-09-15T04:18:12.085Z"
   },
   {
    "duration": 21,
    "start_time": "2023-09-15T04:18:12.103Z"
   },
   {
    "duration": 15,
    "start_time": "2023-09-15T04:18:12.125Z"
   },
   {
    "duration": 18,
    "start_time": "2023-09-15T04:18:12.141Z"
   },
   {
    "duration": 5,
    "start_time": "2023-09-15T04:18:12.160Z"
   },
   {
    "duration": 4,
    "start_time": "2023-09-15T04:18:12.167Z"
   },
   {
    "duration": 4,
    "start_time": "2023-09-15T04:18:12.173Z"
   },
   {
    "duration": 17,
    "start_time": "2023-09-15T04:18:12.178Z"
   },
   {
    "duration": 77320,
    "start_time": "2023-09-15T04:18:12.196Z"
   },
   {
    "duration": 3,
    "start_time": "2023-09-15T04:19:29.517Z"
   },
   {
    "duration": 11,
    "start_time": "2023-09-15T04:19:29.522Z"
   },
   {
    "duration": 10648,
    "start_time": "2023-09-15T04:19:29.535Z"
   },
   {
    "duration": 3,
    "start_time": "2023-09-15T04:19:40.184Z"
   },
   {
    "duration": 9,
    "start_time": "2023-09-15T04:19:40.188Z"
   },
   {
    "duration": 59998,
    "start_time": "2023-09-15T04:19:40.198Z"
   },
   {
    "duration": 2,
    "start_time": "2023-09-15T04:20:40.198Z"
   },
   {
    "duration": 56,
    "start_time": "2023-09-15T04:20:40.202Z"
   },
   {
    "duration": 125923,
    "start_time": "2023-09-15T04:20:40.260Z"
   },
   {
    "duration": 2,
    "start_time": "2023-09-15T04:22:46.185Z"
   },
   {
    "duration": 16,
    "start_time": "2023-09-15T04:22:46.189Z"
   },
   {
    "duration": 44,
    "start_time": "2023-09-15T04:22:46.206Z"
   },
   {
    "duration": 11,
    "start_time": "2023-09-15T04:22:46.251Z"
   },
   {
    "duration": 7,
    "start_time": "2023-09-15T04:22:46.263Z"
   },
   {
    "duration": 22,
    "start_time": "2023-09-15T04:22:46.271Z"
   },
   {
    "duration": 3,
    "start_time": "2023-09-15T04:22:46.295Z"
   },
   {
    "duration": 10,
    "start_time": "2023-09-15T04:22:46.299Z"
   },
   {
    "duration": 7,
    "start_time": "2023-09-15T04:22:46.311Z"
   },
   {
    "duration": 8,
    "start_time": "2023-09-15T04:22:46.320Z"
   },
   {
    "duration": 22,
    "start_time": "2023-09-15T04:22:46.329Z"
   },
   {
    "duration": 7098,
    "start_time": "2023-09-15T04:22:46.353Z"
   },
   {
    "duration": 2,
    "start_time": "2023-09-15T04:22:53.453Z"
   },
   {
    "duration": 31,
    "start_time": "2023-09-15T04:22:53.456Z"
   }
  ],
  "kernelspec": {
   "display_name": "Python 3 (ipykernel)",
   "language": "python",
   "name": "python3"
  },
  "language_info": {
   "codemirror_mode": {
    "name": "ipython",
    "version": 3
   },
   "file_extension": ".py",
   "mimetype": "text/x-python",
   "name": "python",
   "nbconvert_exporter": "python",
   "pygments_lexer": "ipython3",
   "version": "3.10.9"
  },
  "toc": {
   "base_numbering": 1,
   "nav_menu": {},
   "number_sections": true,
   "sideBar": true,
   "skip_h1_title": true,
   "title_cell": "Table of Contents",
   "title_sidebar": "Contents",
   "toc_cell": false,
   "toc_position": {
    "height": "calc(100% - 180px)",
    "left": "10px",
    "top": "150px",
    "width": "175px"
   },
   "toc_section_display": true,
   "toc_window_display": true
  }
 },
 "nbformat": 4,
 "nbformat_minor": 2
}
