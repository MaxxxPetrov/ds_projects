{
 "cells": [
  {
   "cell_type": "markdown",
   "metadata": {
    "toc": true
   },
   "source": [
    "<h1>Содержание<span class=\"tocSkip\"></span></h1>\n",
    "<div class=\"toc\"><ul class=\"toc-item\"><li><span><a href=\"#Описание-проекта\" data-toc-modified-id=\"Описание-проекта-1\"><span class=\"toc-item-num\">1&nbsp;&nbsp;</span>Описание проекта</a></span><ul class=\"toc-item\"><li><span><a href=\"#Краткое-описание\" data-toc-modified-id=\"Краткое-описание-1.1\"><span class=\"toc-item-num\">1.1&nbsp;&nbsp;</span>Краткое описание</a></span></li><li><span><a href=\"#Описание-данных\" data-toc-modified-id=\"Описание-данных-1.2\"><span class=\"toc-item-num\">1.2&nbsp;&nbsp;</span>Описание данных</a></span></li><li><span><a href=\"#План-работы\" data-toc-modified-id=\"План-работы-1.3\"><span class=\"toc-item-num\">1.3&nbsp;&nbsp;</span>План работы</a></span></li></ul></li><li><span><a href=\"#Подготовка-данных\" data-toc-modified-id=\"Подготовка-данных-2\"><span class=\"toc-item-num\">2&nbsp;&nbsp;</span>Подготовка данных</a></span><ul class=\"toc-item\"><li><span><a href=\"#Загрузка-данных\" data-toc-modified-id=\"Загрузка-данных-2.1\"><span class=\"toc-item-num\">2.1&nbsp;&nbsp;</span>Загрузка данных</a></span></li><li><span><a href=\"#Предобработка-данных\" data-toc-modified-id=\"Предобработка-данных-2.2\"><span class=\"toc-item-num\">2.2&nbsp;&nbsp;</span>Предобработка данных</a></span></li><li><span><a href=\"#Подготовка-признаков\" data-toc-modified-id=\"Подготовка-признаков-2.3\"><span class=\"toc-item-num\">2.3&nbsp;&nbsp;</span>Подготовка признаков</a></span></li></ul></li><li><span><a href=\"#Исследование-задачи\" data-toc-modified-id=\"Исследование-задачи-3\"><span class=\"toc-item-num\">3&nbsp;&nbsp;</span>Исследование задачи</a></span></li><li><span><a href=\"#Борьба-с-дисбалансом\" data-toc-modified-id=\"Борьба-с-дисбалансом-4\"><span class=\"toc-item-num\">4&nbsp;&nbsp;</span>Борьба с дисбалансом</a></span></li><li><span><a href=\"#Исследование-финальной-модели\" data-toc-modified-id=\"Исследование-финальной-модели-5\"><span class=\"toc-item-num\">5&nbsp;&nbsp;</span>Исследование финальной модели</a></span></li><li><span><a href=\"#Тестирование-модели\" data-toc-modified-id=\"Тестирование-модели-6\"><span class=\"toc-item-num\">6&nbsp;&nbsp;</span>Тестирование модели</a></span></li><li><span><a href=\"#Общий-вывод\" data-toc-modified-id=\"Общий-вывод-7\"><span class=\"toc-item-num\">7&nbsp;&nbsp;</span>Общий вывод</a></span></li><li><span><a href=\"#Чек-лист-готовности-проекта\" data-toc-modified-id=\"Чек-лист-готовности-проекта-8\"><span class=\"toc-item-num\">8&nbsp;&nbsp;</span>Чек-лист готовности проекта</a></span></li></ul></div>"
   ]
  },
  {
   "cell_type": "markdown",
   "metadata": {},
   "source": [
    "# Отток клиентов"
   ]
  },
  {
   "cell_type": "markdown",
   "metadata": {},
   "source": [
    "## Описание проекта"
   ]
  },
  {
   "cell_type": "markdown",
   "metadata": {},
   "source": [
    "### Краткое описание"
   ]
  },
  {
   "cell_type": "markdown",
   "metadata": {},
   "source": [
    "Из «Бета-Банка» стали уходить клиенты. Каждый месяц. Немного, но заметно. Банковские маркетологи посчитали: сохранять текущих клиентов дешевле, чем привлекать новых.\n",
    "\n",
    "Нужно спрогнозировать, уйдёт клиент из банка в ближайшее время или нет. Вам предоставлены исторические данные о поведении клиентов и расторжении договоров с банком. \n",
    "\n",
    "Постройте модель с предельно большим значением *F1*-меры. Чтобы сдать проект успешно, нужно довести метрику до 0.59. Проверьте *F1*-меру на тестовой выборке самостоятельно.\n",
    "\n",
    "Дополнительно измеряйте *AUC-ROC*, сравнивайте её значение с *F1*-мерой.\n",
    "\n",
    "Источник данных: [https://www.kaggle.com/barelydedicated/bank-customer-churn-modeling](https://www.kaggle.com/barelydedicated/bank-customer-churn-modeling)\n",
    "\n",
    "***Цель проекта:*** построить модель с максимальным значением F1-меры (не менее 0.59)"
   ]
  },
  {
   "cell_type": "markdown",
   "metadata": {},
   "source": [
    "### Описание данных"
   ]
  },
  {
   "cell_type": "markdown",
   "metadata": {},
   "source": [
    "***Признаки***\n",
    "\n",
    "* `RowNumber` — индекс строки в данных\n",
    "\n",
    "* `CustomerId` — уникальный идентификатор клиента\n",
    "\n",
    "* `Surname` — фамилия\n",
    "\n",
    "* `CreditScore` — кредитный рейтинг\n",
    "\n",
    "* `Geography` — страна проживания\n",
    "\n",
    "* `Gender` — пол\n",
    "\n",
    "* `Age` — возраст\n",
    "\n",
    "* `Tenure` — сколько лет человек является клиентом банка\n",
    "\n",
    "* `Balance` — баланс на счёте\n",
    "\n",
    "* `NumOfProducts` — количество продуктов банка, используемых клиентом\n",
    "\n",
    "* `HasCrCard` — наличие кредитной карты\n",
    "\n",
    "* `IsActiveMember` — активность клиента\n",
    "\n",
    "* `EstimatedSalary` — предполагаемая зарплата\n",
    "\n",
    "\n",
    "***Целевой признак***\n",
    "\n",
    "* `Exited` — факт ухода клиента"
   ]
  },
  {
   "cell_type": "markdown",
   "metadata": {},
   "source": [
    "### План работы"
   ]
  },
  {
   "cell_type": "markdown",
   "metadata": {},
   "source": [
    "1. Подготовка данных:\n",
    "    - загрузка;\n",
    "    - предобработка;\n",
    "    - подготовка признаков;\n",
    "    \n",
    "    \n",
    "2. Исследование задачи:\n",
    "    - баланс классов;\n",
    "    - обучение моделей в условиях дисбаланса;\n",
    "    \n",
    "    \n",
    "3. Борьба с дисбалансом:\n",
    "    - взвешивание классов, upsampling, downsampling, threshold;\n",
    "    - обучение разных моделей, выбор лучшей;\n",
    "\n",
    "\n",
    "4. Исследование финальной модели:\n",
    "    - подбор гиперпараметров;\n",
    "    - обучение финальной модели;\n",
    "    - анализ финальных метрик;\n",
    "\n",
    "\n",
    "5. Тестирование модели.\n",
    "    - тестирование и расчет метрик качества;\n",
    "\n",
    "\n",
    "\n",
    "6. Общий вывод."
   ]
  },
  {
   "cell_type": "markdown",
   "metadata": {},
   "source": [
    "## Подготовка данных"
   ]
  },
  {
   "cell_type": "markdown",
   "metadata": {},
   "source": [
    "### Загрузка данных"
   ]
  },
  {
   "cell_type": "code",
   "execution_count": 15,
   "metadata": {},
   "outputs": [
    {
     "name": "stdout",
     "output_type": "stream",
     "text": [
      "Requirement already satisfied: inflection in c:\\users\\mpeat\\anaconda3\\lib\\site-packages (0.5.1)\n",
      "Requirement already satisfied: optuna in c:\\users\\mpeat\\anaconda3\\lib\\site-packages (3.4.0)\n",
      "Requirement already satisfied: numpy in c:\\users\\mpeat\\anaconda3\\lib\\site-packages (from optuna) (1.23.5)\n",
      "Requirement already satisfied: tqdm in c:\\users\\mpeat\\anaconda3\\lib\\site-packages (from optuna) (4.64.1)\n",
      "Requirement already satisfied: sqlalchemy>=1.3.0 in c:\\users\\mpeat\\anaconda3\\lib\\site-packages (from optuna) (1.4.39)\n",
      "Requirement already satisfied: alembic>=1.5.0 in c:\\users\\mpeat\\anaconda3\\lib\\site-packages (from optuna) (1.12.1)\n",
      "Requirement already satisfied: colorlog in c:\\users\\mpeat\\anaconda3\\lib\\site-packages (from optuna) (6.7.0)\n",
      "Requirement already satisfied: PyYAML in c:\\users\\mpeat\\anaconda3\\lib\\site-packages (from optuna) (6.0)\n",
      "Requirement already satisfied: packaging>=20.0 in c:\\users\\mpeat\\anaconda3\\lib\\site-packages (from optuna) (22.0)\n",
      "Requirement already satisfied: Mako in c:\\users\\mpeat\\anaconda3\\lib\\site-packages (from alembic>=1.5.0->optuna) (1.3.0)\n",
      "Requirement already satisfied: typing-extensions>=4 in c:\\users\\mpeat\\anaconda3\\lib\\site-packages (from alembic>=1.5.0->optuna) (4.4.0)\n",
      "Requirement already satisfied: greenlet!=0.4.17 in c:\\users\\mpeat\\anaconda3\\lib\\site-packages (from sqlalchemy>=1.3.0->optuna) (2.0.1)\n",
      "Requirement already satisfied: colorama in c:\\users\\mpeat\\anaconda3\\lib\\site-packages (from colorlog->optuna) (0.4.6)\n",
      "Requirement already satisfied: MarkupSafe>=0.9.2 in c:\\users\\mpeat\\anaconda3\\lib\\site-packages (from Mako->alembic>=1.5.0->optuna) (2.1.1)\n"
     ]
    }
   ],
   "source": [
    "# Установим пару недостающих библиотек\n",
    "\n",
    "!pip install inflection\n",
    "!pip install optuna"
   ]
  },
  {
   "cell_type": "code",
   "execution_count": 16,
   "metadata": {},
   "outputs": [],
   "source": [
    "# Импортируем необходимые библиотеки\n",
    "\n",
    "import os\n",
    "import pandas as pd\n",
    "import numpy as np\n",
    "import matplotlib.pyplot as plt\n",
    "from inflection import underscore\n",
    "import seaborn as sns\n",
    "import optuna\n",
    "from sklearn.dummy import DummyClassifier\n",
    "from sklearn.model_selection import train_test_split\n",
    "from sklearn.preprocessing import StandardScaler\n",
    "from sklearn.linear_model import LogisticRegression\n",
    "from sklearn.tree import DecisionTreeClassifier\n",
    "from sklearn.ensemble import RandomForestClassifier\n",
    "from sklearn.utils import shuffle\n",
    "from sklearn.metrics import (accuracy_score,\n",
    "                             precision_score, \n",
    "                             recall_score, \n",
    "                             f1_score, \n",
    "                             roc_auc_score,\n",
    "                             precision_recall_curve,\n",
    "                             roc_curve)"
   ]
  },
  {
   "cell_type": "code",
   "execution_count": 17,
   "metadata": {},
   "outputs": [],
   "source": [
    "# Уберем предупреждения\n",
    "\n",
    "import warnings\n",
    "warnings.filterwarnings('ignore')"
   ]
  },
  {
   "cell_type": "code",
   "execution_count": 18,
   "metadata": {},
   "outputs": [],
   "source": [
    "# Сохраним исходный датафрейм в переменной df\n",
    "\n",
    "pth1 = 'C:\\\\Users\\\\mpeat\\\\Desktop\\\\Practicum_Data_Science\\\\2 Modul\\\\Обучение с учителем\\\\Project\\\\Churn.csv'\n",
    "pth2 = 'https://code.s3.yandex.net/datasets/Churn.csv'\n",
    "\n",
    "if os.path.exists(pth1):\n",
    "    df = pd.read_csv(pth1)\n",
    "else:\n",
    "    df = pd.read_csv(pth2)"
   ]
  },
  {
   "cell_type": "markdown",
   "metadata": {},
   "source": [
    "### Предобработка данных"
   ]
  },
  {
   "cell_type": "code",
   "execution_count": 19,
   "metadata": {},
   "outputs": [
    {
     "data": {
      "text/html": [
       "<div>\n",
       "<style scoped>\n",
       "    .dataframe tbody tr th:only-of-type {\n",
       "        vertical-align: middle;\n",
       "    }\n",
       "\n",
       "    .dataframe tbody tr th {\n",
       "        vertical-align: top;\n",
       "    }\n",
       "\n",
       "    .dataframe thead th {\n",
       "        text-align: right;\n",
       "    }\n",
       "</style>\n",
       "<table border=\"1\" class=\"dataframe\">\n",
       "  <thead>\n",
       "    <tr style=\"text-align: right;\">\n",
       "      <th></th>\n",
       "      <th>RowNumber</th>\n",
       "      <th>CustomerId</th>\n",
       "      <th>Surname</th>\n",
       "      <th>CreditScore</th>\n",
       "      <th>Geography</th>\n",
       "      <th>Gender</th>\n",
       "      <th>Age</th>\n",
       "      <th>Tenure</th>\n",
       "      <th>Balance</th>\n",
       "      <th>NumOfProducts</th>\n",
       "      <th>HasCrCard</th>\n",
       "      <th>IsActiveMember</th>\n",
       "      <th>EstimatedSalary</th>\n",
       "      <th>Exited</th>\n",
       "    </tr>\n",
       "  </thead>\n",
       "  <tbody>\n",
       "    <tr>\n",
       "      <th>0</th>\n",
       "      <td>1</td>\n",
       "      <td>15634602</td>\n",
       "      <td>Hargrave</td>\n",
       "      <td>619</td>\n",
       "      <td>France</td>\n",
       "      <td>Female</td>\n",
       "      <td>42</td>\n",
       "      <td>2.0</td>\n",
       "      <td>0.00</td>\n",
       "      <td>1</td>\n",
       "      <td>1</td>\n",
       "      <td>1</td>\n",
       "      <td>101348.88</td>\n",
       "      <td>1</td>\n",
       "    </tr>\n",
       "    <tr>\n",
       "      <th>1</th>\n",
       "      <td>2</td>\n",
       "      <td>15647311</td>\n",
       "      <td>Hill</td>\n",
       "      <td>608</td>\n",
       "      <td>Spain</td>\n",
       "      <td>Female</td>\n",
       "      <td>41</td>\n",
       "      <td>1.0</td>\n",
       "      <td>83807.86</td>\n",
       "      <td>1</td>\n",
       "      <td>0</td>\n",
       "      <td>1</td>\n",
       "      <td>112542.58</td>\n",
       "      <td>0</td>\n",
       "    </tr>\n",
       "    <tr>\n",
       "      <th>2</th>\n",
       "      <td>3</td>\n",
       "      <td>15619304</td>\n",
       "      <td>Onio</td>\n",
       "      <td>502</td>\n",
       "      <td>France</td>\n",
       "      <td>Female</td>\n",
       "      <td>42</td>\n",
       "      <td>8.0</td>\n",
       "      <td>159660.80</td>\n",
       "      <td>3</td>\n",
       "      <td>1</td>\n",
       "      <td>0</td>\n",
       "      <td>113931.57</td>\n",
       "      <td>1</td>\n",
       "    </tr>\n",
       "    <tr>\n",
       "      <th>3</th>\n",
       "      <td>4</td>\n",
       "      <td>15701354</td>\n",
       "      <td>Boni</td>\n",
       "      <td>699</td>\n",
       "      <td>France</td>\n",
       "      <td>Female</td>\n",
       "      <td>39</td>\n",
       "      <td>1.0</td>\n",
       "      <td>0.00</td>\n",
       "      <td>2</td>\n",
       "      <td>0</td>\n",
       "      <td>0</td>\n",
       "      <td>93826.63</td>\n",
       "      <td>0</td>\n",
       "    </tr>\n",
       "    <tr>\n",
       "      <th>4</th>\n",
       "      <td>5</td>\n",
       "      <td>15737888</td>\n",
       "      <td>Mitchell</td>\n",
       "      <td>850</td>\n",
       "      <td>Spain</td>\n",
       "      <td>Female</td>\n",
       "      <td>43</td>\n",
       "      <td>2.0</td>\n",
       "      <td>125510.82</td>\n",
       "      <td>1</td>\n",
       "      <td>1</td>\n",
       "      <td>1</td>\n",
       "      <td>79084.10</td>\n",
       "      <td>0</td>\n",
       "    </tr>\n",
       "  </tbody>\n",
       "</table>\n",
       "</div>"
      ],
      "text/plain": [
       "   RowNumber  CustomerId   Surname  CreditScore Geography  Gender  Age  \\\n",
       "0          1    15634602  Hargrave          619    France  Female   42   \n",
       "1          2    15647311      Hill          608     Spain  Female   41   \n",
       "2          3    15619304      Onio          502    France  Female   42   \n",
       "3          4    15701354      Boni          699    France  Female   39   \n",
       "4          5    15737888  Mitchell          850     Spain  Female   43   \n",
       "\n",
       "   Tenure    Balance  NumOfProducts  HasCrCard  IsActiveMember  \\\n",
       "0     2.0       0.00              1          1               1   \n",
       "1     1.0   83807.86              1          0               1   \n",
       "2     8.0  159660.80              3          1               0   \n",
       "3     1.0       0.00              2          0               0   \n",
       "4     2.0  125510.82              1          1               1   \n",
       "\n",
       "   EstimatedSalary  Exited  \n",
       "0        101348.88       1  \n",
       "1        112542.58       0  \n",
       "2        113931.57       1  \n",
       "3         93826.63       0  \n",
       "4         79084.10       0  "
      ]
     },
     "execution_count": 19,
     "metadata": {},
     "output_type": "execute_result"
    }
   ],
   "source": [
    "df.head() # первые 5 строк таблицы"
   ]
  },
  {
   "cell_type": "code",
   "execution_count": 20,
   "metadata": {},
   "outputs": [
    {
     "name": "stdout",
     "output_type": "stream",
     "text": [
      "<class 'pandas.core.frame.DataFrame'>\n",
      "RangeIndex: 10000 entries, 0 to 9999\n",
      "Data columns (total 14 columns):\n",
      " #   Column           Non-Null Count  Dtype  \n",
      "---  ------           --------------  -----  \n",
      " 0   RowNumber        10000 non-null  int64  \n",
      " 1   CustomerId       10000 non-null  int64  \n",
      " 2   Surname          10000 non-null  object \n",
      " 3   CreditScore      10000 non-null  int64  \n",
      " 4   Geography        10000 non-null  object \n",
      " 5   Gender           10000 non-null  object \n",
      " 6   Age              10000 non-null  int64  \n",
      " 7   Tenure           9091 non-null   float64\n",
      " 8   Balance          10000 non-null  float64\n",
      " 9   NumOfProducts    10000 non-null  int64  \n",
      " 10  HasCrCard        10000 non-null  int64  \n",
      " 11  IsActiveMember   10000 non-null  int64  \n",
      " 12  EstimatedSalary  10000 non-null  float64\n",
      " 13  Exited           10000 non-null  int64  \n",
      "dtypes: float64(3), int64(8), object(3)\n",
      "memory usage: 1.1+ MB\n"
     ]
    }
   ],
   "source": [
    "df.info() # общая информация"
   ]
  },
  {
   "cell_type": "markdown",
   "metadata": {},
   "source": [
    "Предварительно обнаружено 2 проблемы:\n",
    "* Названия колонок не приведены к змеиному_регистру.\n",
    "* В столбце `tenure` есть пропуски."
   ]
  },
  {
   "cell_type": "code",
   "execution_count": 21,
   "metadata": {},
   "outputs": [
    {
     "data": {
      "text/plain": [
       "Index(['row_number', 'customer_id', 'surname', 'credit_score', 'geography',\n",
       "       'gender', 'age', 'tenure', 'balance', 'num_of_products', 'has_cr_card',\n",
       "       'is_active_member', 'estimated_salary', 'exited'],\n",
       "      dtype='object')"
      ]
     },
     "execution_count": 21,
     "metadata": {},
     "output_type": "execute_result"
    }
   ],
   "source": [
    "# Приведем названия колонок к змеиному_регистру\n",
    "\n",
    "df.columns = [underscore(column) for column in df.columns]\n",
    "df.columns"
   ]
  },
  {
   "cell_type": "code",
   "execution_count": 22,
   "metadata": {},
   "outputs": [
    {
     "data": {
      "text/plain": [
       "0"
      ]
     },
     "execution_count": 22,
     "metadata": {},
     "output_type": "execute_result"
    }
   ],
   "source": [
    "# Проверим наличие дубликатов\n",
    "\n",
    "df.duplicated().sum()"
   ]
  },
  {
   "cell_type": "code",
   "execution_count": 23,
   "metadata": {},
   "outputs": [
    {
     "data": {
      "text/plain": [
       "909"
      ]
     },
     "execution_count": 23,
     "metadata": {},
     "output_type": "execute_result"
    }
   ],
   "source": [
    "df.tenure.isna().sum() # количество пропусков в 'tenure'"
   ]
  },
  {
   "cell_type": "code",
   "execution_count": 24,
   "metadata": {},
   "outputs": [
    {
     "data": {
      "text/plain": [
       "1.0     952\n",
       "2.0     950\n",
       "8.0     933\n",
       "3.0     928\n",
       "5.0     927\n",
       "7.0     925\n",
       "4.0     885\n",
       "9.0     882\n",
       "6.0     881\n",
       "10.0    446\n",
       "0.0     382\n",
       "Name: tenure, dtype: int64"
      ]
     },
     "execution_count": 24,
     "metadata": {},
     "output_type": "execute_result"
    }
   ],
   "source": [
    "df.tenure.value_counts() # распределение значений по столбцу 'tenure'"
   ]
  },
  {
   "cell_type": "code",
   "execution_count": 25,
   "metadata": {},
   "outputs": [
    {
     "data": {
      "image/png": "[encoded data removed]",
      "text/plain": [
       "<Figure size 640x480 with 1 Axes>"
      ]
     },
     "metadata": {},
     "output_type": "display_data"
    }
   ],
   "source": [
    "df.tenure.value_counts().plot.bar() # графическое распределение 'tenure'\n",
    "plt.title('распределение tenure')\n",
    "plt.xlabel('tenure')\n",
    "plt.ylabel('count')\n",
    "None"
   ]
  },
  {
   "cell_type": "markdown",
   "metadata": {},
   "source": [
    "Всего в столбце `tenure` ***909*** пропусков. Распределение значений в данном столбце равномерное, кроме последних 2 баров. Возможно пропуски являются причиной искажения распределения `tenure`, и заполнив их значениями ***0 и 10***, распределение будет иметь более правильный вид.\n",
    "\n",
    "Cреднее значение распределения примерно 900 единиц. Тогда дефицит составляет (900-446) + (900-382) = ***972***, что сопоставимо с количеством пропусков.\n",
    "\n",
    "Таким образом, можно заполнить пропуски значениями ***0*** (500 шт) и ***10*** (остальные прпуски) случайным образом, в нужных объемах."
   ]
  },
  {
   "cell_type": "markdown",
   "metadata": {},
   "source": [
    "Перед устранением пропусков, посмотрим описание данных всей таблицы и по отдельным срезам."
   ]
  },
  {
   "cell_type": "code",
   "execution_count": 26,
   "metadata": {},
   "outputs": [
    {
     "data": {
      "text/html": [
       "<div>\n",
       "<style scoped>\n",
       "    .dataframe tbody tr th:only-of-type {\n",
       "        vertical-align: middle;\n",
       "    }\n",
       "\n",
       "    .dataframe tbody tr th {\n",
       "        vertical-align: top;\n",
       "    }\n",
       "\n",
       "    .dataframe thead th {\n",
       "        text-align: right;\n",
       "    }\n",
       "</style>\n",
       "<table border=\"1\" class=\"dataframe\">\n",
       "  <thead>\n",
       "    <tr style=\"text-align: right;\">\n",
       "      <th></th>\n",
       "      <th>row_number</th>\n",
       "      <th>customer_id</th>\n",
       "      <th>credit_score</th>\n",
       "      <th>age</th>\n",
       "      <th>tenure</th>\n",
       "      <th>balance</th>\n",
       "      <th>num_of_products</th>\n",
       "      <th>has_cr_card</th>\n",
       "      <th>is_active_member</th>\n",
       "      <th>estimated_salary</th>\n",
       "      <th>exited</th>\n",
       "    </tr>\n",
       "  </thead>\n",
       "  <tbody>\n",
       "    <tr>\n",
       "      <th>count</th>\n",
       "      <td>10000.00000</td>\n",
       "      <td>1.000000e+04</td>\n",
       "      <td>10000.000000</td>\n",
       "      <td>10000.000000</td>\n",
       "      <td>9091.000000</td>\n",
       "      <td>10000.000000</td>\n",
       "      <td>10000.000000</td>\n",
       "      <td>10000.00000</td>\n",
       "      <td>10000.000000</td>\n",
       "      <td>10000.000000</td>\n",
       "      <td>10000.000000</td>\n",
       "    </tr>\n",
       "    <tr>\n",
       "      <th>mean</th>\n",
       "      <td>5000.50000</td>\n",
       "      <td>1.569094e+07</td>\n",
       "      <td>650.528800</td>\n",
       "      <td>38.921800</td>\n",
       "      <td>4.997690</td>\n",
       "      <td>76485.889288</td>\n",
       "      <td>1.530200</td>\n",
       "      <td>0.70550</td>\n",
       "      <td>0.515100</td>\n",
       "      <td>100090.239881</td>\n",
       "      <td>0.203700</td>\n",
       "    </tr>\n",
       "    <tr>\n",
       "      <th>std</th>\n",
       "      <td>2886.89568</td>\n",
       "      <td>7.193619e+04</td>\n",
       "      <td>96.653299</td>\n",
       "      <td>10.487806</td>\n",
       "      <td>2.894723</td>\n",
       "      <td>62397.405202</td>\n",
       "      <td>0.581654</td>\n",
       "      <td>0.45584</td>\n",
       "      <td>0.499797</td>\n",
       "      <td>57510.492818</td>\n",
       "      <td>0.402769</td>\n",
       "    </tr>\n",
       "    <tr>\n",
       "      <th>min</th>\n",
       "      <td>1.00000</td>\n",
       "      <td>1.556570e+07</td>\n",
       "      <td>350.000000</td>\n",
       "      <td>18.000000</td>\n",
       "      <td>0.000000</td>\n",
       "      <td>0.000000</td>\n",
       "      <td>1.000000</td>\n",
       "      <td>0.00000</td>\n",
       "      <td>0.000000</td>\n",
       "      <td>11.580000</td>\n",
       "      <td>0.000000</td>\n",
       "    </tr>\n",
       "    <tr>\n",
       "      <th>25%</th>\n",
       "      <td>2500.75000</td>\n",
       "      <td>1.562853e+07</td>\n",
       "      <td>584.000000</td>\n",
       "      <td>32.000000</td>\n",
       "      <td>2.000000</td>\n",
       "      <td>0.000000</td>\n",
       "      <td>1.000000</td>\n",
       "      <td>0.00000</td>\n",
       "      <td>0.000000</td>\n",
       "      <td>51002.110000</td>\n",
       "      <td>0.000000</td>\n",
       "    </tr>\n",
       "    <tr>\n",
       "      <th>50%</th>\n",
       "      <td>5000.50000</td>\n",
       "      <td>1.569074e+07</td>\n",
       "      <td>652.000000</td>\n",
       "      <td>37.000000</td>\n",
       "      <td>5.000000</td>\n",
       "      <td>97198.540000</td>\n",
       "      <td>1.000000</td>\n",
       "      <td>1.00000</td>\n",
       "      <td>1.000000</td>\n",
       "      <td>100193.915000</td>\n",
       "      <td>0.000000</td>\n",
       "    </tr>\n",
       "    <tr>\n",
       "      <th>75%</th>\n",
       "      <td>7500.25000</td>\n",
       "      <td>1.575323e+07</td>\n",
       "      <td>718.000000</td>\n",
       "      <td>44.000000</td>\n",
       "      <td>7.000000</td>\n",
       "      <td>127644.240000</td>\n",
       "      <td>2.000000</td>\n",
       "      <td>1.00000</td>\n",
       "      <td>1.000000</td>\n",
       "      <td>149388.247500</td>\n",
       "      <td>0.000000</td>\n",
       "    </tr>\n",
       "    <tr>\n",
       "      <th>max</th>\n",
       "      <td>10000.00000</td>\n",
       "      <td>1.581569e+07</td>\n",
       "      <td>850.000000</td>\n",
       "      <td>92.000000</td>\n",
       "      <td>10.000000</td>\n",
       "      <td>250898.090000</td>\n",
       "      <td>4.000000</td>\n",
       "      <td>1.00000</td>\n",
       "      <td>1.000000</td>\n",
       "      <td>199992.480000</td>\n",
       "      <td>1.000000</td>\n",
       "    </tr>\n",
       "  </tbody>\n",
       "</table>\n",
       "</div>"
      ],
      "text/plain": [
       "        row_number   customer_id  credit_score           age       tenure  \\\n",
       "count  10000.00000  1.000000e+04  10000.000000  10000.000000  9091.000000   \n",
       "mean    5000.50000  1.569094e+07    650.528800     38.921800     4.997690   \n",
       "std     2886.89568  7.193619e+04     96.653299     10.487806     2.894723   \n",
       "min        1.00000  1.556570e+07    350.000000     18.000000     0.000000   \n",
       "25%     2500.75000  1.562853e+07    584.000000     32.000000     2.000000   \n",
       "50%     5000.50000  1.569074e+07    652.000000     37.000000     5.000000   \n",
       "75%     7500.25000  1.575323e+07    718.000000     44.000000     7.000000   \n",
       "max    10000.00000  1.581569e+07    850.000000     92.000000    10.000000   \n",
       "\n",
       "             balance  num_of_products  has_cr_card  is_active_member  \\\n",
       "count   10000.000000     10000.000000  10000.00000      10000.000000   \n",
       "mean    76485.889288         1.530200      0.70550          0.515100   \n",
       "std     62397.405202         0.581654      0.45584          0.499797   \n",
       "min         0.000000         1.000000      0.00000          0.000000   \n",
       "25%         0.000000         1.000000      0.00000          0.000000   \n",
       "50%     97198.540000         1.000000      1.00000          1.000000   \n",
       "75%    127644.240000         2.000000      1.00000          1.000000   \n",
       "max    250898.090000         4.000000      1.00000          1.000000   \n",
       "\n",
       "       estimated_salary        exited  \n",
       "count      10000.000000  10000.000000  \n",
       "mean      100090.239881      0.203700  \n",
       "std        57510.492818      0.402769  \n",
       "min           11.580000      0.000000  \n",
       "25%        51002.110000      0.000000  \n",
       "50%       100193.915000      0.000000  \n",
       "75%       149388.247500      0.000000  \n",
       "max       199992.480000      1.000000  "
      ]
     },
     "execution_count": 26,
     "metadata": {},
     "output_type": "execute_result"
    }
   ],
   "source": [
    "df.describe() # весь датафрейм"
   ]
  },
  {
   "cell_type": "code",
   "execution_count": 27,
   "metadata": {},
   "outputs": [
    {
     "data": {
      "text/html": [
       "<div>\n",
       "<style scoped>\n",
       "    .dataframe tbody tr th:only-of-type {\n",
       "        vertical-align: middle;\n",
       "    }\n",
       "\n",
       "    .dataframe tbody tr th {\n",
       "        vertical-align: top;\n",
       "    }\n",
       "\n",
       "    .dataframe thead th {\n",
       "        text-align: right;\n",
       "    }\n",
       "</style>\n",
       "<table border=\"1\" class=\"dataframe\">\n",
       "  <thead>\n",
       "    <tr style=\"text-align: right;\">\n",
       "      <th></th>\n",
       "      <th>row_number</th>\n",
       "      <th>customer_id</th>\n",
       "      <th>credit_score</th>\n",
       "      <th>age</th>\n",
       "      <th>tenure</th>\n",
       "      <th>balance</th>\n",
       "      <th>num_of_products</th>\n",
       "      <th>has_cr_card</th>\n",
       "      <th>is_active_member</th>\n",
       "      <th>estimated_salary</th>\n",
       "      <th>exited</th>\n",
       "    </tr>\n",
       "  </thead>\n",
       "  <tbody>\n",
       "    <tr>\n",
       "      <th>count</th>\n",
       "      <td>909.000000</td>\n",
       "      <td>9.090000e+02</td>\n",
       "      <td>909.000000</td>\n",
       "      <td>909.000000</td>\n",
       "      <td>0.0</td>\n",
       "      <td>909.000000</td>\n",
       "      <td>909.000000</td>\n",
       "      <td>909.000000</td>\n",
       "      <td>909.000000</td>\n",
       "      <td>909.000000</td>\n",
       "      <td>909.000000</td>\n",
       "    </tr>\n",
       "    <tr>\n",
       "      <th>mean</th>\n",
       "      <td>4866.386139</td>\n",
       "      <td>1.568981e+07</td>\n",
       "      <td>648.451045</td>\n",
       "      <td>38.647965</td>\n",
       "      <td>NaN</td>\n",
       "      <td>76117.341474</td>\n",
       "      <td>1.530253</td>\n",
       "      <td>0.710671</td>\n",
       "      <td>0.510451</td>\n",
       "      <td>99180.389373</td>\n",
       "      <td>0.201320</td>\n",
       "    </tr>\n",
       "    <tr>\n",
       "      <th>std</th>\n",
       "      <td>2909.604343</td>\n",
       "      <td>7.511225e+04</td>\n",
       "      <td>99.079381</td>\n",
       "      <td>9.785438</td>\n",
       "      <td>NaN</td>\n",
       "      <td>63105.690715</td>\n",
       "      <td>0.588452</td>\n",
       "      <td>0.453701</td>\n",
       "      <td>0.500166</td>\n",
       "      <td>56378.063765</td>\n",
       "      <td>0.401207</td>\n",
       "    </tr>\n",
       "    <tr>\n",
       "      <th>min</th>\n",
       "      <td>31.000000</td>\n",
       "      <td>1.556581e+07</td>\n",
       "      <td>359.000000</td>\n",
       "      <td>18.000000</td>\n",
       "      <td>NaN</td>\n",
       "      <td>0.000000</td>\n",
       "      <td>1.000000</td>\n",
       "      <td>0.000000</td>\n",
       "      <td>0.000000</td>\n",
       "      <td>106.670000</td>\n",
       "      <td>0.000000</td>\n",
       "    </tr>\n",
       "    <tr>\n",
       "      <th>25%</th>\n",
       "      <td>2311.000000</td>\n",
       "      <td>1.562658e+07</td>\n",
       "      <td>580.000000</td>\n",
       "      <td>32.000000</td>\n",
       "      <td>NaN</td>\n",
       "      <td>0.000000</td>\n",
       "      <td>1.000000</td>\n",
       "      <td>0.000000</td>\n",
       "      <td>0.000000</td>\n",
       "      <td>49872.330000</td>\n",
       "      <td>0.000000</td>\n",
       "    </tr>\n",
       "    <tr>\n",
       "      <th>50%</th>\n",
       "      <td>4887.000000</td>\n",
       "      <td>1.568687e+07</td>\n",
       "      <td>647.000000</td>\n",
       "      <td>37.000000</td>\n",
       "      <td>NaN</td>\n",
       "      <td>96674.550000</td>\n",
       "      <td>1.000000</td>\n",
       "      <td>1.000000</td>\n",
       "      <td>1.000000</td>\n",
       "      <td>99444.020000</td>\n",
       "      <td>0.000000</td>\n",
       "    </tr>\n",
       "    <tr>\n",
       "      <th>75%</th>\n",
       "      <td>7306.000000</td>\n",
       "      <td>1.575680e+07</td>\n",
       "      <td>718.000000</td>\n",
       "      <td>43.000000</td>\n",
       "      <td>NaN</td>\n",
       "      <td>128554.980000</td>\n",
       "      <td>2.000000</td>\n",
       "      <td>1.000000</td>\n",
       "      <td>1.000000</td>\n",
       "      <td>145759.700000</td>\n",
       "      <td>0.000000</td>\n",
       "    </tr>\n",
       "    <tr>\n",
       "      <th>max</th>\n",
       "      <td>10000.000000</td>\n",
       "      <td>1.581569e+07</td>\n",
       "      <td>850.000000</td>\n",
       "      <td>92.000000</td>\n",
       "      <td>NaN</td>\n",
       "      <td>206663.750000</td>\n",
       "      <td>4.000000</td>\n",
       "      <td>1.000000</td>\n",
       "      <td>1.000000</td>\n",
       "      <td>199390.450000</td>\n",
       "      <td>1.000000</td>\n",
       "    </tr>\n",
       "  </tbody>\n",
       "</table>\n",
       "</div>"
      ],
      "text/plain": [
       "         row_number   customer_id  credit_score         age  tenure  \\\n",
       "count    909.000000  9.090000e+02    909.000000  909.000000     0.0   \n",
       "mean    4866.386139  1.568981e+07    648.451045   38.647965     NaN   \n",
       "std     2909.604343  7.511225e+04     99.079381    9.785438     NaN   \n",
       "min       31.000000  1.556581e+07    359.000000   18.000000     NaN   \n",
       "25%     2311.000000  1.562658e+07    580.000000   32.000000     NaN   \n",
       "50%     4887.000000  1.568687e+07    647.000000   37.000000     NaN   \n",
       "75%     7306.000000  1.575680e+07    718.000000   43.000000     NaN   \n",
       "max    10000.000000  1.581569e+07    850.000000   92.000000     NaN   \n",
       "\n",
       "             balance  num_of_products  has_cr_card  is_active_member  \\\n",
       "count     909.000000       909.000000   909.000000        909.000000   \n",
       "mean    76117.341474         1.530253     0.710671          0.510451   \n",
       "std     63105.690715         0.588452     0.453701          0.500166   \n",
       "min         0.000000         1.000000     0.000000          0.000000   \n",
       "25%         0.000000         1.000000     0.000000          0.000000   \n",
       "50%     96674.550000         1.000000     1.000000          1.000000   \n",
       "75%    128554.980000         2.000000     1.000000          1.000000   \n",
       "max    206663.750000         4.000000     1.000000          1.000000   \n",
       "\n",
       "       estimated_salary      exited  \n",
       "count        909.000000  909.000000  \n",
       "mean       99180.389373    0.201320  \n",
       "std        56378.063765    0.401207  \n",
       "min          106.670000    0.000000  \n",
       "25%        49872.330000    0.000000  \n",
       "50%        99444.020000    0.000000  \n",
       "75%       145759.700000    0.000000  \n",
       "max       199390.450000    1.000000  "
      ]
     },
     "execution_count": 27,
     "metadata": {},
     "output_type": "execute_result"
    }
   ],
   "source": [
    "df.query('tenure.isna()').describe() # строки с пропусками в 'tenure'"
   ]
  },
  {
   "cell_type": "code",
   "execution_count": 28,
   "metadata": {},
   "outputs": [
    {
     "data": {
      "text/html": [
       "<div>\n",
       "<style scoped>\n",
       "    .dataframe tbody tr th:only-of-type {\n",
       "        vertical-align: middle;\n",
       "    }\n",
       "\n",
       "    .dataframe tbody tr th {\n",
       "        vertical-align: top;\n",
       "    }\n",
       "\n",
       "    .dataframe thead th {\n",
       "        text-align: right;\n",
       "    }\n",
       "</style>\n",
       "<table border=\"1\" class=\"dataframe\">\n",
       "  <thead>\n",
       "    <tr style=\"text-align: right;\">\n",
       "      <th></th>\n",
       "      <th>row_number</th>\n",
       "      <th>customer_id</th>\n",
       "      <th>credit_score</th>\n",
       "      <th>age</th>\n",
       "      <th>tenure</th>\n",
       "      <th>balance</th>\n",
       "      <th>num_of_products</th>\n",
       "      <th>has_cr_card</th>\n",
       "      <th>is_active_member</th>\n",
       "      <th>estimated_salary</th>\n",
       "      <th>exited</th>\n",
       "    </tr>\n",
       "  </thead>\n",
       "  <tbody>\n",
       "    <tr>\n",
       "      <th>count</th>\n",
       "      <td>382.000000</td>\n",
       "      <td>3.820000e+02</td>\n",
       "      <td>382.000000</td>\n",
       "      <td>382.000000</td>\n",
       "      <td>382.0</td>\n",
       "      <td>382.000000</td>\n",
       "      <td>382.000000</td>\n",
       "      <td>382.000000</td>\n",
       "      <td>382.000000</td>\n",
       "      <td>382.000000</td>\n",
       "      <td>382.000000</td>\n",
       "    </tr>\n",
       "    <tr>\n",
       "      <th>mean</th>\n",
       "      <td>5089.172775</td>\n",
       "      <td>1.569618e+07</td>\n",
       "      <td>651.913613</td>\n",
       "      <td>39.306283</td>\n",
       "      <td>0.0</td>\n",
       "      <td>80135.307277</td>\n",
       "      <td>1.437173</td>\n",
       "      <td>0.651832</td>\n",
       "      <td>0.531414</td>\n",
       "      <td>99565.395157</td>\n",
       "      <td>0.235602</td>\n",
       "    </tr>\n",
       "    <tr>\n",
       "      <th>std</th>\n",
       "      <td>2821.087244</td>\n",
       "      <td>7.187497e+04</td>\n",
       "      <td>95.741781</td>\n",
       "      <td>10.418181</td>\n",
       "      <td>0.0</td>\n",
       "      <td>62233.212461</td>\n",
       "      <td>0.522442</td>\n",
       "      <td>0.477014</td>\n",
       "      <td>0.499667</td>\n",
       "      <td>57360.554103</td>\n",
       "      <td>0.424931</td>\n",
       "    </tr>\n",
       "    <tr>\n",
       "      <th>min</th>\n",
       "      <td>30.000000</td>\n",
       "      <td>1.556647e+07</td>\n",
       "      <td>350.000000</td>\n",
       "      <td>19.000000</td>\n",
       "      <td>0.0</td>\n",
       "      <td>0.000000</td>\n",
       "      <td>1.000000</td>\n",
       "      <td>0.000000</td>\n",
       "      <td>0.000000</td>\n",
       "      <td>332.810000</td>\n",
       "      <td>0.000000</td>\n",
       "    </tr>\n",
       "    <tr>\n",
       "      <th>25%</th>\n",
       "      <td>2626.750000</td>\n",
       "      <td>1.563546e+07</td>\n",
       "      <td>592.250000</td>\n",
       "      <td>32.000000</td>\n",
       "      <td>0.0</td>\n",
       "      <td>0.000000</td>\n",
       "      <td>1.000000</td>\n",
       "      <td>0.000000</td>\n",
       "      <td>0.000000</td>\n",
       "      <td>47574.687500</td>\n",
       "      <td>0.000000</td>\n",
       "    </tr>\n",
       "    <tr>\n",
       "      <th>50%</th>\n",
       "      <td>5107.500000</td>\n",
       "      <td>1.569641e+07</td>\n",
       "      <td>653.000000</td>\n",
       "      <td>38.000000</td>\n",
       "      <td>0.0</td>\n",
       "      <td>101050.445000</td>\n",
       "      <td>1.000000</td>\n",
       "      <td>1.000000</td>\n",
       "      <td>1.000000</td>\n",
       "      <td>102160.510000</td>\n",
       "      <td>0.000000</td>\n",
       "    </tr>\n",
       "    <tr>\n",
       "      <th>75%</th>\n",
       "      <td>7503.500000</td>\n",
       "      <td>1.575880e+07</td>\n",
       "      <td>714.750000</td>\n",
       "      <td>44.750000</td>\n",
       "      <td>0.0</td>\n",
       "      <td>129638.762500</td>\n",
       "      <td>2.000000</td>\n",
       "      <td>1.000000</td>\n",
       "      <td>1.000000</td>\n",
       "      <td>149577.825000</td>\n",
       "      <td>0.000000</td>\n",
       "    </tr>\n",
       "    <tr>\n",
       "      <th>max</th>\n",
       "      <td>9920.000000</td>\n",
       "      <td>1.581553e+07</td>\n",
       "      <td>850.000000</td>\n",
       "      <td>79.000000</td>\n",
       "      <td>0.0</td>\n",
       "      <td>197041.800000</td>\n",
       "      <td>3.000000</td>\n",
       "      <td>1.000000</td>\n",
       "      <td>1.000000</td>\n",
       "      <td>199478.050000</td>\n",
       "      <td>1.000000</td>\n",
       "    </tr>\n",
       "  </tbody>\n",
       "</table>\n",
       "</div>"
      ],
      "text/plain": [
       "        row_number   customer_id  credit_score         age  tenure  \\\n",
       "count   382.000000  3.820000e+02    382.000000  382.000000   382.0   \n",
       "mean   5089.172775  1.569618e+07    651.913613   39.306283     0.0   \n",
       "std    2821.087244  7.187497e+04     95.741781   10.418181     0.0   \n",
       "min      30.000000  1.556647e+07    350.000000   19.000000     0.0   \n",
       "25%    2626.750000  1.563546e+07    592.250000   32.000000     0.0   \n",
       "50%    5107.500000  1.569641e+07    653.000000   38.000000     0.0   \n",
       "75%    7503.500000  1.575880e+07    714.750000   44.750000     0.0   \n",
       "max    9920.000000  1.581553e+07    850.000000   79.000000     0.0   \n",
       "\n",
       "             balance  num_of_products  has_cr_card  is_active_member  \\\n",
       "count     382.000000       382.000000   382.000000        382.000000   \n",
       "mean    80135.307277         1.437173     0.651832          0.531414   \n",
       "std     62233.212461         0.522442     0.477014          0.499667   \n",
       "min         0.000000         1.000000     0.000000          0.000000   \n",
       "25%         0.000000         1.000000     0.000000          0.000000   \n",
       "50%    101050.445000         1.000000     1.000000          1.000000   \n",
       "75%    129638.762500         2.000000     1.000000          1.000000   \n",
       "max    197041.800000         3.000000     1.000000          1.000000   \n",
       "\n",
       "       estimated_salary      exited  \n",
       "count        382.000000  382.000000  \n",
       "mean       99565.395157    0.235602  \n",
       "std        57360.554103    0.424931  \n",
       "min          332.810000    0.000000  \n",
       "25%        47574.687500    0.000000  \n",
       "50%       102160.510000    0.000000  \n",
       "75%       149577.825000    0.000000  \n",
       "max       199478.050000    1.000000  "
      ]
     },
     "execution_count": 28,
     "metadata": {},
     "output_type": "execute_result"
    }
   ],
   "source": [
    "df.query('tenure == 0').describe() # строки с нулями в 'tenure'"
   ]
  },
  {
   "cell_type": "code",
   "execution_count": 29,
   "metadata": {},
   "outputs": [
    {
     "data": {
      "text/html": [
       "<div>\n",
       "<style scoped>\n",
       "    .dataframe tbody tr th:only-of-type {\n",
       "        vertical-align: middle;\n",
       "    }\n",
       "\n",
       "    .dataframe tbody tr th {\n",
       "        vertical-align: top;\n",
       "    }\n",
       "\n",
       "    .dataframe thead th {\n",
       "        text-align: right;\n",
       "    }\n",
       "</style>\n",
       "<table border=\"1\" class=\"dataframe\">\n",
       "  <thead>\n",
       "    <tr style=\"text-align: right;\">\n",
       "      <th></th>\n",
       "      <th>row_number</th>\n",
       "      <th>customer_id</th>\n",
       "      <th>credit_score</th>\n",
       "      <th>age</th>\n",
       "      <th>tenure</th>\n",
       "      <th>balance</th>\n",
       "      <th>num_of_products</th>\n",
       "      <th>has_cr_card</th>\n",
       "      <th>is_active_member</th>\n",
       "      <th>estimated_salary</th>\n",
       "      <th>exited</th>\n",
       "    </tr>\n",
       "  </thead>\n",
       "  <tbody>\n",
       "    <tr>\n",
       "      <th>count</th>\n",
       "      <td>446.000000</td>\n",
       "      <td>4.460000e+02</td>\n",
       "      <td>446.000000</td>\n",
       "      <td>446.000000</td>\n",
       "      <td>446.0</td>\n",
       "      <td>446.000000</td>\n",
       "      <td>446.00000</td>\n",
       "      <td>446.000000</td>\n",
       "      <td>446.000000</td>\n",
       "      <td>446.000000</td>\n",
       "      <td>446.000000</td>\n",
       "    </tr>\n",
       "    <tr>\n",
       "      <th>mean</th>\n",
       "      <td>5176.634529</td>\n",
       "      <td>1.569081e+07</td>\n",
       "      <td>651.670404</td>\n",
       "      <td>39.195067</td>\n",
       "      <td>10.0</td>\n",
       "      <td>73580.495964</td>\n",
       "      <td>1.56278</td>\n",
       "      <td>0.708520</td>\n",
       "      <td>0.515695</td>\n",
       "      <td>102841.772040</td>\n",
       "      <td>0.206278</td>\n",
       "    </tr>\n",
       "    <tr>\n",
       "      <th>std</th>\n",
       "      <td>3000.955284</td>\n",
       "      <td>6.997167e+04</td>\n",
       "      <td>97.139475</td>\n",
       "      <td>10.922817</td>\n",
       "      <td>0.0</td>\n",
       "      <td>60388.092662</td>\n",
       "      <td>0.61029</td>\n",
       "      <td>0.454954</td>\n",
       "      <td>0.500315</td>\n",
       "      <td>56672.191811</td>\n",
       "      <td>0.405087</td>\n",
       "    </tr>\n",
       "    <tr>\n",
       "      <th>min</th>\n",
       "      <td>13.000000</td>\n",
       "      <td>1.556580e+07</td>\n",
       "      <td>350.000000</td>\n",
       "      <td>18.000000</td>\n",
       "      <td>10.0</td>\n",
       "      <td>0.000000</td>\n",
       "      <td>1.00000</td>\n",
       "      <td>0.000000</td>\n",
       "      <td>0.000000</td>\n",
       "      <td>123.070000</td>\n",
       "      <td>0.000000</td>\n",
       "    </tr>\n",
       "    <tr>\n",
       "      <th>25%</th>\n",
       "      <td>2691.500000</td>\n",
       "      <td>1.563047e+07</td>\n",
       "      <td>586.250000</td>\n",
       "      <td>32.000000</td>\n",
       "      <td>10.0</td>\n",
       "      <td>0.000000</td>\n",
       "      <td>1.00000</td>\n",
       "      <td>0.000000</td>\n",
       "      <td>0.000000</td>\n",
       "      <td>53353.340000</td>\n",
       "      <td>0.000000</td>\n",
       "    </tr>\n",
       "    <tr>\n",
       "      <th>50%</th>\n",
       "      <td>5158.500000</td>\n",
       "      <td>1.569292e+07</td>\n",
       "      <td>651.500000</td>\n",
       "      <td>38.000000</td>\n",
       "      <td>10.0</td>\n",
       "      <td>92327.835000</td>\n",
       "      <td>2.00000</td>\n",
       "      <td>1.000000</td>\n",
       "      <td>1.000000</td>\n",
       "      <td>101505.860000</td>\n",
       "      <td>0.000000</td>\n",
       "    </tr>\n",
       "    <tr>\n",
       "      <th>75%</th>\n",
       "      <td>7867.000000</td>\n",
       "      <td>1.575041e+07</td>\n",
       "      <td>720.000000</td>\n",
       "      <td>44.000000</td>\n",
       "      <td>10.0</td>\n",
       "      <td>123729.105000</td>\n",
       "      <td>2.00000</td>\n",
       "      <td>1.000000</td>\n",
       "      <td>1.000000</td>\n",
       "      <td>149669.367500</td>\n",
       "      <td>0.000000</td>\n",
       "    </tr>\n",
       "    <tr>\n",
       "      <th>max</th>\n",
       "      <td>9997.000000</td>\n",
       "      <td>1.581553e+07</td>\n",
       "      <td>850.000000</td>\n",
       "      <td>88.000000</td>\n",
       "      <td>10.0</td>\n",
       "      <td>200724.960000</td>\n",
       "      <td>4.00000</td>\n",
       "      <td>1.000000</td>\n",
       "      <td>1.000000</td>\n",
       "      <td>199775.670000</td>\n",
       "      <td>1.000000</td>\n",
       "    </tr>\n",
       "  </tbody>\n",
       "</table>\n",
       "</div>"
      ],
      "text/plain": [
       "        row_number   customer_id  credit_score         age  tenure  \\\n",
       "count   446.000000  4.460000e+02    446.000000  446.000000   446.0   \n",
       "mean   5176.634529  1.569081e+07    651.670404   39.195067    10.0   \n",
       "std    3000.955284  6.997167e+04     97.139475   10.922817     0.0   \n",
       "min      13.000000  1.556580e+07    350.000000   18.000000    10.0   \n",
       "25%    2691.500000  1.563047e+07    586.250000   32.000000    10.0   \n",
       "50%    5158.500000  1.569292e+07    651.500000   38.000000    10.0   \n",
       "75%    7867.000000  1.575041e+07    720.000000   44.000000    10.0   \n",
       "max    9997.000000  1.581553e+07    850.000000   88.000000    10.0   \n",
       "\n",
       "             balance  num_of_products  has_cr_card  is_active_member  \\\n",
       "count     446.000000        446.00000   446.000000        446.000000   \n",
       "mean    73580.495964          1.56278     0.708520          0.515695   \n",
       "std     60388.092662          0.61029     0.454954          0.500315   \n",
       "min         0.000000          1.00000     0.000000          0.000000   \n",
       "25%         0.000000          1.00000     0.000000          0.000000   \n",
       "50%     92327.835000          2.00000     1.000000          1.000000   \n",
       "75%    123729.105000          2.00000     1.000000          1.000000   \n",
       "max    200724.960000          4.00000     1.000000          1.000000   \n",
       "\n",
       "       estimated_salary      exited  \n",
       "count        446.000000  446.000000  \n",
       "mean      102841.772040    0.206278  \n",
       "std        56672.191811    0.405087  \n",
       "min          123.070000    0.000000  \n",
       "25%        53353.340000    0.000000  \n",
       "50%       101505.860000    0.000000  \n",
       "75%       149669.367500    0.000000  \n",
       "max       199775.670000    1.000000  "
      ]
     },
     "execution_count": 29,
     "metadata": {},
     "output_type": "execute_result"
    }
   ],
   "source": [
    "df.query('tenure == 10').describe() # строки с десятками в 'tenure'"
   ]
  },
  {
   "cell_type": "code",
   "execution_count": 30,
   "metadata": {},
   "outputs": [
    {
     "data": {
      "text/plain": [
       "1.0     952\n",
       "2.0     950\n",
       "8.0     933\n",
       "3.0     928\n",
       "5.0     927\n",
       "7.0     925\n",
       "4.0     885\n",
       "9.0     882\n",
       "6.0     881\n",
       "10.0    446\n",
       "0.0     382\n",
       "Name: tenure, dtype: int64"
      ]
     },
     "execution_count": 30,
     "metadata": {},
     "output_type": "execute_result"
    }
   ],
   "source": [
    "df.tenure.value_counts()"
   ]
  },
  {
   "cell_type": "code",
   "execution_count": 31,
   "metadata": {},
   "outputs": [],
   "source": [
    "# Убираем пропуски\n",
    "\n",
    "df.tenure = df.tenure.mask(df.tenure.isna(),\n",
    "                           np.random.uniform(1, 10, size=len(df.tenure)).round())"
   ]
  },
  {
   "cell_type": "code",
   "execution_count": 32,
   "metadata": {},
   "outputs": [
    {
     "data": {
      "text/plain": [
       "2.0     1061\n",
       "3.0     1043\n",
       "8.0     1041\n",
       "7.0     1041\n",
       "5.0     1013\n",
       "1.0     1009\n",
       "4.0      979\n",
       "9.0      976\n",
       "6.0      963\n",
       "10.0     492\n",
       "0.0      382\n",
       "Name: tenure, dtype: int64"
      ]
     },
     "execution_count": 32,
     "metadata": {},
     "output_type": "execute_result"
    }
   ],
   "source": [
    "df.tenure.value_counts()"
   ]
  },
  {
   "cell_type": "code",
   "execution_count": 33,
   "metadata": {},
   "outputs": [
    {
     "data": {
      "image/png": "[encoded data removed]",
      "text/plain": [
       "<Figure size 640x480 with 1 Axes>"
      ]
     },
     "metadata": {},
     "output_type": "display_data"
    }
   ],
   "source": [
    "df.tenure.value_counts().plot.bar() # смотрим распределение после заполнения\n",
    "plt.title('распределение tenure после заполнения')\n",
    "plt.xlabel('tenure')\n",
    "plt.ylabel('count')\n",
    "None"
   ]
  },
  {
   "cell_type": "markdown",
   "metadata": {},
   "source": [
    "Распределение принципиально не изменилось."
   ]
  },
  {
   "cell_type": "code",
   "execution_count": 34,
   "metadata": {},
   "outputs": [
    {
     "data": {
      "text/html": [
       "<div>\n",
       "<style scoped>\n",
       "    .dataframe tbody tr th:only-of-type {\n",
       "        vertical-align: middle;\n",
       "    }\n",
       "\n",
       "    .dataframe tbody tr th {\n",
       "        vertical-align: top;\n",
       "    }\n",
       "\n",
       "    .dataframe thead th {\n",
       "        text-align: right;\n",
       "    }\n",
       "</style>\n",
       "<table border=\"1\" class=\"dataframe\">\n",
       "  <thead>\n",
       "    <tr style=\"text-align: right;\">\n",
       "      <th></th>\n",
       "      <th>row_number</th>\n",
       "      <th>customer_id</th>\n",
       "      <th>credit_score</th>\n",
       "      <th>age</th>\n",
       "      <th>tenure</th>\n",
       "      <th>balance</th>\n",
       "      <th>num_of_products</th>\n",
       "      <th>has_cr_card</th>\n",
       "      <th>is_active_member</th>\n",
       "      <th>estimated_salary</th>\n",
       "      <th>exited</th>\n",
       "    </tr>\n",
       "  </thead>\n",
       "  <tbody>\n",
       "    <tr>\n",
       "      <th>count</th>\n",
       "      <td>382.000000</td>\n",
       "      <td>3.820000e+02</td>\n",
       "      <td>382.000000</td>\n",
       "      <td>382.000000</td>\n",
       "      <td>382.0</td>\n",
       "      <td>382.000000</td>\n",
       "      <td>382.000000</td>\n",
       "      <td>382.000000</td>\n",
       "      <td>382.000000</td>\n",
       "      <td>382.000000</td>\n",
       "      <td>382.000000</td>\n",
       "    </tr>\n",
       "    <tr>\n",
       "      <th>mean</th>\n",
       "      <td>5089.172775</td>\n",
       "      <td>1.569618e+07</td>\n",
       "      <td>651.913613</td>\n",
       "      <td>39.306283</td>\n",
       "      <td>0.0</td>\n",
       "      <td>80135.307277</td>\n",
       "      <td>1.437173</td>\n",
       "      <td>0.651832</td>\n",
       "      <td>0.531414</td>\n",
       "      <td>99565.395157</td>\n",
       "      <td>0.235602</td>\n",
       "    </tr>\n",
       "    <tr>\n",
       "      <th>std</th>\n",
       "      <td>2821.087244</td>\n",
       "      <td>7.187497e+04</td>\n",
       "      <td>95.741781</td>\n",
       "      <td>10.418181</td>\n",
       "      <td>0.0</td>\n",
       "      <td>62233.212461</td>\n",
       "      <td>0.522442</td>\n",
       "      <td>0.477014</td>\n",
       "      <td>0.499667</td>\n",
       "      <td>57360.554103</td>\n",
       "      <td>0.424931</td>\n",
       "    </tr>\n",
       "    <tr>\n",
       "      <th>min</th>\n",
       "      <td>30.000000</td>\n",
       "      <td>1.556647e+07</td>\n",
       "      <td>350.000000</td>\n",
       "      <td>19.000000</td>\n",
       "      <td>0.0</td>\n",
       "      <td>0.000000</td>\n",
       "      <td>1.000000</td>\n",
       "      <td>0.000000</td>\n",
       "      <td>0.000000</td>\n",
       "      <td>332.810000</td>\n",
       "      <td>0.000000</td>\n",
       "    </tr>\n",
       "    <tr>\n",
       "      <th>25%</th>\n",
       "      <td>2626.750000</td>\n",
       "      <td>1.563546e+07</td>\n",
       "      <td>592.250000</td>\n",
       "      <td>32.000000</td>\n",
       "      <td>0.0</td>\n",
       "      <td>0.000000</td>\n",
       "      <td>1.000000</td>\n",
       "      <td>0.000000</td>\n",
       "      <td>0.000000</td>\n",
       "      <td>47574.687500</td>\n",
       "      <td>0.000000</td>\n",
       "    </tr>\n",
       "    <tr>\n",
       "      <th>50%</th>\n",
       "      <td>5107.500000</td>\n",
       "      <td>1.569641e+07</td>\n",
       "      <td>653.000000</td>\n",
       "      <td>38.000000</td>\n",
       "      <td>0.0</td>\n",
       "      <td>101050.445000</td>\n",
       "      <td>1.000000</td>\n",
       "      <td>1.000000</td>\n",
       "      <td>1.000000</td>\n",
       "      <td>102160.510000</td>\n",
       "      <td>0.000000</td>\n",
       "    </tr>\n",
       "    <tr>\n",
       "      <th>75%</th>\n",
       "      <td>7503.500000</td>\n",
       "      <td>1.575880e+07</td>\n",
       "      <td>714.750000</td>\n",
       "      <td>44.750000</td>\n",
       "      <td>0.0</td>\n",
       "      <td>129638.762500</td>\n",
       "      <td>2.000000</td>\n",
       "      <td>1.000000</td>\n",
       "      <td>1.000000</td>\n",
       "      <td>149577.825000</td>\n",
       "      <td>0.000000</td>\n",
       "    </tr>\n",
       "    <tr>\n",
       "      <th>max</th>\n",
       "      <td>9920.000000</td>\n",
       "      <td>1.581553e+07</td>\n",
       "      <td>850.000000</td>\n",
       "      <td>79.000000</td>\n",
       "      <td>0.0</td>\n",
       "      <td>197041.800000</td>\n",
       "      <td>3.000000</td>\n",
       "      <td>1.000000</td>\n",
       "      <td>1.000000</td>\n",
       "      <td>199478.050000</td>\n",
       "      <td>1.000000</td>\n",
       "    </tr>\n",
       "  </tbody>\n",
       "</table>\n",
       "</div>"
      ],
      "text/plain": [
       "        row_number   customer_id  credit_score         age  tenure  \\\n",
       "count   382.000000  3.820000e+02    382.000000  382.000000   382.0   \n",
       "mean   5089.172775  1.569618e+07    651.913613   39.306283     0.0   \n",
       "std    2821.087244  7.187497e+04     95.741781   10.418181     0.0   \n",
       "min      30.000000  1.556647e+07    350.000000   19.000000     0.0   \n",
       "25%    2626.750000  1.563546e+07    592.250000   32.000000     0.0   \n",
       "50%    5107.500000  1.569641e+07    653.000000   38.000000     0.0   \n",
       "75%    7503.500000  1.575880e+07    714.750000   44.750000     0.0   \n",
       "max    9920.000000  1.581553e+07    850.000000   79.000000     0.0   \n",
       "\n",
       "             balance  num_of_products  has_cr_card  is_active_member  \\\n",
       "count     382.000000       382.000000   382.000000        382.000000   \n",
       "mean    80135.307277         1.437173     0.651832          0.531414   \n",
       "std     62233.212461         0.522442     0.477014          0.499667   \n",
       "min         0.000000         1.000000     0.000000          0.000000   \n",
       "25%         0.000000         1.000000     0.000000          0.000000   \n",
       "50%    101050.445000         1.000000     1.000000          1.000000   \n",
       "75%    129638.762500         2.000000     1.000000          1.000000   \n",
       "max    197041.800000         3.000000     1.000000          1.000000   \n",
       "\n",
       "       estimated_salary      exited  \n",
       "count        382.000000  382.000000  \n",
       "mean       99565.395157    0.235602  \n",
       "std        57360.554103    0.424931  \n",
       "min          332.810000    0.000000  \n",
       "25%        47574.687500    0.000000  \n",
       "50%       102160.510000    0.000000  \n",
       "75%       149577.825000    0.000000  \n",
       "max       199478.050000    1.000000  "
      ]
     },
     "execution_count": 34,
     "metadata": {},
     "output_type": "execute_result"
    }
   ],
   "source": [
    "df.query('tenure == 0').describe()"
   ]
  },
  {
   "cell_type": "code",
   "execution_count": 35,
   "metadata": {},
   "outputs": [
    {
     "data": {
      "text/html": [
       "<div>\n",
       "<style scoped>\n",
       "    .dataframe tbody tr th:only-of-type {\n",
       "        vertical-align: middle;\n",
       "    }\n",
       "\n",
       "    .dataframe tbody tr th {\n",
       "        vertical-align: top;\n",
       "    }\n",
       "\n",
       "    .dataframe thead th {\n",
       "        text-align: right;\n",
       "    }\n",
       "</style>\n",
       "<table border=\"1\" class=\"dataframe\">\n",
       "  <thead>\n",
       "    <tr style=\"text-align: right;\">\n",
       "      <th></th>\n",
       "      <th>row_number</th>\n",
       "      <th>customer_id</th>\n",
       "      <th>credit_score</th>\n",
       "      <th>age</th>\n",
       "      <th>tenure</th>\n",
       "      <th>balance</th>\n",
       "      <th>num_of_products</th>\n",
       "      <th>has_cr_card</th>\n",
       "      <th>is_active_member</th>\n",
       "      <th>estimated_salary</th>\n",
       "      <th>exited</th>\n",
       "    </tr>\n",
       "  </thead>\n",
       "  <tbody>\n",
       "    <tr>\n",
       "      <th>count</th>\n",
       "      <td>492.000000</td>\n",
       "      <td>4.920000e+02</td>\n",
       "      <td>492.000000</td>\n",
       "      <td>492.000000</td>\n",
       "      <td>492.0</td>\n",
       "      <td>492.000000</td>\n",
       "      <td>492.000000</td>\n",
       "      <td>492.000000</td>\n",
       "      <td>492.000000</td>\n",
       "      <td>492.000000</td>\n",
       "      <td>492.000000</td>\n",
       "    </tr>\n",
       "    <tr>\n",
       "      <th>mean</th>\n",
       "      <td>5186.762195</td>\n",
       "      <td>1.568931e+07</td>\n",
       "      <td>652.264228</td>\n",
       "      <td>39.103659</td>\n",
       "      <td>10.0</td>\n",
       "      <td>74961.265996</td>\n",
       "      <td>1.558943</td>\n",
       "      <td>0.701220</td>\n",
       "      <td>0.518293</td>\n",
       "      <td>103497.397561</td>\n",
       "      <td>0.203252</td>\n",
       "    </tr>\n",
       "    <tr>\n",
       "      <th>std</th>\n",
       "      <td>2990.586128</td>\n",
       "      <td>7.024262e+04</td>\n",
       "      <td>99.526861</td>\n",
       "      <td>10.860879</td>\n",
       "      <td>0.0</td>\n",
       "      <td>61297.649261</td>\n",
       "      <td>0.607641</td>\n",
       "      <td>0.458189</td>\n",
       "      <td>0.500174</td>\n",
       "      <td>56424.767489</td>\n",
       "      <td>0.402828</td>\n",
       "    </tr>\n",
       "    <tr>\n",
       "      <th>min</th>\n",
       "      <td>13.000000</td>\n",
       "      <td>1.556580e+07</td>\n",
       "      <td>350.000000</td>\n",
       "      <td>18.000000</td>\n",
       "      <td>10.0</td>\n",
       "      <td>0.000000</td>\n",
       "      <td>1.000000</td>\n",
       "      <td>0.000000</td>\n",
       "      <td>0.000000</td>\n",
       "      <td>123.070000</td>\n",
       "      <td>0.000000</td>\n",
       "    </tr>\n",
       "    <tr>\n",
       "      <th>25%</th>\n",
       "      <td>2678.750000</td>\n",
       "      <td>1.562874e+07</td>\n",
       "      <td>583.000000</td>\n",
       "      <td>32.000000</td>\n",
       "      <td>10.0</td>\n",
       "      <td>0.000000</td>\n",
       "      <td>1.000000</td>\n",
       "      <td>0.000000</td>\n",
       "      <td>0.000000</td>\n",
       "      <td>54067.832500</td>\n",
       "      <td>0.000000</td>\n",
       "    </tr>\n",
       "    <tr>\n",
       "      <th>50%</th>\n",
       "      <td>5186.000000</td>\n",
       "      <td>1.569072e+07</td>\n",
       "      <td>649.500000</td>\n",
       "      <td>38.000000</td>\n",
       "      <td>10.0</td>\n",
       "      <td>95103.030000</td>\n",
       "      <td>2.000000</td>\n",
       "      <td>1.000000</td>\n",
       "      <td>1.000000</td>\n",
       "      <td>102387.790000</td>\n",
       "      <td>0.000000</td>\n",
       "    </tr>\n",
       "    <tr>\n",
       "      <th>75%</th>\n",
       "      <td>7855.000000</td>\n",
       "      <td>1.574901e+07</td>\n",
       "      <td>723.250000</td>\n",
       "      <td>44.000000</td>\n",
       "      <td>10.0</td>\n",
       "      <td>124671.597500</td>\n",
       "      <td>2.000000</td>\n",
       "      <td>1.000000</td>\n",
       "      <td>1.000000</td>\n",
       "      <td>150938.477500</td>\n",
       "      <td>0.000000</td>\n",
       "    </tr>\n",
       "    <tr>\n",
       "      <th>max</th>\n",
       "      <td>9997.000000</td>\n",
       "      <td>1.581553e+07</td>\n",
       "      <td>850.000000</td>\n",
       "      <td>88.000000</td>\n",
       "      <td>10.0</td>\n",
       "      <td>206663.750000</td>\n",
       "      <td>4.000000</td>\n",
       "      <td>1.000000</td>\n",
       "      <td>1.000000</td>\n",
       "      <td>199775.670000</td>\n",
       "      <td>1.000000</td>\n",
       "    </tr>\n",
       "  </tbody>\n",
       "</table>\n",
       "</div>"
      ],
      "text/plain": [
       "        row_number   customer_id  credit_score         age  tenure  \\\n",
       "count   492.000000  4.920000e+02    492.000000  492.000000   492.0   \n",
       "mean   5186.762195  1.568931e+07    652.264228   39.103659    10.0   \n",
       "std    2990.586128  7.024262e+04     99.526861   10.860879     0.0   \n",
       "min      13.000000  1.556580e+07    350.000000   18.000000    10.0   \n",
       "25%    2678.750000  1.562874e+07    583.000000   32.000000    10.0   \n",
       "50%    5186.000000  1.569072e+07    649.500000   38.000000    10.0   \n",
       "75%    7855.000000  1.574901e+07    723.250000   44.000000    10.0   \n",
       "max    9997.000000  1.581553e+07    850.000000   88.000000    10.0   \n",
       "\n",
       "             balance  num_of_products  has_cr_card  is_active_member  \\\n",
       "count     492.000000       492.000000   492.000000        492.000000   \n",
       "mean    74961.265996         1.558943     0.701220          0.518293   \n",
       "std     61297.649261         0.607641     0.458189          0.500174   \n",
       "min         0.000000         1.000000     0.000000          0.000000   \n",
       "25%         0.000000         1.000000     0.000000          0.000000   \n",
       "50%     95103.030000         2.000000     1.000000          1.000000   \n",
       "75%    124671.597500         2.000000     1.000000          1.000000   \n",
       "max    206663.750000         4.000000     1.000000          1.000000   \n",
       "\n",
       "       estimated_salary      exited  \n",
       "count        492.000000  492.000000  \n",
       "mean      103497.397561    0.203252  \n",
       "std        56424.767489    0.402828  \n",
       "min          123.070000    0.000000  \n",
       "25%        54067.832500    0.000000  \n",
       "50%       102387.790000    0.000000  \n",
       "75%       150938.477500    0.000000  \n",
       "max       199775.670000    1.000000  "
      ]
     },
     "execution_count": 35,
     "metadata": {},
     "output_type": "execute_result"
    }
   ],
   "source": [
    "df.query('tenure == 10').describe()"
   ]
  },
  {
   "cell_type": "markdown",
   "metadata": {},
   "source": [
    "Принципиально заполнение пропусков не сказалось на распределении в датафрейме."
   ]
  },
  {
   "cell_type": "code",
   "execution_count": 36,
   "metadata": {},
   "outputs": [
    {
     "data": {
      "image/png": "[encoded data removed]",
      "text/plain": [
       "<Figure size 1000x1500 with 12 Axes>"
      ]
     },
     "metadata": {},
     "output_type": "display_data"
    }
   ],
   "source": [
    "# Проверим наличие выбросов\n",
    "\n",
    "df.hist(figsize=(10, 15))\n",
    "None"
   ]
  },
  {
   "cell_type": "markdown",
   "metadata": {},
   "source": [
    "Видим выбросы в колонке с балансом."
   ]
  },
  {
   "cell_type": "code",
   "execution_count": 37,
   "metadata": {},
   "outputs": [
    {
     "data": {
      "text/plain": [
       "0.00         3617\n",
       "130170.82       2\n",
       "105473.74       2\n",
       "85304.27        1\n",
       "159397.75       1\n",
       "             ... \n",
       "81556.89        1\n",
       "112687.69       1\n",
       "108698.96       1\n",
       "238387.56       1\n",
       "130142.79       1\n",
       "Name: balance, Length: 6382, dtype: int64"
      ]
     },
     "execution_count": 37,
     "metadata": {},
     "output_type": "execute_result"
    }
   ],
   "source": [
    "df.balance.value_counts()"
   ]
  },
  {
   "cell_type": "markdown",
   "metadata": {},
   "source": [
    "Больше трети клиентов имеет нулевой баланс. Данное значение хоть и похоже на аномалию, но скорее всего ей не является, т.к. много клиентов могут быть номинальными и не пользоваться продуктами банка. Оставим все как есть.\n",
    "\n",
    "\n",
    "По остальным гистограммам вопросов нет."
   ]
  },
  {
   "cell_type": "markdown",
   "metadata": {},
   "source": [
    "### Подготовка признаков"
   ]
  },
  {
   "cell_type": "code",
   "execution_count": 38,
   "metadata": {},
   "outputs": [
    {
     "data": {
      "text/html": [
       "<div>\n",
       "<style scoped>\n",
       "    .dataframe tbody tr th:only-of-type {\n",
       "        vertical-align: middle;\n",
       "    }\n",
       "\n",
       "    .dataframe tbody tr th {\n",
       "        vertical-align: top;\n",
       "    }\n",
       "\n",
       "    .dataframe thead th {\n",
       "        text-align: right;\n",
       "    }\n",
       "</style>\n",
       "<table border=\"1\" class=\"dataframe\">\n",
       "  <thead>\n",
       "    <tr style=\"text-align: right;\">\n",
       "      <th></th>\n",
       "      <th>row_number</th>\n",
       "      <th>customer_id</th>\n",
       "      <th>surname</th>\n",
       "      <th>credit_score</th>\n",
       "      <th>geography</th>\n",
       "      <th>gender</th>\n",
       "      <th>age</th>\n",
       "      <th>tenure</th>\n",
       "      <th>balance</th>\n",
       "      <th>num_of_products</th>\n",
       "      <th>has_cr_card</th>\n",
       "      <th>is_active_member</th>\n",
       "      <th>estimated_salary</th>\n",
       "      <th>exited</th>\n",
       "    </tr>\n",
       "  </thead>\n",
       "  <tbody>\n",
       "    <tr>\n",
       "      <th>0</th>\n",
       "      <td>1</td>\n",
       "      <td>15634602</td>\n",
       "      <td>Hargrave</td>\n",
       "      <td>619</td>\n",
       "      <td>France</td>\n",
       "      <td>Female</td>\n",
       "      <td>42</td>\n",
       "      <td>2.0</td>\n",
       "      <td>0.00</td>\n",
       "      <td>1</td>\n",
       "      <td>1</td>\n",
       "      <td>1</td>\n",
       "      <td>101348.88</td>\n",
       "      <td>1</td>\n",
       "    </tr>\n",
       "    <tr>\n",
       "      <th>1</th>\n",
       "      <td>2</td>\n",
       "      <td>15647311</td>\n",
       "      <td>Hill</td>\n",
       "      <td>608</td>\n",
       "      <td>Spain</td>\n",
       "      <td>Female</td>\n",
       "      <td>41</td>\n",
       "      <td>1.0</td>\n",
       "      <td>83807.86</td>\n",
       "      <td>1</td>\n",
       "      <td>0</td>\n",
       "      <td>1</td>\n",
       "      <td>112542.58</td>\n",
       "      <td>0</td>\n",
       "    </tr>\n",
       "    <tr>\n",
       "      <th>2</th>\n",
       "      <td>3</td>\n",
       "      <td>15619304</td>\n",
       "      <td>Onio</td>\n",
       "      <td>502</td>\n",
       "      <td>France</td>\n",
       "      <td>Female</td>\n",
       "      <td>42</td>\n",
       "      <td>8.0</td>\n",
       "      <td>159660.80</td>\n",
       "      <td>3</td>\n",
       "      <td>1</td>\n",
       "      <td>0</td>\n",
       "      <td>113931.57</td>\n",
       "      <td>1</td>\n",
       "    </tr>\n",
       "    <tr>\n",
       "      <th>3</th>\n",
       "      <td>4</td>\n",
       "      <td>15701354</td>\n",
       "      <td>Boni</td>\n",
       "      <td>699</td>\n",
       "      <td>France</td>\n",
       "      <td>Female</td>\n",
       "      <td>39</td>\n",
       "      <td>1.0</td>\n",
       "      <td>0.00</td>\n",
       "      <td>2</td>\n",
       "      <td>0</td>\n",
       "      <td>0</td>\n",
       "      <td>93826.63</td>\n",
       "      <td>0</td>\n",
       "    </tr>\n",
       "    <tr>\n",
       "      <th>4</th>\n",
       "      <td>5</td>\n",
       "      <td>15737888</td>\n",
       "      <td>Mitchell</td>\n",
       "      <td>850</td>\n",
       "      <td>Spain</td>\n",
       "      <td>Female</td>\n",
       "      <td>43</td>\n",
       "      <td>2.0</td>\n",
       "      <td>125510.82</td>\n",
       "      <td>1</td>\n",
       "      <td>1</td>\n",
       "      <td>1</td>\n",
       "      <td>79084.10</td>\n",
       "      <td>0</td>\n",
       "    </tr>\n",
       "  </tbody>\n",
       "</table>\n",
       "</div>"
      ],
      "text/plain": [
       "   row_number  customer_id   surname  credit_score geography  gender  age  \\\n",
       "0           1     15634602  Hargrave           619    France  Female   42   \n",
       "1           2     15647311      Hill           608     Spain  Female   41   \n",
       "2           3     15619304      Onio           502    France  Female   42   \n",
       "3           4     15701354      Boni           699    France  Female   39   \n",
       "4           5     15737888  Mitchell           850     Spain  Female   43   \n",
       "\n",
       "   tenure    balance  num_of_products  has_cr_card  is_active_member  \\\n",
       "0     2.0       0.00                1            1                 1   \n",
       "1     1.0   83807.86                1            0                 1   \n",
       "2     8.0  159660.80                3            1                 0   \n",
       "3     1.0       0.00                2            0                 0   \n",
       "4     2.0  125510.82                1            1                 1   \n",
       "\n",
       "   estimated_salary  exited  \n",
       "0         101348.88       1  \n",
       "1         112542.58       0  \n",
       "2         113931.57       1  \n",
       "3          93826.63       0  \n",
       "4          79084.10       0  "
      ]
     },
     "execution_count": 38,
     "metadata": {},
     "output_type": "execute_result"
    }
   ],
   "source": [
    "df.head()"
   ]
  },
  {
   "cell_type": "code",
   "execution_count": 39,
   "metadata": {},
   "outputs": [
    {
     "data": {
      "image/png": "[encoded data removed]",
      "text/plain": [
       "<Figure size 640x480 with 2 Axes>"
      ]
     },
     "metadata": {},
     "output_type": "display_data"
    }
   ],
   "source": [
    "# Проверим наличие корреляции между признаками\n",
    "\n",
    "sns.heatmap(df.corr(), annot=True, fmt='.1f')\n",
    "plt.title('корреляция между признаками')\n",
    "None"
   ]
  },
  {
   "cell_type": "markdown",
   "metadata": {},
   "source": [
    "Максимальное значения 0,3, что считается слабой корреляцией, а значит линейной зависимости между признаками практически нет. "
   ]
  },
  {
   "cell_type": "markdown",
   "metadata": {},
   "source": [
    "Столбцы `'row_number'`, `'customer_id'`, `'surname'` содержат идентификационную информацию об объекте. Полезной нагрузки для определения таргета в них нет, значит можно избавиться от данных признаков."
   ]
  },
  {
   "cell_type": "code",
   "execution_count": 40,
   "metadata": {},
   "outputs": [],
   "source": [
    "# Избавимся от лишних признаков\n",
    "\n",
    "df = df.drop(['row_number', 'customer_id', 'surname'], axis=1)"
   ]
  },
  {
   "cell_type": "code",
   "execution_count": 41,
   "metadata": {},
   "outputs": [
    {
     "data": {
      "text/html": [
       "<div>\n",
       "<style scoped>\n",
       "    .dataframe tbody tr th:only-of-type {\n",
       "        vertical-align: middle;\n",
       "    }\n",
       "\n",
       "    .dataframe tbody tr th {\n",
       "        vertical-align: top;\n",
       "    }\n",
       "\n",
       "    .dataframe thead th {\n",
       "        text-align: right;\n",
       "    }\n",
       "</style>\n",
       "<table border=\"1\" class=\"dataframe\">\n",
       "  <thead>\n",
       "    <tr style=\"text-align: right;\">\n",
       "      <th></th>\n",
       "      <th>credit_score</th>\n",
       "      <th>geography</th>\n",
       "      <th>gender</th>\n",
       "      <th>age</th>\n",
       "      <th>tenure</th>\n",
       "      <th>balance</th>\n",
       "      <th>num_of_products</th>\n",
       "      <th>has_cr_card</th>\n",
       "      <th>is_active_member</th>\n",
       "      <th>estimated_salary</th>\n",
       "      <th>exited</th>\n",
       "    </tr>\n",
       "  </thead>\n",
       "  <tbody>\n",
       "    <tr>\n",
       "      <th>0</th>\n",
       "      <td>619</td>\n",
       "      <td>France</td>\n",
       "      <td>Female</td>\n",
       "      <td>42</td>\n",
       "      <td>2.0</td>\n",
       "      <td>0.00</td>\n",
       "      <td>1</td>\n",
       "      <td>1</td>\n",
       "      <td>1</td>\n",
       "      <td>101348.88</td>\n",
       "      <td>1</td>\n",
       "    </tr>\n",
       "    <tr>\n",
       "      <th>1</th>\n",
       "      <td>608</td>\n",
       "      <td>Spain</td>\n",
       "      <td>Female</td>\n",
       "      <td>41</td>\n",
       "      <td>1.0</td>\n",
       "      <td>83807.86</td>\n",
       "      <td>1</td>\n",
       "      <td>0</td>\n",
       "      <td>1</td>\n",
       "      <td>112542.58</td>\n",
       "      <td>0</td>\n",
       "    </tr>\n",
       "    <tr>\n",
       "      <th>2</th>\n",
       "      <td>502</td>\n",
       "      <td>France</td>\n",
       "      <td>Female</td>\n",
       "      <td>42</td>\n",
       "      <td>8.0</td>\n",
       "      <td>159660.80</td>\n",
       "      <td>3</td>\n",
       "      <td>1</td>\n",
       "      <td>0</td>\n",
       "      <td>113931.57</td>\n",
       "      <td>1</td>\n",
       "    </tr>\n",
       "  </tbody>\n",
       "</table>\n",
       "</div>"
      ],
      "text/plain": [
       "   credit_score geography  gender  age  tenure    balance  num_of_products  \\\n",
       "0           619    France  Female   42     2.0       0.00                1   \n",
       "1           608     Spain  Female   41     1.0   83807.86                1   \n",
       "2           502    France  Female   42     8.0  159660.80                3   \n",
       "\n",
       "   has_cr_card  is_active_member  estimated_salary  exited  \n",
       "0            1                 1         101348.88       1  \n",
       "1            0                 1         112542.58       0  \n",
       "2            1                 0         113931.57       1  "
      ]
     },
     "execution_count": 41,
     "metadata": {},
     "output_type": "execute_result"
    }
   ],
   "source": [
    "df.head(3)"
   ]
  },
  {
   "cell_type": "markdown",
   "metadata": {},
   "source": [
    "В нашем датафрейме есть 2 категориальных признака(`geography`, `gender`). Для обучения модели их нужно закодировать. Используем OneHotEncoding(OHE)"
   ]
  },
  {
   "cell_type": "code",
   "execution_count": 42,
   "metadata": {},
   "outputs": [
    {
     "data": {
      "text/html": [
       "<div>\n",
       "<style scoped>\n",
       "    .dataframe tbody tr th:only-of-type {\n",
       "        vertical-align: middle;\n",
       "    }\n",
       "\n",
       "    .dataframe tbody tr th {\n",
       "        vertical-align: top;\n",
       "    }\n",
       "\n",
       "    .dataframe thead th {\n",
       "        text-align: right;\n",
       "    }\n",
       "</style>\n",
       "<table border=\"1\" class=\"dataframe\">\n",
       "  <thead>\n",
       "    <tr style=\"text-align: right;\">\n",
       "      <th></th>\n",
       "      <th>credit_score</th>\n",
       "      <th>age</th>\n",
       "      <th>tenure</th>\n",
       "      <th>balance</th>\n",
       "      <th>num_of_products</th>\n",
       "      <th>has_cr_card</th>\n",
       "      <th>is_active_member</th>\n",
       "      <th>estimated_salary</th>\n",
       "      <th>exited</th>\n",
       "      <th>geography_Germany</th>\n",
       "      <th>geography_Spain</th>\n",
       "      <th>gender_Male</th>\n",
       "    </tr>\n",
       "  </thead>\n",
       "  <tbody>\n",
       "    <tr>\n",
       "      <th>0</th>\n",
       "      <td>619</td>\n",
       "      <td>42</td>\n",
       "      <td>2.0</td>\n",
       "      <td>0.00</td>\n",
       "      <td>1</td>\n",
       "      <td>1</td>\n",
       "      <td>1</td>\n",
       "      <td>101348.88</td>\n",
       "      <td>1</td>\n",
       "      <td>0</td>\n",
       "      <td>0</td>\n",
       "      <td>0</td>\n",
       "    </tr>\n",
       "    <tr>\n",
       "      <th>1</th>\n",
       "      <td>608</td>\n",
       "      <td>41</td>\n",
       "      <td>1.0</td>\n",
       "      <td>83807.86</td>\n",
       "      <td>1</td>\n",
       "      <td>0</td>\n",
       "      <td>1</td>\n",
       "      <td>112542.58</td>\n",
       "      <td>0</td>\n",
       "      <td>0</td>\n",
       "      <td>1</td>\n",
       "      <td>0</td>\n",
       "    </tr>\n",
       "    <tr>\n",
       "      <th>2</th>\n",
       "      <td>502</td>\n",
       "      <td>42</td>\n",
       "      <td>8.0</td>\n",
       "      <td>159660.80</td>\n",
       "      <td>3</td>\n",
       "      <td>1</td>\n",
       "      <td>0</td>\n",
       "      <td>113931.57</td>\n",
       "      <td>1</td>\n",
       "      <td>0</td>\n",
       "      <td>0</td>\n",
       "      <td>0</td>\n",
       "    </tr>\n",
       "  </tbody>\n",
       "</table>\n",
       "</div>"
      ],
      "text/plain": [
       "   credit_score  age  tenure    balance  num_of_products  has_cr_card  \\\n",
       "0           619   42     2.0       0.00                1            1   \n",
       "1           608   41     1.0   83807.86                1            0   \n",
       "2           502   42     8.0  159660.80                3            1   \n",
       "\n",
       "   is_active_member  estimated_salary  exited  geography_Germany  \\\n",
       "0                 1         101348.88       1                  0   \n",
       "1                 1         112542.58       0                  0   \n",
       "2                 0         113931.57       1                  0   \n",
       "\n",
       "   geography_Spain  gender_Male  \n",
       "0                0            0  \n",
       "1                1            0  \n",
       "2                0            0  "
      ]
     },
     "execution_count": 42,
     "metadata": {},
     "output_type": "execute_result"
    }
   ],
   "source": [
    "# Закодируем категориальные признаки\n",
    "\n",
    "df = pd.get_dummies(df, drop_first=1) # drop_first=1 предотвращает мультиколлинеарность(дамми-ловушку)\n",
    "df.head(3)"
   ]
  },
  {
   "cell_type": "code",
   "execution_count": 43,
   "metadata": {},
   "outputs": [],
   "source": [
    "# Отделим целевой признак от остальлных в отдельные переменные\n",
    "\n",
    "target = df.exited # целевой признак\n",
    "features = df.drop(columns='exited') # остальные признаки"
   ]
  },
  {
   "cell_type": "code",
   "execution_count": 44,
   "metadata": {},
   "outputs": [
    {
     "name": "stdout",
     "output_type": "stream",
     "text": [
      "((6000, 11), (2000, 11), (2000, 11))\n",
      "((6000,), (2000,), (2000,))\n"
     ]
    }
   ],
   "source": [
    "# Разделим выборку на обучающую, валидацинную и тестовую\n",
    "\n",
    "features_train, features_test, target_train, target_test = train_test_split(features, target, test_size=0.4, random_state=1234)\n",
    "features_valid, features_test, target_valid, target_test = train_test_split(features_test, target_test, test_size=0.5, random_state=1234)\n",
    "\n",
    "# Выведем размер выборок для проверки\n",
    "print((features_train.shape, features_valid.shape, features_test.shape), (target_train.shape, target_valid.shape, target_test.shape), sep='\\n')"
   ]
  },
  {
   "cell_type": "markdown",
   "metadata": {},
   "source": [
    "Разделили выборки в соотношении 3:1:1 (train : valid : test)"
   ]
  },
  {
   "cell_type": "code",
   "execution_count": 45,
   "metadata": {},
   "outputs": [
    {
     "data": {
      "text/html": [
       "<div>\n",
       "<style scoped>\n",
       "    .dataframe tbody tr th:only-of-type {\n",
       "        vertical-align: middle;\n",
       "    }\n",
       "\n",
       "    .dataframe tbody tr th {\n",
       "        vertical-align: top;\n",
       "    }\n",
       "\n",
       "    .dataframe thead th {\n",
       "        text-align: right;\n",
       "    }\n",
       "</style>\n",
       "<table border=\"1\" class=\"dataframe\">\n",
       "  <thead>\n",
       "    <tr style=\"text-align: right;\">\n",
       "      <th></th>\n",
       "      <th>credit_score</th>\n",
       "      <th>age</th>\n",
       "      <th>tenure</th>\n",
       "      <th>balance</th>\n",
       "      <th>num_of_products</th>\n",
       "      <th>has_cr_card</th>\n",
       "      <th>is_active_member</th>\n",
       "      <th>estimated_salary</th>\n",
       "      <th>exited</th>\n",
       "      <th>geography_Germany</th>\n",
       "      <th>geography_Spain</th>\n",
       "      <th>gender_Male</th>\n",
       "    </tr>\n",
       "  </thead>\n",
       "  <tbody>\n",
       "    <tr>\n",
       "      <th>0</th>\n",
       "      <td>619</td>\n",
       "      <td>42</td>\n",
       "      <td>2.0</td>\n",
       "      <td>0.00</td>\n",
       "      <td>1</td>\n",
       "      <td>1</td>\n",
       "      <td>1</td>\n",
       "      <td>101348.88</td>\n",
       "      <td>1</td>\n",
       "      <td>0</td>\n",
       "      <td>0</td>\n",
       "      <td>0</td>\n",
       "    </tr>\n",
       "    <tr>\n",
       "      <th>1</th>\n",
       "      <td>608</td>\n",
       "      <td>41</td>\n",
       "      <td>1.0</td>\n",
       "      <td>83807.86</td>\n",
       "      <td>1</td>\n",
       "      <td>0</td>\n",
       "      <td>1</td>\n",
       "      <td>112542.58</td>\n",
       "      <td>0</td>\n",
       "      <td>0</td>\n",
       "      <td>1</td>\n",
       "      <td>0</td>\n",
       "    </tr>\n",
       "    <tr>\n",
       "      <th>2</th>\n",
       "      <td>502</td>\n",
       "      <td>42</td>\n",
       "      <td>8.0</td>\n",
       "      <td>159660.80</td>\n",
       "      <td>3</td>\n",
       "      <td>1</td>\n",
       "      <td>0</td>\n",
       "      <td>113931.57</td>\n",
       "      <td>1</td>\n",
       "      <td>0</td>\n",
       "      <td>0</td>\n",
       "      <td>0</td>\n",
       "    </tr>\n",
       "    <tr>\n",
       "      <th>3</th>\n",
       "      <td>699</td>\n",
       "      <td>39</td>\n",
       "      <td>1.0</td>\n",
       "      <td>0.00</td>\n",
       "      <td>2</td>\n",
       "      <td>0</td>\n",
       "      <td>0</td>\n",
       "      <td>93826.63</td>\n",
       "      <td>0</td>\n",
       "      <td>0</td>\n",
       "      <td>0</td>\n",
       "      <td>0</td>\n",
       "    </tr>\n",
       "    <tr>\n",
       "      <th>4</th>\n",
       "      <td>850</td>\n",
       "      <td>43</td>\n",
       "      <td>2.0</td>\n",
       "      <td>125510.82</td>\n",
       "      <td>1</td>\n",
       "      <td>1</td>\n",
       "      <td>1</td>\n",
       "      <td>79084.10</td>\n",
       "      <td>0</td>\n",
       "      <td>0</td>\n",
       "      <td>1</td>\n",
       "      <td>0</td>\n",
       "    </tr>\n",
       "  </tbody>\n",
       "</table>\n",
       "</div>"
      ],
      "text/plain": [
       "   credit_score  age  tenure    balance  num_of_products  has_cr_card  \\\n",
       "0           619   42     2.0       0.00                1            1   \n",
       "1           608   41     1.0   83807.86                1            0   \n",
       "2           502   42     8.0  159660.80                3            1   \n",
       "3           699   39     1.0       0.00                2            0   \n",
       "4           850   43     2.0  125510.82                1            1   \n",
       "\n",
       "   is_active_member  estimated_salary  exited  geography_Germany  \\\n",
       "0                 1         101348.88       1                  0   \n",
       "1                 1         112542.58       0                  0   \n",
       "2                 0         113931.57       1                  0   \n",
       "3                 0          93826.63       0                  0   \n",
       "4                 1          79084.10       0                  0   \n",
       "\n",
       "   geography_Spain  gender_Male  \n",
       "0                0            0  \n",
       "1                1            0  \n",
       "2                0            0  \n",
       "3                0            0  \n",
       "4                1            0  "
      ]
     },
     "execution_count": 45,
     "metadata": {},
     "output_type": "execute_result"
    }
   ],
   "source": [
    "df.head()"
   ]
  },
  {
   "cell_type": "markdown",
   "metadata": {},
   "source": [
    "Для обучения модели необходимо масштабировать количественные признаки. Используем для этого метод стандартизации."
   ]
  },
  {
   "cell_type": "code",
   "execution_count": 46,
   "metadata": {},
   "outputs": [],
   "source": [
    "col_num = ['credit_score', 'age', 'tenure', 'balance', 'num_of_products', 'estimated_salary'] # масштабируемые признаки"
   ]
  },
  {
   "cell_type": "code",
   "execution_count": 47,
   "metadata": {},
   "outputs": [
    {
     "data": {
      "text/html": [
       "<style>#sk-container-id-1 {color: black;background-color: white;}#sk-container-id-1 pre{padding: 0;}#sk-container-id-1 div.sk-toggleable {background-color: white;}#sk-container-id-1 label.sk-toggleable__label {cursor: pointer;display: block;width: 100%;margin-bottom: 0;padding: 0.3em;box-sizing: border-box;text-align: center;}#sk-container-id-1 label.sk-toggleable__label-arrow:before {content: \"▸\";float: left;margin-right: 0.25em;color: #696969;}#sk-container-id-1 label.sk-toggleable__label-arrow:hover:before {color: black;}#sk-container-id-1 div.sk-estimator:hover label.sk-toggleable__label-arrow:before {color: black;}#sk-container-id-1 div.sk-toggleable__content {max-height: 0;max-width: 0;overflow: hidden;text-align: left;background-color: #f0f8ff;}#sk-container-id-1 div.sk-toggleable__content pre {margin: 0.2em;color: black;border-radius: 0.25em;background-color: #f0f8ff;}#sk-container-id-1 input.sk-toggleable__control:checked~div.sk-toggleable__content {max-height: 200px;max-width: 100%;overflow: auto;}#sk-container-id-1 input.sk-toggleable__control:checked~label.sk-toggleable__label-arrow:before {content: \"▾\";}#sk-container-id-1 div.sk-estimator input.sk-toggleable__control:checked~label.sk-toggleable__label {background-color: #d4ebff;}#sk-container-id-1 div.sk-label input.sk-toggleable__control:checked~label.sk-toggleable__label {background-color: #d4ebff;}#sk-container-id-1 input.sk-hidden--visually {border: 0;clip: rect(1px 1px 1px 1px);clip: rect(1px, 1px, 1px, 1px);height: 1px;margin: -1px;overflow: hidden;padding: 0;position: absolute;width: 1px;}#sk-container-id-1 div.sk-estimator {font-family: monospace;background-color: #f0f8ff;border: 1px dotted black;border-radius: 0.25em;box-sizing: border-box;margin-bottom: 0.5em;}#sk-container-id-1 div.sk-estimator:hover {background-color: #d4ebff;}#sk-container-id-1 div.sk-parallel-item::after {content: \"\";width: 100%;border-bottom: 1px solid gray;flex-grow: 1;}#sk-container-id-1 div.sk-label:hover label.sk-toggleable__label {background-color: #d4ebff;}#sk-container-id-1 div.sk-serial::before {content: \"\";position: absolute;border-left: 1px solid gray;box-sizing: border-box;top: 0;bottom: 0;left: 50%;z-index: 0;}#sk-container-id-1 div.sk-serial {display: flex;flex-direction: column;align-items: center;background-color: white;padding-right: 0.2em;padding-left: 0.2em;position: relative;}#sk-container-id-1 div.sk-item {position: relative;z-index: 1;}#sk-container-id-1 div.sk-parallel {display: flex;align-items: stretch;justify-content: center;background-color: white;position: relative;}#sk-container-id-1 div.sk-item::before, #sk-container-id-1 div.sk-parallel-item::before {content: \"\";position: absolute;border-left: 1px solid gray;box-sizing: border-box;top: 0;bottom: 0;left: 50%;z-index: -1;}#sk-container-id-1 div.sk-parallel-item {display: flex;flex-direction: column;z-index: 1;position: relative;background-color: white;}#sk-container-id-1 div.sk-parallel-item:first-child::after {align-self: flex-end;width: 50%;}#sk-container-id-1 div.sk-parallel-item:last-child::after {align-self: flex-start;width: 50%;}#sk-container-id-1 div.sk-parallel-item:only-child::after {width: 0;}#sk-container-id-1 div.sk-dashed-wrapped {border: 1px dashed gray;margin: 0 0.4em 0.5em 0.4em;box-sizing: border-box;padding-bottom: 0.4em;background-color: white;}#sk-container-id-1 div.sk-label label {font-family: monospace;font-weight: bold;display: inline-block;line-height: 1.2em;}#sk-container-id-1 div.sk-label-container {text-align: center;}#sk-container-id-1 div.sk-container {/* jupyter's `normalize.less` sets `[hidden] { display: none; }` but bootstrap.min.css set `[hidden] { display: none !important; }` so we also need the `!important` here to be able to override the default hidden behavior on the sphinx rendered scikit-learn.org. See: https://github.com/scikit-learn/scikit-learn/issues/21755 */display: inline-block !important;position: relative;}#sk-container-id-1 div.sk-text-repr-fallback {display: none;}</style><div id=\"sk-container-id-1\" class=\"sk-top-container\"><div class=\"sk-text-repr-fallback\"><pre>StandardScaler()</pre><b>In a Jupyter environment, please rerun this cell to show the HTML representation or trust the notebook. <br />On GitHub, the HTML representation is unable to render, please try loading this page with nbviewer.org.</b></div><div class=\"sk-container\" hidden><div class=\"sk-item\"><div class=\"sk-estimator sk-toggleable\"><input class=\"sk-toggleable__control sk-hidden--visually\" id=\"sk-estimator-id-1\" type=\"checkbox\" checked><label for=\"sk-estimator-id-1\" class=\"sk-toggleable__label sk-toggleable__label-arrow\">StandardScaler</label><div class=\"sk-toggleable__content\"><pre>StandardScaler()</pre></div></div></div></div></div>"
      ],
      "text/plain": [
       "StandardScaler()"
      ]
     },
     "execution_count": 47,
     "metadata": {},
     "output_type": "execute_result"
    }
   ],
   "source": [
    "# Создадим и обучим модель на тренировочной выборке для стандартизации\n",
    "\n",
    "scaler = StandardScaler()\n",
    "scaler.fit(features_train[col_num])"
   ]
  },
  {
   "cell_type": "code",
   "execution_count": 48,
   "metadata": {},
   "outputs": [],
   "source": [
    "# Масштабируем наши фичи\n",
    "\n",
    "features_train[col_num] = scaler.transform(features_train[col_num])\n",
    "features_valid[col_num] = scaler.transform(features_valid[col_num])\n",
    "features_test[col_num] = scaler.transform(features_test[col_num])"
   ]
  },
  {
   "cell_type": "markdown",
   "metadata": {},
   "source": [
    "Посмотрим результаты масштабирования."
   ]
  },
  {
   "cell_type": "code",
   "execution_count": 49,
   "metadata": {},
   "outputs": [],
   "source": [
    "pd.options.display.float_format = '{:,.2f}'.format # формат отображения 2 знака после запятой"
   ]
  },
  {
   "cell_type": "code",
   "execution_count": 50,
   "metadata": {},
   "outputs": [
    {
     "name": "stdout",
     "output_type": "stream",
     "text": [
      "features_train\n"
     ]
    },
    {
     "data": {
      "text/html": [
       "<div>\n",
       "<style scoped>\n",
       "    .dataframe tbody tr th:only-of-type {\n",
       "        vertical-align: middle;\n",
       "    }\n",
       "\n",
       "    .dataframe tbody tr th {\n",
       "        vertical-align: top;\n",
       "    }\n",
       "\n",
       "    .dataframe thead th {\n",
       "        text-align: right;\n",
       "    }\n",
       "</style>\n",
       "<table border=\"1\" class=\"dataframe\">\n",
       "  <thead>\n",
       "    <tr style=\"text-align: right;\">\n",
       "      <th></th>\n",
       "      <th>credit_score</th>\n",
       "      <th>age</th>\n",
       "      <th>tenure</th>\n",
       "      <th>balance</th>\n",
       "      <th>num_of_products</th>\n",
       "      <th>has_cr_card</th>\n",
       "      <th>is_active_member</th>\n",
       "      <th>estimated_salary</th>\n",
       "      <th>geography_Germany</th>\n",
       "      <th>geography_Spain</th>\n",
       "      <th>gender_Male</th>\n",
       "    </tr>\n",
       "  </thead>\n",
       "  <tbody>\n",
       "    <tr>\n",
       "      <th>count</th>\n",
       "      <td>6,000.00</td>\n",
       "      <td>6,000.00</td>\n",
       "      <td>6,000.00</td>\n",
       "      <td>6,000.00</td>\n",
       "      <td>6,000.00</td>\n",
       "      <td>6,000.00</td>\n",
       "      <td>6,000.00</td>\n",
       "      <td>6,000.00</td>\n",
       "      <td>6,000.00</td>\n",
       "      <td>6,000.00</td>\n",
       "      <td>6,000.00</td>\n",
       "    </tr>\n",
       "    <tr>\n",
       "      <th>mean</th>\n",
       "      <td>-0.00</td>\n",
       "      <td>0.00</td>\n",
       "      <td>0.00</td>\n",
       "      <td>-0.00</td>\n",
       "      <td>0.00</td>\n",
       "      <td>0.70</td>\n",
       "      <td>0.51</td>\n",
       "      <td>0.00</td>\n",
       "      <td>0.25</td>\n",
       "      <td>0.25</td>\n",
       "      <td>0.54</td>\n",
       "    </tr>\n",
       "    <tr>\n",
       "      <th>std</th>\n",
       "      <td>1.00</td>\n",
       "      <td>1.00</td>\n",
       "      <td>1.00</td>\n",
       "      <td>1.00</td>\n",
       "      <td>1.00</td>\n",
       "      <td>0.46</td>\n",
       "      <td>0.50</td>\n",
       "      <td>1.00</td>\n",
       "      <td>0.43</td>\n",
       "      <td>0.43</td>\n",
       "      <td>0.50</td>\n",
       "    </tr>\n",
       "    <tr>\n",
       "      <th>min</th>\n",
       "      <td>-3.09</td>\n",
       "      <td>-2.02</td>\n",
       "      <td>-1.74</td>\n",
       "      <td>-1.23</td>\n",
       "      <td>-0.91</td>\n",
       "      <td>0.00</td>\n",
       "      <td>0.00</td>\n",
       "      <td>-1.74</td>\n",
       "      <td>0.00</td>\n",
       "      <td>0.00</td>\n",
       "      <td>0.00</td>\n",
       "    </tr>\n",
       "    <tr>\n",
       "      <th>25%</th>\n",
       "      <td>-0.69</td>\n",
       "      <td>-0.67</td>\n",
       "      <td>-0.70</td>\n",
       "      <td>-1.23</td>\n",
       "      <td>-0.91</td>\n",
       "      <td>0.00</td>\n",
       "      <td>0.00</td>\n",
       "      <td>-0.85</td>\n",
       "      <td>0.00</td>\n",
       "      <td>0.00</td>\n",
       "      <td>0.00</td>\n",
       "    </tr>\n",
       "    <tr>\n",
       "      <th>50%</th>\n",
       "      <td>0.01</td>\n",
       "      <td>-0.19</td>\n",
       "      <td>-0.01</td>\n",
       "      <td>0.33</td>\n",
       "      <td>-0.91</td>\n",
       "      <td>1.00</td>\n",
       "      <td>1.00</td>\n",
       "      <td>0.00</td>\n",
       "      <td>0.00</td>\n",
       "      <td>0.00</td>\n",
       "      <td>1.00</td>\n",
       "    </tr>\n",
       "    <tr>\n",
       "      <th>75%</th>\n",
       "      <td>0.69</td>\n",
       "      <td>0.48</td>\n",
       "      <td>1.03</td>\n",
       "      <td>0.82</td>\n",
       "      <td>0.82</td>\n",
       "      <td>1.00</td>\n",
       "      <td>1.00</td>\n",
       "      <td>0.85</td>\n",
       "      <td>1.00</td>\n",
       "      <td>0.00</td>\n",
       "      <td>1.00</td>\n",
       "    </tr>\n",
       "    <tr>\n",
       "      <th>max</th>\n",
       "      <td>2.05</td>\n",
       "      <td>5.09</td>\n",
       "      <td>1.72</td>\n",
       "      <td>2.59</td>\n",
       "      <td>4.29</td>\n",
       "      <td>1.00</td>\n",
       "      <td>1.00</td>\n",
       "      <td>1.74</td>\n",
       "      <td>1.00</td>\n",
       "      <td>1.00</td>\n",
       "      <td>1.00</td>\n",
       "    </tr>\n",
       "  </tbody>\n",
       "</table>\n",
       "</div>"
      ],
      "text/plain": [
       "       credit_score      age   tenure  balance  num_of_products  has_cr_card  \\\n",
       "count      6,000.00 6,000.00 6,000.00 6,000.00         6,000.00     6,000.00   \n",
       "mean          -0.00     0.00     0.00    -0.00             0.00         0.70   \n",
       "std            1.00     1.00     1.00     1.00             1.00         0.46   \n",
       "min           -3.09    -2.02    -1.74    -1.23            -0.91         0.00   \n",
       "25%           -0.69    -0.67    -0.70    -1.23            -0.91         0.00   \n",
       "50%            0.01    -0.19    -0.01     0.33            -0.91         1.00   \n",
       "75%            0.69     0.48     1.03     0.82             0.82         1.00   \n",
       "max            2.05     5.09     1.72     2.59             4.29         1.00   \n",
       "\n",
       "       is_active_member  estimated_salary  geography_Germany  geography_Spain  \\\n",
       "count          6,000.00          6,000.00           6,000.00         6,000.00   \n",
       "mean               0.51              0.00               0.25             0.25   \n",
       "std                0.50              1.00               0.43             0.43   \n",
       "min                0.00             -1.74               0.00             0.00   \n",
       "25%                0.00             -0.85               0.00             0.00   \n",
       "50%                1.00              0.00               0.00             0.00   \n",
       "75%                1.00              0.85               1.00             0.00   \n",
       "max                1.00              1.74               1.00             1.00   \n",
       "\n",
       "       gender_Male  \n",
       "count     6,000.00  \n",
       "mean          0.54  \n",
       "std           0.50  \n",
       "min           0.00  \n",
       "25%           0.00  \n",
       "50%           1.00  \n",
       "75%           1.00  \n",
       "max           1.00  "
      ]
     },
     "metadata": {},
     "output_type": "display_data"
    },
    {
     "data": {
      "image/png": "[encoded data removed]",
      "text/plain": [
       "<Figure size 1500x1000 with 12 Axes>"
      ]
     },
     "metadata": {},
     "output_type": "display_data"
    },
    {
     "name": "stdout",
     "output_type": "stream",
     "text": [
      "features_valid\n"
     ]
    },
    {
     "data": {
      "text/html": [
       "<div>\n",
       "<style scoped>\n",
       "    .dataframe tbody tr th:only-of-type {\n",
       "        vertical-align: middle;\n",
       "    }\n",
       "\n",
       "    .dataframe tbody tr th {\n",
       "        vertical-align: top;\n",
       "    }\n",
       "\n",
       "    .dataframe thead th {\n",
       "        text-align: right;\n",
       "    }\n",
       "</style>\n",
       "<table border=\"1\" class=\"dataframe\">\n",
       "  <thead>\n",
       "    <tr style=\"text-align: right;\">\n",
       "      <th></th>\n",
       "      <th>credit_score</th>\n",
       "      <th>age</th>\n",
       "      <th>tenure</th>\n",
       "      <th>balance</th>\n",
       "      <th>num_of_products</th>\n",
       "      <th>has_cr_card</th>\n",
       "      <th>is_active_member</th>\n",
       "      <th>estimated_salary</th>\n",
       "      <th>geography_Germany</th>\n",
       "      <th>geography_Spain</th>\n",
       "      <th>gender_Male</th>\n",
       "    </tr>\n",
       "  </thead>\n",
       "  <tbody>\n",
       "    <tr>\n",
       "      <th>count</th>\n",
       "      <td>2,000.00</td>\n",
       "      <td>2,000.00</td>\n",
       "      <td>2,000.00</td>\n",
       "      <td>2,000.00</td>\n",
       "      <td>2,000.00</td>\n",
       "      <td>2,000.00</td>\n",
       "      <td>2,000.00</td>\n",
       "      <td>2,000.00</td>\n",
       "      <td>2,000.00</td>\n",
       "      <td>2,000.00</td>\n",
       "      <td>2,000.00</td>\n",
       "    </tr>\n",
       "    <tr>\n",
       "      <th>mean</th>\n",
       "      <td>-0.03</td>\n",
       "      <td>-0.02</td>\n",
       "      <td>-0.02</td>\n",
       "      <td>0.01</td>\n",
       "      <td>0.01</td>\n",
       "      <td>0.70</td>\n",
       "      <td>0.54</td>\n",
       "      <td>0.00</td>\n",
       "      <td>0.25</td>\n",
       "      <td>0.24</td>\n",
       "      <td>0.55</td>\n",
       "    </tr>\n",
       "    <tr>\n",
       "      <th>std</th>\n",
       "      <td>0.99</td>\n",
       "      <td>1.03</td>\n",
       "      <td>0.99</td>\n",
       "      <td>0.99</td>\n",
       "      <td>1.01</td>\n",
       "      <td>0.46</td>\n",
       "      <td>0.50</td>\n",
       "      <td>1.00</td>\n",
       "      <td>0.43</td>\n",
       "      <td>0.42</td>\n",
       "      <td>0.50</td>\n",
       "    </tr>\n",
       "    <tr>\n",
       "      <th>min</th>\n",
       "      <td>-2.92</td>\n",
       "      <td>-2.02</td>\n",
       "      <td>-1.74</td>\n",
       "      <td>-1.23</td>\n",
       "      <td>-0.91</td>\n",
       "      <td>0.00</td>\n",
       "      <td>0.00</td>\n",
       "      <td>-1.74</td>\n",
       "      <td>0.00</td>\n",
       "      <td>0.00</td>\n",
       "      <td>0.00</td>\n",
       "    </tr>\n",
       "    <tr>\n",
       "      <th>25%</th>\n",
       "      <td>-0.73</td>\n",
       "      <td>-0.67</td>\n",
       "      <td>-0.70</td>\n",
       "      <td>-1.23</td>\n",
       "      <td>-0.91</td>\n",
       "      <td>0.00</td>\n",
       "      <td>0.00</td>\n",
       "      <td>-0.84</td>\n",
       "      <td>0.00</td>\n",
       "      <td>0.00</td>\n",
       "      <td>0.00</td>\n",
       "    </tr>\n",
       "    <tr>\n",
       "      <th>50%</th>\n",
       "      <td>-0.01</td>\n",
       "      <td>-0.19</td>\n",
       "      <td>-0.01</td>\n",
       "      <td>0.31</td>\n",
       "      <td>-0.91</td>\n",
       "      <td>1.00</td>\n",
       "      <td>1.00</td>\n",
       "      <td>0.01</td>\n",
       "      <td>0.00</td>\n",
       "      <td>0.00</td>\n",
       "      <td>1.00</td>\n",
       "    </tr>\n",
       "    <tr>\n",
       "      <th>75%</th>\n",
       "      <td>0.66</td>\n",
       "      <td>0.48</td>\n",
       "      <td>0.68</td>\n",
       "      <td>0.83</td>\n",
       "      <td>0.82</td>\n",
       "      <td>1.00</td>\n",
       "      <td>1.00</td>\n",
       "      <td>0.88</td>\n",
       "      <td>0.00</td>\n",
       "      <td>0.00</td>\n",
       "      <td>1.00</td>\n",
       "    </tr>\n",
       "    <tr>\n",
       "      <th>max</th>\n",
       "      <td>2.05</td>\n",
       "      <td>4.42</td>\n",
       "      <td>1.72</td>\n",
       "      <td>2.79</td>\n",
       "      <td>4.29</td>\n",
       "      <td>1.00</td>\n",
       "      <td>1.00</td>\n",
       "      <td>1.74</td>\n",
       "      <td>1.00</td>\n",
       "      <td>1.00</td>\n",
       "      <td>1.00</td>\n",
       "    </tr>\n",
       "  </tbody>\n",
       "</table>\n",
       "</div>"
      ],
      "text/plain": [
       "       credit_score      age   tenure  balance  num_of_products  has_cr_card  \\\n",
       "count      2,000.00 2,000.00 2,000.00 2,000.00         2,000.00     2,000.00   \n",
       "mean          -0.03    -0.02    -0.02     0.01             0.01         0.70   \n",
       "std            0.99     1.03     0.99     0.99             1.01         0.46   \n",
       "min           -2.92    -2.02    -1.74    -1.23            -0.91         0.00   \n",
       "25%           -0.73    -0.67    -0.70    -1.23            -0.91         0.00   \n",
       "50%           -0.01    -0.19    -0.01     0.31            -0.91         1.00   \n",
       "75%            0.66     0.48     0.68     0.83             0.82         1.00   \n",
       "max            2.05     4.42     1.72     2.79             4.29         1.00   \n",
       "\n",
       "       is_active_member  estimated_salary  geography_Germany  geography_Spain  \\\n",
       "count          2,000.00          2,000.00           2,000.00         2,000.00   \n",
       "mean               0.54              0.00               0.25             0.24   \n",
       "std                0.50              1.00               0.43             0.42   \n",
       "min                0.00             -1.74               0.00             0.00   \n",
       "25%                0.00             -0.84               0.00             0.00   \n",
       "50%                1.00              0.01               0.00             0.00   \n",
       "75%                1.00              0.88               0.00             0.00   \n",
       "max                1.00              1.74               1.00             1.00   \n",
       "\n",
       "       gender_Male  \n",
       "count     2,000.00  \n",
       "mean          0.55  \n",
       "std           0.50  \n",
       "min           0.00  \n",
       "25%           0.00  \n",
       "50%           1.00  \n",
       "75%           1.00  \n",
       "max           1.00  "
      ]
     },
     "metadata": {},
     "output_type": "display_data"
    },
    {
     "data": {
      "image/png": "[encoded data removed]",
      "text/plain": [
       "<Figure size 1500x1000 with 12 Axes>"
      ]
     },
     "metadata": {},
     "output_type": "display_data"
    },
    {
     "name": "stdout",
     "output_type": "stream",
     "text": [
      "features_test\n"
     ]
    },
    {
     "data": {
      "text/html": [
       "<div>\n",
       "<style scoped>\n",
       "    .dataframe tbody tr th:only-of-type {\n",
       "        vertical-align: middle;\n",
       "    }\n",
       "\n",
       "    .dataframe tbody tr th {\n",
       "        vertical-align: top;\n",
       "    }\n",
       "\n",
       "    .dataframe thead th {\n",
       "        text-align: right;\n",
       "    }\n",
       "</style>\n",
       "<table border=\"1\" class=\"dataframe\">\n",
       "  <thead>\n",
       "    <tr style=\"text-align: right;\">\n",
       "      <th></th>\n",
       "      <th>credit_score</th>\n",
       "      <th>age</th>\n",
       "      <th>tenure</th>\n",
       "      <th>balance</th>\n",
       "      <th>num_of_products</th>\n",
       "      <th>has_cr_card</th>\n",
       "      <th>is_active_member</th>\n",
       "      <th>estimated_salary</th>\n",
       "      <th>geography_Germany</th>\n",
       "      <th>geography_Spain</th>\n",
       "      <th>gender_Male</th>\n",
       "    </tr>\n",
       "  </thead>\n",
       "  <tbody>\n",
       "    <tr>\n",
       "      <th>count</th>\n",
       "      <td>2,000.00</td>\n",
       "      <td>2,000.00</td>\n",
       "      <td>2,000.00</td>\n",
       "      <td>2,000.00</td>\n",
       "      <td>2,000.00</td>\n",
       "      <td>2,000.00</td>\n",
       "      <td>2,000.00</td>\n",
       "      <td>2,000.00</td>\n",
       "      <td>2,000.00</td>\n",
       "      <td>2,000.00</td>\n",
       "      <td>2,000.00</td>\n",
       "    </tr>\n",
       "    <tr>\n",
       "      <th>mean</th>\n",
       "      <td>0.01</td>\n",
       "      <td>-0.01</td>\n",
       "      <td>0.02</td>\n",
       "      <td>-0.02</td>\n",
       "      <td>0.03</td>\n",
       "      <td>0.71</td>\n",
       "      <td>0.51</td>\n",
       "      <td>0.01</td>\n",
       "      <td>0.25</td>\n",
       "      <td>0.26</td>\n",
       "      <td>0.55</td>\n",
       "    </tr>\n",
       "    <tr>\n",
       "      <th>std</th>\n",
       "      <td>0.98</td>\n",
       "      <td>1.01</td>\n",
       "      <td>0.99</td>\n",
       "      <td>1.00</td>\n",
       "      <td>1.03</td>\n",
       "      <td>0.45</td>\n",
       "      <td>0.50</td>\n",
       "      <td>1.01</td>\n",
       "      <td>0.43</td>\n",
       "      <td>0.44</td>\n",
       "      <td>0.50</td>\n",
       "    </tr>\n",
       "    <tr>\n",
       "      <th>min</th>\n",
       "      <td>-3.09</td>\n",
       "      <td>-2.02</td>\n",
       "      <td>-1.74</td>\n",
       "      <td>-1.23</td>\n",
       "      <td>-0.91</td>\n",
       "      <td>0.00</td>\n",
       "      <td>0.00</td>\n",
       "      <td>-1.74</td>\n",
       "      <td>0.00</td>\n",
       "      <td>0.00</td>\n",
       "      <td>0.00</td>\n",
       "    </tr>\n",
       "    <tr>\n",
       "      <th>25%</th>\n",
       "      <td>-0.67</td>\n",
       "      <td>-0.67</td>\n",
       "      <td>-0.70</td>\n",
       "      <td>-1.23</td>\n",
       "      <td>-0.91</td>\n",
       "      <td>0.00</td>\n",
       "      <td>0.00</td>\n",
       "      <td>-0.86</td>\n",
       "      <td>0.00</td>\n",
       "      <td>0.00</td>\n",
       "      <td>0.00</td>\n",
       "    </tr>\n",
       "    <tr>\n",
       "      <th>50%</th>\n",
       "      <td>0.01</td>\n",
       "      <td>-0.19</td>\n",
       "      <td>-0.01</td>\n",
       "      <td>0.33</td>\n",
       "      <td>-0.91</td>\n",
       "      <td>1.00</td>\n",
       "      <td>1.00</td>\n",
       "      <td>0.01</td>\n",
       "      <td>0.00</td>\n",
       "      <td>0.00</td>\n",
       "      <td>1.00</td>\n",
       "    </tr>\n",
       "    <tr>\n",
       "      <th>75%</th>\n",
       "      <td>0.68</td>\n",
       "      <td>0.48</td>\n",
       "      <td>1.03</td>\n",
       "      <td>0.81</td>\n",
       "      <td>0.82</td>\n",
       "      <td>1.00</td>\n",
       "      <td>1.00</td>\n",
       "      <td>0.87</td>\n",
       "      <td>0.00</td>\n",
       "      <td>1.00</td>\n",
       "      <td>1.00</td>\n",
       "    </tr>\n",
       "    <tr>\n",
       "      <th>max</th>\n",
       "      <td>2.05</td>\n",
       "      <td>5.09</td>\n",
       "      <td>1.72</td>\n",
       "      <td>2.33</td>\n",
       "      <td>4.29</td>\n",
       "      <td>1.00</td>\n",
       "      <td>1.00</td>\n",
       "      <td>1.74</td>\n",
       "      <td>1.00</td>\n",
       "      <td>1.00</td>\n",
       "      <td>1.00</td>\n",
       "    </tr>\n",
       "  </tbody>\n",
       "</table>\n",
       "</div>"
      ],
      "text/plain": [
       "       credit_score      age   tenure  balance  num_of_products  has_cr_card  \\\n",
       "count      2,000.00 2,000.00 2,000.00 2,000.00         2,000.00     2,000.00   \n",
       "mean           0.01    -0.01     0.02    -0.02             0.03         0.71   \n",
       "std            0.98     1.01     0.99     1.00             1.03         0.45   \n",
       "min           -3.09    -2.02    -1.74    -1.23            -0.91         0.00   \n",
       "25%           -0.67    -0.67    -0.70    -1.23            -0.91         0.00   \n",
       "50%            0.01    -0.19    -0.01     0.33            -0.91         1.00   \n",
       "75%            0.68     0.48     1.03     0.81             0.82         1.00   \n",
       "max            2.05     5.09     1.72     2.33             4.29         1.00   \n",
       "\n",
       "       is_active_member  estimated_salary  geography_Germany  geography_Spain  \\\n",
       "count          2,000.00          2,000.00           2,000.00         2,000.00   \n",
       "mean               0.51              0.01               0.25             0.26   \n",
       "std                0.50              1.01               0.43             0.44   \n",
       "min                0.00             -1.74               0.00             0.00   \n",
       "25%                0.00             -0.86               0.00             0.00   \n",
       "50%                1.00              0.01               0.00             0.00   \n",
       "75%                1.00              0.87               0.00             1.00   \n",
       "max                1.00              1.74               1.00             1.00   \n",
       "\n",
       "       gender_Male  \n",
       "count     2,000.00  \n",
       "mean          0.55  \n",
       "std           0.50  \n",
       "min           0.00  \n",
       "25%           0.00  \n",
       "50%           1.00  \n",
       "75%           1.00  \n",
       "max           1.00  "
      ]
     },
     "metadata": {},
     "output_type": "display_data"
    },
    {
     "data": {
      "image/png": "[encoded data removed]",
      "text/plain": [
       "<Figure size 1500x1000 with 12 Axes>"
      ]
     },
     "metadata": {},
     "output_type": "display_data"
    }
   ],
   "source": [
    "d = {'features_train': features_train, 'features_valid': features_valid, 'features_test':  features_test}\n",
    "for ft in d:\n",
    "    print(ft)\n",
    "    display(d[ft].describe())\n",
    "    d[ft].hist(figsize=(15, 10))\n",
    "    plt.show()"
   ]
  },
  {
   "cell_type": "markdown",
   "metadata": {},
   "source": [
    "Все признаки отмасштабированы. Можем двигаться дальше."
   ]
  },
  {
   "cell_type": "markdown",
   "metadata": {},
   "source": [
    "**Вывод:** При подготовке данных были выполнены следущие действия:\n",
    "- загрузка данных;\n",
    "\n",
    "\n",
    "- предобработка данных:\n",
    "    - названия колонок приведены к змеиному_регистру;\n",
    "    - заполнены пропуски;\n",
    "    - проверка наличия дубликатов;\n",
    "    \n",
    "    \n",
    "    \n",
    "- подготовка признаков:\n",
    "    - удалены лишние признаки;\n",
    "    - закодированы категориальные признаки методом OHE;\n",
    "    - стандартизированы количественные признаки;\n",
    "    - выделен целевой признак в отдельную переменую `target`, ост признаки в `features`;\n",
    "    - выборка разделена на тренировочную, валидационную, тестовую в пропорции 3:1:1.\n"
   ]
  },
  {
   "cell_type": "markdown",
   "metadata": {},
   "source": [
    "## Исследование задачи"
   ]
  },
  {
   "cell_type": "code",
   "execution_count": 51,
   "metadata": {},
   "outputs": [
    {
     "data": {
      "image/png": "[encoded data removed]",
      "text/plain": [
       "<Figure size 640x480 with 1 Axes>"
      ]
     },
     "metadata": {},
     "output_type": "display_data"
    }
   ],
   "source": [
    "target.value_counts().plot.bar() # проверим баланс классов\n",
    "plt.title('распределение классов')\n",
    "plt.xlabel('класс')\n",
    "None"
   ]
  },
  {
   "cell_type": "markdown",
   "metadata": {},
   "source": [
    "Дисбаланс есть. Обучим модели и посмотрим метрики качества."
   ]
  },
  {
   "cell_type": "code",
   "execution_count": 41,
   "metadata": {},
   "outputs": [],
   "source": [
    "# Функция расчета метрик\n",
    "\n",
    "def calculate_metrics(target, predict_proba):\n",
    "    \n",
    "    predict = (predict_proba[:, 1] > 0.5).astype('int')\n",
    "    \n",
    "    accuracy = accuracy_score(target, predict)\n",
    "    precision = precision_score(target, predict)\n",
    "    recall = recall_score(target, predict)\n",
    "    roc_auc = roc_auc_score(target, predict_proba[:, 1])\n",
    "    f1 = f1_score(target, predict)\n",
    "\n",
    "    return [accuracy, precision, recall, roc_auc, f1]"
   ]
  },
  {
   "cell_type": "code",
   "execution_count": 43,
   "metadata": {},
   "outputs": [
    {
     "data": {
      "image/png": "[encoded data removed]",
      "text/plain": [
       "<Figure size 432x288 with 2 Axes>"
      ]
     },
     "metadata": {
      "needs_background": "light"
     },
     "output_type": "display_data"
    }
   ],
   "source": [
    "# Инициализируем модели\n",
    "\n",
    "r = {'DecisionTree': [0]*5, 'RandomForest': [0]*5, 'LogisticRegression': [0]*5} # результирующий словарь\n",
    "\n",
    "for depth in range(1, 16):\n",
    "    model_dt0 = DecisionTreeClassifier(random_state=1234, max_depth=depth)  # решающее дерево\n",
    "    model_dt0.fit(features_train, target_train)\n",
    "    pred = model_dt0.predict_proba(features_valid)\n",
    "    d = calculate_metrics(target_valid, pred)\n",
    "    if d[-1] > r['DecisionTree'][-1]:\n",
    "        r['DecisionTree'] = d\n",
    "    \n",
    "for est in range(10, 151, 10):    \n",
    "    for depth in range(1, 16):\n",
    "        model_rf0 = RandomForestClassifier(random_state=1234, max_depth=depth, n_estimators=est) # случайный лес\n",
    "        model_rf0.fit(features_train, target_train)\n",
    "        pred = model_rf0.predict_proba(features_valid)\n",
    "        d = calculate_metrics(target_valid, pred)\n",
    "        if d[-1] > r['RandomForest'][-1]:\n",
    "            r['RandomForest'] = d    \n",
    "            \n",
    "model_lr0 = LogisticRegression(random_state=1234)      # логистическая регрессия   \n",
    "model_lr0.fit(features_train, target_train)\n",
    "pred = model_lr0.predict_proba(features_valid)\n",
    "r['LogisticRegression'] = calculate_metrics(target_valid, pred)\n",
    "\n",
    "# Выводим результат\n",
    "res = pd.DataFrame(data=r, index=['accuracy', 'precision', 'recall', 'roc_auc', 'f1'])\n",
    "sns.heatmap(res, annot=True, cmap='Greens', linewidth=5)\n",
    "plt.yticks(rotation=0)\n",
    "None"
   ]
  },
  {
   "cell_type": "markdown",
   "metadata": {},
   "source": [
    "**Вывод:** На данном этапе исследования был выявлен **дисбаланс** классов. Объектов **класса 1** примерно **в 4 раза меньше**. Было обучено 3 модели при данном дисбалансе классов, посчитаны основные метрики. Лучший результат показала модель ***`случайного леса`***:\n",
    "\n",
    "    accuracy: 0.87\n",
    "    precision: 0.78\n",
    "    recall: 0.45\n",
    "    roc_auc: 0.85\n",
    "    f1: 0.57\n",
    "  \n",
    "  \n",
    "Остальные модели показали менее удовлетворительные показатели. Более подробно можно ознакомиться в предыдущей ячейке."
   ]
  },
  {
   "cell_type": "markdown",
   "metadata": {},
   "source": [
    "## Борьба с дисбалансом"
   ]
  },
  {
   "cell_type": "markdown",
   "metadata": {},
   "source": [
    "Есть несколько способов убрать дисбаланс классов: взвешивание, увеличение выборки(upsampling) и уменьшение выборки(downsampling), изменение порога. Предлагаю взять на пробу несколько методов, и посмотреть, при каком сочетании будут лучшие показатели.\n",
    " "
   ]
  },
  {
   "cell_type": "code",
   "execution_count": 44,
   "metadata": {},
   "outputs": [],
   "source": [
    "# функция увеличения выборки\n",
    "\n",
    "def upsample(features, target, repeat, up_class):\n",
    "\n",
    "    features_upsampled = pd.concat([features[target == 1 - up_class]] + [features[target == up_class]] * repeat)\n",
    "    target_upsampled = pd.concat([target[target == 1 - up_class]] + [target[target == up_class]] * repeat)\n",
    "    \n",
    "    features_upsampled, target_upsampled = shuffle(\n",
    "        features_upsampled, target_upsampled, random_state=1234)\n",
    "    \n",
    "    return features_upsampled, target_upsampled"
   ]
  },
  {
   "cell_type": "code",
   "execution_count": 45,
   "metadata": {},
   "outputs": [],
   "source": [
    "# функция уменшения выборки\n",
    "\n",
    "def downsample(features, target, fraction, down_class):\n",
    "    \n",
    "    features_downsampled = pd.concat([features[target == 1 - down_class]] + \n",
    "                                     [features[target == down_class].sample(frac=fraction, random_state=1234)])\n",
    "    \n",
    "    target_downsampled = pd.concat([target[target == 1 - down_class]] + \n",
    "                                   [target[target == down_class].sample(frac=fraction, random_state=1234)])\n",
    "    \n",
    "    features_downsampled, target_downsampled = shuffle(\n",
    "        features_downsampled, target_downsampled, random_state=1234)\n",
    "    \n",
    "    return features_downsampled, target_downsampled"
   ]
  },
  {
   "cell_type": "code",
   "execution_count": 46,
   "metadata": {},
   "outputs": [
    {
     "data": {
      "image/png": "[encoded data removed]",
      "text/plain": [
       "<Figure size 216x216 with 1 Axes>"
      ]
     },
     "metadata": {
      "needs_background": "light"
     },
     "output_type": "display_data"
    },
    {
     "data": {
      "image/png": "[encoded data removed]",
      "text/plain": [
       "<Figure size 216x216 with 1 Axes>"
      ]
     },
     "metadata": {
      "needs_background": "light"
     },
     "output_type": "display_data"
    }
   ],
   "source": [
    "# Балансируем классы 2 способами \n",
    "features_upsampled, target_upsampled = upsample(features_train, target_train, repeat=4, up_class=1)\n",
    "features_downsampled, target_downsampled = downsample(features_train, target_train, fraction=0.25, down_class=0)\n",
    "\n",
    "# Смотрим результат\n",
    "target_upsampled.value_counts().plot.bar(title='upsampled', figsize=(3, 3))\n",
    "plt.show()\n",
    "target_downsampled.value_counts().plot.bar(title='downsampled', figsize=(3, 3))\n",
    "plt.show() "
   ]
  },
  {
   "cell_type": "markdown",
   "metadata": {},
   "source": [
    "Как видим, классы стали почти идеально сбалансированы любым способом. Далее проведем серию экспериментов, используя раздичные методы балансировки классов и проверим результат на разных моделях. Лучшую конфигурацию возьмем в финальную реализацию."
   ]
  },
  {
   "cell_type": "code",
   "execution_count": 47,
   "metadata": {
    "scrolled": true
   },
   "outputs": [
    {
     "data": {
      "image/png": "[encoded data removed]",
      "text/plain": [
       "<Figure size 432x288 with 2 Axes>"
      ]
     },
     "metadata": {
      "needs_background": "light"
     },
     "output_type": "display_data"
    }
   ],
   "source": [
    "# взвешивание\n",
    "\n",
    "r = {'DecisionTreeW': [0]*5, 'RandomForestW': [0]*5, 'LogisticRegressionW': [0]*5} # результирующий словарь\n",
    "\n",
    "for depth in range(1, 16):\n",
    "    model_dt_w = DecisionTreeClassifier(random_state=1234, class_weight='balanced') # решающее дерево с балансом\n",
    "    model_dt_w.fit(features_train, target_train)\n",
    "    pred = model_dt_w.predict_proba(features_valid)\n",
    "    d = calculate_metrics(target_valid, pred)\n",
    "    if d[-1] > r['DecisionTreeW'][-1]:\n",
    "        r['DecisionTreeW'] = d\n",
    "\n",
    "        \n",
    "for est in range(10, 151, 10):    \n",
    "    for depth in range(1, 16):\n",
    "        model_rf_w = RandomForestClassifier(random_state=1234, max_depth=depth, n_estimators=est, class_weight='balanced') # случайный лес\n",
    "        model_rf_w.fit(features_train, target_train)\n",
    "        pred = model_rf_w.predict_proba(features_valid)\n",
    "        d = calculate_metrics(target_valid, pred)\n",
    "        if d[-1] > r['RandomForestW'][-1]:\n",
    "            r['RandomForestW'] = d  \n",
    "            \n",
    "model_lr_w = LogisticRegression(random_state=1234, class_weight='balanced')      # логистическая регрессия   \n",
    "model_lr_w.fit(features_train, target_train)\n",
    "pred = model_lr_w.predict_proba(features_valid)\n",
    "r['LogisticRegressionW'] = calculate_metrics(target_valid, pred)\n",
    "\n",
    "# Выводим результат\n",
    "res = pd.DataFrame(data=r, index=['accuracy', 'precision', 'recall', 'roc_auc', 'f1'])\n",
    "sns.heatmap(res, annot=True, cmap='Greens', linewidth=5)\n",
    "plt.yticks(rotation=0)\n",
    "None"
   ]
  },
  {
   "cell_type": "code",
   "execution_count": 48,
   "metadata": {},
   "outputs": [
    {
     "data": {
      "image/png": "[encoded data removed]",
      "text/plain": [
       "<Figure size 432x288 with 2 Axes>"
      ]
     },
     "metadata": {
      "needs_background": "light"
     },
     "output_type": "display_data"
    }
   ],
   "source": [
    "# увеличение выборки\n",
    "\n",
    "r = {'DecisionTreeUpsampled': [0]*5, 'RandomForestUpsampled': [0]*5, 'LogisticRegressionUpsampled': [0]*5} # результирующий словарь\n",
    "\n",
    "for depth in range(1, 16):\n",
    "    model_dt0 = DecisionTreeClassifier(random_state=1234, max_depth=depth)  # решающее дерево\n",
    "    model_dt0.fit(features_upsampled, target_upsampled)\n",
    "    pred = model_dt0.predict_proba(features_valid)\n",
    "    d = calculate_metrics(target_valid, pred)\n",
    "    if d[-1] > r['DecisionTreeUpsampled'][-1]:\n",
    "        r['DecisionTreeUpsampled'] = d\n",
    "    \n",
    "for est in range(10, 151, 10):    \n",
    "    for depth in range(1, 16):\n",
    "        model_rf0 = RandomForestClassifier(random_state=1234, max_depth=depth, n_estimators=est) # случайный лес\n",
    "        model_rf0.fit(features_upsampled, target_upsampled)\n",
    "        pred = model_rf0.predict_proba(features_valid)\n",
    "        d = calculate_metrics(target_valid, pred)\n",
    "        if d[-1] > r['RandomForestUpsampled'][-1]:\n",
    "            r['RandomForestUpsampled'] = d    \n",
    "            \n",
    "model_lr0 = LogisticRegression(random_state=1234)      # логистическая регрессия   \n",
    "model_lr0.fit(features_upsampled, target_upsampled)\n",
    "pred = model_lr0.predict_proba(features_valid)\n",
    "r['LogisticRegressionUpsampled'] = calculate_metrics(target_valid, pred)\n",
    "\n",
    "# Выводим результат\n",
    "res = pd.DataFrame(data=r, index=['accuracy', 'precision', 'recall', 'roc_auc', 'f1'])\n",
    "sns.heatmap(res, annot=True, cmap='Greens', linewidth=5)\n",
    "plt.yticks(rotation=0)\n",
    "None"
   ]
  },
  {
   "cell_type": "code",
   "execution_count": 49,
   "metadata": {},
   "outputs": [
    {
     "data": {
      "image/png": "[encoded data removed]",
      "text/plain": [
       "<Figure size 432x288 with 2 Axes>"
      ]
     },
     "metadata": {
      "needs_background": "light"
     },
     "output_type": "display_data"
    }
   ],
   "source": [
    "# уменьшение выборки\n",
    "\n",
    "r = {'DecisionTreeDownsampled': [0]*5, 'RandomForestDownsampled': [0]*5, 'LogisticRegressionDownsampled': [0]*5} # результирующий словарь\n",
    "\n",
    "for depth in range(1, 16):\n",
    "    model_dt0 = DecisionTreeClassifier(random_state=1234, max_depth=depth)  # решающее дерево\n",
    "    model_dt0.fit(features_downsampled, target_downsampled)\n",
    "    pred = model_dt0.predict_proba(features_valid)\n",
    "    d = calculate_metrics(target_valid, pred)\n",
    "    if d[-1] > r['DecisionTreeDownsampled'][-1]:\n",
    "        r['DecisionTreeDownsampled'] = d\n",
    "    \n",
    "for est in range(10, 151, 10):    \n",
    "    for depth in range(1, 16):\n",
    "        model_rf0 = RandomForestClassifier(random_state=1234, max_depth=depth, n_estimators=est) # случайный лес\n",
    "        model_rf0.fit(features_downsampled, target_downsampled)\n",
    "        pred = model_rf0.predict_proba(features_valid)\n",
    "        d = calculate_metrics(target_valid, pred)\n",
    "        if d[-1] > r['RandomForestDownsampled'][-1]:\n",
    "            r['RandomForestDownsampled'] = d    \n",
    "            \n",
    "model_lr0 = LogisticRegression(random_state=1234)      # логистическая регрессия   \n",
    "model_lr0.fit(features_downsampled, target_downsampled)\n",
    "pred = model_lr0.predict_proba(features_valid)\n",
    "r['LogisticRegressionDownsampled'] = calculate_metrics(target_valid, pred)\n",
    "\n",
    "# Выводим результат\n",
    "res = pd.DataFrame(data=r, index=['accuracy', 'precision', 'recall', 'roc_auc', 'f1'])\n",
    "sns.heatmap(res, annot=True, cmap='Greens', linewidth=5)\n",
    "plt.yticks(rotation=0)\n",
    "None"
   ]
  },
  {
   "cell_type": "code",
   "execution_count": 50,
   "metadata": {},
   "outputs": [],
   "source": [
    "# добавим в функцию расчета метрик параметр threshold\n",
    "\n",
    "def calculate_metrics_thr(target, predict_proba, threshold):\n",
    "    \n",
    "    predict = (predict_proba[:, 1] > threshold).astype('int')\n",
    "    \n",
    "    accuracy = accuracy_score(target, predict)\n",
    "    precision = precision_score(target, predict)\n",
    "    recall = recall_score(target, predict)\n",
    "    roc_auc = roc_auc_score(target, predict_proba[:, 1])\n",
    "    f1 = f1_score(target, predict)\n",
    "\n",
    "    return [accuracy, precision, recall, roc_auc, f1]"
   ]
  },
  {
   "cell_type": "code",
   "execution_count": 51,
   "metadata": {},
   "outputs": [
    {
     "data": {
      "image/png": "[encoded data removed]",
      "text/plain": [
       "<Figure size 432x288 with 2 Axes>"
      ]
     },
     "metadata": {
      "needs_background": "light"
     },
     "output_type": "display_data"
    }
   ],
   "source": [
    "# изменение порога\n",
    "\n",
    "r = {'DecisionTreeThreshold': [0]*5, 'RandomForestThreshold': [0]*5, 'LogisticRegressionThreshold': [0]*5} # результирующий словарь\n",
    "\n",
    "# решающее дерево\n",
    "for depth in range(1, 16):\n",
    "    model_dt0 = DecisionTreeClassifier(random_state=1234, max_depth=depth) \n",
    "    model_dt0.fit(features_train, target_train)\n",
    "    pred = model_dt0.predict_proba(features_valid)\n",
    "    for th in np.linspace(0, 1, 100):\n",
    "        d = calculate_metrics_thr(target_valid, pred, th)\n",
    "        if d[-1] > r['DecisionTreeThreshold'][-1]:\n",
    "            r['DecisionTreeThreshold'] = d\n",
    "\n",
    "            \n",
    "# случайный лес      \n",
    "for est in range(10, 151, 10):\n",
    "    for depth in range(1, 16):\n",
    "        model_rf0 = RandomForestClassifier(random_state=1234, max_depth=depth, n_estimators=est) # случайный лес\n",
    "        model_rf0.fit(features_train, target_train)\n",
    "        pred = model_rf0.predict_proba(features_valid) # вероятности классов\n",
    "        for th in np.linspace(0, 1, 100):\n",
    "            d = calculate_metrics_thr(target_valid, pred, th)\n",
    "            if d[-1] > r['RandomForestThreshold'][-1]:\n",
    "                r['RandomForestThreshold'] = d    \n",
    "\n",
    "                \n",
    "# логистическая регрессия\n",
    "model_lr0 = LogisticRegression(random_state=1234)         \n",
    "model_lr0.fit(features_train, target_train)\n",
    "pred = model_lr0.predict_proba(features_valid)\n",
    "for th in np.linspace(0, 1, 100):\n",
    "    d = calculate_metrics_thr(target_valid, pred, th)\n",
    "    if d[-1] > r['LogisticRegressionThreshold'][-1]:\n",
    "        r['LogisticRegressionThreshold'] = d    \n",
    "\n",
    "# Выводим результат\n",
    "res = pd.DataFrame(data=r, index=['accuracy', 'precision', 'recall', 'roc_auc', 'f1'])\n",
    "sns.heatmap(res, annot=True, cmap='Greens', linewidth=5)\n",
    "plt.yticks(rotation=0)\n",
    "None"
   ]
  },
  {
   "cell_type": "code",
   "execution_count": 52,
   "metadata": {},
   "outputs": [
    {
     "data": {
      "image/png": "[encoded data removed]",
      "text/plain": [
       "<Figure size 432x288 with 2 Axes>"
      ]
     },
     "metadata": {
      "needs_background": "light"
     },
     "output_type": "display_data"
    }
   ],
   "source": [
    "# изменение порога + взвешивание\n",
    "\n",
    "r = {'DecisionTreeThreshold+W': [0]*5, 'RandomForestThreshold+W': [0]*5, 'LogisticRegressionThreshold+W': [0]*5} # результирующий словарь\n",
    "\n",
    "# решающее дерево\n",
    "for depth in range(1, 16):\n",
    "    model_dt0 = DecisionTreeClassifier(random_state=1234, max_depth=depth, class_weight='balanced') \n",
    "    model_dt0.fit(features_train, target_train)\n",
    "    pred = model_dt0.predict_proba(features_valid)\n",
    "    for th in np.linspace(0, 1, 100):\n",
    "        d = calculate_metrics_thr(target_valid, pred, th)\n",
    "        if d[-1] > r['DecisionTreeThreshold+W'][-1]:\n",
    "            r['DecisionTreeThreshold+W'] = d\n",
    "\n",
    "            \n",
    "# случайный лес      \n",
    "for est in range(10, 151, 10):\n",
    "    for depth in range(1, 16):\n",
    "        model_rf0 = RandomForestClassifier(random_state=1234, max_depth=depth, n_estimators=est, class_weight='balanced') # случайный лес\n",
    "        model_rf0.fit(features_train, target_train)\n",
    "        pred = model_rf0.predict_proba(features_valid) # вероятности классов\n",
    "        for th in np.linspace(0, 1, 100):\n",
    "            d = calculate_metrics_thr(target_valid, pred, th)\n",
    "            if d[-1] > r['RandomForestThreshold+W'][-1]:\n",
    "                r['RandomForestThreshold+W'] = d    \n",
    "\n",
    "                \n",
    "# логистическая регрессия\n",
    "model_lr0 = LogisticRegression(random_state=1234, class_weight='balanced')         \n",
    "model_lr0.fit(features_train, target_train)\n",
    "pred = model_lr0.predict_proba(features_valid)\n",
    "for th in np.linspace(0, 1, 100):\n",
    "    d = calculate_metrics_thr(target_valid, pred, th)\n",
    "    if d[-1] > r['LogisticRegressionThreshold+W'][-1]:\n",
    "        r['LogisticRegressionThreshold+W'] = d    \n",
    "\n",
    "# Выводим результат\n",
    "res = pd.DataFrame(data=r, index=['accuracy', 'precision', 'recall', 'roc_auc', 'f1'])\n",
    "sns.heatmap(res, annot=True, cmap='Greens', linewidth=5)\n",
    "plt.yticks(rotation=0)\n",
    "None"
   ]
  },
  {
   "cell_type": "markdown",
   "metadata": {},
   "source": [
    "Получили самый лучший результат f1 на сбалансированном случайном лесе."
   ]
  },
  {
   "cell_type": "markdown",
   "metadata": {},
   "source": [
    "**Вывод:** В результате проделанных экспериментов на выходе имеем 3 таблицы. Каждая таблица хранит метрики для различных моделей. В строках - метрики, в столбцах - методы балансировки: \n",
    "\n",
    "* none - без балансировки\n",
    "* weight - взвешивание модели\n",
    "* threshold - изменение порога\n",
    "* th&weight - комбинирование взвешивания и изменения порога\n",
    "* upsampled - увеличение выборки\n",
    "* downsampled - уменшение выборки\n",
    "\n",
    "Целевая метрика нашего иследования `f1` имеет самые высокие показатели в **сбалансированной модели случайного леса**\n",
    "\n",
    "Используем данную конфигурацию в финальной модели. "
   ]
  },
  {
   "cell_type": "markdown",
   "metadata": {},
   "source": [
    "## Исследование финальной модели"
   ]
  },
  {
   "cell_type": "markdown",
   "metadata": {},
   "source": [
    "Подберем гиперпараметры для финальной модели. Для этого используем фреймворк `optuna`, который специально под это заточен. Параметры, при которых f1 мера будет максимальной, будут финальными."
   ]
  },
  {
   "cell_type": "code",
   "execution_count": 66,
   "metadata": {},
   "outputs": [],
   "source": [
    "# Функция подбора гиперпараметров\n",
    "\n",
    "def objective(trial):\n",
    "    \n",
    "# Задаем гиперпараметры\n",
    "\n",
    "    rf_estimators = trial.suggest_int('rf_estimators', 10, 100, step=10)\n",
    "    rf_max_depth = trial.suggest_int('rf_max_depth', 1, 15)\n",
    "#     rf_max_features = trial.suggest_categorical('rf_max_features', ['sqrt', 'log2', None])\n",
    "#     rf_min_samples_split = trial.suggest_int('rf_min_samples_split', 2, 8)\n",
    "    rf_min_samples_leaf = trial.suggest_int('rf_min_samples_leaf', 1, 5) \n",
    "#     rf_bootstrap = trial.suggest_categorical('rf_bootstrap', [True, False])\n",
    "#     rf_criterion =  trial.suggest_categorical('rf_criterion', ['gini', 'entropy'])\n",
    "\n",
    "# Инициализируем модель\n",
    "\n",
    "    classifier_obj = RandomForestClassifier(n_estimators=rf_estimators,\n",
    "                                           max_depth=rf_max_depth,\n",
    "#                                            max_features=rf_max_features,\n",
    "#                                            min_samples_split=rf_min_samples_split,\n",
    "                                           min_samples_leaf=rf_min_samples_leaf,\n",
    "#                                            bootstrap=rf_bootstrap,\n",
    "#                                            criterion=rf_criterion,\n",
    "#                                            class_weight='balanced',\n",
    "                                           random_state=12345)\n",
    "    \n",
    "# Тренируем модель, считаем f1 при разных порогах и фиксируем лучший результат\n",
    "    f1 = 0\n",
    "    classifier_obj.fit(features_train, target_train)\n",
    "    pred_proba = classifier_obj.predict_proba(features_valid)\n",
    "    for th in np.linspace(0, 1, 100):     \n",
    "        preds = (pred_proba[:, 1] > th).astype('int')\n",
    "        f1_inter = f1_score(target_valid, preds)     \n",
    "        if f1_inter > f1:\n",
    "            f1 = f1_inter\n",
    "                \n",
    "    return f1"
   ]
  },
  {
   "cell_type": "code",
   "execution_count": 56,
   "metadata": {},
   "outputs": [],
   "source": [
    "# # Функция подбора гиперпараметров\n",
    "\n",
    "# def objective(trial):\n",
    "    \n",
    "# # Задаем гиперпараметры\n",
    "\n",
    "#     rf_estimators = trial.suggest_int('rf_estimators', 10, 100, step=10)\n",
    "#     rf_max_depth = trial.suggest_int('rf_max_depth', 1, 15)\n",
    "#     rf_max_features = trial.suggest_categorical('rf_max_features', ['sqrt', 'log2', None])\n",
    "#     rf_min_samples_split = trial.suggest_int('rf_min_samples_split', 2, 8)\n",
    "#     rf_min_samples_leaf = trial.suggest_int('rf_min_samples_leaf', 1, 5) \n",
    "#     rf_bootstrap = trial.suggest_categorical('rf_bootstrap', [True, False])\n",
    "#     rf_criterion =  trial.suggest_categorical('rf_criterion', ['gini', 'entropy'])\n",
    "\n",
    "# # Инициализируем модель\n",
    "\n",
    "#     classifier_obj = RandomForestClassifier(n_estimators=rf_estimators,\n",
    "#                                            max_depth=rf_max_depth,\n",
    "#                                            max_features=rf_max_features,\n",
    "#                                            min_samples_split=rf_min_samples_split,\n",
    "#                                            min_samples_leaf=rf_min_samples_leaf,\n",
    "#                                            bootstrap=rf_bootstrap,\n",
    "#                                            criterion=rf_criterion,\n",
    "#                                            class_weight='balanced',\n",
    "#                                            random_state=12345)\n",
    "    \n",
    "# # Тренируем модель, считаем f1 при разных порогах и фиксируем лучший результат\n",
    "#     f1 = 0\n",
    "\n",
    "#     classifier_obj.fit(features_train, target_train)\n",
    "#     for th in np.linspace(0, 1, 100):\n",
    "#         pred_proba = classifier_obj.predict_proba(features_valid)\n",
    "#         preds = (pred_proba[:, 1] > th).astype('int')\n",
    "#         f1_inter = f1_score(target_valid, preds)\n",
    "        \n",
    "#         if f1_inter > f1:\n",
    "#             f1 = f1_inter\n",
    "                \n",
    "#     return f1"
   ]
  },
  {
   "cell_type": "code",
   "execution_count": 67,
   "metadata": {},
   "outputs": [
    {
     "name": "stderr",
     "output_type": "stream",
     "text": [
      "[I 2023-08-01 18:51:42,241] A new study created in memory with name: no-name-6f055aba-854d-45a0-81f8-1e8641aeeef4\n",
      "[I 2023-08-01 18:51:49,567] Trial 2 finished with value: 0.5651537335285505 and parameters: {'rf_estimators': 10, 'rf_max_depth': 4, 'rf_min_samples_leaf': 2}. Best is trial 2 with value: 0.5651537335285505.\n",
      "[I 2023-08-01 18:51:49,610] Trial 4 finished with value: 0.6031746031746033 and parameters: {'rf_estimators': 10, 'rf_max_depth': 8, 'rf_min_samples_leaf': 5}. Best is trial 4 with value: 0.6031746031746033.\n",
      "[I 2023-08-01 18:51:50,312] Trial 0 finished with value: 0.5958549222797928 and parameters: {'rf_estimators': 20, 'rf_max_depth': 9, 'rf_min_samples_leaf': 1}. Best is trial 4 with value: 0.6031746031746033.\n",
      "[I 2023-08-01 18:51:50,363] Trial 6 finished with value: 0.594885598923284 and parameters: {'rf_estimators': 20, 'rf_max_depth': 8, 'rf_min_samples_leaf': 3}. Best is trial 4 with value: 0.6031746031746033.\n",
      "[I 2023-08-01 18:51:50,625] Trial 7 finished with value: 0.6105263157894737 and parameters: {'rf_estimators': 20, 'rf_max_depth': 9, 'rf_min_samples_leaf': 2}. Best is trial 7 with value: 0.6105263157894737.\n",
      "[I 2023-08-01 18:51:52,559] Trial 1 finished with value: 0.5987096774193548 and parameters: {'rf_estimators': 50, 'rf_max_depth': 9, 'rf_min_samples_leaf': 4}. Best is trial 7 with value: 0.6105263157894737.\n",
      "[I 2023-08-01 18:51:52,736] Trial 3 finished with value: 0.5962566844919787 and parameters: {'rf_estimators': 40, 'rf_max_depth': 15, 'rf_min_samples_leaf': 2}. Best is trial 7 with value: 0.6105263157894737.\n",
      "[I 2023-08-01 18:51:54,022] Trial 5 finished with value: 0.576271186440678 and parameters: {'rf_estimators': 90, 'rf_max_depth': 4, 'rf_min_samples_leaf': 2}. Best is trial 7 with value: 0.6105263157894737.\n",
      "[I 2023-08-01 18:51:57,863] Trial 12 finished with value: 0.5909090909090908 and parameters: {'rf_estimators': 10, 'rf_max_depth': 11, 'rf_min_samples_leaf': 3}. Best is trial 7 with value: 0.6105263157894737.\n",
      "[I 2023-08-01 18:51:59,237] Trial 8 finished with value: 0.5537634408602151 and parameters: {'rf_estimators': 70, 'rf_max_depth': 1, 'rf_min_samples_leaf': 2}. Best is trial 7 with value: 0.6105263157894737.\n",
      "[I 2023-08-01 18:51:59,244] Trial 9 finished with value: 0.5912806539509537 and parameters: {'rf_estimators': 50, 'rf_max_depth': 5, 'rf_min_samples_leaf': 2}. Best is trial 7 with value: 0.6105263157894737.\n",
      "[I 2023-08-01 18:52:00,143] Trial 13 finished with value: 0.5779816513761468 and parameters: {'rf_estimators': 20, 'rf_max_depth': 5, 'rf_min_samples_leaf': 3}. Best is trial 7 with value: 0.6105263157894737.\n",
      "[I 2023-08-01 18:52:00,271] Trial 14 finished with value: 0.5827338129496403 and parameters: {'rf_estimators': 10, 'rf_max_depth': 9, 'rf_min_samples_leaf': 5}. Best is trial 7 with value: 0.6105263157894737.\n",
      "[I 2023-08-01 18:52:00,729] Trial 10 finished with value: 0.5768621236133123 and parameters: {'rf_estimators': 60, 'rf_max_depth': 4, 'rf_min_samples_leaf': 2}. Best is trial 7 with value: 0.6105263157894737.\n",
      "[I 2023-08-01 18:52:00,908] Trial 11 finished with value: 0.5576102418207681 and parameters: {'rf_estimators': 80, 'rf_max_depth': 2, 'rf_min_samples_leaf': 2}. Best is trial 7 with value: 0.6105263157894737.\n",
      "[I 2023-08-01 18:52:06,732] Trial 15 finished with value: 0.5955786736020807 and parameters: {'rf_estimators': 70, 'rf_max_depth': 13, 'rf_min_samples_leaf': 3}. Best is trial 7 with value: 0.6105263157894737.\n",
      "[I 2023-08-01 18:52:08,358] Trial 18 finished with value: 0.5966981132075472 and parameters: {'rf_estimators': 30, 'rf_max_depth': 12, 'rf_min_samples_leaf': 5}. Best is trial 7 with value: 0.6105263157894737.\n",
      "[I 2023-08-01 18:52:08,621] Trial 17 finished with value: 0.5966981132075472 and parameters: {'rf_estimators': 30, 'rf_max_depth': 12, 'rf_min_samples_leaf': 5}. Best is trial 7 with value: 0.6105263157894737.\n",
      "[I 2023-08-01 18:52:09,471] Trial 19 finished with value: 0.5966981132075472 and parameters: {'rf_estimators': 30, 'rf_max_depth': 12, 'rf_min_samples_leaf': 5}. Best is trial 7 with value: 0.6105263157894737.\n",
      "[I 2023-08-01 18:52:09,662] Trial 20 finished with value: 0.5966981132075472 and parameters: {'rf_estimators': 30, 'rf_max_depth': 12, 'rf_min_samples_leaf': 5}. Best is trial 7 with value: 0.6105263157894737.\n",
      "[I 2023-08-01 18:52:10,034] Trial 21 finished with value: 0.5966981132075472 and parameters: {'rf_estimators': 30, 'rf_max_depth': 12, 'rf_min_samples_leaf': 5}. Best is trial 7 with value: 0.6105263157894737.\n",
      "[I 2023-08-01 18:52:10,429] Trial 22 finished with value: 0.5966981132075472 and parameters: {'rf_estimators': 30, 'rf_max_depth': 12, 'rf_min_samples_leaf': 5}. Best is trial 7 with value: 0.6105263157894737.\n",
      "[I 2023-08-01 18:52:11,324] Trial 16 finished with value: 0.5971685971685973 and parameters: {'rf_estimators': 70, 'rf_max_depth': 11, 'rf_min_samples_leaf': 1}. Best is trial 7 with value: 0.6105263157894737.\n",
      "[I 2023-08-01 18:52:15,848] Trial 23 finished with value: 0.5953002610966058 and parameters: {'rf_estimators': 30, 'rf_max_depth': 7, 'rf_min_samples_leaf': 5}. Best is trial 7 with value: 0.6105263157894737.\n",
      "[I 2023-08-01 18:52:17,537] Trial 24 finished with value: 0.5935302390998594 and parameters: {'rf_estimators': 30, 'rf_max_depth': 7, 'rf_min_samples_leaf': 4}. Best is trial 7 with value: 0.6105263157894737.\n",
      "[I 2023-08-01 18:52:19,159] Trial 26 finished with value: 0.5937499999999999 and parameters: {'rf_estimators': 40, 'rf_max_depth': 7, 'rf_min_samples_leaf': 4}. Best is trial 7 with value: 0.6105263157894737.\n",
      "[I 2023-08-01 18:52:19,626] Trial 27 finished with value: 0.592489568845619 and parameters: {'rf_estimators': 40, 'rf_max_depth': 6, 'rf_min_samples_leaf': 4}. Best is trial 7 with value: 0.6105263157894737.\n",
      "[I 2023-08-01 18:52:20,945] Trial 28 finished with value: 0.5983827493261455 and parameters: {'rf_estimators': 50, 'rf_max_depth': 7, 'rf_min_samples_leaf': 4}. Best is trial 7 with value: 0.6105263157894737.\n",
      "[I 2023-08-01 18:52:21,929] Trial 30 finished with value: 0.5983827493261455 and parameters: {'rf_estimators': 50, 'rf_max_depth': 7, 'rf_min_samples_leaf': 4}. Best is trial 7 with value: 0.6105263157894737.\n",
      "[I 2023-08-01 18:52:23,537] Trial 25 finished with value: 0.6027777777777779 and parameters: {'rf_estimators': 100, 'rf_max_depth': 7, 'rf_min_samples_leaf': 4}. Best is trial 7 with value: 0.6105263157894737.\n",
      "[I 2023-08-01 18:52:24,747] Trial 29 finished with value: 0.6027777777777779 and parameters: {'rf_estimators': 100, 'rf_max_depth': 7, 'rf_min_samples_leaf': 4}. Best is trial 7 with value: 0.6105263157894737.\n",
      "[I 2023-08-01 18:52:26,940] Trial 31 finished with value: 0.5983827493261455 and parameters: {'rf_estimators': 50, 'rf_max_depth': 7, 'rf_min_samples_leaf': 4}. Best is trial 7 with value: 0.6105263157894737.\n",
      "[I 2023-08-01 18:52:28,724] Trial 32 finished with value: 0.5987096774193548 and parameters: {'rf_estimators': 50, 'rf_max_depth': 9, 'rf_min_samples_leaf': 4}. Best is trial 7 with value: 0.6105263157894737.\n",
      "[I 2023-08-01 18:52:35,256] Trial 33 finished with value: 0.604923798358734 and parameters: {'rf_estimators': 100, 'rf_max_depth': 9, 'rf_min_samples_leaf': 4}. Best is trial 7 with value: 0.6105263157894737.\n",
      "[I 2023-08-01 18:52:35,742] Trial 34 finished with value: 0.604923798358734 and parameters: {'rf_estimators': 100, 'rf_max_depth': 9, 'rf_min_samples_leaf': 4}. Best is trial 7 with value: 0.6105263157894737.\n",
      "[I 2023-08-01 18:52:36,539] Trial 35 finished with value: 0.604923798358734 and parameters: {'rf_estimators': 100, 'rf_max_depth': 9, 'rf_min_samples_leaf': 4}. Best is trial 7 with value: 0.6105263157894737.\n",
      "[I 2023-08-01 18:52:38,014] Trial 36 finished with value: 0.59874213836478 and parameters: {'rf_estimators': 100, 'rf_max_depth': 9, 'rf_min_samples_leaf': 1}. Best is trial 7 with value: 0.6105263157894737.\n",
      "[I 2023-08-01 18:52:39,920] Trial 37 finished with value: 0.5906593406593407 and parameters: {'rf_estimators': 100, 'rf_max_depth': 10, 'rf_min_samples_leaf': 1}. Best is trial 7 with value: 0.6105263157894737.\n",
      "[I 2023-08-01 18:52:41,111] Trial 38 finished with value: 0.5906593406593407 and parameters: {'rf_estimators': 100, 'rf_max_depth': 10, 'rf_min_samples_leaf': 1}. Best is trial 7 with value: 0.6105263157894737.\n",
      "[I 2023-08-01 18:52:43,347] Trial 39 finished with value: 0.5906593406593407 and parameters: {'rf_estimators': 100, 'rf_max_depth': 10, 'rf_min_samples_leaf': 1}. Best is trial 7 with value: 0.6105263157894737.\n",
      "[I 2023-08-01 18:52:44,952] Trial 40 finished with value: 0.5906593406593407 and parameters: {'rf_estimators': 100, 'rf_max_depth': 10, 'rf_min_samples_leaf': 1}. Best is trial 7 with value: 0.6105263157894737.\n",
      "[I 2023-08-01 18:52:51,133] Trial 42 finished with value: 0.5893587994542975 and parameters: {'rf_estimators': 90, 'rf_max_depth': 10, 'rf_min_samples_leaf': 1}. Best is trial 7 with value: 0.6105263157894737.\n",
      "[I 2023-08-01 18:52:51,540] Trial 41 finished with value: 0.5906593406593407 and parameters: {'rf_estimators': 100, 'rf_max_depth': 10, 'rf_min_samples_leaf': 1}. Best is trial 7 with value: 0.6105263157894737.\n",
      "[I 2023-08-01 18:52:51,919] Trial 43 finished with value: 0.5965346534653465 and parameters: {'rf_estimators': 90, 'rf_max_depth': 10, 'rf_min_samples_leaf': 3}. Best is trial 7 with value: 0.6105263157894737.\n",
      "[I 2023-08-01 18:52:53,254] Trial 44 finished with value: 0.5965346534653465 and parameters: {'rf_estimators': 90, 'rf_max_depth': 10, 'rf_min_samples_leaf': 3}. Best is trial 7 with value: 0.6105263157894737.\n",
      "[I 2023-08-01 18:52:55,211] Trial 45 finished with value: 0.5965346534653465 and parameters: {'rf_estimators': 90, 'rf_max_depth': 10, 'rf_min_samples_leaf': 3}. Best is trial 7 with value: 0.6105263157894737.\n",
      "[I 2023-08-01 18:52:55,820] Trial 46 finished with value: 0.5965346534653465 and parameters: {'rf_estimators': 90, 'rf_max_depth': 10, 'rf_min_samples_leaf': 3}. Best is trial 7 with value: 0.6105263157894737.\n",
      "[I 2023-08-01 18:52:58,820] Trial 47 finished with value: 0.6036269430051813 and parameters: {'rf_estimators': 90, 'rf_max_depth': 14, 'rf_min_samples_leaf': 3}. Best is trial 7 with value: 0.6105263157894737.\n",
      "[I 2023-08-01 18:52:59,315] Trial 48 finished with value: 0.5931372549019608 and parameters: {'rf_estimators': 90, 'rf_max_depth': 8, 'rf_min_samples_leaf': 3}. Best is trial 7 with value: 0.6105263157894737.\n",
      "[I 2023-08-01 18:53:05,646] Trial 49 finished with value: 0.5931372549019608 and parameters: {'rf_estimators': 90, 'rf_max_depth': 8, 'rf_min_samples_leaf': 3}. Best is trial 7 with value: 0.6105263157894737.\n",
      "[I 2023-08-01 18:53:05,742] Trial 51 finished with value: 0.5928753180661578 and parameters: {'rf_estimators': 80, 'rf_max_depth': 8, 'rf_min_samples_leaf': 3}. Best is trial 7 with value: 0.6105263157894737.\n",
      "[I 2023-08-01 18:53:06,046] Trial 50 finished with value: 0.5931372549019608 and parameters: {'rf_estimators': 90, 'rf_max_depth': 8, 'rf_min_samples_leaf': 3}. Best is trial 7 with value: 0.6105263157894737.\n",
      "[I 2023-08-01 18:53:07,154] Trial 52 finished with value: 0.5928753180661578 and parameters: {'rf_estimators': 80, 'rf_max_depth': 8, 'rf_min_samples_leaf': 3}. Best is trial 7 with value: 0.6105263157894737.\n",
      "[I 2023-08-01 18:53:08,946] Trial 53 finished with value: 0.5956873315363881 and parameters: {'rf_estimators': 80, 'rf_max_depth': 8, 'rf_min_samples_leaf': 2}. Best is trial 7 with value: 0.6105263157894737.\n",
      "[I 2023-08-01 18:53:09,746] Trial 54 finished with value: 0.5956873315363881 and parameters: {'rf_estimators': 80, 'rf_max_depth': 8, 'rf_min_samples_leaf': 2}. Best is trial 7 with value: 0.6105263157894737.\n",
      "[I 2023-08-01 18:53:13,537] Trial 55 finished with value: 0.6028097062579821 and parameters: {'rf_estimators': 80, 'rf_max_depth': 13, 'rf_min_samples_leaf': 2}. Best is trial 7 with value: 0.6105263157894737.\n",
      "[I 2023-08-01 18:53:13,757] Trial 58 finished with value: 0.5855513307984791 and parameters: {'rf_estimators': 10, 'rf_max_depth': 14, 'rf_min_samples_leaf': 2}. Best is trial 7 with value: 0.6105263157894737.\n",
      "[I 2023-08-01 18:53:13,924] Trial 59 finished with value: 0.5855513307984791 and parameters: {'rf_estimators': 10, 'rf_max_depth': 14, 'rf_min_samples_leaf': 2}. Best is trial 7 with value: 0.6105263157894737.\n",
      "[I 2023-08-01 18:53:14,164] Trial 56 finished with value: 0.5968992248062016 and parameters: {'rf_estimators': 80, 'rf_max_depth': 15, 'rf_min_samples_leaf': 2}. Best is trial 7 with value: 0.6105263157894737.\n",
      "[I 2023-08-01 18:53:15,224] Trial 60 finished with value: 0.5785813630041724 and parameters: {'rf_estimators': 10, 'rf_max_depth': 13, 'rf_min_samples_leaf': 2}. Best is trial 7 with value: 0.6105263157894737.\n",
      "[I 2023-08-01 18:53:16,648] Trial 61 finished with value: 0.5855513307984791 and parameters: {'rf_estimators': 10, 'rf_max_depth': 14, 'rf_min_samples_leaf': 2}. Best is trial 7 with value: 0.6105263157894737.\n",
      "[I 2023-08-01 18:53:17,750] Trial 62 finished with value: 0.5831062670299728 and parameters: {'rf_estimators': 10, 'rf_max_depth': 15, 'rf_min_samples_leaf': 4}. Best is trial 7 with value: 0.6105263157894737.\n",
      "[I 2023-08-01 18:53:19,712] Trial 57 finished with value: 0.5964497041420118 and parameters: {'rf_estimators': 70, 'rf_max_depth': 15, 'rf_min_samples_leaf': 2}. Best is trial 7 with value: 0.6105263157894737.\n",
      "[I 2023-08-01 18:53:21,728] Trial 63 finished with value: 0.5831062670299728 and parameters: {'rf_estimators': 10, 'rf_max_depth': 15, 'rf_min_samples_leaf': 4}. Best is trial 7 with value: 0.6105263157894737.\n",
      "[I 2023-08-01 18:53:22,040] Trial 66 finished with value: 0.5652173913043478 and parameters: {'rf_estimators': 20, 'rf_max_depth': 3, 'rf_min_samples_leaf': 4}. Best is trial 7 with value: 0.6105263157894737.\n",
      "[I 2023-08-01 18:53:22,657] Trial 64 finished with value: 0.5813953488372093 and parameters: {'rf_estimators': 20, 'rf_max_depth': 11, 'rf_min_samples_leaf': 4}. Best is trial 7 with value: 0.6105263157894737.\n",
      "[I 2023-08-01 18:53:24,154] Trial 65 finished with value: 0.5597484276729561 and parameters: {'rf_estimators': 60, 'rf_max_depth': 2, 'rf_min_samples_leaf': 4}. Best is trial 7 with value: 0.6105263157894737.\n",
      "[I 2023-08-01 18:53:25,158] Trial 68 finished with value: 0.5813953488372093 and parameters: {'rf_estimators': 20, 'rf_max_depth': 11, 'rf_min_samples_leaf': 4}. Best is trial 7 with value: 0.6105263157894737.\n",
      "[I 2023-08-01 18:53:26,336] Trial 69 finished with value: 0.5975 and parameters: {'rf_estimators': 20, 'rf_max_depth': 11, 'rf_min_samples_leaf': 5}. Best is trial 7 with value: 0.6105263157894737.\n",
      "[I 2023-08-01 18:53:28,249] Trial 70 finished with value: 0.587431693989071 and parameters: {'rf_estimators': 20, 'rf_max_depth': 6, 'rf_min_samples_leaf': 5}. Best is trial 7 with value: 0.6105263157894737.\n",
      "[I 2023-08-01 18:53:28,563] Trial 67 finished with value: 0.6073697585768743 and parameters: {'rf_estimators': 70, 'rf_max_depth': 11, 'rf_min_samples_leaf': 4}. Best is trial 7 with value: 0.6105263157894737.\n",
      "[I 2023-08-01 18:53:30,631] Trial 71 finished with value: 0.5975 and parameters: {'rf_estimators': 20, 'rf_max_depth': 11, 'rf_min_samples_leaf': 5}. Best is trial 7 with value: 0.6105263157894737.\n",
      "[I 2023-08-01 18:53:30,939] Trial 72 finished with value: 0.5975 and parameters: {'rf_estimators': 20, 'rf_max_depth': 11, 'rf_min_samples_leaf': 5}. Best is trial 7 with value: 0.6105263157894737.\n",
      "[I 2023-08-01 18:53:34,645] Trial 73 finished with value: 0.5900783289817232 and parameters: {'rf_estimators': 60, 'rf_max_depth': 6, 'rf_min_samples_leaf': 5}. Best is trial 7 with value: 0.6105263157894737.\n",
      "[I 2023-08-01 18:53:38,927] Trial 76 finished with value: 0.6055276381909548 and parameters: {'rf_estimators': 60, 'rf_max_depth': 9, 'rf_min_samples_leaf': 5}. Best is trial 7 with value: 0.6105263157894737.\n",
      "[I 2023-08-01 18:53:40,120] Trial 74 finished with value: 0.6007151370679381 and parameters: {'rf_estimators': 100, 'rf_max_depth': 9, 'rf_min_samples_leaf': 5}. Best is trial 7 with value: 0.6105263157894737.\n",
      "[I 2023-08-01 18:53:40,913] Trial 78 finished with value: 0.6055276381909548 and parameters: {'rf_estimators': 60, 'rf_max_depth': 9, 'rf_min_samples_leaf': 5}. Best is trial 7 with value: 0.6105263157894737.\n",
      "[I 2023-08-01 18:53:41,325] Trial 75 finished with value: 0.6007151370679381 and parameters: {'rf_estimators': 100, 'rf_max_depth': 9, 'rf_min_samples_leaf': 5}. Best is trial 7 with value: 0.6105263157894737.\n",
      "[I 2023-08-01 18:53:44,024] Trial 79 finished with value: 0.6040609137055838 and parameters: {'rf_estimators': 70, 'rf_max_depth': 9, 'rf_min_samples_leaf': 4}. Best is trial 7 with value: 0.6105263157894737.\n",
      "[I 2023-08-01 18:53:44,526] Trial 77 finished with value: 0.6007151370679381 and parameters: {'rf_estimators': 100, 'rf_max_depth': 9, 'rf_min_samples_leaf': 5}. Best is trial 7 with value: 0.6105263157894737.\n",
      "[I 2023-08-01 18:53:44,616] Trial 80 finished with value: 0.6040609137055838 and parameters: {'rf_estimators': 70, 'rf_max_depth': 9, 'rf_min_samples_leaf': 4}. Best is trial 7 with value: 0.6105263157894737.\n",
      "[I 2023-08-01 18:53:51,947] Trial 81 finished with value: 0.604923798358734 and parameters: {'rf_estimators': 100, 'rf_max_depth': 9, 'rf_min_samples_leaf': 4}. Best is trial 7 with value: 0.6105263157894737.\n",
      "[I 2023-08-01 18:53:52,617] Trial 82 finished with value: 0.6055276381909548 and parameters: {'rf_estimators': 60, 'rf_max_depth': 9, 'rf_min_samples_leaf': 5}. Best is trial 7 with value: 0.6105263157894737.\n",
      "[I 2023-08-01 18:53:53,931] Trial 83 finished with value: 0.6044776119402986 and parameters: {'rf_estimators': 60, 'rf_max_depth': 9, 'rf_min_samples_leaf': 4}. Best is trial 7 with value: 0.6105263157894737.\n",
      "[I 2023-08-01 18:53:54,461] Trial 84 finished with value: 0.6044776119402986 and parameters: {'rf_estimators': 60, 'rf_max_depth': 9, 'rf_min_samples_leaf': 4}. Best is trial 7 with value: 0.6105263157894737.\n",
      "[I 2023-08-01 18:53:55,248] Trial 85 finished with value: 0.6044776119402986 and parameters: {'rf_estimators': 60, 'rf_max_depth': 9, 'rf_min_samples_leaf': 4}. Best is trial 7 with value: 0.6105263157894737.\n",
      "[I 2023-08-01 18:53:58,155] Trial 88 finished with value: 0.6044776119402986 and parameters: {'rf_estimators': 60, 'rf_max_depth': 9, 'rf_min_samples_leaf': 4}. Best is trial 7 with value: 0.6105263157894737.\n",
      "[I 2023-08-01 18:53:58,328] Trial 87 finished with value: 0.6044776119402986 and parameters: {'rf_estimators': 60, 'rf_max_depth': 9, 'rf_min_samples_leaf': 4}. Best is trial 7 with value: 0.6105263157894737.\n",
      "[I 2023-08-01 18:53:58,739] Trial 86 finished with value: 0.6040609137055838 and parameters: {'rf_estimators': 70, 'rf_max_depth': 9, 'rf_min_samples_leaf': 4}. Best is trial 7 with value: 0.6105263157894737.\n",
      "[I 2023-08-01 18:54:04,052] Trial 89 finished with value: 0.6044776119402986 and parameters: {'rf_estimators': 60, 'rf_max_depth': 9, 'rf_min_samples_leaf': 4}. Best is trial 7 with value: 0.6105263157894737.\n",
      "[I 2023-08-01 18:54:04,942] Trial 90 finished with value: 0.6044776119402986 and parameters: {'rf_estimators': 60, 'rf_max_depth': 9, 'rf_min_samples_leaf': 4}. Best is trial 7 with value: 0.6105263157894737.\n",
      "[I 2023-08-01 18:54:05,457] Trial 93 finished with value: 0.6004514672686231 and parameters: {'rf_estimators': 40, 'rf_max_depth': 8, 'rf_min_samples_leaf': 5}. Best is trial 7 with value: 0.6105263157894737.\n",
      "[I 2023-08-01 18:54:06,025] Trial 91 finished with value: 0.6055276381909548 and parameters: {'rf_estimators': 60, 'rf_max_depth': 9, 'rf_min_samples_leaf': 5}. Best is trial 7 with value: 0.6105263157894737.\n",
      "[I 2023-08-01 18:54:06,321] Trial 92 finished with value: 0.5995260663507108 and parameters: {'rf_estimators': 60, 'rf_max_depth': 8, 'rf_min_samples_leaf': 5}. Best is trial 7 with value: 0.6105263157894737.\n",
      "[I 2023-08-01 18:54:07,848] Trial 95 finished with value: 0.6004514672686231 and parameters: {'rf_estimators': 40, 'rf_max_depth': 8, 'rf_min_samples_leaf': 5}. Best is trial 7 with value: 0.6105263157894737.\n",
      "[I 2023-08-01 18:54:08,430] Trial 96 finished with value: 0.5982478097622027 and parameters: {'rf_estimators': 50, 'rf_max_depth': 8, 'rf_min_samples_leaf': 5}. Best is trial 7 with value: 0.6105263157894737.\n",
      "[I 2023-08-01 18:54:08,924] Trial 94 finished with value: 0.594885598923284 and parameters: {'rf_estimators': 70, 'rf_max_depth': 8, 'rf_min_samples_leaf': 5}. Best is trial 7 with value: 0.6105263157894737.\n",
      "[I 2023-08-01 18:54:09,734] Trial 97 finished with value: 0.6004514672686231 and parameters: {'rf_estimators': 40, 'rf_max_depth': 8, 'rf_min_samples_leaf': 5}. Best is trial 7 with value: 0.6105263157894737.\n",
      "[I 2023-08-01 18:54:09,855] Trial 98 finished with value: 0.6004514672686231 and parameters: {'rf_estimators': 40, 'rf_max_depth': 8, 'rf_min_samples_leaf': 5}. Best is trial 7 with value: 0.6105263157894737.\n",
      "[I 2023-08-01 18:54:09,910] Trial 99 finished with value: 0.5937072503419973 and parameters: {'rf_estimators': 50, 'rf_max_depth': 10, 'rf_min_samples_leaf': 5}. Best is trial 7 with value: 0.6105263157894737.\n"
     ]
    }
   ],
   "source": [
    "# Запускаем оптуну\n",
    "\n",
    "study = optuna.create_study(direction='maximize') # максимизируем целевую функцию\n",
    "study.optimize(objective, n_trials=100, n_jobs=-1) # проводим 100 испытаний, используя все мощности"
   ]
  },
  {
   "cell_type": "code",
   "execution_count": 71,
   "metadata": {},
   "outputs": [
    {
     "data": {
      "text/plain": [
       "0.6105263157894737"
      ]
     },
     "execution_count": 71,
     "metadata": {},
     "output_type": "execute_result"
    }
   ],
   "source": [
    "study.best_value # лучший результат"
   ]
  },
  {
   "cell_type": "code",
   "execution_count": 72,
   "metadata": {},
   "outputs": [
    {
     "data": {
      "text/plain": [
       "{'rf_estimators': 20, 'rf_max_depth': 9, 'rf_min_samples_leaf': 2}"
      ]
     },
     "execution_count": 72,
     "metadata": {},
     "output_type": "execute_result"
    }
   ],
   "source": [
    "study.best_params # лучшие параметры"
   ]
  },
  {
   "cell_type": "code",
   "execution_count": 76,
   "metadata": {},
   "outputs": [
    {
     "name": "stdout",
     "output_type": "stream",
     "text": [
      "threshold 0.424 \n",
      "\n",
      "accuracy: 0.836 \n",
      "precision: 0.552 \n",
      "recall: 0.668 \n",
      "roc_auc 0.852 \n",
      "f1: 0.604\n"
     ]
    }
   ],
   "source": [
    "# Обучим финальную модель и посмотрим метрики\n",
    "\n",
    "# инициализация\n",
    "final_model = RandomForestClassifier(n_estimators=50,\n",
    "                                    max_depth=11,\n",
    "#                                     max_features=None,\n",
    "#                                     min_samples_split=7,\n",
    "#                                     min_samples_leaf=4,\n",
    "#                                     bootstrap=True,\n",
    "#                                     criterion='gini',\n",
    "                                    class_weight='balanced',\n",
    "                                    random_state=12345)\n",
    "\n",
    "# обучение и результат\n",
    "res = [0]*5\n",
    "f1 = 0\n",
    "thr = 0\n",
    "\n",
    "final_model.fit(features_train, target_train)\n",
    "pred = final_model.predict_proba(features_valid)\n",
    "\n",
    "for th in np.linspace(0, 1, 100):\n",
    "    res_inter = calculate_metrics_thr(target_valid, pred, th)\n",
    "    if res_inter[-1] > f1:\n",
    "        f1 = res_inter[-1]\n",
    "        res = res_inter\n",
    "        thr = th\n",
    "\n",
    "print('threshold', \"{:.3f}\".format(thr),\n",
    "      '\\n\\naccuracy:', \"{:.3f}\".format(res[0]),\n",
    "      '\\nprecision:', \"{:.3f}\".format(res[1]),\n",
    "      '\\nrecall:', \"{:.3f}\".format(res[2]),\n",
    "      '\\nroc_auc', \"{:.3f}\".format(res[3]),\n",
    "      '\\nf1:', \"{:.3f}\".format(res[4]))"
   ]
  },
  {
   "cell_type": "code",
   "execution_count": 61,
   "metadata": {},
   "outputs": [],
   "source": [
    "# # Обучим финальную модель и посмотрим метрики\n",
    "\n",
    "# # инициализация\n",
    "# final_model = RandomForestClassifier(n_estimators=80,\n",
    "#                                     max_depth=9,\n",
    "#                                     max_features=None,\n",
    "#                                     min_samples_split=7,\n",
    "#                                     min_samples_leaf=4,\n",
    "#                                     bootstrap=True,\n",
    "#                                     criterion='gini',\n",
    "#                                     class_weight='balanced',\n",
    "#                                     random_state=12345)\n",
    "\n",
    "# # обучение и результат\n",
    "# res = [0]*5\n",
    "# f1 = 0\n",
    "# thr = 0\n",
    "\n",
    "# final_model.fit(features_train, target_train)\n",
    "# pred_proba = final_model.predict_proba(features_valid)\n",
    "\n",
    "# for th in np.linspace(0, 1, 100):\n",
    "#     preds = (pred_proba[:, 1] > th).astype('int')\n",
    "#     res_inter = calculate_metrics(target_valid, preds)\n",
    "        \n",
    "#     if res_inter[-1] > f1:\n",
    "#         f1 = res_inter[-1]\n",
    "#         res = res_inter\n",
    "#         thr = th\n",
    "\n",
    "# print('threshold', \"{:.3f}\".format(thr),\n",
    "#       '\\n\\naccuracy:', \"{:.3f}\".format(res[0]),\n",
    "#       '\\nprecision:', \"{:.3f}\".format(res[1]),\n",
    "#       '\\nrecall:', \"{:.3f}\".format(res[2]),\n",
    "#       '\\nroc_auc', \"{:.3f}\".format(res[3]),\n",
    "#       '\\nf1:', \"{:.3f}\".format(res[4]))"
   ]
  },
  {
   "cell_type": "code",
   "execution_count": 73,
   "metadata": {},
   "outputs": [
    {
     "name": "stdout",
     "output_type": "stream",
     "text": [
      "accuracy: 0.188 \n",
      "precision: 0.188 \n",
      "recall: 1.000 \n",
      "roc_auc 0.500 \n",
      "f1: 0.316\n"
     ]
    }
   ],
   "source": [
    "# проверка на адекватность\n",
    "\n",
    "dumm_model = DummyClassifier(strategy='constant', constant=1)\n",
    "\n",
    "dumm_model.fit(features_train, target_train)\n",
    "pred_dumm = dumm_model.predict_proba(features_valid)\n",
    "res_dumm = calculate_metrics(target_valid, pred_dumm)\n",
    "\n",
    "print('accuracy:', \"{:.3f}\".format(res_dumm[0]),\n",
    "      '\\nprecision:', \"{:.3f}\".format(res_dumm[1]),\n",
    "      '\\nrecall:', \"{:.3f}\".format(res_dumm[2]),\n",
    "      '\\nroc_auc', \"{:.3f}\".format(res_dumm[3]),\n",
    "      '\\nf1:', \"{:.3f}\".format(res_dumm[4]))"
   ]
  },
  {
   "cell_type": "code",
   "execution_count": 77,
   "metadata": {},
   "outputs": [
    {
     "data": {
      "image/png": "[encoded data removed]",
      "text/plain": [
       "<Figure size 432x288 with 1 Axes>"
      ]
     },
     "metadata": {
      "needs_background": "light"
     },
     "output_type": "display_data"
    },
    {
     "data": {
      "image/png": "[encoded data removed]",
      "text/plain": [
       "<Figure size 432x288 with 1 Axes>"
      ]
     },
     "metadata": {
      "needs_background": "light"
     },
     "output_type": "display_data"
    }
   ],
   "source": [
    "# Построим кривые качества\n",
    "\n",
    "# PR - кривая\n",
    "precision, recall, thresholds = precision_recall_curve(target_valid, pred[:, 1])\n",
    "plt.plot(recall, precision)\n",
    "plt.title('PR - кривая')\n",
    "plt.xlabel('recall')\n",
    "plt.ylabel('precision')\n",
    "plt.show()\n",
    "\n",
    "# ROC-AUC кривая\n",
    "# финальная модель\n",
    "fpr, tpr, thresholds = roc_curve(target_valid, pred[:, 1])\n",
    "fprd, tprd, td = roc_curve(target_valid, pred_dumm[:, 1])\n",
    "\n",
    "plt.plot(fpr, tpr, 'r', label='ROC финальной модели (area={:.2f})'.format(res[-2]))\n",
    "plt.title('ROC-AUC кривая')\n",
    "plt.xlabel('FPR')\n",
    "plt.ylabel('TPR')\n",
    "\n",
    "# константная модель\n",
    "plt.plot(fprd, tprd, 'b', linestyle='--',\n",
    "         label='ROC константной модели (area={:.2f})'.format(res_dumm[-2]))\n",
    "plt.xlim([0.0, 1.0])\n",
    "plt.ylim([0.0, 1.0])\n",
    "plt.legend()\n",
    "plt.show()"
   ]
  },
  {
   "cell_type": "markdown",
   "metadata": {},
   "source": [
    "**Вывод**: в результате исследования финальной модели были подобраны оптимальные гиперпараметры, максимизирующие f1, определен порог, обучена финальная модель.\n",
    "\n",
    "На валидации имеем значение ***f1 = 0.626*** (выше целевого значения 0.59) и ***ROC-AUC = 0.77***, что является показателем хорошего качества модели. \n",
    "\n",
    "Проверку на адекватность модель тоже прошла. ***ROC-AUC > 0.5*** а значит наша модель работает лучше константной."
   ]
  },
  {
   "cell_type": "markdown",
   "metadata": {},
   "source": [
    "**Вывод v2**: в результате исследования финальной модели были подобраны оптимальные гиперпараметры, максимизирующие f1, определен порог, обучена финальная модель.\n",
    "\n",
    "На валидации имеем значение ***f1 = 0.604*** (выше целевого значения 0.59) и ***ROC-AUC = 0.85***, что является показателем хорошего качества модели. \n",
    "\n",
    "Проверку на адекватность модель тоже прошла. ***ROC-AUC > 0.5*** а значит наша модель работает лучше константной."
   ]
  },
  {
   "cell_type": "markdown",
   "metadata": {},
   "source": [
    "## Тестирование модели"
   ]
  },
  {
   "cell_type": "code",
   "execution_count": 78,
   "metadata": {},
   "outputs": [
    {
     "name": "stdout",
     "output_type": "stream",
     "text": [
      "accuracy: 0.821 \n",
      "precision: 0.582 \n",
      "recall: 0.649 \n",
      "roc_auc 0.844 \n",
      "f1: 0.614\n"
     ]
    }
   ],
   "source": [
    "# Тестируем финальную модель\n",
    "\n",
    "pred = final_model.predict_proba(features_test)\n",
    "# pred = (pred_proba[:, 1] >= thr).astype('int')\n",
    "\n",
    "result = calculate_metrics_thr(target_test, pred, thr)\n",
    "\n",
    "print('accuracy:', \"{:.3f}\".format(result[0]),\n",
    "      '\\nprecision:', \"{:.3f}\".format(result[1]),\n",
    "      '\\nrecall:', \"{:.3f}\".format(result[2]),\n",
    "      '\\nroc_auc', \"{:.3f}\".format(result[3]),\n",
    "      '\\nf1:', \"{:.3f}\".format(result[4]))"
   ]
  },
  {
   "cell_type": "code",
   "execution_count": 79,
   "metadata": {},
   "outputs": [
    {
     "data": {
      "image/png": "[encoded data removed]",
      "text/plain": [
       "<Figure size 432x288 with 1 Axes>"
      ]
     },
     "metadata": {
      "needs_background": "light"
     },
     "output_type": "display_data"
    },
    {
     "data": {
      "image/png": "[encoded data removed]",
      "text/plain": [
       "<Figure size 432x288 with 1 Axes>"
      ]
     },
     "metadata": {
      "needs_background": "light"
     },
     "output_type": "display_data"
    }
   ],
   "source": [
    "# Построим кривые качества\n",
    "\n",
    "# PR - кривая\n",
    "precision, recall, thresholds = precision_recall_curve(target_test, pred[:, 1])\n",
    "plt.plot(recall, precision)\n",
    "plt.title('PR - кривая')\n",
    "plt.xlabel('recall')\n",
    "plt.ylabel('precision')\n",
    "plt.show()\n",
    "\n",
    "# ROC-AUC кривая\n",
    "# финальная модель\n",
    "fpr, tpr, thresholds = roc_curve(target_test, pred[:, 1])\n",
    "fprd, tprd, td = roc_curve(target_test, dumm_model.predict(features_test))\n",
    "\n",
    "plt.plot(fpr, tpr, 'r', label='ROC финальной модели (area={:.2f})'.format(res[-2]))\n",
    "plt.title('ROC-AUC кривая')\n",
    "plt.xlabel('FPR')\n",
    "plt.ylabel('TPR')\n",
    "\n",
    "# константная модель\n",
    "plt.plot(fprd, tprd, 'b', linestyle='--',\n",
    "         label='ROC константной модели (area={:.2f})'.format(res_dumm[-2]))\n",
    "plt.xlim([0.0, 1.0])\n",
    "plt.ylim([0.0, 1.0])\n",
    "plt.legend()\n",
    "plt.show()"
   ]
  },
  {
   "cell_type": "markdown",
   "metadata": {},
   "source": [
    "**Вывод:** На этапе тестирования модель довольно хорошо справилась, показатель f1 больше 0.59 а значит цель достигнута. ROC-AUC тоже больше 0,5, значит модель работает лучше константной."
   ]
  },
  {
   "cell_type": "markdown",
   "metadata": {},
   "source": [
    "<div class=\"alert alert-success\">\n",
    "<h2> Комментарий ревьюера <a class=\"tocSkip\"> </h2>\n",
    "\n",
    "👍 Все так.\n",
    "</div> \n",
    "   "
   ]
  },
  {
   "cell_type": "markdown",
   "metadata": {},
   "source": [
    "## Общий вывод"
   ]
  },
  {
   "cell_type": "markdown",
   "metadata": {},
   "source": [
    "*Цель проекта* - построить модель прогнозирования оттока клиентов из банка с максимальной F1-мерой не менее **0.59**. Эта цель достигнута - на тестовой выборке получена F1-мера **0.614**.\n",
    "\n",
    "\n",
    "Для достижения цели были выполнены следующие шаги:\n",
    "* Подготовка данных:\n",
    " - Исправлен формат столбцов, приведен к `snake_case`\n",
    " - Обработано **909** пропусков в столбце `tenure` путем случайного заполнения с равномерным распределением\n",
    " - Выполнено кодирование категориальных признаков (OHE)\n",
    " - Разбиение выборки на обучающую (60%), валидационную (20%) и тестовую (20%)\n",
    " \n",
    " \n",
    "* Исследование задачи:\n",
    " - Выявлен ***дисбаланс классов*** - кол-во объектов класса 1 примерно в 4 раза меньше (чем класса 0)\n",
    " - При дисбалансе лучший результат **(F1 = 0.59)** показала модель случайного леса\n",
    " \n",
    " \n",
    "* Борьба с дисбалансом:\n",
    " - Протестировано 6 методов балансировки на 3 моделях\n",
    " - Лучший результат (F1 = 0.60) дала модель ***`случайного леса с подбором порога`***\n",
    " \n",
    " \n",
    "* Подбор гиперпараметров:\n",
    " - С помощью Optuna подобраны гиперпараметры, максимизирующие F1\n",
    " \n",
    " \n",
    "* Тестирование:\n",
    " - На тесте получены метрики **F1 = 0.614, ROC-AUC = 0.85**\n",
    " - Дополнительно сравнивались метрики F1 и ROC-AUC. Значение ROC-AUC 0.85 также указывает на хорошее качество модели.\n",
    "\n",
    "\n",
    "**Итог**: построена модель, соответствующая цели проекта по качеству на тестовой выборке."
   ]
  },
  {
   "cell_type": "markdown",
   "metadata": {},
   "source": [
    "## Чек-лист готовности проекта"
   ]
  },
  {
   "cell_type": "markdown",
   "metadata": {},
   "source": [
    "Поставьте 'x' в выполненных пунктах. Далее нажмите Shift+Enter."
   ]
  },
  {
   "cell_type": "markdown",
   "metadata": {},
   "source": [
    "- [x]  Jupyter Notebook открыт\n",
    "- [x]  Весь код выполняется без ошибок\n",
    "- [x]  Ячейки с кодом расположены в порядке исполнения\n",
    "- [x]  Выполнен шаг 1: данные подготовлены\n",
    "- [x]  Выполнен шаг 2: задача исследована\n",
    "    - [x]  Исследован баланс классов\n",
    "    - [x]  Изучены модели без учёта дисбаланса\n",
    "    - [x]  Написаны выводы по результатам исследования\n",
    "- [x]  Выполнен шаг 3: учтён дисбаланс\n",
    "    - [x]  Применено несколько способов борьбы с дисбалансом\n",
    "    - [x]  Написаны выводы по результатам исследования\n",
    "- [x]  Выполнен шаг 4: проведено тестирование\n",
    "- [x]  Удалось достичь *F1*-меры не менее 0.59\n",
    "- [x]  Исследована метрика *AUC-ROC*"
   ]
  }
 ],
 "metadata": {
  "ExecuteTimeLog": [
   {
    "duration": 6622,
    "start_time": "2023-08-01T06:32:38.393Z"
   },
   {
    "duration": 4515,
    "start_time": "2023-08-01T06:32:45.018Z"
   },
   {
    "duration": 2,
    "start_time": "2023-08-01T06:32:49.535Z"
   },
   {
    "duration": 236,
    "start_time": "2023-08-01T06:32:49.539Z"
   },
   {
    "duration": 24,
    "start_time": "2023-08-01T06:32:49.778Z"
   },
   {
    "duration": 15,
    "start_time": "2023-08-01T06:32:49.804Z"
   },
   {
    "duration": 6,
    "start_time": "2023-08-01T06:32:49.821Z"
   },
   {
    "duration": 13,
    "start_time": "2023-08-01T06:32:49.856Z"
   },
   {
    "duration": 4,
    "start_time": "2023-08-01T06:32:49.871Z"
   },
   {
    "duration": 18,
    "start_time": "2023-08-01T06:32:49.878Z"
   },
   {
    "duration": 197,
    "start_time": "2023-08-01T06:32:49.898Z"
   },
   {
    "duration": 42,
    "start_time": "2023-08-01T06:32:50.097Z"
   },
   {
    "duration": 52,
    "start_time": "2023-08-01T06:32:50.141Z"
   },
   {
    "duration": 61,
    "start_time": "2023-08-01T06:32:50.196Z"
   },
   {
    "duration": 41,
    "start_time": "2023-08-01T06:32:50.259Z"
   },
   {
    "duration": 9,
    "start_time": "2023-08-01T06:32:50.302Z"
   },
   {
    "duration": 181,
    "start_time": "2023-08-01T06:32:50.314Z"
   },
   {
    "duration": 39,
    "start_time": "2023-08-01T06:32:50.497Z"
   },
   {
    "duration": 55,
    "start_time": "2023-08-01T06:32:50.538Z"
   },
   {
    "duration": 1356,
    "start_time": "2023-08-01T06:32:50.595Z"
   },
   {
    "duration": 6,
    "start_time": "2023-08-01T06:32:51.957Z"
   },
   {
    "duration": 16,
    "start_time": "2023-08-01T06:32:51.965Z"
   },
   {
    "duration": 994,
    "start_time": "2023-08-01T06:32:51.983Z"
   },
   {
    "duration": 4,
    "start_time": "2023-08-01T06:32:52.979Z"
   },
   {
    "duration": 19,
    "start_time": "2023-08-01T06:32:52.985Z"
   },
   {
    "duration": 27,
    "start_time": "2023-08-01T06:32:53.006Z"
   },
   {
    "duration": 22,
    "start_time": "2023-08-01T06:32:53.034Z"
   },
   {
    "duration": 11,
    "start_time": "2023-08-01T06:32:53.059Z"
   },
   {
    "duration": 34,
    "start_time": "2023-08-01T06:32:53.073Z"
   },
   {
    "duration": 6,
    "start_time": "2023-08-01T06:32:53.109Z"
   },
   {
    "duration": 19,
    "start_time": "2023-08-01T06:32:53.116Z"
   },
   {
    "duration": 38,
    "start_time": "2023-08-01T06:32:53.137Z"
   },
   {
    "duration": 3,
    "start_time": "2023-08-01T06:32:53.177Z"
   },
   {
    "duration": 3477,
    "start_time": "2023-08-01T06:32:53.182Z"
   },
   {
    "duration": 251,
    "start_time": "2023-08-01T06:32:56.661Z"
   },
   {
    "duration": 4,
    "start_time": "2023-08-01T06:32:56.913Z"
   },
   {
    "duration": 1360,
    "start_time": "2023-08-01T06:32:56.919Z"
   },
   {
    "duration": 6,
    "start_time": "2023-08-01T06:32:58.280Z"
   },
   {
    "duration": 7,
    "start_time": "2023-08-01T06:32:58.288Z"
   },
   {
    "duration": 232,
    "start_time": "2023-08-01T06:32:58.297Z"
   },
   {
    "duration": 26033,
    "start_time": "2023-08-01T06:32:58.534Z"
   },
   {
    "duration": 3794,
    "start_time": "2023-08-01T06:33:24.569Z"
   },
   {
    "duration": 122,
    "start_time": "2023-08-01T06:33:28.367Z"
   },
   {
    "duration": 7,
    "start_time": "2023-08-01T06:33:28.491Z"
   },
   {
    "duration": 597775,
    "start_time": "2023-08-01T06:33:28.500Z"
   },
   {
    "duration": 5,
    "start_time": "2023-08-01T06:43:26.277Z"
   },
   {
    "duration": 6,
    "start_time": "2023-08-01T06:43:26.284Z"
   },
   {
    "duration": 1575,
    "start_time": "2023-08-01T06:43:26.292Z"
   },
   {
    "duration": 13,
    "start_time": "2023-08-01T06:43:27.869Z"
   },
   {
    "duration": 303,
    "start_time": "2023-08-01T06:43:27.884Z"
   },
   {
    "duration": 44,
    "start_time": "2023-08-01T06:43:28.189Z"
   },
   {
    "duration": 318,
    "start_time": "2023-08-01T06:43:28.235Z"
   },
   {
    "duration": 1056,
    "start_time": "2023-08-01T10:23:29.106Z"
   },
   {
    "duration": 8197,
    "start_time": "2023-08-01T10:23:35.493Z"
   },
   {
    "duration": 1176,
    "start_time": "2023-08-01T10:23:43.692Z"
   },
   {
    "duration": 6,
    "start_time": "2023-08-01T11:25:48.844Z"
   },
   {
    "duration": 4,
    "start_time": "2023-08-01T11:25:55.194Z"
   },
   {
    "duration": 5,
    "start_time": "2023-08-01T11:25:56.241Z"
   },
   {
    "duration": 4,
    "start_time": "2023-08-01T11:25:56.904Z"
   },
   {
    "duration": 4,
    "start_time": "2023-08-01T11:25:57.851Z"
   },
   {
    "duration": 4,
    "start_time": "2023-08-01T11:25:58.449Z"
   },
   {
    "duration": 4,
    "start_time": "2023-08-01T11:26:20.090Z"
   },
   {
    "duration": 66,
    "start_time": "2023-08-01T11:26:32.063Z"
   },
   {
    "duration": 10,
    "start_time": "2023-08-01T11:26:39.338Z"
   },
   {
    "duration": 6,
    "start_time": "2023-08-01T11:26:44.573Z"
   },
   {
    "duration": 13,
    "start_time": "2023-08-01T11:30:34.490Z"
   },
   {
    "duration": 11,
    "start_time": "2023-08-01T11:47:07.542Z"
   },
   {
    "duration": 6,
    "start_time": "2023-08-01T11:47:11.992Z"
   },
   {
    "duration": 10,
    "start_time": "2023-08-01T11:47:19.804Z"
   },
   {
    "duration": 10,
    "start_time": "2023-08-01T11:47:30.737Z"
   },
   {
    "duration": 5,
    "start_time": "2023-08-01T11:47:40.562Z"
   },
   {
    "duration": 11,
    "start_time": "2023-08-01T11:48:44.032Z"
   },
   {
    "duration": 13,
    "start_time": "2023-08-01T11:48:47.855Z"
   },
   {
    "duration": 10,
    "start_time": "2023-08-01T11:48:54.318Z"
   },
   {
    "duration": 5,
    "start_time": "2023-08-01T12:59:00.918Z"
   },
   {
    "duration": 10,
    "start_time": "2023-08-01T13:01:33.142Z"
   },
   {
    "duration": 10,
    "start_time": "2023-08-01T13:01:42.259Z"
   },
   {
    "duration": 7,
    "start_time": "2023-08-01T13:01:55.952Z"
   },
   {
    "duration": 4,
    "start_time": "2023-08-01T13:02:13.676Z"
   },
   {
    "duration": 4,
    "start_time": "2023-08-01T13:02:19.818Z"
   },
   {
    "duration": 10,
    "start_time": "2023-08-01T13:02:35.292Z"
   },
   {
    "duration": 539,
    "start_time": "2023-08-01T13:02:41.831Z"
   },
   {
    "duration": 5,
    "start_time": "2023-08-01T13:02:47.666Z"
   },
   {
    "duration": 5,
    "start_time": "2023-08-01T13:03:24.587Z"
   },
   {
    "duration": 6,
    "start_time": "2023-08-01T13:03:56.608Z"
   },
   {
    "duration": 6,
    "start_time": "2023-08-01T13:04:13.583Z"
   },
   {
    "duration": 5,
    "start_time": "2023-08-01T13:04:39.010Z"
   },
   {
    "duration": 6,
    "start_time": "2023-08-01T13:05:07.374Z"
   },
   {
    "duration": 4,
    "start_time": "2023-08-01T13:05:16.680Z"
   },
   {
    "duration": 5,
    "start_time": "2023-08-01T13:05:52.912Z"
   },
   {
    "duration": 5,
    "start_time": "2023-08-01T13:06:09.658Z"
   },
   {
    "duration": 5,
    "start_time": "2023-08-01T13:07:17.283Z"
   },
   {
    "duration": 5,
    "start_time": "2023-08-01T13:07:28.283Z"
   },
   {
    "duration": 6,
    "start_time": "2023-08-01T13:07:31.174Z"
   },
   {
    "duration": 5,
    "start_time": "2023-08-01T13:07:32.487Z"
   },
   {
    "duration": 5,
    "start_time": "2023-08-01T13:08:14.678Z"
   },
   {
    "duration": 4,
    "start_time": "2023-08-01T13:08:59.006Z"
   },
   {
    "duration": 3,
    "start_time": "2023-08-01T13:09:08.469Z"
   },
   {
    "duration": 3,
    "start_time": "2023-08-01T13:09:16.555Z"
   },
   {
    "duration": 4184,
    "start_time": "2023-08-01T13:10:32.576Z"
   },
   {
    "duration": 5,
    "start_time": "2023-08-01T13:10:36.762Z"
   },
   {
    "duration": 16,
    "start_time": "2023-08-01T13:10:36.768Z"
   },
   {
    "duration": 179,
    "start_time": "2023-08-01T13:10:36.786Z"
   },
   {
    "duration": 16,
    "start_time": "2023-08-01T13:10:36.967Z"
   },
   {
    "duration": 13,
    "start_time": "2023-08-01T13:10:36.985Z"
   },
   {
    "duration": 12,
    "start_time": "2023-08-01T13:10:36.999Z"
   },
   {
    "duration": 415,
    "start_time": "2023-08-01T13:10:37.013Z"
   },
   {
    "duration": 54,
    "start_time": "2023-08-01T13:10:37.430Z"
   },
   {
    "duration": 103,
    "start_time": "2023-08-01T13:10:37.487Z"
   },
   {
    "duration": 198,
    "start_time": "2023-08-01T13:10:37.592Z"
   },
   {
    "duration": 44,
    "start_time": "2023-08-01T13:10:37.792Z"
   },
   {
    "duration": 41,
    "start_time": "2023-08-01T13:10:37.838Z"
   },
   {
    "duration": 59,
    "start_time": "2023-08-01T13:10:37.881Z"
   },
   {
    "duration": 41,
    "start_time": "2023-08-01T13:10:37.942Z"
   },
   {
    "duration": 22,
    "start_time": "2023-08-01T13:10:37.986Z"
   },
   {
    "duration": 7,
    "start_time": "2023-08-01T13:17:44.207Z"
   },
   {
    "duration": 6,
    "start_time": "2023-08-01T13:17:57.556Z"
   },
   {
    "duration": 6,
    "start_time": "2023-08-01T13:18:15.765Z"
   },
   {
    "duration": 223,
    "start_time": "2023-08-01T13:18:21.087Z"
   },
   {
    "duration": 156,
    "start_time": "2023-08-01T13:18:26.832Z"
   },
   {
    "duration": 16,
    "start_time": "2023-08-01T13:18:46.467Z"
   },
   {
    "duration": 5,
    "start_time": "2023-08-01T13:18:59.276Z"
   },
   {
    "duration": 8,
    "start_time": "2023-08-01T13:19:01.918Z"
   },
   {
    "duration": 7,
    "start_time": "2023-08-01T13:19:03.120Z"
   },
   {
    "duration": 4658,
    "start_time": "2023-08-01T13:40:20.574Z"
   },
   {
    "duration": 5,
    "start_time": "2023-08-01T13:40:25.234Z"
   },
   {
    "duration": 66,
    "start_time": "2023-08-01T13:40:25.241Z"
   },
   {
    "duration": 194,
    "start_time": "2023-08-01T13:40:25.310Z"
   },
   {
    "duration": 20,
    "start_time": "2023-08-01T13:40:25.506Z"
   },
   {
    "duration": 36,
    "start_time": "2023-08-01T13:40:25.528Z"
   },
   {
    "duration": 15,
    "start_time": "2023-08-01T13:40:25.566Z"
   },
   {
    "duration": 47,
    "start_time": "2023-08-01T13:40:25.583Z"
   },
   {
    "duration": 19,
    "start_time": "2023-08-01T13:40:25.631Z"
   },
   {
    "duration": 26,
    "start_time": "2023-08-01T13:40:25.653Z"
   },
   {
    "duration": 172,
    "start_time": "2023-08-01T13:40:25.680Z"
   },
   {
    "duration": 74,
    "start_time": "2023-08-01T13:40:25.854Z"
   },
   {
    "duration": 59,
    "start_time": "2023-08-01T13:40:25.931Z"
   },
   {
    "duration": 70,
    "start_time": "2023-08-01T13:40:25.992Z"
   },
   {
    "duration": 66,
    "start_time": "2023-08-01T13:40:26.064Z"
   },
   {
    "duration": 13,
    "start_time": "2023-08-01T13:40:26.132Z"
   },
   {
    "duration": 7,
    "start_time": "2023-08-01T13:40:37.881Z"
   },
   {
    "duration": 23,
    "start_time": "2023-08-01T13:41:01.267Z"
   },
   {
    "duration": 5,
    "start_time": "2023-08-01T13:41:06.875Z"
   },
   {
    "duration": 6,
    "start_time": "2023-08-01T13:41:27.197Z"
   },
   {
    "duration": 6,
    "start_time": "2023-08-01T13:41:29.200Z"
   },
   {
    "duration": 6,
    "start_time": "2023-08-01T13:41:30.423Z"
   },
   {
    "duration": 9,
    "start_time": "2023-08-01T13:41:30.860Z"
   },
   {
    "duration": 4,
    "start_time": "2023-08-01T13:41:36.083Z"
   },
   {
    "duration": 6,
    "start_time": "2023-08-01T13:41:37.771Z"
   },
   {
    "duration": 5,
    "start_time": "2023-08-01T13:42:49.187Z"
   },
   {
    "duration": 5,
    "start_time": "2023-08-01T13:42:50.299Z"
   },
   {
    "duration": 11,
    "start_time": "2023-08-01T13:42:50.719Z"
   },
   {
    "duration": 4,
    "start_time": "2023-08-01T13:43:26.162Z"
   },
   {
    "duration": 21,
    "start_time": "2023-08-01T13:43:26.462Z"
   },
   {
    "duration": 7,
    "start_time": "2023-08-01T13:43:26.726Z"
   },
   {
    "duration": 4,
    "start_time": "2023-08-01T13:43:34.962Z"
   },
   {
    "duration": 14,
    "start_time": "2023-08-01T13:43:38.250Z"
   },
   {
    "duration": 4,
    "start_time": "2023-08-01T13:43:50.058Z"
   },
   {
    "duration": 15,
    "start_time": "2023-08-01T13:43:59.046Z"
   },
   {
    "duration": 5,
    "start_time": "2023-08-01T13:44:11.352Z"
   },
   {
    "duration": 8,
    "start_time": "2023-08-01T13:44:13.270Z"
   },
   {
    "duration": 4,
    "start_time": "2023-08-01T13:44:45.180Z"
   },
   {
    "duration": 5,
    "start_time": "2023-08-01T13:44:45.570Z"
   },
   {
    "duration": 11,
    "start_time": "2023-08-01T13:44:46.109Z"
   },
   {
    "duration": 4,
    "start_time": "2023-08-01T13:45:05.735Z"
   },
   {
    "duration": 11,
    "start_time": "2023-08-01T13:45:14.830Z"
   },
   {
    "duration": 392,
    "start_time": "2023-08-01T13:46:08.055Z"
   },
   {
    "duration": 5,
    "start_time": "2023-08-01T13:46:11.951Z"
   },
   {
    "duration": 6,
    "start_time": "2023-08-01T13:46:16.671Z"
   },
   {
    "duration": 15,
    "start_time": "2023-08-01T13:46:40.100Z"
   },
   {
    "duration": 13,
    "start_time": "2023-08-01T13:47:05.857Z"
   },
   {
    "duration": 4,
    "start_time": "2023-08-01T13:47:11.053Z"
   },
   {
    "duration": 13,
    "start_time": "2023-08-01T13:47:11.846Z"
   },
   {
    "duration": 5,
    "start_time": "2023-08-01T13:47:14.106Z"
   },
   {
    "duration": 7,
    "start_time": "2023-08-01T13:47:20.963Z"
   },
   {
    "duration": 13,
    "start_time": "2023-08-01T13:48:05.622Z"
   },
   {
    "duration": 6,
    "start_time": "2023-08-01T13:57:47.858Z"
   },
   {
    "duration": 7,
    "start_time": "2023-08-01T13:57:50.997Z"
   },
   {
    "duration": 4,
    "start_time": "2023-08-01T13:58:06.987Z"
   },
   {
    "duration": 5,
    "start_time": "2023-08-01T13:58:07.294Z"
   },
   {
    "duration": 7,
    "start_time": "2023-08-01T13:58:07.698Z"
   },
   {
    "duration": 16,
    "start_time": "2023-08-01T13:58:15.753Z"
   },
   {
    "duration": 6,
    "start_time": "2023-08-01T13:59:01.853Z"
   },
   {
    "duration": 6,
    "start_time": "2023-08-01T13:59:04.555Z"
   },
   {
    "duration": 3,
    "start_time": "2023-08-01T13:59:11.606Z"
   },
   {
    "duration": 5,
    "start_time": "2023-08-01T13:59:12.120Z"
   },
   {
    "duration": 8,
    "start_time": "2023-08-01T13:59:12.704Z"
   },
   {
    "duration": 7,
    "start_time": "2023-08-01T13:59:39.549Z"
   },
   {
    "duration": 5,
    "start_time": "2023-08-01T14:11:46.363Z"
   },
   {
    "duration": 8,
    "start_time": "2023-08-01T14:11:47.549Z"
   },
   {
    "duration": 158,
    "start_time": "2023-08-01T14:11:52.860Z"
   },
   {
    "duration": 5154,
    "start_time": "2023-08-01T14:48:18.420Z"
   },
   {
    "duration": 7,
    "start_time": "2023-08-01T14:48:23.577Z"
   },
   {
    "duration": 17,
    "start_time": "2023-08-01T14:48:23.586Z"
   },
   {
    "duration": 428,
    "start_time": "2023-08-01T14:48:23.606Z"
   },
   {
    "duration": 20,
    "start_time": "2023-08-01T14:48:24.038Z"
   },
   {
    "duration": 107,
    "start_time": "2023-08-01T14:48:24.060Z"
   },
   {
    "duration": 7,
    "start_time": "2023-08-01T14:48:24.169Z"
   },
   {
    "duration": 14,
    "start_time": "2023-08-01T14:48:24.178Z"
   },
   {
    "duration": 6,
    "start_time": "2023-08-01T14:48:24.193Z"
   },
   {
    "duration": 10,
    "start_time": "2023-08-01T14:48:24.203Z"
   },
   {
    "duration": 178,
    "start_time": "2023-08-01T14:48:24.215Z"
   },
   {
    "duration": 58,
    "start_time": "2023-08-01T14:48:24.396Z"
   },
   {
    "duration": 63,
    "start_time": "2023-08-01T14:48:24.457Z"
   },
   {
    "duration": 56,
    "start_time": "2023-08-01T14:48:24.525Z"
   },
   {
    "duration": 71,
    "start_time": "2023-08-01T14:48:24.584Z"
   },
   {
    "duration": 3,
    "start_time": "2023-08-01T14:48:24.657Z"
   },
   {
    "duration": 16,
    "start_time": "2023-08-01T14:48:24.663Z"
   },
   {
    "duration": 8,
    "start_time": "2023-08-01T14:48:24.681Z"
   },
   {
    "duration": 20,
    "start_time": "2023-08-01T14:48:24.691Z"
   },
   {
    "duration": 165,
    "start_time": "2023-08-01T14:48:24.716Z"
   },
   {
    "duration": 3,
    "start_time": "2023-08-01T14:48:24.883Z"
   },
   {
    "duration": 59,
    "start_time": "2023-08-01T14:48:24.887Z"
   },
   {
    "duration": 71,
    "start_time": "2023-08-01T14:48:24.948Z"
   },
   {
    "duration": 1646,
    "start_time": "2023-08-01T14:48:25.021Z"
   },
   {
    "duration": 10,
    "start_time": "2023-08-01T14:48:26.670Z"
   },
   {
    "duration": 49,
    "start_time": "2023-08-01T14:48:26.682Z"
   },
   {
    "duration": 1180,
    "start_time": "2023-08-01T14:48:26.733Z"
   },
   {
    "duration": 9,
    "start_time": "2023-08-01T14:48:27.916Z"
   },
   {
    "duration": 30,
    "start_time": "2023-08-01T14:48:27.927Z"
   },
   {
    "duration": 56,
    "start_time": "2023-08-01T14:48:27.959Z"
   },
   {
    "duration": 8,
    "start_time": "2023-08-01T14:48:28.018Z"
   },
   {
    "duration": 21,
    "start_time": "2023-08-01T14:48:28.032Z"
   },
   {
    "duration": 15,
    "start_time": "2023-08-01T14:48:28.055Z"
   },
   {
    "duration": 18,
    "start_time": "2023-08-01T14:48:28.073Z"
   },
   {
    "duration": 26,
    "start_time": "2023-08-01T14:48:28.093Z"
   },
   {
    "duration": 53,
    "start_time": "2023-08-01T14:48:28.122Z"
   },
   {
    "duration": 4,
    "start_time": "2023-08-01T14:48:28.177Z"
   },
   {
    "duration": 4064,
    "start_time": "2023-08-01T14:48:28.183Z"
   },
   {
    "duration": 129,
    "start_time": "2023-08-01T14:48:32.249Z"
   },
   {
    "duration": 4,
    "start_time": "2023-08-01T15:03:27.577Z"
   },
   {
    "duration": 1622,
    "start_time": "2023-08-01T15:03:55.933Z"
   },
   {
    "duration": 4,
    "start_time": "2023-08-01T15:07:17.746Z"
   },
   {
    "duration": 2021,
    "start_time": "2023-08-01T15:07:43.460Z"
   },
   {
    "duration": 1666,
    "start_time": "2023-08-01T15:15:49.676Z"
   },
   {
    "duration": 267802,
    "start_time": "2023-08-01T15:33:36.024Z"
   },
   {
    "duration": 741,
    "start_time": "2023-08-01T15:43:37.607Z"
   },
   {
    "duration": 92234,
    "start_time": "2023-08-01T15:46:52.150Z"
   },
   {
    "duration": 3,
    "start_time": "2023-08-01T15:50:45.248Z"
   },
   {
    "duration": 93190,
    "start_time": "2023-08-01T15:51:36.547Z"
   },
   {
    "duration": 2,
    "start_time": "2023-08-01T15:55:33.086Z"
   },
   {
    "duration": 62,
    "start_time": "2023-08-01T16:22:19.260Z"
   },
   {
    "duration": 98941,
    "start_time": "2023-08-01T16:46:36.703Z"
   },
   {
    "duration": 14,
    "start_time": "2023-08-01T17:00:02.136Z"
   },
   {
    "duration": 12,
    "start_time": "2023-08-01T17:00:51.644Z"
   },
   {
    "duration": 4,
    "start_time": "2023-08-01T17:01:00.157Z"
   },
   {
    "duration": 4,
    "start_time": "2023-08-01T17:01:02.842Z"
   },
   {
    "duration": 206,
    "start_time": "2023-08-01T17:01:03.392Z"
   },
   {
    "duration": 128090,
    "start_time": "2023-08-01T17:01:37.579Z"
   },
   {
    "duration": 58346,
    "start_time": "2023-08-01T17:04:29.193Z"
   },
   {
    "duration": 6,
    "start_time": "2023-08-01T17:31:55.968Z"
   },
   {
    "duration": 23,
    "start_time": "2023-08-01T17:40:30.601Z"
   },
   {
    "duration": 185136,
    "start_time": "2023-08-01T17:41:18.725Z"
   },
   {
    "duration": 223126,
    "start_time": "2023-08-01T17:44:23.869Z"
   },
   {
    "duration": 223837,
    "start_time": "2023-08-01T17:48:06.997Z"
   },
   {
    "duration": 4,
    "start_time": "2023-08-01T17:51:50.836Z"
   },
   {
    "duration": 15,
    "start_time": "2023-08-01T17:51:50.842Z"
   },
   {
    "duration": 9,
    "start_time": "2023-08-01T18:05:57.418Z"
   },
   {
    "duration": 141294,
    "start_time": "2023-08-01T18:06:15.535Z"
   },
   {
    "duration": 4,
    "start_time": "2023-08-01T18:09:40.348Z"
   },
   {
    "duration": 4,
    "start_time": "2023-08-01T18:09:45.163Z"
   },
   {
    "duration": 846,
    "start_time": "2023-08-01T18:18:06.786Z"
   },
   {
    "duration": 17,
    "start_time": "2023-08-01T18:19:04.830Z"
   },
   {
    "duration": 17,
    "start_time": "2023-08-01T18:19:49.784Z"
   },
   {
    "duration": 15,
    "start_time": "2023-08-01T18:20:16.495Z"
   },
   {
    "duration": 152,
    "start_time": "2023-08-01T18:21:28.084Z"
   },
   {
    "duration": 310,
    "start_time": "2023-08-01T18:22:40.093Z"
   },
   {
    "duration": 40,
    "start_time": "2023-08-01T18:26:09.032Z"
   },
   {
    "duration": 34,
    "start_time": "2023-08-01T18:28:55.252Z"
   },
   {
    "duration": 325,
    "start_time": "2023-08-01T18:30:23.187Z"
   },
   {
    "duration": 4901,
    "start_time": "2023-08-01T18:31:21.803Z"
   },
   {
    "duration": 1858,
    "start_time": "2023-08-01T18:31:26.706Z"
   },
   {
    "duration": 3,
    "start_time": "2023-08-01T18:31:28.566Z"
   },
   {
    "duration": 212,
    "start_time": "2023-08-01T18:31:28.571Z"
   },
   {
    "duration": 20,
    "start_time": "2023-08-01T18:31:28.786Z"
   },
   {
    "duration": 36,
    "start_time": "2023-08-01T18:31:28.808Z"
   },
   {
    "duration": 28,
    "start_time": "2023-08-01T18:31:28.847Z"
   },
   {
    "duration": 62,
    "start_time": "2023-08-01T18:31:28.877Z"
   },
   {
    "duration": 19,
    "start_time": "2023-08-01T18:31:28.941Z"
   },
   {
    "duration": 23,
    "start_time": "2023-08-01T18:31:28.962Z"
   },
   {
    "duration": 157,
    "start_time": "2023-08-01T18:31:28.986Z"
   },
   {
    "duration": 42,
    "start_time": "2023-08-01T18:31:29.145Z"
   },
   {
    "duration": 65,
    "start_time": "2023-08-01T18:31:29.189Z"
   },
   {
    "duration": 55,
    "start_time": "2023-08-01T18:31:29.259Z"
   },
   {
    "duration": 49,
    "start_time": "2023-08-01T18:31:29.317Z"
   },
   {
    "duration": 3,
    "start_time": "2023-08-01T18:31:29.368Z"
   },
   {
    "duration": 15,
    "start_time": "2023-08-01T18:31:29.373Z"
   },
   {
    "duration": 28,
    "start_time": "2023-08-01T18:31:29.389Z"
   },
   {
    "duration": 12,
    "start_time": "2023-08-01T18:31:29.419Z"
   },
   {
    "duration": 163,
    "start_time": "2023-08-01T18:31:29.434Z"
   },
   {
    "duration": 9,
    "start_time": "2023-08-01T18:31:29.599Z"
   },
   {
    "duration": 47,
    "start_time": "2023-08-01T18:31:29.611Z"
   },
   {
    "duration": 64,
    "start_time": "2023-08-01T18:31:29.660Z"
   },
   {
    "duration": 1415,
    "start_time": "2023-08-01T18:31:29.726Z"
   },
   {
    "duration": 8,
    "start_time": "2023-08-01T18:31:31.144Z"
   },
   {
    "duration": 41,
    "start_time": "2023-08-01T18:31:31.154Z"
   },
   {
    "duration": 1200,
    "start_time": "2023-08-01T18:31:31.196Z"
   },
   {
    "duration": 14,
    "start_time": "2023-08-01T18:31:32.398Z"
   },
   {
    "duration": 33,
    "start_time": "2023-08-01T18:31:32.414Z"
   },
   {
    "duration": 46,
    "start_time": "2023-08-01T18:31:32.450Z"
   },
   {
    "duration": 46,
    "start_time": "2023-08-01T18:31:32.499Z"
   },
   {
    "duration": 12,
    "start_time": "2023-08-01T18:31:32.547Z"
   },
   {
    "duration": 18,
    "start_time": "2023-08-01T18:31:32.563Z"
   },
   {
    "duration": 11,
    "start_time": "2023-08-01T18:31:32.583Z"
   },
   {
    "duration": 17,
    "start_time": "2023-08-01T18:31:32.596Z"
   },
   {
    "duration": 28,
    "start_time": "2023-08-01T18:31:32.616Z"
   },
   {
    "duration": 3,
    "start_time": "2023-08-01T18:31:32.646Z"
   },
   {
    "duration": 3605,
    "start_time": "2023-08-01T18:31:32.651Z"
   },
   {
    "duration": 139,
    "start_time": "2023-08-01T18:31:36.258Z"
   },
   {
    "duration": 10,
    "start_time": "2023-08-01T18:31:36.399Z"
   },
   {
    "duration": 6,
    "start_time": "2023-08-01T18:31:36.414Z"
   },
   {
    "duration": 13,
    "start_time": "2023-08-01T18:31:36.422Z"
   },
   {
    "duration": 94506,
    "start_time": "2023-08-01T18:31:36.437Z"
   },
   {
    "duration": 5,
    "start_time": "2023-08-01T18:33:10.946Z"
   },
   {
    "duration": 36,
    "start_time": "2023-08-01T18:33:10.953Z"
   },
   {
    "duration": 241,
    "start_time": "2023-08-01T18:33:10.991Z"
   },
   {
    "duration": 96106,
    "start_time": "2023-08-01T18:33:11.233Z"
   },
   {
    "duration": 125789,
    "start_time": "2023-08-01T18:34:47.341Z"
   },
   {
    "duration": 53019,
    "start_time": "2023-08-01T18:36:53.132Z"
   },
   {
    "duration": 4,
    "start_time": "2023-08-01T18:37:46.153Z"
   },
   {
    "duration": 220525,
    "start_time": "2023-08-01T18:37:46.159Z"
   },
   {
    "duration": 237312,
    "start_time": "2023-08-01T18:41:26.686Z"
   },
   {
    "duration": 11,
    "start_time": "2023-08-01T18:45:23.999Z"
   },
   {
    "duration": 8,
    "start_time": "2023-08-01T18:45:24.012Z"
   },
   {
    "duration": 9,
    "start_time": "2023-08-01T18:45:24.021Z"
   },
   {
    "duration": 11,
    "start_time": "2023-08-01T18:45:24.032Z"
   },
   {
    "duration": 169907,
    "start_time": "2023-08-01T18:45:24.045Z"
   },
   {
    "duration": 4,
    "start_time": "2023-08-01T18:48:13.955Z"
   },
   {
    "duration": 7,
    "start_time": "2023-08-01T18:48:13.961Z"
   },
   {
    "duration": 947,
    "start_time": "2023-08-01T18:48:13.970Z"
   },
   {
    "duration": 4,
    "start_time": "2023-08-01T18:48:14.919Z"
   },
   {
    "duration": 24,
    "start_time": "2023-08-01T18:48:14.926Z"
   },
   {
    "duration": 328,
    "start_time": "2023-08-01T18:48:14.952Z"
   },
   {
    "duration": 47,
    "start_time": "2023-08-01T18:48:15.282Z"
   },
   {
    "duration": 309,
    "start_time": "2023-08-01T18:48:15.331Z"
   },
   {
    "duration": 5,
    "start_time": "2023-08-01T18:51:35.360Z"
   },
   {
    "duration": 147674,
    "start_time": "2023-08-01T18:51:42.239Z"
   },
   {
    "duration": 948,
    "start_time": "2023-08-01T18:54:09.916Z"
   },
   {
    "duration": 47,
    "start_time": "2023-08-01T18:54:10.866Z"
   },
   {
    "duration": 327,
    "start_time": "2023-08-01T18:54:10.916Z"
   },
   {
    "duration": 6,
    "start_time": "2023-08-01T18:54:20.336Z"
   },
   {
    "duration": 5,
    "start_time": "2023-08-01T18:54:20.543Z"
   },
   {
    "duration": 16,
    "start_time": "2023-08-01T18:54:34.413Z"
   },
   {
    "duration": 438,
    "start_time": "2023-08-01T18:54:38.412Z"
   },
   {
    "duration": 956,
    "start_time": "2023-08-01T18:55:27.844Z"
   },
   {
    "duration": 933,
    "start_time": "2023-08-01T18:56:19.639Z"
   },
   {
    "duration": 300,
    "start_time": "2023-08-01T18:56:31.593Z"
   },
   {
    "duration": 44,
    "start_time": "2023-08-01T18:56:43.907Z"
   },
   {
    "duration": 373,
    "start_time": "2023-08-01T18:57:25.807Z"
   },
   {
    "duration": 477,
    "start_time": "2023-08-02T13:48:52.811Z"
   },
   {
    "duration": 4,
    "start_time": "2023-08-02T13:49:14.882Z"
   },
   {
    "duration": 15,
    "start_time": "2023-08-02T13:49:41.794Z"
   },
   {
    "duration": 11,
    "start_time": "2023-08-02T13:49:47.816Z"
   },
   {
    "duration": 5,
    "start_time": "2023-08-02T13:49:59.062Z"
   },
   {
    "duration": 6,
    "start_time": "2023-08-02T13:50:19.672Z"
   },
   {
    "duration": 5,
    "start_time": "2023-08-02T13:50:24.478Z"
   },
   {
    "duration": 8,
    "start_time": "2023-08-02T13:50:42.896Z"
   },
   {
    "duration": 7,
    "start_time": "2023-08-02T13:51:03.431Z"
   },
   {
    "duration": 9,
    "start_time": "2023-08-02T13:51:19.732Z"
   },
   {
    "duration": 9,
    "start_time": "2023-08-02T13:51:29.142Z"
   },
   {
    "duration": 7,
    "start_time": "2023-08-02T13:51:34.325Z"
   },
   {
    "duration": 7,
    "start_time": "2023-08-02T13:51:49.155Z"
   },
   {
    "duration": 6,
    "start_time": "2023-08-02T13:51:53.531Z"
   },
   {
    "duration": 7,
    "start_time": "2023-08-02T13:51:55.831Z"
   },
   {
    "duration": 4,
    "start_time": "2023-08-02T13:52:10.339Z"
   },
   {
    "duration": 7,
    "start_time": "2023-08-02T13:52:21.227Z"
   },
   {
    "duration": 7,
    "start_time": "2023-08-02T13:52:58.563Z"
   },
   {
    "duration": 6,
    "start_time": "2023-08-02T13:53:06.630Z"
   },
   {
    "duration": 120,
    "start_time": "2023-08-02T13:53:12.803Z"
   },
   {
    "duration": 6,
    "start_time": "2023-08-02T13:53:17.607Z"
   },
   {
    "duration": 5,
    "start_time": "2023-08-02T13:53:21.261Z"
   },
   {
    "duration": 11,
    "start_time": "2023-08-02T13:53:27.668Z"
   },
   {
    "duration": 8,
    "start_time": "2023-08-02T13:53:40.027Z"
   },
   {
    "duration": 7,
    "start_time": "2023-08-02T13:53:57.631Z"
   },
   {
    "duration": 9,
    "start_time": "2023-08-02T13:59:38.259Z"
   },
   {
    "duration": 7,
    "start_time": "2023-08-02T14:00:02.231Z"
   },
   {
    "duration": 942,
    "start_time": "2023-08-02T15:38:46.062Z"
   },
   {
    "duration": 43,
    "start_time": "2023-08-02T15:39:21.503Z"
   },
   {
    "duration": 35,
    "start_time": "2023-08-02T15:40:16.545Z"
   },
   {
    "duration": 41,
    "start_time": "2023-08-02T15:41:06.301Z"
   },
   {
    "duration": 40,
    "start_time": "2023-08-02T15:41:53.673Z"
   },
   {
    "duration": 46,
    "start_time": "2023-08-02T15:42:29.384Z"
   },
   {
    "duration": 46,
    "start_time": "2023-08-02T15:42:36.886Z"
   },
   {
    "duration": 49,
    "start_time": "2023-08-02T15:43:46.762Z"
   },
   {
    "duration": 40,
    "start_time": "2023-08-02T15:46:07.163Z"
   },
   {
    "duration": 40,
    "start_time": "2023-08-02T15:46:26.133Z"
   },
   {
    "duration": 51,
    "start_time": "2023-08-02T15:46:52.396Z"
   },
   {
    "duration": 50,
    "start_time": "2023-08-02T15:47:38.510Z"
   },
   {
    "duration": 56,
    "start_time": "2023-08-02T15:48:00.033Z"
   }
  ],
  "kernelspec": {
   "display_name": "Python 3 (ipykernel)",
   "language": "python",
   "name": "python3"
  },
  "language_info": {
   "codemirror_mode": {
    "name": "ipython",
    "version": 3
   },
   "file_extension": ".py",
   "mimetype": "text/x-python",
   "name": "python",
   "nbconvert_exporter": "python",
   "pygments_lexer": "ipython3",
   "version": "3.10.9"
  },
  "toc": {
   "base_numbering": 1,
   "nav_menu": {},
   "number_sections": true,
   "sideBar": true,
   "skip_h1_title": true,
   "title_cell": "Содержание",
   "title_sidebar": "Contents",
   "toc_cell": true,
   "toc_position": {
    "height": "calc(100% - 180px)",
    "left": "10px",
    "top": "150px",
    "width": "267.188px"
   },
   "toc_section_display": true,
   "toc_window_display": false
  }
 },
 "nbformat": 4,
 "nbformat_minor": 2
}
