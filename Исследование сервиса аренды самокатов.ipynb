{
 "cells": [
  {
   "cell_type": "markdown",
   "id": "05fd18f4",
   "metadata": {},
   "source": [
    "# Исследование сервиса аренды самокатов"
   ]
  },
  {
   "cell_type": "markdown",
   "id": "3dd2b33d",
   "metadata": {},
   "source": [
    "### Описание проекта"
   ]
  },
  {
   "cell_type": "markdown",
   "id": "cd92ab86",
   "metadata": {},
   "source": [
    "#### Краткое описание\n",
    "Вы аналитик популярного сервиса аренды самокатов GoFast. Вам передали данные о некоторых пользователях из нескольких городов, а также об их поездках. Чтобы совершать поездки по городу, пользователи сервиса GoFast пользуются мобильным приложением. \n",
    "\n",
    "Сервисом можно пользоваться:\n",
    "\n",
    "* без подписки\n",
    " * абонентская плата отсутствует;\n",
    " * стоимость одной минуты поездки — 8 рублей;\n",
    " * стоимость старта (начала поездки) — 50 рублей;\n",
    " \n",
    " \n",
    "* с подпиской Ultra\n",
    " * абонентская плата — 199 рублей в месяц;\n",
    " * стоимость одной минуты поездки — 6 рублей;\n",
    " * стоимость старта — бесплатно.\n",
    " \n",
    "***Цель проекта:*** проанализируйте данные и проверьте некоторые гипотезы, которые могут помочь бизнесу вырасти.\n",
    "\n",
    "\n",
    "\n"
   ]
  },
  {
   "cell_type": "markdown",
   "id": "c518e7c0",
   "metadata": {},
   "source": [
    "#### Описание данных\n",
    "\n",
    "В основных данных есть информация о пользователях, их поездках и подписках.\n",
    "\n",
    "*Пользователи* — **`users_go.csv`**\n",
    "\n",
    "* `user_id` - уникальный идентификатор пользователя\n",
    "\n",
    "* `name` - имя пользователя\n",
    "\n",
    "* `age` - возраст\n",
    "\n",
    "* `city` - город\n",
    "\n",
    "* `subscription_type` - тип подписки (free, ultra)\n",
    "\n",
    "*Поездки* — **`rides_go.csv`**\n",
    "\n",
    "* `user_id` -\tуникальный идентификатор пользователя\n",
    "\n",
    "* `distance` -\tрасстояние, которое пользователь проехал в текущей сессии (в метрах)\n",
    "\n",
    "* `duration` - продолжительность сессии (в минутах) — время с того момента, как пользователь нажал кнопку «Начать поездку» до момента, как он нажал кнопку «Завершить поездку»\n",
    "\n",
    "* `date` -\tдата совершения поездки\n",
    "\n",
    "*Подписки* — **`subscriptions_go.csv`**\n",
    "\n",
    "* `subscription_type` -\tтип подписки\n",
    "\n",
    "* `minute_price` -\tстоимость одной минуты поездки по данной подписке\n",
    "\n",
    "* `start_ride_price` -\tстоимость начала поездки\n",
    "\n",
    "* `subscription_fee` -\tстоимость ежемесячного платежа"
   ]
  },
  {
   "cell_type": "markdown",
   "id": "a201a22c",
   "metadata": {},
   "source": [
    "#### План проекта\n",
    "\n",
    "1. Открываем датасет, изучаем общую информацию. Ищем проблемные места.\n",
    "2. Предобработка данных. Убираем пропуски, дубликаты, аномалии, меняем тип данных и добавляем новые столбцы где необходимо.\n",
    "3. Исследовательский анализ. Описываем и визуализируем информацию о пользователях и поездках.\n",
    "4. Проверка гипотез.\n",
    "5. Общий вывод."
   ]
  },
  {
   "cell_type": "markdown",
   "id": "20ca93d1",
   "metadata": {},
   "source": [
    "### Проект"
   ]
  },
  {
   "cell_type": "markdown",
   "id": "c42cbe00",
   "metadata": {},
   "source": [
    "#### Шаг 1. Загрузка данных"
   ]
  },
  {
   "cell_type": "code",
   "execution_count": 1,
   "id": "9f7a5191",
   "metadata": {},
   "outputs": [],
   "source": [
    "# Импортируем необходимые для работы библиотеки.\n",
    "\n",
    "import pandas as pd\n",
    "import matplotlib.pyplot as plt\n",
    "import numpy as np\n",
    "from scipy import stats as st\n",
    "from scipy.stats import binom\n",
    "from math import sqrt\n",
    "import os"
   ]
  },
  {
   "cell_type": "code",
   "execution_count": 2,
   "id": "eff9f206",
   "metadata": {},
   "outputs": [],
   "source": [
    "# Сохраняем исходные датафреймы в переменных с соответствующими названиями.\n",
    "\n",
    "for name in ['users', 'rides', 'subscriptions']:\n",
    "    \n",
    "    pth1 = f'C:\\\\Users\\\\mpeat\\\\Desktop\\\\Практикум_Data_Science\\\\статистика\\\\проект\\\\{name}_go.csv'\n",
    "    pth2 = f'https://code.s3.yandex.net/datasets/{name}_go.csv'\n",
    "    \n",
    "    if os.path.exists(pth1):\n",
    "        globals()[name] = pd.read_csv(pth1)\n",
    "    else:\n",
    "        globals()[name] = pd.read_csv(pth2)"
   ]
  },
  {
   "cell_type": "markdown",
   "id": "02dd7acc",
   "metadata": {},
   "source": [
    "Выведем каждый датафрейм и общую информацию."
   ]
  },
  {
   "cell_type": "code",
   "execution_count": 3,
   "id": "bd78a6c8",
   "metadata": {},
   "outputs": [
    {
     "data": {
      "text/html": [
       "<div>\n",
       "<style scoped>\n",
       "    .dataframe tbody tr th:only-of-type {\n",
       "        vertical-align: middle;\n",
       "    }\n",
       "\n",
       "    .dataframe tbody tr th {\n",
       "        vertical-align: top;\n",
       "    }\n",
       "\n",
       "    .dataframe thead th {\n",
       "        text-align: right;\n",
       "    }\n",
       "</style>\n",
       "<table border=\"1\" class=\"dataframe\">\n",
       "  <thead>\n",
       "    <tr style=\"text-align: right;\">\n",
       "      <th></th>\n",
       "      <th>user_id</th>\n",
       "      <th>name</th>\n",
       "      <th>age</th>\n",
       "      <th>city</th>\n",
       "      <th>subscription_type</th>\n",
       "    </tr>\n",
       "  </thead>\n",
       "  <tbody>\n",
       "    <tr>\n",
       "      <th>0</th>\n",
       "      <td>1</td>\n",
       "      <td>Кира</td>\n",
       "      <td>22</td>\n",
       "      <td>Тюмень</td>\n",
       "      <td>ultra</td>\n",
       "    </tr>\n",
       "    <tr>\n",
       "      <th>1</th>\n",
       "      <td>2</td>\n",
       "      <td>Станислав</td>\n",
       "      <td>31</td>\n",
       "      <td>Омск</td>\n",
       "      <td>ultra</td>\n",
       "    </tr>\n",
       "    <tr>\n",
       "      <th>2</th>\n",
       "      <td>3</td>\n",
       "      <td>Алексей</td>\n",
       "      <td>20</td>\n",
       "      <td>Москва</td>\n",
       "      <td>ultra</td>\n",
       "    </tr>\n",
       "    <tr>\n",
       "      <th>3</th>\n",
       "      <td>4</td>\n",
       "      <td>Константин</td>\n",
       "      <td>26</td>\n",
       "      <td>Ростов-на-Дону</td>\n",
       "      <td>ultra</td>\n",
       "    </tr>\n",
       "    <tr>\n",
       "      <th>4</th>\n",
       "      <td>5</td>\n",
       "      <td>Адель</td>\n",
       "      <td>28</td>\n",
       "      <td>Омск</td>\n",
       "      <td>ultra</td>\n",
       "    </tr>\n",
       "  </tbody>\n",
       "</table>\n",
       "</div>"
      ],
      "text/plain": [
       "   user_id        name  age            city subscription_type\n",
       "0        1        Кира   22          Тюмень             ultra\n",
       "1        2   Станислав   31            Омск             ultra\n",
       "2        3     Алексей   20          Москва             ultra\n",
       "3        4  Константин   26  Ростов-на-Дону             ultra\n",
       "4        5       Адель   28            Омск             ultra"
      ]
     },
     "execution_count": 3,
     "metadata": {},
     "output_type": "execute_result"
    }
   ],
   "source": [
    "users.head()"
   ]
  },
  {
   "cell_type": "code",
   "execution_count": 4,
   "id": "5e55ea11",
   "metadata": {},
   "outputs": [
    {
     "name": "stdout",
     "output_type": "stream",
     "text": [
      "<class 'pandas.core.frame.DataFrame'>\n",
      "RangeIndex: 1565 entries, 0 to 1564\n",
      "Data columns (total 5 columns):\n",
      " #   Column             Non-Null Count  Dtype \n",
      "---  ------             --------------  ----- \n",
      " 0   user_id            1565 non-null   int64 \n",
      " 1   name               1565 non-null   object\n",
      " 2   age                1565 non-null   int64 \n",
      " 3   city               1565 non-null   object\n",
      " 4   subscription_type  1565 non-null   object\n",
      "dtypes: int64(2), object(3)\n",
      "memory usage: 61.3+ KB\n"
     ]
    }
   ],
   "source": [
    "users.info()"
   ]
  },
  {
   "cell_type": "code",
   "execution_count": 5,
   "id": "b37e0ed5",
   "metadata": {},
   "outputs": [
    {
     "data": {
      "text/html": [
       "<div>\n",
       "<style scoped>\n",
       "    .dataframe tbody tr th:only-of-type {\n",
       "        vertical-align: middle;\n",
       "    }\n",
       "\n",
       "    .dataframe tbody tr th {\n",
       "        vertical-align: top;\n",
       "    }\n",
       "\n",
       "    .dataframe thead th {\n",
       "        text-align: right;\n",
       "    }\n",
       "</style>\n",
       "<table border=\"1\" class=\"dataframe\">\n",
       "  <thead>\n",
       "    <tr style=\"text-align: right;\">\n",
       "      <th></th>\n",
       "      <th>user_id</th>\n",
       "      <th>distance</th>\n",
       "      <th>duration</th>\n",
       "      <th>date</th>\n",
       "    </tr>\n",
       "  </thead>\n",
       "  <tbody>\n",
       "    <tr>\n",
       "      <th>0</th>\n",
       "      <td>1</td>\n",
       "      <td>4409.919140</td>\n",
       "      <td>25.599769</td>\n",
       "      <td>2021-01-01</td>\n",
       "    </tr>\n",
       "    <tr>\n",
       "      <th>1</th>\n",
       "      <td>1</td>\n",
       "      <td>2617.592153</td>\n",
       "      <td>15.816871</td>\n",
       "      <td>2021-01-18</td>\n",
       "    </tr>\n",
       "    <tr>\n",
       "      <th>2</th>\n",
       "      <td>1</td>\n",
       "      <td>754.159807</td>\n",
       "      <td>6.232113</td>\n",
       "      <td>2021-04-20</td>\n",
       "    </tr>\n",
       "    <tr>\n",
       "      <th>3</th>\n",
       "      <td>1</td>\n",
       "      <td>2694.783254</td>\n",
       "      <td>18.511000</td>\n",
       "      <td>2021-08-11</td>\n",
       "    </tr>\n",
       "    <tr>\n",
       "      <th>4</th>\n",
       "      <td>1</td>\n",
       "      <td>4028.687306</td>\n",
       "      <td>26.265803</td>\n",
       "      <td>2021-08-28</td>\n",
       "    </tr>\n",
       "  </tbody>\n",
       "</table>\n",
       "</div>"
      ],
      "text/plain": [
       "   user_id     distance   duration        date\n",
       "0        1  4409.919140  25.599769  2021-01-01\n",
       "1        1  2617.592153  15.816871  2021-01-18\n",
       "2        1   754.159807   6.232113  2021-04-20\n",
       "3        1  2694.783254  18.511000  2021-08-11\n",
       "4        1  4028.687306  26.265803  2021-08-28"
      ]
     },
     "execution_count": 5,
     "metadata": {},
     "output_type": "execute_result"
    }
   ],
   "source": [
    "rides.head()"
   ]
  },
  {
   "cell_type": "code",
   "execution_count": 6,
   "id": "13f7f7e1",
   "metadata": {},
   "outputs": [
    {
     "name": "stdout",
     "output_type": "stream",
     "text": [
      "<class 'pandas.core.frame.DataFrame'>\n",
      "RangeIndex: 18068 entries, 0 to 18067\n",
      "Data columns (total 4 columns):\n",
      " #   Column    Non-Null Count  Dtype  \n",
      "---  ------    --------------  -----  \n",
      " 0   user_id   18068 non-null  int64  \n",
      " 1   distance  18068 non-null  float64\n",
      " 2   duration  18068 non-null  float64\n",
      " 3   date      18068 non-null  object \n",
      "dtypes: float64(2), int64(1), object(1)\n",
      "memory usage: 564.8+ KB\n"
     ]
    }
   ],
   "source": [
    "rides.info()"
   ]
  },
  {
   "cell_type": "code",
   "execution_count": 7,
   "id": "6f2d9905",
   "metadata": {},
   "outputs": [
    {
     "data": {
      "text/html": [
       "<div>\n",
       "<style scoped>\n",
       "    .dataframe tbody tr th:only-of-type {\n",
       "        vertical-align: middle;\n",
       "    }\n",
       "\n",
       "    .dataframe tbody tr th {\n",
       "        vertical-align: top;\n",
       "    }\n",
       "\n",
       "    .dataframe thead th {\n",
       "        text-align: right;\n",
       "    }\n",
       "</style>\n",
       "<table border=\"1\" class=\"dataframe\">\n",
       "  <thead>\n",
       "    <tr style=\"text-align: right;\">\n",
       "      <th></th>\n",
       "      <th>subscription_type</th>\n",
       "      <th>minute_price</th>\n",
       "      <th>start_ride_price</th>\n",
       "      <th>subscription_fee</th>\n",
       "    </tr>\n",
       "  </thead>\n",
       "  <tbody>\n",
       "    <tr>\n",
       "      <th>0</th>\n",
       "      <td>free</td>\n",
       "      <td>8</td>\n",
       "      <td>50</td>\n",
       "      <td>0</td>\n",
       "    </tr>\n",
       "    <tr>\n",
       "      <th>1</th>\n",
       "      <td>ultra</td>\n",
       "      <td>6</td>\n",
       "      <td>0</td>\n",
       "      <td>199</td>\n",
       "    </tr>\n",
       "  </tbody>\n",
       "</table>\n",
       "</div>"
      ],
      "text/plain": [
       "  subscription_type  minute_price  start_ride_price  subscription_fee\n",
       "0              free             8                50                 0\n",
       "1             ultra             6                 0               199"
      ]
     },
     "execution_count": 7,
     "metadata": {},
     "output_type": "execute_result"
    }
   ],
   "source": [
    "subscriptions.head()"
   ]
  },
  {
   "cell_type": "markdown",
   "id": "cea48fd0",
   "metadata": {},
   "source": [
    "**Вывод:** Пропусков не выявлено, дубликаты с аномалиями пока непонятно(если есть нужно их удалить). Формат даты не соответствует `datetime`, его лучше поменять. Также можно добавить столбец с месяцами, чтобы было удобнее считать помесячную выручку."
   ]
  },
  {
   "cell_type": "markdown",
   "id": "e95ebca7",
   "metadata": {},
   "source": [
    "#### Шаг 2. Предобработка данных"
   ]
  },
  {
   "cell_type": "markdown",
   "id": "1a123b96",
   "metadata": {},
   "source": [
    "##### Меняем формат данных и добавляем столбцы"
   ]
  },
  {
   "cell_type": "code",
   "execution_count": 8,
   "id": "af6d202c",
   "metadata": {},
   "outputs": [
    {
     "name": "stdout",
     "output_type": "stream",
     "text": [
      "Данные представлены за период 363 days 00:00:00\n",
      "\n",
      "<class 'pandas.core.frame.DataFrame'>\n",
      "RangeIndex: 18068 entries, 0 to 18067\n",
      "Data columns (total 5 columns):\n",
      " #   Column    Non-Null Count  Dtype         \n",
      "---  ------    --------------  -----         \n",
      " 0   user_id   18068 non-null  int64         \n",
      " 1   distance  18068 non-null  float64       \n",
      " 2   duration  18068 non-null  float64       \n",
      " 3   date      18068 non-null  datetime64[ns]\n",
      " 4   month     18068 non-null  int64         \n",
      "dtypes: datetime64[ns](1), float64(2), int64(2)\n",
      "memory usage: 705.9 KB\n"
     ]
    }
   ],
   "source": [
    "rides['date'] = pd.to_datetime(rides['date'], format='%Y-%m-%d') # меняем формат даты на datetime\n",
    "rides['month'] = rides['date'].dt.month # добавляем столбец с месяцами\n",
    "\n",
    "time = rides['date'].max() - rides['date'].min() # за какой период данные\n",
    "print('Данные представлены за период', time)\n",
    "print()\n",
    "\n",
    "rides.info()"
   ]
  },
  {
   "cell_type": "markdown",
   "id": "62d66e6d",
   "metadata": {},
   "source": [
    "##### Удаляем дубликаты"
   ]
  },
  {
   "cell_type": "code",
   "execution_count": 9,
   "id": "04eb82ed",
   "metadata": {},
   "outputs": [
    {
     "data": {
      "text/plain": [
       "(1565, 5)"
      ]
     },
     "execution_count": 9,
     "metadata": {},
     "output_type": "execute_result"
    }
   ],
   "source": [
    "users.shape # строк до удаления дубликатов"
   ]
  },
  {
   "cell_type": "code",
   "execution_count": 10,
   "id": "0f61b2b9",
   "metadata": {},
   "outputs": [
    {
     "data": {
      "text/html": [
       "<div>\n",
       "<style scoped>\n",
       "    .dataframe tbody tr th:only-of-type {\n",
       "        vertical-align: middle;\n",
       "    }\n",
       "\n",
       "    .dataframe tbody tr th {\n",
       "        vertical-align: top;\n",
       "    }\n",
       "\n",
       "    .dataframe thead th {\n",
       "        text-align: right;\n",
       "    }\n",
       "</style>\n",
       "<table border=\"1\" class=\"dataframe\">\n",
       "  <thead>\n",
       "    <tr style=\"text-align: right;\">\n",
       "      <th></th>\n",
       "      <th>user_id</th>\n",
       "      <th>name</th>\n",
       "      <th>age</th>\n",
       "      <th>city</th>\n",
       "      <th>subscription_type</th>\n",
       "    </tr>\n",
       "  </thead>\n",
       "  <tbody>\n",
       "    <tr>\n",
       "      <th>1534</th>\n",
       "      <td>293</td>\n",
       "      <td>Агата</td>\n",
       "      <td>26</td>\n",
       "      <td>Краснодар</td>\n",
       "      <td>ultra</td>\n",
       "    </tr>\n",
       "    <tr>\n",
       "      <th>1535</th>\n",
       "      <td>16</td>\n",
       "      <td>Амалия</td>\n",
       "      <td>27</td>\n",
       "      <td>Краснодар</td>\n",
       "      <td>ultra</td>\n",
       "    </tr>\n",
       "    <tr>\n",
       "      <th>1536</th>\n",
       "      <td>909</td>\n",
       "      <td>Константин</td>\n",
       "      <td>20</td>\n",
       "      <td>Екатеринбург</td>\n",
       "      <td>free</td>\n",
       "    </tr>\n",
       "    <tr>\n",
       "      <th>1537</th>\n",
       "      <td>403</td>\n",
       "      <td>Полина</td>\n",
       "      <td>19</td>\n",
       "      <td>Сочи</td>\n",
       "      <td>ultra</td>\n",
       "    </tr>\n",
       "    <tr>\n",
       "      <th>1538</th>\n",
       "      <td>908</td>\n",
       "      <td>Рустам</td>\n",
       "      <td>30</td>\n",
       "      <td>Тюмень</td>\n",
       "      <td>free</td>\n",
       "    </tr>\n",
       "  </tbody>\n",
       "</table>\n",
       "</div>"
      ],
      "text/plain": [
       "      user_id        name  age          city subscription_type\n",
       "1534      293       Агата   26     Краснодар             ultra\n",
       "1535       16      Амалия   27     Краснодар             ultra\n",
       "1536      909  Константин   20  Екатеринбург              free\n",
       "1537      403      Полина   19          Сочи             ultra\n",
       "1538      908      Рустам   30        Тюмень              free"
      ]
     },
     "execution_count": 10,
     "metadata": {},
     "output_type": "execute_result"
    }
   ],
   "source": [
    "# Выведем несколько дубликатов на экран\n",
    "\n",
    "users[users.duplicated()].head()"
   ]
  },
  {
   "cell_type": "code",
   "execution_count": 11,
   "id": "953a3cb5",
   "metadata": {},
   "outputs": [
    {
     "data": {
      "text/html": [
       "<div>\n",
       "<style scoped>\n",
       "    .dataframe tbody tr th:only-of-type {\n",
       "        vertical-align: middle;\n",
       "    }\n",
       "\n",
       "    .dataframe tbody tr th {\n",
       "        vertical-align: top;\n",
       "    }\n",
       "\n",
       "    .dataframe thead th {\n",
       "        text-align: right;\n",
       "    }\n",
       "</style>\n",
       "<table border=\"1\" class=\"dataframe\">\n",
       "  <thead>\n",
       "    <tr style=\"text-align: right;\">\n",
       "      <th></th>\n",
       "      <th>user_id</th>\n",
       "      <th>name</th>\n",
       "      <th>age</th>\n",
       "      <th>city</th>\n",
       "      <th>subscription_type</th>\n",
       "    </tr>\n",
       "  </thead>\n",
       "  <tbody>\n",
       "    <tr>\n",
       "      <th>15</th>\n",
       "      <td>16</td>\n",
       "      <td>Амалия</td>\n",
       "      <td>27</td>\n",
       "      <td>Краснодар</td>\n",
       "      <td>ultra</td>\n",
       "    </tr>\n",
       "    <tr>\n",
       "      <th>292</th>\n",
       "      <td>293</td>\n",
       "      <td>Агата</td>\n",
       "      <td>26</td>\n",
       "      <td>Краснодар</td>\n",
       "      <td>ultra</td>\n",
       "    </tr>\n",
       "    <tr>\n",
       "      <th>908</th>\n",
       "      <td>909</td>\n",
       "      <td>Константин</td>\n",
       "      <td>20</td>\n",
       "      <td>Екатеринбург</td>\n",
       "      <td>free</td>\n",
       "    </tr>\n",
       "    <tr>\n",
       "      <th>1534</th>\n",
       "      <td>293</td>\n",
       "      <td>Агата</td>\n",
       "      <td>26</td>\n",
       "      <td>Краснодар</td>\n",
       "      <td>ultra</td>\n",
       "    </tr>\n",
       "    <tr>\n",
       "      <th>1535</th>\n",
       "      <td>16</td>\n",
       "      <td>Амалия</td>\n",
       "      <td>27</td>\n",
       "      <td>Краснодар</td>\n",
       "      <td>ultra</td>\n",
       "    </tr>\n",
       "    <tr>\n",
       "      <th>1536</th>\n",
       "      <td>909</td>\n",
       "      <td>Константин</td>\n",
       "      <td>20</td>\n",
       "      <td>Екатеринбург</td>\n",
       "      <td>free</td>\n",
       "    </tr>\n",
       "  </tbody>\n",
       "</table>\n",
       "</div>"
      ],
      "text/plain": [
       "      user_id        name  age          city subscription_type\n",
       "15         16      Амалия   27     Краснодар             ultra\n",
       "292       293       Агата   26     Краснодар             ultra\n",
       "908       909  Константин   20  Екатеринбург              free\n",
       "1534      293       Агата   26     Краснодар             ultra\n",
       "1535       16      Амалия   27     Краснодар             ultra\n",
       "1536      909  Константин   20  Екатеринбург              free"
      ]
     },
     "execution_count": 11,
     "metadata": {},
     "output_type": "execute_result"
    }
   ],
   "source": [
    "users.query('user_id in [293, 16, 909]')"
   ]
  },
  {
   "cell_type": "code",
   "execution_count": 12,
   "id": "09fb4802",
   "metadata": {},
   "outputs": [
    {
     "data": {
      "text/plain": [
       "(1534, 5)"
      ]
     },
     "execution_count": 12,
     "metadata": {},
     "output_type": "execute_result"
    }
   ],
   "source": [
    "users = users.drop_duplicates() # сносим дубликаты в датафрейме с пользователями\n",
    "users.shape # строк после удаления дубликатов"
   ]
  },
  {
   "cell_type": "markdown",
   "id": "bda573a7",
   "metadata": {},
   "source": [
    "Повторим то же самое для датафрейма `rides`"
   ]
  },
  {
   "cell_type": "code",
   "execution_count": 13,
   "id": "ad90e06a",
   "metadata": {},
   "outputs": [
    {
     "data": {
      "text/plain": [
       "(18068, 5)"
      ]
     },
     "execution_count": 13,
     "metadata": {},
     "output_type": "execute_result"
    }
   ],
   "source": [
    "rides.shape"
   ]
  },
  {
   "cell_type": "code",
   "execution_count": 14,
   "id": "48aab519",
   "metadata": {},
   "outputs": [
    {
     "data": {
      "text/plain": [
       "(18068, 5)"
      ]
     },
     "execution_count": 14,
     "metadata": {},
     "output_type": "execute_result"
    }
   ],
   "source": [
    "rides = rides.drop_duplicates()\n",
    "rides.shape"
   ]
  },
  {
   "cell_type": "markdown",
   "id": "8f96fbc1",
   "metadata": {},
   "source": [
    "**Вывод:** В ходе предобработки датафрейма с поездками **`rides`** поменяли формат даты на более удобный для обработки *datetime*, добавили столбец, в котором указан месяц поездки `month`. Дубликатов выявлено не было.\n",
    "\n",
    "Из датафрейма **`users`** было удалено **31** дубликатов\n",
    "\n",
    "Датафрейм с информацией о подписках `subscriptions` имеет 2 строки, и в предобработке не нуждается.\n",
    "\n",
    "По поводу аномалий. В следущей главе будем визуализировать данные, при наличии аномалий, будем от них избавляться.\n",
    "\n",
    "Ни в одном из датафреймов не было пропусков, названия заголовков имеют единый стандарт. Можно сделать вывод что изначальные данные уже имеют опрятный вид и уровень предобработки нужен был минимальный."
   ]
  },
  {
   "cell_type": "markdown",
   "id": "212593c7",
   "metadata": {},
   "source": [
    "#### Шаг 3. Исследовательский анализ данных"
   ]
  },
  {
   "cell_type": "markdown",
   "id": "b5acea95",
   "metadata": {},
   "source": [
    "На данном этапе опишем и визуализируем информацию о пользователях и поездках:\n",
    "* частота встречаемости городов;\n",
    "* соотношение пользователей с подпиской и без подписки;\n",
    "* возраст пользователей;\n",
    "* расстояние, которое пользователь преодолел за одну поездку;\n",
    "* продолжительность поездок."
   ]
  },
  {
   "cell_type": "markdown",
   "id": "2af5c05d",
   "metadata": {},
   "source": [
    "##### Частота встречаемости городов"
   ]
  },
  {
   "cell_type": "code",
   "execution_count": 15,
   "id": "e3a4274c",
   "metadata": {},
   "outputs": [
    {
     "name": "stdout",
     "output_type": "stream",
     "text": [
      "Пятигорск         219\n",
      "Екатеринбург      204\n",
      "Ростов-на-Дону    198\n",
      "Краснодар         193\n",
      "Сочи              189\n",
      "Омск              183\n",
      "Тюмень            180\n",
      "Москва            168\n",
      "Name: city, dtype: int64\n"
     ]
    },
    {
     "data": {
      "image/png": "[encoded data removed]",
      "text/plain": [
       "<Figure size 432x288 with 1 Axes>"
      ]
     },
     "metadata": {
      "needs_background": "light"
     },
     "output_type": "display_data"
    }
   ],
   "source": [
    "# частота встречаемости городов\n",
    "print(users['city'].value_counts())\n",
    "users['city'].value_counts(normalize=True).plot.barh()\n",
    "plt.title('Частота встечаемости городов в процентах')\n",
    "None"
   ]
  },
  {
   "cell_type": "markdown",
   "id": "6327ec95",
   "metadata": {},
   "source": [
    "Данная компания имеет не очень большое распространение. Распределение по городам никак не коррелирует с их населением. Видимо данная сеть аренды самокатов только начала свое развитие в Пятигорске и  вкладывается в города поближе(Сочи, Ростов, Краснодар) и постепенно выходит на другие рынки."
   ]
  },
  {
   "cell_type": "markdown",
   "id": "cc280a66",
   "metadata": {},
   "source": [
    "##### Соотношение пользователей с подпиской и без подписки"
   ]
  },
  {
   "cell_type": "code",
   "execution_count": 16,
   "id": "b6536ee7",
   "metadata": {},
   "outputs": [
    {
     "name": "stdout",
     "output_type": "stream",
     "text": [
      "free     835\n",
      "ultra    699\n",
      "Name: subscription_type, dtype: int64\n"
     ]
    },
    {
     "data": {
      "image/png": "[encoded data removed]",
      "text/plain": [
       "<Figure size 432x288 with 1 Axes>"
      ]
     },
     "metadata": {},
     "output_type": "display_data"
    }
   ],
   "source": [
    "# соотношение пользователей с подпиской и без подписки\n",
    "print(users['subscription_type'].value_counts())\n",
    "users['subscription_type'].value_counts().plot.pie(autopct='%1.0f%%')\n",
    "None"
   ]
  },
  {
   "cell_type": "markdown",
   "id": "089844ef",
   "metadata": {},
   "source": [
    "Соотношение пользователей с подпиской и без подписки примерно сопоставимое, чуть смещено в сторону пользователей без подписки(54%)"
   ]
  },
  {
   "cell_type": "markdown",
   "id": "4619e9dd",
   "metadata": {},
   "source": [
    "##### Возраст пользователей"
   ]
  },
  {
   "cell_type": "code",
   "execution_count": 17,
   "id": "8c465250",
   "metadata": {},
   "outputs": [],
   "source": [
    "# возраст пользователей\n",
    "\n",
    "# users['age'].value_counts().plot.bar()\n",
    "# None"
   ]
  },
  {
   "cell_type": "code",
   "execution_count": 18,
   "id": "a9925ab7",
   "metadata": {},
   "outputs": [
    {
     "data": {
      "image/png": "[encoded data removed]",
      "text/plain": [
       "<Figure size 432x288 with 1 Axes>"
      ]
     },
     "metadata": {
      "needs_background": "light"
     },
     "output_type": "display_data"
    }
   ],
   "source": [
    "# возраст пользователей\n",
    "users['age'].hist()\n",
    "None"
   ]
  },
  {
   "cell_type": "markdown",
   "id": "5d28c412",
   "metadata": {},
   "source": [
    "Соотношение пользователей по возрасту вписывается в здравый смысл. Больше всего катается платежеспособной молодежи (25 ± 5 лет). Далее идет молодежь безработная (школьники студенты). И меньше всего катаются люди после 30 лет(видимо предпочитают другие средства передвижения)."
   ]
  },
  {
   "cell_type": "markdown",
   "id": "2ca0af62",
   "metadata": {},
   "source": [
    "##### Расстояние, которое пользователь преодолел за одну поездку"
   ]
  },
  {
   "cell_type": "code",
   "execution_count": 19,
   "id": "efa97ac2",
   "metadata": {},
   "outputs": [
    {
     "data": {
      "image/png": "[encoded data removed]",
      "text/plain": [
       "<Figure size 432x288 with 1 Axes>"
      ]
     },
     "metadata": {
      "needs_background": "light"
     },
     "output_type": "display_data"
    }
   ],
   "source": [
    "# расстояние, которое пользователь преодолел за одну поездку\n",
    "rides['distance'].hist(bins=100)\n",
    "None"
   ]
  },
  {
   "cell_type": "markdown",
   "id": "a778e457",
   "metadata": {},
   "source": [
    "##### Продолжительность поездок"
   ]
  },
  {
   "cell_type": "code",
   "execution_count": 20,
   "id": "4ba7c536",
   "metadata": {},
   "outputs": [
    {
     "data": {
      "image/png": "[encoded data removed]",
      "text/plain": [
       "<Figure size 432x288 with 1 Axes>"
      ]
     },
     "metadata": {
      "needs_background": "light"
     },
     "output_type": "display_data"
    }
   ],
   "source": [
    "# продолжительность поездок\n",
    "rides['duration'].hist(bins=100)\n",
    "None"
   ]
  },
  {
   "cell_type": "markdown",
   "id": "78121959",
   "metadata": {},
   "source": [
    "В данном распределении имеем очевидный выброс. Посмотрим подробнее."
   ]
  },
  {
   "cell_type": "code",
   "execution_count": 21,
   "id": "de3c991a",
   "metadata": {},
   "outputs": [
    {
     "data": {
      "text/plain": [
       "0.500000     95\n",
       "22.184080     1\n",
       "25.866000     1\n",
       "22.837062     1\n",
       "19.173800     1\n",
       "Name: duration, dtype: int64"
      ]
     },
     "execution_count": 21,
     "metadata": {},
     "output_type": "execute_result"
    }
   ],
   "source": [
    "rides['duration'].value_counts().head()"
   ]
  },
  {
   "cell_type": "markdown",
   "id": "50902ac2",
   "metadata": {},
   "source": [
    "Видим выброс значения 0,5 минут, скорее всего данный выброс имеет техническое происхождение. Посмотрим датафрейм с выбросами, чтобы окончательно убедиться."
   ]
  },
  {
   "cell_type": "code",
   "execution_count": 22,
   "id": "25fff3c7",
   "metadata": {},
   "outputs": [
    {
     "data": {
      "text/html": [
       "<div>\n",
       "<style scoped>\n",
       "    .dataframe tbody tr th:only-of-type {\n",
       "        vertical-align: middle;\n",
       "    }\n",
       "\n",
       "    .dataframe tbody tr th {\n",
       "        vertical-align: top;\n",
       "    }\n",
       "\n",
       "    .dataframe thead th {\n",
       "        text-align: right;\n",
       "    }\n",
       "</style>\n",
       "<table border=\"1\" class=\"dataframe\">\n",
       "  <thead>\n",
       "    <tr style=\"text-align: right;\">\n",
       "      <th></th>\n",
       "      <th>user_id</th>\n",
       "      <th>distance</th>\n",
       "      <th>duration</th>\n",
       "      <th>date</th>\n",
       "      <th>month</th>\n",
       "    </tr>\n",
       "  </thead>\n",
       "  <tbody>\n",
       "    <tr>\n",
       "      <th>6531</th>\n",
       "      <td>701</td>\n",
       "      <td>4196.445201</td>\n",
       "      <td>0.5</td>\n",
       "      <td>2021-08-31</td>\n",
       "      <td>8</td>\n",
       "    </tr>\n",
       "    <tr>\n",
       "      <th>6570</th>\n",
       "      <td>704</td>\n",
       "      <td>4830.824371</td>\n",
       "      <td>0.5</td>\n",
       "      <td>2021-10-14</td>\n",
       "      <td>10</td>\n",
       "    </tr>\n",
       "    <tr>\n",
       "      <th>6680</th>\n",
       "      <td>712</td>\n",
       "      <td>4684.004397</td>\n",
       "      <td>0.5</td>\n",
       "      <td>2021-03-04</td>\n",
       "      <td>3</td>\n",
       "    </tr>\n",
       "    <tr>\n",
       "      <th>6695</th>\n",
       "      <td>713</td>\n",
       "      <td>5215.642710</td>\n",
       "      <td>0.5</td>\n",
       "      <td>2021-02-25</td>\n",
       "      <td>2</td>\n",
       "    </tr>\n",
       "    <tr>\n",
       "      <th>6768</th>\n",
       "      <td>718</td>\n",
       "      <td>5197.436649</td>\n",
       "      <td>0.5</td>\n",
       "      <td>2021-02-11</td>\n",
       "      <td>2</td>\n",
       "    </tr>\n",
       "    <tr>\n",
       "      <th>...</th>\n",
       "      <td>...</td>\n",
       "      <td>...</td>\n",
       "      <td>...</td>\n",
       "      <td>...</td>\n",
       "      <td>...</td>\n",
       "    </tr>\n",
       "    <tr>\n",
       "      <th>17004</th>\n",
       "      <td>1460</td>\n",
       "      <td>5531.335845</td>\n",
       "      <td>0.5</td>\n",
       "      <td>2021-01-19</td>\n",
       "      <td>1</td>\n",
       "    </tr>\n",
       "    <tr>\n",
       "      <th>17242</th>\n",
       "      <td>1477</td>\n",
       "      <td>6724.932981</td>\n",
       "      <td>0.5</td>\n",
       "      <td>2021-01-12</td>\n",
       "      <td>1</td>\n",
       "    </tr>\n",
       "    <tr>\n",
       "      <th>17314</th>\n",
       "      <td>1483</td>\n",
       "      <td>4445.481070</td>\n",
       "      <td>0.5</td>\n",
       "      <td>2021-03-06</td>\n",
       "      <td>3</td>\n",
       "    </tr>\n",
       "    <tr>\n",
       "      <th>17505</th>\n",
       "      <td>1496</td>\n",
       "      <td>5722.551787</td>\n",
       "      <td>0.5</td>\n",
       "      <td>2021-02-14</td>\n",
       "      <td>2</td>\n",
       "    </tr>\n",
       "    <tr>\n",
       "      <th>17909</th>\n",
       "      <td>1524</td>\n",
       "      <td>4103.998874</td>\n",
       "      <td>0.5</td>\n",
       "      <td>2021-06-18</td>\n",
       "      <td>6</td>\n",
       "    </tr>\n",
       "  </tbody>\n",
       "</table>\n",
       "<p>95 rows × 5 columns</p>\n",
       "</div>"
      ],
      "text/plain": [
       "       user_id     distance  duration       date  month\n",
       "6531       701  4196.445201       0.5 2021-08-31      8\n",
       "6570       704  4830.824371       0.5 2021-10-14     10\n",
       "6680       712  4684.004397       0.5 2021-03-04      3\n",
       "6695       713  5215.642710       0.5 2021-02-25      2\n",
       "6768       718  5197.436649       0.5 2021-02-11      2\n",
       "...        ...          ...       ...        ...    ...\n",
       "17004     1460  5531.335845       0.5 2021-01-19      1\n",
       "17242     1477  6724.932981       0.5 2021-01-12      1\n",
       "17314     1483  4445.481070       0.5 2021-03-06      3\n",
       "17505     1496  5722.551787       0.5 2021-02-14      2\n",
       "17909     1524  4103.998874       0.5 2021-06-18      6\n",
       "\n",
       "[95 rows x 5 columns]"
      ]
     },
     "execution_count": 22,
     "metadata": {},
     "output_type": "execute_result"
    }
   ],
   "source": [
    "rides.query('duration == 0.5')"
   ]
  },
  {
   "cell_type": "markdown",
   "id": "aeb43750",
   "metadata": {},
   "source": [
    "Дальше пойдет добавочный блок который я добавил в ходе исправления."
   ]
  },
  {
   "cell_type": "code",
   "execution_count": 23,
   "id": "4a860bf3",
   "metadata": {},
   "outputs": [
    {
     "data": {
      "text/plain": [
       "170.8522494427599"
      ]
     },
     "execution_count": 23,
     "metadata": {},
     "output_type": "execute_result"
    }
   ],
   "source": [
    "# Вычислим медианную скорость передвижения пользователей\n",
    "speed_median = (rides['distance']/rides['duration']).median()\n",
    "speed_median"
   ]
  },
  {
   "cell_type": "code",
   "execution_count": 24,
   "id": "575a11c0",
   "metadata": {},
   "outputs": [],
   "source": [
    "# Заполним ячейки с выбросом 0.5 минут отношением дистанции на медианную скорость\n",
    "rides['duration'] = rides['duration'].where(rides['duration'] != 0.5, rides['distance'] / speed_median)"
   ]
  },
  {
   "cell_type": "code",
   "execution_count": 25,
   "id": "80b090d9",
   "metadata": {},
   "outputs": [
    {
     "data": {
      "text/plain": [
       "user_id     0\n",
       "distance    0\n",
       "duration    0\n",
       "date        0\n",
       "month       0\n",
       "dtype: int64"
      ]
     },
     "execution_count": 25,
     "metadata": {},
     "output_type": "execute_result"
    }
   ],
   "source": [
    "rides.query('duration == 0.5').count() # проверяем наличие выбросов"
   ]
  },
  {
   "cell_type": "code",
   "execution_count": 26,
   "id": "f6367ea8",
   "metadata": {},
   "outputs": [
    {
     "data": {
      "image/png": "[encoded data removed]",
      "text/plain": [
       "<Figure size 432x288 with 1 Axes>"
      ]
     },
     "metadata": {
      "needs_background": "light"
     },
     "output_type": "display_data"
    }
   ],
   "source": [
    "rides['duration'].hist(bins=100) # построим еще раз гистограмму\n",
    "None"
   ]
  },
  {
   "cell_type": "code",
   "execution_count": 27,
   "id": "2f2a60f2",
   "metadata": {},
   "outputs": [],
   "source": [
    "# предыдущий вывод\n",
    "# Видим, что остальные данные в строках с выбросом по продолжительности 0.5 минут вполне адекватны. \n",
    "# Всего строк с выбросами 95 штук что примерно 0,5 процента от всех поездок. \n",
    "# Избавимся от выбросов, удалив данные строки."
   ]
  },
  {
   "cell_type": "code",
   "execution_count": 28,
   "id": "2195784a",
   "metadata": {},
   "outputs": [],
   "source": [
    "# rides = rides.query('duration != 0.5')\n",
    "# rides.shape"
   ]
  },
  {
   "cell_type": "markdown",
   "id": "0d41341e",
   "metadata": {},
   "source": [
    "В ходе построения данного распределения был замечен выброс в районе 0.5 минуты. Избавились от него, заполнив нерелевантные значения расчетным значением продолжительности времени. Для расчета была вычислена медиана скорости, которая была вычислена отношением дистанции к продолжительности. Далее поделив дистанцию на медианную скорость, получили приблизительные значения времени."
   ]
  },
  {
   "cell_type": "markdown",
   "id": "9c59a3f0",
   "metadata": {},
   "source": [
    "**Вывод** \n",
    "В ходе исследовательского анализа данных, были выявлены следующие закономерности:\n",
    "* Частота встречаемости городов примерно одинаковая, независимо от численности населения. Больше всего в Пятигорске, меньше всего в Москве.\n",
    "* Пользователей с подпиской чуть меньше пользователей без подписки (46/54).\n",
    "* Пользователи по возрасту распределены в соответствии с их возрастной группой (по убыванию: 25±5, до 20, после 30).\n",
    "* Большая часть поездок лежит в диапазоне от 2 до 5 км.\n",
    "* В столбце с продолжительностью поездок были замечены выбросы со значением 0,5 мин. Заменили выбросы на расчетные значения.)\n",
    "* Распределение продолжительности поездок нормальное, среднее время примерно 17 минут. Диапазон большей значений от 2 до 35 минут."
   ]
  },
  {
   "cell_type": "markdown",
   "id": "4ef51331",
   "metadata": {},
   "source": [
    "#### Шаг 4. Объединение данных"
   ]
  },
  {
   "cell_type": "code",
   "execution_count": 29,
   "id": "6bf288b5",
   "metadata": {},
   "outputs": [
    {
     "data": {
      "text/html": [
       "<div>\n",
       "<style scoped>\n",
       "    .dataframe tbody tr th:only-of-type {\n",
       "        vertical-align: middle;\n",
       "    }\n",
       "\n",
       "    .dataframe tbody tr th {\n",
       "        vertical-align: top;\n",
       "    }\n",
       "\n",
       "    .dataframe thead th {\n",
       "        text-align: right;\n",
       "    }\n",
       "</style>\n",
       "<table border=\"1\" class=\"dataframe\">\n",
       "  <thead>\n",
       "    <tr style=\"text-align: right;\">\n",
       "      <th></th>\n",
       "      <th>user_id</th>\n",
       "      <th>name</th>\n",
       "      <th>age</th>\n",
       "      <th>city</th>\n",
       "      <th>subscription_type</th>\n",
       "      <th>distance</th>\n",
       "      <th>duration</th>\n",
       "      <th>month</th>\n",
       "    </tr>\n",
       "  </thead>\n",
       "  <tbody>\n",
       "    <tr>\n",
       "      <th>0</th>\n",
       "      <td>1</td>\n",
       "      <td>Кира</td>\n",
       "      <td>22</td>\n",
       "      <td>Тюмень</td>\n",
       "      <td>ultra</td>\n",
       "      <td>4409.919140</td>\n",
       "      <td>26.0</td>\n",
       "      <td>1</td>\n",
       "    </tr>\n",
       "    <tr>\n",
       "      <th>1</th>\n",
       "      <td>1</td>\n",
       "      <td>Кира</td>\n",
       "      <td>22</td>\n",
       "      <td>Тюмень</td>\n",
       "      <td>ultra</td>\n",
       "      <td>2617.592153</td>\n",
       "      <td>16.0</td>\n",
       "      <td>1</td>\n",
       "    </tr>\n",
       "    <tr>\n",
       "      <th>2</th>\n",
       "      <td>1</td>\n",
       "      <td>Кира</td>\n",
       "      <td>22</td>\n",
       "      <td>Тюмень</td>\n",
       "      <td>ultra</td>\n",
       "      <td>754.159807</td>\n",
       "      <td>7.0</td>\n",
       "      <td>4</td>\n",
       "    </tr>\n",
       "    <tr>\n",
       "      <th>3</th>\n",
       "      <td>1</td>\n",
       "      <td>Кира</td>\n",
       "      <td>22</td>\n",
       "      <td>Тюмень</td>\n",
       "      <td>ultra</td>\n",
       "      <td>2694.783254</td>\n",
       "      <td>19.0</td>\n",
       "      <td>8</td>\n",
       "    </tr>\n",
       "    <tr>\n",
       "      <th>4</th>\n",
       "      <td>1</td>\n",
       "      <td>Кира</td>\n",
       "      <td>22</td>\n",
       "      <td>Тюмень</td>\n",
       "      <td>ultra</td>\n",
       "      <td>4028.687306</td>\n",
       "      <td>27.0</td>\n",
       "      <td>8</td>\n",
       "    </tr>\n",
       "  </tbody>\n",
       "</table>\n",
       "</div>"
      ],
      "text/plain": [
       "   user_id  name  age    city subscription_type     distance  duration  month\n",
       "0        1  Кира   22  Тюмень             ultra  4409.919140      26.0      1\n",
       "1        1  Кира   22  Тюмень             ultra  2617.592153      16.0      1\n",
       "2        1  Кира   22  Тюмень             ultra   754.159807       7.0      4\n",
       "3        1  Кира   22  Тюмень             ultra  2694.783254      19.0      8\n",
       "4        1  Кира   22  Тюмень             ultra  4028.687306      27.0      8"
      ]
     },
     "execution_count": 29,
     "metadata": {},
     "output_type": "execute_result"
    }
   ],
   "source": [
    "# Объединим датафреймы с пользователями и поездками в один общий.\n",
    "df = users.merge(rides.drop('date', axis=1, inplace=False),\n",
    "                 on='user_id',\n",
    "                 how='outer')  \n",
    "\n",
    "\n",
    "df['duration'] = np.ceil(df['duration']) # округлили продолжительность поездки до целых\n",
    "\n",
    "\n",
    "df.head() # посмотрим результат"
   ]
  },
  {
   "cell_type": "code",
   "execution_count": 30,
   "id": "7f1b8ac5",
   "metadata": {},
   "outputs": [
    {
     "name": "stdout",
     "output_type": "stream",
     "text": [
      "поездок без подписки 11568 \n",
      "поездок с подпиской 6500\n"
     ]
    }
   ],
   "source": [
    "# Сохраним 2 среза из исходного датафрейма в отдельные.\n",
    "\n",
    "df_ultra = df.query('subscription_type == \"ultra\"') # с подпиской ultra\n",
    "df_free = df.query('subscription_type == \"free\"') # без подписки\n",
    "\n",
    "print('поездок без подписки', len(df_free),'\\nпоездок с подпиской', len(df_ultra)) # количество поездок в группах"
   ]
  },
  {
   "cell_type": "markdown",
   "id": "69486bd2",
   "metadata": {},
   "source": [
    "Визуализируем данные о расстоянии и времени поездок для пользователей обеих групп."
   ]
  },
  {
   "cell_type": "code",
   "execution_count": 31,
   "id": "0e32f806",
   "metadata": {},
   "outputs": [
    {
     "data": {
      "image/png": "[encoded data removed]",
      "text/plain": [
       "<Figure size 432x288 with 1 Axes>"
      ]
     },
     "metadata": {
      "needs_background": "light"
     },
     "output_type": "display_data"
    }
   ],
   "source": [
    "# распределение длительности поездок\n",
    "plt.hist(df_free['duration'], bins=50, alpha=0.8, label='free')\n",
    "plt.hist(df_ultra['duration'], bins=50, alpha=0.8, label='ultra')\n",
    "plt.legend(loc='upper right')\n",
    "plt.grid()\n",
    "None"
   ]
  },
  {
   "cell_type": "markdown",
   "id": "12a2b1b0",
   "metadata": {},
   "source": [
    "Имеем примерно одинаковые распределения, разница только в количестве значений, следовательно принципиальных различий между группами по длительности поездок не имеется."
   ]
  },
  {
   "cell_type": "code",
   "execution_count": 32,
   "id": "bb25c676",
   "metadata": {},
   "outputs": [
    {
     "data": {
      "image/png": "[encoded data removed]",
      "text/plain": [
       "<Figure size 432x288 with 1 Axes>"
      ]
     },
     "metadata": {
      "needs_background": "light"
     },
     "output_type": "display_data"
    }
   ],
   "source": [
    "# распределение дистанции поездок\n",
    "plt.hist(df_free['distance'], bins=50, alpha=0.8, label='free')\n",
    "plt.hist(df_ultra['distance'], bins=50, alpha=0.8, label='ultra')\n",
    "plt.legend(loc='upper right')\n",
    "plt.grid()\n",
    "None"
   ]
  },
  {
   "cell_type": "markdown",
   "id": "48b2f547",
   "metadata": {},
   "source": [
    "Имеем разницу в количестве значений и небольшая разница по форме распределений, но средние значения примерно одинаковы, следовательно можем сделать вывод что принципиальный отличий между группами нет."
   ]
  },
  {
   "cell_type": "markdown",
   "id": "b58159cf",
   "metadata": {},
   "source": [
    "**Вывод:**\n",
    "В ходе объединения данных, единый получившийся датафрейм был разбит на 2 фракции: подписчики и свободные пользователи. Далее было проведено предварительное сравнение этих 2 групп по длительности поездки и ее продолжительности. Принципиальной разницы по данным группам не было обнаружено."
   ]
  },
  {
   "cell_type": "markdown",
   "id": "402d620f",
   "metadata": {},
   "source": [
    "#### Шаг 5. Подсчёт выручки"
   ]
  },
  {
   "cell_type": "markdown",
   "id": "cfeb1289",
   "metadata": {},
   "source": [
    "##### Аггрегируем информацию"
   ]
  },
  {
   "cell_type": "markdown",
   "id": "341636fb",
   "metadata": {},
   "source": [
    "Для подсчета выручки создадим датафрейм с аггрегированными данными. Для этого сгруппируем созданный в предыдущем пункте датафрейм по пользователям и месяцам."
   ]
  },
  {
   "cell_type": "code",
   "execution_count": 33,
   "id": "eb668c94",
   "metadata": {},
   "outputs": [
    {
     "data": {
      "text/html": [
       "<div>\n",
       "<style scoped>\n",
       "    .dataframe tbody tr th:only-of-type {\n",
       "        vertical-align: middle;\n",
       "    }\n",
       "\n",
       "    .dataframe tbody tr th {\n",
       "        vertical-align: top;\n",
       "    }\n",
       "\n",
       "    .dataframe thead th {\n",
       "        text-align: right;\n",
       "    }\n",
       "</style>\n",
       "<table border=\"1\" class=\"dataframe\">\n",
       "  <thead>\n",
       "    <tr style=\"text-align: right;\">\n",
       "      <th></th>\n",
       "      <th></th>\n",
       "      <th>distance</th>\n",
       "      <th>duration</th>\n",
       "      <th>trips</th>\n",
       "      <th>subscription_type</th>\n",
       "    </tr>\n",
       "    <tr>\n",
       "      <th>user_id</th>\n",
       "      <th>month</th>\n",
       "      <th></th>\n",
       "      <th></th>\n",
       "      <th></th>\n",
       "      <th></th>\n",
       "    </tr>\n",
       "  </thead>\n",
       "  <tbody>\n",
       "    <tr>\n",
       "      <th rowspan=\"5\" valign=\"top\">1</th>\n",
       "      <th>1</th>\n",
       "      <td>7027.511294</td>\n",
       "      <td>42.0</td>\n",
       "      <td>2</td>\n",
       "      <td>ultra</td>\n",
       "    </tr>\n",
       "    <tr>\n",
       "      <th>4</th>\n",
       "      <td>754.159807</td>\n",
       "      <td>7.0</td>\n",
       "      <td>1</td>\n",
       "      <td>ultra</td>\n",
       "    </tr>\n",
       "    <tr>\n",
       "      <th>8</th>\n",
       "      <td>6723.470560</td>\n",
       "      <td>46.0</td>\n",
       "      <td>2</td>\n",
       "      <td>ultra</td>\n",
       "    </tr>\n",
       "    <tr>\n",
       "      <th>10</th>\n",
       "      <td>5809.911100</td>\n",
       "      <td>32.0</td>\n",
       "      <td>2</td>\n",
       "      <td>ultra</td>\n",
       "    </tr>\n",
       "    <tr>\n",
       "      <th>11</th>\n",
       "      <td>7003.499363</td>\n",
       "      <td>56.0</td>\n",
       "      <td>3</td>\n",
       "      <td>ultra</td>\n",
       "    </tr>\n",
       "    <tr>\n",
       "      <th>...</th>\n",
       "      <th>...</th>\n",
       "      <td>...</td>\n",
       "      <td>...</td>\n",
       "      <td>...</td>\n",
       "      <td>...</td>\n",
       "    </tr>\n",
       "    <tr>\n",
       "      <th rowspan=\"5\" valign=\"top\">1534</th>\n",
       "      <th>6</th>\n",
       "      <td>3409.468534</td>\n",
       "      <td>26.0</td>\n",
       "      <td>2</td>\n",
       "      <td>free</td>\n",
       "    </tr>\n",
       "    <tr>\n",
       "      <th>8</th>\n",
       "      <td>7622.453034</td>\n",
       "      <td>48.0</td>\n",
       "      <td>2</td>\n",
       "      <td>free</td>\n",
       "    </tr>\n",
       "    <tr>\n",
       "      <th>9</th>\n",
       "      <td>4928.173852</td>\n",
       "      <td>23.0</td>\n",
       "      <td>1</td>\n",
       "      <td>free</td>\n",
       "    </tr>\n",
       "    <tr>\n",
       "      <th>11</th>\n",
       "      <td>13350.015305</td>\n",
       "      <td>78.0</td>\n",
       "      <td>4</td>\n",
       "      <td>free</td>\n",
       "    </tr>\n",
       "    <tr>\n",
       "      <th>12</th>\n",
       "      <td>2371.711192</td>\n",
       "      <td>16.0</td>\n",
       "      <td>1</td>\n",
       "      <td>free</td>\n",
       "    </tr>\n",
       "  </tbody>\n",
       "</table>\n",
       "<p>11331 rows × 4 columns</p>\n",
       "</div>"
      ],
      "text/plain": [
       "                   distance  duration  trips subscription_type\n",
       "user_id month                                                 \n",
       "1       1       7027.511294      42.0      2             ultra\n",
       "        4        754.159807       7.0      1             ultra\n",
       "        8       6723.470560      46.0      2             ultra\n",
       "        10      5809.911100      32.0      2             ultra\n",
       "        11      7003.499363      56.0      3             ultra\n",
       "...                     ...       ...    ...               ...\n",
       "1534    6       3409.468534      26.0      2              free\n",
       "        8       7622.453034      48.0      2              free\n",
       "        9       4928.173852      23.0      1              free\n",
       "        11     13350.015305      78.0      4              free\n",
       "        12      2371.711192      16.0      1              free\n",
       "\n",
       "[11331 rows x 4 columns]"
      ]
     },
     "execution_count": 33,
     "metadata": {},
     "output_type": "execute_result"
    }
   ],
   "source": [
    "df_agg = df.groupby(['user_id', 'month']).sum() # группируем df\n",
    "df_agg['trips'] = df.groupby(['user_id', 'month'])['name'].count() # добавляем количество поездок\n",
    "df_agg.drop('age', axis=1, inplace=True) # удаляем лишний столбец 'age'\n",
    "df_agg['subscription_type'] = df.groupby(['user_id', 'month']).first()['subscription_type'] # добавляем столбец с типом подписки\n",
    "\n",
    "df_agg['duration'] = np.ceil(df_agg['duration']) # добавил строчку, хех\n",
    "\n",
    "df_agg # результат"
   ]
  },
  {
   "cell_type": "markdown",
   "id": "66890ab7",
   "metadata": {},
   "source": [
    "##### Добавляем помесячную выручку"
   ]
  },
  {
   "cell_type": "markdown",
   "id": "6c90de81",
   "metadata": {},
   "source": [
    "Для подсчета выручки, еще раз обратим внимание на условия использования:\n",
    "\n",
    "* без подписки\n",
    " * абонентская плата отсутствует;\n",
    " * стоимость одной минуты поездки — 8 рублей;\n",
    " * стоимость старта (начала поездки) — 50 рублей;\n",
    " \n",
    " \n",
    "* с подпиской Ultra\n",
    " * абонентская плата — 199 рублей в месяц;\n",
    " * стоимость одной минуты поездки — 6 рублей;\n",
    " * стоимость старта — бесплатно."
   ]
  },
  {
   "cell_type": "code",
   "execution_count": 34,
   "id": "fd257633",
   "metadata": {},
   "outputs": [],
   "source": [
    "# Напишем функцию подсчета выручки\n",
    "def revenue(row):\n",
    "    if row['subscription_type'] == 'ultra':  # определяем тип подписки\n",
    "        total = 199 + np.ceil(row['duration']) * 6 # стоимость ultra\n",
    "    else:\n",
    "        total = row['trips'] * 50 + np.ceil(row['duration']) * 8 # стоимость free\n",
    "    return total"
   ]
  },
  {
   "cell_type": "markdown",
   "id": "39d2e93e",
   "metadata": {},
   "source": [
    "<div class=\"alert-info\" style=\"padding: 20px; border-radius: 10px\">\n",
    "<b>Комментарий студента 💎</b>\n",
    "\n",
    " Принял к сведению, как будет время доделать проект постараюсь доработать.</div>"
   ]
  },
  {
   "cell_type": "code",
   "execution_count": 35,
   "id": "d5d62b4b",
   "metadata": {},
   "outputs": [
    {
     "data": {
      "text/html": [
       "<div>\n",
       "<style scoped>\n",
       "    .dataframe tbody tr th:only-of-type {\n",
       "        vertical-align: middle;\n",
       "    }\n",
       "\n",
       "    .dataframe tbody tr th {\n",
       "        vertical-align: top;\n",
       "    }\n",
       "\n",
       "    .dataframe thead th {\n",
       "        text-align: right;\n",
       "    }\n",
       "</style>\n",
       "<table border=\"1\" class=\"dataframe\">\n",
       "  <thead>\n",
       "    <tr style=\"text-align: right;\">\n",
       "      <th></th>\n",
       "      <th></th>\n",
       "      <th>distance</th>\n",
       "      <th>duration</th>\n",
       "      <th>trips</th>\n",
       "      <th>subscription_type</th>\n",
       "      <th>revenue</th>\n",
       "    </tr>\n",
       "    <tr>\n",
       "      <th>user_id</th>\n",
       "      <th>month</th>\n",
       "      <th></th>\n",
       "      <th></th>\n",
       "      <th></th>\n",
       "      <th></th>\n",
       "      <th></th>\n",
       "    </tr>\n",
       "  </thead>\n",
       "  <tbody>\n",
       "    <tr>\n",
       "      <th rowspan=\"5\" valign=\"top\">1</th>\n",
       "      <th>1</th>\n",
       "      <td>7027.511294</td>\n",
       "      <td>42.0</td>\n",
       "      <td>2</td>\n",
       "      <td>ultra</td>\n",
       "      <td>451.0</td>\n",
       "    </tr>\n",
       "    <tr>\n",
       "      <th>4</th>\n",
       "      <td>754.159807</td>\n",
       "      <td>7.0</td>\n",
       "      <td>1</td>\n",
       "      <td>ultra</td>\n",
       "      <td>241.0</td>\n",
       "    </tr>\n",
       "    <tr>\n",
       "      <th>8</th>\n",
       "      <td>6723.470560</td>\n",
       "      <td>46.0</td>\n",
       "      <td>2</td>\n",
       "      <td>ultra</td>\n",
       "      <td>475.0</td>\n",
       "    </tr>\n",
       "    <tr>\n",
       "      <th>10</th>\n",
       "      <td>5809.911100</td>\n",
       "      <td>32.0</td>\n",
       "      <td>2</td>\n",
       "      <td>ultra</td>\n",
       "      <td>391.0</td>\n",
       "    </tr>\n",
       "    <tr>\n",
       "      <th>11</th>\n",
       "      <td>7003.499363</td>\n",
       "      <td>56.0</td>\n",
       "      <td>3</td>\n",
       "      <td>ultra</td>\n",
       "      <td>535.0</td>\n",
       "    </tr>\n",
       "    <tr>\n",
       "      <th>...</th>\n",
       "      <th>...</th>\n",
       "      <td>...</td>\n",
       "      <td>...</td>\n",
       "      <td>...</td>\n",
       "      <td>...</td>\n",
       "      <td>...</td>\n",
       "    </tr>\n",
       "    <tr>\n",
       "      <th rowspan=\"5\" valign=\"top\">1534</th>\n",
       "      <th>6</th>\n",
       "      <td>3409.468534</td>\n",
       "      <td>26.0</td>\n",
       "      <td>2</td>\n",
       "      <td>free</td>\n",
       "      <td>308.0</td>\n",
       "    </tr>\n",
       "    <tr>\n",
       "      <th>8</th>\n",
       "      <td>7622.453034</td>\n",
       "      <td>48.0</td>\n",
       "      <td>2</td>\n",
       "      <td>free</td>\n",
       "      <td>484.0</td>\n",
       "    </tr>\n",
       "    <tr>\n",
       "      <th>9</th>\n",
       "      <td>4928.173852</td>\n",
       "      <td>23.0</td>\n",
       "      <td>1</td>\n",
       "      <td>free</td>\n",
       "      <td>234.0</td>\n",
       "    </tr>\n",
       "    <tr>\n",
       "      <th>11</th>\n",
       "      <td>13350.015305</td>\n",
       "      <td>78.0</td>\n",
       "      <td>4</td>\n",
       "      <td>free</td>\n",
       "      <td>824.0</td>\n",
       "    </tr>\n",
       "    <tr>\n",
       "      <th>12</th>\n",
       "      <td>2371.711192</td>\n",
       "      <td>16.0</td>\n",
       "      <td>1</td>\n",
       "      <td>free</td>\n",
       "      <td>178.0</td>\n",
       "    </tr>\n",
       "  </tbody>\n",
       "</table>\n",
       "<p>11331 rows × 5 columns</p>\n",
       "</div>"
      ],
      "text/plain": [
       "                   distance  duration  trips subscription_type  revenue\n",
       "user_id month                                                          \n",
       "1       1       7027.511294      42.0      2             ultra    451.0\n",
       "        4        754.159807       7.0      1             ultra    241.0\n",
       "        8       6723.470560      46.0      2             ultra    475.0\n",
       "        10      5809.911100      32.0      2             ultra    391.0\n",
       "        11      7003.499363      56.0      3             ultra    535.0\n",
       "...                     ...       ...    ...               ...      ...\n",
       "1534    6       3409.468534      26.0      2              free    308.0\n",
       "        8       7622.453034      48.0      2              free    484.0\n",
       "        9       4928.173852      23.0      1              free    234.0\n",
       "        11     13350.015305      78.0      4              free    824.0\n",
       "        12      2371.711192      16.0      1              free    178.0\n",
       "\n",
       "[11331 rows x 5 columns]"
      ]
     },
     "execution_count": 35,
     "metadata": {},
     "output_type": "execute_result"
    }
   ],
   "source": [
    "# Добавляем искомый столбец\n",
    "df_agg['revenue'] = df_agg.apply(revenue, axis=1)\n",
    "df_agg"
   ]
  },
  {
   "cell_type": "code",
   "execution_count": 36,
   "id": "558f22d8",
   "metadata": {},
   "outputs": [
    {
     "data": {
      "text/plain": [
       "subscription_type\n",
       "free     331.929391\n",
       "ultra    362.792191\n",
       "Name: revenue, dtype: float64"
      ]
     },
     "execution_count": 36,
     "metadata": {},
     "output_type": "execute_result"
    }
   ],
   "source": [
    "# Код ревьюера\n",
    "df_agg.groupby('subscription_type')['revenue'].mean()"
   ]
  },
  {
   "cell_type": "markdown",
   "id": "57804ca8",
   "metadata": {},
   "source": [
    "**Вывод:** Для подсчета помесячной выручки каждого пользователя, был сгруппирован датафрейм который был создан путем объединения исходных данных (см. пункт 2.4), и далее написана функция для подсчета выручки в зависимости от типа подписки. Итоговый результат зафиксировали в столбце `revenue`"
   ]
  },
  {
   "cell_type": "markdown",
   "id": "41545ac0",
   "metadata": {},
   "source": [
    "#### Шаг 6. Проверка гипотез"
   ]
  },
  {
   "cell_type": "markdown",
   "id": "59f69626",
   "metadata": {},
   "source": [
    "Продакт-менеджеры сервиса хотят увеличить количество пользователей с подпиской. Для этого они будут проводить различные акции, но сначала нужно выяснить несколько важных моментов."
   ]
  },
  {
   "cell_type": "markdown",
   "id": "be62b089",
   "metadata": {},
   "source": [
    "##### Гипотеза 1"
   ]
  },
  {
   "cell_type": "markdown",
   "id": "10e09e1d",
   "metadata": {},
   "source": [
    "**Вопрос: Тратят ли пользователи с подпиской больше времени на поездки?**\n",
    "    \n",
    "Если да, то пользователи с подпиской могут быть «выгоднее» для компании."
   ]
  },
  {
   "cell_type": "markdown",
   "id": "840e8c1c",
   "metadata": {},
   "source": [
    "Сформулируем гипотезы:\n",
    "\n",
    "* *H0: Пользователи с подпиской и без подписки тратят одинаковое количество времени на поездки.*\n",
    "* *H1: Пользователи с подпиской тратят больше времени на поездки.*"
   ]
  },
  {
   "cell_type": "code",
   "execution_count": 37,
   "id": "23ea867b",
   "metadata": {},
   "outputs": [
    {
     "name": "stdout",
     "output_type": "stream",
     "text": [
      "среднее время поездки с подпиской 19.04 минут\n",
      "среднее время поездки без подписки 18.13 минут\n"
     ]
    },
    {
     "data": {
      "image/png": "[encoded data removed]",
      "text/plain": [
       "<Figure size 432x288 with 1 Axes>"
      ]
     },
     "metadata": {
      "needs_background": "light"
     },
     "output_type": "display_data"
    }
   ],
   "source": [
    "# Еще раз нарисуем графики для наглядности\n",
    "print('среднее время поездки с подпиской', df_ultra['duration'].mean().round(2), 'минут' \n",
    "      '\\nсреднее время поездки без подписки', df_free['duration'].mean().round(2), 'минут')\n",
    "\n",
    "plt.hist(df_free['duration'], bins=50, alpha=0.8, label='free')\n",
    "plt.hist(df_ultra['duration'], bins=50, alpha=0.8, label='ultra')\n",
    "plt.legend(loc='upper right')\n",
    "plt.grid()\n",
    "None"
   ]
  },
  {
   "cell_type": "code",
   "execution_count": 38,
   "id": "13276e7e",
   "metadata": {},
   "outputs": [
    {
     "name": "stdout",
     "output_type": "stream",
     "text": [
      "pvalue =  1.646827988200932e-22\n",
      "Можем отвергнуть нулевую гипотезу\n"
     ]
    }
   ],
   "source": [
    "# проверим гипотезу о равенстве 2 средних с помощью ttest\n",
    "\n",
    "alpha = 0.01 # уровень значимости\n",
    "res = st.ttest_ind(df_ultra['duration'], df_free['duration'], alternative='greater') # тест\n",
    "print('pvalue = ', res.pvalue) # выводим значение pvalue\n",
    "\n",
    "if res.pvalue < 0.05: # окончательное решение\n",
    "    print('Можем отвергнуть нулевую гипотезу')\n",
    "else:\n",
    "    print('Не получилось отвергнуть нулевую гипотезу')"
   ]
  },
  {
   "cell_type": "markdown",
   "id": "013df37e",
   "metadata": {},
   "source": [
    "По результатам теста мы можем отвергнуть нулевую гипотезу в пользу альтернативной, значит утверждение, что пользователи с подпиской тратят больше времени на поездки имеет основания."
   ]
  },
  {
   "cell_type": "markdown",
   "id": "c977577e",
   "metadata": {},
   "source": [
    "##### Гипотеза 2"
   ]
  },
  {
   "cell_type": "markdown",
   "id": "8b499a04",
   "metadata": {},
   "source": [
    "**Вопрос: Можно ли сказать, что расстояние, которое проезжают пользователи с подпиской за одну поездку, не превышает 3130 метров?**\n",
    "\n",
    "Расстояние одной поездки в 3130 метров — оптимальное с точки зрения износа самоката. \n"
   ]
  },
  {
   "cell_type": "code",
   "execution_count": 39,
   "id": "a1dfdec2",
   "metadata": {},
   "outputs": [],
   "source": [
    "# Сформулируем гипотезы:\n",
    "# * *H0: За одну поездку пользователи в среднем проезжают 3130 метров.*\n",
    "# * *H1: В среднем, за одну поездку пользователи проезжают меньше 3130 метров.*"
   ]
  },
  {
   "cell_type": "markdown",
   "id": "a3275e77",
   "metadata": {},
   "source": [
    "Сформулируем гипотезы:(исправленная версия)\n",
    "\n",
    "* *H0: В среднем за одну поездку пользователи с подпиской проезжают оптимальное расстояние.*\n",
    "* *H1: В среднем за одну поездку пользователи с подпиской проезжают расстояние больше оптимального.*"
   ]
  },
  {
   "cell_type": "code",
   "execution_count": 40,
   "id": "0e223539",
   "metadata": {},
   "outputs": [
    {
     "name": "stdout",
     "output_type": "stream",
     "text": [
      "среднее расстояние за 1 поездку 3115.0 метров\n"
     ]
    },
    {
     "data": {
      "image/png": "[encoded data removed]",
      "text/plain": [
       "<Figure size 432x288 with 1 Axes>"
      ]
     },
     "metadata": {
      "needs_background": "light"
     },
     "output_type": "display_data"
    }
   ],
   "source": [
    "# df['distance'].hist(bins=100)\n",
    "# print('среднее расстояние за 1 поездку', df['distance'].mean().round(), 'метров')\n",
    "\n",
    "df_ultra['distance'].hist(bins=100)\n",
    "print('среднее расстояние за 1 поездку', df_ultra['distance'].mean().round(), 'метров')\n",
    "None"
   ]
  },
  {
   "cell_type": "code",
   "execution_count": 41,
   "id": "dca4faab",
   "metadata": {},
   "outputs": [
    {
     "name": "stdout",
     "output_type": "stream",
     "text": [
      "0.9195368847849785\n",
      "Не получилось отвергнуть нулевую гипотезу\n"
     ]
    }
   ],
   "source": [
    "# Проверим одностороннюю гипотезу\n",
    "\n",
    "interested_value = 3130 # оптимальное расстояние за 1 поездку \n",
    "alpha = 0.01 # уровень значимости\n",
    "# res = st.ttest_1samp(df['distance'], interested_value, alternative='less') # тест\n",
    "res = st.ttest_1samp(df_ultra['distance'], interested_value, alternative='greater') # тест\n",
    "print(res.pvalue)\n",
    "print('Можем отвергнуть нулевую гипотезу' if res.pvalue < alpha else 'Не получилось отвергнуть нулевую гипотезу')"
   ]
  },
  {
   "cell_type": "code",
   "execution_count": 42,
   "id": "e42f5f8f",
   "metadata": {},
   "outputs": [],
   "source": [
    "# По результатам теста можем отвергнуть нулевую гипотезу в пользу альтернативной, \n",
    "# следовательно утверждение, что пользователи за одну поездку проезжают меньше 3130 метров имеет основания."
   ]
  },
  {
   "cell_type": "markdown",
   "id": "51978d38",
   "metadata": {},
   "source": [
    "По результатам теста мы НЕ можем отвергнуть нулевую гипотезу, а значит с большей вероятностью, пользователи проезжают оптимальное расстояние не более 3130 метров."
   ]
  },
  {
   "cell_type": "markdown",
   "id": "48627878",
   "metadata": {},
   "source": [
    "##### Гипотеза 3"
   ]
  },
  {
   "cell_type": "markdown",
   "id": "ff79c4fd",
   "metadata": {},
   "source": [
    "**Вопрос: Помесячная выручка от пользователей с подпиской по месяцам выше, чем выручка от пользователей без подписки.**"
   ]
  },
  {
   "cell_type": "markdown",
   "id": "d42154b3",
   "metadata": {},
   "source": [
    "Сформулируем гипотезы:\n",
    "\n",
    "* *H0: Помесячная выручка от пользователей с подпиской по месяцам такая же, чем выручка от пользователей без подписки.*\n",
    "* *H1: Помесячная выручка от пользователей с подпиской по месяцам выше, чем выручка от пользователей без подписки.*"
   ]
  },
  {
   "cell_type": "markdown",
   "id": "8512a2cd",
   "metadata": {},
   "source": [
    "Выделим выручку в 2 группы: выручка пользователей с подпиской и без."
   ]
  },
  {
   "cell_type": "code",
   "execution_count": 43,
   "id": "819871ec",
   "metadata": {},
   "outputs": [
    {
     "name": "stdout",
     "output_type": "stream",
     "text": [
      "средняя выручка от пользователей с подпиской 363.0 \n",
      "средняя выручка от обычных пользователей 332.0\n"
     ]
    },
    {
     "data": {
      "image/png": "[encoded data removed]",
      "text/plain": [
       "<Figure size 432x288 with 1 Axes>"
      ]
     },
     "metadata": {
      "needs_background": "light"
     },
     "output_type": "display_data"
    }
   ],
   "source": [
    "# выручка от \"подписчиков\"\n",
    "df_agg_revenue_ultra = df_agg.query('subscription_type == \"ultra\"')['revenue']\n",
    "\n",
    "# выручка от пользователей без подписки\n",
    "df_agg_revenue_free = df_agg.query('subscription_type == \"free\"')['revenue']\n",
    "\n",
    "print('средняя выручка от пользователей с подпиской', df_agg_revenue_ultra.mean().round(),    # выведем средние значения\n",
    "      '\\nсредняя выручка от обычных пользователей', df_agg_revenue_free.mean().round())\n",
    "\n",
    "# построим гистограмму\n",
    "plt.hist(df_agg_revenue_free, bins=50, alpha=0.8, label='free')\n",
    "plt.hist(df_agg_revenue_ultra, bins=50, alpha=0.8, label='ultra')\n",
    "plt.legend(loc='upper right')\n",
    "plt.grid()\n",
    "None"
   ]
  },
  {
   "cell_type": "code",
   "execution_count": 44,
   "id": "f475b46e",
   "metadata": {},
   "outputs": [
    {
     "name": "stdout",
     "output_type": "stream",
     "text": [
      "9.391432442479095e-26\n",
      "Можем отвергнуть нулевую гипотезу\n"
     ]
    }
   ],
   "source": [
    "# проверим гипотезу о равенстве 2 средних\n",
    "\n",
    "alpha = 0.01\n",
    "res = st.ttest_ind(df_agg_revenue_ultra, df_agg_revenue_free, alternative='greater') \n",
    "print(res.pvalue)\n",
    "print('Можем отвергнуть нулевую гипотезу' if res.pvalue < alpha else 'Не получилось отвергнуть нулевую гипотезу')"
   ]
  },
  {
   "cell_type": "markdown",
   "id": "f7a837d8",
   "metadata": {},
   "source": [
    "По результатам теста можем отвергнуть нулевую гипотезу в пользу альтернативной, тогда утверждение, что помесячная выручка от пользователей с подпиской по месяцам выше, чем выручка от пользователей без подписки имеет основания."
   ]
  },
  {
   "cell_type": "markdown",
   "id": "60315e9c",
   "metadata": {},
   "source": [
    "**Вывод:** В результате проверки, ни одна из гипотез сформулированных в виде вопроса не была отвергнута. А это значит, что скорее всего пользователи с подпиской тратят в среднем больше времени на поездку и приносят большую помесячную выручку. Также скорее всего верно утверждение, что среднее расстояние поездки меньше оптимального с точки зрения износа расстояния 3130 метров. \n",
    "\n",
    "Все вышесказанное означает то, что нужно увеличивать количество пользователей с подпиской, и также мотивировать их проезжать бо́льшие расстояния, так как запас оптимальной дистанции с точки зрения износа еще есть."
   ]
  },
  {
   "cell_type": "markdown",
   "id": "b4e2e474",
   "metadata": {},
   "source": [
    "##### Теоретический вопрос"
   ]
  },
  {
   "cell_type": "markdown",
   "id": "4e393073",
   "metadata": {},
   "source": [
    "Представьте такую ситуацию: техническая команда сервиса обновила сервера, с которыми взаимодействует мобильное приложение. Она надеется, что из-за этого количество обращений в техподдержку значимо снизилось. Некоторый файл содержит для каждого пользователя данные о количестве обращений до обновления и после него. Какой тест вам понадобился бы для проверки этой гипотезы?"
   ]
  },
  {
   "cell_type": "markdown",
   "id": "13416455",
   "metadata": {},
   "source": [
    "Ответ: в данном случае мы имеем одну генеральную совокупность, с которой произошли некоторые изменения. Нужно будет проверять 2 зависимые выборки: до обновления серверов и после. Для такой проверки используется парный t-test. \n",
    "В python данный метод вызывается так: `scipy.stats.ttest_rel()`"
   ]
  },
  {
   "cell_type": "markdown",
   "id": "61213c5e",
   "metadata": {},
   "source": [
    "#### Шаг 7. Распределения (необязательный пункт)"
   ]
  },
  {
   "cell_type": "markdown",
   "id": "fa02692d",
   "metadata": {},
   "source": [
    "<div class=\"alert alert-info\"; style=\"border-left: 7px solid SteelBlue\">\n",
    "<h5>🎓 <font color=\"SteelBlue\">Комментарий от студента</font></h5>    \n",
    "\n",
    "Так как данный пункт необязательный, а решить задачи интересно, я написал решение немного в черновом варианте, поэтому прошу строго не судить))\n",
    "</div>"
   ]
  },
  {
   "cell_type": "markdown",
   "id": "9625de23",
   "metadata": {},
   "source": [
    "##### Задача 1"
   ]
  },
  {
   "cell_type": "markdown",
   "id": "1b382d48",
   "metadata": {},
   "source": [
    "Отделу маркетинга GoFast поставили задачу: нужно провести акцию с раздачей промокодов на один бесплатный месяц подписки, в рамках которой как минимум 100 существующих клиентов должны продлить эту подписку. То есть по завершении периода действия подписки пользователь может либо отказаться от неё, либо продлить, совершив соответствующий платёж. \n",
    "\n",
    "\n",
    "Эта акция уже проводилась ранее и по итогу выяснилось, что после бесплатного пробного периода подписку продлевают 10 % пользователей. Выясните, какое минимальное количество промокодов нужно разослать, чтобы вероятность не выполнить план была примерно 5 %. Подберите параметры распределения, описывающего эту ситуацию, постройте график распределения и сформулируйте ответ на вопрос о количестве промокодов.\n",
    "\n",
    "Ответ: 1172 промокода\n",
    "\n",
    "код ниже"
   ]
  },
  {
   "cell_type": "code",
   "execution_count": 45,
   "id": "812e4ae1",
   "metadata": {},
   "outputs": [
    {
     "name": "stderr",
     "output_type": "stream",
     "text": [
      "/opt/conda/lib/python3.9/site-packages/scipy/stats/_discrete_distns.py:78: RuntimeWarning: divide by zero encountered in _binom_pdf\n",
      "  return _boost._binom_pdf(x, n, p)\n"
     ]
    },
    {
     "data": {
      "image/png": "[encoded data removed]",
      "text/plain": [
       "<Figure size 432x288 with 1 Axes>"
      ]
     },
     "metadata": {
      "needs_background": "light"
     },
     "output_type": "display_data"
    },
    {
     "name": "stdout",
     "output_type": "stream",
     "text": [
      "0.04954795210203071\n",
      "промокодов достаточно\n"
     ]
    }
   ],
   "source": [
    "# биноминальное распределение\n",
    "\n",
    "n = 1172 # количество попыток (подобрали методом тыка xD)\n",
    "p = 0.1 # вероятность успеха\n",
    "x = 100  # минимальное значение\n",
    "\n",
    "# рисуем распределение\n",
    "\n",
    "distr = []\n",
    "for k in range(0, n + 1):\n",
    "    current_value = binom.pmf(k, n, p)\n",
    "    distr.append(current_value)    \n",
    "plt.bar(range(0, n + 1), distr)\n",
    "plt.show()\n",
    "\n",
    "# считаем вероятность получить значение менее порогового \n",
    "result = binom.cdf(x, n, p)\n",
    "\n",
    "print(result)\n",
    "print('промокодов достаточно' if result < 0.05 else 'промокодов недостаточно')"
   ]
  },
  {
   "cell_type": "markdown",
   "id": "17c89db4",
   "metadata": {},
   "source": [
    "##### Задача 2"
   ]
  },
  {
   "cell_type": "markdown",
   "id": "20af6aa4",
   "metadata": {},
   "source": [
    "Отдел маркетинга рассылает клиентам push-уведомления в мобильном приложении. Клиенты могут открыть его или не открывать. Известно, что уведомления открывают около 40 % получивших клиентов. Отдел планирует разослать 1 млн уведомлений. С помощью аппроксимации постройте примерный график распределения и оцените вероятность того, что уведомление откроют не более 399,5 тыс. пользователей.\n",
    "\n",
    "Ответ: 15,4 процентов"
   ]
  },
  {
   "cell_type": "code",
   "execution_count": 46,
   "id": "f550fd2d",
   "metadata": {},
   "outputs": [
    {
     "data": {
      "image/png": "[encoded data removed]",
      "text/plain": [
       "<Figure size 432x288 with 1 Axes>"
      ]
     },
     "metadata": {
      "needs_background": "light"
     },
     "output_type": "display_data"
    },
    {
     "name": "stdout",
     "output_type": "stream",
     "text": [
      "0.15371708296369768\n"
     ]
    }
   ],
   "source": [
    "n = 1000000 # количество попыток\n",
    "p = 0.4 # вероятность успеха\n",
    "\n",
    "# зададим параметры нормального распределения равными\n",
    "# мат.ожиданию и дисперсии биномиального распределения\n",
    "mu = n * p\n",
    "sigma = sqrt(n * p * (1 - p))\n",
    "\n",
    "# границы интервала\n",
    "y = 399500\n",
    "x = np.linspace(mu - 3*sigma, mu + 3*sigma, 100)\n",
    "\n",
    "plt.plot(x, st.norm.pdf(x, mu, sigma))\n",
    "plt.show()\n",
    "\n",
    "# считаем вероятность получить значение менее граничного\n",
    "result = st.norm(mu, sigma).cdf(y)\n",
    "print(result)"
   ]
  },
  {
   "cell_type": "markdown",
   "id": "bc7b737d",
   "metadata": {},
   "source": [
    "### Общий вывод по исследованию"
   ]
  },
  {
   "cell_type": "markdown",
   "id": "95b0b15a",
   "metadata": {},
   "source": [
    "В результате проведенного исследования сервиса аренды самокатов были получены следующие результаты и выводы:\n",
    "\n",
    "**Загрузка данных:** в ходе загрузки данных было обнаружено отсутствие пропусков, но требуется проверка наличия дубликатов с аномалиями. Формат даты не соответствует `datetime`, поэтому его лучше поменять. Добавление столбца с месяцами для удобства анализа помесячной выручки также является рекомендацией.\n",
    "\n",
    "**Предобработка данных:** был изменен формат даты на более удобный для обработки `datetime`, добавлен столбец с указанием месяца поездки. Из датафрейма **`users`** удалено 31 дубликатов.\n",
    "\n",
    "**Исследовательский анализ данных:** в ходе исследования данных были выявлены следующие закономерности:\n",
    "\n",
    "* Частота посещения городов примерно одинаковая, независимо от численности населения, с наибольшим количеством поездок в Пятигорске и наименьшим - в Москве.\n",
    "* Пользователей с подпиской немного меньше, чем пользователей без подписки (46% против 54%).\n",
    "* Пользователи по возрасту распределены в соответствии с их возрастными группами, с наибольшим количеством в возрастной группе 25±5, затем в группе до 20 лет и после 30 лет.\n",
    "* Большая часть поездок имеет расстояние от 2 до 5 км.\n",
    "* Распределение продолжительности поездок имеет нормальную форму, со средним временем поездки около 17 минут. Однако есть выбросы со значением продолжительности 0,5 минуты, которые были заменены на на расчетные значения. Диапазон большего количества значений составляет от 2 до 35 минут.\n",
    "\n",
    "**Объединение данных:** в результате объединения данных был создан единый датафрейм, который был разбит на две группы - пользователи с подпиской и без подписки. Предварительное сравнение этих групп показало, что нет принципиальной разницы по длительности и продолжительности поездок.\n",
    "\n",
    "**Подсчет выручки:** для подсчета помесячной выручки каждого пользователя был сгруппирован объединенный датафрейм, и написана функция для подсчета выручки в зависимости от типа подписки. Результаты были зафиксированы в столбце `revenue`.\n",
    "\n",
    "**Проверка гипотез:** проверка трех сформулированных гипотез показала, что ни одна из них не может быть отвергнута. То есть, скорее всего, пользователи с подпиской тратят больше времени на поездку и приносят большую помесячную выручку, а также среднее расстояние поездки меньше оптимального значения.\n",
    "\n",
    "***Общий вывод исследования*** сервиса аренды самокатов заключается в том, что пользователи с подпиской скорее всего тратят больше времени на поездки и приносят большую помесячную выручку. Это означает, что для увеличения выручки и привлечения большего числа пользователей с подпиской, следует проводить акции и мотивировать их приобретать подписку. Такой подход поможет бизнесу сервиса аренды самокатов вырасти."
   ]
  }
 ],
 "metadata": {
  "ExecuteTimeLog": [
   {
    "duration": 1482,
    "start_time": "2023-07-04T09:12:41.846Z"
   },
   {
    "duration": 960,
    "start_time": "2023-07-04T09:12:43.333Z"
   },
   {
    "duration": 29,
    "start_time": "2023-07-04T09:12:44.300Z"
   },
   {
    "duration": 13,
    "start_time": "2023-07-04T09:12:44.332Z"
   },
   {
    "duration": 45,
    "start_time": "2023-07-04T09:12:44.348Z"
   },
   {
    "duration": 54,
    "start_time": "2023-07-04T09:12:44.395Z"
   },
   {
    "duration": 19,
    "start_time": "2023-07-04T09:12:44.458Z"
   },
   {
    "duration": 54,
    "start_time": "2023-07-04T09:12:44.484Z"
   },
   {
    "duration": 6,
    "start_time": "2023-07-04T09:12:44.541Z"
   },
   {
    "duration": 41,
    "start_time": "2023-07-04T09:12:44.550Z"
   },
   {
    "duration": 11,
    "start_time": "2023-07-04T09:12:44.594Z"
   },
   {
    "duration": 37,
    "start_time": "2023-07-04T09:12:44.608Z"
   },
   {
    "duration": 278,
    "start_time": "2023-07-04T09:12:44.648Z"
   },
   {
    "duration": 146,
    "start_time": "2023-07-04T09:12:44.931Z"
   },
   {
    "duration": 334,
    "start_time": "2023-07-04T09:12:45.079Z"
   },
   {
    "duration": 372,
    "start_time": "2023-07-04T09:12:45.415Z"
   },
   {
    "duration": 408,
    "start_time": "2023-07-04T09:12:45.791Z"
   },
   {
    "duration": 14,
    "start_time": "2023-07-04T09:12:46.202Z"
   },
   {
    "duration": 41,
    "start_time": "2023-07-04T09:12:46.218Z"
   },
   {
    "duration": 23,
    "start_time": "2023-07-04T09:12:46.266Z"
   },
   {
    "duration": 37,
    "start_time": "2023-07-04T09:12:46.291Z"
   },
   {
    "duration": 13,
    "start_time": "2023-07-04T09:12:46.336Z"
   },
   {
    "duration": 735,
    "start_time": "2023-07-04T09:12:46.352Z"
   },
   {
    "duration": 409,
    "start_time": "2023-07-04T09:12:47.090Z"
   },
   {
    "duration": 61,
    "start_time": "2023-07-04T09:12:47.507Z"
   },
   {
    "duration": 5,
    "start_time": "2023-07-04T09:12:47.575Z"
   },
   {
    "duration": 315,
    "start_time": "2023-07-04T09:12:47.586Z"
   },
   {
    "duration": 415,
    "start_time": "2023-07-04T09:12:47.902Z"
   },
   {
    "duration": 23,
    "start_time": "2023-07-04T09:12:48.319Z"
   },
   {
    "duration": 549,
    "start_time": "2023-07-04T09:12:48.344Z"
   },
   {
    "duration": 7,
    "start_time": "2023-07-04T09:12:48.895Z"
   },
   {
    "duration": 553,
    "start_time": "2023-07-04T09:12:48.905Z"
   },
   {
    "duration": 6,
    "start_time": "2023-07-04T09:12:49.460Z"
   },
   {
    "duration": 3147,
    "start_time": "2023-07-04T09:12:49.468Z"
   },
   {
    "duration": 394,
    "start_time": "2023-07-04T09:12:52.629Z"
   },
   {
    "duration": 213,
    "start_time": "2023-07-04T09:22:07.683Z"
   },
   {
    "duration": 20,
    "start_time": "2023-07-04T09:24:32.794Z"
   },
   {
    "duration": 50,
    "start_time": "2023-07-04T09:58:01.788Z"
   },
   {
    "duration": 1287,
    "start_time": "2023-07-04T09:58:21.252Z"
   },
   {
    "duration": 245,
    "start_time": "2023-07-04T09:58:22.541Z"
   },
   {
    "duration": 11,
    "start_time": "2023-07-04T09:58:22.788Z"
   },
   {
    "duration": 16,
    "start_time": "2023-07-04T09:58:22.801Z"
   },
   {
    "duration": 21,
    "start_time": "2023-07-04T09:58:22.819Z"
   },
   {
    "duration": 20,
    "start_time": "2023-07-04T09:58:22.842Z"
   },
   {
    "duration": 8,
    "start_time": "2023-07-04T09:58:22.864Z"
   },
   {
    "duration": 45,
    "start_time": "2023-07-04T09:58:22.874Z"
   },
   {
    "duration": 3,
    "start_time": "2023-07-04T09:58:22.921Z"
   },
   {
    "duration": 18,
    "start_time": "2023-07-04T09:58:22.927Z"
   },
   {
    "duration": 4,
    "start_time": "2023-07-04T09:58:22.947Z"
   },
   {
    "duration": 9,
    "start_time": "2023-07-04T09:58:22.953Z"
   },
   {
    "duration": 140,
    "start_time": "2023-07-04T09:58:22.964Z"
   },
   {
    "duration": 91,
    "start_time": "2023-07-04T09:58:23.105Z"
   },
   {
    "duration": 242,
    "start_time": "2023-07-04T09:58:23.198Z"
   },
   {
    "duration": 249,
    "start_time": "2023-07-04T09:58:23.441Z"
   },
   {
    "duration": 255,
    "start_time": "2023-07-04T09:58:23.691Z"
   },
   {
    "duration": 13,
    "start_time": "2023-07-04T09:58:23.948Z"
   },
   {
    "duration": 17,
    "start_time": "2023-07-04T09:58:23.962Z"
   },
   {
    "duration": 14,
    "start_time": "2023-07-04T09:58:23.981Z"
   },
   {
    "duration": 20,
    "start_time": "2023-07-04T09:58:23.997Z"
   },
   {
    "duration": 39,
    "start_time": "2023-07-04T09:58:24.020Z"
   },
   {
    "duration": 366,
    "start_time": "2023-07-04T09:58:24.060Z"
   },
   {
    "duration": 273,
    "start_time": "2023-07-04T09:58:24.427Z"
   },
   {
    "duration": 37,
    "start_time": "2023-07-04T09:58:24.701Z"
   },
   {
    "duration": 18,
    "start_time": "2023-07-04T09:58:24.739Z"
   },
   {
    "duration": 183,
    "start_time": "2023-07-04T09:58:24.759Z"
   },
   {
    "duration": 16,
    "start_time": "2023-07-04T09:58:24.945Z"
   },
   {
    "duration": 297,
    "start_time": "2023-07-04T09:58:24.962Z"
   },
   {
    "duration": 6,
    "start_time": "2023-07-04T09:58:25.261Z"
   },
   {
    "duration": 287,
    "start_time": "2023-07-04T09:58:25.269Z"
   },
   {
    "duration": 5,
    "start_time": "2023-07-04T09:58:25.558Z"
   },
   {
    "duration": 335,
    "start_time": "2023-07-04T09:58:25.565Z"
   },
   {
    "duration": 6,
    "start_time": "2023-07-04T09:58:25.902Z"
   },
   {
    "duration": 3949,
    "start_time": "2023-07-04T09:58:25.909Z"
   },
   {
    "duration": 299,
    "start_time": "2023-07-04T09:58:29.860Z"
   },
   {
    "duration": 25,
    "start_time": "2023-07-04T09:58:30.355Z"
   },
   {
    "duration": 28,
    "start_time": "2023-07-04T09:58:54.866Z"
   },
   {
    "duration": 24,
    "start_time": "2023-07-04T09:59:46.209Z"
   },
   {
    "duration": 25,
    "start_time": "2023-07-04T09:59:59.411Z"
   },
   {
    "duration": 25,
    "start_time": "2023-07-04T10:03:05.223Z"
   },
   {
    "duration": 107,
    "start_time": "2023-07-04T10:07:43.936Z"
   },
   {
    "duration": 9,
    "start_time": "2023-07-04T10:07:46.986Z"
   },
   {
    "duration": 12,
    "start_time": "2023-07-04T10:07:54.493Z"
   },
   {
    "duration": 7,
    "start_time": "2023-07-04T10:08:10.906Z"
   },
   {
    "duration": 9,
    "start_time": "2023-07-04T10:08:26.215Z"
   },
   {
    "duration": 3,
    "start_time": "2023-07-04T10:08:42.422Z"
   },
   {
    "duration": 759,
    "start_time": "2023-07-04T10:08:42.426Z"
   },
   {
    "duration": 8,
    "start_time": "2023-07-04T10:08:43.188Z"
   },
   {
    "duration": 17,
    "start_time": "2023-07-04T10:08:43.197Z"
   },
   {
    "duration": 10,
    "start_time": "2023-07-04T10:08:43.216Z"
   },
   {
    "duration": 12,
    "start_time": "2023-07-04T10:08:43.228Z"
   },
   {
    "duration": 18,
    "start_time": "2023-07-04T10:08:43.241Z"
   },
   {
    "duration": 22,
    "start_time": "2023-07-04T10:08:43.260Z"
   },
   {
    "duration": 4,
    "start_time": "2023-07-04T10:08:43.283Z"
   },
   {
    "duration": 13,
    "start_time": "2023-07-04T10:08:46.331Z"
   },
   {
    "duration": 86,
    "start_time": "2023-07-04T10:09:40.450Z"
   },
   {
    "duration": 13,
    "start_time": "2023-07-04T10:09:47.630Z"
   },
   {
    "duration": 13,
    "start_time": "2023-07-04T10:10:33.987Z"
   },
   {
    "duration": 10,
    "start_time": "2023-07-04T10:10:57.084Z"
   },
   {
    "duration": 12,
    "start_time": "2023-07-04T10:11:29.035Z"
   },
   {
    "duration": 12,
    "start_time": "2023-07-04T10:12:03.414Z"
   },
   {
    "duration": 7,
    "start_time": "2023-07-04T10:12:23.186Z"
   },
   {
    "duration": 122,
    "start_time": "2023-07-04T10:13:42.683Z"
   },
   {
    "duration": 132,
    "start_time": "2023-07-04T10:14:03.050Z"
   },
   {
    "duration": 295,
    "start_time": "2023-07-04T10:20:14.789Z"
   },
   {
    "duration": 122,
    "start_time": "2023-07-04T10:20:20.669Z"
   },
   {
    "duration": 122,
    "start_time": "2023-07-04T10:20:53.004Z"
   },
   {
    "duration": 90,
    "start_time": "2023-07-04T10:28:50.131Z"
   },
   {
    "duration": 123,
    "start_time": "2023-07-04T10:28:57.474Z"
   },
   {
    "duration": 10,
    "start_time": "2023-07-04T10:29:18.751Z"
   },
   {
    "duration": 12,
    "start_time": "2023-07-04T10:29:22.049Z"
   },
   {
    "duration": 87,
    "start_time": "2023-07-04T10:31:11.357Z"
   },
   {
    "duration": 10,
    "start_time": "2023-07-04T10:31:24.809Z"
   },
   {
    "duration": 4,
    "start_time": "2023-07-04T10:32:53.093Z"
   },
   {
    "duration": 13,
    "start_time": "2023-07-04T10:33:08.109Z"
   },
   {
    "duration": 86,
    "start_time": "2023-07-04T10:37:07.707Z"
   },
   {
    "duration": 83,
    "start_time": "2023-07-04T10:37:14.904Z"
   },
   {
    "duration": 16,
    "start_time": "2023-07-04T10:37:30.710Z"
   },
   {
    "duration": 9,
    "start_time": "2023-07-04T10:38:02.947Z"
   },
   {
    "duration": 5,
    "start_time": "2023-07-04T10:38:10.736Z"
   },
   {
    "duration": 5,
    "start_time": "2023-07-04T10:38:15.966Z"
   },
   {
    "duration": 17,
    "start_time": "2023-07-04T10:38:34.428Z"
   },
   {
    "duration": 17,
    "start_time": "2023-07-04T10:38:50.552Z"
   },
   {
    "duration": 18,
    "start_time": "2023-07-04T10:39:34.205Z"
   },
   {
    "duration": 18,
    "start_time": "2023-07-04T10:39:54.800Z"
   },
   {
    "duration": 24,
    "start_time": "2023-07-04T10:39:59.348Z"
   },
   {
    "duration": 139,
    "start_time": "2023-07-04T10:40:49.196Z"
   },
   {
    "duration": 153,
    "start_time": "2023-07-04T10:44:36.246Z"
   },
   {
    "duration": 150,
    "start_time": "2023-07-04T10:45:04.679Z"
   },
   {
    "duration": 137,
    "start_time": "2023-07-04T10:45:39.896Z"
   },
   {
    "duration": 137,
    "start_time": "2023-07-04T10:45:52.901Z"
   },
   {
    "duration": 240,
    "start_time": "2023-07-04T10:45:56.579Z"
   },
   {
    "duration": 135,
    "start_time": "2023-07-04T10:46:06.981Z"
   },
   {
    "duration": 246,
    "start_time": "2023-07-04T10:46:23.319Z"
   },
   {
    "duration": 153,
    "start_time": "2023-07-04T10:46:27.109Z"
   },
   {
    "duration": 146,
    "start_time": "2023-07-04T10:46:32.560Z"
   },
   {
    "duration": 167,
    "start_time": "2023-07-04T10:46:39.020Z"
   },
   {
    "duration": 151,
    "start_time": "2023-07-04T10:46:49.835Z"
   },
   {
    "duration": 144,
    "start_time": "2023-07-04T10:48:12.795Z"
   },
   {
    "duration": 138,
    "start_time": "2023-07-04T10:54:03.611Z"
   },
   {
    "duration": 140,
    "start_time": "2023-07-04T10:56:49.558Z"
   },
   {
    "duration": 135,
    "start_time": "2023-07-04T10:57:07.686Z"
   },
   {
    "duration": 156,
    "start_time": "2023-07-04T10:57:29.087Z"
   },
   {
    "duration": 145,
    "start_time": "2023-07-04T10:58:34.497Z"
   },
   {
    "duration": 240,
    "start_time": "2023-07-04T10:58:53.838Z"
   },
   {
    "duration": 162,
    "start_time": "2023-07-04T11:00:33.196Z"
   },
   {
    "duration": 147,
    "start_time": "2023-07-04T11:00:47.400Z"
   },
   {
    "duration": 153,
    "start_time": "2023-07-04T11:00:55.251Z"
   },
   {
    "duration": 153,
    "start_time": "2023-07-04T11:03:35.158Z"
   },
   {
    "duration": 140,
    "start_time": "2023-07-04T11:03:49.148Z"
   },
   {
    "duration": 3,
    "start_time": "2023-07-04T11:04:17.633Z"
   },
   {
    "duration": 14,
    "start_time": "2023-07-04T11:14:15.734Z"
   },
   {
    "duration": 29,
    "start_time": "2023-07-04T11:15:32.149Z"
   },
   {
    "duration": 296,
    "start_time": "2023-07-04T11:15:43.283Z"
   },
   {
    "duration": 127,
    "start_time": "2023-07-04T11:16:06.170Z"
   },
   {
    "duration": 139,
    "start_time": "2023-07-04T11:16:49.339Z"
   },
   {
    "duration": 20,
    "start_time": "2023-07-04T11:16:54.427Z"
   },
   {
    "duration": 133,
    "start_time": "2023-07-04T11:17:43.704Z"
   },
   {
    "duration": 20,
    "start_time": "2023-07-04T11:18:03.984Z"
   },
   {
    "duration": 22,
    "start_time": "2023-07-04T11:18:08.015Z"
   },
   {
    "duration": 231,
    "start_time": "2023-07-04T11:19:07.902Z"
   },
   {
    "duration": 159,
    "start_time": "2023-07-04T11:19:14.772Z"
   },
   {
    "duration": 167,
    "start_time": "2023-07-04T11:19:28.486Z"
   },
   {
    "duration": 102,
    "start_time": "2023-07-04T11:19:44.811Z"
   },
   {
    "duration": 9,
    "start_time": "2023-07-04T11:19:51.274Z"
   },
   {
    "duration": 12,
    "start_time": "2023-07-04T11:20:36.444Z"
   },
   {
    "duration": 14,
    "start_time": "2023-07-04T11:21:00.767Z"
   },
   {
    "duration": 11,
    "start_time": "2023-07-04T11:21:23.382Z"
   },
   {
    "duration": 10,
    "start_time": "2023-07-04T11:21:27.544Z"
   },
   {
    "duration": 8,
    "start_time": "2023-07-04T11:21:38.477Z"
   },
   {
    "duration": 7,
    "start_time": "2023-07-04T11:29:36.251Z"
   },
   {
    "duration": 11,
    "start_time": "2023-07-04T11:29:43.594Z"
   },
   {
    "duration": 10,
    "start_time": "2023-07-04T11:29:53.988Z"
   },
   {
    "duration": 165,
    "start_time": "2023-07-04T11:30:21.048Z"
   },
   {
    "duration": 132,
    "start_time": "2023-07-04T11:30:53.019Z"
   },
   {
    "duration": 254,
    "start_time": "2023-07-04T11:32:09.418Z"
   },
   {
    "duration": 13,
    "start_time": "2023-07-04T11:33:33.669Z"
   },
   {
    "duration": 10,
    "start_time": "2023-07-04T11:33:59.734Z"
   },
   {
    "duration": 10,
    "start_time": "2023-07-04T11:34:22.877Z"
   },
   {
    "duration": 12,
    "start_time": "2023-07-04T11:35:19.535Z"
   },
   {
    "duration": 12,
    "start_time": "2023-07-04T11:35:27.535Z"
   },
   {
    "duration": 11,
    "start_time": "2023-07-04T11:35:40.376Z"
   },
   {
    "duration": 3,
    "start_time": "2023-07-04T11:35:59.530Z"
   },
   {
    "duration": 446,
    "start_time": "2023-07-04T11:35:59.536Z"
   },
   {
    "duration": 8,
    "start_time": "2023-07-04T11:35:59.984Z"
   },
   {
    "duration": 19,
    "start_time": "2023-07-04T11:35:59.993Z"
   },
   {
    "duration": 34,
    "start_time": "2023-07-04T11:36:00.014Z"
   },
   {
    "duration": 43,
    "start_time": "2023-07-04T11:36:00.049Z"
   },
   {
    "duration": 26,
    "start_time": "2023-07-04T11:36:00.093Z"
   },
   {
    "duration": 83,
    "start_time": "2023-07-04T11:36:00.121Z"
   },
   {
    "duration": 22,
    "start_time": "2023-07-04T11:36:00.206Z"
   },
   {
    "duration": 37,
    "start_time": "2023-07-04T11:36:00.230Z"
   },
   {
    "duration": 37,
    "start_time": "2023-07-04T11:36:00.270Z"
   },
   {
    "duration": 35,
    "start_time": "2023-07-04T11:36:00.309Z"
   },
   {
    "duration": 37,
    "start_time": "2023-07-04T11:36:00.345Z"
   },
   {
    "duration": 42,
    "start_time": "2023-07-04T11:36:00.384Z"
   },
   {
    "duration": 179,
    "start_time": "2023-07-04T11:36:00.428Z"
   },
   {
    "duration": 95,
    "start_time": "2023-07-04T11:36:00.609Z"
   },
   {
    "duration": 3,
    "start_time": "2023-07-04T11:36:00.706Z"
   },
   {
    "duration": 199,
    "start_time": "2023-07-04T11:36:00.710Z"
   },
   {
    "duration": 413,
    "start_time": "2023-07-04T11:36:00.911Z"
   },
   {
    "duration": 275,
    "start_time": "2023-07-04T11:36:01.326Z"
   },
   {
    "duration": 9,
    "start_time": "2023-07-04T11:36:01.603Z"
   },
   {
    "duration": 49,
    "start_time": "2023-07-04T11:36:01.613Z"
   },
   {
    "duration": 309,
    "start_time": "2023-07-04T11:36:01.664Z"
   },
   {
    "duration": 240,
    "start_time": "2023-07-04T11:37:56.512Z"
   },
   {
    "duration": 258,
    "start_time": "2023-07-04T11:38:14.926Z"
   },
   {
    "duration": 290,
    "start_time": "2023-07-04T11:38:38.619Z"
   },
   {
    "duration": 395,
    "start_time": "2023-07-04T11:38:46.884Z"
   },
   {
    "duration": 6,
    "start_time": "2023-07-04T11:39:08.173Z"
   },
   {
    "duration": 7,
    "start_time": "2023-07-04T11:39:12.273Z"
   },
   {
    "duration": 10,
    "start_time": "2023-07-04T11:39:38.052Z"
   },
   {
    "duration": 12,
    "start_time": "2023-07-04T11:39:51.473Z"
   },
   {
    "duration": 9,
    "start_time": "2023-07-04T11:41:26.856Z"
   },
   {
    "duration": 13,
    "start_time": "2023-07-04T11:42:00.587Z"
   },
   {
    "duration": 320,
    "start_time": "2023-07-04T11:42:13.095Z"
   },
   {
    "duration": 11,
    "start_time": "2023-07-04T11:42:48.377Z"
   },
   {
    "duration": 3,
    "start_time": "2023-07-04T11:44:20.882Z"
   },
   {
    "duration": 3,
    "start_time": "2023-07-04T11:45:33.917Z"
   },
   {
    "duration": 2,
    "start_time": "2023-07-04T11:45:45.223Z"
   },
   {
    "duration": 47,
    "start_time": "2023-07-04T11:59:19.242Z"
   },
   {
    "duration": 40,
    "start_time": "2023-07-04T11:59:28.882Z"
   },
   {
    "duration": 31,
    "start_time": "2023-07-04T11:59:42.093Z"
   },
   {
    "duration": 37,
    "start_time": "2023-07-04T11:59:48.559Z"
   },
   {
    "duration": 33,
    "start_time": "2023-07-04T12:00:04.111Z"
   },
   {
    "duration": 51,
    "start_time": "2023-07-04T12:00:10.579Z"
   },
   {
    "duration": 48,
    "start_time": "2023-07-04T12:00:42.672Z"
   },
   {
    "duration": 11,
    "start_time": "2023-07-04T12:00:48.379Z"
   },
   {
    "duration": 2,
    "start_time": "2023-07-04T12:10:17.952Z"
   },
   {
    "duration": 3,
    "start_time": "2023-07-04T12:10:23.504Z"
   },
   {
    "duration": 254,
    "start_time": "2023-07-04T12:12:39.611Z"
   },
   {
    "duration": 264,
    "start_time": "2023-07-04T12:12:46.314Z"
   },
   {
    "duration": 278,
    "start_time": "2023-07-04T12:13:48.363Z"
   },
   {
    "duration": 12,
    "start_time": "2023-07-04T12:14:59.751Z"
   },
   {
    "duration": 13,
    "start_time": "2023-07-04T12:15:11.417Z"
   },
   {
    "duration": 7,
    "start_time": "2023-07-04T12:15:16.617Z"
   },
   {
    "duration": 6,
    "start_time": "2023-07-04T12:15:37.116Z"
   },
   {
    "duration": 3,
    "start_time": "2023-07-04T12:21:22.020Z"
   },
   {
    "duration": 1203,
    "start_time": "2023-07-04T12:33:28.527Z"
   },
   {
    "duration": 319,
    "start_time": "2023-07-04T12:33:29.732Z"
   },
   {
    "duration": 16,
    "start_time": "2023-07-04T12:33:30.053Z"
   },
   {
    "duration": 23,
    "start_time": "2023-07-04T12:33:30.071Z"
   },
   {
    "duration": 47,
    "start_time": "2023-07-04T12:33:30.097Z"
   },
   {
    "duration": 49,
    "start_time": "2023-07-04T12:33:30.146Z"
   },
   {
    "duration": 16,
    "start_time": "2023-07-04T12:33:30.197Z"
   },
   {
    "duration": 30,
    "start_time": "2023-07-04T12:33:30.214Z"
   },
   {
    "duration": 3,
    "start_time": "2023-07-04T12:33:30.246Z"
   },
   {
    "duration": 46,
    "start_time": "2023-07-04T12:33:30.251Z"
   },
   {
    "duration": 39,
    "start_time": "2023-07-04T12:33:30.298Z"
   },
   {
    "duration": 31,
    "start_time": "2023-07-04T12:33:30.339Z"
   },
   {
    "duration": 49,
    "start_time": "2023-07-04T12:33:30.372Z"
   },
   {
    "duration": 38,
    "start_time": "2023-07-04T12:33:30.425Z"
   },
   {
    "duration": 197,
    "start_time": "2023-07-04T12:33:30.469Z"
   },
   {
    "duration": 90,
    "start_time": "2023-07-04T12:33:30.669Z"
   },
   {
    "duration": 3,
    "start_time": "2023-07-04T12:33:30.769Z"
   },
   {
    "duration": 175,
    "start_time": "2023-07-04T12:33:30.773Z"
   },
   {
    "duration": 280,
    "start_time": "2023-07-04T12:33:30.950Z"
   },
   {
    "duration": 279,
    "start_time": "2023-07-04T12:33:31.232Z"
   },
   {
    "duration": 7,
    "start_time": "2023-07-04T12:33:31.513Z"
   },
   {
    "duration": 76,
    "start_time": "2023-07-04T12:33:31.522Z"
   },
   {
    "duration": 41,
    "start_time": "2023-07-04T12:33:31.600Z"
   },
   {
    "duration": 29,
    "start_time": "2023-07-04T12:33:31.643Z"
   },
   {
    "duration": 71,
    "start_time": "2023-07-04T12:33:31.674Z"
   },
   {
    "duration": 275,
    "start_time": "2023-07-04T12:33:31.747Z"
   },
   {
    "duration": 3,
    "start_time": "2023-07-04T12:33:32.023Z"
   },
   {
    "duration": 7,
    "start_time": "2023-07-04T12:33:32.028Z"
   },
   {
    "duration": 33,
    "start_time": "2023-07-04T12:33:32.037Z"
   },
   {
    "duration": 12,
    "start_time": "2023-07-04T12:33:32.072Z"
   },
   {
    "duration": 386,
    "start_time": "2023-07-04T12:33:32.086Z"
   },
   {
    "duration": 313,
    "start_time": "2023-07-04T12:33:32.475Z"
   },
   {
    "duration": 36,
    "start_time": "2023-07-04T12:33:32.790Z"
   },
   {
    "duration": 4,
    "start_time": "2023-07-04T12:33:32.828Z"
   },
   {
    "duration": 202,
    "start_time": "2023-07-04T12:33:32.834Z"
   },
   {
    "duration": 6,
    "start_time": "2023-07-04T12:33:33.037Z"
   },
   {
    "duration": 294,
    "start_time": "2023-07-04T12:33:33.045Z"
   },
   {
    "duration": 20,
    "start_time": "2023-07-04T12:33:33.341Z"
   },
   {
    "duration": 8,
    "start_time": "2023-07-04T12:33:33.367Z"
   },
   {
    "duration": 258,
    "start_time": "2023-07-04T12:33:33.377Z"
   },
   {
    "duration": 5,
    "start_time": "2023-07-04T12:33:33.639Z"
   },
   {
    "duration": 14,
    "start_time": "2023-07-04T12:33:33.656Z"
   },
   {
    "duration": 310,
    "start_time": "2023-07-04T12:33:33.672Z"
   },
   {
    "duration": 5,
    "start_time": "2023-07-04T12:33:33.984Z"
   },
   {
    "duration": 2067,
    "start_time": "2023-07-04T12:33:33.991Z"
   },
   {
    "duration": 165,
    "start_time": "2023-07-04T12:33:36.060Z"
   },
   {
    "duration": 1284,
    "start_time": "2023-07-04T16:55:33.067Z"
   },
   {
    "duration": 968,
    "start_time": "2023-07-04T16:55:34.366Z"
   },
   {
    "duration": 14,
    "start_time": "2023-07-04T16:55:35.336Z"
   },
   {
    "duration": 33,
    "start_time": "2023-07-04T16:55:35.365Z"
   },
   {
    "duration": 37,
    "start_time": "2023-07-04T16:55:35.400Z"
   },
   {
    "duration": 44,
    "start_time": "2023-07-04T16:55:35.438Z"
   },
   {
    "duration": 9,
    "start_time": "2023-07-04T16:55:35.484Z"
   },
   {
    "duration": 25,
    "start_time": "2023-07-04T16:55:35.495Z"
   },
   {
    "duration": 10,
    "start_time": "2023-07-04T16:55:35.521Z"
   },
   {
    "duration": 31,
    "start_time": "2023-07-04T16:55:35.534Z"
   },
   {
    "duration": 20,
    "start_time": "2023-07-04T16:55:35.566Z"
   },
   {
    "duration": 12,
    "start_time": "2023-07-04T16:55:35.588Z"
   },
   {
    "duration": 11,
    "start_time": "2023-07-04T16:55:35.601Z"
   },
   {
    "duration": 34,
    "start_time": "2023-07-04T16:55:35.613Z"
   },
   {
    "duration": 169,
    "start_time": "2023-07-04T16:55:35.649Z"
   },
   {
    "duration": 81,
    "start_time": "2023-07-04T16:55:35.820Z"
   },
   {
    "duration": 2,
    "start_time": "2023-07-04T16:55:35.902Z"
   },
   {
    "duration": 162,
    "start_time": "2023-07-04T16:55:35.906Z"
   },
   {
    "duration": 253,
    "start_time": "2023-07-04T16:55:36.070Z"
   },
   {
    "duration": 258,
    "start_time": "2023-07-04T16:55:36.324Z"
   },
   {
    "duration": 7,
    "start_time": "2023-07-04T16:55:36.583Z"
   },
   {
    "duration": 25,
    "start_time": "2023-07-04T16:55:36.591Z"
   },
   {
    "duration": 53,
    "start_time": "2023-07-04T16:55:36.618Z"
   },
   {
    "duration": 21,
    "start_time": "2023-07-04T16:55:36.672Z"
   },
   {
    "duration": 10,
    "start_time": "2023-07-04T16:55:36.695Z"
   },
   {
    "duration": 240,
    "start_time": "2023-07-04T16:55:36.706Z"
   },
   {
    "duration": 13,
    "start_time": "2023-07-04T16:55:36.953Z"
   },
   {
    "duration": 13,
    "start_time": "2023-07-04T16:55:36.969Z"
   },
   {
    "duration": 21,
    "start_time": "2023-07-04T16:55:36.983Z"
   },
   {
    "duration": 10,
    "start_time": "2023-07-04T16:55:37.006Z"
   },
   {
    "duration": 354,
    "start_time": "2023-07-04T16:55:37.018Z"
   },
   {
    "duration": 288,
    "start_time": "2023-07-04T16:55:37.374Z"
   },
   {
    "duration": 38,
    "start_time": "2023-07-04T16:55:37.664Z"
   },
   {
    "duration": 4,
    "start_time": "2023-07-04T16:55:37.703Z"
   },
   {
    "duration": 186,
    "start_time": "2023-07-04T16:55:37.708Z"
   },
   {
    "duration": 6,
    "start_time": "2023-07-04T16:55:37.896Z"
   },
   {
    "duration": 273,
    "start_time": "2023-07-04T16:55:37.903Z"
   },
   {
    "duration": 6,
    "start_time": "2023-07-04T16:55:38.178Z"
   },
   {
    "duration": 4,
    "start_time": "2023-07-04T16:55:38.185Z"
   },
   {
    "duration": 338,
    "start_time": "2023-07-04T16:55:38.191Z"
   },
   {
    "duration": 6,
    "start_time": "2023-07-04T16:55:38.531Z"
   },
   {
    "duration": 12,
    "start_time": "2023-07-04T16:55:38.539Z"
   },
   {
    "duration": 308,
    "start_time": "2023-07-04T16:55:38.553Z"
   },
   {
    "duration": 6,
    "start_time": "2023-07-04T16:55:38.863Z"
   },
   {
    "duration": 2305,
    "start_time": "2023-07-04T16:55:38.870Z"
   },
   {
    "duration": 298,
    "start_time": "2023-07-04T16:55:41.177Z"
   },
   {
    "duration": 101,
    "start_time": "2023-07-04T16:58:41.116Z"
   },
   {
    "duration": 315,
    "start_time": "2023-07-04T16:59:12.954Z"
   },
   {
    "duration": 310,
    "start_time": "2023-07-04T17:00:23.100Z"
   },
   {
    "duration": 63,
    "start_time": "2023-07-04T17:21:27.332Z"
   },
   {
    "duration": 1366,
    "start_time": "2023-07-04T17:21:36.196Z"
   },
   {
    "duration": 445,
    "start_time": "2023-07-04T17:21:37.565Z"
   },
   {
    "duration": 13,
    "start_time": "2023-07-04T17:21:38.012Z"
   },
   {
    "duration": 21,
    "start_time": "2023-07-04T17:21:38.027Z"
   },
   {
    "duration": 21,
    "start_time": "2023-07-04T17:21:38.050Z"
   },
   {
    "duration": 28,
    "start_time": "2023-07-04T17:21:38.072Z"
   },
   {
    "duration": 8,
    "start_time": "2023-07-04T17:21:38.102Z"
   },
   {
    "duration": 32,
    "start_time": "2023-07-04T17:21:38.112Z"
   },
   {
    "duration": 5,
    "start_time": "2023-07-04T17:21:38.146Z"
   },
   {
    "duration": 19,
    "start_time": "2023-07-04T17:21:38.154Z"
   },
   {
    "duration": 15,
    "start_time": "2023-07-04T17:21:38.175Z"
   },
   {
    "duration": 7,
    "start_time": "2023-07-04T17:21:38.192Z"
   },
   {
    "duration": 4,
    "start_time": "2023-07-04T17:21:38.201Z"
   },
   {
    "duration": 38,
    "start_time": "2023-07-04T17:21:38.207Z"
   },
   {
    "duration": 195,
    "start_time": "2023-07-04T17:21:38.247Z"
   },
   {
    "duration": 87,
    "start_time": "2023-07-04T17:21:38.444Z"
   },
   {
    "duration": 2,
    "start_time": "2023-07-04T17:21:38.534Z"
   },
   {
    "duration": 173,
    "start_time": "2023-07-04T17:21:38.538Z"
   },
   {
    "duration": 281,
    "start_time": "2023-07-04T17:21:38.713Z"
   },
   {
    "duration": 280,
    "start_time": "2023-07-04T17:21:38.996Z"
   },
   {
    "duration": 7,
    "start_time": "2023-07-04T17:21:39.278Z"
   },
   {
    "duration": 17,
    "start_time": "2023-07-04T17:21:39.287Z"
   },
   {
    "duration": 7,
    "start_time": "2023-07-04T17:21:39.306Z"
   },
   {
    "duration": 6,
    "start_time": "2023-07-04T17:21:39.314Z"
   },
   {
    "duration": 49,
    "start_time": "2023-07-04T17:21:39.322Z"
   },
   {
    "duration": 264,
    "start_time": "2023-07-04T17:21:39.373Z"
   },
   {
    "duration": 3,
    "start_time": "2023-07-04T17:21:39.638Z"
   },
   {
    "duration": 10,
    "start_time": "2023-07-04T17:21:39.644Z"
   },
   {
    "duration": 29,
    "start_time": "2023-07-04T17:22:04.615Z"
   },
   {
    "duration": 76,
    "start_time": "2023-07-04T17:22:37.987Z"
   },
   {
    "duration": 20,
    "start_time": "2023-07-04T17:22:51.876Z"
   },
   {
    "duration": 20,
    "start_time": "2023-07-04T17:23:30.410Z"
   },
   {
    "duration": 134,
    "start_time": "2023-07-04T17:23:51.306Z"
   },
   {
    "duration": 9,
    "start_time": "2023-07-04T17:27:18.033Z"
   },
   {
    "duration": 4,
    "start_time": "2023-07-04T17:27:24.794Z"
   },
   {
    "duration": 185,
    "start_time": "2023-07-04T17:27:27.148Z"
   },
   {
    "duration": 1228,
    "start_time": "2023-07-04T17:28:50.830Z"
   },
   {
    "duration": 316,
    "start_time": "2023-07-04T17:28:52.060Z"
   },
   {
    "duration": 16,
    "start_time": "2023-07-04T17:28:52.378Z"
   },
   {
    "duration": 14,
    "start_time": "2023-07-04T17:28:52.397Z"
   },
   {
    "duration": 14,
    "start_time": "2023-07-04T17:28:52.413Z"
   },
   {
    "duration": 37,
    "start_time": "2023-07-04T17:28:52.430Z"
   },
   {
    "duration": 11,
    "start_time": "2023-07-04T17:28:52.470Z"
   },
   {
    "duration": 43,
    "start_time": "2023-07-04T17:28:52.483Z"
   },
   {
    "duration": 5,
    "start_time": "2023-07-04T17:28:52.528Z"
   },
   {
    "duration": 12,
    "start_time": "2023-07-04T17:28:52.536Z"
   },
   {
    "duration": 13,
    "start_time": "2023-07-04T17:28:52.567Z"
   },
   {
    "duration": 9,
    "start_time": "2023-07-04T17:28:52.582Z"
   },
   {
    "duration": 13,
    "start_time": "2023-07-04T17:28:52.593Z"
   },
   {
    "duration": 13,
    "start_time": "2023-07-04T17:28:52.607Z"
   },
   {
    "duration": 205,
    "start_time": "2023-07-04T17:28:52.622Z"
   },
   {
    "duration": 96,
    "start_time": "2023-07-04T17:28:52.829Z"
   },
   {
    "duration": 3,
    "start_time": "2023-07-04T17:28:52.927Z"
   },
   {
    "duration": 198,
    "start_time": "2023-07-04T17:28:52.931Z"
   },
   {
    "duration": 290,
    "start_time": "2023-07-04T17:28:53.131Z"
   },
   {
    "duration": 267,
    "start_time": "2023-07-04T17:28:53.423Z"
   },
   {
    "duration": 9,
    "start_time": "2023-07-04T17:28:53.691Z"
   },
   {
    "duration": 16,
    "start_time": "2023-07-04T17:28:53.702Z"
   },
   {
    "duration": 6,
    "start_time": "2023-07-04T17:28:53.720Z"
   },
   {
    "duration": 38,
    "start_time": "2023-07-04T17:28:53.729Z"
   },
   {
    "duration": 9,
    "start_time": "2023-07-04T17:28:53.769Z"
   },
   {
    "duration": 323,
    "start_time": "2023-07-04T17:28:53.779Z"
   },
   {
    "duration": 5,
    "start_time": "2023-07-04T17:28:54.106Z"
   },
   {
    "duration": 5,
    "start_time": "2023-07-04T17:28:54.117Z"
   },
   {
    "duration": 45,
    "start_time": "2023-07-04T17:28:54.123Z"
   },
   {
    "duration": 13,
    "start_time": "2023-07-04T17:28:54.171Z"
   },
   {
    "duration": 422,
    "start_time": "2023-07-04T17:28:54.187Z"
   },
   {
    "duration": 293,
    "start_time": "2023-07-04T17:28:54.611Z"
   },
   {
    "duration": 45,
    "start_time": "2023-07-04T17:28:54.906Z"
   },
   {
    "duration": 15,
    "start_time": "2023-07-04T17:28:54.953Z"
   },
   {
    "duration": 191,
    "start_time": "2023-07-04T17:28:54.969Z"
   },
   {
    "duration": 13,
    "start_time": "2023-07-04T17:28:55.162Z"
   },
   {
    "duration": 312,
    "start_time": "2023-07-04T17:28:55.177Z"
   },
   {
    "duration": 6,
    "start_time": "2023-07-04T17:28:55.491Z"
   },
   {
    "duration": 15,
    "start_time": "2023-07-04T17:28:55.499Z"
   },
   {
    "duration": 267,
    "start_time": "2023-07-04T17:28:55.516Z"
   },
   {
    "duration": 5,
    "start_time": "2023-07-04T17:28:55.785Z"
   },
   {
    "duration": 34,
    "start_time": "2023-07-04T17:28:55.792Z"
   },
   {
    "duration": 280,
    "start_time": "2023-07-04T17:28:55.828Z"
   },
   {
    "duration": 5,
    "start_time": "2023-07-04T17:28:56.110Z"
   },
   {
    "duration": 2125,
    "start_time": "2023-07-04T17:28:56.117Z"
   },
   {
    "duration": 155,
    "start_time": "2023-07-04T17:28:58.244Z"
   },
   {
    "duration": 1194,
    "start_time": "2023-07-04T18:28:12.338Z"
   },
   {
    "duration": 796,
    "start_time": "2023-07-04T18:28:13.534Z"
   },
   {
    "duration": 12,
    "start_time": "2023-07-04T18:28:14.332Z"
   },
   {
    "duration": 32,
    "start_time": "2023-07-04T18:28:14.346Z"
   },
   {
    "duration": 12,
    "start_time": "2023-07-04T18:28:14.380Z"
   },
   {
    "duration": 12,
    "start_time": "2023-07-04T18:28:14.394Z"
   },
   {
    "duration": 17,
    "start_time": "2023-07-04T18:28:14.407Z"
   },
   {
    "duration": 18,
    "start_time": "2023-07-04T18:28:14.426Z"
   },
   {
    "duration": 4,
    "start_time": "2023-07-04T18:28:14.445Z"
   },
   {
    "duration": 27,
    "start_time": "2023-07-04T18:28:14.452Z"
   },
   {
    "duration": 10,
    "start_time": "2023-07-04T18:28:14.481Z"
   },
   {
    "duration": 7,
    "start_time": "2023-07-04T18:28:14.493Z"
   },
   {
    "duration": 4,
    "start_time": "2023-07-04T18:28:14.502Z"
   },
   {
    "duration": 20,
    "start_time": "2023-07-04T18:28:14.508Z"
   },
   {
    "duration": 192,
    "start_time": "2023-07-04T18:28:14.530Z"
   },
   {
    "duration": 93,
    "start_time": "2023-07-04T18:28:14.723Z"
   },
   {
    "duration": 2,
    "start_time": "2023-07-04T18:28:14.818Z"
   },
   {
    "duration": 155,
    "start_time": "2023-07-04T18:28:14.822Z"
   },
   {
    "duration": 280,
    "start_time": "2023-07-04T18:28:14.979Z"
   },
   {
    "duration": 298,
    "start_time": "2023-07-04T18:28:15.263Z"
   },
   {
    "duration": 9,
    "start_time": "2023-07-04T18:28:15.562Z"
   },
   {
    "duration": 17,
    "start_time": "2023-07-04T18:28:15.573Z"
   },
   {
    "duration": 13,
    "start_time": "2023-07-04T18:28:15.591Z"
   },
   {
    "duration": 6,
    "start_time": "2023-07-04T18:28:15.606Z"
   },
   {
    "duration": 7,
    "start_time": "2023-07-04T18:28:15.614Z"
   },
   {
    "duration": 275,
    "start_time": "2023-07-04T18:28:15.622Z"
   },
   {
    "duration": 3,
    "start_time": "2023-07-04T18:28:15.898Z"
   },
   {
    "duration": 157,
    "start_time": "2023-07-04T18:28:15.904Z"
   },
   {
    "duration": 57,
    "start_time": "2023-07-04T18:28:16.067Z"
   },
   {
    "duration": 108,
    "start_time": "2023-07-04T18:28:16.126Z"
   },
   {
    "duration": 389,
    "start_time": "2023-07-04T18:28:16.236Z"
   },
   {
    "duration": 302,
    "start_time": "2023-07-04T18:28:16.627Z"
   },
   {
    "duration": 45,
    "start_time": "2023-07-04T18:28:16.931Z"
   },
   {
    "duration": 3,
    "start_time": "2023-07-04T18:28:16.978Z"
   },
   {
    "duration": 198,
    "start_time": "2023-07-04T18:28:16.982Z"
   },
   {
    "duration": 7,
    "start_time": "2023-07-04T18:28:17.181Z"
   },
   {
    "duration": 324,
    "start_time": "2023-07-04T18:28:17.189Z"
   },
   {
    "duration": 7,
    "start_time": "2023-07-04T18:28:17.515Z"
   },
   {
    "duration": 4,
    "start_time": "2023-07-04T18:28:17.524Z"
   },
   {
    "duration": 284,
    "start_time": "2023-07-04T18:28:17.530Z"
   },
   {
    "duration": 6,
    "start_time": "2023-07-04T18:28:17.815Z"
   },
   {
    "duration": 9,
    "start_time": "2023-07-04T18:28:17.823Z"
   },
   {
    "duration": 334,
    "start_time": "2023-07-04T18:28:17.834Z"
   },
   {
    "duration": 6,
    "start_time": "2023-07-04T18:28:18.171Z"
   },
   {
    "duration": 2415,
    "start_time": "2023-07-04T18:28:18.179Z"
   },
   {
    "duration": 379,
    "start_time": "2023-07-04T18:28:20.596Z"
   }
  ],
  "kernelspec": {
   "display_name": "Python 3 (ipykernel)",
   "language": "python",
   "name": "python3"
  },
  "language_info": {
   "codemirror_mode": {
    "name": "ipython",
    "version": 3
   },
   "file_extension": ".py",
   "mimetype": "text/x-python",
   "name": "python",
   "nbconvert_exporter": "python",
   "pygments_lexer": "ipython3",
   "version": "3.10.9"
  },
  "toc": {
   "base_numbering": 1,
   "nav_menu": {},
   "number_sections": true,
   "sideBar": true,
   "skip_h1_title": true,
   "title_cell": "Table of Contents",
   "title_sidebar": "Contents",
   "toc_cell": false,
   "toc_position": {
    "height": "calc(100% - 180px)",
    "left": "10px",
    "top": "150px",
    "width": "254.844px"
   },
   "toc_section_display": true,
   "toc_window_display": false
  }
 },
 "nbformat": 4,
 "nbformat_minor": 5
}
