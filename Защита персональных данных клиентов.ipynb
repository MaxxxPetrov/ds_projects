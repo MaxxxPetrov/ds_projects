{
 "cells": [
  {
   "cell_type": "markdown",
   "metadata": {
    "toc": true
   },
   "source": [
    "<h1>Содержание<span class=\"tocSkip\"></span></h1>\n",
    "<div class=\"toc\"><ul class=\"toc-item\"><li><span><a href=\"#Загрузка-данных\" data-toc-modified-id=\"Загрузка-данных-1\"><span class=\"toc-item-num\">1&nbsp;&nbsp;</span>Загрузка данных</a></span></li><li><span><a href=\"#Умножение-матриц\" data-toc-modified-id=\"Умножение-матриц-2\"><span class=\"toc-item-num\">2&nbsp;&nbsp;</span>Умножение матриц</a></span></li><li><span><a href=\"#Алгоритм-преобразования\" data-toc-modified-id=\"Алгоритм-преобразования-3\"><span class=\"toc-item-num\">3&nbsp;&nbsp;</span>Алгоритм преобразования</a></span></li><li><span><a href=\"#Проверка-алгоритма\" data-toc-modified-id=\"Проверка-алгоритма-4\"><span class=\"toc-item-num\">4&nbsp;&nbsp;</span>Проверка алгоритма</a></span></li><li><span><a href=\"#Вывод\" data-toc-modified-id=\"Вывод-5\"><span class=\"toc-item-num\">5&nbsp;&nbsp;</span>Вывод</a></span></li><li><span><a href=\"#Чек-лист-проверки\" data-toc-modified-id=\"Чек-лист-проверки-6\"><span class=\"toc-item-num\">6&nbsp;&nbsp;</span>Чек-лист проверки</a></span></li></ul></div>"
   ]
  },
  {
   "cell_type": "markdown",
   "metadata": {},
   "source": [
    "# Защита персональных данных клиентов"
   ]
  },
  {
   "cell_type": "markdown",
   "metadata": {},
   "source": [
    "# Описание проекта"
   ]
  },
  {
   "cell_type": "markdown",
   "metadata": {},
   "source": [
    "Вам нужно защитить данные клиентов страховой компании «Хоть потоп». Разработайте такой метод преобразования данных, чтобы по ним было сложно восстановить персональную информацию. Обоснуйте корректность его работы.\n",
    "\n",
    "Нужно защитить данные, чтобы при преобразовании качество моделей машинного обучения не ухудшилось. Подбирать наилучшую модель не требуется."
   ]
  },
  {
   "cell_type": "markdown",
   "metadata": {},
   "source": [
    "# Описание данных"
   ]
  },
  {
   "cell_type": "markdown",
   "metadata": {},
   "source": [
    "* Признаки: пол, возраст и зарплата застрахованного, количество членов его семьи.\n",
    "* Целевой признак: количество страховых выплат клиенту за последние 5 лет."
   ]
  },
  {
   "cell_type": "markdown",
   "metadata": {},
   "source": [
    "# План работы"
   ]
  },
  {
   "cell_type": "markdown",
   "metadata": {},
   "source": [
    "1. Загрузка данных.\n",
    "2. Умножение матриц.\n",
    "3. Алгоритм преобразования.\n",
    "4. Проверка алгоритма."
   ]
  },
  {
   "cell_type": "markdown",
   "metadata": {},
   "source": [
    "## Загрузка данных"
   ]
  },
  {
   "cell_type": "code",
   "execution_count": 1,
   "metadata": {},
   "outputs": [],
   "source": [
    "# импортируем библиотеки\n",
    "\n",
    "import pandas as pd\n",
    "import numpy as np\n",
    "from sklearn.linear_model import LinearRegression\n",
    "from sklearn.model_selection import cross_val_score"
   ]
  },
  {
   "cell_type": "code",
   "execution_count": 2,
   "metadata": {},
   "outputs": [],
   "source": [
    "# Сохраняем данные в переменную df\n",
    "\n",
    "try:    \n",
    "    df = pd.read_csv('insurance.csv')\n",
    "except:    \n",
    "    df = pd.read_csv('https://code.s3.yandex.net/datasets/insurance.csv')"
   ]
  },
  {
   "cell_type": "code",
   "execution_count": 3,
   "metadata": {},
   "outputs": [
    {
     "data": {
      "text/html": [
       "<div>\n",
       "<style scoped>\n",
       "    .dataframe tbody tr th:only-of-type {\n",
       "        vertical-align: middle;\n",
       "    }\n",
       "\n",
       "    .dataframe tbody tr th {\n",
       "        vertical-align: top;\n",
       "    }\n",
       "\n",
       "    .dataframe thead th {\n",
       "        text-align: right;\n",
       "    }\n",
       "</style>\n",
       "<table border=\"1\" class=\"dataframe\">\n",
       "  <thead>\n",
       "    <tr style=\"text-align: right;\">\n",
       "      <th></th>\n",
       "      <th>Пол</th>\n",
       "      <th>Возраст</th>\n",
       "      <th>Зарплата</th>\n",
       "      <th>Члены семьи</th>\n",
       "      <th>Страховые выплаты</th>\n",
       "    </tr>\n",
       "  </thead>\n",
       "  <tbody>\n",
       "    <tr>\n",
       "      <th>343</th>\n",
       "      <td>0</td>\n",
       "      <td>25.0</td>\n",
       "      <td>54900.0</td>\n",
       "      <td>1</td>\n",
       "      <td>0</td>\n",
       "    </tr>\n",
       "    <tr>\n",
       "      <th>1603</th>\n",
       "      <td>0</td>\n",
       "      <td>34.0</td>\n",
       "      <td>20500.0</td>\n",
       "      <td>0</td>\n",
       "      <td>0</td>\n",
       "    </tr>\n",
       "    <tr>\n",
       "      <th>3413</th>\n",
       "      <td>0</td>\n",
       "      <td>47.0</td>\n",
       "      <td>32900.0</td>\n",
       "      <td>2</td>\n",
       "      <td>1</td>\n",
       "    </tr>\n",
       "  </tbody>\n",
       "</table>\n",
       "</div>"
      ],
      "text/plain": [
       "      Пол  Возраст  Зарплата  Члены семьи  Страховые выплаты\n",
       "343     0     25.0   54900.0            1                  0\n",
       "1603    0     34.0   20500.0            0                  0\n",
       "3413    0     47.0   32900.0            2                  1"
      ]
     },
     "execution_count": 3,
     "metadata": {},
     "output_type": "execute_result"
    }
   ],
   "source": [
    "df.sample(3)"
   ]
  },
  {
   "cell_type": "code",
   "execution_count": 4,
   "metadata": {},
   "outputs": [
    {
     "name": "stdout",
     "output_type": "stream",
     "text": [
      "<class 'pandas.core.frame.DataFrame'>\n",
      "RangeIndex: 5000 entries, 0 to 4999\n",
      "Data columns (total 5 columns):\n",
      " #   Column             Non-Null Count  Dtype  \n",
      "---  ------             --------------  -----  \n",
      " 0   Пол                5000 non-null   int64  \n",
      " 1   Возраст            5000 non-null   float64\n",
      " 2   Зарплата           5000 non-null   float64\n",
      " 3   Члены семьи        5000 non-null   int64  \n",
      " 4   Страховые выплаты  5000 non-null   int64  \n",
      "dtypes: float64(2), int64(3)\n",
      "memory usage: 195.4 KB\n"
     ]
    }
   ],
   "source": [
    "df.info() # смотрим пропуски, типы данных"
   ]
  },
  {
   "cell_type": "code",
   "execution_count": 5,
   "metadata": {},
   "outputs": [
    {
     "data": {
      "text/plain": [
       "153"
      ]
     },
     "execution_count": 5,
     "metadata": {},
     "output_type": "execute_result"
    }
   ],
   "source": [
    "df.duplicated().sum() # дубликаты"
   ]
  },
  {
   "cell_type": "code",
   "execution_count": 6,
   "metadata": {},
   "outputs": [
    {
     "data": {
      "text/plain": [
       "(4847, 5)"
      ]
     },
     "execution_count": 6,
     "metadata": {},
     "output_type": "execute_result"
    }
   ],
   "source": [
    "df = df.drop_duplicates() # сносим дубликаты\n",
    "df.shape"
   ]
  },
  {
   "cell_type": "code",
   "execution_count": 7,
   "metadata": {},
   "outputs": [
    {
     "data": {
      "image/png": "[encoded data removed]",
      "text/plain": [
       "<Figure size 720x720 with 6 Axes>"
      ]
     },
     "metadata": {
      "needs_background": "light"
     },
     "output_type": "display_data"
    }
   ],
   "source": [
    "df.hist(figsize=(10, 10)) # распределения данных\n",
    "None"
   ]
  },
  {
   "cell_type": "markdown",
   "metadata": {},
   "source": [
    "Данные выглядят адекватно, выбросов не видно, оставим так."
   ]
  },
  {
   "cell_type": "code",
   "execution_count": 8,
   "metadata": {},
   "outputs": [],
   "source": [
    "# разобьем датафрейм на фичи и таргеты\n",
    "\n",
    "Y = df['Страховые выплаты']\n",
    "X = df.drop(['Страховые выплаты'], axis=1)"
   ]
  },
  {
   "cell_type": "markdown",
   "metadata": {},
   "source": [
    "**Вывод:** \n",
    "* пропусков нет; \n",
    "* дубликаты удалены;\n",
    "* аномальных значений подлежащих удалению тоже нет;\n",
    "* выделен целевой признак."
   ]
  },
  {
   "cell_type": "markdown",
   "metadata": {},
   "source": [
    "## Умножение матриц"
   ]
  },
  {
   "cell_type": "markdown",
   "metadata": {},
   "source": [
    "В этом задании вы можете записывать формулы в *Jupyter Notebook.*\n",
    "\n",
    "Чтобы записать формулу внутри текста, окружите её символами доллара \\\\$; если снаружи —  двойными символами \\\\$\\\\$. Эти формулы записываются на языке вёрстки *LaTeX.* \n",
    "\n",
    "Для примера мы записали формулы линейной регрессии. Можете их скопировать и отредактировать, чтобы решить задачу.\n",
    "\n",
    "Работать в *LaTeX* необязательно."
   ]
  },
  {
   "cell_type": "markdown",
   "metadata": {},
   "source": [
    "Обозначения:\n",
    "\n",
    "- $X$ — матрица признаков (нулевой столбец состоит из единиц)\n",
    "\n",
    "- $y$ — вектор целевого признака\n",
    "\n",
    "- $P$ — матрица, на которую умножаются признаки\n",
    "\n",
    "- $w$ — вектор весов линейной регрессии (нулевой элемент равен сдвигу)"
   ]
  },
  {
   "cell_type": "markdown",
   "metadata": {},
   "source": [
    "Предсказания:\n",
    "\n",
    "$$\n",
    "a = Xw\n",
    "$$\n",
    "\n",
    "Задача обучения:\n",
    "\n",
    "$$\n",
    "w = \\arg\\min_w MSE(Xw, y)\n",
    "$$\n",
    "\n",
    "Формула обучения:\n",
    "\n",
    "$$\n",
    "w = (X^T X)^{-1} X^T y\n",
    "$$"
   ]
  },
  {
   "cell_type": "markdown",
   "metadata": {},
   "source": [
    "**Вопрос:** Признаки умножают на обратимую матрицу. Изменится ли качество линейной регрессии? (Её можно обучить заново.)\n",
    " * a. Изменится. Приведите примеры матриц.\n",
    " * b. Не изменится. Укажите, как связаны параметры линейной регрессии в исходной задаче и в преобразованной."
   ]
  },
  {
   "cell_type": "markdown",
   "metadata": {},
   "source": [
    "**Ответ:** Не изменится.\n"
   ]
  },
  {
   "cell_type": "markdown",
   "metadata": {},
   "source": [
    "**Обоснование:**\n",
    "\n",
    "1. Предсказания вычисляются по формуле: $$\\hat{y_0} = Xw = X(X^T X)^{-1} X^T y$$\n",
    "\n",
    "\n",
    "2. Преобразуем признаки умножением на обратимую матрицу: $$X_1 = XA,$$ где $A$ - обратимая матрица\n",
    "\n",
    "\n",
    "3. Новые предсказания: $$\\hat{y_{1}} = X_1w = X_1(X_1^TX_1)^{-1} X_1^T y$$\n",
    " * Подставим XA(***отсюда переписал***): $$\\hat{y_{1}} = XA((XA)^TXA)^{-1}(XA)^T y$$\n",
    " * Используем свойства матриц:\n",
    "$$(AB)^T = B^TA^T$$$$(AB)^{-1} = B^{-1}A^{-1}$$\n",
    " * Тогда\n",
    "$$\\hat{y_{1}} = XA(A^TX^TXA)^{-1}A^TX^Ty$$\n",
    "$$\\hat{y_{1}} = XAA^{-1}(X^TX)^{-1}(A^T)^{-1}A^TX^Ty$$\n",
    "$$\\hat{y_{1}} = XE(X^TX)^{-1}EX^Ty$$\n",
    "-----------------------------------------------------\n",
    "$$\\hat{y_{1}} = X(X^TX)^{-1}X^Ty => \\hat{y_{1}} = \\hat{y_0}$$ что и требовалось доказать!\n",
    " \n"
   ]
  },
  {
   "cell_type": "markdown",
   "metadata": {},
   "source": [
    "Определим как связаны между собой параметры линейной регрессии   (**w**  и **w1**): \n",
    "$$w = (X^T X)^{-1} X^Ty$$\n",
    "Тогда:\n",
    "$$w_1 = (X_1^T X_1)^{-1} X_1^Ty$$\n",
    "подставим ХА:\n",
    "$$w_1 = ((XA)^T XA)^{-1} (XA)^Ty$$\n",
    "$$w_1 = (A^TX^TXA)^{-1}A^TX^Ty$$\n",
    "$$w_1 = A^{-1}(X^TX)^{-1}(A^T)^{-1}A^TX^Ty$$\n",
    "$$w_1 = A^{-1}(X^TX)^{-1}EX^Ty$$\n",
    "$$w_1 = A^{-1}(X^TX)^{-1}X^Ty$$\n",
    "$$w_1 = A^{-1}w$$\n",
    "\n",
    "Веса w1 и w связаны между собой равенством с поправкой на обратную матрицу А"
   ]
  },
  {
   "cell_type": "markdown",
   "metadata": {},
   "source": [
    "**Вывод:** Если признаки умножают на обратимую матрицу, то качество линейной регрессии **не изменится**."
   ]
  },
  {
   "cell_type": "markdown",
   "metadata": {},
   "source": [
    "## Алгоритм преобразования"
   ]
  },
  {
   "cell_type": "markdown",
   "metadata": {},
   "source": [
    "**Алгоритм**\n",
    "\n",
    "1. Генерируем случайную матрицу А.\n",
    "2. Вычисляем детерминант А.\n",
    "2. Умножаем матрицу признаков Х на матрицу А."
   ]
  },
  {
   "cell_type": "markdown",
   "metadata": {},
   "source": [
    "**Обоснование**\n",
    "\n",
    "Матрица признаков Х имеет размерность ***n x k***. Чтобы преобразованная матрица сохранила такую же размерность, матрица А должна иметь размерность ***k x k***. \n",
    "\n",
    "Также матрица должна быть обратима (см. предыдущий пункт). Для этого детерминант матрицы не должен быть нулевой."
   ]
  },
  {
   "cell_type": "markdown",
   "metadata": {},
   "source": [
    "## Проверка алгоритма"
   ]
  },
  {
   "cell_type": "code",
   "execution_count": 9,
   "metadata": {},
   "outputs": [
    {
     "data": {
      "text/plain": [
       "(4847, 4)"
      ]
     },
     "execution_count": 9,
     "metadata": {},
     "output_type": "execute_result"
    }
   ],
   "source": [
    "X.shape"
   ]
  },
  {
   "cell_type": "code",
   "execution_count": 10,
   "metadata": {},
   "outputs": [
    {
     "data": {
      "text/plain": [
       "array([[0.15416284, 0.7400497 , 0.26331502, 0.53373939],\n",
       "       [0.01457496, 0.91874701, 0.90071485, 0.03342143],\n",
       "       [0.95694934, 0.13720932, 0.28382835, 0.60608318],\n",
       "       [0.94422514, 0.85273554, 0.00225923, 0.52122603]])"
      ]
     },
     "execution_count": 10,
     "metadata": {},
     "output_type": "execute_result"
    }
   ],
   "source": [
    "# создаем случайную матрицу 4х4\n",
    "\n",
    "A = np.random.RandomState(12).rand(4, 4)\n",
    "A"
   ]
  },
  {
   "cell_type": "code",
   "execution_count": 11,
   "metadata": {},
   "outputs": [
    {
     "data": {
      "text/plain": [
       "-0.39902918474634386"
      ]
     },
     "execution_count": 11,
     "metadata": {},
     "output_type": "execute_result"
    }
   ],
   "source": [
    "# проверим на обратимость\n",
    "\n",
    "np.linalg.det(A) # считаем определитель"
   ]
  },
  {
   "cell_type": "markdown",
   "metadata": {},
   "source": [
    "Определитель не равен нулю, а значит матрица обратима."
   ]
  },
  {
   "cell_type": "code",
   "execution_count": 12,
   "metadata": {},
   "outputs": [
    {
     "data": {
      "text/html": [
       "<div>\n",
       "<style scoped>\n",
       "    .dataframe tbody tr th:only-of-type {\n",
       "        vertical-align: middle;\n",
       "    }\n",
       "\n",
       "    .dataframe tbody tr th {\n",
       "        vertical-align: top;\n",
       "    }\n",
       "\n",
       "    .dataframe thead th {\n",
       "        text-align: right;\n",
       "    }\n",
       "</style>\n",
       "<table border=\"1\" class=\"dataframe\">\n",
       "  <thead>\n",
       "    <tr style=\"text-align: right;\">\n",
       "      <th></th>\n",
       "      <th>Пол</th>\n",
       "      <th>Возраст</th>\n",
       "      <th>Зарплата</th>\n",
       "      <th>Члены семьи</th>\n",
       "    </tr>\n",
       "  </thead>\n",
       "  <tbody>\n",
       "    <tr>\n",
       "      <th>0</th>\n",
       "      <td>1</td>\n",
       "      <td>41.0</td>\n",
       "      <td>49600.0</td>\n",
       "      <td>1</td>\n",
       "    </tr>\n",
       "    <tr>\n",
       "      <th>1</th>\n",
       "      <td>0</td>\n",
       "      <td>46.0</td>\n",
       "      <td>38000.0</td>\n",
       "      <td>1</td>\n",
       "    </tr>\n",
       "    <tr>\n",
       "      <th>2</th>\n",
       "      <td>0</td>\n",
       "      <td>29.0</td>\n",
       "      <td>21000.0</td>\n",
       "      <td>0</td>\n",
       "    </tr>\n",
       "    <tr>\n",
       "      <th>3</th>\n",
       "      <td>0</td>\n",
       "      <td>21.0</td>\n",
       "      <td>41700.0</td>\n",
       "      <td>2</td>\n",
       "    </tr>\n",
       "    <tr>\n",
       "      <th>4</th>\n",
       "      <td>1</td>\n",
       "      <td>28.0</td>\n",
       "      <td>26100.0</td>\n",
       "      <td>0</td>\n",
       "    </tr>\n",
       "  </tbody>\n",
       "</table>\n",
       "</div>"
      ],
      "text/plain": [
       "   Пол  Возраст  Зарплата  Члены семьи\n",
       "0    1     41.0   49600.0            1\n",
       "1    0     46.0   38000.0            1\n",
       "2    0     29.0   21000.0            0\n",
       "3    0     21.0   41700.0            2\n",
       "4    1     28.0   26100.0            0"
      ]
     },
     "execution_count": 12,
     "metadata": {},
     "output_type": "execute_result"
    }
   ],
   "source": [
    "# Исходные признаки\n",
    "X.head()"
   ]
  },
  {
   "cell_type": "code",
   "execution_count": 13,
   "metadata": {},
   "outputs": [
    {
     "data": {
      "text/html": [
       "<div>\n",
       "<style scoped>\n",
       "    .dataframe tbody tr th:only-of-type {\n",
       "        vertical-align: middle;\n",
       "    }\n",
       "\n",
       "    .dataframe tbody tr th {\n",
       "        vertical-align: top;\n",
       "    }\n",
       "\n",
       "    .dataframe thead th {\n",
       "        text-align: right;\n",
       "    }\n",
       "</style>\n",
       "<table border=\"1\" class=\"dataframe\">\n",
       "  <thead>\n",
       "    <tr style=\"text-align: right;\">\n",
       "      <th></th>\n",
       "      <th>0</th>\n",
       "      <th>1</th>\n",
       "      <th>2</th>\n",
       "      <th>3</th>\n",
       "    </tr>\n",
       "  </thead>\n",
       "  <tbody>\n",
       "    <tr>\n",
       "      <th>0</th>\n",
       "      <td>47466.383041</td>\n",
       "      <td>6844.843752</td>\n",
       "      <td>14115.081190</td>\n",
       "      <td>30064.151188</td>\n",
       "    </tr>\n",
       "    <tr>\n",
       "      <th>1</th>\n",
       "      <td>36365.689452</td>\n",
       "      <td>5257.069309</td>\n",
       "      <td>10826.912555</td>\n",
       "      <td>23033.219617</td>\n",
       "    </tr>\n",
       "    <tr>\n",
       "      <th>2</th>\n",
       "      <td>20096.358736</td>\n",
       "      <td>2908.039412</td>\n",
       "      <td>5986.516143</td>\n",
       "      <td>12728.716093</td>\n",
       "    </tr>\n",
       "    <tr>\n",
       "      <th>3</th>\n",
       "      <td>39906.981847</td>\n",
       "      <td>5742.627859</td>\n",
       "      <td>11854.561849</td>\n",
       "      <td>25275.413090</td>\n",
       "    </tr>\n",
       "    <tr>\n",
       "      <th>4</th>\n",
       "      <td>24976.939939</td>\n",
       "      <td>3607.628253</td>\n",
       "      <td>7433.403343</td>\n",
       "      <td>15820.240651</td>\n",
       "    </tr>\n",
       "  </tbody>\n",
       "</table>\n",
       "</div>"
      ],
      "text/plain": [
       "              0            1             2             3\n",
       "0  47466.383041  6844.843752  14115.081190  30064.151188\n",
       "1  36365.689452  5257.069309  10826.912555  23033.219617\n",
       "2  20096.358736  2908.039412   5986.516143  12728.716093\n",
       "3  39906.981847  5742.627859  11854.561849  25275.413090\n",
       "4  24976.939939  3607.628253   7433.403343  15820.240651"
      ]
     },
     "execution_count": 13,
     "metadata": {},
     "output_type": "execute_result"
    }
   ],
   "source": [
    "# Преобразуем матрицу признаков\n",
    "\n",
    "X1 = X @ A\n",
    "X1.head() # преобразованные признаки"
   ]
  },
  {
   "cell_type": "code",
   "execution_count": 14,
   "metadata": {},
   "outputs": [
    {
     "name": "stdout",
     "output_type": "stream",
     "text": [
      "r2 метрика на исходных признаках 0.42969\n",
      "r2 метрика на преобразованных признаках 0.42969\n"
     ]
    }
   ],
   "source": [
    "model = LinearRegression()\n",
    "res = cross_val_score(model, X, Y, scoring='r2', cv=3)\n",
    "res1 = cross_val_score(model, X1, Y, scoring='r2', cv=3)\n",
    "\n",
    "print('r2 метрика на исходных признаках', res.mean().round(5))\n",
    "print('r2 метрика на преобразованных признаках', res1.mean().round(5))"
   ]
  },
  {
   "cell_type": "markdown",
   "metadata": {},
   "source": [
    "**Вывод:** Признаки были преобразованы с помощью алгоритма. Далее было проведено сравнение метрик линейной регрессии на исходных и преобразованных признаках. Метрики совпадают, а значит теория подтвердилась практикой, следовательно можно шифровать данные таким образом, и на модель это не повлияет."
   ]
  },
  {
   "cell_type": "markdown",
   "metadata": {},
   "source": [
    "## Вывод"
   ]
  },
  {
   "cell_type": "markdown",
   "metadata": {},
   "source": [
    "В данном исследовании была поставлена цель защитить персональные данные клиентов страховой компании таким образом, чтобы качество моделей машинного обучения при этом не ухудшилось.\n",
    "\n",
    "Были выполнены следующие задачи:\n",
    "\n",
    "1. Проанализированы исходные данные:\n",
    "* пропусков и дубликатов не обнаружено\n",
    "* аномальных значений для удаления нет\n",
    "* выделен целевой признак\n",
    "2. Теоретически доказано, что умножение матрицы признаков на обратимую матрицу не влияет на качество линейной регрессии.\n",
    "3. Разработан алгоритм преобразования данных с помощью умножения на случайную обратимую матрицу.\n",
    "4. Алгоритм протестирован на практике:\n",
    "* качество линейной регрессии на исходных и преобразованных данных совпало (r2 метрика 0.42969)\n",
    "\n",
    "\n",
    "Таким образом, в ходе исследования был предложен метод преобразования персональных данных, позволяющий сохранить качество моделей машинного обучения. Цель и задачи исследования можно считать выполненными."
   ]
  },
  {
   "cell_type": "markdown",
   "metadata": {},
   "source": [
    "## Чек-лист проверки"
   ]
  },
  {
   "cell_type": "markdown",
   "metadata": {},
   "source": [
    "Поставьте 'x' в выполненных пунктах. Далее нажмите Shift+Enter."
   ]
  },
  {
   "cell_type": "markdown",
   "metadata": {},
   "source": [
    "- [x]  Jupyter Notebook открыт\n",
    "- [x]  Весь код выполняется без ошибок\n",
    "- [x]  Ячейки с кодом расположены в порядке исполнения\n",
    "- [x]  Выполнен шаг 1: данные загружены\n",
    "- [x]  Выполнен шаг 2: получен ответ на вопрос об умножении матриц\n",
    "    - [x]  Указан правильный вариант ответа\n",
    "    - [x]  Вариант обоснован\n",
    "- [x]  Выполнен шаг 3: предложен алгоритм преобразования\n",
    "    - [x]  Алгоритм описан\n",
    "    - [x]  Алгоритм обоснован\n",
    "- [x]  Выполнен шаг 4: алгоритм проверен\n",
    "    - [x]  Алгоритм реализован\n",
    "    - [x]  Проведено сравнение качества моделей до и после преобразования"
   ]
  }
 ],
 "metadata": {
  "ExecuteTimeLog": [
   {
    "duration": 2024,
    "start_time": "2023-08-27T13:38:24.971Z"
   },
   {
    "duration": 68,
    "start_time": "2023-08-27T13:38:26.998Z"
   },
   {
    "duration": 16,
    "start_time": "2023-08-27T13:38:27.068Z"
   },
   {
    "duration": 15,
    "start_time": "2023-08-27T13:38:27.086Z"
   },
   {
    "duration": 15,
    "start_time": "2023-08-27T13:38:27.103Z"
   },
   {
    "duration": 7,
    "start_time": "2023-08-27T13:38:27.119Z"
   },
   {
    "duration": 1022,
    "start_time": "2023-08-27T13:38:27.128Z"
   },
   {
    "duration": 8,
    "start_time": "2023-08-27T13:38:28.152Z"
   },
   {
    "duration": 9,
    "start_time": "2023-08-27T13:38:28.162Z"
   },
   {
    "duration": 10,
    "start_time": "2023-08-27T13:38:28.173Z"
   },
   {
    "duration": 10,
    "start_time": "2023-08-27T13:38:28.184Z"
   },
   {
    "duration": 10,
    "start_time": "2023-08-27T13:38:28.196Z"
   },
   {
    "duration": 10,
    "start_time": "2023-08-27T13:38:28.208Z"
   },
   {
    "duration": 153,
    "start_time": "2023-08-27T13:38:28.220Z"
   },
   {
    "duration": 4,
    "start_time": "2023-08-27T13:46:24.592Z"
   },
   {
    "duration": 5,
    "start_time": "2023-08-27T13:46:36.830Z"
   },
   {
    "duration": 2024,
    "start_time": "2023-08-27T16:11:18.747Z"
   },
   {
    "duration": 131,
    "start_time": "2023-08-27T16:11:20.773Z"
   },
   {
    "duration": 16,
    "start_time": "2023-08-27T16:11:20.905Z"
   },
   {
    "duration": 11,
    "start_time": "2023-08-27T16:11:20.923Z"
   },
   {
    "duration": 17,
    "start_time": "2023-08-27T16:11:20.935Z"
   },
   {
    "duration": 12,
    "start_time": "2023-08-27T16:11:20.954Z"
   },
   {
    "duration": 870,
    "start_time": "2023-08-27T16:11:20.968Z"
   },
   {
    "duration": 3,
    "start_time": "2023-08-27T16:11:21.840Z"
   },
   {
    "duration": 5,
    "start_time": "2023-08-27T16:11:21.849Z"
   },
   {
    "duration": 11,
    "start_time": "2023-08-27T16:11:21.856Z"
   },
   {
    "duration": 6,
    "start_time": "2023-08-27T16:11:21.868Z"
   },
   {
    "duration": 9,
    "start_time": "2023-08-27T16:11:21.876Z"
   },
   {
    "duration": 18,
    "start_time": "2023-08-27T16:11:21.886Z"
   },
   {
    "duration": 171,
    "start_time": "2023-08-27T16:11:21.906Z"
   }
  ],
  "kernelspec": {
   "display_name": "Python 3 (ipykernel)",
   "language": "python",
   "name": "python3"
  },
  "language_info": {
   "codemirror_mode": {
    "name": "ipython",
    "version": 3
   },
   "file_extension": ".py",
   "mimetype": "text/x-python",
   "name": "python",
   "nbconvert_exporter": "python",
   "pygments_lexer": "ipython3",
   "version": "3.10.9"
  },
  "toc": {
   "base_numbering": 1,
   "nav_menu": {},
   "number_sections": true,
   "sideBar": true,
   "skip_h1_title": true,
   "title_cell": "Содержание",
   "title_sidebar": "Contents",
   "toc_cell": true,
   "toc_position": {},
   "toc_section_display": true,
   "toc_window_display": false
  }
 },
 "nbformat": 4,
 "nbformat_minor": 4
}
