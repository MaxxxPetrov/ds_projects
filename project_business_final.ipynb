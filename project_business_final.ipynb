{
 "cells": [
  {
   "cell_type": "markdown",
   "metadata": {},
   "source": [
    "# Выбор локации для скважины"
   ]
  },
  {
   "cell_type": "markdown",
   "metadata": {},
   "source": [
    "## Описание проекта"
   ]
  },
  {
   "cell_type": "markdown",
   "metadata": {},
   "source": [
    "### Краткое описание"
   ]
  },
  {
   "cell_type": "markdown",
   "metadata": {},
   "source": [
    "Допустим, вы работаете в добывающей компании «ГлавРосГосНефть». Нужно решить, где бурить новую скважину.\n",
    "\n",
    "Вам предоставлены пробы нефти в трёх регионах: в каждом 10 000 месторождений, где измерили качество нефти и объём её запасов. Постройте модель машинного обучения, которая поможет определить регион, где добыча принесёт наибольшую прибыль. Проанализируйте возможную прибыль и риски техникой *Bootstrap.*\n",
    "\n",
    "Шаги для выбора локации:\n",
    "\n",
    "- В избранном регионе ищут месторождения, для каждого определяют значения признаков;\n",
    "- Строят модель и оценивают объём запасов;\n",
    "- Выбирают месторождения с самым высокими оценками значений. Количество месторождений зависит от бюджета компании и стоимости разработки одной скважины;\n",
    "- Прибыль равна суммарной прибыли отобранных месторождений.\n",
    "\n",
    "***Цель проекта:*** Необходимо построить модель для определения оптимального региона для бурения новой скважины, которая принесет наибольшую прибыль."
   ]
  },
  {
   "cell_type": "markdown",
   "metadata": {},
   "source": [
    "### Описание данных"
   ]
  },
  {
   "cell_type": "markdown",
   "metadata": {},
   "source": [
    "Данные геологоразведки трёх регионов находятся в 3 файлах: \n",
    "* geo_data_0.csv. \n",
    "* geo_data_1.csv.\n",
    "* geo_data_2.csv.\n",
    "\n",
    "\n",
    "* `id` — уникальный идентификатор скважины;\n",
    "\n",
    "* `f0, f1, f2` — три признака точек (неважно, что они означают, но сами признаки значимы);\n",
    "\n",
    "* `product` — объём запасов в скважине (тыс. баррелей)."
   ]
  },
  {
   "cell_type": "markdown",
   "metadata": {},
   "source": [
    "### Условия задачи"
   ]
  },
  {
   "cell_type": "markdown",
   "metadata": {},
   "source": [
    "* Для обучения модели подходит только линейная регрессия (остальные — недостаточно предсказуемые).\n",
    "\n",
    "* При разведке региона исследуют 500 точек, из которых с помощью машинного обучения выбирают 200 лучших для разработки.\n",
    "\n",
    "* Бюджет на разработку скважин в регионе — 10 млрд рублей.\n",
    "\n",
    "* При нынешних ценах один баррель сырья приносит 450 рублей дохода. Доход с каждой единицы продукта составляет 450 тыс. рублей, поскольку объём указан в тысячах баррелей.\n",
    "* После оценки рисков нужно оставить лишь те регионы, в которых вероятность убытков меньше 2.5%. Среди них выбирают регион с наибольшей средней прибылью.\n",
    "\n",
    "\n",
    "Данные синтетические: детали контрактов и характеристики месторождений не разглашаются."
   ]
  },
  {
   "cell_type": "markdown",
   "metadata": {},
   "source": [
    "### План работы"
   ]
  },
  {
   "cell_type": "markdown",
   "metadata": {},
   "source": [
    "1. Загрузка и подготовка данных.\n",
    "2. Обучение и проверка моделей для каждого региона.\n",
    "3. Расчёт прибыли.\n",
    "4. Оценка рисков.\n",
    "5. Общий вывод."
   ]
  },
  {
   "cell_type": "markdown",
   "metadata": {},
   "source": [
    "## Загрузка и подготовка данных"
   ]
  },
  {
   "cell_type": "markdown",
   "metadata": {},
   "source": [
    "### Загрузка"
   ]
  },
  {
   "cell_type": "code",
   "execution_count": 1,
   "metadata": {},
   "outputs": [],
   "source": [
    "# Импорируем необходимые библиотеки\n",
    "\n",
    "import os\n",
    "import pandas as pd\n",
    "import numpy as np\n",
    "import matplotlib.pyplot as plt\n",
    "from sklearn.model_selection import train_test_split\n",
    "from sklearn.linear_model import LinearRegression\n",
    "from sklearn.metrics import mean_squared_error"
   ]
  },
  {
   "cell_type": "code",
   "execution_count": 2,
   "metadata": {},
   "outputs": [],
   "source": [
    "# Сохраняем данные в отдельные переменные g0, g1, g2\n",
    "\n",
    "for i in range(3):\n",
    "    \n",
    "    pth1 = f'C:\\\\Users\\\\mpeat\\\\Desktop\\\\Practicum_Data_Science\\\\2 Modul\\\\ML и бизнес\\\\project\\\\geo_data_{i}.csv'\n",
    "    pth2 = f'https://code.s3.yandex.net/datasets/geo_data_{i}.csv'\n",
    "\n",
    "    if os.path.exists(pth1):\n",
    "        globals()['g' + str(i)] = pd.read_csv(pth1)\n",
    "    else:\n",
    "        globals()['g' + str(i)] = pd.read_csv(pth2)"
   ]
  },
  {
   "cell_type": "markdown",
   "metadata": {},
   "source": [
    "### Предобработка"
   ]
  },
  {
   "cell_type": "code",
   "execution_count": 3,
   "metadata": {},
   "outputs": [
    {
     "data": {
      "text/html": [
       "<div>\n",
       "<style scoped>\n",
       "    .dataframe tbody tr th:only-of-type {\n",
       "        vertical-align: middle;\n",
       "    }\n",
       "\n",
       "    .dataframe tbody tr th {\n",
       "        vertical-align: top;\n",
       "    }\n",
       "\n",
       "    .dataframe thead th {\n",
       "        text-align: right;\n",
       "    }\n",
       "</style>\n",
       "<table border=\"1\" class=\"dataframe\">\n",
       "  <thead>\n",
       "    <tr style=\"text-align: right;\">\n",
       "      <th></th>\n",
       "      <th>id</th>\n",
       "      <th>f0</th>\n",
       "      <th>f1</th>\n",
       "      <th>f2</th>\n",
       "      <th>product</th>\n",
       "    </tr>\n",
       "  </thead>\n",
       "  <tbody>\n",
       "    <tr>\n",
       "      <th>66391</th>\n",
       "      <td>1QuVI</td>\n",
       "      <td>-0.813072</td>\n",
       "      <td>0.381340</td>\n",
       "      <td>5.215608</td>\n",
       "      <td>150.821081</td>\n",
       "    </tr>\n",
       "    <tr>\n",
       "      <th>9880</th>\n",
       "      <td>7UR7K</td>\n",
       "      <td>1.410660</td>\n",
       "      <td>-0.426631</td>\n",
       "      <td>0.701618</td>\n",
       "      <td>158.439456</td>\n",
       "    </tr>\n",
       "    <tr>\n",
       "      <th>94082</th>\n",
       "      <td>sfluR</td>\n",
       "      <td>1.793702</td>\n",
       "      <td>-0.165657</td>\n",
       "      <td>0.261689</td>\n",
       "      <td>150.457066</td>\n",
       "    </tr>\n",
       "  </tbody>\n",
       "</table>\n",
       "</div>"
      ],
      "text/plain": [
       "          id        f0        f1        f2     product\n",
       "66391  1QuVI -0.813072  0.381340  5.215608  150.821081\n",
       "9880   7UR7K  1.410660 -0.426631  0.701618  158.439456\n",
       "94082  sfluR  1.793702 -0.165657  0.261689  150.457066"
      ]
     },
     "execution_count": 3,
     "metadata": {},
     "output_type": "execute_result"
    }
   ],
   "source": [
    "g0.sample(3) # посмотрим структуру таблицы"
   ]
  },
  {
   "cell_type": "code",
   "execution_count": 4,
   "metadata": {},
   "outputs": [
    {
     "name": "stdout",
     "output_type": "stream",
     "text": [
      "<class 'pandas.core.frame.DataFrame'>\n",
      "RangeIndex: 100000 entries, 0 to 99999\n",
      "Data columns (total 5 columns):\n",
      " #   Column   Non-Null Count   Dtype  \n",
      "---  ------   --------------   -----  \n",
      " 0   id       100000 non-null  object \n",
      " 1   f0       100000 non-null  float64\n",
      " 2   f1       100000 non-null  float64\n",
      " 3   f2       100000 non-null  float64\n",
      " 4   product  100000 non-null  float64\n",
      "dtypes: float64(4), object(1)\n",
      "memory usage: 3.8+ MB\n",
      "\n",
      "Дубликатов 0\n",
      "Дубликатов по id 10\n",
      "\n",
      "<class 'pandas.core.frame.DataFrame'>\n",
      "RangeIndex: 100000 entries, 0 to 99999\n",
      "Data columns (total 5 columns):\n",
      " #   Column   Non-Null Count   Dtype  \n",
      "---  ------   --------------   -----  \n",
      " 0   id       100000 non-null  object \n",
      " 1   f0       100000 non-null  float64\n",
      " 2   f1       100000 non-null  float64\n",
      " 3   f2       100000 non-null  float64\n",
      " 4   product  100000 non-null  float64\n",
      "dtypes: float64(4), object(1)\n",
      "memory usage: 3.8+ MB\n",
      "\n",
      "Дубликатов 0\n",
      "Дубликатов по id 4\n",
      "\n",
      "<class 'pandas.core.frame.DataFrame'>\n",
      "RangeIndex: 100000 entries, 0 to 99999\n",
      "Data columns (total 5 columns):\n",
      " #   Column   Non-Null Count   Dtype  \n",
      "---  ------   --------------   -----  \n",
      " 0   id       100000 non-null  object \n",
      " 1   f0       100000 non-null  float64\n",
      " 2   f1       100000 non-null  float64\n",
      " 3   f2       100000 non-null  float64\n",
      " 4   product  100000 non-null  float64\n",
      "dtypes: float64(4), object(1)\n",
      "memory usage: 3.8+ MB\n",
      "\n",
      "Дубликатов 0\n",
      "Дубликатов по id 4\n",
      "\n"
     ]
    }
   ],
   "source": [
    "# Выведем информацию по переменным\n",
    "\n",
    "regs = [g0, g1, g2]\n",
    "\n",
    "for reg in regs:\n",
    "    reg.info()\n",
    "    print()\n",
    "    print('Дубликатов', reg.duplicated().sum())\n",
    "    print('Дубликатов по id', reg.id.duplicated().sum())  \n",
    "    print()"
   ]
  },
  {
   "cell_type": "markdown",
   "metadata": {},
   "source": [
    "Все датафреймы содержат по 100000 строк, пропусков нет, полных дубликатов тоже. Есть повторяющиеся `id`."
   ]
  },
  {
   "cell_type": "code",
   "execution_count": 5,
   "metadata": {},
   "outputs": [
    {
     "data": {
      "text/html": [
       "<div>\n",
       "<style scoped>\n",
       "    .dataframe tbody tr th:only-of-type {\n",
       "        vertical-align: middle;\n",
       "    }\n",
       "\n",
       "    .dataframe tbody tr th {\n",
       "        vertical-align: top;\n",
       "    }\n",
       "\n",
       "    .dataframe thead th {\n",
       "        text-align: right;\n",
       "    }\n",
       "</style>\n",
       "<table border=\"1\" class=\"dataframe\">\n",
       "  <thead>\n",
       "    <tr style=\"text-align: right;\">\n",
       "      <th></th>\n",
       "      <th>id</th>\n",
       "      <th>f0</th>\n",
       "      <th>f1</th>\n",
       "      <th>f2</th>\n",
       "      <th>product</th>\n",
       "    </tr>\n",
       "  </thead>\n",
       "  <tbody>\n",
       "    <tr>\n",
       "      <th>66136</th>\n",
       "      <td>74z30</td>\n",
       "      <td>1.084962</td>\n",
       "      <td>-0.312358</td>\n",
       "      <td>6.990771</td>\n",
       "      <td>127.643327</td>\n",
       "    </tr>\n",
       "    <tr>\n",
       "      <th>64022</th>\n",
       "      <td>74z30</td>\n",
       "      <td>0.741456</td>\n",
       "      <td>0.459229</td>\n",
       "      <td>5.153109</td>\n",
       "      <td>140.771492</td>\n",
       "    </tr>\n",
       "    <tr>\n",
       "      <th>51970</th>\n",
       "      <td>A5aEY</td>\n",
       "      <td>-0.180335</td>\n",
       "      <td>0.935548</td>\n",
       "      <td>-2.094773</td>\n",
       "      <td>33.020205</td>\n",
       "    </tr>\n",
       "    <tr>\n",
       "      <th>3389</th>\n",
       "      <td>A5aEY</td>\n",
       "      <td>-0.039949</td>\n",
       "      <td>0.156872</td>\n",
       "      <td>0.209861</td>\n",
       "      <td>89.249364</td>\n",
       "    </tr>\n",
       "    <tr>\n",
       "      <th>69163</th>\n",
       "      <td>AGS9W</td>\n",
       "      <td>-0.933795</td>\n",
       "      <td>0.116194</td>\n",
       "      <td>-3.655896</td>\n",
       "      <td>19.230453</td>\n",
       "    </tr>\n",
       "    <tr>\n",
       "      <th>42529</th>\n",
       "      <td>AGS9W</td>\n",
       "      <td>1.454747</td>\n",
       "      <td>-0.479651</td>\n",
       "      <td>0.683380</td>\n",
       "      <td>126.370504</td>\n",
       "    </tr>\n",
       "    <tr>\n",
       "      <th>931</th>\n",
       "      <td>HZww2</td>\n",
       "      <td>0.755284</td>\n",
       "      <td>0.368511</td>\n",
       "      <td>1.863211</td>\n",
       "      <td>30.681774</td>\n",
       "    </tr>\n",
       "    <tr>\n",
       "      <th>7530</th>\n",
       "      <td>HZww2</td>\n",
       "      <td>1.061194</td>\n",
       "      <td>-0.373969</td>\n",
       "      <td>10.430210</td>\n",
       "      <td>158.828695</td>\n",
       "    </tr>\n",
       "    <tr>\n",
       "      <th>63593</th>\n",
       "      <td>QcMuo</td>\n",
       "      <td>0.635635</td>\n",
       "      <td>-0.473422</td>\n",
       "      <td>0.862670</td>\n",
       "      <td>64.578675</td>\n",
       "    </tr>\n",
       "    <tr>\n",
       "      <th>1949</th>\n",
       "      <td>QcMuo</td>\n",
       "      <td>0.506563</td>\n",
       "      <td>-0.323775</td>\n",
       "      <td>-2.215583</td>\n",
       "      <td>75.496502</td>\n",
       "    </tr>\n",
       "    <tr>\n",
       "      <th>75715</th>\n",
       "      <td>Tdehs</td>\n",
       "      <td>0.112079</td>\n",
       "      <td>0.430296</td>\n",
       "      <td>3.218993</td>\n",
       "      <td>60.964018</td>\n",
       "    </tr>\n",
       "    <tr>\n",
       "      <th>21426</th>\n",
       "      <td>Tdehs</td>\n",
       "      <td>0.829407</td>\n",
       "      <td>0.298807</td>\n",
       "      <td>-0.049563</td>\n",
       "      <td>96.035308</td>\n",
       "    </tr>\n",
       "    <tr>\n",
       "      <th>92341</th>\n",
       "      <td>TtcGQ</td>\n",
       "      <td>0.110711</td>\n",
       "      <td>1.022689</td>\n",
       "      <td>0.911381</td>\n",
       "      <td>101.318008</td>\n",
       "    </tr>\n",
       "    <tr>\n",
       "      <th>60140</th>\n",
       "      <td>TtcGQ</td>\n",
       "      <td>0.569276</td>\n",
       "      <td>-0.104876</td>\n",
       "      <td>6.440215</td>\n",
       "      <td>85.350186</td>\n",
       "    </tr>\n",
       "    <tr>\n",
       "      <th>89582</th>\n",
       "      <td>bsk9y</td>\n",
       "      <td>0.398908</td>\n",
       "      <td>-0.400253</td>\n",
       "      <td>10.122376</td>\n",
       "      <td>163.433078</td>\n",
       "    </tr>\n",
       "    <tr>\n",
       "      <th>97785</th>\n",
       "      <td>bsk9y</td>\n",
       "      <td>0.378429</td>\n",
       "      <td>0.005837</td>\n",
       "      <td>0.160827</td>\n",
       "      <td>160.637302</td>\n",
       "    </tr>\n",
       "    <tr>\n",
       "      <th>41724</th>\n",
       "      <td>bxg6G</td>\n",
       "      <td>-0.823752</td>\n",
       "      <td>0.546319</td>\n",
       "      <td>3.630479</td>\n",
       "      <td>93.007798</td>\n",
       "    </tr>\n",
       "    <tr>\n",
       "      <th>1364</th>\n",
       "      <td>bxg6G</td>\n",
       "      <td>0.411645</td>\n",
       "      <td>0.856830</td>\n",
       "      <td>-3.653440</td>\n",
       "      <td>73.604260</td>\n",
       "    </tr>\n",
       "    <tr>\n",
       "      <th>16633</th>\n",
       "      <td>fiKDv</td>\n",
       "      <td>0.157341</td>\n",
       "      <td>1.028359</td>\n",
       "      <td>5.585586</td>\n",
       "      <td>95.817889</td>\n",
       "    </tr>\n",
       "    <tr>\n",
       "      <th>90815</th>\n",
       "      <td>fiKDv</td>\n",
       "      <td>0.049883</td>\n",
       "      <td>0.841313</td>\n",
       "      <td>6.394613</td>\n",
       "      <td>137.346586</td>\n",
       "    </tr>\n",
       "  </tbody>\n",
       "</table>\n",
       "</div>"
      ],
      "text/plain": [
       "          id        f0        f1         f2     product\n",
       "66136  74z30  1.084962 -0.312358   6.990771  127.643327\n",
       "64022  74z30  0.741456  0.459229   5.153109  140.771492\n",
       "51970  A5aEY -0.180335  0.935548  -2.094773   33.020205\n",
       "3389   A5aEY -0.039949  0.156872   0.209861   89.249364\n",
       "69163  AGS9W -0.933795  0.116194  -3.655896   19.230453\n",
       "42529  AGS9W  1.454747 -0.479651   0.683380  126.370504\n",
       "931    HZww2  0.755284  0.368511   1.863211   30.681774\n",
       "7530   HZww2  1.061194 -0.373969  10.430210  158.828695\n",
       "63593  QcMuo  0.635635 -0.473422   0.862670   64.578675\n",
       "1949   QcMuo  0.506563 -0.323775  -2.215583   75.496502\n",
       "75715  Tdehs  0.112079  0.430296   3.218993   60.964018\n",
       "21426  Tdehs  0.829407  0.298807  -0.049563   96.035308\n",
       "92341  TtcGQ  0.110711  1.022689   0.911381  101.318008\n",
       "60140  TtcGQ  0.569276 -0.104876   6.440215   85.350186\n",
       "89582  bsk9y  0.398908 -0.400253  10.122376  163.433078\n",
       "97785  bsk9y  0.378429  0.005837   0.160827  160.637302\n",
       "41724  bxg6G -0.823752  0.546319   3.630479   93.007798\n",
       "1364   bxg6G  0.411645  0.856830  -3.653440   73.604260\n",
       "16633  fiKDv  0.157341  1.028359   5.585586   95.817889\n",
       "90815  fiKDv  0.049883  0.841313   6.394613  137.346586"
      ]
     },
     "metadata": {},
     "output_type": "display_data"
    },
    {
     "data": {
      "text/html": [
       "<div>\n",
       "<style scoped>\n",
       "    .dataframe tbody tr th:only-of-type {\n",
       "        vertical-align: middle;\n",
       "    }\n",
       "\n",
       "    .dataframe tbody tr th {\n",
       "        vertical-align: top;\n",
       "    }\n",
       "\n",
       "    .dataframe thead th {\n",
       "        text-align: right;\n",
       "    }\n",
       "</style>\n",
       "<table border=\"1\" class=\"dataframe\">\n",
       "  <thead>\n",
       "    <tr style=\"text-align: right;\">\n",
       "      <th></th>\n",
       "      <th>id</th>\n",
       "      <th>f0</th>\n",
       "      <th>f1</th>\n",
       "      <th>f2</th>\n",
       "      <th>product</th>\n",
       "    </tr>\n",
       "  </thead>\n",
       "  <tbody>\n",
       "    <tr>\n",
       "      <th>5849</th>\n",
       "      <td>5ltQ6</td>\n",
       "      <td>-3.435401</td>\n",
       "      <td>-12.296043</td>\n",
       "      <td>1.999796</td>\n",
       "      <td>57.085625</td>\n",
       "    </tr>\n",
       "    <tr>\n",
       "      <th>84461</th>\n",
       "      <td>5ltQ6</td>\n",
       "      <td>18.213839</td>\n",
       "      <td>2.191999</td>\n",
       "      <td>3.993869</td>\n",
       "      <td>107.813044</td>\n",
       "    </tr>\n",
       "    <tr>\n",
       "      <th>1305</th>\n",
       "      <td>LHZR0</td>\n",
       "      <td>11.170835</td>\n",
       "      <td>-1.945066</td>\n",
       "      <td>3.002872</td>\n",
       "      <td>80.859783</td>\n",
       "    </tr>\n",
       "    <tr>\n",
       "      <th>41906</th>\n",
       "      <td>LHZR0</td>\n",
       "      <td>-8.989672</td>\n",
       "      <td>-4.286607</td>\n",
       "      <td>2.009139</td>\n",
       "      <td>57.085625</td>\n",
       "    </tr>\n",
       "    <tr>\n",
       "      <th>2721</th>\n",
       "      <td>bfPNe</td>\n",
       "      <td>-9.494442</td>\n",
       "      <td>-5.463692</td>\n",
       "      <td>4.006042</td>\n",
       "      <td>110.992147</td>\n",
       "    </tr>\n",
       "    <tr>\n",
       "      <th>82178</th>\n",
       "      <td>bfPNe</td>\n",
       "      <td>-6.202799</td>\n",
       "      <td>-4.820045</td>\n",
       "      <td>2.995107</td>\n",
       "      <td>84.038886</td>\n",
       "    </tr>\n",
       "    <tr>\n",
       "      <th>47591</th>\n",
       "      <td>wt4Uk</td>\n",
       "      <td>-9.091098</td>\n",
       "      <td>-8.109279</td>\n",
       "      <td>-0.002314</td>\n",
       "      <td>3.179103</td>\n",
       "    </tr>\n",
       "    <tr>\n",
       "      <th>82873</th>\n",
       "      <td>wt4Uk</td>\n",
       "      <td>10.259972</td>\n",
       "      <td>-9.376355</td>\n",
       "      <td>4.994297</td>\n",
       "      <td>134.766305</td>\n",
       "    </tr>\n",
       "  </tbody>\n",
       "</table>\n",
       "</div>"
      ],
      "text/plain": [
       "          id         f0         f1        f2     product\n",
       "5849   5ltQ6  -3.435401 -12.296043  1.999796   57.085625\n",
       "84461  5ltQ6  18.213839   2.191999  3.993869  107.813044\n",
       "1305   LHZR0  11.170835  -1.945066  3.002872   80.859783\n",
       "41906  LHZR0  -8.989672  -4.286607  2.009139   57.085625\n",
       "2721   bfPNe  -9.494442  -5.463692  4.006042  110.992147\n",
       "82178  bfPNe  -6.202799  -4.820045  2.995107   84.038886\n",
       "47591  wt4Uk  -9.091098  -8.109279 -0.002314    3.179103\n",
       "82873  wt4Uk  10.259972  -9.376355  4.994297  134.766305"
      ]
     },
     "metadata": {},
     "output_type": "display_data"
    },
    {
     "data": {
      "text/html": [
       "<div>\n",
       "<style scoped>\n",
       "    .dataframe tbody tr th:only-of-type {\n",
       "        vertical-align: middle;\n",
       "    }\n",
       "\n",
       "    .dataframe tbody tr th {\n",
       "        vertical-align: top;\n",
       "    }\n",
       "\n",
       "    .dataframe thead th {\n",
       "        text-align: right;\n",
       "    }\n",
       "</style>\n",
       "<table border=\"1\" class=\"dataframe\">\n",
       "  <thead>\n",
       "    <tr style=\"text-align: right;\">\n",
       "      <th></th>\n",
       "      <th>id</th>\n",
       "      <th>f0</th>\n",
       "      <th>f1</th>\n",
       "      <th>f2</th>\n",
       "      <th>product</th>\n",
       "    </tr>\n",
       "  </thead>\n",
       "  <tbody>\n",
       "    <tr>\n",
       "      <th>45404</th>\n",
       "      <td>KUPhW</td>\n",
       "      <td>0.231846</td>\n",
       "      <td>-1.698941</td>\n",
       "      <td>4.990775</td>\n",
       "      <td>11.716299</td>\n",
       "    </tr>\n",
       "    <tr>\n",
       "      <th>55967</th>\n",
       "      <td>KUPhW</td>\n",
       "      <td>1.211150</td>\n",
       "      <td>3.176408</td>\n",
       "      <td>5.543540</td>\n",
       "      <td>132.831802</td>\n",
       "    </tr>\n",
       "    <tr>\n",
       "      <th>11449</th>\n",
       "      <td>VF7Jo</td>\n",
       "      <td>2.122656</td>\n",
       "      <td>-0.858275</td>\n",
       "      <td>5.746001</td>\n",
       "      <td>181.716817</td>\n",
       "    </tr>\n",
       "    <tr>\n",
       "      <th>49564</th>\n",
       "      <td>VF7Jo</td>\n",
       "      <td>-0.883115</td>\n",
       "      <td>0.560537</td>\n",
       "      <td>0.723601</td>\n",
       "      <td>136.233420</td>\n",
       "    </tr>\n",
       "    <tr>\n",
       "      <th>44378</th>\n",
       "      <td>Vcm5J</td>\n",
       "      <td>-1.229484</td>\n",
       "      <td>-2.439204</td>\n",
       "      <td>1.222909</td>\n",
       "      <td>137.968290</td>\n",
       "    </tr>\n",
       "    <tr>\n",
       "      <th>95090</th>\n",
       "      <td>Vcm5J</td>\n",
       "      <td>2.587702</td>\n",
       "      <td>1.986875</td>\n",
       "      <td>2.482245</td>\n",
       "      <td>92.327572</td>\n",
       "    </tr>\n",
       "    <tr>\n",
       "      <th>28039</th>\n",
       "      <td>xCHr8</td>\n",
       "      <td>1.633027</td>\n",
       "      <td>0.368135</td>\n",
       "      <td>-2.378367</td>\n",
       "      <td>6.120525</td>\n",
       "    </tr>\n",
       "    <tr>\n",
       "      <th>43233</th>\n",
       "      <td>xCHr8</td>\n",
       "      <td>-0.847066</td>\n",
       "      <td>2.101796</td>\n",
       "      <td>5.597130</td>\n",
       "      <td>184.388641</td>\n",
       "    </tr>\n",
       "  </tbody>\n",
       "</table>\n",
       "</div>"
      ],
      "text/plain": [
       "          id        f0        f1        f2     product\n",
       "45404  KUPhW  0.231846 -1.698941  4.990775   11.716299\n",
       "55967  KUPhW  1.211150  3.176408  5.543540  132.831802\n",
       "11449  VF7Jo  2.122656 -0.858275  5.746001  181.716817\n",
       "49564  VF7Jo -0.883115  0.560537  0.723601  136.233420\n",
       "44378  Vcm5J -1.229484 -2.439204  1.222909  137.968290\n",
       "95090  Vcm5J  2.587702  1.986875  2.482245   92.327572\n",
       "28039  xCHr8  1.633027  0.368135 -2.378367    6.120525\n",
       "43233  xCHr8 -0.847066  2.101796  5.597130  184.388641"
      ]
     },
     "metadata": {},
     "output_type": "display_data"
    }
   ],
   "source": [
    "# Выведем дубликаты на экран\n",
    "\n",
    "for reg in regs:\n",
    "    display(reg[reg['id'].duplicated(False)].sort_values(by='id'))"
   ]
  },
  {
   "cell_type": "markdown",
   "metadata": {},
   "source": [
    "Несмотря на повторы в `id`, сами признаки `f1 f2 f3` не имеют ничего общего. Для обучения модели `id` не несет полезной нагрузки, поэтому можно не обращать внимания."
   ]
  },
  {
   "cell_type": "code",
   "execution_count": 6,
   "metadata": {},
   "outputs": [
    {
     "name": "stdout",
     "output_type": "stream",
     "text": [
      "region 0\n"
     ]
    },
    {
     "data": {
      "image/png": "[encoded data removed]",
      "text/plain": [
       "<Figure size 432x288 with 4 Axes>"
      ]
     },
     "metadata": {
      "needs_background": "light"
     },
     "output_type": "display_data"
    },
    {
     "name": "stdout",
     "output_type": "stream",
     "text": [
      "region 1\n"
     ]
    },
    {
     "data": {
      "image/png": "[encoded data removed]",
      "text/plain": [
       "<Figure size 432x288 with 4 Axes>"
      ]
     },
     "metadata": {
      "needs_background": "light"
     },
     "output_type": "display_data"
    },
    {
     "name": "stdout",
     "output_type": "stream",
     "text": [
      "region 2\n"
     ]
    },
    {
     "data": {
      "image/png": "[encoded data removed]",
      "text/plain": [
       "<Figure size 432x288 with 4 Axes>"
      ]
     },
     "metadata": {
      "needs_background": "light"
     },
     "output_type": "display_data"
    }
   ],
   "source": [
    "# Посмотрим на распределение данных\n",
    "\n",
    "for i, reg in enumerate(regs, start=0):\n",
    "    print('region', i)\n",
    "    reg.hist()\n",
    "    plt.show()"
   ]
  },
  {
   "cell_type": "markdown",
   "metadata": {},
   "source": [
    "Аномальных значений не обнаружено. Данные примерно одного порядка. Единственное, что отличается это распределение запасов в  1 регионе, оно отличается от нормального в отличие от региона 0 и 2."
   ]
  },
  {
   "cell_type": "code",
   "execution_count": 7,
   "metadata": {},
   "outputs": [
    {
     "data": {
      "image/png": "[encoded data removed]",
      "text/plain": [
       "<Figure size 432x288 with 1 Axes>"
      ]
     },
     "metadata": {
      "needs_background": "light"
     },
     "output_type": "display_data"
    }
   ],
   "source": [
    " # распределение запасов по регионам\n",
    "\n",
    "plt.hist(g0['product'], bins=50, label='регион 0', alpha=0.7)\n",
    "plt.hist(g1['product'], bins=50, label='регион 1', alpha=0.7)\n",
    "plt.hist(g2['product'], bins=50, label='регион 2', alpha=0.7)\n",
    "plt.legend()\n",
    "plt.xlabel('product')\n",
    "plt.ylabel('frequency')\n",
    "plt.title('Распределение запасов по регионам')\n",
    "plt.show()"
   ]
  },
  {
   "cell_type": "markdown",
   "metadata": {},
   "source": [
    "Как видим, картина распределения более отчетливо подтвердилась на графике выше. В регионе 1 она имеет более дискретный характер. Возможно этот факт скажется на результатах исследования."
   ]
  },
  {
   "cell_type": "markdown",
   "metadata": {},
   "source": [
    "### Подготовка признаков"
   ]
  },
  {
   "cell_type": "code",
   "execution_count": 8,
   "metadata": {},
   "outputs": [],
   "source": [
    "# Выделим целевые признаки и фичи в отдельные переменные и сохраним в 2 массива\n",
    "\n",
    "features = []\n",
    "target = []\n",
    "\n",
    "for reg in regs:\n",
    "    features.append(reg.drop(columns=['id', 'product']))\n",
    "    target.append(reg['product']) "
   ]
  },
  {
   "cell_type": "code",
   "execution_count": 9,
   "metadata": {},
   "outputs": [],
   "source": [
    "# Разобьем наши признаки на тренировочные и валидационные\n",
    "\n",
    "ft = []\n",
    "fv = []\n",
    "tt = []\n",
    "tv = []\n",
    "\n",
    "state = np.random.RandomState(12345)\n",
    "\n",
    "for feat, targ in zip(features, target):\n",
    "    features_train, features_valid, target_train, target_valid = train_test_split(feat, targ,\n",
    "                                                                                  test_size=0.25, random_state=state)\n",
    "    ft.append(features_train)\n",
    "    fv.append(features_valid)\n",
    "    tt.append(target_train)\n",
    "    tv.append(target_valid)"
   ]
  },
  {
   "cell_type": "code",
   "execution_count": 10,
   "metadata": {},
   "outputs": [
    {
     "name": "stdout",
     "output_type": "stream",
     "text": [
      "features_train:\n",
      "reg 0 shape: (75000, 3)\n",
      "reg 1 shape: (75000, 3)\n",
      "reg 2 shape: (75000, 3)\n",
      "\n",
      "features_valid:\n",
      "reg 0 shape: (25000, 3)\n",
      "reg 1 shape: (25000, 3)\n",
      "reg 2 shape: (25000, 3)\n",
      "\n",
      "target_train:\n",
      "reg 0 shape: (75000,)\n",
      "reg 1 shape: (75000,)\n",
      "reg 2 shape: (75000,)\n",
      "\n",
      "target_valid:\n",
      "reg 0 shape: (25000,)\n",
      "reg 1 shape: (25000,)\n",
      "reg 2 shape: (25000,)\n",
      "\n"
     ]
    }
   ],
   "source": [
    "# Проверим правильность разбиения на выборки\n",
    "\n",
    "for i, sets in enumerate([ft, fv, tt, tv], start=0):\n",
    "    print(['features_train:', 'features_valid:', 'target_train:', 'target_valid:'][i])\n",
    "    for j in range(3):\n",
    "        print (f'reg {j} shape:', sets[j].shape)\n",
    "    print()"
   ]
  },
  {
   "cell_type": "markdown",
   "metadata": {},
   "source": [
    "Разбиение на выборки произошло успешно."
   ]
  },
  {
   "cell_type": "markdown",
   "metadata": {},
   "source": [
    "**Вывод:** В ходе подготовки данных было сделано следующее:\n",
    "* Загрузка данных. Данные по каждому региону были загружены в отдельные переменные.\n",
    "* Предобработка даных. Проверено наличие пропусков, дубликатов, аномалий. Изменений на данном этапе не потребовалось.\n",
    "* Подготовка признаков. Были выделены целевые признаки и остальные фичи в разные списки. Далее признаки были поделены на тренировочные и валидационные. Произведена проверка корректности."
   ]
  },
  {
   "cell_type": "markdown",
   "metadata": {},
   "source": [
    "## Обучение и проверка модели"
   ]
  },
  {
   "cell_type": "markdown",
   "metadata": {},
   "source": [
    "По условию задачи для предсказаний будем использовать модель **линейной регрессии**, т.к. она более интерпретируема. Для этого напишем цикл, в котором каждую итерацию будет обучаться новая модель на новых тренировочных данных и потом делать предсказания, которые мы сохраним в отдельный массив с предсказаниями по каждому региону."
   ]
  },
  {
   "cell_type": "code",
   "execution_count": 11,
   "metadata": {},
   "outputs": [
    {
     "name": "stdout",
     "output_type": "stream",
     "text": [
      "Средний запас предсказанного сырья на скважину в регионе 0:    92.6 (тыс. баррелей)\n",
      "Среднеквадратичная ошибка RMSE:                                37.6 (тыс. баррелей)\n",
      "\n",
      "Средний запас предсказанного сырья на скважину в регионе 1:    68.8 (тыс. баррелей)\n",
      "Среднеквадратичная ошибка RMSE:                                0.9 (тыс. баррелей)\n",
      "\n",
      "Средний запас предсказанного сырья на скважину в регионе 2:    95.1 (тыс. баррелей)\n",
      "Среднеквадратичная ошибка RMSE:                                40.0 (тыс. баррелей)\n",
      "\n"
     ]
    }
   ],
   "source": [
    "pr = [] # сюда сохраняем предсказания\n",
    "\n",
    "for i in range(3):\n",
    "    # здесь создаем модель, обучаем, и предсказываем\n",
    "    model = LinearRegression()\n",
    "    model.fit(ft[i], tt[i])\n",
    "    preds = model.predict(fv[i])\n",
    "    \n",
    "    # здесь выводим результаты\n",
    "    rmse = mean_squared_error(tv[i], preds, squared=False) # считаем среднеквадратичную ошибку\n",
    "    print(f'Средний запас предсказанного сырья на скважину в регионе {i}:    {preds.mean():.1f} (тыс. баррелей)')\n",
    "    print(f'Среднеквадратичная ошибка RMSE:                                {rmse:.1f} (тыс. баррелей)')\n",
    "    print()\n",
    "    pr.append(preds)"
   ]
  },
  {
   "cell_type": "markdown",
   "metadata": {},
   "source": [
    "Регион 1 имеет минимальное среднее значение по предсказанным запасам, но ошибка тоже минимальна. Регионы 0 и 2 имеют примерно одинаковые показатели."
   ]
  },
  {
   "cell_type": "code",
   "execution_count": 12,
   "metadata": {},
   "outputs": [
    {
     "data": {
      "image/png": "[encoded data removed]",
      "text/plain": [
       "<Figure size 432x288 with 1 Axes>"
      ]
     },
     "metadata": {
      "needs_background": "light"
     },
     "output_type": "display_data"
    }
   ],
   "source": [
    "# Построим распределение предсказанных запасов по регионам\n",
    "\n",
    "plt.hist(pr[0], bins=100, label='region 0')\n",
    "plt.hist(pr[1], bins=100, label='region 1')\n",
    "plt.hist(pr[2], bins=100, label='region 2')\n",
    "plt.legend()\n",
    "plt.title('Распределение предсказанных запасов по регионам')\n",
    "plt.xlabel('product')\n",
    "plt.ylabel('freuency')\n",
    "None\n"
   ]
  },
  {
   "cell_type": "markdown",
   "metadata": {},
   "source": [
    "**Вывод:** наименьшая ошибка в регионе 1, т.к. распределение запасов сырья более дискретно, но средний объем запасов выше в регионах 0 и 2."
   ]
  },
  {
   "cell_type": "markdown",
   "metadata": {},
   "source": [
    "## Подготовка к расчёту прибыли"
   ]
  },
  {
   "cell_type": "code",
   "execution_count": 13,
   "metadata": {},
   "outputs": [],
   "source": [
    "# Добавим переменные для расчета показателей\n",
    "\n",
    "n_points = 500 # количество исследуемых точек\n",
    "n_wells = 200 # число скважин\n",
    "budget = 10**10 # бюджет на проект\n",
    "income_per_unit = 450000 # выручка за 1 тысячу баррелей нефти\n",
    "p_loss = 0.025 # допустимый уровень риска"
   ]
  },
  {
   "cell_type": "code",
   "execution_count": 14,
   "metadata": {},
   "outputs": [
    {
     "data": {
      "text/plain": [
       "111.11111111111111"
      ]
     },
     "execution_count": 14,
     "metadata": {},
     "output_type": "execute_result"
    }
   ],
   "source": [
    "# посчитаем точку безубыточности\n",
    "\n",
    "volume = budget / (n_wells * income_per_unit)\n",
    "volume"
   ]
  },
  {
   "cell_type": "code",
   "execution_count": 15,
   "metadata": {},
   "outputs": [],
   "source": [
    "# функция расчета прибыли\n",
    "\n",
    "def profit_calculate(wells):\n",
    "    sum_oil = wells.sum() # суммарный объем нефти\n",
    "    profit = (sum_oil * income_per_unit - budget).round() # прибыль\n",
    "    return profit"
   ]
  },
  {
   "cell_type": "markdown",
   "metadata": {},
   "source": [
    "**Вывод:** Минимальный средний объем нефти в скважине в выбранном регионе должен составять не менее 111 тыс. баррелей, чтобы затраты окупились. Данный показатель выше средних предсказанных значений по всем регионам, а значит для того, чтобы не уйти в убыток, нужна хорошая точность предсказаний."
   ]
  },
  {
   "cell_type": "markdown",
   "metadata": {},
   "source": [
    "## Расчёт прибыли и рисков "
   ]
  },
  {
   "cell_type": "markdown",
   "metadata": {},
   "source": [
    "Для расчета прибыли и рисков используем технику Bootstrap для 1000 выборок.\n",
    "\n",
    "\n",
    "Для каждого региона:\n",
    "\n",
    "1. Обучаем модель на тренировочной выборке\n",
    "1. Генерируем случайные данные для месторождений\n",
    "1. Предсказываем объемы запасов моделью\n",
    "1. Отбираем лучшие месторождения\n",
    "1. Рассчитываем потенциальную прибыль\n",
    "1. Повторяем 1000 раз методом Bootstrap."
   ]
  },
  {
   "cell_type": "code",
   "execution_count": 16,
   "metadata": {},
   "outputs": [],
   "source": [
    "profits = [[], [], []] # сюда заносим прибыль после каждой итерации\n",
    "\n",
    "# Обучаем модели\n",
    "for i in range(3):\n",
    "    model = LinearRegression()\n",
    "    model.fit(ft[i], tt[i])\n",
    "    \n",
    "    # Считаем прибыль по 1000 раз\n",
    "    for _ in range(1000):\n",
    "        # гененируем 500 месторождений\n",
    "        feature_samples = fv[i].sample(n_points, replace=True, random_state=state) # фичи\n",
    "        target_samples = tv[i][feature_samples.index] # таргеты\n",
    "        preds = model.predict(feature_samples) # предсказания\n",
    "        preds = pd.Series(preds, index=target_samples.index) # оборачиваем предсказания в Series\n",
    "        \n",
    "        # топ 200 предсказанных месторождений для бурения скважин\n",
    "        best_wells_preds = preds.sort_values(ascending=False)[:n_wells]\n",
    "        # реальные запасы данных месторождений\n",
    "        best_wells_target = target_samples[best_wells_preds.index][:n_wells]\n",
    "\n",
    "        profit = profit_calculate(best_wells_target) # прибыль\n",
    "        profits[i].append(profit)"
   ]
  },
  {
   "cell_type": "code",
   "execution_count": 17,
   "metadata": {},
   "outputs": [
    {
     "data": {
      "image/png": "[encoded data removed]",
      "text/plain": [
       "<Figure size 432x288 with 1 Axes>"
      ]
     },
     "metadata": {
      "needs_background": "light"
     },
     "output_type": "display_data"
    }
   ],
   "source": [
    "# Строим распределение прибыли по регионам\n",
    "\n",
    "for i in range(3):\n",
    "    plt.hist(profits[i], bins=50, label=f'region {i}', alpha=0.6)\n",
    "plt.plot([0, 0], [0, 70], label='break-even point')\n",
    "plt.legend()\n",
    "plt.title('Распределение потенциальной прибыли по регионам')\n",
    "plt.xlabel('Прибыль')\n",
    "plt.ylabel('Частота')\n",
    "plt.ylim(0, 70)\n",
    "None"
   ]
  },
  {
   "cell_type": "code",
   "execution_count": 18,
   "metadata": {},
   "outputs": [
    {
     "name": "stdout",
     "output_type": "stream",
     "text": [
      "Средняя прибыль региона 0 равна 423.9 млн рублей\n",
      "95-процентный доверительный интервал: [-76, 958]  млн руб\n",
      "Риск убытков составляет 4.80%\n",
      "\n",
      "\n",
      "Средняя прибыль региона 1 равна 513.3 млн рублей\n",
      "95-процентный доверительный интервал: [108, 929]  млн руб\n",
      "Риск убытков составляет 0.60%\n",
      "\n",
      "\n",
      "Средняя прибыль региона 2 равна 381.1 млн рублей\n",
      "95-процентный доверительный интервал: [-143, 893]  млн руб\n",
      "Риск убытков составляет 7.40%\n",
      "\n",
      "\n"
     ]
    }
   ],
   "source": [
    "# Оценим риски\n",
    "\n",
    "for i in range(3):\n",
    "    profit = pd.Series(profits[i]) \n",
    "    loss_count = profit[profit < 0].count()\n",
    "    loss_risk = loss_count / len(profit)\n",
    "    print(f'Средняя прибыль региона {i} равна {profit.mean()/10**6:.1f} млн рублей')\n",
    "    print(f'95-процентный доверительный интервал: [{profit.quantile(0.025)/10**6:.0f}, {profit.quantile(0.975)/10**6:.0f}]  млн руб')\n",
    "    print(f'Риск убытков составляет {loss_risk*100:.2f}%')\n",
    "    print()\n",
    "    print()"
   ]
  },
  {
   "cell_type": "markdown",
   "metadata": {},
   "source": [
    "**Вывод:** Наименьший риск и наибольшая ожидаемая прибыль в регионе 1."
   ]
  },
  {
   "cell_type": "markdown",
   "metadata": {},
   "source": [
    "## Общий вывод"
   ]
  },
  {
   "cell_type": "markdown",
   "metadata": {},
   "source": [
    "Цель проекта - выбрать оптимальный регион для бурения скважины, которая принесет наибольшую прибыль.\n",
    "\n",
    "* Подготовка данных:\n",
    "  - Данные по 3 регионам загружены и разделены на признаки и целевые переменные\n",
    "  - Данные разбиты на тренировочные и тестовые выборки\n",
    "  \n",
    "  \n",
    "* Обучение и проверка моделей:\n",
    "  - Для каждого региона обучена модель линейной регрессии\n",
    "  - Модели показали следующую точность:\n",
    "    - Регион 0: среднеквадратичная ошибка 37,6 тыс. баррелей\n",
    "    - Регион 1: среднеквадратичная ошибка 0,9 тыс. баррелей\n",
    "    - Регион 2: среднеквадратичная ошибка 40 тыс. баррелей\n",
    "  - Наименьшая ошибка в регионе 1\n",
    "  \n",
    "  \n",
    "* Расчет прибыли и рисков:\n",
    "  * Прибыль оценена методом Bootstrap (1000 итераций)\n",
    "  * Получены следующие результаты:\n",
    "    * Регион 0: средняя прибыль 423,9 млн рублей, риск убытка 4,8%\n",
    "    * Регион 1: средняя прибыль 513,3 млн рублей, риск убытка 0,6%\n",
    "    * Регион 2: средняя прибыль 381,1 млн рублей, риск убытка 7,4%\n",
    "  * Наименьший риск и наибольшая прибыль в регионе 1\n",
    "  * Риски в регионах 0 и 2 превышают максимально допустимые 2,5%\n",
    "  \n",
    "  \n",
    "  \n",
    "* **Вывод:**\n",
    "На основе анализа данных по трем регионам можно сделать вывод, что оптимальным и единственно допустимым для бурения новых скважин является регион 1. Это подтверждается:\n",
    "\n",
    " * Наименьшей ошибкой модели в этом регионе\n",
    " * Наибольшей средней ожидаемой прибылью\n",
    " * Наименьшим риском получения убытков"
   ]
  },
  {
   "cell_type": "markdown",
   "metadata": {},
   "source": [
    "## Чек-лист готовности проекта"
   ]
  },
  {
   "cell_type": "markdown",
   "metadata": {},
   "source": [
    "Поставьте 'x' в выполненных пунктах. Далее нажмите Shift+Enter."
   ]
  },
  {
   "cell_type": "markdown",
   "metadata": {},
   "source": [
    "- [x]  Jupyter Notebook открыт\n",
    "- [x]  Весь код выполняется без ошибок\n",
    "- [x]  Ячейки с кодом расположены в порядке исполнения\n",
    "- [x]  Выполнен шаг 1: данные подготовлены\n",
    "- [x]  Выполнен шаг 2: модели обучены и проверены\n",
    "    - [x]  Данные корректно разбиты на обучающую и валидационную выборки\n",
    "    - [x]  Модели обучены, предсказания сделаны\n",
    "    - [x]  Предсказания и правильные ответы на валидационной выборке сохранены\n",
    "    - [x]  На экране напечатаны результаты\n",
    "    - [x]  Сделаны выводы\n",
    "- [x]  Выполнен шаг 3: проведена подготовка к расчёту прибыли\n",
    "    - [x]  Для всех ключевых значений созданы константы Python\n",
    "    - [x]  Посчитано минимальное среднее количество продукта в месторождениях региона, достаточное для разработки\n",
    "    - [x]  По предыдущему пункту сделаны выводы\n",
    "    - [x]  Написана функция расчёта прибыли\n",
    "- [x]  Выполнен шаг 4: посчитаны риски и прибыль\n",
    "    - [x]  Проведена процедура *Bootstrap*\n",
    "    - [x]  Все параметры бутстрепа соответствуют условию\n",
    "    - [x]  Найдены все нужные величины\n",
    "    - [x]  Предложен регион для разработки месторождения\n",
    "    - [x]  Выбор региона обоснован"
   ]
  }
 ],
 "metadata": {
  "ExecuteTimeLog": [
   {
    "duration": 5871,
    "start_time": "2023-08-04T22:20:58.381Z"
   },
   {
    "duration": 1175,
    "start_time": "2023-08-04T22:21:04.254Z"
   },
   {
    "duration": 19,
    "start_time": "2023-08-04T22:21:05.431Z"
   },
   {
    "duration": 213,
    "start_time": "2023-08-04T22:21:05.452Z"
   },
   {
    "duration": 75,
    "start_time": "2023-08-04T22:21:05.668Z"
   },
   {
    "duration": 1132,
    "start_time": "2023-08-04T22:21:05.745Z"
   },
   {
    "duration": 409,
    "start_time": "2023-08-04T22:21:06.878Z"
   },
   {
    "duration": 11,
    "start_time": "2023-08-04T22:21:07.289Z"
   },
   {
    "duration": 54,
    "start_time": "2023-08-04T22:21:07.304Z"
   },
   {
    "duration": 8,
    "start_time": "2023-08-04T22:21:07.361Z"
   },
   {
    "duration": 340,
    "start_time": "2023-08-04T22:21:07.371Z"
   },
   {
    "duration": 891,
    "start_time": "2023-08-04T22:21:07.713Z"
   },
   {
    "duration": 5,
    "start_time": "2023-08-04T22:21:08.607Z"
   },
   {
    "duration": 7,
    "start_time": "2023-08-04T22:21:08.614Z"
   },
   {
    "duration": 5,
    "start_time": "2023-08-04T22:21:08.623Z"
   },
   {
    "duration": 7813,
    "start_time": "2023-08-04T22:21:08.629Z"
   },
   {
    "duration": 596,
    "start_time": "2023-08-04T22:21:16.444Z"
   },
   {
    "duration": 14,
    "start_time": "2023-08-04T22:21:17.042Z"
   }
  ],
  "kernelspec": {
   "display_name": "Python 3 (ipykernel)",
   "language": "python",
   "name": "python3"
  },
  "language_info": {
   "codemirror_mode": {
    "name": "ipython",
    "version": 3
   },
   "file_extension": ".py",
   "mimetype": "text/x-python",
   "name": "python",
   "nbconvert_exporter": "python",
   "pygments_lexer": "ipython3",
   "version": "3.10.9"
  },
  "toc": {
   "base_numbering": 1,
   "nav_menu": {},
   "number_sections": true,
   "sideBar": true,
   "skip_h1_title": true,
   "title_cell": "Table of Contents",
   "title_sidebar": "Contents",
   "toc_cell": false,
   "toc_position": {},
   "toc_section_display": true,
   "toc_window_display": false
  }
 },
 "nbformat": 4,
 "nbformat_minor": 2
}
