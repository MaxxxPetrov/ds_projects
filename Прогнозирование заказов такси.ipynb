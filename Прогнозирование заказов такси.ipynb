{
 "cells": [
  {
   "cell_type": "markdown",
   "metadata": {
    "toc": true
   },
   "source": [
    "<h1>Содержание<span class=\"tocSkip\"></span></h1>\n",
    "<div class=\"toc\"><ul class=\"toc-item\"><li><span><a href=\"#Подготовка\" data-toc-modified-id=\"Подготовка-1\"><span class=\"toc-item-num\">1&nbsp;&nbsp;</span>Подготовка</a></span></li><li><span><a href=\"#Анализ\" data-toc-modified-id=\"Анализ-2\"><span class=\"toc-item-num\">2&nbsp;&nbsp;</span>Анализ</a></span></li><li><span><a href=\"#Обучение\" data-toc-modified-id=\"Обучение-3\"><span class=\"toc-item-num\">3&nbsp;&nbsp;</span>Обучение</a></span></li><li><span><a href=\"#Тестирование\" data-toc-modified-id=\"Тестирование-4\"><span class=\"toc-item-num\">4&nbsp;&nbsp;</span>Тестирование</a></span><ul class=\"toc-item\"><li><span><a href=\"#Проверка-на-адекватность\" data-toc-modified-id=\"Проверка-на-адекватность-4.1\"><span class=\"toc-item-num\">4.1&nbsp;&nbsp;</span>Проверка на адекватность</a></span></li></ul></li><li><span><a href=\"#Вывод\" data-toc-modified-id=\"Вывод-5\"><span class=\"toc-item-num\">5&nbsp;&nbsp;</span>Вывод</a></span></li><li><span><a href=\"#Чек-лист-проверки\" data-toc-modified-id=\"Чек-лист-проверки-6\"><span class=\"toc-item-num\">6&nbsp;&nbsp;</span>Чек-лист проверки</a></span></li></ul></div>"
   ]
  },
  {
   "cell_type": "markdown",
   "metadata": {},
   "source": [
    "#  Прогнозирование заказов такси"
   ]
  },
  {
   "cell_type": "markdown",
   "metadata": {},
   "source": [
    "**Описание проекта:**\n",
    "\n",
    "Компания «Чётенькое такси» собрала исторические данные о заказах такси в аэропортах. Чтобы привлекать больше водителей в период пиковой нагрузки, нужно спрогнозировать количество заказов такси на следующий час. Постройте модель для такого предсказания.\n",
    "\n",
    "Значение метрики *RMSE* на тестовой выборке должно быть не больше 48.\n"
   ]
  },
  {
   "cell_type": "markdown",
   "metadata": {},
   "source": [
    "**Описание данных:**\n",
    "\n",
    "Данные лежат в файле `taxi.csv`. Количество заказов находится в столбце `num_orders` (от англ. *number of orders*, «число заказов»)."
   ]
  },
  {
   "cell_type": "markdown",
   "metadata": {},
   "source": [
    "**План работы**\n",
    "\n",
    "Вам нужно:\n",
    "\n",
    "1. Загрузить данные и выполнить их ресемплирование по одному часу.\n",
    "2. Проанализировать данные.\n",
    "3. Обучить разные модели с различными гиперпараметрами. Сделать тестовую выборку размером 10% от исходных данных.\n",
    "4. Проверить данные на тестовой выборке и сделать выводы."
   ]
  },
  {
   "cell_type": "markdown",
   "metadata": {},
   "source": [
    "## Подготовка"
   ]
  },
  {
   "cell_type": "markdown",
   "metadata": {},
   "source": [
    "Установим недостающие библиотеки"
   ]
  },
  {
   "cell_type": "code",
   "execution_count": 2,
   "metadata": {},
   "outputs": [
    {
     "name": "stdout",
     "output_type": "stream",
     "text": [
      "Requirement already satisfied: LightGBM in /opt/conda/lib/python3.9/site-packages (3.3.1)\n",
      "Requirement already satisfied: scikit-learn!=0.22.0 in /opt/conda/lib/python3.9/site-packages (from LightGBM) (0.24.1)\n",
      "Requirement already satisfied: numpy in /opt/conda/lib/python3.9/site-packages (from LightGBM) (1.21.1)\n",
      "Requirement already satisfied: scipy in /opt/conda/lib/python3.9/site-packages (from LightGBM) (1.9.1)\n",
      "Requirement already satisfied: wheel in /opt/conda/lib/python3.9/site-packages (from LightGBM) (0.36.2)\n",
      "Requirement already satisfied: joblib>=0.11 in /opt/conda/lib/python3.9/site-packages (from scikit-learn!=0.22.0->LightGBM) (1.1.0)\n",
      "Requirement already satisfied: threadpoolctl>=2.0.0 in /opt/conda/lib/python3.9/site-packages (from scikit-learn!=0.22.0->LightGBM) (3.1.0)\n",
      "Note: you may need to restart the kernel to use updated packages.\n"
     ]
    }
   ],
   "source": [
    "pip install LightGBM"
   ]
  },
  {
   "cell_type": "code",
   "execution_count": 3,
   "metadata": {},
   "outputs": [
    {
     "name": "stdout",
     "output_type": "stream",
     "text": [
      "Requirement already satisfied: CatBoost in /opt/conda/lib/python3.9/site-packages (1.0.3)\n",
      "Requirement already satisfied: six in /opt/conda/lib/python3.9/site-packages (from CatBoost) (1.16.0)\n",
      "Requirement already satisfied: numpy>=1.16.0 in /opt/conda/lib/python3.9/site-packages (from CatBoost) (1.21.1)\n",
      "Requirement already satisfied: scipy in /opt/conda/lib/python3.9/site-packages (from CatBoost) (1.9.1)\n",
      "Requirement already satisfied: matplotlib in /opt/conda/lib/python3.9/site-packages (from CatBoost) (3.3.4)\n",
      "Requirement already satisfied: plotly in /opt/conda/lib/python3.9/site-packages (from CatBoost) (5.4.0)\n",
      "Requirement already satisfied: graphviz in /opt/conda/lib/python3.9/site-packages (from CatBoost) (0.20.1)\n",
      "Requirement already satisfied: pandas>=0.24.0 in /opt/conda/lib/python3.9/site-packages (from CatBoost) (1.2.4)\n",
      "Requirement already satisfied: python-dateutil>=2.7.3 in /opt/conda/lib/python3.9/site-packages (from pandas>=0.24.0->CatBoost) (2.8.1)\n",
      "Requirement already satisfied: pytz>=2017.3 in /opt/conda/lib/python3.9/site-packages (from pandas>=0.24.0->CatBoost) (2021.1)\n",
      "Requirement already satisfied: pyparsing!=2.0.4,!=2.1.2,!=2.1.6,>=2.0.3 in /opt/conda/lib/python3.9/site-packages (from matplotlib->CatBoost) (2.4.7)\n",
      "Requirement already satisfied: pillow>=6.2.0 in /opt/conda/lib/python3.9/site-packages (from matplotlib->CatBoost) (8.4.0)\n",
      "Requirement already satisfied: kiwisolver>=1.0.1 in /opt/conda/lib/python3.9/site-packages (from matplotlib->CatBoost) (1.4.4)\n",
      "Requirement already satisfied: cycler>=0.10 in /opt/conda/lib/python3.9/site-packages (from matplotlib->CatBoost) (0.11.0)\n",
      "Requirement already satisfied: tenacity>=6.2.0 in /opt/conda/lib/python3.9/site-packages (from plotly->CatBoost) (8.0.1)\n",
      "Note: you may need to restart the kernel to use updated packages.\n"
     ]
    }
   ],
   "source": [
    "pip install CatBoost"
   ]
  },
  {
   "cell_type": "code",
   "execution_count": 4,
   "metadata": {},
   "outputs": [
    {
     "name": "stdout",
     "output_type": "stream",
     "text": [
      "Collecting hyperopt\n",
      "  Downloading hyperopt-0.2.7-py2.py3-none-any.whl (1.6 MB)\n",
      "\u001b[K     |████████████████████████████████| 1.6 MB 2.0 MB/s eta 0:00:01\n",
      "\u001b[?25hCollecting networkx>=2.2\n",
      "  Downloading networkx-3.1-py3-none-any.whl (2.1 MB)\n",
      "\u001b[K     |████████████████████████████████| 2.1 MB 74.8 MB/s eta 0:00:01\n",
      "\u001b[?25hRequirement already satisfied: tqdm in /opt/conda/lib/python3.9/site-packages (from hyperopt) (4.61.2)\n",
      "Collecting cloudpickle\n",
      "  Downloading cloudpickle-2.2.1-py3-none-any.whl (25 kB)\n",
      "Requirement already satisfied: six in /opt/conda/lib/python3.9/site-packages (from hyperopt) (1.16.0)\n",
      "Requirement already satisfied: py4j in /opt/conda/lib/python3.9/site-packages (from hyperopt) (0.10.9.3)\n",
      "Requirement already satisfied: numpy in /opt/conda/lib/python3.9/site-packages (from hyperopt) (1.21.1)\n",
      "Collecting future\n",
      "  Downloading future-0.18.3.tar.gz (840 kB)\n",
      "\u001b[K     |████████████████████████████████| 840 kB 60.3 MB/s eta 0:00:01\n",
      "\u001b[?25hRequirement already satisfied: scipy in /opt/conda/lib/python3.9/site-packages (from hyperopt) (1.9.1)\n",
      "Building wheels for collected packages: future\n",
      "  Building wheel for future (setup.py) ... \u001b[?25ldone\n",
      "\u001b[?25h  Created wheel for future: filename=future-0.18.3-py3-none-any.whl size=492026 sha256=d359cc3576aeb4bb0e43b673f0a3cd6749e061267610b35d3e5b5efcf8d6ada0\n",
      "  Stored in directory: /home/jovyan/.cache/pip/wheels/bf/5d/6a/2e53874f7ec4e2bede522385439531fafec8fafe005b5c3d1b\n",
      "Successfully built future\n",
      "Installing collected packages: networkx, future, cloudpickle, hyperopt\n",
      "Successfully installed cloudpickle-2.2.1 future-0.18.3 hyperopt-0.2.7 networkx-3.1\n",
      "Note: you may need to restart the kernel to use updated packages.\n"
     ]
    }
   ],
   "source": [
    "pip install hyperopt"
   ]
  },
  {
   "cell_type": "code",
   "execution_count": 5,
   "metadata": {},
   "outputs": [],
   "source": [
    "# импортируем необходимые библиотеки\n",
    "\n",
    "import pandas as pd\n",
    "import numpy as np\n",
    "import matplotlib.pyplot as plt\n",
    "from sklearn.model_selection import train_test_split\n",
    "from statsmodels.tsa.seasonal import seasonal_decompose\n",
    "from sklearn.model_selection import TimeSeriesSplit\n",
    "from sklearn.metrics import mean_squared_error\n",
    "from scipy.optimize import curve_fit \n",
    "from sklearn.linear_model import LinearRegression\n",
    "from sklearn.tree import DecisionTreeRegressor\n",
    "from sklearn.ensemble import RandomForestRegressor\n",
    "from catboost import CatBoostRegressor\n",
    "from hyperopt import hp, fmin, tpe, Trials\n",
    "import warnings\n",
    "warnings.filterwarnings('ignore')"
   ]
  },
  {
   "cell_type": "code",
   "execution_count": 6,
   "metadata": {},
   "outputs": [],
   "source": [
    "# сохраним датасет в переменной taxi\n",
    "try:\n",
    "    taxi = pd.read_csv('/datasets/taxi.csv', parse_dates=[0], index_col=[0])\n",
    "\n",
    "except:\n",
    "    taxi = pd.read_csv('https://code.s3.yandex.net/datasets/taxi.csv', parse_dates=[0], index_col=[0])"
   ]
  },
  {
   "cell_type": "code",
   "execution_count": 7,
   "metadata": {},
   "outputs": [
    {
     "data": {
      "text/html": [
       "<div>\n",
       "<style scoped>\n",
       "    .dataframe tbody tr th:only-of-type {\n",
       "        vertical-align: middle;\n",
       "    }\n",
       "\n",
       "    .dataframe tbody tr th {\n",
       "        vertical-align: top;\n",
       "    }\n",
       "\n",
       "    .dataframe thead th {\n",
       "        text-align: right;\n",
       "    }\n",
       "</style>\n",
       "<table border=\"1\" class=\"dataframe\">\n",
       "  <thead>\n",
       "    <tr style=\"text-align: right;\">\n",
       "      <th></th>\n",
       "      <th>num_orders</th>\n",
       "    </tr>\n",
       "    <tr>\n",
       "      <th>datetime</th>\n",
       "      <th></th>\n",
       "    </tr>\n",
       "  </thead>\n",
       "  <tbody>\n",
       "    <tr>\n",
       "      <th>2018-03-01 00:00:00</th>\n",
       "      <td>9</td>\n",
       "    </tr>\n",
       "    <tr>\n",
       "      <th>2018-03-01 00:10:00</th>\n",
       "      <td>14</td>\n",
       "    </tr>\n",
       "    <tr>\n",
       "      <th>2018-03-01 00:20:00</th>\n",
       "      <td>28</td>\n",
       "    </tr>\n",
       "    <tr>\n",
       "      <th>2018-03-01 00:30:00</th>\n",
       "      <td>20</td>\n",
       "    </tr>\n",
       "    <tr>\n",
       "      <th>2018-03-01 00:40:00</th>\n",
       "      <td>32</td>\n",
       "    </tr>\n",
       "  </tbody>\n",
       "</table>\n",
       "</div>"
      ],
      "text/plain": [
       "                     num_orders\n",
       "datetime                       \n",
       "2018-03-01 00:00:00           9\n",
       "2018-03-01 00:10:00          14\n",
       "2018-03-01 00:20:00          28\n",
       "2018-03-01 00:30:00          20\n",
       "2018-03-01 00:40:00          32"
      ]
     },
     "execution_count": 7,
     "metadata": {},
     "output_type": "execute_result"
    }
   ],
   "source": [
    "taxi.head()"
   ]
  },
  {
   "cell_type": "code",
   "execution_count": 8,
   "metadata": {},
   "outputs": [
    {
     "name": "stdout",
     "output_type": "stream",
     "text": [
      "<class 'pandas.core.frame.DataFrame'>\n",
      "DatetimeIndex: 26496 entries, 2018-03-01 00:00:00 to 2018-08-31 23:50:00\n",
      "Data columns (total 1 columns):\n",
      " #   Column      Non-Null Count  Dtype\n",
      "---  ------      --------------  -----\n",
      " 0   num_orders  26496 non-null  int64\n",
      "dtypes: int64(1)\n",
      "memory usage: 414.0 KB\n"
     ]
    }
   ],
   "source": [
    "taxi.info()"
   ]
  },
  {
   "cell_type": "code",
   "execution_count": 9,
   "metadata": {},
   "outputs": [],
   "source": [
    "# ресемплируем данные по 1 часу\n",
    "\n",
    "taxi = taxi.resample('1H').sum()"
   ]
  },
  {
   "cell_type": "code",
   "execution_count": 10,
   "metadata": {},
   "outputs": [
    {
     "data": {
      "image/png": "[encoded data removed]",
      "text/plain": [
       "<Figure size 432x288 with 1 Axes>"
      ]
     },
     "metadata": {
      "needs_background": "light"
     },
     "output_type": "display_data"
    }
   ],
   "source": [
    "taxi.hist() # посмотрим распределение заказов\n",
    "None"
   ]
  },
  {
   "cell_type": "markdown",
   "metadata": {},
   "source": [
    "Выбросов явных нет, пропусков нет, все хорошо с данными. Можно приступать к анализу."
   ]
  },
  {
   "cell_type": "markdown",
   "metadata": {},
   "source": [
    "## Анализ"
   ]
  },
  {
   "cell_type": "code",
   "execution_count": 11,
   "metadata": {},
   "outputs": [
    {
     "data": {
      "image/png": "[encoded data removed]",
      "text/plain": [
       "<Figure size 432x288 with 1 Axes>"
      ]
     },
     "metadata": {
      "needs_background": "light"
     },
     "output_type": "display_data"
    }
   ],
   "source": [
    "taxi.plot() # нарисуем график заказов\n",
    "None"
   ]
  },
  {
   "cell_type": "markdown",
   "metadata": {},
   "source": [
    "Ниче не понятно"
   ]
  },
  {
   "cell_type": "code",
   "execution_count": 12,
   "metadata": {},
   "outputs": [
    {
     "data": {
      "image/png": "[encoded data removed]",
      "text/plain": [
       "<Figure size 720x360 with 1 Axes>"
      ]
     },
     "metadata": {
      "needs_background": "light"
     },
     "output_type": "display_data"
    }
   ],
   "source": [
    "# разложим временной ряд на компоненты\n",
    "dec = seasonal_decompose(taxi)\n",
    "\n",
    "# рисуем график\n",
    "plt.figure(figsize=(10, 5))\n",
    "dec.seasonal.plot()\n",
    "dec.resid.plot()\n",
    "dec.trend.plot()\n",
    "plt.title('Тренд, сеззонность, остаток')\n",
    "plt.legend()\n",
    "None"
   ]
  },
  {
   "cell_type": "markdown",
   "metadata": {},
   "source": [
    "Тренд плавно идет вверх, шум постепенно увеличивается, сезонность непонятно."
   ]
  },
  {
   "cell_type": "code",
   "execution_count": 13,
   "metadata": {},
   "outputs": [
    {
     "data": {
      "image/png": "[encoded data removed]",
      "text/plain": [
       "<Figure size 720x360 with 1 Axes>"
      ]
     },
     "metadata": {
      "needs_background": "light"
     },
     "output_type": "display_data"
    }
   ],
   "source": [
    "# Нарисуем график сеззоности за 48 часов\n",
    "\n",
    "plt.figure(figsize=(10, 5))\n",
    "dec.seasonal.head(49).plot()\n",
    "plt.title('Сезонность за 48 часов')\n",
    "None"
   ]
  },
  {
   "cell_type": "markdown",
   "metadata": {},
   "source": [
    "Сезонность прослеживается ежедневная. В 6 утра уровень заказов минимальный, в полночь максимальный."
   ]
  },
  {
   "cell_type": "markdown",
   "metadata": {},
   "source": [
    "**Выводы:**\n",
    "* количество заказов растет(тренд);\n",
    "* сезонность ежедневная;\n",
    "* разброс увеличивается."
   ]
  },
  {
   "cell_type": "markdown",
   "metadata": {},
   "source": [
    "## Обучение"
   ]
  },
  {
   "cell_type": "code",
   "execution_count": 14,
   "metadata": {},
   "outputs": [],
   "source": [
    "# функция создания признаков\n",
    "\n",
    "def make_features(df, max_lag, rolling_mean_size):\n",
    "    \n",
    "    # календарные фичи\n",
    "    df['hour'] = df.index.hour\n",
    "    df['day'] = df.index.day\n",
    "    df['month'] = df.index.month\n",
    "    \n",
    "    # отстающие значения\n",
    "    for i in range(1, max_lag+1):\n",
    "        df[f'lag_{i}'] = df['num_orders'].shift(i)\n",
    "        \n",
    "    # rolling_mean\n",
    "    df['rolling_mean'] = df['num_orders'].shift(1).rolling(rolling_mean_size).mean()\n",
    "        \n",
    "    return df"
   ]
  },
  {
   "cell_type": "markdown",
   "metadata": {},
   "source": [
    "Эмпирическим путем было выявлено что лучшие значения RMSE получаются при значении rolling_mean_size около 7 и max_lag = 24 и более(при больших значениях качество увеличивается но незначительно)."
   ]
  },
  {
   "cell_type": "code",
   "execution_count": 15,
   "metadata": {},
   "outputs": [
    {
     "data": {
      "text/html": [
       "<div>\n",
       "<style scoped>\n",
       "    .dataframe tbody tr th:only-of-type {\n",
       "        vertical-align: middle;\n",
       "    }\n",
       "\n",
       "    .dataframe tbody tr th {\n",
       "        vertical-align: top;\n",
       "    }\n",
       "\n",
       "    .dataframe thead th {\n",
       "        text-align: right;\n",
       "    }\n",
       "</style>\n",
       "<table border=\"1\" class=\"dataframe\">\n",
       "  <thead>\n",
       "    <tr style=\"text-align: right;\">\n",
       "      <th></th>\n",
       "      <th>num_orders</th>\n",
       "      <th>hour</th>\n",
       "      <th>day</th>\n",
       "      <th>month</th>\n",
       "      <th>lag_1</th>\n",
       "      <th>lag_2</th>\n",
       "      <th>lag_3</th>\n",
       "      <th>lag_4</th>\n",
       "      <th>lag_5</th>\n",
       "      <th>lag_6</th>\n",
       "      <th>...</th>\n",
       "      <th>lag_16</th>\n",
       "      <th>lag_17</th>\n",
       "      <th>lag_18</th>\n",
       "      <th>lag_19</th>\n",
       "      <th>lag_20</th>\n",
       "      <th>lag_21</th>\n",
       "      <th>lag_22</th>\n",
       "      <th>lag_23</th>\n",
       "      <th>lag_24</th>\n",
       "      <th>rolling_mean</th>\n",
       "    </tr>\n",
       "    <tr>\n",
       "      <th>datetime</th>\n",
       "      <th></th>\n",
       "      <th></th>\n",
       "      <th></th>\n",
       "      <th></th>\n",
       "      <th></th>\n",
       "      <th></th>\n",
       "      <th></th>\n",
       "      <th></th>\n",
       "      <th></th>\n",
       "      <th></th>\n",
       "      <th></th>\n",
       "      <th></th>\n",
       "      <th></th>\n",
       "      <th></th>\n",
       "      <th></th>\n",
       "      <th></th>\n",
       "      <th></th>\n",
       "      <th></th>\n",
       "      <th></th>\n",
       "      <th></th>\n",
       "      <th></th>\n",
       "    </tr>\n",
       "  </thead>\n",
       "  <tbody>\n",
       "    <tr>\n",
       "      <th>2018-03-02 00:00:00</th>\n",
       "      <td>90</td>\n",
       "      <td>0</td>\n",
       "      <td>2</td>\n",
       "      <td>3</td>\n",
       "      <td>58.0</td>\n",
       "      <td>113.0</td>\n",
       "      <td>66.0</td>\n",
       "      <td>61.0</td>\n",
       "      <td>45.0</td>\n",
       "      <td>73.0</td>\n",
       "      <td>...</td>\n",
       "      <td>34.0</td>\n",
       "      <td>15.0</td>\n",
       "      <td>12.0</td>\n",
       "      <td>6.0</td>\n",
       "      <td>43.0</td>\n",
       "      <td>66.0</td>\n",
       "      <td>71.0</td>\n",
       "      <td>85.0</td>\n",
       "      <td>124.0</td>\n",
       "      <td>65.714286</td>\n",
       "    </tr>\n",
       "    <tr>\n",
       "      <th>2018-03-02 01:00:00</th>\n",
       "      <td>120</td>\n",
       "      <td>1</td>\n",
       "      <td>2</td>\n",
       "      <td>3</td>\n",
       "      <td>90.0</td>\n",
       "      <td>58.0</td>\n",
       "      <td>113.0</td>\n",
       "      <td>66.0</td>\n",
       "      <td>61.0</td>\n",
       "      <td>45.0</td>\n",
       "      <td>...</td>\n",
       "      <td>69.0</td>\n",
       "      <td>34.0</td>\n",
       "      <td>15.0</td>\n",
       "      <td>12.0</td>\n",
       "      <td>6.0</td>\n",
       "      <td>43.0</td>\n",
       "      <td>66.0</td>\n",
       "      <td>71.0</td>\n",
       "      <td>85.0</td>\n",
       "      <td>72.285714</td>\n",
       "    </tr>\n",
       "    <tr>\n",
       "      <th>2018-03-02 02:00:00</th>\n",
       "      <td>75</td>\n",
       "      <td>2</td>\n",
       "      <td>2</td>\n",
       "      <td>3</td>\n",
       "      <td>120.0</td>\n",
       "      <td>90.0</td>\n",
       "      <td>58.0</td>\n",
       "      <td>113.0</td>\n",
       "      <td>66.0</td>\n",
       "      <td>61.0</td>\n",
       "      <td>...</td>\n",
       "      <td>64.0</td>\n",
       "      <td>69.0</td>\n",
       "      <td>34.0</td>\n",
       "      <td>15.0</td>\n",
       "      <td>12.0</td>\n",
       "      <td>6.0</td>\n",
       "      <td>43.0</td>\n",
       "      <td>66.0</td>\n",
       "      <td>71.0</td>\n",
       "      <td>79.000000</td>\n",
       "    </tr>\n",
       "    <tr>\n",
       "      <th>2018-03-02 03:00:00</th>\n",
       "      <td>64</td>\n",
       "      <td>3</td>\n",
       "      <td>2</td>\n",
       "      <td>3</td>\n",
       "      <td>75.0</td>\n",
       "      <td>120.0</td>\n",
       "      <td>90.0</td>\n",
       "      <td>58.0</td>\n",
       "      <td>113.0</td>\n",
       "      <td>66.0</td>\n",
       "      <td>...</td>\n",
       "      <td>96.0</td>\n",
       "      <td>64.0</td>\n",
       "      <td>69.0</td>\n",
       "      <td>34.0</td>\n",
       "      <td>15.0</td>\n",
       "      <td>12.0</td>\n",
       "      <td>6.0</td>\n",
       "      <td>43.0</td>\n",
       "      <td>66.0</td>\n",
       "      <td>83.285714</td>\n",
       "    </tr>\n",
       "    <tr>\n",
       "      <th>2018-03-02 04:00:00</th>\n",
       "      <td>20</td>\n",
       "      <td>4</td>\n",
       "      <td>2</td>\n",
       "      <td>3</td>\n",
       "      <td>64.0</td>\n",
       "      <td>75.0</td>\n",
       "      <td>120.0</td>\n",
       "      <td>90.0</td>\n",
       "      <td>58.0</td>\n",
       "      <td>113.0</td>\n",
       "      <td>...</td>\n",
       "      <td>30.0</td>\n",
       "      <td>96.0</td>\n",
       "      <td>64.0</td>\n",
       "      <td>69.0</td>\n",
       "      <td>34.0</td>\n",
       "      <td>15.0</td>\n",
       "      <td>12.0</td>\n",
       "      <td>6.0</td>\n",
       "      <td>43.0</td>\n",
       "      <td>83.714286</td>\n",
       "    </tr>\n",
       "  </tbody>\n",
       "</table>\n",
       "<p>5 rows × 29 columns</p>\n",
       "</div>"
      ],
      "text/plain": [
       "                     num_orders  hour  day  month  lag_1  lag_2  lag_3  lag_4  \\\n",
       "datetime                                                                        \n",
       "2018-03-02 00:00:00          90     0    2      3   58.0  113.0   66.0   61.0   \n",
       "2018-03-02 01:00:00         120     1    2      3   90.0   58.0  113.0   66.0   \n",
       "2018-03-02 02:00:00          75     2    2      3  120.0   90.0   58.0  113.0   \n",
       "2018-03-02 03:00:00          64     3    2      3   75.0  120.0   90.0   58.0   \n",
       "2018-03-02 04:00:00          20     4    2      3   64.0   75.0  120.0   90.0   \n",
       "\n",
       "                     lag_5  lag_6  ...  lag_16  lag_17  lag_18  lag_19  \\\n",
       "datetime                           ...                                   \n",
       "2018-03-02 00:00:00   45.0   73.0  ...    34.0    15.0    12.0     6.0   \n",
       "2018-03-02 01:00:00   61.0   45.0  ...    69.0    34.0    15.0    12.0   \n",
       "2018-03-02 02:00:00   66.0   61.0  ...    64.0    69.0    34.0    15.0   \n",
       "2018-03-02 03:00:00  113.0   66.0  ...    96.0    64.0    69.0    34.0   \n",
       "2018-03-02 04:00:00   58.0  113.0  ...    30.0    96.0    64.0    69.0   \n",
       "\n",
       "                     lag_20  lag_21  lag_22  lag_23  lag_24  rolling_mean  \n",
       "datetime                                                                   \n",
       "2018-03-02 00:00:00    43.0    66.0    71.0    85.0   124.0     65.714286  \n",
       "2018-03-02 01:00:00     6.0    43.0    66.0    71.0    85.0     72.285714  \n",
       "2018-03-02 02:00:00    12.0     6.0    43.0    66.0    71.0     79.000000  \n",
       "2018-03-02 03:00:00    15.0    12.0     6.0    43.0    66.0     83.285714  \n",
       "2018-03-02 04:00:00    34.0    15.0    12.0     6.0    43.0     83.714286  \n",
       "\n",
       "[5 rows x 29 columns]"
      ]
     },
     "metadata": {},
     "output_type": "display_data"
    },
    {
     "name": "stdout",
     "output_type": "stream",
     "text": [
      "<class 'pandas.core.frame.DataFrame'>\n",
      "DatetimeIndex: 4392 entries, 2018-03-02 00:00:00 to 2018-08-31 23:00:00\n",
      "Freq: H\n",
      "Data columns (total 29 columns):\n",
      " #   Column        Non-Null Count  Dtype  \n",
      "---  ------        --------------  -----  \n",
      " 0   num_orders    4392 non-null   int64  \n",
      " 1   hour          4392 non-null   int64  \n",
      " 2   day           4392 non-null   int64  \n",
      " 3   month         4392 non-null   int64  \n",
      " 4   lag_1         4392 non-null   float64\n",
      " 5   lag_2         4392 non-null   float64\n",
      " 6   lag_3         4392 non-null   float64\n",
      " 7   lag_4         4392 non-null   float64\n",
      " 8   lag_5         4392 non-null   float64\n",
      " 9   lag_6         4392 non-null   float64\n",
      " 10  lag_7         4392 non-null   float64\n",
      " 11  lag_8         4392 non-null   float64\n",
      " 12  lag_9         4392 non-null   float64\n",
      " 13  lag_10        4392 non-null   float64\n",
      " 14  lag_11        4392 non-null   float64\n",
      " 15  lag_12        4392 non-null   float64\n",
      " 16  lag_13        4392 non-null   float64\n",
      " 17  lag_14        4392 non-null   float64\n",
      " 18  lag_15        4392 non-null   float64\n",
      " 19  lag_16        4392 non-null   float64\n",
      " 20  lag_17        4392 non-null   float64\n",
      " 21  lag_18        4392 non-null   float64\n",
      " 22  lag_19        4392 non-null   float64\n",
      " 23  lag_20        4392 non-null   float64\n",
      " 24  lag_21        4392 non-null   float64\n",
      " 25  lag_22        4392 non-null   float64\n",
      " 26  lag_23        4392 non-null   float64\n",
      " 27  lag_24        4392 non-null   float64\n",
      " 28  rolling_mean  4392 non-null   float64\n",
      "dtypes: float64(25), int64(4)\n",
      "memory usage: 1.0 MB\n"
     ]
    }
   ],
   "source": [
    "# создаем признаки\n",
    "\n",
    "data = make_features(taxi.copy(), 24, 7)\n",
    "data = data.dropna()\n",
    "display(data.head())\n",
    "data.info()"
   ]
  },
  {
   "cell_type": "code",
   "execution_count": 16,
   "metadata": {},
   "outputs": [],
   "source": [
    "# cплитуем выборку\n",
    "data_train, data_test = train_test_split(data, shuffle=False, test_size=0.1)\n",
    "\n",
    "# целевой признак\n",
    "y_train = data_train['num_orders']\n",
    "y_test = data_test['num_orders']\n",
    "\n",
    "# остальные фичи\n",
    "x_train = data_train.drop('num_orders', axis=1)\n",
    "x_test = data_test.drop('num_orders', axis=1)"
   ]
  },
  {
   "cell_type": "code",
   "execution_count": 17,
   "metadata": {},
   "outputs": [
    {
     "name": "stdout",
     "output_type": "stream",
     "text": [
      "RMSE: 27.55725933913607\n"
     ]
    }
   ],
   "source": [
    "# Линейная регрессия\n",
    "res = 0\n",
    "for train_index, val_index in TimeSeriesSplit(n_splits=3).split(x_train):\n",
    "    model = LinearRegression()\n",
    "    model.fit(x_train.iloc[train_index], y_train.iloc[train_index])\n",
    "    pred = model.predict(x_train.iloc[val_index])\n",
    "    res += mean_squared_error(y_train.iloc[val_index], pred, squared=False)\n",
    "    result = res / 3\n",
    "print('RMSE:', result)"
   ]
  },
  {
   "cell_type": "code",
   "execution_count": 18,
   "metadata": {},
   "outputs": [
    {
     "name": "stdout",
     "output_type": "stream",
     "text": [
      "Лучший результат: max_depth=2, RMSE=10.010256257625676\n"
     ]
    }
   ],
   "source": [
    "# Дерево решений\n",
    "best_result = 100\n",
    "best_depth = 0\n",
    "for depth in range(1, 16):\n",
    "    res = 0\n",
    "    model = DecisionTreeRegressor(max_depth=depth, random_state=123)\n",
    "    for train_index, val_index in TimeSeriesSplit(n_splits=3).split(x_train):\n",
    "        model.fit(x_train.iloc[train_index], y_train.iloc[train_index])\n",
    "        pred = model.predict(x_train.iloc[val_index])\n",
    "        res += mean_squared_error(y_train.iloc[val_index], pred, squared=False)\n",
    "        result = res / 3\n",
    "#         print('RMSE:', result)\n",
    "#         print('max_depth:', depth)\n",
    "#         print('-----------------------------')\n",
    "        if result < best_result:\n",
    "            best_result, best_depth = result, depth\n",
    "print(f'Лучший результат: max_depth={best_depth}, RMSE={best_result}')"
   ]
  },
  {
   "cell_type": "code",
   "execution_count": 19,
   "metadata": {},
   "outputs": [],
   "source": [
    "# пространство гиперпараметров для Random Forest\n",
    "\n",
    "search_space_rf = {\n",
    "    'n_estimators': hp.choice('n_estimators', np.arange(100, 260, 10, dtype=int)),\n",
    "    'max_depth': hp.choice('max_depth', np.arange(5, 16, 1, dtype=int))    \n",
    "}"
   ]
  },
  {
   "cell_type": "code",
   "execution_count": 20,
   "metadata": {},
   "outputs": [],
   "source": [
    "# пространство гиперпараметров для CatBoost\n",
    "\n",
    "search_space_ctb = {\n",
    "    'learning_rate': hp.choice('learning_rate', np.arange(0.05, 0.51, 0.05)),\n",
    "    'n_estimators': hp.choice('n_estimators', np.arange(100, 260, 10, dtype=int)),\n",
    "    'max_depth': hp.choice('max_depth', np.arange(5, 10, 1, dtype=int))\n",
    "    \n",
    "}"
   ]
  },
  {
   "cell_type": "code",
   "execution_count": 21,
   "metadata": {},
   "outputs": [],
   "source": [
    "# # зафиксируем массивы возможных значений в отдельные переменные для более удобного вывода результата\n",
    "_learning_rate = np.arange(0.05, 0.51, 0.05)\n",
    "_n_estimators = np.arange(100, 260, 10, dtype=int)\n",
    "_max_depth = np.arange(5, 16, 1, dtype=int)"
   ]
  },
  {
   "cell_type": "code",
   "execution_count": 22,
   "metadata": {},
   "outputs": [],
   "source": [
    "def rf_obj(args):\n",
    "    rf = RandomForestRegressor(**args, random_state=123)\n",
    "    r = []\n",
    "    for train_index, val_index in TimeSeriesSplit(n_splits=3).split(x_train):\n",
    "        rf.fit(x_train.iloc[train_index], y_train.iloc[train_index])\n",
    "        pred = rf.predict(x_train.iloc[val_index])\n",
    "        res = mean_squared_error(y_train.iloc[val_index], pred, squared=False)\n",
    "        r.append(res)\n",
    "    score = sum(r) / len(r)\n",
    "    print('Hyperparameters : {}'.format(args))\n",
    "    print('RMSE : {}\\n'.format(score))    \n",
    "    return score"
   ]
  },
  {
   "cell_type": "code",
   "execution_count": 23,
   "metadata": {},
   "outputs": [],
   "source": [
    "def ctb_obj(args):\n",
    "    ctb = CatBoostRegressor(**args, silent=True, random_state=123)\n",
    "    r = []\n",
    "    for train_index, val_index in TimeSeriesSplit(n_splits=3).split(x_train):\n",
    "        ctb.fit(x_train.iloc[train_index], y_train.iloc[train_index])\n",
    "        pred = ctb.predict(x_train.iloc[val_index])\n",
    "        res = mean_squared_error(y_train.iloc[val_index], pred, squared=False)\n",
    "        r.append(res)\n",
    "    score = sum(r) / len(r)\n",
    "    print('Hyperparameters : {}'.format(args))\n",
    "    print('RMSE : {}\\n'.format(score))    \n",
    "    return score"
   ]
  },
  {
   "cell_type": "code",
   "execution_count": 24,
   "metadata": {},
   "outputs": [],
   "source": [
    "# обучаем Random Forest\n",
    "\n",
    "# print('RandomForest')\n",
    "# rf_trials = Trials()\n",
    "# rf_best_res = fmin(rf_obj, space=search_space_rf, algo=tpe.suggest, trials=rf_trials, max_evals=50)\n",
    "\n",
    "# print('-------------------------------------')        \n",
    "# print('Итоговые результаты:')\n",
    "# print('Значение RMSE:', rf_trials.average_best_error().round(2))\n",
    "# print('Лучшее значение n_estimators', _n_estimators[rf_best_res['n_estimators']])\n",
    "# print('Лучшее значение max_depth', _max_depth[rf_best_res['max_depth']])"
   ]
  },
  {
   "cell_type": "code",
   "execution_count": 25,
   "metadata": {},
   "outputs": [],
   "source": [
    "# -------------------------------------\n",
    "# Итоговые результаты:\n",
    "# Значение RMSE: 26.85\n",
    "# Лучшее значение n_estimators 160\n",
    "# Лучшее значение max_depth 15"
   ]
  },
  {
   "cell_type": "code",
   "execution_count": 26,
   "metadata": {},
   "outputs": [],
   "source": [
    "# обучаем CatBoost\n",
    "\n",
    "# print('CatBoost')\n",
    "# ctb_trials = Trials()\n",
    "# ctb_best_res = fmin(ctb_obj, space=search_space_ctb, algo=tpe.suggest, trials=ctb_trials, max_evals=50)\n",
    "\n",
    "# print('-------------------------------------')        \n",
    "# print('Итоговые результаты:')\n",
    "# print('Значение RMSE:', ctb_trials.average_best_error().round(2))\n",
    "# print('Лучшее значение learning_rate', _learning_rate[ctb_best_res['learning_rate']])\n",
    "# print('Лучшее значение max_depth', _max_depth[ctb_best_res['max_depth']])\n",
    "# print('Лучшее значение n_estimators', _n_estimators[ctb_best_res['n_estimators']])"
   ]
  },
  {
   "cell_type": "code",
   "execution_count": 27,
   "metadata": {},
   "outputs": [],
   "source": [
    "# Итоговые результаты:\n",
    "# Значение RMSE: 25.99\n",
    "# Лучшее значение learning_rate 0.1\n",
    "# Лучшее значение max_depth 6\n",
    "# Лучшее значение n_estimators 250"
   ]
  },
  {
   "cell_type": "markdown",
   "metadata": {},
   "source": [
    "**Вывод:**\n",
    "* cоздана функция создания признаков `make_features`;\n",
    "* oпытным путем выявлены оптимальные параметры `max_lag` и `rolling_mean_size` - 24 и 7;\n",
    "* обучено 4 модели: *линейная регрессия, дерево решений, случайный лес, CatBoost*. \n",
    "* подобраны оптимальные гиперпараметры путем минимизации функции потерь на кросс-валидации с помощью hyperopt."
   ]
  },
  {
   "cell_type": "markdown",
   "metadata": {},
   "source": [
    "## Тестирование"
   ]
  },
  {
   "cell_type": "code",
   "execution_count": 28,
   "metadata": {},
   "outputs": [],
   "source": [
    "# инициализируем модели с лучшими гиперпараметрами\n",
    "lr = LinearRegression()\n",
    "dt = DecisionTreeRegressor(max_depth=2, random_state=123)\n",
    "rf = RandomForestRegressor(max_depth=15, n_estimators=160, random_state=123)\n",
    "ct = CatBoostRegressor(max_depth=6, n_estimators=250, learning_rate=0.1, silent=True, random_state=123)\n",
    "\n",
    "names = ['LinReg', 'DecissionTree', 'RandomForest', 'CatBoost']\n",
    "models = [lr, dt, rf, ct]"
   ]
  },
  {
   "cell_type": "code",
   "execution_count": 29,
   "metadata": {},
   "outputs": [
    {
     "name": "stdout",
     "output_type": "stream",
     "text": [
      "RMSE\n",
      "LinReg: 45.88551482175842\n",
      "DecissionTree: 62.72580696669904\n",
      "RandomForest: 41.89677507886101\n",
      "CatBoost: 40.742022111004324\n"
     ]
    }
   ],
   "source": [
    "# тестируем модели\n",
    "print('RMSE')\n",
    "for name, model in zip(names, models):\n",
    "    model.fit(x_train, y_train)\n",
    "    pred = model.predict(x_test)\n",
    "    rmse = mean_squared_error(y_test, pred, squared=False)\n",
    "    print(f'{name}: {rmse}')"
   ]
  },
  {
   "cell_type": "markdown",
   "metadata": {},
   "source": [
    "### Проверка на адекватность"
   ]
  },
  {
   "cell_type": "code",
   "execution_count": 30,
   "metadata": {},
   "outputs": [
    {
     "data": {
      "image/png": "[encoded data removed]",
      "text/plain": [
       "<Figure size 720x360 with 1 Axes>"
      ]
     },
     "metadata": {
      "needs_background": "light"
     },
     "output_type": "display_data"
    }
   ],
   "source": [
    "# еще раз взглянем на график\n",
    "\n",
    "plt.figure(figsize=(10, 5))\n",
    "dec.seasonal.plot()\n",
    "dec.resid.plot()\n",
    "dec.trend.plot()\n",
    "plt.title('Тренд, сеззонность, остаток')\n",
    "plt.legend()\n",
    "None"
   ]
  },
  {
   "cell_type": "markdown",
   "metadata": {},
   "source": [
    "Сезонность, вещь цикличная ее можно предсказать зная час, тренд можно аппроксимировать линейно или полиномом. Шум вещь случайная, ее предсказать нельзя."
   ]
  },
  {
   "cell_type": "code",
   "execution_count": 31,
   "metadata": {},
   "outputs": [],
   "source": [
    "dcmps = seasonal_decompose(data_train['num_orders']) # декомпозируем обучающую выборку\n",
    "\n",
    "# создадим массивы х и у\n",
    "values_y = dcmps.trend.dropna().values\n",
    "values_x = np.array(range(len(dcmps.trend.dropna().values)))"
   ]
  },
  {
   "cell_type": "code",
   "execution_count": 32,
   "metadata": {},
   "outputs": [],
   "source": [
    "# defining objective functions \n",
    "def mapping1(values_x, a, b): \n",
    "    return a * values_x + b  # линейная функция\n",
    " \n",
    "def mapping2(values_x, a, b, c): \n",
    "    return a * values_x**2 + b * values_x + c  # квадратичная функция"
   ]
  },
  {
   "cell_type": "code",
   "execution_count": 33,
   "metadata": {},
   "outputs": [],
   "source": [
    "# подбираем оптимальные коэффициенты\n",
    "\n",
    "args, _ = curve_fit(mapping1, values_x, values_y) \n",
    "a, b = args[0], args[1]\n",
    "y_fit1 = a * values_x + b\n",
    " \n",
    "args, _  = curve_fit(mapping2, values_x, values_y) \n",
    "a, b, c = args[0], args[1], args[2] \n",
    "y_fit2 = a * values_x**2 + b * values_x + c "
   ]
  },
  {
   "cell_type": "code",
   "execution_count": 34,
   "metadata": {},
   "outputs": [
    {
     "data": {
      "image/png": "[encoded data removed]",
      "text/plain": [
       "<Figure size 720x360 with 1 Axes>"
      ]
     },
     "metadata": {
      "needs_background": "light"
     },
     "output_type": "display_data"
    }
   ],
   "source": [
    "# plotting the graph \n",
    "plt.figure(figsize=(10, 5))\n",
    "plt.plot(values_x, values_y, label=\"y - original\") \n",
    "plt.plot(values_x, y_fit1, label=\"y = a * x + b\") \n",
    "plt.plot(values_x, y_fit2, label=\"y = a * x^2 + b * x + c\") \n",
    "plt.xlabel('x') \n",
    "plt.ylabel('y') \n",
    "plt.legend(loc = 'best', fancybox = True, shadow = True) \n",
    "plt.grid(True) \n",
    "plt.show() "
   ]
  },
  {
   "cell_type": "markdown",
   "metadata": {},
   "source": [
    "Будем использовать квадратичный полином"
   ]
  },
  {
   "cell_type": "code",
   "execution_count": 35,
   "metadata": {},
   "outputs": [
    {
     "data": {
      "text/plain": [
       "datetime\n",
       "2018-08-13 16:00:00    144\n",
       "2018-08-13 17:00:00    152\n",
       "2018-08-13 18:00:00    104\n",
       "2018-08-13 19:00:00     91\n",
       "2018-08-13 20:00:00     82\n",
       "                      ... \n",
       "2018-08-31 19:00:00    136\n",
       "2018-08-31 20:00:00    154\n",
       "2018-08-31 21:00:00    159\n",
       "2018-08-31 22:00:00    223\n",
       "2018-08-31 23:00:00    205\n",
       "Freq: H, Name: num_orders, Length: 440, dtype: int64"
      ]
     },
     "execution_count": 35,
     "metadata": {},
     "output_type": "execute_result"
    }
   ],
   "source": [
    "data_test['num_orders']"
   ]
  },
  {
   "cell_type": "code",
   "execution_count": 36,
   "metadata": {},
   "outputs": [],
   "source": [
    "# Делаем предсказания\n",
    "\n",
    "values_x1 = np.array(range(4416)) \n",
    "y_fit = a * values_x1**2 + b * values_x1 + c # продолжаем \"параболу\" до сегодняшнего дня"
   ]
  },
  {
   "cell_type": "code",
   "execution_count": 37,
   "metadata": {},
   "outputs": [
    {
     "data": {
      "text/html": [
       "<div>\n",
       "<style scoped>\n",
       "    .dataframe tbody tr th:only-of-type {\n",
       "        vertical-align: middle;\n",
       "    }\n",
       "\n",
       "    .dataframe tbody tr th {\n",
       "        vertical-align: top;\n",
       "    }\n",
       "\n",
       "    .dataframe thead th {\n",
       "        text-align: right;\n",
       "    }\n",
       "</style>\n",
       "<table border=\"1\" class=\"dataframe\">\n",
       "  <thead>\n",
       "    <tr style=\"text-align: right;\">\n",
       "      <th></th>\n",
       "      <th>trend</th>\n",
       "      <th>seasonal</th>\n",
       "      <th>result</th>\n",
       "    </tr>\n",
       "    <tr>\n",
       "      <th>datetime</th>\n",
       "      <th></th>\n",
       "      <th></th>\n",
       "      <th></th>\n",
       "    </tr>\n",
       "  </thead>\n",
       "  <tbody>\n",
       "    <tr>\n",
       "      <th>2018-03-01 00:00:00</th>\n",
       "      <td>54.537069</td>\n",
       "      <td>60.248112</td>\n",
       "      <td>114.785181</td>\n",
       "    </tr>\n",
       "    <tr>\n",
       "      <th>2018-03-01 01:00:00</th>\n",
       "      <td>54.542883</td>\n",
       "      <td>20.177074</td>\n",
       "      <td>74.719957</td>\n",
       "    </tr>\n",
       "    <tr>\n",
       "      <th>2018-03-01 02:00:00</th>\n",
       "      <td>54.548702</td>\n",
       "      <td>28.982743</td>\n",
       "      <td>83.531446</td>\n",
       "    </tr>\n",
       "    <tr>\n",
       "      <th>2018-03-01 03:00:00</th>\n",
       "      <td>54.554526</td>\n",
       "      <td>17.885407</td>\n",
       "      <td>72.439934</td>\n",
       "    </tr>\n",
       "    <tr>\n",
       "      <th>2018-03-01 04:00:00</th>\n",
       "      <td>54.560355</td>\n",
       "      <td>2.791145</td>\n",
       "      <td>57.351500</td>\n",
       "    </tr>\n",
       "    <tr>\n",
       "      <th>...</th>\n",
       "      <td>...</td>\n",
       "      <td>...</td>\n",
       "      <td>...</td>\n",
       "    </tr>\n",
       "    <tr>\n",
       "      <th>2018-08-31 19:00:00</th>\n",
       "      <td>127.064961</td>\n",
       "      <td>-7.124270</td>\n",
       "      <td>119.940691</td>\n",
       "    </tr>\n",
       "    <tr>\n",
       "      <th>2018-08-31 20:00:00</th>\n",
       "      <td>127.092036</td>\n",
       "      <td>-2.696560</td>\n",
       "      <td>124.395476</td>\n",
       "    </tr>\n",
       "    <tr>\n",
       "      <th>2018-08-31 21:00:00</th>\n",
       "      <td>127.119117</td>\n",
       "      <td>10.670243</td>\n",
       "      <td>137.789360</td>\n",
       "    </tr>\n",
       "    <tr>\n",
       "      <th>2018-08-31 22:00:00</th>\n",
       "      <td>127.146202</td>\n",
       "      <td>13.596814</td>\n",
       "      <td>140.743016</td>\n",
       "    </tr>\n",
       "    <tr>\n",
       "      <th>2018-08-31 23:00:00</th>\n",
       "      <td>127.173292</td>\n",
       "      <td>25.000503</td>\n",
       "      <td>152.173795</td>\n",
       "    </tr>\n",
       "  </tbody>\n",
       "</table>\n",
       "<p>4416 rows × 3 columns</p>\n",
       "</div>"
      ],
      "text/plain": [
       "                          trend   seasonal      result\n",
       "datetime                                              \n",
       "2018-03-01 00:00:00   54.537069  60.248112  114.785181\n",
       "2018-03-01 01:00:00   54.542883  20.177074   74.719957\n",
       "2018-03-01 02:00:00   54.548702  28.982743   83.531446\n",
       "2018-03-01 03:00:00   54.554526  17.885407   72.439934\n",
       "2018-03-01 04:00:00   54.560355   2.791145   57.351500\n",
       "...                         ...        ...         ...\n",
       "2018-08-31 19:00:00  127.064961  -7.124270  119.940691\n",
       "2018-08-31 20:00:00  127.092036  -2.696560  124.395476\n",
       "2018-08-31 21:00:00  127.119117  10.670243  137.789360\n",
       "2018-08-31 22:00:00  127.146202  13.596814  140.743016\n",
       "2018-08-31 23:00:00  127.173292  25.000503  152.173795\n",
       "\n",
       "[4416 rows x 3 columns]"
      ]
     },
     "execution_count": 37,
     "metadata": {},
     "output_type": "execute_result"
    }
   ],
   "source": [
    "# рисуем таблцицу\n",
    "\n",
    "base = pd.DataFrame(y_fit, index=taxi.index)\n",
    "base.columns = ['trend']\n",
    "base['seasonal'] = dec.seasonal\n",
    "\n",
    "# предсказание базлайна(значение тренда + значение сезонности)\n",
    "base['result'] = base['trend'] + base['seasonal'] \n",
    "base"
   ]
  },
  {
   "cell_type": "code",
   "execution_count": 38,
   "metadata": {},
   "outputs": [
    {
     "data": {
      "text/plain": [
       "datetime\n",
       "2018-08-13 16:00:00    145.348308\n",
       "2018-08-13 17:00:00    123.689202\n",
       "2018-08-13 18:00:00    100.266212\n",
       "2018-08-13 19:00:00    108.694889\n",
       "2018-08-13 20:00:00    113.147591\n",
       "                          ...    \n",
       "2018-08-31 19:00:00    119.940691\n",
       "2018-08-31 20:00:00    124.395476\n",
       "2018-08-31 21:00:00    137.789360\n",
       "2018-08-31 22:00:00    140.743016\n",
       "2018-08-31 23:00:00    152.173795\n",
       "Freq: H, Name: result, Length: 440, dtype: float64"
      ]
     },
     "execution_count": 38,
     "metadata": {},
     "output_type": "execute_result"
    }
   ],
   "source": [
    "# возьмем последние 442 значения для сравнения с тестовой выборкой\n",
    "\n",
    "pred_base = base['result'].tail(440)\n",
    "pred_base"
   ]
  },
  {
   "cell_type": "code",
   "execution_count": 39,
   "metadata": {},
   "outputs": [
    {
     "name": "stdout",
     "output_type": "stream",
     "text": [
      "RMSE базовой модели: 46.83617757226775\n"
     ]
    }
   ],
   "source": [
    "# Считаем метрику RMSE\n",
    "\n",
    "rmse_base = mean_squared_error(y_test, pred_base, squared=False)\n",
    "print('RMSE базовой модели:', rmse_base)"
   ]
  },
  {
   "cell_type": "markdown",
   "metadata": {},
   "source": [
    "Теперь более понятно почему модели на тесте должны показать RMSE не более 48 :D"
   ]
  },
  {
   "cell_type": "markdown",
   "metadata": {},
   "source": [
    "LinReg: 45.88551482175842\n",
    "DecissionTree: 62.72580696669904\n",
    "RandomForest: 41.89677507886101\n",
    "CatBoost: 40.742022111004324"
   ]
  },
  {
   "cell_type": "markdown",
   "metadata": {},
   "source": [
    "**Вывод:** \n",
    "\n",
    "Все модели, кроме решающего дерева прошли проверку на вменяемость, лучший результат показала модель CatBoost с RMSE = 41"
   ]
  },
  {
   "cell_type": "code",
   "execution_count": 63,
   "metadata": {},
   "outputs": [
    {
     "data": {
      "image/png": "[encoded data removed]",
      "text/plain": [
       "<Figure size 1080x360 with 1 Axes>"
      ]
     },
     "metadata": {
      "needs_background": "light"
     },
     "output_type": "display_data"
    }
   ],
   "source": [
    "# рисуем результаты\n",
    "\n",
    "result = pd.DataFrame({'CatBoost': pred, 'True': y_test}, index=y_test.index)\n",
    "result.plot(figsize=(15, 5))\n",
    "plt.title('Визуализация предсказаний')\n",
    "None"
   ]
  },
  {
   "cell_type": "markdown",
   "metadata": {},
   "source": [
    "## Вывод"
   ]
  },
  {
   "cell_type": "markdown",
   "metadata": {},
   "source": [
    "Вывод по исследованию прогнозирования заказов такси:\n",
    "\n",
    "1. Предобработка данных:\n",
    "- Данные не требовали очистки, пропусков и выбросов не обнаружено\n",
    "- Выполнено ресемплирование данных по часам \n",
    "\n",
    "2. Анализ данных:\n",
    "- Выявлен положительный тренд количества заказов \n",
    "- Обнаружена ежедневная сезонность - минимум заказов в 6 утра, максимум в полночь\n",
    "- Выявлено увеличение разброса данных со временем\n",
    "\n",
    "3. Обучение моделей:\n",
    "- Реализована функция генерации признаков make_features\n",
    "- Опытным путем определены оптимальные параметры: max_lag = 24, rolling_mean_size = 7\n",
    "- Обучены 4 модели: линейная регрессия, дерево решений, случайный лес и CatBoost\n",
    "- Подобраны оптимальные гиперпараметры с помощью cross-validation и hyperopt\n",
    "\n",
    "4. Тестирование:\n",
    "- Лучший результат показала модель CatBoost, RMSE = 40.74\n",
    "- Все модели, кроме дерева решений, прошли проверку на адекватность "
   ]
  },
  {
   "cell_type": "markdown",
   "metadata": {},
   "source": [
    "## Чек-лист проверки"
   ]
  },
  {
   "cell_type": "markdown",
   "metadata": {},
   "source": [
    "- [x]  Jupyter Notebook открыт\n",
    "- [ ]  Весь код выполняется без ошибок\n",
    "- [ ]  Ячейки с кодом расположены в порядке исполнения\n",
    "- [ ]  Данные загружены и подготовлены\n",
    "- [ ]  Данные проанализированы\n",
    "- [ ]  Модель обучена, гиперпараметры подобраны\n",
    "- [ ]  Качество моделей проверено, выводы сделаны\n",
    "- [ ]  Значение *RMSE* на тестовой выборке не больше 48"
   ]
  }
 ],
 "metadata": {
  "ExecuteTimeLog": [
   {
    "duration": 360,
    "start_time": "2023-09-17T16:35:22.368Z"
   },
   {
    "duration": 65,
    "start_time": "2023-09-17T16:38:59.288Z"
   },
   {
    "duration": 2,
    "start_time": "2023-09-17T16:39:01.625Z"
   },
   {
    "duration": 8,
    "start_time": "2023-09-17T16:39:01.765Z"
   },
   {
    "duration": 45,
    "start_time": "2023-09-17T16:39:08.107Z"
   },
   {
    "duration": 2,
    "start_time": "2023-09-17T16:39:10.405Z"
   },
   {
    "duration": 53,
    "start_time": "2023-09-17T16:39:10.706Z"
   },
   {
    "duration": 201,
    "start_time": "2023-09-17T16:41:37.077Z"
   },
   {
    "duration": 10,
    "start_time": "2023-09-17T16:42:02.278Z"
   },
   {
    "duration": 6,
    "start_time": "2023-09-17T16:42:43.816Z"
   },
   {
    "duration": 8,
    "start_time": "2023-09-17T16:42:53.087Z"
   },
   {
    "duration": 12,
    "start_time": "2023-09-17T16:43:17.796Z"
   },
   {
    "duration": 16,
    "start_time": "2023-09-17T16:43:25.856Z"
   },
   {
    "duration": 11,
    "start_time": "2023-09-17T16:43:36.806Z"
   },
   {
    "duration": 12,
    "start_time": "2023-09-17T16:43:40.578Z"
   },
   {
    "duration": 7,
    "start_time": "2023-09-17T16:43:48.225Z"
   },
   {
    "duration": 12,
    "start_time": "2023-09-17T16:43:51.767Z"
   },
   {
    "duration": 817,
    "start_time": "2023-09-17T16:44:34.966Z"
   },
   {
    "duration": 225,
    "start_time": "2023-09-17T16:44:57.106Z"
   },
   {
    "duration": 490,
    "start_time": "2023-09-17T16:45:17.986Z"
   },
   {
    "duration": 218,
    "start_time": "2023-09-17T16:46:12.587Z"
   },
   {
    "duration": 293,
    "start_time": "2023-09-17T16:47:06.837Z"
   },
   {
    "duration": 234,
    "start_time": "2023-09-17T16:47:27.134Z"
   },
   {
    "duration": 254,
    "start_time": "2023-09-17T16:47:46.027Z"
   },
   {
    "duration": 3,
    "start_time": "2023-09-17T16:48:38.017Z"
   },
   {
    "duration": 311,
    "start_time": "2023-09-17T16:48:51.222Z"
   },
   {
    "duration": 10,
    "start_time": "2023-09-17T16:49:33.656Z"
   },
   {
    "duration": 212,
    "start_time": "2023-09-17T16:50:04.586Z"
   },
   {
    "duration": 163,
    "start_time": "2023-09-17T16:51:26.977Z"
   },
   {
    "duration": 128,
    "start_time": "2023-09-17T16:51:32.986Z"
   },
   {
    "duration": 127,
    "start_time": "2023-09-17T16:52:21.513Z"
   },
   {
    "duration": 168,
    "start_time": "2023-09-17T16:52:35.844Z"
   },
   {
    "duration": 159,
    "start_time": "2023-09-17T16:52:59.649Z"
   },
   {
    "duration": 260,
    "start_time": "2023-09-17T16:53:07.905Z"
   },
   {
    "duration": 217,
    "start_time": "2023-09-17T16:53:19.115Z"
   },
   {
    "duration": 169,
    "start_time": "2023-09-17T16:53:25.867Z"
   },
   {
    "duration": 175,
    "start_time": "2023-09-17T16:53:32.797Z"
   },
   {
    "duration": 149,
    "start_time": "2023-09-17T16:54:31.036Z"
   },
   {
    "duration": 210,
    "start_time": "2023-09-17T16:54:38.965Z"
   },
   {
    "duration": 179,
    "start_time": "2023-09-17T16:55:31.884Z"
   },
   {
    "duration": 188,
    "start_time": "2023-09-17T16:55:41.254Z"
   },
   {
    "duration": 188,
    "start_time": "2023-09-17T16:55:51.094Z"
   },
   {
    "duration": 201,
    "start_time": "2023-09-17T16:56:05.487Z"
   },
   {
    "duration": 166,
    "start_time": "2023-09-17T16:56:57.315Z"
   },
   {
    "duration": 144,
    "start_time": "2023-09-17T16:57:11.302Z"
   },
   {
    "duration": 161,
    "start_time": "2023-09-17T16:57:17.834Z"
   },
   {
    "duration": 139,
    "start_time": "2023-09-17T16:57:31.561Z"
   },
   {
    "duration": 142,
    "start_time": "2023-09-17T16:57:51.504Z"
   },
   {
    "duration": 497,
    "start_time": "2023-09-17T16:59:32.900Z"
   },
   {
    "duration": 15,
    "start_time": "2023-09-17T16:59:46.952Z"
   },
   {
    "duration": 188,
    "start_time": "2023-09-17T17:00:12.703Z"
   },
   {
    "duration": 194,
    "start_time": "2023-09-17T17:00:18.493Z"
   },
   {
    "duration": 186,
    "start_time": "2023-09-17T17:00:25.484Z"
   },
   {
    "duration": 197,
    "start_time": "2023-09-17T17:00:29.005Z"
   },
   {
    "duration": 192,
    "start_time": "2023-09-17T17:00:36.875Z"
   },
   {
    "duration": 213,
    "start_time": "2023-09-17T17:03:13.181Z"
   },
   {
    "duration": 7,
    "start_time": "2023-09-17T17:04:42.712Z"
   },
   {
    "duration": 127,
    "start_time": "2023-09-17T17:04:54.550Z"
   },
   {
    "duration": 245,
    "start_time": "2023-09-17T17:05:03.212Z"
   },
   {
    "duration": 8,
    "start_time": "2023-09-17T17:05:38.683Z"
   },
   {
    "duration": 3,
    "start_time": "2023-09-17T17:05:52.776Z"
   },
   {
    "duration": 12,
    "start_time": "2023-09-17T17:05:57.662Z"
   },
   {
    "duration": 9,
    "start_time": "2023-09-17T17:06:03.363Z"
   },
   {
    "duration": 8,
    "start_time": "2023-09-17T17:09:38.113Z"
   },
   {
    "duration": 8,
    "start_time": "2023-09-17T17:09:45.415Z"
   },
   {
    "duration": 11,
    "start_time": "2023-09-17T17:09:47.970Z"
   },
   {
    "duration": 3,
    "start_time": "2023-09-17T17:09:59.262Z"
   },
   {
    "duration": 117,
    "start_time": "2023-09-17T17:10:24.935Z"
   },
   {
    "duration": 222,
    "start_time": "2023-09-17T17:10:38.515Z"
   },
   {
    "duration": 236,
    "start_time": "2023-09-17T17:10:42.290Z"
   },
   {
    "duration": 220,
    "start_time": "2023-09-17T17:11:04.292Z"
   },
   {
    "duration": 644,
    "start_time": "2023-09-17T17:11:19.791Z"
   },
   {
    "duration": 7,
    "start_time": "2023-09-17T17:12:23.451Z"
   },
   {
    "duration": 6,
    "start_time": "2023-09-17T17:12:44.291Z"
   },
   {
    "duration": 238,
    "start_time": "2023-09-17T17:13:03.767Z"
   },
   {
    "duration": 156,
    "start_time": "2023-09-17T17:13:26.002Z"
   },
   {
    "duration": 129,
    "start_time": "2023-09-17T17:13:46.125Z"
   },
   {
    "duration": 131,
    "start_time": "2023-09-17T17:13:53.621Z"
   },
   {
    "duration": 128,
    "start_time": "2023-09-17T17:14:02.002Z"
   },
   {
    "duration": 157,
    "start_time": "2023-09-17T17:15:52.249Z"
   },
   {
    "duration": 170,
    "start_time": "2023-09-17T17:16:45.641Z"
   },
   {
    "duration": 140,
    "start_time": "2023-09-17T17:16:54.192Z"
   },
   {
    "duration": 203,
    "start_time": "2023-09-17T17:17:51.322Z"
   },
   {
    "duration": 204,
    "start_time": "2023-09-17T17:18:06.229Z"
   },
   {
    "duration": 182,
    "start_time": "2023-09-17T17:18:35.011Z"
   },
   {
    "duration": 85,
    "start_time": "2023-09-18T03:56:06.341Z"
   },
   {
    "duration": 1515,
    "start_time": "2023-09-18T03:56:13.589Z"
   },
   {
    "duration": 153,
    "start_time": "2023-09-18T03:56:15.111Z"
   },
   {
    "duration": 15,
    "start_time": "2023-09-18T03:56:15.266Z"
   },
   {
    "duration": 32,
    "start_time": "2023-09-18T03:56:15.283Z"
   },
   {
    "duration": 280,
    "start_time": "2023-09-18T03:56:15.321Z"
   },
   {
    "duration": 377,
    "start_time": "2023-09-18T03:56:15.603Z"
   },
   {
    "duration": 291,
    "start_time": "2023-09-18T03:56:15.982Z"
   },
   {
    "duration": 267,
    "start_time": "2023-09-18T03:56:16.275Z"
   },
   {
    "duration": 201,
    "start_time": "2023-09-18T03:56:16.544Z"
   },
   {
    "duration": 319,
    "start_time": "2023-09-18T03:56:16.748Z"
   },
   {
    "duration": 290,
    "start_time": "2023-09-18T03:56:17.069Z"
   },
   {
    "duration": 167,
    "start_time": "2023-09-18T03:56:17.360Z"
   },
   {
    "duration": 173,
    "start_time": "2023-09-18T03:56:17.531Z"
   },
   {
    "duration": 14,
    "start_time": "2023-09-18T03:56:35.368Z"
   },
   {
    "duration": 279,
    "start_time": "2023-09-18T03:56:45.907Z"
   },
   {
    "duration": 157,
    "start_time": "2023-09-18T03:58:57.067Z"
   },
   {
    "duration": 227,
    "start_time": "2023-09-18T03:59:03.747Z"
   },
   {
    "duration": 208,
    "start_time": "2023-09-18T03:59:48.559Z"
   },
   {
    "duration": 366,
    "start_time": "2023-09-18T03:59:59.679Z"
   },
   {
    "duration": 237,
    "start_time": "2023-09-18T04:00:06.428Z"
   },
   {
    "duration": 396,
    "start_time": "2023-09-18T04:00:17.708Z"
   },
   {
    "duration": 160,
    "start_time": "2023-09-18T04:00:59.228Z"
   },
   {
    "duration": 201,
    "start_time": "2023-09-18T04:01:07.228Z"
   },
   {
    "duration": 281,
    "start_time": "2023-09-18T04:02:26.598Z"
   },
   {
    "duration": 51,
    "start_time": "2023-09-20T07:19:51.111Z"
   },
   {
    "duration": 1508,
    "start_time": "2023-09-20T07:20:13.758Z"
   },
   {
    "duration": 207,
    "start_time": "2023-09-20T07:20:15.268Z"
   },
   {
    "duration": 13,
    "start_time": "2023-09-20T07:20:15.478Z"
   },
   {
    "duration": 23,
    "start_time": "2023-09-20T07:20:15.494Z"
   },
   {
    "duration": 259,
    "start_time": "2023-09-20T07:20:15.519Z"
   },
   {
    "duration": 339,
    "start_time": "2023-09-20T07:20:15.780Z"
   },
   {
    "duration": 241,
    "start_time": "2023-09-20T07:20:16.121Z"
   },
   {
    "duration": 235,
    "start_time": "2023-09-20T07:20:16.364Z"
   },
   {
    "duration": 159,
    "start_time": "2023-09-20T07:20:16.602Z"
   },
   {
    "duration": 283,
    "start_time": "2023-09-20T07:20:16.764Z"
   },
   {
    "duration": 262,
    "start_time": "2023-09-20T07:20:17.049Z"
   },
   {
    "duration": 170,
    "start_time": "2023-09-20T07:20:17.313Z"
   },
   {
    "duration": 151,
    "start_time": "2023-09-20T07:20:17.485Z"
   },
   {
    "duration": 213,
    "start_time": "2023-09-20T07:20:17.637Z"
   },
   {
    "duration": 242,
    "start_time": "2023-09-20T07:20:17.852Z"
   },
   {
    "duration": 13,
    "start_time": "2023-09-20T07:21:24.009Z"
   },
   {
    "duration": 7,
    "start_time": "2023-09-20T07:21:38.986Z"
   },
   {
    "duration": 236,
    "start_time": "2023-09-20T07:21:48.423Z"
   },
   {
    "duration": 475,
    "start_time": "2023-09-20T07:22:48.862Z"
   },
   {
    "duration": 345,
    "start_time": "2023-09-20T07:24:28.718Z"
   },
   {
    "duration": 228,
    "start_time": "2023-09-20T08:27:42.939Z"
   },
   {
    "duration": 236,
    "start_time": "2023-09-20T08:27:55.546Z"
   },
   {
    "duration": 1531,
    "start_time": "2023-09-21T06:01:59.437Z"
   },
   {
    "duration": 128,
    "start_time": "2023-09-21T06:02:00.970Z"
   },
   {
    "duration": 13,
    "start_time": "2023-09-21T06:02:01.100Z"
   },
   {
    "duration": 78,
    "start_time": "2023-09-21T06:02:01.115Z"
   },
   {
    "duration": 359,
    "start_time": "2023-09-21T06:02:01.195Z"
   },
   {
    "duration": 359,
    "start_time": "2023-09-21T06:02:01.556Z"
   },
   {
    "duration": 218,
    "start_time": "2023-09-21T06:02:01.917Z"
   },
   {
    "duration": 287,
    "start_time": "2023-09-21T06:02:02.138Z"
   },
   {
    "duration": 303,
    "start_time": "2023-09-21T06:02:02.427Z"
   },
   {
    "duration": 181,
    "start_time": "2023-09-21T06:02:02.733Z"
   },
   {
    "duration": 229,
    "start_time": "2023-09-21T06:02:02.916Z"
   },
   {
    "duration": 271,
    "start_time": "2023-09-21T06:02:03.147Z"
   },
   {
    "duration": 164,
    "start_time": "2023-09-21T06:02:03.420Z"
   },
   {
    "duration": 172,
    "start_time": "2023-09-21T06:02:03.585Z"
   },
   {
    "duration": 237,
    "start_time": "2023-09-21T06:02:03.759Z"
   },
   {
    "duration": 514,
    "start_time": "2023-09-21T06:02:03.998Z"
   },
   {
    "duration": 222,
    "start_time": "2023-09-21T06:05:19.669Z"
   },
   {
    "duration": 251,
    "start_time": "2023-09-21T06:05:27.578Z"
   },
   {
    "duration": 144,
    "start_time": "2023-09-21T06:05:38.139Z"
   },
   {
    "duration": 153,
    "start_time": "2023-09-21T06:05:43.440Z"
   },
   {
    "duration": 13,
    "start_time": "2023-09-21T06:12:01.188Z"
   },
   {
    "duration": 6,
    "start_time": "2023-09-21T06:14:32.958Z"
   },
   {
    "duration": 133,
    "start_time": "2023-09-21T06:14:49.958Z"
   },
   {
    "duration": 10,
    "start_time": "2023-09-21T06:14:57.828Z"
   },
   {
    "duration": 8,
    "start_time": "2023-09-21T06:18:26.692Z"
   },
   {
    "duration": 13,
    "start_time": "2023-09-21T06:19:19.653Z"
   },
   {
    "duration": 15,
    "start_time": "2023-09-21T06:19:51.121Z"
   },
   {
    "duration": 1729,
    "start_time": "2023-09-21T14:05:56.609Z"
   },
   {
    "duration": 236,
    "start_time": "2023-09-21T14:05:58.340Z"
   },
   {
    "duration": 13,
    "start_time": "2023-09-21T14:05:58.577Z"
   },
   {
    "duration": 52,
    "start_time": "2023-09-21T14:05:58.593Z"
   },
   {
    "duration": 275,
    "start_time": "2023-09-21T14:05:58.648Z"
   },
   {
    "duration": 368,
    "start_time": "2023-09-21T14:05:58.930Z"
   },
   {
    "duration": 252,
    "start_time": "2023-09-21T14:05:59.300Z"
   },
   {
    "duration": 282,
    "start_time": "2023-09-21T14:05:59.553Z"
   },
   {
    "duration": 335,
    "start_time": "2023-09-21T14:05:59.837Z"
   },
   {
    "duration": 213,
    "start_time": "2023-09-21T14:06:00.174Z"
   },
   {
    "duration": 261,
    "start_time": "2023-09-21T14:06:00.389Z"
   },
   {
    "duration": 351,
    "start_time": "2023-09-21T14:06:00.652Z"
   },
   {
    "duration": 164,
    "start_time": "2023-09-21T14:06:01.005Z"
   },
   {
    "duration": 289,
    "start_time": "2023-09-21T14:06:01.171Z"
   },
   {
    "duration": 424,
    "start_time": "2023-09-21T14:06:01.462Z"
   },
   {
    "duration": 616,
    "start_time": "2023-09-21T14:06:01.887Z"
   },
   {
    "duration": 2,
    "start_time": "2023-09-21T14:06:02.506Z"
   },
   {
    "duration": 66,
    "start_time": "2023-09-21T14:06:02.510Z"
   },
   {
    "duration": 46,
    "start_time": "2023-09-21T14:06:02.578Z"
   },
   {
    "duration": 42,
    "start_time": "2023-09-21T14:06:02.626Z"
   },
   {
    "duration": 36,
    "start_time": "2023-09-21T14:06:02.669Z"
   },
   {
    "duration": 5,
    "start_time": "2023-09-21T14:12:16.750Z"
   },
   {
    "duration": 13,
    "start_time": "2023-09-21T14:12:35.153Z"
   },
   {
    "duration": 3,
    "start_time": "2023-09-21T14:12:43.356Z"
   },
   {
    "duration": 6,
    "start_time": "2023-09-21T14:12:43.657Z"
   },
   {
    "duration": 128,
    "start_time": "2023-09-21T14:12:55.284Z"
   },
   {
    "duration": 5,
    "start_time": "2023-09-21T14:13:18.176Z"
   },
   {
    "duration": 17,
    "start_time": "2023-09-21T14:13:18.876Z"
   },
   {
    "duration": 36,
    "start_time": "2023-09-21T14:13:30.708Z"
   },
   {
    "duration": 29,
    "start_time": "2023-09-21T14:14:39.306Z"
   },
   {
    "duration": 6,
    "start_time": "2023-09-21T14:14:43.699Z"
   },
   {
    "duration": 27,
    "start_time": "2023-09-21T14:14:43.859Z"
   },
   {
    "duration": 3,
    "start_time": "2023-09-21T15:03:55.088Z"
   },
   {
    "duration": 24,
    "start_time": "2023-09-21T15:04:38.762Z"
   },
   {
    "duration": 21,
    "start_time": "2023-09-21T15:04:56.699Z"
   },
   {
    "duration": 6,
    "start_time": "2023-09-21T15:07:04.309Z"
   },
   {
    "duration": 8,
    "start_time": "2023-09-21T15:07:13.566Z"
   },
   {
    "duration": 4,
    "start_time": "2023-09-21T15:13:17.519Z"
   },
   {
    "duration": 29,
    "start_time": "2023-09-21T15:13:23.550Z"
   },
   {
    "duration": 6,
    "start_time": "2023-09-22T08:37:57.647Z"
   },
   {
    "duration": 85,
    "start_time": "2023-09-22T08:37:57.655Z"
   },
   {
    "duration": 20,
    "start_time": "2023-09-22T08:37:57.742Z"
   },
   {
    "duration": 19,
    "start_time": "2023-09-22T08:37:57.764Z"
   },
   {
    "duration": 271,
    "start_time": "2023-09-22T08:37:57.785Z"
   },
   {
    "duration": 507,
    "start_time": "2023-09-22T08:37:58.058Z"
   },
   {
    "duration": 246,
    "start_time": "2023-09-22T08:37:58.567Z"
   },
   {
    "duration": 380,
    "start_time": "2023-09-22T08:37:58.815Z"
   },
   {
    "duration": 279,
    "start_time": "2023-09-22T08:37:59.198Z"
   },
   {
    "duration": 200,
    "start_time": "2023-09-22T08:37:59.480Z"
   },
   {
    "duration": 266,
    "start_time": "2023-09-22T08:37:59.684Z"
   },
   {
    "duration": 311,
    "start_time": "2023-09-22T08:37:59.956Z"
   },
   {
    "duration": 221,
    "start_time": "2023-09-22T08:38:00.269Z"
   },
   {
    "duration": 210,
    "start_time": "2023-09-22T08:38:00.492Z"
   },
   {
    "duration": 200,
    "start_time": "2023-09-22T08:38:00.704Z"
   },
   {
    "duration": 284,
    "start_time": "2023-09-22T08:38:00.906Z"
   },
   {
    "duration": 3,
    "start_time": "2023-09-22T08:38:01.192Z"
   },
   {
    "duration": 194,
    "start_time": "2023-09-22T08:38:01.197Z"
   },
   {
    "duration": 173,
    "start_time": "2023-09-22T08:38:01.393Z"
   },
   {
    "duration": 163,
    "start_time": "2023-09-22T08:38:01.569Z"
   },
   {
    "duration": 116,
    "start_time": "2023-09-22T08:38:01.737Z"
   },
   {
    "duration": 104,
    "start_time": "2023-09-22T08:38:01.857Z"
   },
   {
    "duration": 7,
    "start_time": "2023-09-22T08:38:06.494Z"
   },
   {
    "duration": 5,
    "start_time": "2023-09-22T08:38:08.895Z"
   },
   {
    "duration": 19,
    "start_time": "2023-09-22T08:38:12.871Z"
   },
   {
    "duration": 49,
    "start_time": "2023-09-22T08:38:28.241Z"
   },
   {
    "duration": 25,
    "start_time": "2023-09-22T08:38:48.589Z"
   },
   {
    "duration": 4,
    "start_time": "2023-09-22T08:41:21.293Z"
   },
   {
    "duration": 47,
    "start_time": "2023-09-22T08:41:21.499Z"
   },
   {
    "duration": 31,
    "start_time": "2023-09-22T08:41:55.703Z"
   },
   {
    "duration": 24,
    "start_time": "2023-09-22T08:41:59.449Z"
   },
   {
    "duration": 2959,
    "start_time": "2023-09-22T08:53:10.985Z"
   },
   {
    "duration": 2511,
    "start_time": "2023-09-22T08:53:37.012Z"
   },
   {
    "duration": 2465,
    "start_time": "2023-09-22T12:09:29.380Z"
   },
   {
    "duration": 2363,
    "start_time": "2023-09-22T12:09:31.848Z"
   },
   {
    "duration": 1615,
    "start_time": "2023-09-22T12:09:34.213Z"
   },
   {
    "duration": 126,
    "start_time": "2023-09-22T12:09:35.830Z"
   },
   {
    "duration": 12,
    "start_time": "2023-09-22T12:09:35.958Z"
   },
   {
    "duration": 15,
    "start_time": "2023-09-22T12:09:35.972Z"
   },
   {
    "duration": 240,
    "start_time": "2023-09-22T12:09:35.988Z"
   },
   {
    "duration": 339,
    "start_time": "2023-09-22T12:09:36.230Z"
   },
   {
    "duration": 296,
    "start_time": "2023-09-22T12:09:36.571Z"
   },
   {
    "duration": 247,
    "start_time": "2023-09-22T12:09:36.871Z"
   },
   {
    "duration": 227,
    "start_time": "2023-09-22T12:09:37.119Z"
   },
   {
    "duration": 212,
    "start_time": "2023-09-22T12:09:37.349Z"
   },
   {
    "duration": 206,
    "start_time": "2023-09-22T12:09:37.564Z"
   },
   {
    "duration": 256,
    "start_time": "2023-09-22T12:09:37.772Z"
   },
   {
    "duration": 130,
    "start_time": "2023-09-22T12:09:38.030Z"
   },
   {
    "duration": 242,
    "start_time": "2023-09-22T12:09:38.162Z"
   },
   {
    "duration": 177,
    "start_time": "2023-09-22T12:09:38.406Z"
   },
   {
    "duration": 243,
    "start_time": "2023-09-22T12:09:38.585Z"
   },
   {
    "duration": 3,
    "start_time": "2023-09-22T12:09:38.829Z"
   },
   {
    "duration": 11,
    "start_time": "2023-09-22T12:09:38.843Z"
   },
   {
    "duration": 11,
    "start_time": "2023-09-22T12:09:38.856Z"
   },
   {
    "duration": 14,
    "start_time": "2023-09-22T12:09:38.869Z"
   },
   {
    "duration": 7,
    "start_time": "2023-09-22T12:09:38.885Z"
   },
   {
    "duration": 17,
    "start_time": "2023-09-22T12:09:38.893Z"
   },
   {
    "duration": 20,
    "start_time": "2023-09-22T12:09:38.912Z"
   },
   {
    "duration": 28,
    "start_time": "2023-09-22T12:12:41.536Z"
   },
   {
    "duration": 37,
    "start_time": "2023-09-22T12:19:56.869Z"
   },
   {
    "duration": 29,
    "start_time": "2023-09-22T12:34:25.709Z"
   },
   {
    "duration": 31,
    "start_time": "2023-09-22T12:34:34.177Z"
   },
   {
    "duration": 6,
    "start_time": "2023-09-22T12:35:22.850Z"
   },
   {
    "duration": 29,
    "start_time": "2023-09-22T12:35:28.751Z"
   },
   {
    "duration": 7,
    "start_time": "2023-09-22T12:35:31.437Z"
   },
   {
    "duration": 6,
    "start_time": "2023-09-22T12:38:32.793Z"
   },
   {
    "duration": 6,
    "start_time": "2023-09-22T12:46:53.789Z"
   },
   {
    "duration": 3,
    "start_time": "2023-09-22T12:47:57.154Z"
   },
   {
    "duration": 5,
    "start_time": "2023-09-22T12:53:35.810Z"
   },
   {
    "duration": 9,
    "start_time": "2023-09-22T12:55:24.482Z"
   },
   {
    "duration": 23,
    "start_time": "2023-09-22T12:55:37.277Z"
   },
   {
    "duration": 13,
    "start_time": "2023-09-22T13:41:44.527Z"
   },
   {
    "duration": 11,
    "start_time": "2023-09-22T13:43:14.792Z"
   },
   {
    "duration": 22,
    "start_time": "2023-09-22T13:47:52.121Z"
   },
   {
    "duration": 110,
    "start_time": "2023-09-22T13:47:57.942Z"
   },
   {
    "duration": 1443,
    "start_time": "2023-09-22T13:48:05.093Z"
   },
   {
    "duration": 1725,
    "start_time": "2023-09-22T13:48:11.058Z"
   },
   {
    "duration": 7,
    "start_time": "2023-09-22T13:48:27.299Z"
   },
   {
    "duration": 5,
    "start_time": "2023-09-22T13:48:31.874Z"
   },
   {
    "duration": 98,
    "start_time": "2023-09-22T13:48:40.226Z"
   },
   {
    "duration": 181,
    "start_time": "2023-09-22T13:48:44.162Z"
   },
   {
    "duration": 350,
    "start_time": "2023-09-22T13:48:56.823Z"
   },
   {
    "duration": 102,
    "start_time": "2023-09-22T13:49:42.156Z"
   },
   {
    "duration": 218,
    "start_time": "2023-09-22T13:50:26.881Z"
   },
   {
    "duration": 18,
    "start_time": "2023-09-22T13:52:24.806Z"
   },
   {
    "duration": 4,
    "start_time": "2023-09-22T13:53:58.677Z"
   },
   {
    "duration": 19,
    "start_time": "2023-09-22T13:55:51.085Z"
   },
   {
    "duration": 7,
    "start_time": "2023-09-22T13:56:19.227Z"
   },
   {
    "duration": 2445,
    "start_time": "2023-09-22T13:56:53.803Z"
   },
   {
    "duration": 2323,
    "start_time": "2023-09-22T13:56:56.251Z"
   },
   {
    "duration": 4,
    "start_time": "2023-09-22T13:56:58.576Z"
   },
   {
    "duration": 68,
    "start_time": "2023-09-22T13:56:58.582Z"
   },
   {
    "duration": 13,
    "start_time": "2023-09-22T13:56:58.652Z"
   },
   {
    "duration": 24,
    "start_time": "2023-09-22T13:56:58.667Z"
   },
   {
    "duration": 225,
    "start_time": "2023-09-22T13:56:58.693Z"
   },
   {
    "duration": 341,
    "start_time": "2023-09-22T13:56:58.920Z"
   },
   {
    "duration": 207,
    "start_time": "2023-09-22T13:56:59.263Z"
   },
   {
    "duration": 229,
    "start_time": "2023-09-22T13:56:59.473Z"
   },
   {
    "duration": 222,
    "start_time": "2023-09-22T13:56:59.704Z"
   },
   {
    "duration": 157,
    "start_time": "2023-09-22T13:56:59.927Z"
   },
   {
    "duration": 208,
    "start_time": "2023-09-22T13:57:00.086Z"
   },
   {
    "duration": 266,
    "start_time": "2023-09-22T13:57:00.296Z"
   },
   {
    "duration": 133,
    "start_time": "2023-09-22T13:57:00.564Z"
   },
   {
    "duration": 164,
    "start_time": "2023-09-22T13:57:00.699Z"
   },
   {
    "duration": 172,
    "start_time": "2023-09-22T13:57:00.865Z"
   },
   {
    "duration": 245,
    "start_time": "2023-09-22T13:57:01.043Z"
   },
   {
    "duration": 3,
    "start_time": "2023-09-22T13:57:01.290Z"
   },
   {
    "duration": 171,
    "start_time": "2023-09-22T13:57:01.295Z"
   },
   {
    "duration": 120,
    "start_time": "2023-09-22T13:57:01.467Z"
   },
   {
    "duration": 71,
    "start_time": "2023-09-22T13:57:01.589Z"
   },
   {
    "duration": 101,
    "start_time": "2023-09-22T13:57:01.662Z"
   },
   {
    "duration": 33,
    "start_time": "2023-09-22T13:57:18.679Z"
   },
   {
    "duration": 11,
    "start_time": "2023-09-22T13:57:29.650Z"
   },
   {
    "duration": 6,
    "start_time": "2023-09-22T13:57:35.857Z"
   },
   {
    "duration": 23,
    "start_time": "2023-09-22T13:57:40.563Z"
   },
   {
    "duration": 16,
    "start_time": "2023-09-22T13:58:32.584Z"
   },
   {
    "duration": 10,
    "start_time": "2023-09-22T13:58:38.088Z"
   },
   {
    "duration": 6,
    "start_time": "2023-09-22T13:58:38.908Z"
   },
   {
    "duration": 5,
    "start_time": "2023-09-22T13:58:39.560Z"
   },
   {
    "duration": 23,
    "start_time": "2023-09-22T13:58:40.393Z"
   },
   {
    "duration": 41,
    "start_time": "2023-09-22T13:58:53.879Z"
   },
   {
    "duration": 12,
    "start_time": "2023-09-22T13:59:12.362Z"
   },
   {
    "duration": 7,
    "start_time": "2023-09-22T13:59:13.089Z"
   },
   {
    "duration": 5,
    "start_time": "2023-09-22T13:59:13.301Z"
   },
   {
    "duration": 32,
    "start_time": "2023-09-22T13:59:14.036Z"
   },
   {
    "duration": 6,
    "start_time": "2023-09-22T13:59:19.870Z"
   },
   {
    "duration": 4,
    "start_time": "2023-09-22T13:59:26.723Z"
   },
   {
    "duration": 5,
    "start_time": "2023-09-22T13:59:32.219Z"
   },
   {
    "duration": 642,
    "start_time": "2023-09-22T13:59:33.802Z"
   },
   {
    "duration": 307,
    "start_time": "2023-09-22T14:00:19.741Z"
   },
   {
    "duration": 4,
    "start_time": "2023-09-22T14:00:44.783Z"
   },
   {
    "duration": 209,
    "start_time": "2023-09-22T14:00:44.956Z"
   },
   {
    "duration": 5,
    "start_time": "2023-09-22T14:00:50.143Z"
   },
   {
    "duration": 150,
    "start_time": "2023-09-22T14:00:50.211Z"
   },
   {
    "duration": 6,
    "start_time": "2023-09-22T14:00:54.351Z"
   },
   {
    "duration": 472,
    "start_time": "2023-09-22T14:00:54.486Z"
   },
   {
    "duration": 4,
    "start_time": "2023-09-22T14:00:58.856Z"
   },
   {
    "duration": 54,
    "start_time": "2023-09-22T14:00:59.010Z"
   },
   {
    "duration": 4,
    "start_time": "2023-09-22T14:01:03.287Z"
   },
   {
    "duration": 194,
    "start_time": "2023-09-22T14:01:03.466Z"
   },
   {
    "duration": 4,
    "start_time": "2023-09-22T14:01:09.883Z"
   },
   {
    "duration": 174,
    "start_time": "2023-09-22T14:01:10.174Z"
   },
   {
    "duration": 4,
    "start_time": "2023-09-22T14:01:14.068Z"
   },
   {
    "duration": 132,
    "start_time": "2023-09-22T14:01:14.231Z"
   },
   {
    "duration": 5,
    "start_time": "2023-09-22T14:01:19.261Z"
   },
   {
    "duration": 146,
    "start_time": "2023-09-22T14:01:19.423Z"
   },
   {
    "duration": 5,
    "start_time": "2023-09-22T14:01:26.266Z"
   },
   {
    "duration": 361,
    "start_time": "2023-09-22T14:01:26.404Z"
   },
   {
    "duration": 4,
    "start_time": "2023-09-22T14:02:51.796Z"
   },
   {
    "duration": 5,
    "start_time": "2023-09-22T14:02:53.476Z"
   },
   {
    "duration": 326,
    "start_time": "2023-09-22T14:02:56.031Z"
   },
   {
    "duration": 4,
    "start_time": "2023-09-22T14:10:26.785Z"
   },
   {
    "duration": 117,
    "start_time": "2023-09-22T14:10:27.033Z"
   },
   {
    "duration": 5,
    "start_time": "2023-09-22T14:10:33.275Z"
   },
   {
    "duration": 256,
    "start_time": "2023-09-22T14:10:34.202Z"
   },
   {
    "duration": 273514,
    "start_time": "2023-09-22T14:13:42.033Z"
   },
   {
    "duration": 13934,
    "start_time": "2023-09-22T14:18:58.983Z"
   },
   {
    "duration": 13093,
    "start_time": "2023-09-22T14:20:09.447Z"
   },
   {
    "duration": 37243,
    "start_time": "2023-09-22T14:21:03.011Z"
   },
   {
    "duration": 4,
    "start_time": "2023-09-22T14:22:06.748Z"
   },
   {
    "duration": 76308,
    "start_time": "2023-09-22T14:23:00.365Z"
   },
   {
    "duration": 0,
    "start_time": "2023-09-22T14:25:10.369Z"
   },
   {
    "duration": 71,
    "start_time": "2023-09-22T14:25:12.116Z"
   },
   {
    "duration": 4,
    "start_time": "2023-09-22T14:25:28.494Z"
   },
   {
    "duration": 688,
    "start_time": "2023-09-22T14:25:32.463Z"
   },
   {
    "duration": 18317,
    "start_time": "2023-09-22T14:25:38.540Z"
   },
   {
    "duration": 59,
    "start_time": "2023-09-22T14:25:56.859Z"
   },
   {
    "duration": 88,
    "start_time": "2023-09-22T14:26:56.108Z"
   },
   {
    "duration": 87,
    "start_time": "2023-09-22T14:26:59.784Z"
   },
   {
    "duration": 96,
    "start_time": "2023-09-22T14:27:02.640Z"
   },
   {
    "duration": 135,
    "start_time": "2023-09-22T14:27:05.480Z"
   },
   {
    "duration": 106,
    "start_time": "2023-09-22T14:27:08.899Z"
   },
   {
    "duration": 129,
    "start_time": "2023-09-22T14:27:13.714Z"
   },
   {
    "duration": 134,
    "start_time": "2023-09-22T14:27:18.297Z"
   },
   {
    "duration": 138,
    "start_time": "2023-09-22T14:27:24.611Z"
   },
   {
    "duration": 97,
    "start_time": "2023-09-22T14:27:31.272Z"
   },
   {
    "duration": 80,
    "start_time": "2023-09-22T14:27:35.561Z"
   },
   {
    "duration": 77,
    "start_time": "2023-09-22T14:27:38.858Z"
   },
   {
    "duration": 4,
    "start_time": "2023-09-22T14:29:04.223Z"
   },
   {
    "duration": 6683,
    "start_time": "2023-09-22T14:29:41.448Z"
   },
   {
    "duration": 8,
    "start_time": "2023-09-22T15:02:24.200Z"
   },
   {
    "duration": 25,
    "start_time": "2023-09-22T15:02:35.781Z"
   },
   {
    "duration": 22,
    "start_time": "2023-09-22T15:02:42.100Z"
   },
   {
    "duration": 35,
    "start_time": "2023-09-22T15:03:04.629Z"
   },
   {
    "duration": 2441,
    "start_time": "2023-09-22T15:03:12.597Z"
   },
   {
    "duration": 2283,
    "start_time": "2023-09-22T15:03:15.041Z"
   },
   {
    "duration": 6,
    "start_time": "2023-09-22T15:03:17.326Z"
   },
   {
    "duration": 58,
    "start_time": "2023-09-22T15:03:17.335Z"
   },
   {
    "duration": 11,
    "start_time": "2023-09-22T15:03:17.395Z"
   },
   {
    "duration": 14,
    "start_time": "2023-09-22T15:03:17.408Z"
   },
   {
    "duration": 239,
    "start_time": "2023-09-22T15:03:17.424Z"
   },
   {
    "duration": 322,
    "start_time": "2023-09-22T15:03:17.665Z"
   },
   {
    "duration": 223,
    "start_time": "2023-09-22T15:03:17.988Z"
   },
   {
    "duration": 242,
    "start_time": "2023-09-22T15:03:18.215Z"
   },
   {
    "duration": 228,
    "start_time": "2023-09-22T15:03:18.460Z"
   },
   {
    "duration": 178,
    "start_time": "2023-09-22T15:03:18.690Z"
   },
   {
    "duration": 215,
    "start_time": "2023-09-22T15:03:18.870Z"
   },
   {
    "duration": 265,
    "start_time": "2023-09-22T15:03:19.086Z"
   },
   {
    "duration": 462,
    "start_time": "2023-09-22T15:03:19.353Z"
   },
   {
    "duration": 146,
    "start_time": "2023-09-22T15:03:19.818Z"
   },
   {
    "duration": 156,
    "start_time": "2023-09-22T15:03:19.965Z"
   },
   {
    "duration": 241,
    "start_time": "2023-09-22T15:03:20.123Z"
   },
   {
    "duration": 3,
    "start_time": "2023-09-22T15:03:20.366Z"
   },
   {
    "duration": 23,
    "start_time": "2023-09-22T15:03:20.371Z"
   },
   {
    "duration": 18,
    "start_time": "2023-09-22T15:03:20.396Z"
   },
   {
    "duration": 32,
    "start_time": "2023-09-22T15:03:20.415Z"
   },
   {
    "duration": 32,
    "start_time": "2023-09-22T15:03:20.449Z"
   },
   {
    "duration": 17,
    "start_time": "2023-09-22T15:03:20.483Z"
   },
   {
    "duration": 7,
    "start_time": "2023-09-22T15:03:34.148Z"
   },
   {
    "duration": 9,
    "start_time": "2023-09-22T15:03:34.344Z"
   },
   {
    "duration": 11,
    "start_time": "2023-09-22T15:03:42.119Z"
   },
   {
    "duration": 193,
    "start_time": "2023-09-22T15:41:09.460Z"
   },
   {
    "duration": 267387,
    "start_time": "2023-09-22T15:41:30.868Z"
   },
   {
    "duration": 3520,
    "start_time": "2023-09-22T15:46:36.636Z"
   },
   {
    "duration": 22290,
    "start_time": "2023-09-22T15:47:11.659Z"
   },
   {
    "duration": 15339,
    "start_time": "2023-09-22T15:48:32.014Z"
   },
   {
    "duration": 3,
    "start_time": "2023-09-22T15:50:40.386Z"
   },
   {
    "duration": 14539,
    "start_time": "2023-09-22T15:50:41.514Z"
   },
   {
    "duration": 16368,
    "start_time": "2023-09-22T15:51:38.980Z"
   },
   {
    "duration": 14588,
    "start_time": "2023-09-22T15:52:40.960Z"
   },
   {
    "duration": 287492,
    "start_time": "2023-09-22T15:53:23.959Z"
   },
   {
    "duration": 5,
    "start_time": "2023-09-22T15:58:52.668Z"
   },
   {
    "duration": 8,
    "start_time": "2023-09-22T15:59:29.702Z"
   },
   {
    "duration": 11,
    "start_time": "2023-09-22T15:59:50.095Z"
   },
   {
    "duration": 15,
    "start_time": "2023-09-22T16:05:04.822Z"
   },
   {
    "duration": 46,
    "start_time": "2023-09-22T16:05:10.243Z"
   },
   {
    "duration": 575988,
    "start_time": "2023-09-22T16:19:44.912Z"
   },
   {
    "duration": 579009,
    "start_time": "2023-09-22T16:34:03.991Z"
   },
   {
    "duration": 13,
    "start_time": "2023-09-22T16:45:50.870Z"
   },
   {
    "duration": 10,
    "start_time": "2023-09-22T16:46:18.759Z"
   },
   {
    "duration": 13,
    "start_time": "2023-09-22T16:46:27.231Z"
   },
   {
    "duration": 44819348,
    "start_time": "2023-09-22T17:05:27.359Z"
   },
   {
    "duration": 2260082,
    "start_time": "2023-09-23T05:33:34.575Z"
   },
   {
    "duration": 12,
    "start_time": "2023-09-23T06:15:49.872Z"
   },
   {
    "duration": 33,
    "start_time": "2023-09-23T06:15:58.812Z"
   },
   {
    "duration": 30,
    "start_time": "2023-09-23T06:16:58.709Z"
   },
   {
    "duration": 2206,
    "start_time": "2023-09-23T06:18:09.578Z"
   },
   {
    "duration": 2235,
    "start_time": "2023-09-23T06:18:11.787Z"
   },
   {
    "duration": 5,
    "start_time": "2023-09-23T06:18:14.024Z"
   },
   {
    "duration": 62,
    "start_time": "2023-09-23T06:18:14.031Z"
   },
   {
    "duration": 10,
    "start_time": "2023-09-23T06:18:14.094Z"
   },
   {
    "duration": 12,
    "start_time": "2023-09-23T06:18:14.106Z"
   },
   {
    "duration": 206,
    "start_time": "2023-09-23T06:18:14.120Z"
   },
   {
    "duration": 649,
    "start_time": "2023-09-23T06:18:14.327Z"
   },
   {
    "duration": 197,
    "start_time": "2023-09-23T06:18:14.978Z"
   },
   {
    "duration": 212,
    "start_time": "2023-09-23T06:18:15.178Z"
   },
   {
    "duration": 200,
    "start_time": "2023-09-23T06:18:15.392Z"
   },
   {
    "duration": 155,
    "start_time": "2023-09-23T06:18:15.594Z"
   },
   {
    "duration": 189,
    "start_time": "2023-09-23T06:18:15.751Z"
   },
   {
    "duration": 246,
    "start_time": "2023-09-23T06:18:15.944Z"
   },
   {
    "duration": 126,
    "start_time": "2023-09-23T06:18:16.191Z"
   },
   {
    "duration": 158,
    "start_time": "2023-09-23T06:18:16.319Z"
   },
   {
    "duration": 138,
    "start_time": "2023-09-23T06:18:16.479Z"
   },
   {
    "duration": 225,
    "start_time": "2023-09-23T06:18:16.619Z"
   },
   {
    "duration": 2,
    "start_time": "2023-09-23T06:18:16.845Z"
   },
   {
    "duration": 19,
    "start_time": "2023-09-23T06:18:16.849Z"
   },
   {
    "duration": 24,
    "start_time": "2023-09-23T06:18:16.870Z"
   },
   {
    "duration": 20,
    "start_time": "2023-09-23T06:18:16.896Z"
   },
   {
    "duration": 14,
    "start_time": "2023-09-23T06:18:16.918Z"
   },
   {
    "duration": 5,
    "start_time": "2023-09-23T06:18:16.934Z"
   },
   {
    "duration": 21,
    "start_time": "2023-09-23T06:18:16.941Z"
   },
   {
    "duration": 16,
    "start_time": "2023-09-23T06:18:16.963Z"
   },
   {
    "duration": 9,
    "start_time": "2023-09-23T06:19:27.291Z"
   },
   {
    "duration": 10,
    "start_time": "2023-09-23T06:20:06.472Z"
   },
   {
    "duration": 10,
    "start_time": "2023-09-23T06:20:13.436Z"
   },
   {
    "duration": 164103,
    "start_time": "2023-09-23T06:20:44.849Z"
   },
   {
    "duration": 27,
    "start_time": "2023-09-23T06:23:42.176Z"
   },
   {
    "duration": 8,
    "start_time": "2023-09-23T06:23:50.145Z"
   },
   {
    "duration": 33,
    "start_time": "2023-09-23T06:23:55.154Z"
   },
   {
    "duration": 4699,
    "start_time": "2023-09-23T06:24:54.758Z"
   },
   {
    "duration": 6,
    "start_time": "2023-09-23T06:25:02.030Z"
   },
   {
    "duration": 30,
    "start_time": "2023-09-23T06:25:05.144Z"
   },
   {
    "duration": 8,
    "start_time": "2023-09-23T06:25:09.927Z"
   },
   {
    "duration": 42059,
    "start_time": "2023-09-23T06:25:17.092Z"
   },
   {
    "duration": 1845,
    "start_time": "2023-09-23T06:26:05.822Z"
   },
   {
    "duration": 10,
    "start_time": "2023-09-23T06:26:12.116Z"
   },
   {
    "duration": 8,
    "start_time": "2023-09-23T06:26:12.828Z"
   },
   {
    "duration": 9,
    "start_time": "2023-09-23T06:26:13.323Z"
   },
   {
    "duration": 16212,
    "start_time": "2023-09-23T06:26:21.132Z"
   },
   {
    "duration": 11,
    "start_time": "2023-09-23T06:26:40.873Z"
   },
   {
    "duration": 9,
    "start_time": "2023-09-23T06:26:41.812Z"
   },
   {
    "duration": 9,
    "start_time": "2023-09-23T06:26:42.718Z"
   },
   {
    "duration": 9,
    "start_time": "2023-09-23T06:26:43.398Z"
   },
   {
    "duration": 9,
    "start_time": "2023-09-23T06:26:44.150Z"
   },
   {
    "duration": 181211,
    "start_time": "2023-09-23T06:27:13.136Z"
   },
   {
    "duration": 6,
    "start_time": "2023-09-23T06:31:06.351Z"
   },
   {
    "duration": 5,
    "start_time": "2023-09-23T06:32:02.062Z"
   },
   {
    "duration": 9,
    "start_time": "2023-09-23T06:32:31.799Z"
   },
   {
    "duration": 8,
    "start_time": "2023-09-23T06:32:45.201Z"
   },
   {
    "duration": 357256,
    "start_time": "2023-09-23T06:34:06.768Z"
   },
   {
    "duration": 9,
    "start_time": "2023-09-23T06:40:55.191Z"
   },
   {
    "duration": 8,
    "start_time": "2023-09-23T06:41:55.307Z"
   },
   {
    "duration": 9,
    "start_time": "2023-09-23T06:42:01.436Z"
   },
   {
    "duration": 16,
    "start_time": "2023-09-23T06:42:27.329Z"
   },
   {
    "duration": 24,
    "start_time": "2023-09-23T06:42:28.125Z"
   },
   {
    "duration": 17,
    "start_time": "2023-09-23T06:42:50.038Z"
   },
   {
    "duration": 22,
    "start_time": "2023-09-23T06:42:51.289Z"
   },
   {
    "duration": 10,
    "start_time": "2023-09-23T06:45:52.796Z"
   },
   {
    "duration": 11,
    "start_time": "2023-09-23T06:49:56.452Z"
   },
   {
    "duration": 6385,
    "start_time": "2023-09-23T06:50:14.719Z"
   },
   {
    "duration": 169,
    "start_time": "2023-09-23T06:50:21.106Z"
   },
   {
    "duration": 3,
    "start_time": "2023-09-23T06:50:31.805Z"
   },
   {
    "duration": 5,
    "start_time": "2023-09-23T06:50:32.586Z"
   },
   {
    "duration": 204,
    "start_time": "2023-09-23T07:01:09.554Z"
   },
   {
    "duration": 4,
    "start_time": "2023-09-23T07:02:55.748Z"
   },
   {
    "duration": 5,
    "start_time": "2023-09-23T07:03:42.541Z"
   },
   {
    "duration": 37,
    "start_time": "2023-09-23T07:03:52.472Z"
   },
   {
    "duration": 3,
    "start_time": "2023-09-23T07:04:18.421Z"
   },
   {
    "duration": 15,
    "start_time": "2023-09-23T07:05:19.281Z"
   },
   {
    "duration": 13,
    "start_time": "2023-09-23T07:05:25.811Z"
   },
   {
    "duration": 3,
    "start_time": "2023-09-23T07:06:02.068Z"
   },
   {
    "duration": 13,
    "start_time": "2023-09-23T07:06:16.767Z"
   },
   {
    "duration": 253177,
    "start_time": "2023-09-23T07:06:39.688Z"
   },
   {
    "duration": 3,
    "start_time": "2023-09-23T07:12:59.723Z"
   },
   {
    "duration": 13,
    "start_time": "2023-09-23T07:13:09.246Z"
   },
   {
    "duration": 4,
    "start_time": "2023-09-23T07:13:29.515Z"
   },
   {
    "duration": 1353713,
    "start_time": "2023-09-23T07:17:31.831Z"
   },
   {
    "duration": 0,
    "start_time": "2023-09-23T07:40:05.547Z"
   },
   {
    "duration": 3,
    "start_time": "2023-09-23T07:40:31.774Z"
   },
   {
    "duration": 224414,
    "start_time": "2023-09-23T07:40:37.791Z"
   },
   {
    "duration": 24,
    "start_time": "2023-09-23T08:05:02.153Z"
   },
   {
    "duration": 263377,
    "start_time": "2023-09-23T08:08:18.091Z"
   },
   {
    "duration": 3,
    "start_time": "2023-09-23T08:12:41.470Z"
   },
   {
    "duration": 5,
    "start_time": "2023-09-23T08:13:24.543Z"
   },
   {
    "duration": 2,
    "start_time": "2023-09-23T08:13:25.329Z"
   },
   {
    "duration": 4,
    "start_time": "2023-09-23T08:13:40.786Z"
   },
   {
    "duration": 178797,
    "start_time": "2023-09-23T08:15:24.850Z"
   },
   {
    "duration": 12,
    "start_time": "2023-09-23T08:19:59.047Z"
   },
   {
    "duration": 10,
    "start_time": "2023-09-23T08:20:14.753Z"
   },
   {
    "duration": 9,
    "start_time": "2023-09-23T08:22:20.406Z"
   },
   {
    "duration": 9,
    "start_time": "2023-09-23T08:22:26.193Z"
   },
   {
    "duration": 9,
    "start_time": "2023-09-23T08:22:44.849Z"
   },
   {
    "duration": 11,
    "start_time": "2023-09-23T08:23:21.360Z"
   },
   {
    "duration": 10,
    "start_time": "2023-09-23T08:23:37.970Z"
   },
   {
    "duration": 17,
    "start_time": "2023-09-23T08:24:35.612Z"
   },
   {
    "duration": 23,
    "start_time": "2023-09-23T08:24:42.790Z"
   },
   {
    "duration": 22,
    "start_time": "2023-09-23T08:24:50.218Z"
   },
   {
    "duration": 6,
    "start_time": "2023-09-23T08:25:13.885Z"
   },
   {
    "duration": 3,
    "start_time": "2023-09-23T08:27:37.596Z"
   },
   {
    "duration": 3,
    "start_time": "2023-09-23T08:27:46.016Z"
   },
   {
    "duration": 4,
    "start_time": "2023-09-23T08:27:50.981Z"
   },
   {
    "duration": 4,
    "start_time": "2023-09-23T08:27:54.230Z"
   },
   {
    "duration": 4,
    "start_time": "2023-09-23T08:27:54.709Z"
   },
   {
    "duration": 9,
    "start_time": "2023-09-23T08:32:00.541Z"
   },
   {
    "duration": 9,
    "start_time": "2023-09-23T08:32:31.685Z"
   },
   {
    "duration": 9,
    "start_time": "2023-09-23T09:41:50.946Z"
   },
   {
    "duration": 22,
    "start_time": "2023-09-23T09:42:04.811Z"
   },
   {
    "duration": 10,
    "start_time": "2023-09-23T09:43:31.565Z"
   },
   {
    "duration": 50,
    "start_time": "2023-09-23T09:44:00.596Z"
   },
   {
    "duration": 49,
    "start_time": "2023-09-23T09:44:31.611Z"
   },
   {
    "duration": 122,
    "start_time": "2023-09-23T09:52:27.824Z"
   },
   {
    "duration": 27,
    "start_time": "2023-09-23T09:53:01.112Z"
   },
   {
    "duration": 65,
    "start_time": "2023-09-23T09:53:38.783Z"
   },
   {
    "duration": 111,
    "start_time": "2023-09-23T09:58:24.340Z"
   },
   {
    "duration": 19,
    "start_time": "2023-09-23T10:00:03.442Z"
   },
   {
    "duration": 30,
    "start_time": "2023-09-23T10:01:52.223Z"
   },
   {
    "duration": 4,
    "start_time": "2023-09-23T10:04:07.123Z"
   },
   {
    "duration": 4,
    "start_time": "2023-09-23T10:04:22.871Z"
   },
   {
    "duration": 102,
    "start_time": "2023-09-23T10:05:03.682Z"
   },
   {
    "duration": 5248,
    "start_time": "2023-09-23T10:05:37.610Z"
   },
   {
    "duration": 23,
    "start_time": "2023-09-23T10:05:57.444Z"
   },
   {
    "duration": 4,
    "start_time": "2023-09-23T10:09:18.884Z"
   },
   {
    "duration": 20,
    "start_time": "2023-09-23T10:09:30.303Z"
   },
   {
    "duration": 22,
    "start_time": "2023-09-23T10:09:33.660Z"
   },
   {
    "duration": 21,
    "start_time": "2023-09-23T10:09:43.304Z"
   },
   {
    "duration": 23,
    "start_time": "2023-09-23T10:09:47.093Z"
   },
   {
    "duration": 24,
    "start_time": "2023-09-23T10:10:03.734Z"
   },
   {
    "duration": 24,
    "start_time": "2023-09-23T10:10:07.709Z"
   },
   {
    "duration": 19,
    "start_time": "2023-09-23T10:10:14.334Z"
   },
   {
    "duration": 30,
    "start_time": "2023-09-23T10:10:15.449Z"
   },
   {
    "duration": 5599,
    "start_time": "2023-09-23T10:10:29.375Z"
   },
   {
    "duration": 126706,
    "start_time": "2023-09-23T10:11:59.767Z"
   },
   {
    "duration": 6,
    "start_time": "2023-09-23T10:19:21.913Z"
   },
   {
    "duration": 7,
    "start_time": "2023-09-23T10:19:33.231Z"
   },
   {
    "duration": 5,
    "start_time": "2023-09-23T10:20:16.471Z"
   },
   {
    "duration": 13,
    "start_time": "2023-09-23T10:21:19.885Z"
   },
   {
    "duration": 6,
    "start_time": "2023-09-23T10:21:25.633Z"
   },
   {
    "duration": 5,
    "start_time": "2023-09-23T10:22:25.908Z"
   },
   {
    "duration": 197,
    "start_time": "2023-09-23T10:30:46.946Z"
   },
   {
    "duration": 11,
    "start_time": "2023-09-23T10:30:59.891Z"
   },
   {
    "duration": 178,
    "start_time": "2023-09-23T10:31:28.287Z"
   },
   {
    "duration": 172,
    "start_time": "2023-09-23T10:31:33.871Z"
   },
   {
    "duration": 168,
    "start_time": "2023-09-23T10:31:40.489Z"
   },
   {
    "duration": 168,
    "start_time": "2023-09-23T10:31:56.563Z"
   },
   {
    "duration": 178,
    "start_time": "2023-09-23T10:32:06.844Z"
   },
   {
    "duration": 174,
    "start_time": "2023-09-23T10:32:23.863Z"
   },
   {
    "duration": 180,
    "start_time": "2023-09-23T10:32:28.742Z"
   },
   {
    "duration": 664,
    "start_time": "2023-09-23T10:32:31.642Z"
   },
   {
    "duration": 173,
    "start_time": "2023-09-23T10:32:46.365Z"
   },
   {
    "duration": 4,
    "start_time": "2023-09-23T10:33:47.578Z"
   },
   {
    "duration": 3,
    "start_time": "2023-09-23T10:43:43.655Z"
   },
   {
    "duration": 4,
    "start_time": "2023-09-23T10:44:13.005Z"
   },
   {
    "duration": 5,
    "start_time": "2023-09-23T10:45:21.480Z"
   },
   {
    "duration": 7,
    "start_time": "2023-09-23T10:45:27.422Z"
   },
   {
    "duration": 8,
    "start_time": "2023-09-23T10:45:54.473Z"
   },
   {
    "duration": 4,
    "start_time": "2023-09-23T10:46:02.149Z"
   },
   {
    "duration": 6,
    "start_time": "2023-09-23T10:46:08.013Z"
   },
   {
    "duration": 9,
    "start_time": "2023-09-23T10:46:10.239Z"
   },
   {
    "duration": 6,
    "start_time": "2023-09-23T10:46:13.433Z"
   },
   {
    "duration": 187,
    "start_time": "2023-09-23T10:46:49.739Z"
   },
   {
    "duration": 4,
    "start_time": "2023-09-23T10:47:05.269Z"
   },
   {
    "duration": 4,
    "start_time": "2023-09-23T10:47:10.150Z"
   },
   {
    "duration": 5,
    "start_time": "2023-09-23T10:47:38.392Z"
   },
   {
    "duration": 7,
    "start_time": "2023-09-23T10:47:52.459Z"
   },
   {
    "duration": 6,
    "start_time": "2023-09-23T10:47:59.351Z"
   },
   {
    "duration": 7,
    "start_time": "2023-09-23T10:48:02.437Z"
   },
   {
    "duration": 85,
    "start_time": "2023-09-23T10:48:22.205Z"
   },
   {
    "duration": 6,
    "start_time": "2023-09-23T10:48:24.768Z"
   },
   {
    "duration": 7,
    "start_time": "2023-09-23T10:48:29.894Z"
   },
   {
    "duration": 6,
    "start_time": "2023-09-23T10:48:56.538Z"
   },
   {
    "duration": 5,
    "start_time": "2023-09-23T10:49:20.036Z"
   },
   {
    "duration": 5,
    "start_time": "2023-09-23T10:52:47.729Z"
   },
   {
    "duration": 5,
    "start_time": "2023-09-23T10:53:01.692Z"
   },
   {
    "duration": 5,
    "start_time": "2023-09-23T10:53:04.862Z"
   },
   {
    "duration": 4,
    "start_time": "2023-09-23T10:53:09.555Z"
   },
   {
    "duration": 4,
    "start_time": "2023-09-23T10:54:09.678Z"
   },
   {
    "duration": 95,
    "start_time": "2023-09-23T10:54:10.464Z"
   },
   {
    "duration": 4,
    "start_time": "2023-09-23T10:54:16.755Z"
   },
   {
    "duration": 4,
    "start_time": "2023-09-23T10:57:57.720Z"
   },
   {
    "duration": 29,
    "start_time": "2023-09-23T10:59:14.058Z"
   },
   {
    "duration": 5,
    "start_time": "2023-09-23T11:00:21.216Z"
   },
   {
    "duration": 5,
    "start_time": "2023-09-23T11:00:35.632Z"
   },
   {
    "duration": 4,
    "start_time": "2023-09-23T11:00:38.453Z"
   },
   {
    "duration": 21,
    "start_time": "2023-09-23T11:00:40.476Z"
   },
   {
    "duration": 21,
    "start_time": "2023-09-23T11:00:52.613Z"
   },
   {
    "duration": 4,
    "start_time": "2023-09-23T11:01:00.473Z"
   },
   {
    "duration": 9,
    "start_time": "2023-09-23T11:01:01.030Z"
   },
   {
    "duration": 152,
    "start_time": "2023-09-23T11:02:25.763Z"
   },
   {
    "duration": 158,
    "start_time": "2023-09-23T11:02:50.385Z"
   },
   {
    "duration": 157,
    "start_time": "2023-09-23T11:03:04.183Z"
   },
   {
    "duration": 159,
    "start_time": "2023-09-23T11:03:19.645Z"
   },
   {
    "duration": 154,
    "start_time": "2023-09-23T11:03:39.679Z"
   },
   {
    "duration": 5,
    "start_time": "2023-09-23T11:04:36.112Z"
   },
   {
    "duration": 5,
    "start_time": "2023-09-23T11:04:57.906Z"
   },
   {
    "duration": 5,
    "start_time": "2023-09-23T11:05:01.024Z"
   },
   {
    "duration": 5,
    "start_time": "2023-09-23T11:05:12.540Z"
   },
   {
    "duration": 4,
    "start_time": "2023-09-23T11:06:12.154Z"
   },
   {
    "duration": 15,
    "start_time": "2023-09-23T11:06:46.793Z"
   },
   {
    "duration": 6,
    "start_time": "2023-09-23T11:09:48.438Z"
   },
   {
    "duration": 6,
    "start_time": "2023-09-23T11:09:56.302Z"
   },
   {
    "duration": 6,
    "start_time": "2023-09-23T11:10:22.474Z"
   },
   {
    "duration": 7,
    "start_time": "2023-09-23T11:10:40.498Z"
   },
   {
    "duration": 4,
    "start_time": "2023-09-23T11:11:43.756Z"
   },
   {
    "duration": 4,
    "start_time": "2023-09-23T11:12:54.133Z"
   },
   {
    "duration": 94,
    "start_time": "2023-09-23T11:14:21.300Z"
   },
   {
    "duration": 76,
    "start_time": "2023-09-23T11:14:24.449Z"
   },
   {
    "duration": 6,
    "start_time": "2023-09-23T11:14:27.523Z"
   },
   {
    "duration": 4,
    "start_time": "2023-09-23T11:15:38.484Z"
   },
   {
    "duration": 3,
    "start_time": "2023-09-23T11:15:55.918Z"
   },
   {
    "duration": 5,
    "start_time": "2023-09-23T11:16:02.290Z"
   },
   {
    "duration": 9,
    "start_time": "2023-09-23T11:16:08.734Z"
   },
   {
    "duration": 3,
    "start_time": "2023-09-23T11:17:06.833Z"
   },
   {
    "duration": 11,
    "start_time": "2023-09-23T11:17:11.341Z"
   },
   {
    "duration": 5,
    "start_time": "2023-09-23T11:17:53.146Z"
   },
   {
    "duration": 13,
    "start_time": "2023-09-23T11:18:18.516Z"
   },
   {
    "duration": 14,
    "start_time": "2023-09-23T11:19:39.887Z"
   },
   {
    "duration": 9,
    "start_time": "2023-09-23T11:20:05.372Z"
   },
   {
    "duration": 5,
    "start_time": "2023-09-23T11:20:50.794Z"
   },
   {
    "duration": 18,
    "start_time": "2023-09-23T11:30:52.027Z"
   },
   {
    "duration": 16,
    "start_time": "2023-09-23T11:31:30.181Z"
   },
   {
    "duration": 10,
    "start_time": "2023-09-23T13:07:40.549Z"
   },
   {
    "duration": 2982,
    "start_time": "2023-09-23T15:46:48.614Z"
   },
   {
    "duration": 2603,
    "start_time": "2023-09-23T15:46:51.599Z"
   },
   {
    "duration": 6960,
    "start_time": "2023-09-23T15:46:54.204Z"
   },
   {
    "duration": 2382,
    "start_time": "2023-09-23T15:47:01.166Z"
   },
   {
    "duration": 130,
    "start_time": "2023-09-23T15:47:03.551Z"
   },
   {
    "duration": 12,
    "start_time": "2023-09-23T15:47:03.683Z"
   },
   {
    "duration": 23,
    "start_time": "2023-09-23T15:47:03.697Z"
   },
   {
    "duration": 275,
    "start_time": "2023-09-23T15:47:03.721Z"
   },
   {
    "duration": 553,
    "start_time": "2023-09-23T15:47:03.998Z"
   },
   {
    "duration": 247,
    "start_time": "2023-09-23T15:47:04.553Z"
   },
   {
    "duration": 288,
    "start_time": "2023-09-23T15:47:04.802Z"
   },
   {
    "duration": 335,
    "start_time": "2023-09-23T15:47:05.092Z"
   },
   {
    "duration": 207,
    "start_time": "2023-09-23T15:47:05.430Z"
   },
   {
    "duration": 280,
    "start_time": "2023-09-23T15:47:05.641Z"
   },
   {
    "duration": 336,
    "start_time": "2023-09-23T15:47:05.924Z"
   },
   {
    "duration": 153,
    "start_time": "2023-09-23T15:47:06.262Z"
   },
   {
    "duration": 188,
    "start_time": "2023-09-23T15:47:06.417Z"
   },
   {
    "duration": 195,
    "start_time": "2023-09-23T15:47:06.607Z"
   },
   {
    "duration": 323,
    "start_time": "2023-09-23T15:47:06.804Z"
   },
   {
    "duration": 4,
    "start_time": "2023-09-23T15:47:07.129Z"
   },
   {
    "duration": 13,
    "start_time": "2023-09-23T15:47:07.135Z"
   },
   {
    "duration": 473,
    "start_time": "2023-09-23T15:49:09.982Z"
   },
   {
    "duration": 21,
    "start_time": "2023-09-23T15:49:18.609Z"
   },
   {
    "duration": 13,
    "start_time": "2023-09-23T15:49:28.583Z"
   },
   {
    "duration": 8,
    "start_time": "2023-09-23T15:49:44.387Z"
   },
   {
    "duration": 6,
    "start_time": "2023-09-23T15:50:07.189Z"
   },
   {
    "duration": 6,
    "start_time": "2023-09-23T15:54:23.542Z"
   },
   {
    "duration": 5,
    "start_time": "2023-09-23T15:55:07.946Z"
   },
   {
    "duration": 5,
    "start_time": "2023-09-23T15:55:09.327Z"
   },
   {
    "duration": 9,
    "start_time": "2023-09-23T15:55:14.058Z"
   },
   {
    "duration": 206,
    "start_time": "2023-09-23T15:55:26.828Z"
   },
   {
    "duration": 8,
    "start_time": "2023-09-23T15:55:56.474Z"
   },
   {
    "duration": 208,
    "start_time": "2023-09-23T15:56:41.305Z"
   },
   {
    "duration": 5,
    "start_time": "2023-09-23T15:56:59.141Z"
   },
   {
    "duration": 168,
    "start_time": "2023-09-23T15:57:13.435Z"
   },
   {
    "duration": 6,
    "start_time": "2023-09-23T15:57:23.198Z"
   },
   {
    "duration": 7,
    "start_time": "2023-09-23T15:57:46.469Z"
   },
   {
    "duration": 13,
    "start_time": "2023-09-23T15:57:54.554Z"
   },
   {
    "duration": 22,
    "start_time": "2023-09-23T15:58:12.799Z"
   },
   {
    "duration": 9,
    "start_time": "2023-09-23T15:58:25.508Z"
   },
   {
    "duration": 11,
    "start_time": "2023-09-23T16:01:39.898Z"
   },
   {
    "duration": 16,
    "start_time": "2023-09-23T16:02:23.860Z"
   },
   {
    "duration": 8,
    "start_time": "2023-09-23T16:03:17.160Z"
   },
   {
    "duration": 7,
    "start_time": "2023-09-23T16:03:56.562Z"
   },
   {
    "duration": 2440,
    "start_time": "2023-09-24T05:54:31.112Z"
   },
   {
    "duration": 2443,
    "start_time": "2023-09-24T05:54:33.555Z"
   },
   {
    "duration": 2383,
    "start_time": "2023-09-24T05:54:36.000Z"
   },
   {
    "duration": 5,
    "start_time": "2023-09-24T05:54:38.385Z"
   },
   {
    "duration": 63,
    "start_time": "2023-09-24T05:54:38.392Z"
   },
   {
    "duration": 11,
    "start_time": "2023-09-24T05:54:38.457Z"
   },
   {
    "duration": 14,
    "start_time": "2023-09-24T05:54:38.470Z"
   },
   {
    "duration": 239,
    "start_time": "2023-09-24T05:54:38.486Z"
   },
   {
    "duration": 341,
    "start_time": "2023-09-24T05:54:38.726Z"
   },
   {
    "duration": 227,
    "start_time": "2023-09-24T05:54:39.069Z"
   },
   {
    "duration": 250,
    "start_time": "2023-09-24T05:54:39.298Z"
   },
   {
    "duration": 244,
    "start_time": "2023-09-24T05:54:39.549Z"
   },
   {
    "duration": 168,
    "start_time": "2023-09-24T05:54:39.794Z"
   },
   {
    "duration": 220,
    "start_time": "2023-09-24T05:54:39.965Z"
   },
   {
    "duration": 262,
    "start_time": "2023-09-24T05:54:40.187Z"
   },
   {
    "duration": 179,
    "start_time": "2023-09-24T05:54:40.451Z"
   },
   {
    "duration": 149,
    "start_time": "2023-09-24T05:54:40.632Z"
   },
   {
    "duration": 166,
    "start_time": "2023-09-24T05:54:40.783Z"
   },
   {
    "duration": 254,
    "start_time": "2023-09-24T05:54:40.951Z"
   },
   {
    "duration": 3,
    "start_time": "2023-09-24T05:54:41.209Z"
   },
   {
    "duration": 18,
    "start_time": "2023-09-24T05:54:41.213Z"
   },
   {
    "duration": 48,
    "start_time": "2023-09-24T05:54:41.233Z"
   },
   {
    "duration": 15,
    "start_time": "2023-09-24T05:54:41.283Z"
   },
   {
    "duration": 6,
    "start_time": "2023-09-24T05:54:41.300Z"
   },
   {
    "duration": 3,
    "start_time": "2023-09-24T05:54:41.308Z"
   },
   {
    "duration": 10,
    "start_time": "2023-09-24T05:54:41.312Z"
   },
   {
    "duration": 202,
    "start_time": "2023-09-24T05:54:41.323Z"
   },
   {
    "duration": 5,
    "start_time": "2023-09-24T05:54:41.526Z"
   },
   {
    "duration": 11,
    "start_time": "2023-09-24T05:54:41.533Z"
   },
   {
    "duration": 7,
    "start_time": "2023-09-24T05:54:41.545Z"
   },
   {
    "duration": 11,
    "start_time": "2023-09-24T05:54:41.553Z"
   },
   {
    "duration": 45,
    "start_time": "2023-09-24T05:54:41.565Z"
   },
   {
    "duration": 9,
    "start_time": "2023-09-24T05:54:41.612Z"
   },
   {
    "duration": 15,
    "start_time": "2023-09-24T05:54:41.622Z"
   },
   {
    "duration": 22,
    "start_time": "2023-09-24T05:54:41.639Z"
   },
   {
    "duration": 22,
    "start_time": "2023-09-24T05:54:41.663Z"
   },
   {
    "duration": 48536,
    "start_time": "2023-09-24T05:54:41.686Z"
   },
   {
    "duration": 0,
    "start_time": "2023-09-24T05:55:30.225Z"
   },
   {
    "duration": 0,
    "start_time": "2023-09-24T05:55:30.310Z"
   },
   {
    "duration": 0,
    "start_time": "2023-09-24T05:55:30.311Z"
   },
   {
    "duration": 0,
    "start_time": "2023-09-24T05:55:30.312Z"
   },
   {
    "duration": 0,
    "start_time": "2023-09-24T05:55:30.313Z"
   },
   {
    "duration": 0,
    "start_time": "2023-09-24T05:55:30.314Z"
   },
   {
    "duration": 0,
    "start_time": "2023-09-24T05:55:30.315Z"
   },
   {
    "duration": 0,
    "start_time": "2023-09-24T05:55:30.317Z"
   },
   {
    "duration": 0,
    "start_time": "2023-09-24T05:55:30.318Z"
   },
   {
    "duration": 0,
    "start_time": "2023-09-24T05:55:30.319Z"
   },
   {
    "duration": 0,
    "start_time": "2023-09-24T05:55:30.320Z"
   },
   {
    "duration": 0,
    "start_time": "2023-09-24T05:55:30.321Z"
   },
   {
    "duration": 3,
    "start_time": "2023-09-24T05:55:50.311Z"
   },
   {
    "duration": 5,
    "start_time": "2023-09-24T05:55:51.020Z"
   },
   {
    "duration": 5,
    "start_time": "2023-09-24T05:55:51.572Z"
   },
   {
    "duration": 36,
    "start_time": "2023-09-24T05:56:22.466Z"
   },
   {
    "duration": 56,
    "start_time": "2023-09-24T05:56:29.876Z"
   },
   {
    "duration": 3,
    "start_time": "2023-09-24T05:57:17.653Z"
   },
   {
    "duration": 13,
    "start_time": "2023-09-24T05:57:34.415Z"
   },
   {
    "duration": 11417,
    "start_time": "2023-09-24T05:57:42.766Z"
   },
   {
    "duration": 85,
    "start_time": "2023-09-24T05:59:16.815Z"
   },
   {
    "duration": 1872,
    "start_time": "2023-09-24T05:59:38.567Z"
   },
   {
    "duration": 30,
    "start_time": "2023-09-24T06:01:28.195Z"
   },
   {
    "duration": 57,
    "start_time": "2023-09-24T06:01:53.274Z"
   },
   {
    "duration": 11470,
    "start_time": "2023-09-24T06:02:28.587Z"
   },
   {
    "duration": 30,
    "start_time": "2023-09-24T06:19:39.269Z"
   },
   {
    "duration": 53,
    "start_time": "2023-09-24T06:19:46.584Z"
   },
   {
    "duration": 30,
    "start_time": "2023-09-24T06:20:00.903Z"
   },
   {
    "duration": 32,
    "start_time": "2023-09-24T06:20:08.868Z"
   },
   {
    "duration": 57,
    "start_time": "2023-09-24T06:20:09.213Z"
   },
   {
    "duration": 31,
    "start_time": "2023-09-24T06:20:16.164Z"
   },
   {
    "duration": 60,
    "start_time": "2023-09-24T06:20:16.565Z"
   },
   {
    "duration": 31,
    "start_time": "2023-09-24T06:20:20.065Z"
   },
   {
    "duration": 54,
    "start_time": "2023-09-24T06:20:20.269Z"
   },
   {
    "duration": 31,
    "start_time": "2023-09-24T06:20:29.109Z"
   },
   {
    "duration": 56,
    "start_time": "2023-09-24T06:20:29.514Z"
   },
   {
    "duration": 31,
    "start_time": "2023-09-24T06:20:37.079Z"
   },
   {
    "duration": 56,
    "start_time": "2023-09-24T06:20:37.189Z"
   },
   {
    "duration": 31,
    "start_time": "2023-09-24T06:20:44.974Z"
   },
   {
    "duration": 59,
    "start_time": "2023-09-24T06:20:45.195Z"
   },
   {
    "duration": 32,
    "start_time": "2023-09-24T06:20:50.966Z"
   },
   {
    "duration": 57,
    "start_time": "2023-09-24T06:20:51.114Z"
   },
   {
    "duration": 31,
    "start_time": "2023-09-24T06:20:54.719Z"
   },
   {
    "duration": 58,
    "start_time": "2023-09-24T06:20:54.961Z"
   },
   {
    "duration": 32,
    "start_time": "2023-09-24T06:21:01.278Z"
   },
   {
    "duration": 58,
    "start_time": "2023-09-24T06:21:01.381Z"
   },
   {
    "duration": 32,
    "start_time": "2023-09-24T06:21:10.553Z"
   },
   {
    "duration": 55,
    "start_time": "2023-09-24T06:21:10.710Z"
   },
   {
    "duration": 31,
    "start_time": "2023-09-24T06:21:14.914Z"
   },
   {
    "duration": 58,
    "start_time": "2023-09-24T06:21:15.075Z"
   },
   {
    "duration": 30,
    "start_time": "2023-09-24T06:21:20.619Z"
   },
   {
    "duration": 55,
    "start_time": "2023-09-24T06:21:20.782Z"
   },
   {
    "duration": 30,
    "start_time": "2023-09-24T06:21:31.981Z"
   },
   {
    "duration": 61,
    "start_time": "2023-09-24T06:21:32.172Z"
   },
   {
    "duration": 32,
    "start_time": "2023-09-24T06:21:38.557Z"
   },
   {
    "duration": 57,
    "start_time": "2023-09-24T06:21:38.668Z"
   },
   {
    "duration": 29,
    "start_time": "2023-09-24T06:21:47.365Z"
   },
   {
    "duration": 54,
    "start_time": "2023-09-24T06:21:47.477Z"
   },
   {
    "duration": 54,
    "start_time": "2023-09-24T06:22:03.977Z"
   },
   {
    "duration": 56,
    "start_time": "2023-09-24T06:22:04.999Z"
   },
   {
    "duration": 55,
    "start_time": "2023-09-24T06:22:06.082Z"
   },
   {
    "duration": 54,
    "start_time": "2023-09-24T06:22:06.965Z"
   },
   {
    "duration": 56,
    "start_time": "2023-09-24T06:22:07.585Z"
   },
   {
    "duration": 55,
    "start_time": "2023-09-24T06:22:07.909Z"
   },
   {
    "duration": 55,
    "start_time": "2023-09-24T06:22:08.269Z"
   },
   {
    "duration": 30,
    "start_time": "2023-09-24T06:22:19.509Z"
   },
   {
    "duration": 57,
    "start_time": "2023-09-24T06:22:20.114Z"
   },
   {
    "duration": 57,
    "start_time": "2023-09-24T06:22:21.365Z"
   },
   {
    "duration": 56,
    "start_time": "2023-09-24T06:22:22.184Z"
   },
   {
    "duration": 56,
    "start_time": "2023-09-24T06:22:22.799Z"
   },
   {
    "duration": 55,
    "start_time": "2023-09-24T06:22:23.866Z"
   },
   {
    "duration": 56,
    "start_time": "2023-09-24T06:22:24.575Z"
   },
   {
    "duration": 55,
    "start_time": "2023-09-24T06:22:49.874Z"
   },
   {
    "duration": 12,
    "start_time": "2023-09-24T06:24:07.262Z"
   },
   {
    "duration": 8,
    "start_time": "2023-09-24T06:24:14.613Z"
   },
   {
    "duration": 204,
    "start_time": "2023-09-24T06:24:24.093Z"
   },
   {
    "duration": 494,
    "start_time": "2023-09-24T06:24:39.165Z"
   },
   {
    "duration": 210,
    "start_time": "2023-09-24T06:24:52.174Z"
   },
   {
    "duration": 214,
    "start_time": "2023-09-24T06:25:01.672Z"
   },
   {
    "duration": 199,
    "start_time": "2023-09-24T06:25:07.823Z"
   },
   {
    "duration": 213,
    "start_time": "2023-09-24T06:25:14.219Z"
   },
   {
    "duration": 224,
    "start_time": "2023-09-24T06:25:30.598Z"
   },
   {
    "duration": 203,
    "start_time": "2023-09-24T06:25:37.176Z"
   },
   {
    "duration": 196,
    "start_time": "2023-09-24T06:25:47.056Z"
   },
   {
    "duration": 31,
    "start_time": "2023-09-24T06:26:19.369Z"
   },
   {
    "duration": 55,
    "start_time": "2023-09-24T06:26:19.509Z"
   },
   {
    "duration": 32,
    "start_time": "2023-09-24T06:26:24.984Z"
   },
   {
    "duration": 59,
    "start_time": "2023-09-24T06:26:25.199Z"
   },
   {
    "duration": 31,
    "start_time": "2023-09-24T06:26:33.494Z"
   },
   {
    "duration": 54,
    "start_time": "2023-09-24T06:26:33.584Z"
   },
   {
    "duration": 31,
    "start_time": "2023-09-24T06:26:45.762Z"
   },
   {
    "duration": 58,
    "start_time": "2023-09-24T06:26:45.904Z"
   },
   {
    "duration": 30,
    "start_time": "2023-09-24T06:27:06.454Z"
   },
   {
    "duration": 55,
    "start_time": "2023-09-24T06:27:06.614Z"
   },
   {
    "duration": 30,
    "start_time": "2023-09-24T06:27:24.794Z"
   },
   {
    "duration": 55,
    "start_time": "2023-09-24T06:27:25.045Z"
   },
   {
    "duration": 31,
    "start_time": "2023-09-24T06:27:29.173Z"
   },
   {
    "duration": 56,
    "start_time": "2023-09-24T06:27:29.352Z"
   },
   {
    "duration": 159,
    "start_time": "2023-09-24T06:27:54.588Z"
   },
   {
    "duration": 136,
    "start_time": "2023-09-24T06:28:03.758Z"
   },
   {
    "duration": 144,
    "start_time": "2023-09-24T06:28:32.548Z"
   },
   {
    "duration": 154,
    "start_time": "2023-09-24T06:28:52.709Z"
   },
   {
    "duration": 162,
    "start_time": "2023-09-24T06:29:16.709Z"
   },
   {
    "duration": 140,
    "start_time": "2023-09-24T06:29:39.746Z"
   },
   {
    "duration": 121,
    "start_time": "2023-09-24T06:29:58.757Z"
   },
   {
    "duration": 139,
    "start_time": "2023-09-24T06:30:03.613Z"
   },
   {
    "duration": 21,
    "start_time": "2023-09-24T06:31:10.274Z"
   },
   {
    "duration": 33,
    "start_time": "2023-09-24T06:31:10.413Z"
   },
   {
    "duration": 33,
    "start_time": "2023-09-24T06:31:38.389Z"
   },
   {
    "duration": 34,
    "start_time": "2023-09-24T06:31:39.279Z"
   },
   {
    "duration": 33,
    "start_time": "2023-09-24T06:31:40.055Z"
   },
   {
    "duration": 32,
    "start_time": "2023-09-24T06:31:40.757Z"
   },
   {
    "duration": 33,
    "start_time": "2023-09-24T06:31:41.513Z"
   },
   {
    "duration": 35,
    "start_time": "2023-09-24T06:31:42.558Z"
   },
   {
    "duration": 32,
    "start_time": "2023-09-24T06:31:43.174Z"
   },
   {
    "duration": 32,
    "start_time": "2023-09-24T06:31:43.993Z"
   },
   {
    "duration": 34,
    "start_time": "2023-09-24T06:32:05.155Z"
   },
   {
    "duration": 32,
    "start_time": "2023-09-24T06:32:15.584Z"
   },
   {
    "duration": 33,
    "start_time": "2023-09-24T06:32:17.253Z"
   },
   {
    "duration": 6182,
    "start_time": "2023-09-24T06:32:53.064Z"
   },
   {
    "duration": 6145,
    "start_time": "2023-09-24T06:33:13.673Z"
   },
   {
    "duration": 6148,
    "start_time": "2023-09-24T06:33:21.383Z"
   },
   {
    "duration": 96,
    "start_time": "2023-09-24T06:34:14.578Z"
   },
   {
    "duration": 41400,
    "start_time": "2023-09-24T06:34:14.679Z"
   },
   {
    "duration": 29,
    "start_time": "2023-09-24T06:35:13.272Z"
   },
   {
    "duration": 11450,
    "start_time": "2023-09-24T06:35:13.393Z"
   },
   {
    "duration": 31,
    "start_time": "2023-09-24T06:35:34.414Z"
   },
   {
    "duration": 11450,
    "start_time": "2023-09-24T06:35:34.568Z"
   },
   {
    "duration": 31,
    "start_time": "2023-09-24T06:36:01.961Z"
   },
   {
    "duration": 11375,
    "start_time": "2023-09-24T06:36:02.063Z"
   },
   {
    "duration": 30,
    "start_time": "2023-09-24T06:36:20.114Z"
   },
   {
    "duration": 11375,
    "start_time": "2023-09-24T06:36:20.372Z"
   },
   {
    "duration": 21,
    "start_time": "2023-09-24T06:36:51.465Z"
   },
   {
    "duration": 6144,
    "start_time": "2023-09-24T06:36:51.679Z"
   },
   {
    "duration": 33,
    "start_time": "2023-09-24T06:37:05.276Z"
   },
   {
    "duration": 11410,
    "start_time": "2023-09-24T06:37:06.563Z"
   },
   {
    "duration": 411,
    "start_time": "2023-09-24T06:37:22.552Z"
   },
   {
    "duration": 184438,
    "start_time": "2023-09-24T06:37:22.965Z"
   },
   {
    "duration": 32,
    "start_time": "2023-09-24T06:41:18.819Z"
   },
   {
    "duration": 11407,
    "start_time": "2023-09-24T06:41:18.959Z"
   },
   {
    "duration": 1725,
    "start_time": "2023-09-24T06:42:03.568Z"
   },
   {
    "duration": 106,
    "start_time": "2023-09-24T06:42:46.557Z"
   },
   {
    "duration": 5023,
    "start_time": "2023-09-24T06:42:46.693Z"
   },
   {
    "duration": 878,
    "start_time": "2023-09-24T06:43:12.978Z"
   },
   {
    "duration": 33985,
    "start_time": "2023-09-24T06:43:13.859Z"
   },
   {
    "duration": 78,
    "start_time": "2023-09-24T06:43:57.014Z"
   },
   {
    "duration": 4441,
    "start_time": "2023-09-24T06:43:57.124Z"
   },
   {
    "duration": 31,
    "start_time": "2023-09-24T06:44:14.599Z"
   },
   {
    "duration": 1815,
    "start_time": "2023-09-24T06:44:14.714Z"
   },
   {
    "duration": 11,
    "start_time": "2023-09-24T06:44:41.028Z"
   },
   {
    "duration": 398651,
    "start_time": "2023-09-24T06:44:46.453Z"
   },
   {
    "duration": 1616,
    "start_time": "2023-09-24T08:34:39.659Z"
   },
   {
    "duration": 53,
    "start_time": "2023-09-24T08:37:15.147Z"
   },
   {
    "duration": 12,
    "start_time": "2023-09-24T08:37:19.074Z"
   },
   {
    "duration": 12,
    "start_time": "2023-09-24T08:37:27.660Z"
   },
   {
    "duration": 9,
    "start_time": "2023-09-24T08:38:07.628Z"
   },
   {
    "duration": 167,
    "start_time": "2023-09-24T08:39:24.807Z"
   },
   {
    "duration": 103,
    "start_time": "2023-09-24T08:39:41.569Z"
   },
   {
    "duration": 147,
    "start_time": "2023-09-24T08:40:14.329Z"
   },
   {
    "duration": 142,
    "start_time": "2023-09-24T08:40:40.846Z"
   },
   {
    "duration": 139,
    "start_time": "2023-09-24T08:40:56.790Z"
   },
   {
    "duration": 325,
    "start_time": "2023-09-24T08:42:45.830Z"
   },
   {
    "duration": 320,
    "start_time": "2023-09-24T08:45:23.800Z"
   },
   {
    "duration": 332,
    "start_time": "2023-09-24T08:47:39.205Z"
   },
   {
    "duration": 328,
    "start_time": "2023-09-24T08:48:02.781Z"
   },
   {
    "duration": 642,
    "start_time": "2023-09-24T08:48:12.317Z"
   },
   {
    "duration": 610,
    "start_time": "2023-09-24T08:48:22.199Z"
   },
   {
    "duration": 520,
    "start_time": "2023-09-24T08:48:27.914Z"
   },
   {
    "duration": 362,
    "start_time": "2023-09-24T08:48:42.163Z"
   },
   {
    "duration": 708,
    "start_time": "2023-09-24T08:50:32.127Z"
   },
   {
    "duration": 252,
    "start_time": "2023-09-24T08:52:24.426Z"
   },
   {
    "duration": 231,
    "start_time": "2023-09-24T08:52:35.698Z"
   },
   {
    "duration": 153,
    "start_time": "2023-09-24T08:53:01.136Z"
   },
   {
    "duration": 157,
    "start_time": "2023-09-24T08:53:10.807Z"
   },
   {
    "duration": 157,
    "start_time": "2023-09-24T08:53:22.969Z"
   },
   {
    "duration": 161,
    "start_time": "2023-09-24T08:53:52.702Z"
   },
   {
    "duration": 174,
    "start_time": "2023-09-24T08:59:15.532Z"
   },
   {
    "duration": 232,
    "start_time": "2023-09-24T08:59:20.501Z"
   },
   {
    "duration": 230,
    "start_time": "2023-09-24T11:08:14.569Z"
   },
   {
    "duration": 245,
    "start_time": "2023-09-24T11:10:27.679Z"
   },
   {
    "duration": 196,
    "start_time": "2023-09-24T11:11:02.561Z"
   },
   {
    "duration": 135,
    "start_time": "2023-09-24T11:11:09.172Z"
   },
   {
    "duration": 155,
    "start_time": "2023-09-24T11:11:20.379Z"
   },
   {
    "duration": 165,
    "start_time": "2023-09-24T11:11:22.711Z"
   },
   {
    "duration": 144,
    "start_time": "2023-09-24T11:11:37.384Z"
   },
   {
    "duration": 5,
    "start_time": "2023-09-24T11:20:29.839Z"
   },
   {
    "duration": 55,
    "start_time": "2023-09-24T11:24:05.488Z"
   },
   {
    "duration": 56,
    "start_time": "2023-09-24T11:24:39.933Z"
   },
   {
    "duration": 51,
    "start_time": "2023-09-24T11:25:03.724Z"
   },
   {
    "duration": 60,
    "start_time": "2023-09-24T11:25:39.321Z"
   },
   {
    "duration": 5,
    "start_time": "2023-09-24T11:26:37.827Z"
   },
   {
    "duration": 8,
    "start_time": "2023-09-24T11:33:21.582Z"
   },
   {
    "duration": 614,
    "start_time": "2023-09-24T11:36:12.999Z"
   },
   {
    "duration": 89,
    "start_time": "2023-09-24T11:47:20.371Z"
   },
   {
    "duration": 89,
    "start_time": "2023-09-24T11:47:32.361Z"
   },
   {
    "duration": 1408,
    "start_time": "2023-09-24T11:47:39.219Z"
   },
   {
    "duration": 1407,
    "start_time": "2023-09-24T11:48:32.262Z"
   },
   {
    "duration": 4,
    "start_time": "2023-09-24T13:09:00.106Z"
   },
   {
    "duration": 4,
    "start_time": "2023-09-24T13:09:00.270Z"
   },
   {
    "duration": 5,
    "start_time": "2023-09-24T13:09:02.812Z"
   },
   {
    "duration": 7,
    "start_time": "2023-09-24T13:09:22.576Z"
   },
   {
    "duration": 7,
    "start_time": "2023-09-24T13:09:22.699Z"
   },
   {
    "duration": 546865,
    "start_time": "2023-09-24T13:09:25.460Z"
   },
   {
    "duration": 2,
    "start_time": "2023-09-24T13:19:18.880Z"
   },
   {
    "duration": 420254,
    "start_time": "2023-09-24T13:19:28.431Z"
   },
   {
    "duration": 2992,
    "start_time": "2023-09-25T04:19:41.696Z"
   },
   {
    "duration": 2801,
    "start_time": "2023-09-25T04:19:44.691Z"
   },
   {
    "duration": 2510,
    "start_time": "2023-09-25T04:19:47.494Z"
   },
   {
    "duration": 8,
    "start_time": "2023-09-25T04:19:50.006Z"
   },
   {
    "duration": 146,
    "start_time": "2023-09-25T04:19:50.018Z"
   },
   {
    "duration": 10,
    "start_time": "2023-09-25T04:19:50.166Z"
   },
   {
    "duration": 53,
    "start_time": "2023-09-25T04:19:50.177Z"
   },
   {
    "duration": 9,
    "start_time": "2023-09-25T04:19:50.233Z"
   },
   {
    "duration": 180,
    "start_time": "2023-09-25T04:19:50.244Z"
   },
   {
    "duration": 271,
    "start_time": "2023-09-25T04:19:50.427Z"
   },
   {
    "duration": 399,
    "start_time": "2023-09-25T04:19:50.700Z"
   },
   {
    "duration": 191,
    "start_time": "2023-09-25T04:19:51.101Z"
   },
   {
    "duration": 4,
    "start_time": "2023-09-25T04:19:51.294Z"
   },
   {
    "duration": 90,
    "start_time": "2023-09-25T04:19:51.301Z"
   },
   {
    "duration": 9,
    "start_time": "2023-09-25T04:19:51.393Z"
   },
   {
    "duration": 706,
    "start_time": "2023-09-25T04:19:51.404Z"
   },
   {
    "duration": 1497,
    "start_time": "2023-09-25T04:19:52.115Z"
   },
   {
    "duration": 7,
    "start_time": "2023-09-25T04:19:53.615Z"
   },
   {
    "duration": 4,
    "start_time": "2023-09-25T04:26:05.675Z"
   },
   {
    "duration": 4,
    "start_time": "2023-09-25T04:26:06.978Z"
   },
   {
    "duration": 3,
    "start_time": "2023-09-25T04:26:08.038Z"
   },
   {
    "duration": 5,
    "start_time": "2023-09-25T04:26:08.942Z"
   },
   {
    "duration": 8,
    "start_time": "2023-09-25T04:26:09.411Z"
   },
   {
    "duration": 559378,
    "start_time": "2023-09-25T04:26:33.384Z"
   },
   {
    "duration": 41,
    "start_time": "2023-09-25T05:16:03.730Z"
   },
   {
    "duration": 35,
    "start_time": "2023-09-25T05:16:33.741Z"
   },
   {
    "duration": 4,
    "start_time": "2023-09-25T05:33:01.845Z"
   },
   {
    "duration": 4,
    "start_time": "2023-09-25T05:38:40.826Z"
   },
   {
    "duration": 11948,
    "start_time": "2023-09-25T05:40:11.505Z"
   },
   {
    "duration": 11395,
    "start_time": "2023-09-25T05:40:34.251Z"
   },
   {
    "duration": 233,
    "start_time": "2023-09-25T05:43:56.663Z"
   },
   {
    "duration": 376,
    "start_time": "2023-09-25T05:44:24.143Z"
   },
   {
    "duration": 43,
    "start_time": "2023-09-25T05:54:16.351Z"
   },
   {
    "duration": 35,
    "start_time": "2023-09-25T05:56:34.895Z"
   },
   {
    "duration": 10,
    "start_time": "2023-09-25T05:56:48.197Z"
   },
   {
    "duration": 11,
    "start_time": "2023-09-25T05:56:55.653Z"
   },
   {
    "duration": 9,
    "start_time": "2023-09-25T05:58:04.129Z"
   },
   {
    "duration": 5,
    "start_time": "2023-09-25T05:58:13.521Z"
   },
   {
    "duration": 17,
    "start_time": "2023-09-25T05:58:15.820Z"
   },
   {
    "duration": 11,
    "start_time": "2023-09-25T05:58:26.310Z"
   },
   {
    "duration": 6,
    "start_time": "2023-09-25T05:58:40.696Z"
   },
   {
    "duration": 4,
    "start_time": "2023-09-25T05:59:09.989Z"
   },
   {
    "duration": 5,
    "start_time": "2023-09-25T05:59:15.565Z"
   },
   {
    "duration": 4,
    "start_time": "2023-09-25T06:21:12.160Z"
   },
   {
    "duration": 7,
    "start_time": "2023-09-25T06:21:31.533Z"
   },
   {
    "duration": 9,
    "start_time": "2023-09-25T06:22:36.052Z"
   },
   {
    "duration": 216,
    "start_time": "2023-09-25T06:24:36.569Z"
   },
   {
    "duration": 272,
    "start_time": "2023-09-25T06:25:14.501Z"
   },
   {
    "duration": 229,
    "start_time": "2023-09-25T06:25:29.688Z"
   },
   {
    "duration": 6,
    "start_time": "2023-09-25T06:27:44.688Z"
   },
   {
    "duration": 6,
    "start_time": "2023-09-25T06:28:13.174Z"
   },
   {
    "duration": 45,
    "start_time": "2023-09-25T06:28:43.004Z"
   },
   {
    "duration": 7,
    "start_time": "2023-09-25T06:29:01.638Z"
   },
   {
    "duration": 46,
    "start_time": "2023-09-25T06:31:34.088Z"
   },
   {
    "duration": 6,
    "start_time": "2023-09-25T06:31:40.339Z"
   },
   {
    "duration": 4,
    "start_time": "2023-09-25T06:34:07.590Z"
   },
   {
    "duration": 16,
    "start_time": "2023-09-25T06:34:49.677Z"
   },
   {
    "duration": 7,
    "start_time": "2023-09-25T06:36:31.621Z"
   },
   {
    "duration": 23,
    "start_time": "2023-09-25T06:39:06.308Z"
   },
   {
    "duration": 7,
    "start_time": "2023-09-25T06:39:23.311Z"
   },
   {
    "duration": 8,
    "start_time": "2023-09-25T06:39:23.477Z"
   },
   {
    "duration": 5,
    "start_time": "2023-09-25T06:39:38.358Z"
   },
   {
    "duration": 2752,
    "start_time": "2023-09-25T07:00:00.797Z"
   },
   {
    "duration": 2734,
    "start_time": "2023-09-25T07:00:03.551Z"
   },
   {
    "duration": 2601,
    "start_time": "2023-09-25T07:00:06.288Z"
   },
   {
    "duration": 2756,
    "start_time": "2023-09-25T07:00:08.892Z"
   },
   {
    "duration": 147,
    "start_time": "2023-09-25T07:00:11.651Z"
   },
   {
    "duration": 13,
    "start_time": "2023-09-25T07:00:11.800Z"
   },
   {
    "duration": 20,
    "start_time": "2023-09-25T07:00:11.816Z"
   },
   {
    "duration": 13,
    "start_time": "2023-09-25T07:00:11.838Z"
   },
   {
    "duration": 210,
    "start_time": "2023-09-25T07:00:11.853Z"
   },
   {
    "duration": 277,
    "start_time": "2023-09-25T07:00:12.065Z"
   },
   {
    "duration": 462,
    "start_time": "2023-09-25T07:00:12.345Z"
   },
   {
    "duration": 200,
    "start_time": "2023-09-25T07:00:12.813Z"
   },
   {
    "duration": 8,
    "start_time": "2023-09-25T07:00:13.016Z"
   },
   {
    "duration": 79,
    "start_time": "2023-09-25T07:00:13.031Z"
   },
   {
    "duration": 12,
    "start_time": "2023-09-25T07:00:13.112Z"
   },
   {
    "duration": 593,
    "start_time": "2023-09-25T07:00:13.125Z"
   },
   {
    "duration": 1528,
    "start_time": "2023-09-25T07:00:13.721Z"
   },
   {
    "duration": 3,
    "start_time": "2023-09-25T07:00:15.252Z"
   },
   {
    "duration": 55,
    "start_time": "2023-09-25T07:00:15.257Z"
   },
   {
    "duration": 5,
    "start_time": "2023-09-25T07:00:15.315Z"
   },
   {
    "duration": 20,
    "start_time": "2023-09-25T07:00:15.325Z"
   },
   {
    "duration": 62,
    "start_time": "2023-09-25T07:00:15.348Z"
   },
   {
    "duration": 2713,
    "start_time": "2023-09-25T07:01:21.980Z"
   },
   {
    "duration": 2723,
    "start_time": "2023-09-25T07:01:24.695Z"
   },
   {
    "duration": 2515,
    "start_time": "2023-09-25T07:01:27.421Z"
   },
   {
    "duration": 1800,
    "start_time": "2023-09-25T07:01:29.939Z"
   },
   {
    "duration": 137,
    "start_time": "2023-09-25T07:01:31.742Z"
   },
   {
    "duration": 12,
    "start_time": "2023-09-25T07:01:31.880Z"
   },
   {
    "duration": 35,
    "start_time": "2023-09-25T07:01:31.893Z"
   },
   {
    "duration": 58,
    "start_time": "2023-09-25T07:01:31.930Z"
   },
   {
    "duration": 189,
    "start_time": "2023-09-25T07:01:31.990Z"
   },
   {
    "duration": 263,
    "start_time": "2023-09-25T07:01:32.181Z"
   },
   {
    "duration": 421,
    "start_time": "2023-09-25T07:01:32.446Z"
   },
   {
    "duration": 192,
    "start_time": "2023-09-25T07:01:32.869Z"
   },
   {
    "duration": 4,
    "start_time": "2023-09-25T07:01:33.062Z"
   },
   {
    "duration": 93,
    "start_time": "2023-09-25T07:01:33.069Z"
   },
   {
    "duration": 8,
    "start_time": "2023-09-25T07:01:33.164Z"
   },
   {
    "duration": 254,
    "start_time": "2023-09-25T07:01:33.173Z"
   },
   {
    "duration": 1514,
    "start_time": "2023-09-25T07:01:33.429Z"
   },
   {
    "duration": 4,
    "start_time": "2023-09-25T07:01:34.944Z"
   },
   {
    "duration": 9,
    "start_time": "2023-09-25T07:01:34.949Z"
   },
   {
    "duration": 8,
    "start_time": "2023-09-25T07:01:34.959Z"
   },
   {
    "duration": 22,
    "start_time": "2023-09-25T07:01:34.969Z"
   },
   {
    "duration": 7,
    "start_time": "2023-09-25T07:01:34.993Z"
   },
   {
    "duration": 12,
    "start_time": "2023-09-25T07:01:35.002Z"
   },
   {
    "duration": 7,
    "start_time": "2023-09-25T07:01:35.017Z"
   },
   {
    "duration": 6,
    "start_time": "2023-09-25T07:01:35.027Z"
   },
   {
    "duration": 11,
    "start_time": "2023-09-25T07:01:35.035Z"
   },
   {
    "duration": 9,
    "start_time": "2023-09-25T07:01:35.048Z"
   },
   {
    "duration": 81,
    "start_time": "2023-09-25T12:57:45.548Z"
   },
   {
    "duration": 2451,
    "start_time": "2023-09-25T12:58:40.792Z"
   },
   {
    "duration": 2284,
    "start_time": "2023-09-25T12:58:43.245Z"
   },
   {
    "duration": 6300,
    "start_time": "2023-09-25T12:58:45.531Z"
   },
   {
    "duration": 1899,
    "start_time": "2023-09-25T12:58:51.833Z"
   },
   {
    "duration": 195,
    "start_time": "2023-09-25T12:58:53.734Z"
   },
   {
    "duration": 10,
    "start_time": "2023-09-25T12:58:53.931Z"
   },
   {
    "duration": 27,
    "start_time": "2023-09-25T12:58:53.942Z"
   },
   {
    "duration": 22,
    "start_time": "2023-09-25T12:58:53.971Z"
   },
   {
    "duration": 139,
    "start_time": "2023-09-25T12:58:53.995Z"
   },
   {
    "duration": 208,
    "start_time": "2023-09-25T12:58:54.135Z"
   },
   {
    "duration": 406,
    "start_time": "2023-09-25T12:58:54.345Z"
   },
   {
    "duration": 157,
    "start_time": "2023-09-25T12:58:54.753Z"
   },
   {
    "duration": 3,
    "start_time": "2023-09-25T12:58:54.912Z"
   },
   {
    "duration": 66,
    "start_time": "2023-09-25T12:58:54.918Z"
   },
   {
    "duration": 6,
    "start_time": "2023-09-25T12:58:54.986Z"
   },
   {
    "duration": 550,
    "start_time": "2023-09-25T12:58:54.994Z"
   },
   {
    "duration": 1215,
    "start_time": "2023-09-25T12:58:55.546Z"
   },
   {
    "duration": 3,
    "start_time": "2023-09-25T12:58:56.762Z"
   },
   {
    "duration": 25,
    "start_time": "2023-09-25T12:58:56.767Z"
   },
   {
    "duration": 5,
    "start_time": "2023-09-25T12:58:56.794Z"
   },
   {
    "duration": 5,
    "start_time": "2023-09-25T12:58:56.800Z"
   },
   {
    "duration": 29,
    "start_time": "2023-09-25T12:58:56.807Z"
   },
   {
    "duration": 18,
    "start_time": "2023-09-25T12:58:56.838Z"
   },
   {
    "duration": 30,
    "start_time": "2023-09-25T12:58:56.858Z"
   },
   {
    "duration": 10,
    "start_time": "2023-09-25T12:58:56.889Z"
   },
   {
    "duration": 24,
    "start_time": "2023-09-25T12:58:56.900Z"
   },
   {
    "duration": 5,
    "start_time": "2023-09-25T12:58:56.926Z"
   },
   {
    "duration": 10475,
    "start_time": "2023-09-25T12:58:56.933Z"
   },
   {
    "duration": 314,
    "start_time": "2023-09-25T12:59:07.409Z"
   },
   {
    "duration": 7,
    "start_time": "2023-09-25T12:59:07.725Z"
   },
   {
    "duration": 13,
    "start_time": "2023-09-25T12:59:07.734Z"
   },
   {
    "duration": 10,
    "start_time": "2023-09-25T12:59:07.748Z"
   },
   {
    "duration": 271,
    "start_time": "2023-09-25T12:59:07.759Z"
   },
   {
    "duration": 14,
    "start_time": "2023-09-25T12:59:08.031Z"
   },
   {
    "duration": 15,
    "start_time": "2023-09-25T12:59:08.046Z"
   },
   {
    "duration": 26,
    "start_time": "2023-09-25T12:59:08.063Z"
   },
   {
    "duration": 5,
    "start_time": "2023-09-25T12:59:08.091Z"
   },
   {
    "duration": 4,
    "start_time": "2023-09-25T12:59:14.352Z"
   },
   {
    "duration": 7,
    "start_time": "2023-09-25T13:00:57.127Z"
   },
   {
    "duration": 134,
    "start_time": "2023-09-25T13:01:11.364Z"
   },
   {
    "duration": 7,
    "start_time": "2023-09-25T13:04:20.538Z"
   },
   {
    "duration": 8,
    "start_time": "2023-09-25T13:04:26.612Z"
   },
   {
    "duration": 8,
    "start_time": "2023-09-25T13:04:37.664Z"
   },
   {
    "duration": 4,
    "start_time": "2023-09-25T13:05:18.722Z"
   },
   {
    "duration": 224,
    "start_time": "2023-09-25T13:05:29.112Z"
   },
   {
    "duration": 253,
    "start_time": "2023-09-25T13:05:48.904Z"
   },
   {
    "duration": 239,
    "start_time": "2023-09-25T13:05:57.568Z"
   },
   {
    "duration": 253,
    "start_time": "2023-09-25T13:06:03.448Z"
   },
   {
    "duration": 217,
    "start_time": "2023-09-25T13:06:10.429Z"
   },
   {
    "duration": 284,
    "start_time": "2023-09-25T13:06:33.468Z"
   },
   {
    "duration": 285,
    "start_time": "2023-09-25T13:06:44.557Z"
   },
   {
    "duration": 196,
    "start_time": "2023-09-25T13:07:30.594Z"
   },
   {
    "duration": 242,
    "start_time": "2023-09-25T13:07:51.806Z"
   },
   {
    "duration": 191,
    "start_time": "2023-09-25T13:07:57.217Z"
   },
   {
    "duration": 188,
    "start_time": "2023-09-25T13:09:03.376Z"
   },
   {
    "duration": 3,
    "start_time": "2023-09-25T13:09:32.410Z"
   },
   {
    "duration": 192,
    "start_time": "2023-09-25T13:09:32.641Z"
   },
   {
    "duration": 271,
    "start_time": "2023-09-25T13:09:49.637Z"
   },
   {
    "duration": 211,
    "start_time": "2023-09-25T13:10:10.846Z"
   },
   {
    "duration": 84,
    "start_time": "2023-09-25T13:10:35.060Z"
   },
   {
    "duration": 245,
    "start_time": "2023-09-25T13:10:37.750Z"
   },
   {
    "duration": 242,
    "start_time": "2023-09-25T13:12:24.000Z"
   }
  ],
  "kernelspec": {
   "display_name": "Python 3 (ipykernel)",
   "language": "python",
   "name": "python3"
  },
  "language_info": {
   "codemirror_mode": {
    "name": "ipython",
    "version": 3
   },
   "file_extension": ".py",
   "mimetype": "text/x-python",
   "name": "python",
   "nbconvert_exporter": "python",
   "pygments_lexer": "ipython3",
   "version": "3.9.16"
  },
  "toc": {
   "base_numbering": 1,
   "nav_menu": {},
   "number_sections": true,
   "sideBar": true,
   "skip_h1_title": true,
   "title_cell": "Содержание",
   "title_sidebar": "Contents",
   "toc_cell": true,
   "toc_position": {
    "height": "calc(100% - 180px)",
    "left": "10px",
    "top": "150px",
    "width": "191px"
   },
   "toc_section_display": true,
   "toc_window_display": false
  }
 },
 "nbformat": 4,
 "nbformat_minor": 2
}
